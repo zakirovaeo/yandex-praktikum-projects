{
 "cells": [
  {
   "cell_type": "markdown",
   "metadata": {
    "id": "E0vqbgi9ay0H"
   },
   "source": [
    "# Яндекс.Музыка"
   ]
  },
  {
   "cell_type": "markdown",
   "metadata": {
    "id": "VUC88oWjTJw2"
   },
   "source": [
    "Сравнение Москвы и Петербурга окружено мифами. Например:\n",
    " * Москва — мегаполис, подчинённый жёсткому ритму рабочей недели;\n",
    " * Петербург — культурная столица, со своими вкусами.\n",
    "\n",
    "На данных Яндекс.Музыки сравнис поведение пользователей двух столиц.\n",
    "\n",
    "**Цель исследования** — проверить гипотезы:\n",
    "1. Активность пользователей зависит от дня недели. Причём в Москве и Петербурге это проявляется по-разному.\n",
    "2. В понедельник утром в Москве преобладают одни жанры, а в Петербурге — другие. Так же и вечером пятницы преобладают разные жанры — в зависимости от города. \n",
    "3. Москва и Петербург предпочитают разные жанры музыки. В Москве чаще слушают поп-музыку, в Петербурге — русский рэп.\n",
    "\n",
    "**Ход исследования**\n",
    "\n",
    " 1. Обзор данных.\n",
    " 2. Предобработка данных.\n",
    " 3. Проверка гипотез.\n",
    "\n"
   ]
  },
  {
   "cell_type": "markdown",
   "metadata": {
    "id": "Ml1hmfXC_Zcs"
   },
   "source": [
    "## Обзор данных\n",
    "\n",
    "\n"
   ]
  },
  {
   "cell_type": "code",
   "execution_count": 1,
   "metadata": {
    "id": "AXN7PHPN_Zcs"
   },
   "outputs": [],
   "source": [
    "# импорт библиотеки pandas\n",
    "import pandas as pd"
   ]
  },
  {
   "cell_type": "code",
   "execution_count": 2,
   "metadata": {
    "id": "fFVu7vqh_Zct"
   },
   "outputs": [],
   "source": [
    "# чтение файла с данными и сохранение в df\n",
    "df = pd.read_csv('datasets/yandex_music_project.csv')"
   ]
  },
  {
   "cell_type": "code",
   "execution_count": 3,
   "metadata": {
    "id": "oWTVX3gW_Zct",
    "scrolled": true
   },
   "outputs": [
    {
     "data": {
      "text/html": [
       "<div>\n",
       "<style scoped>\n",
       "    .dataframe tbody tr th:only-of-type {\n",
       "        vertical-align: middle;\n",
       "    }\n",
       "\n",
       "    .dataframe tbody tr th {\n",
       "        vertical-align: top;\n",
       "    }\n",
       "\n",
       "    .dataframe thead th {\n",
       "        text-align: right;\n",
       "    }\n",
       "</style>\n",
       "<table border=\"1\" class=\"dataframe\">\n",
       "  <thead>\n",
       "    <tr style=\"text-align: right;\">\n",
       "      <th></th>\n",
       "      <th>userID</th>\n",
       "      <th>Track</th>\n",
       "      <th>artist</th>\n",
       "      <th>genre</th>\n",
       "      <th>City</th>\n",
       "      <th>time</th>\n",
       "      <th>Day</th>\n",
       "    </tr>\n",
       "  </thead>\n",
       "  <tbody>\n",
       "    <tr>\n",
       "      <th>0</th>\n",
       "      <td>FFB692EC</td>\n",
       "      <td>Kamigata To Boots</td>\n",
       "      <td>The Mass Missile</td>\n",
       "      <td>rock</td>\n",
       "      <td>Saint-Petersburg</td>\n",
       "      <td>20:28:33</td>\n",
       "      <td>Wednesday</td>\n",
       "    </tr>\n",
       "    <tr>\n",
       "      <th>1</th>\n",
       "      <td>55204538</td>\n",
       "      <td>Delayed Because of Accident</td>\n",
       "      <td>Andreas Rönnberg</td>\n",
       "      <td>rock</td>\n",
       "      <td>Moscow</td>\n",
       "      <td>14:07:09</td>\n",
       "      <td>Friday</td>\n",
       "    </tr>\n",
       "    <tr>\n",
       "      <th>2</th>\n",
       "      <td>20EC38</td>\n",
       "      <td>Funiculì funiculà</td>\n",
       "      <td>Mario Lanza</td>\n",
       "      <td>pop</td>\n",
       "      <td>Saint-Petersburg</td>\n",
       "      <td>20:58:07</td>\n",
       "      <td>Wednesday</td>\n",
       "    </tr>\n",
       "    <tr>\n",
       "      <th>3</th>\n",
       "      <td>A3DD03C9</td>\n",
       "      <td>Dragons in the Sunset</td>\n",
       "      <td>Fire + Ice</td>\n",
       "      <td>folk</td>\n",
       "      <td>Saint-Petersburg</td>\n",
       "      <td>08:37:09</td>\n",
       "      <td>Monday</td>\n",
       "    </tr>\n",
       "    <tr>\n",
       "      <th>4</th>\n",
       "      <td>E2DC1FAE</td>\n",
       "      <td>Soul People</td>\n",
       "      <td>Space Echo</td>\n",
       "      <td>dance</td>\n",
       "      <td>Moscow</td>\n",
       "      <td>08:34:34</td>\n",
       "      <td>Monday</td>\n",
       "    </tr>\n",
       "    <tr>\n",
       "      <th>5</th>\n",
       "      <td>842029A1</td>\n",
       "      <td>Преданная</td>\n",
       "      <td>IMPERVTOR</td>\n",
       "      <td>rusrap</td>\n",
       "      <td>Saint-Petersburg</td>\n",
       "      <td>13:09:41</td>\n",
       "      <td>Friday</td>\n",
       "    </tr>\n",
       "    <tr>\n",
       "      <th>6</th>\n",
       "      <td>4CB90AA5</td>\n",
       "      <td>True</td>\n",
       "      <td>Roman Messer</td>\n",
       "      <td>dance</td>\n",
       "      <td>Moscow</td>\n",
       "      <td>13:00:07</td>\n",
       "      <td>Wednesday</td>\n",
       "    </tr>\n",
       "    <tr>\n",
       "      <th>7</th>\n",
       "      <td>F03E1C1F</td>\n",
       "      <td>Feeling This Way</td>\n",
       "      <td>Polina Griffith</td>\n",
       "      <td>dance</td>\n",
       "      <td>Moscow</td>\n",
       "      <td>20:47:49</td>\n",
       "      <td>Wednesday</td>\n",
       "    </tr>\n",
       "    <tr>\n",
       "      <th>8</th>\n",
       "      <td>8FA1D3BE</td>\n",
       "      <td>И вновь продолжается бой</td>\n",
       "      <td>NaN</td>\n",
       "      <td>ruspop</td>\n",
       "      <td>Moscow</td>\n",
       "      <td>09:17:40</td>\n",
       "      <td>Friday</td>\n",
       "    </tr>\n",
       "    <tr>\n",
       "      <th>9</th>\n",
       "      <td>E772D5C0</td>\n",
       "      <td>Pessimist</td>\n",
       "      <td>NaN</td>\n",
       "      <td>dance</td>\n",
       "      <td>Saint-Petersburg</td>\n",
       "      <td>21:20:49</td>\n",
       "      <td>Wednesday</td>\n",
       "    </tr>\n",
       "  </tbody>\n",
       "</table>\n",
       "</div>"
      ],
      "text/plain": [
       "     userID                        Track            artist   genre  \\\n",
       "0  FFB692EC            Kamigata To Boots  The Mass Missile    rock   \n",
       "1  55204538  Delayed Because of Accident  Andreas Rönnberg    rock   \n",
       "2    20EC38            Funiculì funiculà       Mario Lanza     pop   \n",
       "3  A3DD03C9        Dragons in the Sunset        Fire + Ice    folk   \n",
       "4  E2DC1FAE                  Soul People        Space Echo   dance   \n",
       "5  842029A1                    Преданная         IMPERVTOR  rusrap   \n",
       "6  4CB90AA5                         True      Roman Messer   dance   \n",
       "7  F03E1C1F             Feeling This Way   Polina Griffith   dance   \n",
       "8  8FA1D3BE     И вновь продолжается бой               NaN  ruspop   \n",
       "9  E772D5C0                    Pessimist               NaN   dance   \n",
       "\n",
       "             City        time        Day  \n",
       "0  Saint-Petersburg  20:28:33  Wednesday  \n",
       "1            Moscow  14:07:09     Friday  \n",
       "2  Saint-Petersburg  20:58:07  Wednesday  \n",
       "3  Saint-Petersburg  08:37:09     Monday  \n",
       "4            Moscow  08:34:34     Monday  \n",
       "5  Saint-Petersburg  13:09:41     Friday  \n",
       "6            Moscow  13:00:07  Wednesday  \n",
       "7            Moscow  20:47:49  Wednesday  \n",
       "8            Moscow  09:17:40     Friday  \n",
       "9  Saint-Petersburg  21:20:49  Wednesday  "
      ]
     },
     "metadata": {},
     "output_type": "display_data"
    }
   ],
   "source": [
    "# получение первых 10 строк таблицы df\n",
    "display(df.head(10))"
   ]
  },
  {
   "cell_type": "code",
   "execution_count": 4,
   "metadata": {
    "id": "DSf2kIb-_Zct",
    "scrolled": true
   },
   "outputs": [
    {
     "name": "stdout",
     "output_type": "stream",
     "text": [
      "<class 'pandas.core.frame.DataFrame'>\n",
      "RangeIndex: 65079 entries, 0 to 65078\n",
      "Data columns (total 7 columns):\n",
      " #   Column    Non-Null Count  Dtype \n",
      "---  ------    --------------  ----- \n",
      " 0     userID  65079 non-null  object\n",
      " 1   Track     63848 non-null  object\n",
      " 2   artist    57876 non-null  object\n",
      " 3   genre     63881 non-null  object\n",
      " 4     City    65079 non-null  object\n",
      " 5   time      65079 non-null  object\n",
      " 6   Day       65079 non-null  object\n",
      "dtypes: object(7)\n",
      "memory usage: 3.5+ MB\n"
     ]
    }
   ],
   "source": [
    "# получение общей информации о данных в таблице df\n",
    "df.info()"
   ]
  },
  {
   "cell_type": "markdown",
   "metadata": {
    "id": "MCB6-dXG_Zct"
   },
   "source": [
    "**Выводы**\n",
    "\n",
    "В каждой строке таблицы — данные о прослушанном треке. Часть колонок описывает саму композицию: название, исполнителя и жанр. Остальные данные рассказывают о пользователе: из какого он города, когда он слушал музыку. \n",
    "\n",
    "Предварительно можно утверждать, что, данных достаточно для проверки гипотез. Но встречаются пропуски в данных, а в названиях колонок — расхождения с хорошим стилем.\n",
    "\n",
    "Чтобы двигаться дальше, нужно устранить проблемы в данных."
   ]
  },
  {
   "cell_type": "markdown",
   "metadata": {
    "id": "SjYF6Ub9_Zct"
   },
   "source": [
    "## Предобработка данных\n"
   ]
  },
  {
   "cell_type": "markdown",
   "metadata": {
    "id": "dIaKXr29_Zct"
   },
   "source": [
    "### Стиль заголовков\n"
   ]
  },
  {
   "cell_type": "code",
   "execution_count": 5,
   "metadata": {
    "id": "oKOTdF_Q_Zct"
   },
   "outputs": [
    {
     "data": {
      "text/plain": [
       "Index(['  userID', 'Track', 'artist', 'genre', '  City  ', 'time', 'Day'], dtype='object')"
      ]
     },
     "execution_count": 5,
     "metadata": {},
     "output_type": "execute_result"
    }
   ],
   "source": [
    "# перечень названий столбцов таблицы df\n",
    "df.columns"
   ]
  },
  {
   "cell_type": "markdown",
   "metadata": {
    "id": "FPZA3ki8xe7T"
   },
   "source": []
  },
  {
   "cell_type": "markdown",
   "metadata": {
    "id": "zj5534cv_Zct"
   },
   "source": [
    "\n",
    "\n",
    "Переименуем колонки:\n",
    "* `'  userID'` → `'user_id'`;\n",
    "* `'Track'` → `'track'`;\n",
    "* `'  City  '` → `'city'`;\n",
    "* `'Day'` → `'day'`."
   ]
  },
  {
   "cell_type": "code",
   "execution_count": 6,
   "metadata": {
    "id": "ISlFqs5y_Zct"
   },
   "outputs": [],
   "source": [
    "# переименование столбцов\n",
    "df = df.rename(\n",
    "    columns ={\n",
    "        '  userID' : 'user_id', \n",
    "        'Track' : 'track', \n",
    "        '  City  ' : 'city', \n",
    "        'Day' : 'day'})"
   ]
  },
  {
   "cell_type": "code",
   "execution_count": 7,
   "metadata": {
    "id": "d4NOAmTW_Zct",
    "scrolled": true
   },
   "outputs": [
    {
     "data": {
      "text/plain": [
       "Index(['user_id', 'track', 'artist', 'genre', 'city', 'time', 'day'], dtype='object')"
      ]
     },
     "execution_count": 7,
     "metadata": {},
     "output_type": "execute_result"
    }
   ],
   "source": [
    "# проверка результатов - перечень названий столбцов\n",
    "df.columns"
   ]
  },
  {
   "cell_type": "markdown",
   "metadata": {
    "id": "5ISfbcfY_Zct"
   },
   "source": [
    "### Пропуски значений\n"
   ]
  },
  {
   "cell_type": "code",
   "execution_count": 8,
   "metadata": {
    "id": "RskX29qr_Zct"
   },
   "outputs": [
    {
     "data": {
      "text/plain": [
       "user_id       0\n",
       "track      1231\n",
       "artist     7203\n",
       "genre      1198\n",
       "city          0\n",
       "time          0\n",
       "day           0\n",
       "dtype: int64"
      ]
     },
     "execution_count": 8,
     "metadata": {},
     "output_type": "execute_result"
    }
   ],
   "source": [
    "# подсчёт пропусков\n",
    "df.isna().sum()"
   ]
  },
  {
   "cell_type": "markdown",
   "metadata": {
    "id": "qubhgnlO_Zct"
   },
   "source": [
    "Не все пропущенные значения влияют на исследование. Так в `track` и `artist` пропуски не важны для работы. Достаточно заменить их явными обозначениями.\n",
    "\n",
    "Но пропуски в `genre` могут помешать сравнению музыкальных вкусов в Москве и Санкт-Петербурге. \n",
    "* заполним и эти пропуски явными обозначениями,\n",
    "* оценим, насколько они повредят расчётам. "
   ]
  },
  {
   "cell_type": "code",
   "execution_count": 9,
   "metadata": {
    "id": "KplB5qWs_Zct"
   },
   "outputs": [],
   "source": [
    "# перебор названий столбцов в цикле и замена пропущенных значений на 'unknown'\n",
    "columns_to_replace = ['track', 'artist', 'genre']\n",
    "for column in columns_to_replace:\n",
    "    df[column] = df[column].fillna('unknown')"
   ]
  },
  {
   "cell_type": "code",
   "execution_count": 10,
   "metadata": {
    "id": "Tq4nYRX4_Zct",
    "scrolled": true
   },
   "outputs": [
    {
     "data": {
      "text/plain": [
       "user_id    0\n",
       "track      0\n",
       "artist     0\n",
       "genre      0\n",
       "city       0\n",
       "time       0\n",
       "day        0\n",
       "dtype: int64"
      ]
     },
     "execution_count": 10,
     "metadata": {},
     "output_type": "execute_result"
    }
   ],
   "source": [
    "# подсчёт пропусков\n",
    "df.isna().sum()"
   ]
  },
  {
   "cell_type": "markdown",
   "metadata": {
    "id": "BWKRtBJ3_Zct"
   },
   "source": [
    "### Дубликаты\n"
   ]
  },
  {
   "cell_type": "code",
   "execution_count": 11,
   "metadata": {
    "id": "36eES_S0_Zct"
   },
   "outputs": [
    {
     "data": {
      "text/plain": [
       "3826"
      ]
     },
     "execution_count": 11,
     "metadata": {},
     "output_type": "execute_result"
    }
   ],
   "source": [
    "# подсчёт явных дубликатов\n",
    "df.duplicated().sum()"
   ]
  },
  {
   "cell_type": "code",
   "execution_count": 12,
   "metadata": {
    "id": "exFHq6tt_Zct"
   },
   "outputs": [],
   "source": [
    "# удаление явных дубликатов (с удалением старых индексов и формированием новых)\n",
    "df = df.drop_duplicates().reset_index(drop = True)"
   ]
  },
  {
   "cell_type": "code",
   "execution_count": 13,
   "metadata": {
    "id": "-8PuNWQ0_Zct"
   },
   "outputs": [
    {
     "data": {
      "text/plain": [
       "0"
      ]
     },
     "execution_count": 13,
     "metadata": {},
     "output_type": "execute_result"
    }
   ],
   "source": [
    "# проверка на отсутствие дубликатов\n",
    "df.duplicated().sum()"
   ]
  },
  {
   "cell_type": "code",
   "execution_count": 14,
   "metadata": {
    "id": "JIUcqzZN_Zct",
    "scrolled": true
   },
   "outputs": [
    {
     "data": {
      "text/plain": [
       "array(['acid', 'acoustic', 'action', 'adult', 'africa', 'afrikaans',\n",
       "       'alternative', 'alternativepunk', 'ambient', 'americana',\n",
       "       'animated', 'anime', 'arabesk', 'arabic', 'arena',\n",
       "       'argentinetango', 'art', 'audiobook', 'author', 'avantgarde',\n",
       "       'axé', 'baile', 'balkan', 'beats', 'bigroom', 'black', 'bluegrass',\n",
       "       'blues', 'bollywood', 'bossa', 'brazilian', 'breakbeat', 'breaks',\n",
       "       'broadway', 'cantautori', 'cantopop', 'canzone', 'caribbean',\n",
       "       'caucasian', 'celtic', 'chamber', 'chanson', 'children', 'chill',\n",
       "       'chinese', 'choral', 'christian', 'christmas', 'classical',\n",
       "       'classicmetal', 'club', 'colombian', 'comedy', 'conjazz',\n",
       "       'contemporary', 'country', 'cuban', 'dance', 'dancehall',\n",
       "       'dancepop', 'dark', 'death', 'deep', 'deutschrock', 'deutschspr',\n",
       "       'dirty', 'disco', 'dnb', 'documentary', 'downbeat', 'downtempo',\n",
       "       'drum', 'dub', 'dubstep', 'eastern', 'easy', 'electronic',\n",
       "       'electropop', 'emo', 'entehno', 'epicmetal', 'estrada', 'ethnic',\n",
       "       'eurofolk', 'european', 'experimental', 'extrememetal', 'fado',\n",
       "       'fairytail', 'film', 'fitness', 'flamenco', 'folk', 'folklore',\n",
       "       'folkmetal', 'folkrock', 'folktronica', 'forró', 'frankreich',\n",
       "       'französisch', 'french', 'funk', 'future', 'gangsta', 'garage',\n",
       "       'german', 'ghazal', 'gitarre', 'glitch', 'gospel', 'gothic',\n",
       "       'grime', 'grunge', 'gypsy', 'handsup', \"hard'n'heavy\", 'hardcore',\n",
       "       'hardstyle', 'hardtechno', 'hip', 'hip-hop', 'hiphop',\n",
       "       'historisch', 'holiday', 'hop', 'horror', 'house', 'hymn', 'idm',\n",
       "       'independent', 'indian', 'indie', 'indipop', 'industrial',\n",
       "       'inspirational', 'instrumental', 'international', 'irish', 'jam',\n",
       "       'japanese', 'jazz', 'jewish', 'jpop', 'jungle', 'k-pop',\n",
       "       'karadeniz', 'karaoke', 'kayokyoku', 'korean', 'laiko', 'latin',\n",
       "       'latino', 'leftfield', 'local', 'lounge', 'loungeelectronic',\n",
       "       'lovers', 'malaysian', 'mandopop', 'marschmusik', 'meditative',\n",
       "       'mediterranean', 'melodic', 'metal', 'metalcore', 'mexican',\n",
       "       'middle', 'minimal', 'miscellaneous', 'modern', 'mood', 'mpb',\n",
       "       'muslim', 'native', 'neoklassik', 'neue', 'new', 'newage',\n",
       "       'newwave', 'nu', 'nujazz', 'numetal', 'oceania', 'old', 'opera',\n",
       "       'orchestral', 'other', 'piano', 'podcasts', 'pop', 'popdance',\n",
       "       'popelectronic', 'popeurodance', 'poprussian', 'post',\n",
       "       'posthardcore', 'postrock', 'power', 'progmetal', 'progressive',\n",
       "       'psychedelic', 'punjabi', 'punk', 'quebecois', 'ragga', 'ram',\n",
       "       'rancheras', 'rap', 'rave', 'reggae', 'reggaeton', 'regional',\n",
       "       'relax', 'religious', 'retro', 'rhythm', 'rnb', 'rnr', 'rock',\n",
       "       'rockabilly', 'rockalternative', 'rockindie', 'rockother',\n",
       "       'romance', 'roots', 'ruspop', 'rusrap', 'rusrock', 'russian',\n",
       "       'salsa', 'samba', 'scenic', 'schlager', 'self', 'sertanejo',\n",
       "       'shanson', 'shoegazing', 'showtunes', 'singer', 'ska', 'skarock',\n",
       "       'slow', 'smooth', 'soft', 'soul', 'soulful', 'sound', 'soundtrack',\n",
       "       'southern', 'specialty', 'speech', 'spiritual', 'sport',\n",
       "       'stonerrock', 'surf', 'swing', 'synthpop', 'synthrock',\n",
       "       'sängerportrait', 'tango', 'tanzorchester', 'taraftar', 'tatar',\n",
       "       'tech', 'techno', 'teen', 'thrash', 'top', 'traditional',\n",
       "       'tradjazz', 'trance', 'tribal', 'trip', 'triphop', 'tropical',\n",
       "       'türk', 'türkçe', 'ukrrock', 'unknown', 'urban', 'uzbek',\n",
       "       'variété', 'vi', 'videogame', 'vocal', 'western', 'world',\n",
       "       'worldbeat', 'ïîï', 'электроника'], dtype=object)"
      ]
     },
     "execution_count": 14,
     "metadata": {},
     "output_type": "execute_result"
    }
   ],
   "source": [
    "# Просмотр уникальных названий жанров\n",
    "df['genre'].sort_values().unique()"
   ]
  },
  {
   "cell_type": "code",
   "execution_count": 16,
   "metadata": {
    "id": "YN5i2hpmSo09"
   },
   "outputs": [],
   "source": [
    "# Устранение неявных дубликатов\n",
    "replace_wrong_genres(['hip', 'hop', 'hip-hop'], 'hiphop')"
   ]
  },
  {
   "cell_type": "code",
   "execution_count": 17,
   "metadata": {
    "id": "wvixALnFG15m",
    "scrolled": true
   },
   "outputs": [
    {
     "data": {
      "text/plain": [
       "array(['acid', 'acoustic', 'action', 'adult', 'africa', 'afrikaans',\n",
       "       'alternative', 'alternativepunk', 'ambient', 'americana',\n",
       "       'animated', 'anime', 'arabesk', 'arabic', 'arena',\n",
       "       'argentinetango', 'art', 'audiobook', 'author', 'avantgarde',\n",
       "       'axé', 'baile', 'balkan', 'beats', 'bigroom', 'black', 'bluegrass',\n",
       "       'blues', 'bollywood', 'bossa', 'brazilian', 'breakbeat', 'breaks',\n",
       "       'broadway', 'cantautori', 'cantopop', 'canzone', 'caribbean',\n",
       "       'caucasian', 'celtic', 'chamber', 'chanson', 'children', 'chill',\n",
       "       'chinese', 'choral', 'christian', 'christmas', 'classical',\n",
       "       'classicmetal', 'club', 'colombian', 'comedy', 'conjazz',\n",
       "       'contemporary', 'country', 'cuban', 'dance', 'dancehall',\n",
       "       'dancepop', 'dark', 'death', 'deep', 'deutschrock', 'deutschspr',\n",
       "       'dirty', 'disco', 'dnb', 'documentary', 'downbeat', 'downtempo',\n",
       "       'drum', 'dub', 'dubstep', 'eastern', 'easy', 'electronic',\n",
       "       'electropop', 'emo', 'entehno', 'epicmetal', 'estrada', 'ethnic',\n",
       "       'eurofolk', 'european', 'experimental', 'extrememetal', 'fado',\n",
       "       'fairytail', 'film', 'fitness', 'flamenco', 'folk', 'folklore',\n",
       "       'folkmetal', 'folkrock', 'folktronica', 'forró', 'frankreich',\n",
       "       'französisch', 'french', 'funk', 'future', 'gangsta', 'garage',\n",
       "       'german', 'ghazal', 'gitarre', 'glitch', 'gospel', 'gothic',\n",
       "       'grime', 'grunge', 'gypsy', 'handsup', \"hard'n'heavy\", 'hardcore',\n",
       "       'hardstyle', 'hardtechno', 'hiphop', 'historisch', 'holiday',\n",
       "       'horror', 'house', 'hymn', 'idm', 'independent', 'indian', 'indie',\n",
       "       'indipop', 'industrial', 'inspirational', 'instrumental',\n",
       "       'international', 'irish', 'jam', 'japanese', 'jazz', 'jewish',\n",
       "       'jpop', 'jungle', 'k-pop', 'karadeniz', 'karaoke', 'kayokyoku',\n",
       "       'korean', 'laiko', 'latin', 'latino', 'leftfield', 'local',\n",
       "       'lounge', 'loungeelectronic', 'lovers', 'malaysian', 'mandopop',\n",
       "       'marschmusik', 'meditative', 'mediterranean', 'melodic', 'metal',\n",
       "       'metalcore', 'mexican', 'middle', 'minimal', 'miscellaneous',\n",
       "       'modern', 'mood', 'mpb', 'muslim', 'native', 'neoklassik', 'neue',\n",
       "       'new', 'newage', 'newwave', 'nu', 'nujazz', 'numetal', 'oceania',\n",
       "       'old', 'opera', 'orchestral', 'other', 'piano', 'podcasts', 'pop',\n",
       "       'popdance', 'popelectronic', 'popeurodance', 'poprussian', 'post',\n",
       "       'posthardcore', 'postrock', 'power', 'progmetal', 'progressive',\n",
       "       'psychedelic', 'punjabi', 'punk', 'quebecois', 'ragga', 'ram',\n",
       "       'rancheras', 'rap', 'rave', 'reggae', 'reggaeton', 'regional',\n",
       "       'relax', 'religious', 'retro', 'rhythm', 'rnb', 'rnr', 'rock',\n",
       "       'rockabilly', 'rockalternative', 'rockindie', 'rockother',\n",
       "       'romance', 'roots', 'ruspop', 'rusrap', 'rusrock', 'russian',\n",
       "       'salsa', 'samba', 'scenic', 'schlager', 'self', 'sertanejo',\n",
       "       'shanson', 'shoegazing', 'showtunes', 'singer', 'ska', 'skarock',\n",
       "       'slow', 'smooth', 'soft', 'soul', 'soulful', 'sound', 'soundtrack',\n",
       "       'southern', 'specialty', 'speech', 'spiritual', 'sport',\n",
       "       'stonerrock', 'surf', 'swing', 'synthpop', 'synthrock',\n",
       "       'sängerportrait', 'tango', 'tanzorchester', 'taraftar', 'tatar',\n",
       "       'tech', 'techno', 'teen', 'thrash', 'top', 'traditional',\n",
       "       'tradjazz', 'trance', 'tribal', 'trip', 'triphop', 'tropical',\n",
       "       'türk', 'türkçe', 'ukrrock', 'unknown', 'urban', 'uzbek',\n",
       "       'variété', 'vi', 'videogame', 'vocal', 'western', 'world',\n",
       "       'worldbeat', 'ïîï', 'электроника'], dtype=object)"
      ]
     },
     "execution_count": 17,
     "metadata": {},
     "output_type": "execute_result"
    }
   ],
   "source": [
    "# Проверка на неявные дубликаты\n",
    "df['genre'].sort_values().unique()"
   ]
  },
  {
   "cell_type": "markdown",
   "metadata": {
    "id": "jz6a9-7HQUDd"
   },
   "source": [
    "**Выводы**\n",
    "\n",
    "Предобработка обнаружила три проблемы в данных:\n",
    "\n",
    "- нарушения в стиле заголовков,\n",
    "- пропущенные значения,\n",
    "- дубликаты — явные и неявные.\n",
    "\n",
    "Исправили заголовки, чтобы упростить работу с таблицей. Без дубликатов исследование станет более точным.\n",
    "\n",
    "Пропущенные значения заменили на `'unknown'`. Ещё предстоит увидеть, не повредят ли исследованию пропуски в колонке `genre`.\n",
    "\n",
    "Теперь можно перейти к проверке гипотез. "
   ]
  },
  {
   "cell_type": "markdown",
   "metadata": {
    "id": "WttZHXH0SqKk"
   },
   "source": [
    "## Проверка гипотез"
   ]
  },
  {
   "cell_type": "markdown",
   "metadata": {
    "id": "Im936VVi_Zcu"
   },
   "source": [
    "### Сравнение поведения пользователей двух столиц"
   ]
  },
  {
   "cell_type": "markdown",
   "metadata": {
    "id": "nwt_MuaL_Zcu"
   },
   "source": [
    "Первая гипотеза утверждает, что пользователи по-разному слушают музыку в Москве и Санкт-Петербурге. Проверим это предположение по данным о трёх днях недели — понедельнике, среде и пятнице. Для этого:\n",
    "\n",
    "* Разделим пользователей Москвы и Санкт-Петербурга\n",
    "* Сравним, сколько треков послушала каждая группа пользователей в понедельник, среду и пятницу.\n"
   ]
  },
  {
   "cell_type": "code",
   "execution_count": 18,
   "metadata": {
    "id": "0_Qs96oh_Zcu"
   },
   "outputs": [
    {
     "data": {
      "text/plain": [
       "city\n",
       "Moscow              42741\n",
       "Saint-Petersburg    18512\n",
       "Name: track, dtype: int64"
      ]
     },
     "execution_count": 18,
     "metadata": {},
     "output_type": "execute_result"
    }
   ],
   "source": [
    "# Подсчёт прослушиваний в каждом городе\n",
    "df.groupby('city')['track'].count()"
   ]
  },
  {
   "cell_type": "markdown",
   "metadata": {
    "id": "dzli3w8o_Zcu"
   },
   "source": [
    "В Москве прослушиваний больше, чем в Петербурге. Из этого не следует, что московские пользователи чаще слушают музыку. Просто самих пользователей в Москве больше.\n",
    "\n",
    "Теперь сгруппируем данные по дню недели и подсчитаем прослушивания в понедельник, среду и пятницу. \n"
   ]
  },
  {
   "cell_type": "code",
   "execution_count": 19,
   "metadata": {
    "id": "uZMKjiJz_Zcu",
    "scrolled": true
   },
   "outputs": [
    {
     "data": {
      "text/plain": [
       "day\n",
       "Friday       21840\n",
       "Monday       21354\n",
       "Wednesday    18059\n",
       "Name: track, dtype: int64"
      ]
     },
     "execution_count": 19,
     "metadata": {},
     "output_type": "execute_result"
    }
   ],
   "source": [
    "# Подсчёт прослушиваний в каждый из трёх дней\n",
    "df.groupby('day')['track'].count()"
   ]
  },
  {
   "cell_type": "markdown",
   "metadata": {
    "id": "cC2tNrlL_Zcu"
   },
   "source": [
    "В среднем пользователи из двух городов менее активны по средам. Но картина может измениться, если рассмотреть каждый город в отдельности."
   ]
  },
  {
   "cell_type": "markdown",
   "metadata": {
    "id": "POzs8bGa_Zcu"
   },
   "source": [
    "Напишем функцию, которая объединит два расчёта. Функция принимает день недели и город"
   ]
  },
  {
   "cell_type": "code",
   "execution_count": 20,
   "metadata": {
    "id": "Nz3GdQB1_Zcu"
   },
   "outputs": [],
   "source": [
    "# <создание функции number_tracks()>\n",
    "def number_tracks(day, city):\n",
    "    track_list = df[df['day'] == day]\n",
    "    track_list = track_list[track_list['city'] == city]\n",
    "    track_list_count = track_list['user_id'].count()\n",
    "    return track_list_count"
   ]
  },
  {
   "cell_type": "code",
   "execution_count": 21,
   "metadata": {
    "id": "rJcRATNQ_Zcu"
   },
   "outputs": [
    {
     "data": {
      "text/plain": [
       "15740"
      ]
     },
     "execution_count": 21,
     "metadata": {},
     "output_type": "execute_result"
    }
   ],
   "source": [
    "# количество прослушиваний в Москве по понедельникам\n",
    "number_tracks('Monday', 'Moscow')"
   ]
  },
  {
   "cell_type": "code",
   "execution_count": 22,
   "metadata": {
    "id": "hq_ncZ5T_Zcu"
   },
   "outputs": [
    {
     "data": {
      "text/plain": [
       "5614"
      ]
     },
     "execution_count": 22,
     "metadata": {},
     "output_type": "execute_result"
    }
   ],
   "source": [
    "# количество прослушиваний в Санкт-Петербурге по понедельникам\n",
    "number_tracks('Monday', 'Saint-Petersburg')"
   ]
  },
  {
   "cell_type": "code",
   "execution_count": 23,
   "metadata": {
    "id": "_NTy2VPU_Zcu"
   },
   "outputs": [
    {
     "data": {
      "text/plain": [
       "11056"
      ]
     },
     "execution_count": 23,
     "metadata": {},
     "output_type": "execute_result"
    }
   ],
   "source": [
    "# количество прослушиваний в Москве по средам\n",
    "number_tracks('Wednesday', 'Moscow')"
   ]
  },
  {
   "cell_type": "code",
   "execution_count": 24,
   "metadata": {
    "id": "j2y3TAwo_Zcu"
   },
   "outputs": [
    {
     "data": {
      "text/plain": [
       "7003"
      ]
     },
     "execution_count": 24,
     "metadata": {},
     "output_type": "execute_result"
    }
   ],
   "source": [
    "# количество прослушиваний в Санкт-Петербурге по средам\n",
    "number_tracks('Wednesday', 'Saint-Petersburg')"
   ]
  },
  {
   "cell_type": "code",
   "execution_count": 25,
   "metadata": {
    "id": "vYDw5u_K_Zcu"
   },
   "outputs": [
    {
     "data": {
      "text/plain": [
       "15945"
      ]
     },
     "execution_count": 25,
     "metadata": {},
     "output_type": "execute_result"
    }
   ],
   "source": [
    "# количество прослушиваний в Москве по пятницам\n",
    "number_tracks('Friday', 'Moscow')"
   ]
  },
  {
   "cell_type": "code",
   "execution_count": 26,
   "metadata": {
    "id": "8_yzFtW3_Zcu"
   },
   "outputs": [
    {
     "data": {
      "text/plain": [
       "5895"
      ]
     },
     "execution_count": 26,
     "metadata": {},
     "output_type": "execute_result"
    }
   ],
   "source": [
    "# количество прослушиваний в Санкт-Петербурге по пятницам\n",
    "number_tracks('Friday', 'Saint-Petersburg')"
   ]
  },
  {
   "cell_type": "markdown",
   "metadata": {
    "id": "7QXffbO-_Zcu"
   },
   "source": [
    "Создадим таблицу с городами и данными по дням недели."
   ]
  },
  {
   "cell_type": "code",
   "execution_count": 27,
   "metadata": {
    "id": "APAcLpOr_Zcu",
    "scrolled": true
   },
   "outputs": [
    {
     "data": {
      "text/html": [
       "<div>\n",
       "<style scoped>\n",
       "    .dataframe tbody tr th:only-of-type {\n",
       "        vertical-align: middle;\n",
       "    }\n",
       "\n",
       "    .dataframe tbody tr th {\n",
       "        vertical-align: top;\n",
       "    }\n",
       "\n",
       "    .dataframe thead th {\n",
       "        text-align: right;\n",
       "    }\n",
       "</style>\n",
       "<table border=\"1\" class=\"dataframe\">\n",
       "  <thead>\n",
       "    <tr style=\"text-align: right;\">\n",
       "      <th></th>\n",
       "      <th>city</th>\n",
       "      <th>monday</th>\n",
       "      <th>wednesday</th>\n",
       "      <th>friday</th>\n",
       "    </tr>\n",
       "  </thead>\n",
       "  <tbody>\n",
       "    <tr>\n",
       "      <th>0</th>\n",
       "      <td>Moscow</td>\n",
       "      <td>15740</td>\n",
       "      <td>11056</td>\n",
       "      <td>15945</td>\n",
       "    </tr>\n",
       "    <tr>\n",
       "      <th>1</th>\n",
       "      <td>Saint-Petersburg</td>\n",
       "      <td>5614</td>\n",
       "      <td>7003</td>\n",
       "      <td>5895</td>\n",
       "    </tr>\n",
       "  </tbody>\n",
       "</table>\n",
       "</div>"
      ],
      "text/plain": [
       "               city  monday  wednesday  friday\n",
       "0            Moscow   15740      11056   15945\n",
       "1  Saint-Petersburg    5614       7003    5895"
      ]
     },
     "metadata": {},
     "output_type": "display_data"
    }
   ],
   "source": [
    "# Таблица с результатами\n",
    "city_day = pd.DataFrame(data = [\n",
    "        ['Moscow', number_tracks('Monday', 'Moscow'), number_tracks('Wednesday', 'Moscow'), \n",
    "         number_tracks('Friday', 'Moscow')],\n",
    "        ['Saint-Petersburg', number_tracks('Monday', 'Saint-Petersburg'), number_tracks('Wednesday', 'Saint-Petersburg'), \n",
    "         number_tracks('Friday', 'Saint-Petersburg')]], \n",
    "        columns = ['city', 'monday', 'wednesday', 'friday'])\n",
    "display(city_day)"
   ]
  },
  {
   "cell_type": "markdown",
   "metadata": {
    "id": "-EgPIHYu_Zcu"
   },
   "source": [
    "**Выводы**\n",
    "\n",
    "Данные показывают разницу поведения пользователей:\n",
    "\n",
    "- В Москве пик прослушиваний приходится на понедельник и пятницу, а в среду заметен спад.\n",
    "- В Петербурге, наоборот, больше слушают музыку по средам. Активность в понедельник и пятницу здесь почти в равной мере уступает среде.\n",
    "\n",
    "Значит, данные говорят в пользу первой гипотезы."
   ]
  },
  {
   "cell_type": "markdown",
   "metadata": {
    "id": "atZAxtq4_Zcu"
   },
   "source": [
    "### Музыка в начале и в конце недели"
   ]
  },
  {
   "cell_type": "markdown",
   "metadata": {
    "id": "eXrQqXFH_Zcu"
   },
   "source": [
    "Согласно второй гипотезе, утром в понедельник в Москве преобладают одни жанры, а в Петербурге — другие. Так же и вечером пятницы преобладают разные жанры — в зависимости от города."
   ]
  },
  {
   "cell_type": "code",
   "execution_count": 28,
   "metadata": {
    "id": "qeaFfM_P_Zcu"
   },
   "outputs": [],
   "source": [
    "# получение таблицы moscow_general из тех строк таблицы df, \n",
    "# для которых значение в столбце 'city' равно 'Moscow'\n",
    "moscow_general = df[df['city'] == 'Moscow']"
   ]
  },
  {
   "cell_type": "code",
   "execution_count": 29,
   "metadata": {
    "id": "ORaVRKto_Zcu"
   },
   "outputs": [],
   "source": [
    "# получение таблицы spb_general из тех строк таблицы df,\n",
    "# для которых значение в столбце 'city' равно 'Saint-Petersburg'\n",
    "spb_general = df[df['city'] == 'Saint-Petersburg']"
   ]
  },
  {
   "cell_type": "markdown",
   "metadata": {
    "id": "MEJV-CX2_Zcu"
   },
   "source": [
    "Создадим функцию, которая принимает следующие параметры: \n",
    "* таблица (датафрейм) с данными,\n",
    "* день недели,\n",
    "* начальная временная метка в формате 'hh:mm', \n",
    "* последняя временная метка в формате 'hh:mm'.\n",
    "\n",
    "Функция возвращет информацию о топ-10 жанров тех треков, которые прослушивали в указанный день, в промежутке между двумя отметками времени."
   ]
  },
  {
   "cell_type": "code",
   "execution_count": 30,
   "metadata": {
    "id": "laJT9BYl_Zcu"
   },
   "outputs": [],
   "source": [
    "# Объявление функции genre_weekday() с параметрами table, day, time1, time2,\n",
    "def genre_weekday(table, day, time1, time2):\n",
    "    genre_df = table[table['day'] == day]\n",
    "    genre_df = genre_df[genre_df['time'] > time1]\n",
    "    genre_df = genre_df[genre_df['time'] < time2]    \n",
    "    genre_df_count = genre_df.groupby('genre')['track'].count()\n",
    "    genre_df_sorted = genre_df_count.sort_values(ascending = False)\n",
    "    return genre_df_sorted.head(10)"
   ]
  },
  {
   "cell_type": "markdown",
   "metadata": {
    "id": "la2s2_PF_Zcu"
   },
   "source": [
    "Cравним результаты функции `genre_weekday()` для Москвы и Санкт-Петербурга в понедельник утром (с 7:00 до 11:00) и в пятницу вечером (с 17:00 до 23:00):"
   ]
  },
  {
   "cell_type": "code",
   "execution_count": 31,
   "metadata": {
    "id": "yz7itPUQ_Zcu"
   },
   "outputs": [
    {
     "data": {
      "text/plain": [
       "genre\n",
       "pop            781\n",
       "dance          549\n",
       "electronic     480\n",
       "rock           474\n",
       "hiphop         286\n",
       "ruspop         186\n",
       "world          181\n",
       "rusrap         175\n",
       "alternative    164\n",
       "unknown        161\n",
       "Name: track, dtype: int64"
      ]
     },
     "execution_count": 31,
     "metadata": {},
     "output_type": "execute_result"
    }
   ],
   "source": [
    "# вызов функции для утра понедельника в Москве (вместо df — таблица moscow_general)\n",
    "# объекты, хранящие время, являются строками и сравниваются как строки\n",
    "genre_weekday(moscow_general, 'Monday', '07:00', '11:00')"
   ]
  },
  {
   "cell_type": "code",
   "execution_count": 32,
   "metadata": {
    "id": "kwUcHPdy_Zcu"
   },
   "outputs": [
    {
     "data": {
      "text/plain": [
       "genre\n",
       "pop            218\n",
       "dance          182\n",
       "rock           162\n",
       "electronic     147\n",
       "hiphop          80\n",
       "ruspop          64\n",
       "alternative     58\n",
       "rusrap          55\n",
       "jazz            44\n",
       "classical       40\n",
       "Name: track, dtype: int64"
      ]
     },
     "execution_count": 32,
     "metadata": {},
     "output_type": "execute_result"
    }
   ],
   "source": [
    "# вызов функции для утра понедельника в Петербурге (вместо df — таблица spb_general)\n",
    "genre_weekday(spb_general, 'Monday', '07:00', '11:00')"
   ]
  },
  {
   "cell_type": "code",
   "execution_count": 33,
   "metadata": {
    "id": "EzXVRE1o_Zcu"
   },
   "outputs": [
    {
     "data": {
      "text/plain": [
       "genre\n",
       "pop            713\n",
       "rock           517\n",
       "dance          495\n",
       "electronic     482\n",
       "hiphop         273\n",
       "world          208\n",
       "ruspop         170\n",
       "alternative    163\n",
       "classical      163\n",
       "rusrap         142\n",
       "Name: track, dtype: int64"
      ]
     },
     "execution_count": 33,
     "metadata": {},
     "output_type": "execute_result"
    }
   ],
   "source": [
    "# вызов функции для вечера пятницы в Москве\n",
    "genre_weekday(moscow_general, 'Friday', '17:00', '23:00')"
   ]
  },
  {
   "cell_type": "code",
   "execution_count": 34,
   "metadata": {
    "id": "JZaEKu5v_Zcu",
    "scrolled": true
   },
   "outputs": [
    {
     "data": {
      "text/plain": [
       "genre\n",
       "pop            256\n",
       "electronic     216\n",
       "rock           216\n",
       "dance          210\n",
       "hiphop          97\n",
       "alternative     63\n",
       "jazz            61\n",
       "classical       60\n",
       "rusrap          59\n",
       "world           54\n",
       "Name: track, dtype: int64"
      ]
     },
     "execution_count": 34,
     "metadata": {},
     "output_type": "execute_result"
    }
   ],
   "source": [
    "# вызов функции для вечера пятницы в Петербурге\n",
    "genre_weekday(spb_general, 'Friday', '17:00', '23:00')"
   ]
  },
  {
   "cell_type": "markdown",
   "metadata": {
    "id": "wrCe4MNX_Zcu"
   },
   "source": [
    "**Выводы**\n",
    "\n",
    "Если сравнить топ-10 жанров в понедельник утром, можно сделать такие выводы:\n",
    "\n",
    "1. В Москве и Петербурге слушают похожую музыку. Единственное отличие — в московский рейтинг вошёл жанр “world”, а в петербургский — джаз и классика.\n",
    "\n",
    "2. В Москве пропущенных значений оказалось так много, что значение `'unknown'` заняло десятое место среди самых популярных жанров. Значит, пропущенные значения занимают существенную долю в данных и угрожают достоверности исследования.\n",
    "\n",
    "Вечер пятницы не меняет эту картину. Некоторые жанры поднимаются немного выше, другие спускаются, но в целом топ-10 остаётся тем же самым.\n",
    "\n",
    "Таким образом, вторая гипотеза подтвердилась лишь частично:\n",
    "* Пользователи слушают похожую музыку в начале недели и в конце.\n",
    "* Разница между Москвой и Петербургом не слишком выражена. В Москве чаще слушают русскую популярную музыку, в Петербурге — джаз.\n",
    "\n",
    "Однако пропуски в данных ставят под сомнение этот результат. В Москве их так много, что рейтинг топ-10 мог бы выглядеть иначе, если бы не утерянные  данные о жанрах."
   ]
  },
  {
   "cell_type": "markdown",
   "metadata": {
    "id": "JolODAqr_Zcu"
   },
   "source": [
    "### Жанровые предпочтения в Москве и Петербурге\n",
    "\n",
    "Гипотеза: Петербург — столица рэпа, музыку этого жанра там слушают чаще, чем в Москве.  А Москва — город контрастов, в котором, тем не менее, преобладает поп-музыка."
   ]
  },
  {
   "cell_type": "markdown",
   "metadata": {
    "id": "DlegSvaT_Zcu"
   },
   "source": [
    "Сгруппируйте таблицу `moscow_general` по жанру и посчитайте прослушивания треков каждого жанра методом `count()`. Затем отсортируйте результат в порядке убывания и сохраните его в таблице `moscow_genres`."
   ]
  },
  {
   "cell_type": "code",
   "execution_count": 35,
   "metadata": {
    "id": "r19lIPke_Zcu"
   },
   "outputs": [],
   "source": [
    "# одной строкой: группировка таблицы moscow_general по столбцу 'genre', \n",
    "# подсчёт числа значений 'genre' в этой группировке методом count(), \n",
    "# сортировка получившегося Series в порядке убывания и сохранение в moscow_genres\n",
    "moscow_genres = moscow_general.groupby('genre')['track'].count().sort_values(ascending = False)"
   ]
  },
  {
   "cell_type": "markdown",
   "metadata": {
    "id": "6kMuomxTiIr8"
   },
   "source": [
    "Выведите на экран первые десять строк `moscow_genres`:"
   ]
  },
  {
   "cell_type": "code",
   "execution_count": 36,
   "metadata": {
    "id": "WhCSooF8_Zcv"
   },
   "outputs": [
    {
     "data": {
      "text/plain": [
       "genre\n",
       "pop            5892\n",
       "dance          4435\n",
       "rock           3965\n",
       "electronic     3786\n",
       "hiphop         2096\n",
       "classical      1616\n",
       "world          1432\n",
       "alternative    1379\n",
       "ruspop         1372\n",
       "rusrap         1161\n",
       "Name: track, dtype: int64"
      ]
     },
     "execution_count": 36,
     "metadata": {},
     "output_type": "execute_result"
    }
   ],
   "source": [
    "# просмотр первых 10 строк moscow_genres\n",
    "moscow_genres.head(10)"
   ]
  },
  {
   "cell_type": "markdown",
   "metadata": {
    "id": "cnPG2vnN_Zcv"
   },
   "source": [
    "Теперь повторите то же и для Петербурга.\n",
    "\n",
    "Сгруппируйте таблицу `spb_general` по жанру. Посчитайте прослушивания треков каждого жанра. Результат отсортируйте в порядке убывания и сохраните в таблице `spb_genres`:\n"
   ]
  },
  {
   "cell_type": "code",
   "execution_count": 37,
   "metadata": {
    "id": "gluLIpE7_Zcv"
   },
   "outputs": [],
   "source": [
    "# одной строкой: группировка таблицы spb_general по столбцу 'genre', \n",
    "# подсчёт числа значений 'genre' в этой группировке методом count(), \n",
    "# сортировка получившегося Series в порядке убывания и сохранение в spb_genres\n",
    "spb_genres = spb_general.groupby('genre')['track'].count().sort_values(ascending = False)"
   ]
  },
  {
   "cell_type": "markdown",
   "metadata": {
    "id": "5Doha_ODgyQ8"
   },
   "source": [
    "Выведите на экран первые десять строк `spb_genres`:"
   ]
  },
  {
   "cell_type": "code",
   "execution_count": 38,
   "metadata": {
    "id": "uaGJHjVU_Zcv",
    "scrolled": true
   },
   "outputs": [
    {
     "data": {
      "text/plain": [
       "genre\n",
       "pop            2431\n",
       "dance          1932\n",
       "rock           1879\n",
       "electronic     1736\n",
       "hiphop          960\n",
       "alternative     649\n",
       "classical       646\n",
       "rusrap          564\n",
       "ruspop          538\n",
       "world           515\n",
       "Name: track, dtype: int64"
      ]
     },
     "execution_count": 38,
     "metadata": {},
     "output_type": "execute_result"
    }
   ],
   "source": [
    "# просмотр первых 10 строк spb_genres\n",
    "spb_genres.head(10)"
   ]
  },
  {
   "cell_type": "markdown",
   "metadata": {
    "id": "RY51YJYu_Zcv"
   },
   "source": [
    "**Выводы**"
   ]
  },
  {
   "cell_type": "markdown",
   "metadata": {
    "id": "nVhnJEm__Zcv"
   },
   "source": [
    "Гипотеза частично подтвердилась:\n",
    "* Поп-музыка — самый популярный жанр в Москве, как и предполагала гипотеза. Более того, в топ-10 жанров встречается близкий жанр — русская популярная музыка.\n",
    "* Вопреки ожиданиям, рэп одинаково популярен в Москве и Петербурге. \n"
   ]
  },
  {
   "cell_type": "markdown",
   "metadata": {
    "id": "ykKQ0N65_Zcv"
   },
   "source": [
    "## Итоги исследования"
   ]
  },
  {
   "cell_type": "markdown",
   "metadata": {
    "id": "tjUwbHb3_Zcv"
   },
   "source": [
    "Проверили три гипотезы и установили:\n",
    "\n",
    "1. День недели по-разному влияет на активность пользователей в Москве и Петербурге. \n",
    "\n",
    "Первая гипотеза полностью подтвердилась.\n",
    "\n",
    "2. Музыкальные предпочтения не сильно меняются в течение недели — будь то Москва или Петербург. Небольшие различия заметны в начале недели, по понедельникам:\n",
    "* в Москве слушают музыку жанра “world”,\n",
    "* в Петербурге — джаз и классику.\n",
    "\n",
    "Таким образом, вторая гипотеза подтвердилась лишь отчасти. Этот результат мог оказаться иным, если бы не пропуски в данных.\n",
    "\n",
    "3. Во вкусах пользователей Москвы и Петербурга больше общего чем различий. Вопреки ожиданиям, предпочтения жанров в Петербурге напоминают московские.\n",
    "\n",
    "Третья гипотеза не подтвердилась. Если различия в предпочтениях и существуют, на основной массе пользователей они незаметны."
   ]
  }
 ],
 "metadata": {
  "ExecuteTimeLog": [
   {
    "duration": 49,
    "start_time": "2022-03-29T09:41:01.370Z"
   },
   {
    "duration": 400,
    "start_time": "2022-03-29T09:41:13.757Z"
   },
   {
    "duration": 172,
    "start_time": "2022-03-29T09:41:17.099Z"
   },
   {
    "duration": 19,
    "start_time": "2022-03-29T09:41:21.306Z"
   },
   {
    "duration": 73,
    "start_time": "2022-03-29T10:06:45.841Z"
   },
   {
    "duration": 8,
    "start_time": "2022-03-29T10:06:57.227Z"
   },
   {
    "duration": 523,
    "start_time": "2022-03-29T10:07:24.049Z"
   },
   {
    "duration": 205,
    "start_time": "2022-03-29T10:07:24.575Z"
   },
   {
    "duration": 28,
    "start_time": "2022-03-29T10:07:24.782Z"
   },
   {
    "duration": 40,
    "start_time": "2022-03-29T10:07:29.865Z"
   },
   {
    "duration": 6,
    "start_time": "2022-03-29T10:07:48.125Z"
   },
   {
    "duration": 21,
    "start_time": "2022-03-29T10:09:36.916Z"
   },
   {
    "duration": 26,
    "start_time": "2022-03-29T10:10:54.246Z"
   },
   {
    "duration": 7,
    "start_time": "2022-03-29T10:11:13.282Z"
   },
   {
    "duration": 34,
    "start_time": "2022-03-29T10:11:41.893Z"
   },
   {
    "duration": 153,
    "start_time": "2022-03-29T10:14:32.765Z"
   },
   {
    "duration": 52,
    "start_time": "2022-03-29T10:14:37.807Z"
   },
   {
    "duration": 14,
    "start_time": "2022-03-29T10:16:14.733Z"
   },
   {
    "duration": 13,
    "start_time": "2022-03-29T10:16:25.054Z"
   },
   {
    "duration": 14,
    "start_time": "2022-03-29T10:18:44.001Z"
   },
   {
    "duration": 21,
    "start_time": "2022-03-29T10:19:49.296Z"
   },
   {
    "duration": 13,
    "start_time": "2022-03-29T10:20:01.207Z"
   },
   {
    "duration": 15,
    "start_time": "2022-03-29T10:20:36.643Z"
   },
   {
    "duration": 15,
    "start_time": "2022-03-29T10:24:37.047Z"
   },
   {
    "duration": 13,
    "start_time": "2022-03-29T10:27:22.301Z"
   },
   {
    "duration": 13,
    "start_time": "2022-03-29T10:28:00.298Z"
   },
   {
    "duration": 11,
    "start_time": "2022-03-29T10:28:40.930Z"
   },
   {
    "duration": 24,
    "start_time": "2022-03-29T10:41:08.501Z"
   },
   {
    "duration": 15,
    "start_time": "2022-03-29T10:41:27.969Z"
   },
   {
    "duration": 11,
    "start_time": "2022-03-29T10:53:15.937Z"
   },
   {
    "duration": 17,
    "start_time": "2022-03-29T10:53:27.237Z"
   },
   {
    "duration": 14,
    "start_time": "2022-03-29T10:53:39.050Z"
   },
   {
    "duration": 89,
    "start_time": "2022-03-29T10:54:44.033Z"
   },
   {
    "duration": 14,
    "start_time": "2022-03-29T10:54:51.753Z"
   },
   {
    "duration": 13,
    "start_time": "2022-03-29T10:55:16.734Z"
   },
   {
    "duration": 13,
    "start_time": "2022-03-29T10:55:49.795Z"
   },
   {
    "duration": 13,
    "start_time": "2022-03-29T10:59:39.231Z"
   },
   {
    "duration": 12,
    "start_time": "2022-03-29T10:59:49.170Z"
   },
   {
    "duration": 16,
    "start_time": "2022-03-29T11:00:02.619Z"
   },
   {
    "duration": 13,
    "start_time": "2022-03-29T11:01:12.691Z"
   },
   {
    "duration": 3,
    "start_time": "2022-03-29T11:04:38.427Z"
   },
   {
    "duration": 192,
    "start_time": "2022-03-29T11:04:38.433Z"
   },
   {
    "duration": 19,
    "start_time": "2022-03-29T11:04:38.628Z"
   },
   {
    "duration": 50,
    "start_time": "2022-03-29T11:04:38.651Z"
   },
   {
    "duration": 5,
    "start_time": "2022-03-29T11:04:38.705Z"
   },
   {
    "duration": 13,
    "start_time": "2022-03-29T11:04:38.712Z"
   },
   {
    "duration": 6,
    "start_time": "2022-03-29T11:04:38.727Z"
   },
   {
    "duration": 36,
    "start_time": "2022-03-29T11:04:38.768Z"
   },
   {
    "duration": 25,
    "start_time": "2022-03-29T11:04:42.457Z"
   },
   {
    "duration": 32,
    "start_time": "2022-03-29T11:04:46.971Z"
   },
   {
    "duration": 90,
    "start_time": "2022-03-29T11:04:58.670Z"
   },
   {
    "duration": 108,
    "start_time": "2022-03-29T11:05:04.637Z"
   },
   {
    "duration": 84,
    "start_time": "2022-03-29T11:05:06.410Z"
   },
   {
    "duration": 13,
    "start_time": "2022-03-29T11:05:10.563Z"
   },
   {
    "duration": 15,
    "start_time": "2022-03-29T11:05:44.810Z"
   },
   {
    "duration": 11,
    "start_time": "2022-03-29T11:26:21.017Z"
   },
   {
    "duration": 4,
    "start_time": "2022-03-29T11:27:33.877Z"
   },
   {
    "duration": 14,
    "start_time": "2022-03-29T11:27:39.926Z"
   },
   {
    "duration": 13,
    "start_time": "2022-03-29T11:27:51.494Z"
   },
   {
    "duration": 14,
    "start_time": "2022-03-29T11:30:03.759Z"
   },
   {
    "duration": 4,
    "start_time": "2022-03-29T11:31:15.347Z"
   },
   {
    "duration": 190,
    "start_time": "2022-03-29T11:31:15.355Z"
   },
   {
    "duration": 21,
    "start_time": "2022-03-29T11:31:15.548Z"
   },
   {
    "duration": 43,
    "start_time": "2022-03-29T11:31:15.572Z"
   },
   {
    "duration": 9,
    "start_time": "2022-03-29T11:31:15.617Z"
   },
   {
    "duration": 45,
    "start_time": "2022-03-29T11:31:15.628Z"
   },
   {
    "duration": 6,
    "start_time": "2022-03-29T11:31:15.675Z"
   },
   {
    "duration": 36,
    "start_time": "2022-03-29T11:31:15.683Z"
   },
   {
    "duration": 46,
    "start_time": "2022-03-29T11:31:15.722Z"
   },
   {
    "duration": 33,
    "start_time": "2022-03-29T11:31:15.770Z"
   },
   {
    "duration": 126,
    "start_time": "2022-03-29T11:31:15.805Z"
   },
   {
    "duration": 112,
    "start_time": "2022-03-29T11:31:15.933Z"
   },
   {
    "duration": 90,
    "start_time": "2022-03-29T11:31:16.048Z"
   },
   {
    "duration": 32,
    "start_time": "2022-03-29T11:31:16.140Z"
   },
   {
    "duration": 5,
    "start_time": "2022-03-29T11:31:16.175Z"
   },
   {
    "duration": 12,
    "start_time": "2022-03-29T11:31:20.375Z"
   },
   {
    "duration": 16,
    "start_time": "2022-03-29T11:31:27.451Z"
   },
   {
    "duration": 4,
    "start_time": "2022-03-29T11:45:58.738Z"
   },
   {
    "duration": 13,
    "start_time": "2022-03-29T11:46:08.276Z"
   },
   {
    "duration": 3,
    "start_time": "2022-03-29T11:47:01.193Z"
   },
   {
    "duration": 194,
    "start_time": "2022-03-29T11:47:01.200Z"
   },
   {
    "duration": 16,
    "start_time": "2022-03-29T11:47:01.397Z"
   },
   {
    "duration": 59,
    "start_time": "2022-03-29T11:47:01.415Z"
   },
   {
    "duration": 6,
    "start_time": "2022-03-29T11:47:01.477Z"
   },
   {
    "duration": 21,
    "start_time": "2022-03-29T11:47:01.485Z"
   },
   {
    "duration": 6,
    "start_time": "2022-03-29T11:47:01.508Z"
   },
   {
    "duration": 60,
    "start_time": "2022-03-29T11:47:01.516Z"
   },
   {
    "duration": 23,
    "start_time": "2022-03-29T11:47:01.579Z"
   },
   {
    "duration": 44,
    "start_time": "2022-03-29T11:47:01.604Z"
   },
   {
    "duration": 100,
    "start_time": "2022-03-29T11:47:01.667Z"
   },
   {
    "duration": 112,
    "start_time": "2022-03-29T11:47:01.769Z"
   },
   {
    "duration": 89,
    "start_time": "2022-03-29T11:47:01.883Z"
   },
   {
    "duration": 15,
    "start_time": "2022-03-29T11:47:01.974Z"
   },
   {
    "duration": 13,
    "start_time": "2022-03-29T11:47:01.991Z"
   },
   {
    "duration": 26,
    "start_time": "2022-03-29T11:47:02.006Z"
   },
   {
    "duration": 16,
    "start_time": "2022-03-29T11:47:02.034Z"
   },
   {
    "duration": 6,
    "start_time": "2022-03-29T11:47:06.593Z"
   },
   {
    "duration": 10,
    "start_time": "2022-03-29T11:47:20.498Z"
   },
   {
    "duration": 3,
    "start_time": "2022-03-29T11:47:34.807Z"
   },
   {
    "duration": 187,
    "start_time": "2022-03-29T11:47:34.813Z"
   },
   {
    "duration": 17,
    "start_time": "2022-03-29T11:47:35.002Z"
   },
   {
    "duration": 60,
    "start_time": "2022-03-29T11:47:35.021Z"
   },
   {
    "duration": 6,
    "start_time": "2022-03-29T11:47:35.085Z"
   },
   {
    "duration": 13,
    "start_time": "2022-03-29T11:47:35.094Z"
   },
   {
    "duration": 6,
    "start_time": "2022-03-29T11:47:35.110Z"
   },
   {
    "duration": 84,
    "start_time": "2022-03-29T11:47:35.119Z"
   },
   {
    "duration": 24,
    "start_time": "2022-03-29T11:47:35.205Z"
   },
   {
    "duration": 49,
    "start_time": "2022-03-29T11:47:35.231Z"
   },
   {
    "duration": 105,
    "start_time": "2022-03-29T11:47:35.282Z"
   },
   {
    "duration": 112,
    "start_time": "2022-03-29T11:47:35.389Z"
   },
   {
    "duration": 94,
    "start_time": "2022-03-29T11:47:35.503Z"
   },
   {
    "duration": 14,
    "start_time": "2022-03-29T11:47:35.601Z"
   },
   {
    "duration": 4,
    "start_time": "2022-03-29T11:47:35.618Z"
   },
   {
    "duration": 43,
    "start_time": "2022-03-29T11:47:35.624Z"
   },
   {
    "duration": 15,
    "start_time": "2022-03-29T11:47:35.670Z"
   },
   {
    "duration": 6,
    "start_time": "2022-03-29T11:47:37.558Z"
   },
   {
    "duration": 11,
    "start_time": "2022-03-29T11:48:39.758Z"
   },
   {
    "duration": 3,
    "start_time": "2022-03-29T11:48:58.645Z"
   },
   {
    "duration": 188,
    "start_time": "2022-03-29T11:48:58.651Z"
   },
   {
    "duration": 25,
    "start_time": "2022-03-29T11:48:58.842Z"
   },
   {
    "duration": 39,
    "start_time": "2022-03-29T11:48:58.869Z"
   },
   {
    "duration": 6,
    "start_time": "2022-03-29T11:48:58.911Z"
   },
   {
    "duration": 14,
    "start_time": "2022-03-29T11:48:58.918Z"
   },
   {
    "duration": 36,
    "start_time": "2022-03-29T11:48:58.934Z"
   },
   {
    "duration": 35,
    "start_time": "2022-03-29T11:48:58.972Z"
   },
   {
    "duration": 24,
    "start_time": "2022-03-29T11:48:59.009Z"
   },
   {
    "duration": 60,
    "start_time": "2022-03-29T11:48:59.035Z"
   },
   {
    "duration": 105,
    "start_time": "2022-03-29T11:48:59.099Z"
   },
   {
    "duration": 110,
    "start_time": "2022-03-29T11:48:59.207Z"
   },
   {
    "duration": 88,
    "start_time": "2022-03-29T11:48:59.320Z"
   },
   {
    "duration": 15,
    "start_time": "2022-03-29T11:48:59.410Z"
   },
   {
    "duration": 4,
    "start_time": "2022-03-29T11:48:59.427Z"
   },
   {
    "duration": 37,
    "start_time": "2022-03-29T11:48:59.433Z"
   },
   {
    "duration": 15,
    "start_time": "2022-03-29T11:48:59.472Z"
   },
   {
    "duration": 54,
    "start_time": "2022-03-29T11:49:00.968Z"
   },
   {
    "duration": 48,
    "start_time": "2022-03-29T11:49:10.177Z"
   },
   {
    "duration": 21,
    "start_time": "2022-03-29T11:49:30.148Z"
   },
   {
    "duration": 71,
    "start_time": "2022-03-29T11:55:58.354Z"
   },
   {
    "duration": 549,
    "start_time": "2022-03-29T11:56:03.350Z"
   },
   {
    "duration": 210,
    "start_time": "2022-03-29T11:56:03.902Z"
   },
   {
    "duration": 29,
    "start_time": "2022-03-29T11:56:04.115Z"
   },
   {
    "duration": 63,
    "start_time": "2022-03-29T11:56:04.148Z"
   },
   {
    "duration": 6,
    "start_time": "2022-03-29T11:56:04.214Z"
   },
   {
    "duration": 20,
    "start_time": "2022-03-29T11:56:04.222Z"
   },
   {
    "duration": 40,
    "start_time": "2022-03-29T11:56:04.244Z"
   },
   {
    "duration": 39,
    "start_time": "2022-03-29T11:56:04.286Z"
   },
   {
    "duration": 25,
    "start_time": "2022-03-29T11:56:04.328Z"
   },
   {
    "duration": 57,
    "start_time": "2022-03-29T11:56:04.357Z"
   },
   {
    "duration": 118,
    "start_time": "2022-03-29T11:56:04.417Z"
   },
   {
    "duration": 136,
    "start_time": "2022-03-29T11:56:04.537Z"
   },
   {
    "duration": 97,
    "start_time": "2022-03-29T11:56:04.675Z"
   },
   {
    "duration": 15,
    "start_time": "2022-03-29T11:56:04.784Z"
   },
   {
    "duration": 4,
    "start_time": "2022-03-29T11:56:04.801Z"
   },
   {
    "duration": 17,
    "start_time": "2022-03-29T11:56:04.807Z"
   },
   {
    "duration": 18,
    "start_time": "2022-03-29T11:56:04.826Z"
   },
   {
    "duration": 46,
    "start_time": "2022-03-29T11:56:04.846Z"
   },
   {
    "duration": 20,
    "start_time": "2022-03-29T11:56:07.648Z"
   },
   {
    "duration": 168,
    "start_time": "2022-03-29T11:57:31.773Z"
   },
   {
    "duration": 43,
    "start_time": "2022-03-29T11:58:01.309Z"
   },
   {
    "duration": 4,
    "start_time": "2022-03-29T11:58:06.985Z"
   },
   {
    "duration": 244,
    "start_time": "2022-03-29T11:58:06.992Z"
   },
   {
    "duration": 16,
    "start_time": "2022-03-29T11:58:07.238Z"
   },
   {
    "duration": 65,
    "start_time": "2022-03-29T11:58:07.257Z"
   },
   {
    "duration": 5,
    "start_time": "2022-03-29T11:58:07.325Z"
   },
   {
    "duration": 32,
    "start_time": "2022-03-29T11:58:07.332Z"
   },
   {
    "duration": 17,
    "start_time": "2022-03-29T11:58:07.368Z"
   },
   {
    "duration": 72,
    "start_time": "2022-03-29T11:58:07.388Z"
   },
   {
    "duration": 49,
    "start_time": "2022-03-29T11:58:07.466Z"
   },
   {
    "duration": 72,
    "start_time": "2022-03-29T11:58:07.518Z"
   },
   {
    "duration": 165,
    "start_time": "2022-03-29T11:58:07.594Z"
   },
   {
    "duration": 187,
    "start_time": "2022-03-29T11:58:07.761Z"
   },
   {
    "duration": 151,
    "start_time": "2022-03-29T11:58:07.951Z"
   },
   {
    "duration": 22,
    "start_time": "2022-03-29T11:58:08.106Z"
   },
   {
    "duration": 5,
    "start_time": "2022-03-29T11:58:08.131Z"
   },
   {
    "duration": 47,
    "start_time": "2022-03-29T11:58:08.140Z"
   },
   {
    "duration": 22,
    "start_time": "2022-03-29T11:58:08.190Z"
   },
   {
    "duration": 22,
    "start_time": "2022-03-29T11:58:08.215Z"
   },
   {
    "duration": 45,
    "start_time": "2022-03-29T11:58:08.239Z"
   },
   {
    "duration": 14,
    "start_time": "2022-03-29T11:58:11.220Z"
   },
   {
    "duration": 12,
    "start_time": "2022-03-29T11:58:23.463Z"
   },
   {
    "duration": 7,
    "start_time": "2022-03-29T11:58:36.914Z"
   },
   {
    "duration": 19,
    "start_time": "2022-03-29T11:59:27.837Z"
   },
   {
    "duration": 3,
    "start_time": "2022-03-29T13:34:04.164Z"
   },
   {
    "duration": 311,
    "start_time": "2022-03-29T13:34:04.174Z"
   },
   {
    "duration": 22,
    "start_time": "2022-03-29T13:34:04.489Z"
   },
   {
    "duration": 89,
    "start_time": "2022-03-29T13:34:04.513Z"
   },
   {
    "duration": 25,
    "start_time": "2022-03-29T13:34:04.605Z"
   },
   {
    "duration": 23,
    "start_time": "2022-03-29T13:34:04.633Z"
   },
   {
    "duration": 28,
    "start_time": "2022-03-29T13:34:04.658Z"
   },
   {
    "duration": 83,
    "start_time": "2022-03-29T13:34:04.688Z"
   },
   {
    "duration": 51,
    "start_time": "2022-03-29T13:34:04.773Z"
   },
   {
    "duration": 69,
    "start_time": "2022-03-29T13:34:04.827Z"
   },
   {
    "duration": 138,
    "start_time": "2022-03-29T13:34:04.899Z"
   },
   {
    "duration": 162,
    "start_time": "2022-03-29T13:34:05.040Z"
   },
   {
    "duration": 146,
    "start_time": "2022-03-29T13:34:05.204Z"
   },
   {
    "duration": 16,
    "start_time": "2022-03-29T13:34:05.353Z"
   },
   {
    "duration": 4,
    "start_time": "2022-03-29T13:34:05.386Z"
   },
   {
    "duration": 23,
    "start_time": "2022-03-29T13:34:05.393Z"
   },
   {
    "duration": 21,
    "start_time": "2022-03-29T13:34:05.419Z"
   },
   {
    "duration": 18,
    "start_time": "2022-03-29T13:34:05.442Z"
   },
   {
    "duration": 18,
    "start_time": "2022-03-29T13:34:05.484Z"
   },
   {
    "duration": 7,
    "start_time": "2022-03-29T13:34:08.066Z"
   },
   {
    "duration": 6,
    "start_time": "2022-03-29T13:34:10.593Z"
   },
   {
    "duration": 21,
    "start_time": "2022-03-29T13:34:57.308Z"
   },
   {
    "duration": 21,
    "start_time": "2022-03-29T13:36:19.002Z"
   },
   {
    "duration": 12,
    "start_time": "2022-03-29T13:36:20.617Z"
   },
   {
    "duration": 13,
    "start_time": "2022-03-29T13:36:23.387Z"
   },
   {
    "duration": 31,
    "start_time": "2022-03-29T13:36:24.995Z"
   },
   {
    "duration": 30,
    "start_time": "2022-03-29T13:36:26.650Z"
   },
   {
    "duration": 31,
    "start_time": "2022-03-29T13:36:51.733Z"
   },
   {
    "duration": 30,
    "start_time": "2022-03-29T13:36:53.530Z"
   },
   {
    "duration": 113,
    "start_time": "2022-03-29T13:42:20.292Z"
   },
   {
    "duration": 104,
    "start_time": "2022-03-29T13:45:46.374Z"
   },
   {
    "duration": 102,
    "start_time": "2022-03-29T13:46:31.325Z"
   },
   {
    "duration": 106,
    "start_time": "2022-03-29T13:46:45.309Z"
   },
   {
    "duration": 16,
    "start_time": "2022-03-29T13:55:14.124Z"
   },
   {
    "duration": 15,
    "start_time": "2022-03-29T13:55:16.390Z"
   },
   {
    "duration": 6,
    "start_time": "2022-03-29T14:01:16.775Z"
   },
   {
    "duration": 42,
    "start_time": "2022-03-29T14:02:17.063Z"
   },
   {
    "duration": 27,
    "start_time": "2022-03-29T14:03:20.137Z"
   },
   {
    "duration": 50,
    "start_time": "2022-03-29T14:11:29.661Z"
   },
   {
    "duration": 382,
    "start_time": "2022-03-29T14:11:33.383Z"
   },
   {
    "duration": 178,
    "start_time": "2022-03-29T14:11:33.767Z"
   },
   {
    "duration": 20,
    "start_time": "2022-03-29T14:11:33.947Z"
   },
   {
    "duration": 34,
    "start_time": "2022-03-29T14:11:33.969Z"
   },
   {
    "duration": 28,
    "start_time": "2022-03-29T14:11:34.005Z"
   },
   {
    "duration": 17,
    "start_time": "2022-03-29T14:11:34.035Z"
   },
   {
    "duration": 9,
    "start_time": "2022-03-29T14:11:34.054Z"
   },
   {
    "duration": 31,
    "start_time": "2022-03-29T14:11:34.065Z"
   },
   {
    "duration": 38,
    "start_time": "2022-03-29T14:11:34.099Z"
   },
   {
    "duration": 27,
    "start_time": "2022-03-29T14:11:34.139Z"
   },
   {
    "duration": 91,
    "start_time": "2022-03-29T14:11:34.168Z"
   },
   {
    "duration": 91,
    "start_time": "2022-03-29T14:11:34.261Z"
   },
   {
    "duration": 62,
    "start_time": "2022-03-29T14:11:34.354Z"
   },
   {
    "duration": 12,
    "start_time": "2022-03-29T14:11:34.433Z"
   },
   {
    "duration": 3,
    "start_time": "2022-03-29T14:11:34.447Z"
   },
   {
    "duration": 15,
    "start_time": "2022-03-29T14:11:34.452Z"
   },
   {
    "duration": 12,
    "start_time": "2022-03-29T14:11:34.468Z"
   },
   {
    "duration": 14,
    "start_time": "2022-03-29T14:11:34.482Z"
   },
   {
    "duration": 13,
    "start_time": "2022-03-29T14:11:34.533Z"
   },
   {
    "duration": 4,
    "start_time": "2022-03-29T14:11:34.547Z"
   },
   {
    "duration": 26,
    "start_time": "2022-03-29T14:11:34.552Z"
   },
   {
    "duration": 15,
    "start_time": "2022-03-29T14:11:34.580Z"
   },
   {
    "duration": 41,
    "start_time": "2022-03-29T14:11:34.597Z"
   },
   {
    "duration": 14,
    "start_time": "2022-03-29T14:11:34.640Z"
   },
   {
    "duration": 19,
    "start_time": "2022-03-29T14:11:34.656Z"
   },
   {
    "duration": 15,
    "start_time": "2022-03-29T14:11:34.676Z"
   },
   {
    "duration": 113,
    "start_time": "2022-03-29T14:11:34.693Z"
   },
   {
    "duration": 12,
    "start_time": "2022-03-29T14:11:34.807Z"
   },
   {
    "duration": 10,
    "start_time": "2022-03-29T14:11:34.831Z"
   },
   {
    "duration": 5,
    "start_time": "2022-03-29T14:11:34.843Z"
   },
   {
    "duration": 26,
    "start_time": "2022-03-29T14:11:34.849Z"
   },
   {
    "duration": 14,
    "start_time": "2022-03-29T14:11:36.892Z"
   },
   {
    "duration": 18,
    "start_time": "2022-03-29T14:11:38.564Z"
   },
   {
    "duration": 13,
    "start_time": "2022-03-29T14:11:40.701Z"
   },
   {
    "duration": 53,
    "start_time": "2022-03-29T14:23:22.161Z"
   },
   {
    "duration": 30,
    "start_time": "2022-03-29T14:23:52.256Z"
   },
   {
    "duration": 3,
    "start_time": "2022-03-29T14:23:57.598Z"
   },
   {
    "duration": 185,
    "start_time": "2022-03-29T14:23:57.602Z"
   },
   {
    "duration": 11,
    "start_time": "2022-03-29T14:23:57.789Z"
   },
   {
    "duration": 42,
    "start_time": "2022-03-29T14:23:57.802Z"
   },
   {
    "duration": 4,
    "start_time": "2022-03-29T14:23:57.846Z"
   },
   {
    "duration": 15,
    "start_time": "2022-03-29T14:23:57.851Z"
   },
   {
    "duration": 4,
    "start_time": "2022-03-29T14:23:57.868Z"
   },
   {
    "duration": 30,
    "start_time": "2022-03-29T14:23:57.874Z"
   },
   {
    "duration": 43,
    "start_time": "2022-03-29T14:23:57.906Z"
   },
   {
    "duration": 25,
    "start_time": "2022-03-29T14:23:57.950Z"
   },
   {
    "duration": 79,
    "start_time": "2022-03-29T14:23:57.978Z"
   },
   {
    "duration": 80,
    "start_time": "2022-03-29T14:23:58.059Z"
   },
   {
    "duration": 57,
    "start_time": "2022-03-29T14:23:58.141Z"
   },
   {
    "duration": 9,
    "start_time": "2022-03-29T14:23:58.200Z"
   },
   {
    "duration": 3,
    "start_time": "2022-03-29T14:23:58.232Z"
   },
   {
    "duration": 14,
    "start_time": "2022-03-29T14:23:58.236Z"
   },
   {
    "duration": 10,
    "start_time": "2022-03-29T14:23:58.252Z"
   },
   {
    "duration": 14,
    "start_time": "2022-03-29T14:23:58.263Z"
   },
   {
    "duration": 13,
    "start_time": "2022-03-29T14:23:58.278Z"
   },
   {
    "duration": 4,
    "start_time": "2022-03-29T14:23:58.292Z"
   },
   {
    "duration": 50,
    "start_time": "2022-03-29T14:23:58.298Z"
   },
   {
    "duration": 16,
    "start_time": "2022-03-29T14:23:58.349Z"
   },
   {
    "duration": 15,
    "start_time": "2022-03-29T14:23:58.366Z"
   },
   {
    "duration": 14,
    "start_time": "2022-03-29T14:23:58.383Z"
   },
   {
    "duration": 47,
    "start_time": "2022-03-29T14:23:58.399Z"
   },
   {
    "duration": 16,
    "start_time": "2022-03-29T14:23:58.447Z"
   },
   {
    "duration": 93,
    "start_time": "2022-03-29T14:23:58.465Z"
   },
   {
    "duration": 15,
    "start_time": "2022-03-29T14:23:58.559Z"
   },
   {
    "duration": 13,
    "start_time": "2022-03-29T14:23:58.577Z"
   },
   {
    "duration": 5,
    "start_time": "2022-03-29T14:23:58.591Z"
   },
   {
    "duration": 43,
    "start_time": "2022-03-29T14:23:58.597Z"
   },
   {
    "duration": 12,
    "start_time": "2022-03-29T14:23:58.642Z"
   },
   {
    "duration": 18,
    "start_time": "2022-03-29T14:23:58.655Z"
   },
   {
    "duration": 12,
    "start_time": "2022-03-29T14:23:58.675Z"
   },
   {
    "duration": 30,
    "start_time": "2022-03-29T14:24:04.291Z"
   },
   {
    "duration": 3,
    "start_time": "2022-03-29T14:25:05.335Z"
   },
   {
    "duration": 9,
    "start_time": "2022-03-29T14:25:13.015Z"
   },
   {
    "duration": 3,
    "start_time": "2022-03-29T14:25:25.373Z"
   },
   {
    "duration": 172,
    "start_time": "2022-03-29T14:25:25.378Z"
   },
   {
    "duration": 10,
    "start_time": "2022-03-29T14:25:25.552Z"
   },
   {
    "duration": 33,
    "start_time": "2022-03-29T14:25:25.564Z"
   },
   {
    "duration": 4,
    "start_time": "2022-03-29T14:25:25.600Z"
   },
   {
    "duration": 28,
    "start_time": "2022-03-29T14:25:25.605Z"
   },
   {
    "duration": 4,
    "start_time": "2022-03-29T14:25:25.635Z"
   },
   {
    "duration": 31,
    "start_time": "2022-03-29T14:25:25.641Z"
   },
   {
    "duration": 20,
    "start_time": "2022-03-29T14:25:25.673Z"
   },
   {
    "duration": 46,
    "start_time": "2022-03-29T14:25:25.695Z"
   },
   {
    "duration": 64,
    "start_time": "2022-03-29T14:25:25.743Z"
   },
   {
    "duration": 89,
    "start_time": "2022-03-29T14:25:25.809Z"
   },
   {
    "duration": 72,
    "start_time": "2022-03-29T14:25:25.900Z"
   },
   {
    "duration": 10,
    "start_time": "2022-03-29T14:25:25.975Z"
   },
   {
    "duration": 4,
    "start_time": "2022-03-29T14:25:25.987Z"
   },
   {
    "duration": 13,
    "start_time": "2022-03-29T14:25:25.993Z"
   },
   {
    "duration": 29,
    "start_time": "2022-03-29T14:25:26.008Z"
   },
   {
    "duration": 17,
    "start_time": "2022-03-29T14:25:26.039Z"
   },
   {
    "duration": 13,
    "start_time": "2022-03-29T14:25:26.058Z"
   },
   {
    "duration": 4,
    "start_time": "2022-03-29T14:25:26.073Z"
   },
   {
    "duration": 24,
    "start_time": "2022-03-29T14:25:26.079Z"
   },
   {
    "duration": 42,
    "start_time": "2022-03-29T14:25:26.104Z"
   },
   {
    "duration": 16,
    "start_time": "2022-03-29T14:25:26.147Z"
   },
   {
    "duration": 16,
    "start_time": "2022-03-29T14:25:26.165Z"
   },
   {
    "duration": 19,
    "start_time": "2022-03-29T14:25:26.182Z"
   },
   {
    "duration": 17,
    "start_time": "2022-03-29T14:25:26.232Z"
   },
   {
    "duration": 90,
    "start_time": "2022-03-29T14:25:26.251Z"
   },
   {
    "duration": 11,
    "start_time": "2022-03-29T14:25:26.343Z"
   },
   {
    "duration": 12,
    "start_time": "2022-03-29T14:25:26.356Z"
   },
   {
    "duration": 4,
    "start_time": "2022-03-29T14:25:26.370Z"
   },
   {
    "duration": 25,
    "start_time": "2022-03-29T14:25:26.376Z"
   },
   {
    "duration": 42,
    "start_time": "2022-03-29T14:25:26.403Z"
   },
   {
    "duration": 18,
    "start_time": "2022-03-29T14:25:26.446Z"
   },
   {
    "duration": 13,
    "start_time": "2022-03-29T14:25:26.465Z"
   },
   {
    "duration": 28,
    "start_time": "2022-03-29T14:25:29.263Z"
   },
   {
    "duration": 13,
    "start_time": "2022-03-29T14:26:07.894Z"
   },
   {
    "duration": 7,
    "start_time": "2022-03-29T14:26:21.267Z"
   },
   {
    "duration": 9,
    "start_time": "2022-03-29T14:27:31.849Z"
   },
   {
    "duration": 9,
    "start_time": "2022-03-29T14:28:16.975Z"
   },
   {
    "duration": 3,
    "start_time": "2022-03-29T14:28:25.746Z"
   },
   {
    "duration": 190,
    "start_time": "2022-03-29T14:28:25.751Z"
   },
   {
    "duration": 10,
    "start_time": "2022-03-29T14:28:25.943Z"
   },
   {
    "duration": 39,
    "start_time": "2022-03-29T14:28:25.955Z"
   },
   {
    "duration": 4,
    "start_time": "2022-03-29T14:28:25.996Z"
   },
   {
    "duration": 13,
    "start_time": "2022-03-29T14:28:26.002Z"
   },
   {
    "duration": 4,
    "start_time": "2022-03-29T14:28:26.031Z"
   },
   {
    "duration": 35,
    "start_time": "2022-03-29T14:28:26.037Z"
   },
   {
    "duration": 24,
    "start_time": "2022-03-29T14:28:26.074Z"
   },
   {
    "duration": 43,
    "start_time": "2022-03-29T14:28:26.100Z"
   },
   {
    "duration": 87,
    "start_time": "2022-03-29T14:28:26.146Z"
   },
   {
    "duration": 81,
    "start_time": "2022-03-29T14:28:26.235Z"
   },
   {
    "duration": 77,
    "start_time": "2022-03-29T14:28:26.318Z"
   },
   {
    "duration": 10,
    "start_time": "2022-03-29T14:28:26.397Z"
   },
   {
    "duration": 23,
    "start_time": "2022-03-29T14:28:26.409Z"
   },
   {
    "duration": 11,
    "start_time": "2022-03-29T14:28:26.433Z"
   },
   {
    "duration": 11,
    "start_time": "2022-03-29T14:28:26.445Z"
   },
   {
    "duration": 15,
    "start_time": "2022-03-29T14:28:26.457Z"
   },
   {
    "duration": 14,
    "start_time": "2022-03-29T14:28:26.474Z"
   },
   {
    "duration": 4,
    "start_time": "2022-03-29T14:28:26.489Z"
   },
   {
    "duration": 28,
    "start_time": "2022-03-29T14:28:26.531Z"
   },
   {
    "duration": 18,
    "start_time": "2022-03-29T14:28:26.561Z"
   },
   {
    "duration": 18,
    "start_time": "2022-03-29T14:28:26.580Z"
   },
   {
    "duration": 38,
    "start_time": "2022-03-29T14:28:26.600Z"
   },
   {
    "duration": 20,
    "start_time": "2022-03-29T14:28:26.639Z"
   },
   {
    "duration": 17,
    "start_time": "2022-03-29T14:28:26.661Z"
   },
   {
    "duration": 107,
    "start_time": "2022-03-29T14:28:26.680Z"
   },
   {
    "duration": 12,
    "start_time": "2022-03-29T14:28:26.789Z"
   },
   {
    "duration": 30,
    "start_time": "2022-03-29T14:28:26.804Z"
   },
   {
    "duration": 4,
    "start_time": "2022-03-29T14:28:26.835Z"
   },
   {
    "duration": 27,
    "start_time": "2022-03-29T14:28:26.841Z"
   },
   {
    "duration": 12,
    "start_time": "2022-03-29T14:28:26.870Z"
   },
   {
    "duration": 17,
    "start_time": "2022-03-29T14:28:26.884Z"
   },
   {
    "duration": 34,
    "start_time": "2022-03-29T14:28:26.903Z"
   },
   {
    "duration": 18,
    "start_time": "2022-03-29T14:28:26.938Z"
   },
   {
    "duration": 9,
    "start_time": "2022-03-29T14:28:45.879Z"
   },
   {
    "duration": 9,
    "start_time": "2022-03-29T14:29:27.870Z"
   },
   {
    "duration": 3,
    "start_time": "2022-03-29T14:29:36.930Z"
   },
   {
    "duration": 182,
    "start_time": "2022-03-29T14:29:36.935Z"
   },
   {
    "duration": 14,
    "start_time": "2022-03-29T14:29:37.119Z"
   },
   {
    "duration": 35,
    "start_time": "2022-03-29T14:29:37.134Z"
   },
   {
    "duration": 3,
    "start_time": "2022-03-29T14:29:37.172Z"
   },
   {
    "duration": 11,
    "start_time": "2022-03-29T14:29:37.177Z"
   },
   {
    "duration": 4,
    "start_time": "2022-03-29T14:29:37.190Z"
   },
   {
    "duration": 59,
    "start_time": "2022-03-29T14:29:37.196Z"
   },
   {
    "duration": 20,
    "start_time": "2022-03-29T14:29:37.257Z"
   },
   {
    "duration": 27,
    "start_time": "2022-03-29T14:29:37.279Z"
   },
   {
    "duration": 87,
    "start_time": "2022-03-29T14:29:37.309Z"
   },
   {
    "duration": 85,
    "start_time": "2022-03-29T14:29:37.398Z"
   },
   {
    "duration": 71,
    "start_time": "2022-03-29T14:29:37.485Z"
   },
   {
    "duration": 11,
    "start_time": "2022-03-29T14:29:37.558Z"
   },
   {
    "duration": 3,
    "start_time": "2022-03-29T14:29:37.571Z"
   },
   {
    "duration": 13,
    "start_time": "2022-03-29T14:29:37.577Z"
   },
   {
    "duration": 41,
    "start_time": "2022-03-29T14:29:37.592Z"
   },
   {
    "duration": 16,
    "start_time": "2022-03-29T14:29:37.635Z"
   },
   {
    "duration": 16,
    "start_time": "2022-03-29T14:29:37.653Z"
   },
   {
    "duration": 4,
    "start_time": "2022-03-29T14:29:37.671Z"
   },
   {
    "duration": 23,
    "start_time": "2022-03-29T14:29:37.677Z"
   },
   {
    "duration": 18,
    "start_time": "2022-03-29T14:29:37.732Z"
   },
   {
    "duration": 18,
    "start_time": "2022-03-29T14:29:37.752Z"
   },
   {
    "duration": 17,
    "start_time": "2022-03-29T14:29:37.772Z"
   },
   {
    "duration": 53,
    "start_time": "2022-03-29T14:29:37.791Z"
   },
   {
    "duration": 16,
    "start_time": "2022-03-29T14:29:37.846Z"
   },
   {
    "duration": 102,
    "start_time": "2022-03-29T14:29:37.864Z"
   },
   {
    "duration": 11,
    "start_time": "2022-03-29T14:29:37.968Z"
   },
   {
    "duration": 13,
    "start_time": "2022-03-29T14:29:37.983Z"
   },
   {
    "duration": 5,
    "start_time": "2022-03-29T14:29:37.998Z"
   },
   {
    "duration": 50,
    "start_time": "2022-03-29T14:29:38.004Z"
   },
   {
    "duration": 14,
    "start_time": "2022-03-29T14:29:38.056Z"
   },
   {
    "duration": 20,
    "start_time": "2022-03-29T14:29:38.071Z"
   },
   {
    "duration": 13,
    "start_time": "2022-03-29T14:29:38.093Z"
   },
   {
    "duration": 39,
    "start_time": "2022-03-29T14:29:38.108Z"
   },
   {
    "duration": 9,
    "start_time": "2022-03-29T14:29:56.038Z"
   },
   {
    "duration": 3,
    "start_time": "2022-03-29T14:30:00.354Z"
   },
   {
    "duration": 191,
    "start_time": "2022-03-29T14:30:00.359Z"
   },
   {
    "duration": 11,
    "start_time": "2022-03-29T14:30:00.552Z"
   },
   {
    "duration": 42,
    "start_time": "2022-03-29T14:30:00.565Z"
   },
   {
    "duration": 3,
    "start_time": "2022-03-29T14:30:00.610Z"
   },
   {
    "duration": 21,
    "start_time": "2022-03-29T14:30:00.615Z"
   },
   {
    "duration": 38,
    "start_time": "2022-03-29T14:30:00.638Z"
   },
   {
    "duration": 37,
    "start_time": "2022-03-29T14:30:00.678Z"
   },
   {
    "duration": 21,
    "start_time": "2022-03-29T14:30:00.717Z"
   },
   {
    "duration": 35,
    "start_time": "2022-03-29T14:30:00.740Z"
   },
   {
    "duration": 76,
    "start_time": "2022-03-29T14:30:00.777Z"
   },
   {
    "duration": 94,
    "start_time": "2022-03-29T14:30:00.855Z"
   },
   {
    "duration": 81,
    "start_time": "2022-03-29T14:30:00.951Z"
   },
   {
    "duration": 11,
    "start_time": "2022-03-29T14:30:01.035Z"
   },
   {
    "duration": 3,
    "start_time": "2022-03-29T14:30:01.048Z"
   },
   {
    "duration": 23,
    "start_time": "2022-03-29T14:30:01.053Z"
   },
   {
    "duration": 16,
    "start_time": "2022-03-29T14:30:01.078Z"
   },
   {
    "duration": 37,
    "start_time": "2022-03-29T14:30:01.096Z"
   },
   {
    "duration": 15,
    "start_time": "2022-03-29T14:30:01.135Z"
   },
   {
    "duration": 4,
    "start_time": "2022-03-29T14:30:01.152Z"
   },
   {
    "duration": 32,
    "start_time": "2022-03-29T14:30:01.157Z"
   },
   {
    "duration": 18,
    "start_time": "2022-03-29T14:30:01.191Z"
   },
   {
    "duration": 18,
    "start_time": "2022-03-29T14:30:01.231Z"
   },
   {
    "duration": 32,
    "start_time": "2022-03-29T14:30:01.251Z"
   },
   {
    "duration": 26,
    "start_time": "2022-03-29T14:30:01.284Z"
   },
   {
    "duration": 27,
    "start_time": "2022-03-29T14:30:01.312Z"
   },
   {
    "duration": 101,
    "start_time": "2022-03-29T14:30:01.341Z"
   },
   {
    "duration": 12,
    "start_time": "2022-03-29T14:30:01.444Z"
   },
   {
    "duration": 25,
    "start_time": "2022-03-29T14:30:01.458Z"
   },
   {
    "duration": 5,
    "start_time": "2022-03-29T14:30:01.484Z"
   },
   {
    "duration": 38,
    "start_time": "2022-03-29T14:30:01.491Z"
   },
   {
    "duration": 13,
    "start_time": "2022-03-29T14:30:01.531Z"
   },
   {
    "duration": 38,
    "start_time": "2022-03-29T14:30:01.546Z"
   },
   {
    "duration": 19,
    "start_time": "2022-03-29T14:30:01.586Z"
   },
   {
    "duration": 19,
    "start_time": "2022-03-29T14:30:01.607Z"
   },
   {
    "duration": 10,
    "start_time": "2022-03-29T14:30:33.368Z"
   },
   {
    "duration": 3,
    "start_time": "2022-03-29T14:30:36.606Z"
   },
   {
    "duration": 180,
    "start_time": "2022-03-29T14:30:36.611Z"
   },
   {
    "duration": 11,
    "start_time": "2022-03-29T14:30:36.793Z"
   },
   {
    "duration": 45,
    "start_time": "2022-03-29T14:30:36.807Z"
   },
   {
    "duration": 4,
    "start_time": "2022-03-29T14:30:36.854Z"
   },
   {
    "duration": 11,
    "start_time": "2022-03-29T14:30:36.859Z"
   },
   {
    "duration": 4,
    "start_time": "2022-03-29T14:30:36.872Z"
   },
   {
    "duration": 30,
    "start_time": "2022-03-29T14:30:36.877Z"
   },
   {
    "duration": 20,
    "start_time": "2022-03-29T14:30:36.931Z"
   },
   {
    "duration": 27,
    "start_time": "2022-03-29T14:30:36.953Z"
   },
   {
    "duration": 90,
    "start_time": "2022-03-29T14:30:36.982Z"
   },
   {
    "duration": 89,
    "start_time": "2022-03-29T14:30:37.074Z"
   },
   {
    "duration": 69,
    "start_time": "2022-03-29T14:30:37.165Z"
   },
   {
    "duration": 10,
    "start_time": "2022-03-29T14:30:37.236Z"
   },
   {
    "duration": 3,
    "start_time": "2022-03-29T14:30:37.247Z"
   },
   {
    "duration": 13,
    "start_time": "2022-03-29T14:30:37.252Z"
   },
   {
    "duration": 10,
    "start_time": "2022-03-29T14:30:37.268Z"
   },
   {
    "duration": 14,
    "start_time": "2022-03-29T14:30:37.280Z"
   },
   {
    "duration": 48,
    "start_time": "2022-03-29T14:30:37.296Z"
   },
   {
    "duration": 4,
    "start_time": "2022-03-29T14:30:37.345Z"
   },
   {
    "duration": 24,
    "start_time": "2022-03-29T14:30:37.351Z"
   },
   {
    "duration": 16,
    "start_time": "2022-03-29T14:30:37.377Z"
   },
   {
    "duration": 42,
    "start_time": "2022-03-29T14:30:37.395Z"
   },
   {
    "duration": 15,
    "start_time": "2022-03-29T14:30:37.441Z"
   },
   {
    "duration": 18,
    "start_time": "2022-03-29T14:30:37.458Z"
   },
   {
    "duration": 16,
    "start_time": "2022-03-29T14:30:37.478Z"
   },
   {
    "duration": 109,
    "start_time": "2022-03-29T14:30:37.496Z"
   },
   {
    "duration": 29,
    "start_time": "2022-03-29T14:30:37.607Z"
   },
   {
    "duration": 13,
    "start_time": "2022-03-29T14:30:37.638Z"
   },
   {
    "duration": 4,
    "start_time": "2022-03-29T14:30:37.653Z"
   },
   {
    "duration": 28,
    "start_time": "2022-03-29T14:30:37.659Z"
   },
   {
    "duration": 14,
    "start_time": "2022-03-29T14:30:37.688Z"
   },
   {
    "duration": 42,
    "start_time": "2022-03-29T14:30:37.704Z"
   },
   {
    "duration": 14,
    "start_time": "2022-03-29T14:30:37.747Z"
   },
   {
    "duration": 14,
    "start_time": "2022-03-29T14:30:37.762Z"
   },
   {
    "duration": 5,
    "start_time": "2022-03-29T14:30:59.207Z"
   },
   {
    "duration": 7,
    "start_time": "2022-03-29T14:31:40.901Z"
   },
   {
    "duration": 5,
    "start_time": "2022-03-29T14:31:57.285Z"
   },
   {
    "duration": 488,
    "start_time": "2022-04-09T09:04:02.301Z"
   },
   {
    "duration": 211,
    "start_time": "2022-04-09T09:04:02.792Z"
   },
   {
    "duration": 29,
    "start_time": "2022-04-09T09:04:03.005Z"
   },
   {
    "duration": 68,
    "start_time": "2022-04-09T09:04:03.038Z"
   },
   {
    "duration": 6,
    "start_time": "2022-04-09T09:04:03.109Z"
   },
   {
    "duration": 20,
    "start_time": "2022-04-09T09:04:03.117Z"
   },
   {
    "duration": 30,
    "start_time": "2022-04-09T09:04:03.139Z"
   },
   {
    "duration": 67,
    "start_time": "2022-04-09T09:04:03.171Z"
   },
   {
    "duration": 43,
    "start_time": "2022-04-09T09:04:03.241Z"
   },
   {
    "duration": 35,
    "start_time": "2022-04-09T09:04:03.288Z"
   },
   {
    "duration": 116,
    "start_time": "2022-04-09T09:04:03.325Z"
   },
   {
    "duration": 115,
    "start_time": "2022-04-09T09:04:03.443Z"
   },
   {
    "duration": 89,
    "start_time": "2022-04-09T09:04:03.561Z"
   },
   {
    "duration": 17,
    "start_time": "2022-04-09T09:04:03.667Z"
   },
   {
    "duration": 10,
    "start_time": "2022-04-09T09:04:03.686Z"
   },
   {
    "duration": 17,
    "start_time": "2022-04-09T09:04:03.698Z"
   },
   {
    "duration": 21,
    "start_time": "2022-04-09T09:04:03.718Z"
   },
   {
    "duration": 60,
    "start_time": "2022-04-09T09:04:03.741Z"
   },
   {
    "duration": 23,
    "start_time": "2022-04-09T09:04:03.803Z"
   },
   {
    "duration": 6,
    "start_time": "2022-04-09T09:04:03.829Z"
   },
   {
    "duration": 53,
    "start_time": "2022-04-09T09:04:03.838Z"
   },
   {
    "duration": 22,
    "start_time": "2022-04-09T09:04:03.893Z"
   },
   {
    "duration": 21,
    "start_time": "2022-04-09T09:04:03.918Z"
   },
   {
    "duration": 48,
    "start_time": "2022-04-09T09:04:03.941Z"
   },
   {
    "duration": 21,
    "start_time": "2022-04-09T09:04:03.992Z"
   },
   {
    "duration": 18,
    "start_time": "2022-04-09T09:04:04.015Z"
   },
   {
    "duration": 167,
    "start_time": "2022-04-09T09:04:04.036Z"
   },
   {
    "duration": 18,
    "start_time": "2022-04-09T09:04:04.209Z"
   },
   {
    "duration": 16,
    "start_time": "2022-04-09T09:04:04.230Z"
   },
   {
    "duration": 12,
    "start_time": "2022-04-09T09:04:04.267Z"
   },
   {
    "duration": 27,
    "start_time": "2022-04-09T09:04:04.282Z"
   },
   {
    "duration": 15,
    "start_time": "2022-04-09T09:04:04.311Z"
   },
   {
    "duration": 45,
    "start_time": "2022-04-09T09:04:04.328Z"
   },
   {
    "duration": 17,
    "start_time": "2022-04-09T09:04:04.375Z"
   },
   {
    "duration": 13,
    "start_time": "2022-04-09T09:04:04.394Z"
   },
   {
    "duration": 6,
    "start_time": "2022-04-09T09:04:04.410Z"
   },
   {
    "duration": 13,
    "start_time": "2022-04-09T09:04:04.418Z"
   },
   {
    "duration": 39,
    "start_time": "2022-04-09T09:04:04.433Z"
   },
   {
    "duration": 679,
    "start_time": "2022-04-09T09:25:48.414Z"
   },
   {
    "duration": 299,
    "start_time": "2022-04-09T09:25:49.096Z"
   },
   {
    "duration": 41,
    "start_time": "2022-04-09T09:25:49.397Z"
   },
   {
    "duration": 75,
    "start_time": "2022-04-09T09:25:49.442Z"
   },
   {
    "duration": 6,
    "start_time": "2022-04-09T09:25:49.520Z"
   },
   {
    "duration": 45,
    "start_time": "2022-04-09T09:25:49.529Z"
   },
   {
    "duration": 11,
    "start_time": "2022-04-09T09:25:49.576Z"
   },
   {
    "duration": 37,
    "start_time": "2022-04-09T09:25:49.589Z"
   },
   {
    "duration": 54,
    "start_time": "2022-04-09T09:25:49.629Z"
   },
   {
    "duration": 33,
    "start_time": "2022-04-09T09:25:49.687Z"
   },
   {
    "duration": 119,
    "start_time": "2022-04-09T09:25:49.722Z"
   },
   {
    "duration": 123,
    "start_time": "2022-04-09T09:25:49.844Z"
   },
   {
    "duration": 101,
    "start_time": "2022-04-09T09:25:49.970Z"
   },
   {
    "duration": 15,
    "start_time": "2022-04-09T09:25:50.073Z"
   },
   {
    "duration": 4,
    "start_time": "2022-04-09T09:25:50.090Z"
   },
   {
    "duration": 16,
    "start_time": "2022-04-09T09:25:50.096Z"
   },
   {
    "duration": 15,
    "start_time": "2022-04-09T09:25:50.114Z"
   },
   {
    "duration": 52,
    "start_time": "2022-04-09T09:25:50.131Z"
   },
   {
    "duration": 18,
    "start_time": "2022-04-09T09:25:50.185Z"
   },
   {
    "duration": 5,
    "start_time": "2022-04-09T09:25:50.205Z"
   },
   {
    "duration": 59,
    "start_time": "2022-04-09T09:25:50.212Z"
   },
   {
    "duration": 21,
    "start_time": "2022-04-09T09:25:50.273Z"
   },
   {
    "duration": 20,
    "start_time": "2022-04-09T09:25:50.296Z"
   },
   {
    "duration": 51,
    "start_time": "2022-04-09T09:25:50.318Z"
   },
   {
    "duration": 23,
    "start_time": "2022-04-09T09:25:50.371Z"
   },
   {
    "duration": 20,
    "start_time": "2022-04-09T09:25:50.396Z"
   },
   {
    "duration": 122,
    "start_time": "2022-04-09T09:25:50.419Z"
   },
   {
    "duration": 29,
    "start_time": "2022-04-09T09:25:50.546Z"
   },
   {
    "duration": 13,
    "start_time": "2022-04-09T09:25:50.577Z"
   },
   {
    "duration": 8,
    "start_time": "2022-04-09T09:25:50.592Z"
   },
   {
    "duration": 32,
    "start_time": "2022-04-09T09:25:50.602Z"
   },
   {
    "duration": 42,
    "start_time": "2022-04-09T09:25:50.637Z"
   },
   {
    "duration": 20,
    "start_time": "2022-04-09T09:25:50.682Z"
   },
   {
    "duration": 15,
    "start_time": "2022-04-09T09:25:50.705Z"
   },
   {
    "duration": 45,
    "start_time": "2022-04-09T09:25:50.722Z"
   },
   {
    "duration": 7,
    "start_time": "2022-04-09T09:25:50.769Z"
   },
   {
    "duration": 13,
    "start_time": "2022-04-09T09:25:50.779Z"
   },
   {
    "duration": 6,
    "start_time": "2022-04-09T09:25:50.795Z"
   },
   {
    "duration": 50,
    "start_time": "2022-04-09T19:49:14.808Z"
   },
   {
    "duration": 432,
    "start_time": "2022-04-09T19:49:33.643Z"
   },
   {
    "duration": 182,
    "start_time": "2022-04-09T19:49:34.077Z"
   },
   {
    "duration": 19,
    "start_time": "2022-04-09T19:49:34.261Z"
   },
   {
    "duration": 35,
    "start_time": "2022-04-09T19:49:34.283Z"
   },
   {
    "duration": 24,
    "start_time": "2022-04-09T19:49:34.320Z"
   },
   {
    "duration": 20,
    "start_time": "2022-04-09T19:49:34.346Z"
   },
   {
    "duration": 11,
    "start_time": "2022-04-09T19:49:34.368Z"
   },
   {
    "duration": 33,
    "start_time": "2022-04-09T19:49:34.381Z"
   },
   {
    "duration": 36,
    "start_time": "2022-04-09T19:49:34.416Z"
   },
   {
    "duration": 27,
    "start_time": "2022-04-09T19:49:34.455Z"
   },
   {
    "duration": 88,
    "start_time": "2022-04-09T19:49:34.484Z"
   },
   {
    "duration": 99,
    "start_time": "2022-04-09T19:49:34.574Z"
   },
   {
    "duration": 76,
    "start_time": "2022-04-09T19:49:34.675Z"
   },
   {
    "duration": 41,
    "start_time": "2022-04-09T19:49:36.731Z"
   },
   {
    "duration": 42,
    "start_time": "2022-04-09T19:50:44.340Z"
   },
   {
    "duration": 42,
    "start_time": "2022-04-09T19:51:03.232Z"
   }
  ],
  "colab": {
   "collapsed_sections": [
    "E0vqbgi9ay0H",
    "VUC88oWjTJw2"
   ],
   "name": "yandex_music_project.ipynb",
   "provenance": []
  },
  "kernelspec": {
   "display_name": "Python 3 (ipykernel)",
   "language": "python",
   "name": "python3"
  },
  "language_info": {
   "codemirror_mode": {
    "name": "ipython",
    "version": 3
   },
   "file_extension": ".py",
   "mimetype": "text/x-python",
   "name": "python",
   "nbconvert_exporter": "python",
   "pygments_lexer": "ipython3",
   "version": "3.9.7"
  },
  "toc": {
   "base_numbering": 1,
   "nav_menu": {},
   "number_sections": true,
   "sideBar": true,
   "skip_h1_title": true,
   "title_cell": "Table of Contents",
   "title_sidebar": "Contents",
   "toc_cell": false,
   "toc_position": {},
   "toc_section_display": true,
   "toc_window_display": true
  }
 },
 "nbformat": 4,
 "nbformat_minor": 1
}
