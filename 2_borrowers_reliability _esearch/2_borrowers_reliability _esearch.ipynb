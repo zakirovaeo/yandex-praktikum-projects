{
 "cells": [
  {
   "cell_type": "markdown",
   "id": "eec78b9f",
   "metadata": {},
   "source": [
    "# Исследование надежности заемщиков."
   ]
  },
  {
   "cell_type": "markdown",
   "id": "e36a3dc1",
   "metadata": {},
   "source": [
    "**Цель проекта:** выяснить, влияет ли семейное положение и количество детей клиента на факт погашения кредита в срок.  \n",
    "**Входные данные:** файл от банка со статистикой о платёжеспособности клиентов.  \n",
    "**План работ:**\n",
    "1. Изучить данные \n",
    "1. Предобработать данные: удалить пропуски, исправить аномалии, категоризоровать \n",
    "1. Проверить гипотезы о зависимсоти погашения кредита в срок от разных факторов"
   ]
  },
  {
   "cell_type": "markdown",
   "id": "5efc8146",
   "metadata": {},
   "source": [
    "## Обзор данных\n",
    "<a name=\"1._Обзор_данных\"></a>"
   ]
  },
  {
   "cell_type": "markdown",
   "id": "97af1bf3",
   "metadata": {},
   "source": [
    "Смотрим содержимое датасета и описание данных:"
   ]
  },
  {
   "cell_type": "code",
   "execution_count": 1,
   "id": "e58e41e0",
   "metadata": {
    "scrolled": false
   },
   "outputs": [
    {
     "data": {
      "text/html": [
       "<div>\n",
       "<style scoped>\n",
       "    .dataframe tbody tr th:only-of-type {\n",
       "        vertical-align: middle;\n",
       "    }\n",
       "\n",
       "    .dataframe tbody tr th {\n",
       "        vertical-align: top;\n",
       "    }\n",
       "\n",
       "    .dataframe thead th {\n",
       "        text-align: right;\n",
       "    }\n",
       "</style>\n",
       "<table border=\"1\" class=\"dataframe\">\n",
       "  <thead>\n",
       "    <tr style=\"text-align: right;\">\n",
       "      <th></th>\n",
       "      <th>children</th>\n",
       "      <th>days_employed</th>\n",
       "      <th>dob_years</th>\n",
       "      <th>education</th>\n",
       "      <th>education_id</th>\n",
       "      <th>family_status</th>\n",
       "      <th>family_status_id</th>\n",
       "      <th>gender</th>\n",
       "      <th>income_type</th>\n",
       "      <th>debt</th>\n",
       "      <th>total_income</th>\n",
       "      <th>purpose</th>\n",
       "    </tr>\n",
       "  </thead>\n",
       "  <tbody>\n",
       "    <tr>\n",
       "      <th>0</th>\n",
       "      <td>1</td>\n",
       "      <td>-8437.673028</td>\n",
       "      <td>42</td>\n",
       "      <td>высшее</td>\n",
       "      <td>0</td>\n",
       "      <td>женат / замужем</td>\n",
       "      <td>0</td>\n",
       "      <td>F</td>\n",
       "      <td>сотрудник</td>\n",
       "      <td>0</td>\n",
       "      <td>253875.639453</td>\n",
       "      <td>покупка жилья</td>\n",
       "    </tr>\n",
       "    <tr>\n",
       "      <th>1</th>\n",
       "      <td>1</td>\n",
       "      <td>-4024.803754</td>\n",
       "      <td>36</td>\n",
       "      <td>среднее</td>\n",
       "      <td>1</td>\n",
       "      <td>женат / замужем</td>\n",
       "      <td>0</td>\n",
       "      <td>F</td>\n",
       "      <td>сотрудник</td>\n",
       "      <td>0</td>\n",
       "      <td>112080.014102</td>\n",
       "      <td>приобретение автомобиля</td>\n",
       "    </tr>\n",
       "    <tr>\n",
       "      <th>2</th>\n",
       "      <td>0</td>\n",
       "      <td>-5623.422610</td>\n",
       "      <td>33</td>\n",
       "      <td>Среднее</td>\n",
       "      <td>1</td>\n",
       "      <td>женат / замужем</td>\n",
       "      <td>0</td>\n",
       "      <td>M</td>\n",
       "      <td>сотрудник</td>\n",
       "      <td>0</td>\n",
       "      <td>145885.952297</td>\n",
       "      <td>покупка жилья</td>\n",
       "    </tr>\n",
       "    <tr>\n",
       "      <th>3</th>\n",
       "      <td>3</td>\n",
       "      <td>-4124.747207</td>\n",
       "      <td>32</td>\n",
       "      <td>среднее</td>\n",
       "      <td>1</td>\n",
       "      <td>женат / замужем</td>\n",
       "      <td>0</td>\n",
       "      <td>M</td>\n",
       "      <td>сотрудник</td>\n",
       "      <td>0</td>\n",
       "      <td>267628.550329</td>\n",
       "      <td>дополнительное образование</td>\n",
       "    </tr>\n",
       "    <tr>\n",
       "      <th>4</th>\n",
       "      <td>0</td>\n",
       "      <td>340266.072047</td>\n",
       "      <td>53</td>\n",
       "      <td>среднее</td>\n",
       "      <td>1</td>\n",
       "      <td>гражданский брак</td>\n",
       "      <td>1</td>\n",
       "      <td>F</td>\n",
       "      <td>пенсионер</td>\n",
       "      <td>0</td>\n",
       "      <td>158616.077870</td>\n",
       "      <td>сыграть свадьбу</td>\n",
       "    </tr>\n",
       "    <tr>\n",
       "      <th>...</th>\n",
       "      <td>...</td>\n",
       "      <td>...</td>\n",
       "      <td>...</td>\n",
       "      <td>...</td>\n",
       "      <td>...</td>\n",
       "      <td>...</td>\n",
       "      <td>...</td>\n",
       "      <td>...</td>\n",
       "      <td>...</td>\n",
       "      <td>...</td>\n",
       "      <td>...</td>\n",
       "      <td>...</td>\n",
       "    </tr>\n",
       "    <tr>\n",
       "      <th>21520</th>\n",
       "      <td>1</td>\n",
       "      <td>-4529.316663</td>\n",
       "      <td>43</td>\n",
       "      <td>среднее</td>\n",
       "      <td>1</td>\n",
       "      <td>гражданский брак</td>\n",
       "      <td>1</td>\n",
       "      <td>F</td>\n",
       "      <td>компаньон</td>\n",
       "      <td>0</td>\n",
       "      <td>224791.862382</td>\n",
       "      <td>операции с жильем</td>\n",
       "    </tr>\n",
       "    <tr>\n",
       "      <th>21521</th>\n",
       "      <td>0</td>\n",
       "      <td>343937.404131</td>\n",
       "      <td>67</td>\n",
       "      <td>среднее</td>\n",
       "      <td>1</td>\n",
       "      <td>женат / замужем</td>\n",
       "      <td>0</td>\n",
       "      <td>F</td>\n",
       "      <td>пенсионер</td>\n",
       "      <td>0</td>\n",
       "      <td>155999.806512</td>\n",
       "      <td>сделка с автомобилем</td>\n",
       "    </tr>\n",
       "    <tr>\n",
       "      <th>21522</th>\n",
       "      <td>1</td>\n",
       "      <td>-2113.346888</td>\n",
       "      <td>38</td>\n",
       "      <td>среднее</td>\n",
       "      <td>1</td>\n",
       "      <td>гражданский брак</td>\n",
       "      <td>1</td>\n",
       "      <td>M</td>\n",
       "      <td>сотрудник</td>\n",
       "      <td>1</td>\n",
       "      <td>89672.561153</td>\n",
       "      <td>недвижимость</td>\n",
       "    </tr>\n",
       "    <tr>\n",
       "      <th>21523</th>\n",
       "      <td>3</td>\n",
       "      <td>-3112.481705</td>\n",
       "      <td>38</td>\n",
       "      <td>среднее</td>\n",
       "      <td>1</td>\n",
       "      <td>женат / замужем</td>\n",
       "      <td>0</td>\n",
       "      <td>M</td>\n",
       "      <td>сотрудник</td>\n",
       "      <td>1</td>\n",
       "      <td>244093.050500</td>\n",
       "      <td>на покупку своего автомобиля</td>\n",
       "    </tr>\n",
       "    <tr>\n",
       "      <th>21524</th>\n",
       "      <td>2</td>\n",
       "      <td>-1984.507589</td>\n",
       "      <td>40</td>\n",
       "      <td>среднее</td>\n",
       "      <td>1</td>\n",
       "      <td>женат / замужем</td>\n",
       "      <td>0</td>\n",
       "      <td>F</td>\n",
       "      <td>сотрудник</td>\n",
       "      <td>0</td>\n",
       "      <td>82047.418899</td>\n",
       "      <td>на покупку автомобиля</td>\n",
       "    </tr>\n",
       "  </tbody>\n",
       "</table>\n",
       "<p>21525 rows × 12 columns</p>\n",
       "</div>"
      ],
      "text/plain": [
       "       children  days_employed  dob_years education  education_id  \\\n",
       "0             1   -8437.673028         42    высшее             0   \n",
       "1             1   -4024.803754         36   среднее             1   \n",
       "2             0   -5623.422610         33   Среднее             1   \n",
       "3             3   -4124.747207         32   среднее             1   \n",
       "4             0  340266.072047         53   среднее             1   \n",
       "...         ...            ...        ...       ...           ...   \n",
       "21520         1   -4529.316663         43   среднее             1   \n",
       "21521         0  343937.404131         67   среднее             1   \n",
       "21522         1   -2113.346888         38   среднее             1   \n",
       "21523         3   -3112.481705         38   среднее             1   \n",
       "21524         2   -1984.507589         40   среднее             1   \n",
       "\n",
       "          family_status  family_status_id gender income_type  debt  \\\n",
       "0       женат / замужем                 0      F   сотрудник     0   \n",
       "1       женат / замужем                 0      F   сотрудник     0   \n",
       "2       женат / замужем                 0      M   сотрудник     0   \n",
       "3       женат / замужем                 0      M   сотрудник     0   \n",
       "4      гражданский брак                 1      F   пенсионер     0   \n",
       "...                 ...               ...    ...         ...   ...   \n",
       "21520  гражданский брак                 1      F   компаньон     0   \n",
       "21521   женат / замужем                 0      F   пенсионер     0   \n",
       "21522  гражданский брак                 1      M   сотрудник     1   \n",
       "21523   женат / замужем                 0      M   сотрудник     1   \n",
       "21524   женат / замужем                 0      F   сотрудник     0   \n",
       "\n",
       "        total_income                       purpose  \n",
       "0      253875.639453                 покупка жилья  \n",
       "1      112080.014102       приобретение автомобиля  \n",
       "2      145885.952297                 покупка жилья  \n",
       "3      267628.550329    дополнительное образование  \n",
       "4      158616.077870               сыграть свадьбу  \n",
       "...              ...                           ...  \n",
       "21520  224791.862382             операции с жильем  \n",
       "21521  155999.806512          сделка с автомобилем  \n",
       "21522   89672.561153                  недвижимость  \n",
       "21523  244093.050500  на покупку своего автомобиля  \n",
       "21524   82047.418899         на покупку автомобиля  \n",
       "\n",
       "[21525 rows x 12 columns]"
      ]
     },
     "metadata": {},
     "output_type": "display_data"
    },
    {
     "name": "stdout",
     "output_type": "stream",
     "text": [
      "<class 'pandas.core.frame.DataFrame'>\n",
      "RangeIndex: 21525 entries, 0 to 21524\n",
      "Data columns (total 12 columns):\n",
      " #   Column            Non-Null Count  Dtype  \n",
      "---  ------            --------------  -----  \n",
      " 0   children          21525 non-null  int64  \n",
      " 1   days_employed     19351 non-null  float64\n",
      " 2   dob_years         21525 non-null  int64  \n",
      " 3   education         21525 non-null  object \n",
      " 4   education_id      21525 non-null  int64  \n",
      " 5   family_status     21525 non-null  object \n",
      " 6   family_status_id  21525 non-null  int64  \n",
      " 7   gender            21525 non-null  object \n",
      " 8   income_type       21525 non-null  object \n",
      " 9   debt              21525 non-null  int64  \n",
      " 10  total_income      19351 non-null  float64\n",
      " 11  purpose           21525 non-null  object \n",
      "dtypes: float64(2), int64(5), object(5)\n",
      "memory usage: 2.0+ MB\n"
     ]
    }
   ],
   "source": [
    "#импортируем библиотеки\n",
    "import pandas as pd\n",
    "from IPython.display import display\n",
    "#читаем данные из файла\n",
    "try:\n",
    "    data = pd.read_csv('data.csv')\n",
    "except:\n",
    "    data = pd.read_csv('datasets/data.csv')\n",
    "#выводим содержимое и общую информацию\n",
    "display(data) \n",
    "data.info()"
   ]
  },
  {
   "cell_type": "markdown",
   "id": "b1164b31",
   "metadata": {},
   "source": [
    "## Предобработка данных\n",
    "<a name=\"2._Предобработка_данных\"></a>"
   ]
  },
  {
   "cell_type": "markdown",
   "id": "2142ee31",
   "metadata": {},
   "source": [
    "###  Заполнение пропусков\n",
    "<a name=\"2.1_Заполнение_пропусков\"></a>"
   ]
  },
  {
   "cell_type": "markdown",
   "id": "80dc628d",
   "metadata": {},
   "source": [
    "В столбцах `days_employed`  и `total_income` есть пропуски. Это можно увидеть из вывода метода `info()` в предыдущем разделе.  \n",
    "Проверим какую долю составляют пропущенные значения в каждом из столбцов с пропусками:"
   ]
  },
  {
   "cell_type": "code",
   "execution_count": 2,
   "id": "b6d593a4",
   "metadata": {},
   "outputs": [
    {
     "name": "stdout",
     "output_type": "stream",
     "text": [
      "Доля пропусков в столбце days_employed: 10%\n",
      "Доля пропусков в столбце total_income: 10%\n"
     ]
    }
   ],
   "source": [
    "#вычисляем доли\n",
    "days_employed_null_part = data['days_employed'].isna().sum() / len(data)\n",
    "total_income_null_part = data['total_income'].isna().sum() / len(data)\n",
    "#выводим отформатированно в %\n",
    "print(f'Доля пропусков в столбце days_employed: {days_employed_null_part:.0%}')\n",
    "print(f'Доля пропусков в столбце total_income: {total_income_null_part:.0%}')"
   ]
  },
  {
   "cell_type": "markdown",
   "id": "03597a8c",
   "metadata": {},
   "source": [
    "Вероятно, в данных столбцах появились пропуски, так как не все клиенты предоставили банку данные о трудовом стаже и ежемесячном доходе."
   ]
  },
  {
   "cell_type": "markdown",
   "id": "4063c9b9",
   "metadata": {},
   "source": [
    "Заполним пропуски медианным значением.  \n",
    "*Именно **медианным**, а не средним арифметическим, так как таким образом статистика не будет искажена из-за выбросов (аномалий) в данных.*"
   ]
  },
  {
   "cell_type": "code",
   "execution_count": 3,
   "id": "81f9a6f5",
   "metadata": {},
   "outputs": [
    {
     "name": "stdout",
     "output_type": "stream",
     "text": [
      "<class 'pandas.core.frame.DataFrame'>\n",
      "RangeIndex: 21525 entries, 0 to 21524\n",
      "Data columns (total 12 columns):\n",
      " #   Column            Non-Null Count  Dtype  \n",
      "---  ------            --------------  -----  \n",
      " 0   children          21525 non-null  int64  \n",
      " 1   days_employed     21525 non-null  float64\n",
      " 2   dob_years         21525 non-null  int64  \n",
      " 3   education         21525 non-null  object \n",
      " 4   education_id      21525 non-null  int64  \n",
      " 5   family_status     21525 non-null  object \n",
      " 6   family_status_id  21525 non-null  int64  \n",
      " 7   gender            21525 non-null  object \n",
      " 8   income_type       21525 non-null  object \n",
      " 9   debt              21525 non-null  int64  \n",
      " 10  total_income      21525 non-null  float64\n",
      " 11  purpose           21525 non-null  object \n",
      "dtypes: float64(2), int64(5), object(5)\n",
      "memory usage: 2.0+ MB\n"
     ]
    }
   ],
   "source": [
    "#заполняем пропуски\n",
    "data['days_employed'] = data['days_employed'].fillna(data['days_employed'].median())\n",
    "data['total_income'] = data['total_income'].fillna(data['total_income'].median())\n",
    "#проверяем результат \n",
    "data.info()"
   ]
  },
  {
   "cell_type": "markdown",
   "id": "e61bfde8",
   "metadata": {},
   "source": [
    "### Проверка данных на аномалии и исправления\n",
    "<a name=\"2.2_Проверка_данных_на_аномалии_и_исправления\"></a>"
   ]
  },
  {
   "cell_type": "markdown",
   "id": "0e4d583e",
   "metadata": {},
   "source": [
    "Проверим все столбцы на наличие аномальных значений:"
   ]
  },
  {
   "cell_type": "code",
   "execution_count": 4,
   "id": "9ec8fe57",
   "metadata": {},
   "outputs": [
    {
     "name": "stdout",
     "output_type": "stream",
     "text": [
      "Столбец children\n",
      " 0     14149\n",
      " 1      4818\n",
      " 2      2055\n",
      " 3       330\n",
      " 20       76\n",
      "-1        47\n",
      " 4        41\n",
      " 5         9\n",
      "Name: children, dtype: int64\n",
      "\n",
      "Столбец dob_years\n",
      "35    617\n",
      "40    609\n",
      "41    607\n",
      "34    603\n",
      "38    598\n",
      "42    597\n",
      "33    581\n",
      "39    573\n",
      "31    560\n",
      "36    555\n",
      "44    547\n",
      "29    545\n",
      "30    540\n",
      "48    538\n",
      "37    537\n",
      "50    514\n",
      "43    513\n",
      "32    510\n",
      "49    508\n",
      "28    503\n",
      "45    497\n",
      "27    493\n",
      "56    487\n",
      "52    484\n",
      "47    480\n",
      "54    479\n",
      "46    475\n",
      "58    461\n",
      "57    460\n",
      "53    459\n",
      "51    448\n",
      "59    444\n",
      "55    443\n",
      "26    408\n",
      "60    377\n",
      "25    357\n",
      "61    355\n",
      "62    352\n",
      "63    269\n",
      "64    265\n",
      "24    264\n",
      "23    254\n",
      "65    194\n",
      "22    183\n",
      "66    183\n",
      "67    167\n",
      "21    111\n",
      "0     101\n",
      "68     99\n",
      "69     85\n",
      "70     65\n",
      "71     58\n",
      "20     51\n",
      "72     33\n",
      "19     14\n",
      "73      8\n",
      "74      6\n",
      "75      1\n",
      "Name: dob_years, dtype: int64\n",
      "\n",
      "Столбец education\n",
      "среднее                13750\n",
      "высшее                  4718\n",
      "СРЕДНЕЕ                  772\n",
      "Среднее                  711\n",
      "неоконченное высшее      668\n",
      "ВЫСШЕЕ                   274\n",
      "Высшее                   268\n",
      "начальное                250\n",
      "Неоконченное высшее       47\n",
      "НЕОКОНЧЕННОЕ ВЫСШЕЕ       29\n",
      "НАЧАЛЬНОЕ                 17\n",
      "Начальное                 15\n",
      "ученая степень             4\n",
      "Ученая степень             1\n",
      "УЧЕНАЯ СТЕПЕНЬ             1\n",
      "Name: education, dtype: int64\n",
      "\n",
      "Столбец education_id\n",
      "1    15233\n",
      "0     5260\n",
      "2      744\n",
      "3      282\n",
      "4        6\n",
      "Name: education_id, dtype: int64\n",
      "\n",
      "Столбец family_status\n",
      "женат / замужем          12380\n",
      "гражданский брак          4177\n",
      "Не женат / не замужем     2813\n",
      "в разводе                 1195\n",
      "вдовец / вдова             960\n",
      "Name: family_status, dtype: int64\n",
      "\n",
      "Столбец family_status_id\n",
      "0    12380\n",
      "1     4177\n",
      "4     2813\n",
      "3     1195\n",
      "2      960\n",
      "Name: family_status_id, dtype: int64\n",
      "\n",
      "Столбец gender\n",
      "F      14236\n",
      "M       7288\n",
      "XNA        1\n",
      "Name: gender, dtype: int64\n",
      "\n",
      "Столбец income_type\n",
      "сотрудник          11119\n",
      "компаньон           5085\n",
      "пенсионер           3856\n",
      "госслужащий         1459\n",
      "безработный            2\n",
      "предприниматель        2\n",
      "студент                1\n",
      "в декрете              1\n",
      "Name: income_type, dtype: int64\n",
      "\n",
      "Столбец debt\n",
      "0    19784\n",
      "1     1741\n",
      "Name: debt, dtype: int64\n",
      "\n",
      "Столбец total_income\n",
      "145017.937533    2175\n",
      "253875.639453       1\n",
      "131286.073745       1\n",
      "116196.518662       1\n",
      "157205.834562       1\n",
      "                 ... \n",
      "148042.721049       1\n",
      "60039.334460        1\n",
      "175979.762960       1\n",
      "155819.968351       1\n",
      "82047.418899        1\n",
      "Name: total_income, Length: 19351, dtype: int64\n",
      "\n",
      "Столбец purpose\n",
      "свадьба                                   797\n",
      "на проведение свадьбы                     777\n",
      "сыграть свадьбу                           774\n",
      "операции с недвижимостью                  676\n",
      "покупка коммерческой недвижимости         664\n",
      "покупка жилья для сдачи                   653\n",
      "операции с жильем                         653\n",
      "операции с коммерческой недвижимостью     651\n",
      "покупка жилья                             647\n",
      "жилье                                     647\n",
      "покупка жилья для семьи                   641\n",
      "строительство собственной недвижимости    635\n",
      "недвижимость                              634\n",
      "операции со своей недвижимостью           630\n",
      "строительство жилой недвижимости          626\n",
      "покупка недвижимости                      624\n",
      "строительство недвижимости                620\n",
      "покупка своего жилья                      620\n",
      "ремонт жилью                              612\n",
      "покупка жилой недвижимости                607\n",
      "на покупку своего автомобиля              505\n",
      "заняться высшим образованием              496\n",
      "автомобиль                                495\n",
      "сделка с подержанным автомобилем          489\n",
      "свой автомобиль                           480\n",
      "на покупку подержанного автомобиля        479\n",
      "автомобили                                478\n",
      "на покупку автомобиля                     472\n",
      "дополнительное образование                462\n",
      "приобретение автомобиля                   462\n",
      "сделка с автомобилем                      455\n",
      "высшее образование                        453\n",
      "образование                               447\n",
      "получение дополнительного образования     447\n",
      "получение образования                     443\n",
      "профильное образование                    436\n",
      "получение высшего образования             426\n",
      "заняться образованием                     412\n",
      "Name: purpose, dtype: int64\n",
      "\n",
      "Столбец years_employed\n",
      "-3     3734\n",
      "-1     2023\n",
      "-2     1878\n",
      " 0     1827\n",
      "-4     1350\n",
      "       ... \n",
      "-42       2\n",
      "-44       2\n",
      "-48       1\n",
      "-45       1\n",
      "-50       1\n",
      "Name: years_employed, Length: 249, dtype: int64\n",
      "\n"
     ]
    }
   ],
   "source": [
    "#предварительно переведем дни трудового стажа в года и внесем данные в колонку years_employed\n",
    "data['years_employed'] = data['days_employed'] / 365\n",
    "#приведем годы к целому числу\n",
    "data['years_employed'] = data['years_employed'].astype('int') \n",
    "#удалим колонку 'days_employed'\n",
    "data = data.drop(['days_employed'], axis= 1)\n",
    "\n",
    "#проходим по всем столбцам и выводим уникальные значения и их количество\n",
    "for column in data.columns:\n",
    "    print('Столбец', column)\n",
    "    print(data[column].value_counts())\n",
    "    print()\n",
    " "
   ]
  },
  {
   "cell_type": "markdown",
   "id": "f3e6297e",
   "metadata": {},
   "source": [
    "Обнаружены следующие аномалии: \n",
    "1. `children` \n",
    "    1. Есть отрицательные значения. 47 клиентов с -1 ребенком. Скорее всего опечатка и в этих строках должен быть 1 ребенок.\n",
    "    1. 76 клиентов с 20 детьми - не очень похоже на правду. Скорее всего опечатка и в этих строках должно быть 2 ребенка.\n",
    "1. `years_employed` \n",
    "    1. Есть отрицательные значения. Опечатка или ошибка при выгрузке данных. Заменим на положительные\n",
    "    1. Есть значения > 900. Найдем все значения где трудовой стаж больше чем возраст клиента и заменим эти значения на среднее по медиане.\n",
    "1. `dob_years`\n",
    "    1. Есть значения 0. Несовершеннолетние не могут быть заемщиками. Опечатка или ошибка при выгрузке данных. Но таких значений < 1%, поэтому оставим их без изменений\n",
    "    \n"
   ]
  },
  {
   "cell_type": "markdown",
   "id": "4a9c16e9",
   "metadata": {},
   "source": [
    "Обработаем столбцы с аномалиями:"
   ]
  },
  {
   "cell_type": "code",
   "execution_count": 5,
   "id": "ab6f0813",
   "metadata": {},
   "outputs": [
    {
     "data": {
      "text/plain": [
       "0    14149\n",
       "1     4865\n",
       "2     2131\n",
       "3      330\n",
       "4       41\n",
       "5        9\n",
       "Name: children, dtype: int64"
      ]
     },
     "execution_count": 5,
     "metadata": {},
     "output_type": "execute_result"
    }
   ],
   "source": [
    "#В столбце children заменим -1 на 1\n",
    "data.loc[data['children'] == -1, 'children'] = 1\n",
    "#В столбце children заменим 20 на 2\n",
    "data.loc[data['children'] == 20, 'children'] = 2\n",
    "#Проверим результат\n",
    "data['children'].value_counts()"
   ]
  },
  {
   "cell_type": "code",
   "execution_count": 6,
   "id": "fe277eaf",
   "metadata": {},
   "outputs": [
    {
     "data": {
      "text/plain": [
       "4     4859\n",
       "3     3717\n",
       "1     2018\n",
       "2     1864\n",
       "0     1827\n",
       "5     1019\n",
       "6      961\n",
       "7      808\n",
       "8      746\n",
       "9      570\n",
       "10     455\n",
       "11     376\n",
       "12     345\n",
       "13     279\n",
       "14     251\n",
       "15     205\n",
       "16     133\n",
       "19     124\n",
       "17     117\n",
       "18      97\n",
       "20      90\n",
       "21      88\n",
       "22      80\n",
       "23      65\n",
       "24      53\n",
       "25      51\n",
       "26      50\n",
       "27      46\n",
       "30      34\n",
       "29      28\n",
       "32      28\n",
       "31      27\n",
       "28      25\n",
       "33      17\n",
       "34      12\n",
       "35      12\n",
       "36      10\n",
       "37       8\n",
       "38       7\n",
       "39       6\n",
       "40       4\n",
       "43       3\n",
       "41       3\n",
       "42       2\n",
       "44       2\n",
       "48       1\n",
       "45       1\n",
       "50       1\n",
       "Name: years_employed, dtype: int64"
      ]
     },
     "execution_count": 6,
     "metadata": {},
     "output_type": "execute_result"
    }
   ],
   "source": [
    "#В столбце years_employed заменим отрицательные значения на положительные: возьмем значение по модулю\n",
    "data['years_employed'] =  data['years_employed'].abs()\n",
    "#В столбце years_employed найдем все значения, где стаж больше возраста и заменим их на медианные\n",
    "data.loc[data['years_employed'] > data['dob_years'], 'years_employed'] = data['years_employed'].median()\n",
    "\n",
    "#Проверим результат\n",
    "data['years_employed'].value_counts()"
   ]
  },
  {
   "cell_type": "markdown",
   "id": "034ba34a",
   "metadata": {},
   "source": [
    "###  Изменение типов данных\n",
    "<a name=\"Изменение_типов_данных\"></a>"
   ]
  },
  {
   "cell_type": "markdown",
   "id": "ff67b106",
   "metadata": {},
   "source": [
    "Заменим в столбце `total_income` тип с вещенственного на целочисленный"
   ]
  },
  {
   "cell_type": "code",
   "execution_count": 7,
   "id": "083f9516",
   "metadata": {},
   "outputs": [
    {
     "name": "stdout",
     "output_type": "stream",
     "text": [
      "<class 'pandas.core.frame.DataFrame'>\n",
      "RangeIndex: 21525 entries, 0 to 21524\n",
      "Data columns (total 12 columns):\n",
      " #   Column            Non-Null Count  Dtype \n",
      "---  ------            --------------  ----- \n",
      " 0   children          21525 non-null  int64 \n",
      " 1   dob_years         21525 non-null  int64 \n",
      " 2   education         21525 non-null  object\n",
      " 3   education_id      21525 non-null  int64 \n",
      " 4   family_status     21525 non-null  object\n",
      " 5   family_status_id  21525 non-null  int64 \n",
      " 6   gender            21525 non-null  object\n",
      " 7   income_type       21525 non-null  object\n",
      " 8   debt              21525 non-null  int64 \n",
      " 9   total_income      21525 non-null  int64 \n",
      " 10  purpose           21525 non-null  object\n",
      " 11  years_employed    21525 non-null  int64 \n",
      "dtypes: int64(7), object(5)\n",
      "memory usage: 2.0+ MB\n"
     ]
    }
   ],
   "source": [
    "#заменяем тип\n",
    "data['total_income'] = data['total_income'].astype('int') \n",
    "#проверяем результат\n",
    "data.info()"
   ]
  },
  {
   "cell_type": "markdown",
   "id": "ac59b730",
   "metadata": {},
   "source": [
    "### Удаление дубликатов\n",
    "<a name=\"Удаление_дубликатов\"></a>"
   ]
  },
  {
   "cell_type": "markdown",
   "id": "abd24422",
   "metadata": {},
   "source": [
    "#### Явные дубликаты\n",
    "<a name=\"Явные_дубликаты\"></a>"
   ]
  },
  {
   "cell_type": "code",
   "execution_count": 8,
   "id": "4e13da7e",
   "metadata": {},
   "outputs": [],
   "source": [
    "#проверяем есть ли яввные дубликаты и сколько их\n",
    "data.duplicated().sum()\n",
    "#удаляем явные дубликаты\n",
    "data = data.drop_duplicates().reset_index(drop= True)"
   ]
  },
  {
   "cell_type": "markdown",
   "id": "6178efd1",
   "metadata": {},
   "source": [
    "#### Неявные дубликаты\n",
    "<a name=\"Неявные_дубликаты\"></a>"
   ]
  },
  {
   "cell_type": "markdown",
   "id": "b62b6941",
   "metadata": {},
   "source": [
    "Проверим неявные дубликаты в столбцах в текстовым содержимым `family_status`, `education`, `income_type`, `purpose`"
   ]
  },
  {
   "cell_type": "code",
   "execution_count": 9,
   "id": "7102e5a1",
   "metadata": {},
   "outputs": [
    {
     "name": "stdout",
     "output_type": "stream",
     "text": [
      "женат / замужем          12344\n",
      "гражданский брак          4163\n",
      "Не женат / не замужем     2810\n",
      "в разводе                 1195\n",
      "вдовец / вдова             959\n",
      "Name: family_status, dtype: int64\n",
      "\n",
      "среднее                13705\n",
      "высшее                  4710\n",
      "СРЕДНЕЕ                  772\n",
      "Среднее                  711\n",
      "неоконченное высшее      668\n",
      "ВЫСШЕЕ                   273\n",
      "Высшее                   268\n",
      "начальное                250\n",
      "Неоконченное высшее       47\n",
      "НЕОКОНЧЕННОЕ ВЫСШЕЕ       29\n",
      "НАЧАЛЬНОЕ                 17\n",
      "Начальное                 15\n",
      "ученая степень             4\n",
      "Ученая степень             1\n",
      "УЧЕНАЯ СТЕПЕНЬ             1\n",
      "Name: education, dtype: int64\n",
      "\n",
      "сотрудник          11091\n",
      "компаньон           5080\n",
      "пенсионер           3837\n",
      "госслужащий         1457\n",
      "безработный            2\n",
      "предприниматель        2\n",
      "студент                1\n",
      "в декрете              1\n",
      "Name: income_type, dtype: int64\n",
      "\n",
      "свадьба                                   793\n",
      "на проведение свадьбы                     773\n",
      "сыграть свадьбу                           769\n",
      "операции с недвижимостью                  675\n",
      "покупка коммерческой недвижимости         662\n",
      "покупка жилья для сдачи                   652\n",
      "операции с жильем                         652\n",
      "операции с коммерческой недвижимостью     650\n",
      "покупка жилья                             646\n",
      "жилье                                     646\n",
      "покупка жилья для семьи                   638\n",
      "строительство собственной недвижимости    635\n",
      "недвижимость                              633\n",
      "операции со своей недвижимостью           627\n",
      "строительство жилой недвижимости          625\n",
      "покупка недвижимости                      621\n",
      "покупка своего жилья                      620\n",
      "строительство недвижимости                619\n",
      "ремонт жилью                              607\n",
      "покупка жилой недвижимости                606\n",
      "на покупку своего автомобиля              505\n",
      "заняться высшим образованием              496\n",
      "автомобиль                                494\n",
      "сделка с подержанным автомобилем          486\n",
      "свой автомобиль                           479\n",
      "на покупку подержанного автомобиля        478\n",
      "автомобили                                478\n",
      "на покупку автомобиля                     472\n",
      "приобретение автомобиля                   461\n",
      "дополнительное образование                460\n",
      "сделка с автомобилем                      455\n",
      "высшее образование                        452\n",
      "образование                               447\n",
      "получение дополнительного образования     447\n",
      "получение образования                     442\n",
      "профильное образование                    436\n",
      "получение высшего образования             426\n",
      "заняться образованием                     408\n",
      "Name: purpose, dtype: int64\n"
     ]
    }
   ],
   "source": [
    "print(data['family_status'].value_counts())\n",
    "print()\n",
    "print(data['education'].value_counts())\n",
    "print()\n",
    "print(data['income_type'].value_counts())\n",
    "print()\n",
    "print(data['purpose'].value_counts())"
   ]
  },
  {
   "cell_type": "markdown",
   "id": "691e5d32",
   "metadata": {},
   "source": [
    "* В столбцах `family_status` и `income_type` неявных дубликатов не обнаружено.   \n",
    "* В столбце `education` найдены неявные дубликаты. Они отличаются регистром. Приведем все значения к нижнему регистру. \n",
    "* В столбце `purpose` также найдены неявные дубликаты. Они отличаются написанием. Можно выявить следующие причины: свадьба, образование, автомобиль,  недвижимсоть. **Но поскольку в одном из следующих заданий требуется сделать категоризацию по данному столбцу, что фактически ознаечет обход подобных дубликатов, в этом задании оставим этот столбец как есть.** "
   ]
  },
  {
   "cell_type": "code",
   "execution_count": 10,
   "id": "16f345ca",
   "metadata": {},
   "outputs": [
    {
     "name": "stdout",
     "output_type": "stream",
     "text": [
      "среднее                15188\n",
      "высшее                  5251\n",
      "неоконченное высшее      744\n",
      "начальное                282\n",
      "ученая степень             6\n",
      "Name: education, dtype: int64\n"
     ]
    }
   ],
   "source": [
    "#приведем все значения в столбце education к нижнему регистру\n",
    "data['education'] = data['education'].str.lower()\n",
    "#проверим результат\n",
    "print(data['education'].value_counts())"
   ]
  },
  {
   "cell_type": "markdown",
   "id": "c7b44ab5",
   "metadata": {},
   "source": [
    "#### Возможные причины возникновения дубликатов"
   ]
  },
  {
   "cell_type": "markdown",
   "id": "da3dddcb",
   "metadata": {},
   "source": [
    "* Явные - дублирование строк при формировании файла-выгрузки\n",
    "* Неявные - клиенты указывали образование и причину для кредита вручную, а не выбирали из списка, поэтому появились разные варианты написания"
   ]
  },
  {
   "cell_type": "markdown",
   "id": "14ad9c0b",
   "metadata": {},
   "source": [
    "###  Формирование дополнительных датафреймов словарей, декомпозиция исходного датафрейма\n",
    "<a name=\"Формирование_дополнительных_датафреймов_словарей,_декомпозиция_исходного_датафрейма\"></a>"
   ]
  },
  {
   "cell_type": "code",
   "execution_count": 11,
   "id": "461b73d4",
   "metadata": {},
   "outputs": [
    {
     "name": "stdout",
     "output_type": "stream",
     "text": [
      "education_id  education          \n",
      "0             высшее                 1\n",
      "1             среднее                1\n",
      "2             неоконченное высшее    1\n",
      "3             начальное              1\n",
      "4             ученая степень         1\n",
      "dtype: int64\n"
     ]
    },
    {
     "data": {
      "text/plain": [
       "Index(['children', 'dob_years', 'education_id', 'family_status',\n",
       "       'family_status_id', 'gender', 'income_type', 'debt', 'total_income',\n",
       "       'purpose', 'years_employed'],\n",
       "      dtype='object')"
      ]
     },
     "execution_count": 11,
     "metadata": {},
     "output_type": "execute_result"
    }
   ],
   "source": [
    "#Создадим датафрейм education_dict\n",
    "education_dict = data[['education_id', 'education']]\n",
    "#Удалим дубликаты\n",
    "education_dict = education_dict.drop_duplicates().reset_index(drop= True)\n",
    "#Проверим результат\n",
    "print(education_dict.value_counts())\n",
    "\n",
    "#Удалим столбец 'education' из датафрейма data\n",
    "data = data.drop(['education'], axis= 1) \n",
    "#Проверим результат\n",
    "data.columns"
   ]
  },
  {
   "cell_type": "code",
   "execution_count": 12,
   "id": "128d7119",
   "metadata": {},
   "outputs": [
    {
     "name": "stdout",
     "output_type": "stream",
     "text": [
      "family_status_id  family_status        \n",
      "0                 женат / замужем          1\n",
      "1                 гражданский брак         1\n",
      "2                 вдовец / вдова           1\n",
      "3                 в разводе                1\n",
      "4                 Не женат / не замужем    1\n",
      "dtype: int64\n"
     ]
    },
    {
     "data": {
      "text/plain": [
       "Index(['children', 'dob_years', 'education_id', 'family_status_id', 'gender',\n",
       "       'income_type', 'debt', 'total_income', 'purpose', 'years_employed'],\n",
       "      dtype='object')"
      ]
     },
     "execution_count": 12,
     "metadata": {},
     "output_type": "execute_result"
    }
   ],
   "source": [
    "#Создадим датафрейм family_status_dict\n",
    "family_status_dict = data[['family_status_id', 'family_status']]\n",
    "#Удалим дубликаты\n",
    "family_status_dict = family_status_dict.drop_duplicates().reset_index(drop= True)\n",
    "#Проверим результат\n",
    "print(family_status_dict.value_counts())\n",
    "\n",
    "#Удалим столбец 'family_status' из датафрейма data\n",
    "data = data.drop(['family_status'], axis= 1) \n",
    "#Проверим результат\n",
    "data.columns"
   ]
  },
  {
   "cell_type": "markdown",
   "id": "6d38026e",
   "metadata": {},
   "source": [
    "###  Категоризация дохода\n",
    "<a name=\"Категоризация_дохода\"></a>"
   ]
  },
  {
   "cell_type": "code",
   "execution_count": 13,
   "id": "c68d9988",
   "metadata": {},
   "outputs": [
    {
     "name": "stdout",
     "output_type": "stream",
     "text": [
      "C    16033\n",
      "B     5041\n",
      "D      350\n",
      "A       25\n",
      "E       22\n",
      "Name: total_income_category, dtype: int64\n"
     ]
    }
   ],
   "source": [
    "#создадим функцию, которая принимает значение и в зависимсоти от него возвращает название категории\n",
    "def set_total_income_category (income):\n",
    "    try:\n",
    "        if 0 <= income <= 30000:\n",
    "            return 'E'\n",
    "        elif 30001 <= income <= 50000:\n",
    "            return 'D'\n",
    "        elif 50001 <= income <= 200000:\n",
    "            return 'C'\n",
    "        elif 200001 <= income <= 1000000:\n",
    "            return 'B'\n",
    "        else: return 'A'\n",
    "    except:  \n",
    "        return 'No category'\n",
    "\n",
    "#применим функцию к столбцу total_income. Результат выполнения поместим в столбец total_income_category\n",
    "data['total_income_category'] = data['total_income'].apply(set_total_income_category)\n",
    "#проверим резульат\n",
    "print(data['total_income_category'].value_counts())"
   ]
  },
  {
   "cell_type": "markdown",
   "id": "e218eba0",
   "metadata": {},
   "source": [
    "### Категоризация целей кредита\n",
    "<a name=\"Категоризация_целей_кредита\"></a>"
   ]
  },
  {
   "cell_type": "code",
   "execution_count": 14,
   "id": "5ae14241",
   "metadata": {},
   "outputs": [
    {
     "name": "stdout",
     "output_type": "stream",
     "text": [
      "операции с недвижимостью    10814\n",
      "операции с автомобилем       4308\n",
      "получение образования        4014\n",
      "проведение свадьбы           2335\n",
      "Name: purpose_category, dtype: int64\n"
     ]
    }
   ],
   "source": [
    "#создадим функцию, которая принимает значение и в зависимсоти  от него возвращает название категории\n",
    "def set_purpose_category (purpose):\n",
    "    try: \n",
    "        if 'свад' in purpose:\n",
    "            return 'проведение свадьбы'\n",
    "        elif 'образ' in purpose:\n",
    "            return 'получение образования'\n",
    "        elif 'автомобил' in purpose:\n",
    "            return 'операции с автомобилем'\n",
    "        elif 'недвиж' in purpose or 'жиль'in purpose:\n",
    "            return 'операции с недвижимостью'\n",
    "        else: return 'другое'\n",
    "    except:  \n",
    "        return('другое')\n",
    "\n",
    "#применим функцию к столбцу purpose. Результат выполнения поместим в столбец purpose_category\n",
    "data['purpose_category'] = data['purpose'].apply(set_purpose_category)\n",
    "#проверим резульат\n",
    "print(data['purpose_category'].value_counts())"
   ]
  },
  {
   "cell_type": "markdown",
   "id": "10e2970b",
   "metadata": {},
   "source": [
    "## Ответы на вопросы\n",
    "<a name=\"Ответы_на_вопросы\"></a>"
   ]
  },
  {
   "cell_type": "markdown",
   "id": "ae7d3652",
   "metadata": {},
   "source": [
    "### Зависимость между количеством детей и возвратом кредита в срок\n",
    "<a name=\"Зависимость_между_количеством_детей_и_возвратом_кредита_в_срок\"></a>"
   ]
  },
  {
   "cell_type": "markdown",
   "id": "a81de677",
   "metadata": {},
   "source": [
    "Для определения наличия данной зависимости сгруппируем данные по кол-ву детей и вычислим процент задолжностей по кредиту в каждой группе.  \n",
    "Имеет смысл сравнивать именно относительные величины, так как клиентов 5 детьми меньше чем клиентов без детей. "
   ]
  },
  {
   "cell_type": "code",
   "execution_count": 15,
   "id": "04f92a67",
   "metadata": {},
   "outputs": [
    {
     "data": {
      "text/html": [
       "<div>\n",
       "<style scoped>\n",
       "    .dataframe tbody tr th:only-of-type {\n",
       "        vertical-align: middle;\n",
       "    }\n",
       "\n",
       "    .dataframe tbody tr th {\n",
       "        vertical-align: top;\n",
       "    }\n",
       "\n",
       "    .dataframe thead th {\n",
       "        text-align: right;\n",
       "    }\n",
       "</style>\n",
       "<table border=\"1\" class=\"dataframe\">\n",
       "  <thead>\n",
       "    <tr style=\"text-align: right;\">\n",
       "      <th></th>\n",
       "      <th>debt</th>\n",
       "      <th>no_debt</th>\n",
       "      <th>debt_percent</th>\n",
       "    </tr>\n",
       "    <tr>\n",
       "      <th>children</th>\n",
       "      <th></th>\n",
       "      <th></th>\n",
       "      <th></th>\n",
       "    </tr>\n",
       "  </thead>\n",
       "  <tbody>\n",
       "    <tr>\n",
       "      <th>5</th>\n",
       "      <td>0</td>\n",
       "      <td>9</td>\n",
       "      <td>0.000000</td>\n",
       "    </tr>\n",
       "    <tr>\n",
       "      <th>0</th>\n",
       "      <td>1063</td>\n",
       "      <td>13044</td>\n",
       "      <td>7.535266</td>\n",
       "    </tr>\n",
       "    <tr>\n",
       "      <th>3</th>\n",
       "      <td>27</td>\n",
       "      <td>303</td>\n",
       "      <td>8.181818</td>\n",
       "    </tr>\n",
       "    <tr>\n",
       "      <th>1</th>\n",
       "      <td>445</td>\n",
       "      <td>4411</td>\n",
       "      <td>9.163921</td>\n",
       "    </tr>\n",
       "    <tr>\n",
       "      <th>2</th>\n",
       "      <td>202</td>\n",
       "      <td>1926</td>\n",
       "      <td>9.492481</td>\n",
       "    </tr>\n",
       "    <tr>\n",
       "      <th>4</th>\n",
       "      <td>4</td>\n",
       "      <td>37</td>\n",
       "      <td>9.756098</td>\n",
       "    </tr>\n",
       "  </tbody>\n",
       "</table>\n",
       "</div>"
      ],
      "text/plain": [
       "          debt  no_debt  debt_percent\n",
       "children                             \n",
       "5            0        9      0.000000\n",
       "0         1063    13044      7.535266\n",
       "3           27      303      8.181818\n",
       "1          445     4411      9.163921\n",
       "2          202     1926      9.492481\n",
       "4            4       37      9.756098"
      ]
     },
     "metadata": {},
     "output_type": "display_data"
    }
   ],
   "source": [
    "#составим сводную таблицу. Строки - кол-во детей, столбец - сумма кредитов с задолжностью\n",
    "children_pivot = data.pivot_table(index= 'children', values ='debt',  aggfunc='sum' )\n",
    "#добавим столбец no_debt - сумма кредитов без задолжностей\n",
    "children_pivot['no_debt'] = data.groupby('children')['debt'].count() - children_pivot['debt']\n",
    "#добавим столбец debt_percent - процент задолжностей от общего кол-ва кредитов в каждой группе\n",
    "children_pivot['debt_percent'] = children_pivot['debt'] /  (children_pivot['debt'] + children_pivot['no_debt']) * 100\n",
    "#выводим данные отсортированными по столбцу debt_percent\n",
    "display(children_pivot.sort_values(by= 'debt_percent'))\n"
   ]
  },
  {
   "cell_type": "markdown",
   "id": "0309dca6",
   "metadata": {},
   "source": [
    "**Вывод:** Меньше всего задолжностей у семей с 5 детьми, а больше всего - с 4. Явной корреляции между количеством детей и возвратом в срок не прослеживается.  \n",
    "Следует заметить, что клиентов с 5 детьми в датасете всего 9, это составлявляет меньше тысячной процента от общего числа клиентов. Данные по данной категории клиентов могут быть нерелевантными.  \n",
    "Можно сделать вывод, что **зависимости нет.**"
   ]
  },
  {
   "cell_type": "markdown",
   "id": "f35286f7",
   "metadata": {},
   "source": [
    "### Зависимость между семейным положением и возвратом кредита в срок\n",
    "<a name=\"Зависимость_между_семейным_положением_и_возвратом_кредита_в_срок\"></a>"
   ]
  },
  {
   "cell_type": "markdown",
   "id": "1fe40aef",
   "metadata": {},
   "source": [
    "Для определения наличия данной зависимости сгруппируем данные по семейному положению и вычислим процент задолжностей по кредиту в каждой группе.  \n",
    "Так же, как и в случае выше, будем сравнивать относительные показатели. "
   ]
  },
  {
   "cell_type": "code",
   "execution_count": 16,
   "id": "35e6626f",
   "metadata": {},
   "outputs": [
    {
     "data": {
      "text/html": [
       "<div>\n",
       "<style scoped>\n",
       "    .dataframe tbody tr th:only-of-type {\n",
       "        vertical-align: middle;\n",
       "    }\n",
       "\n",
       "    .dataframe tbody tr th {\n",
       "        vertical-align: top;\n",
       "    }\n",
       "\n",
       "    .dataframe thead th {\n",
       "        text-align: right;\n",
       "    }\n",
       "</style>\n",
       "<table border=\"1\" class=\"dataframe\">\n",
       "  <thead>\n",
       "    <tr style=\"text-align: right;\">\n",
       "      <th></th>\n",
       "      <th>debt</th>\n",
       "      <th>no_debt</th>\n",
       "      <th>debt_percent</th>\n",
       "    </tr>\n",
       "    <tr>\n",
       "      <th>family_status</th>\n",
       "      <th></th>\n",
       "      <th></th>\n",
       "      <th></th>\n",
       "    </tr>\n",
       "  </thead>\n",
       "  <tbody>\n",
       "    <tr>\n",
       "      <th>вдовец / вдова</th>\n",
       "      <td>63</td>\n",
       "      <td>896</td>\n",
       "      <td>6.569343</td>\n",
       "    </tr>\n",
       "    <tr>\n",
       "      <th>в разводе</th>\n",
       "      <td>85</td>\n",
       "      <td>1110</td>\n",
       "      <td>7.112971</td>\n",
       "    </tr>\n",
       "    <tr>\n",
       "      <th>женат / замужем</th>\n",
       "      <td>931</td>\n",
       "      <td>11413</td>\n",
       "      <td>7.542126</td>\n",
       "    </tr>\n",
       "    <tr>\n",
       "      <th>гражданский брак</th>\n",
       "      <td>388</td>\n",
       "      <td>3775</td>\n",
       "      <td>9.320202</td>\n",
       "    </tr>\n",
       "    <tr>\n",
       "      <th>Не женат / не замужем</th>\n",
       "      <td>274</td>\n",
       "      <td>2536</td>\n",
       "      <td>9.750890</td>\n",
       "    </tr>\n",
       "  </tbody>\n",
       "</table>\n",
       "</div>"
      ],
      "text/plain": [
       "                       debt  no_debt  debt_percent\n",
       "family_status                                     \n",
       "вдовец / вдова           63      896      6.569343\n",
       "в разводе                85     1110      7.112971\n",
       "женат / замужем         931    11413      7.542126\n",
       "гражданский брак        388     3775      9.320202\n",
       "Не женат / не замужем   274     2536      9.750890"
      ]
     },
     "metadata": {},
     "output_type": "display_data"
    }
   ],
   "source": [
    "#объединим датасеты data и family_status_dict, чтобы в выводе отображались названия семейных положений, а не их id, поскольку так результат будет выглядеть информативнее.\n",
    "family = data.merge(family_status_dict, on= 'family_status_id', how='left')\n",
    "# cоставим сводную таблицу. Строки - семейное положение, столбец - сумма кредитов с задолжностью\n",
    "family_pivot = family.pivot_table(index= 'family_status', values ='debt',  aggfunc='sum' )\n",
    "#добавим столбец no_debt - сумма кредитов без задолжностей\n",
    "family_pivot['no_debt'] = family.groupby('family_status')['debt'].count() - family_pivot['debt']\n",
    "#добавим столбец debt_percent - процент задолжностей от общего кол-ва кредитов в каждой группе\n",
    "family_pivot['debt_percent'] = family_pivot['debt'] /  (family_pivot['debt'] + family_pivot['no_debt']) * 100\n",
    "\n",
    "#выводим данные отсортированными по столбцу debt_percent\n",
    "display(family_pivot.sort_values(by= 'debt_percent'))\n"
   ]
  },
  {
   "cell_type": "markdown",
   "id": "f7c2f6d0",
   "metadata": {},
   "source": [
    "**Вывод:** наибольший процент задолжностей у клиентов не состоящих в браке, наименьший - у вдовцов/ вдов. При этом разница между наибольшим и наименьшим значением составляет ~3%.  \n",
    "Семейное положение - это категориальная переменная, то есть нельзя сравнивать значения между собой. Также явного лидера и антилидера по показателю возвратов в срок не наблюдается.   \n",
    "Можно сказать, что **зависимости нет.**"
   ]
  },
  {
   "cell_type": "markdown",
   "id": "0ae46813",
   "metadata": {},
   "source": [
    "### Зависимость между уровнем дохода и возвратом кредита в срок\n",
    "<a name=\"Зависимость_между_уровнем_дохода_и_возвратом_кредита_в_срок\"></a>"
   ]
  },
  {
   "cell_type": "markdown",
   "id": "e71fa408",
   "metadata": {},
   "source": [
    "Для определения наличия данной зависимости сгруппируем данные по категории дохода и вычислим процент задолжностей по кредиту в каждой группе.  \n",
    "Так же, как и в случае выше, будем сравнивать относительные показатели. "
   ]
  },
  {
   "cell_type": "code",
   "execution_count": 17,
   "id": "98377e6c",
   "metadata": {},
   "outputs": [
    {
     "data": {
      "text/html": [
       "<div>\n",
       "<style scoped>\n",
       "    .dataframe tbody tr th:only-of-type {\n",
       "        vertical-align: middle;\n",
       "    }\n",
       "\n",
       "    .dataframe tbody tr th {\n",
       "        vertical-align: top;\n",
       "    }\n",
       "\n",
       "    .dataframe thead th {\n",
       "        text-align: right;\n",
       "    }\n",
       "</style>\n",
       "<table border=\"1\" class=\"dataframe\">\n",
       "  <thead>\n",
       "    <tr style=\"text-align: right;\">\n",
       "      <th></th>\n",
       "      <th>debt</th>\n",
       "      <th>no_debt</th>\n",
       "      <th>debt_percent</th>\n",
       "    </tr>\n",
       "    <tr>\n",
       "      <th>total_income_category</th>\n",
       "      <th></th>\n",
       "      <th></th>\n",
       "      <th></th>\n",
       "    </tr>\n",
       "  </thead>\n",
       "  <tbody>\n",
       "    <tr>\n",
       "      <th>D</th>\n",
       "      <td>21</td>\n",
       "      <td>329</td>\n",
       "      <td>6.000000</td>\n",
       "    </tr>\n",
       "    <tr>\n",
       "      <th>B</th>\n",
       "      <td>356</td>\n",
       "      <td>4685</td>\n",
       "      <td>7.062091</td>\n",
       "    </tr>\n",
       "    <tr>\n",
       "      <th>A</th>\n",
       "      <td>2</td>\n",
       "      <td>23</td>\n",
       "      <td>8.000000</td>\n",
       "    </tr>\n",
       "    <tr>\n",
       "      <th>C</th>\n",
       "      <td>1360</td>\n",
       "      <td>14673</td>\n",
       "      <td>8.482505</td>\n",
       "    </tr>\n",
       "    <tr>\n",
       "      <th>E</th>\n",
       "      <td>2</td>\n",
       "      <td>20</td>\n",
       "      <td>9.090909</td>\n",
       "    </tr>\n",
       "  </tbody>\n",
       "</table>\n",
       "</div>"
      ],
      "text/plain": [
       "                       debt  no_debt  debt_percent\n",
       "total_income_category                             \n",
       "D                        21      329      6.000000\n",
       "B                       356     4685      7.062091\n",
       "A                         2       23      8.000000\n",
       "C                      1360    14673      8.482505\n",
       "E                         2       20      9.090909"
      ]
     },
     "metadata": {},
     "output_type": "display_data"
    }
   ],
   "source": [
    "#составим сводную таблицу. Строки - категория дохода, столбец - сумма кредитов с задолжностью\n",
    "total_income_pivot = data.pivot_table(index= 'total_income_category', values ='debt',  aggfunc='sum' )\n",
    "#добавим столбец no_debt - сумма кредитов без задолжностей\n",
    "total_income_pivot['no_debt'] = data.groupby('total_income_category')['debt'].count() - total_income_pivot['debt']\n",
    "#добавим столбец debt_percent - процент задолжностей от общего кол-ва кредитов в каждой группе\n",
    "total_income_pivot['debt_percent'] = total_income_pivot['debt'] /  (total_income_pivot['debt'] + total_income_pivot['no_debt']) * 100\n",
    "\n",
    "#выводим данные отсортированными по столбцу debt_percent\n",
    "display(total_income_pivot.sort_values(by= 'debt_percent'))"
   ]
  },
  {
   "cell_type": "markdown",
   "id": "71b39f3c",
   "metadata": {},
   "source": [
    "**Вывод:** наибольший процент задолжностей у клиентов категории Е, это минимальный уровень дохода. Однако наименьший - у клиентов категории D, это вторая с конца категория по уровню дохода. Внутри последовательности таже не прослеживается корреляции между уровнем дохода и процентом задолжностей. Разница между наибольшим и наименьшим значением также составляет ~3%.  \n",
    "Также можно сделать вывод, что **зависимости нет.**"
   ]
  },
  {
   "cell_type": "markdown",
   "id": "a527bda9",
   "metadata": {},
   "source": [
    "### Влияние разных целей кредита на возврат в срок\n",
    "<a name=\"Влияние_разных_целей_кредита_на_возврат_в_срок\"></a>"
   ]
  },
  {
   "cell_type": "markdown",
   "id": "a6133c88",
   "metadata": {},
   "source": [
    "Для определения наличия данной зависимости сгруппируем данные по категории цели кредита и вычислим процент задолжностей по кредиту в каждой группе.  \n",
    "Так же, как и в случае выше, будем сравнивать относительные показатели."
   ]
  },
  {
   "cell_type": "code",
   "execution_count": 18,
   "id": "c8275e6c",
   "metadata": {},
   "outputs": [
    {
     "data": {
      "text/html": [
       "<div>\n",
       "<style scoped>\n",
       "    .dataframe tbody tr th:only-of-type {\n",
       "        vertical-align: middle;\n",
       "    }\n",
       "\n",
       "    .dataframe tbody tr th {\n",
       "        vertical-align: top;\n",
       "    }\n",
       "\n",
       "    .dataframe thead th {\n",
       "        text-align: right;\n",
       "    }\n",
       "</style>\n",
       "<table border=\"1\" class=\"dataframe\">\n",
       "  <thead>\n",
       "    <tr style=\"text-align: right;\">\n",
       "      <th></th>\n",
       "      <th>debt</th>\n",
       "      <th>no_debt</th>\n",
       "      <th>debt_percent</th>\n",
       "    </tr>\n",
       "    <tr>\n",
       "      <th>purpose_category</th>\n",
       "      <th></th>\n",
       "      <th></th>\n",
       "      <th></th>\n",
       "    </tr>\n",
       "  </thead>\n",
       "  <tbody>\n",
       "    <tr>\n",
       "      <th>операции с недвижимостью</th>\n",
       "      <td>782</td>\n",
       "      <td>10032</td>\n",
       "      <td>7.231367</td>\n",
       "    </tr>\n",
       "    <tr>\n",
       "      <th>проведение свадьбы</th>\n",
       "      <td>186</td>\n",
       "      <td>2149</td>\n",
       "      <td>7.965739</td>\n",
       "    </tr>\n",
       "    <tr>\n",
       "      <th>получение образования</th>\n",
       "      <td>370</td>\n",
       "      <td>3644</td>\n",
       "      <td>9.217738</td>\n",
       "    </tr>\n",
       "    <tr>\n",
       "      <th>операции с автомобилем</th>\n",
       "      <td>403</td>\n",
       "      <td>3905</td>\n",
       "      <td>9.354689</td>\n",
       "    </tr>\n",
       "  </tbody>\n",
       "</table>\n",
       "</div>"
      ],
      "text/plain": [
       "                          debt  no_debt  debt_percent\n",
       "purpose_category                                     \n",
       "операции с недвижимостью   782    10032      7.231367\n",
       "проведение свадьбы         186     2149      7.965739\n",
       "получение образования      370     3644      9.217738\n",
       "операции с автомобилем     403     3905      9.354689"
      ]
     },
     "metadata": {},
     "output_type": "display_data"
    }
   ],
   "source": [
    "#составим сводную таблицу. Строки - категория цели, столбец - сумма кредитов с задолжностью\n",
    "purpose_pivot = data.pivot_table(index= 'purpose_category', values ='debt',  aggfunc='sum' )\n",
    "#добавим столбец no_debt - сумма кредитов без задолжностей\n",
    "purpose_pivot['no_debt'] = data.groupby('purpose_category')['debt'].count() - purpose_pivot['debt']\n",
    "#добавим столбец debt_percent - процент задолжностей от общего кол-ва кредитов в каждой группе\n",
    "purpose_pivot['debt_percent'] = purpose_pivot['debt'] /  (purpose_pivot['debt'] + purpose_pivot['no_debt']) * 100\n",
    "\n",
    "#выводим данные отсортированными по столбцу debt_percent\n",
    "display(purpose_pivot.sort_values(by= 'debt_percent'))"
   ]
  },
  {
   "cell_type": "markdown",
   "id": "6e6a14ec",
   "metadata": {},
   "source": [
    "**Вывод:** наибольший процент задолжностей наблюдается по кредитам на операции с автомобилем, а наименьший - с недвижимостью. Но разница между наибольшим и наименьшим значением снова небольшая: ~2%. \n",
    "Цель кредита - категориальная переменная, то есть нельзя сравнить ее значения между собой. При этом явного лидера и антилидера по проценту задолжностей не выявлено.   \n",
    "Можно сделать вывод, что цель кредита практически **не влияет** на возврат в срок."
   ]
  },
  {
   "cell_type": "markdown",
   "id": "8c866b99",
   "metadata": {},
   "source": [
    "### Зависимость между уровнем образования и возвратом кредита в срок\n",
    "<a name=\"Зависимость_между_уровнем_образования_и_возвратом_кредита_в_срок\"></a>"
   ]
  },
  {
   "cell_type": "markdown",
   "id": "1883632a",
   "metadata": {},
   "source": [
    "*В изначальной постановке задачи не было такого требования, но, как аналитик, я считаю нужным проверить и эту гипотезу, так как мы располагаем необходимыми данными.*"
   ]
  },
  {
   "cell_type": "markdown",
   "id": "14ef4496",
   "metadata": {},
   "source": [
    "Для определения наличия данной зависимости сгруппируем данные по уровню образования и вычислим процент задолжностей по кредиту в каждой группе.  \n",
    "Так же, как и в случае выше, будем сравнивать относительные показатели."
   ]
  },
  {
   "cell_type": "code",
   "execution_count": 19,
   "id": "e320380c",
   "metadata": {},
   "outputs": [
    {
     "data": {
      "text/html": [
       "<div>\n",
       "<style scoped>\n",
       "    .dataframe tbody tr th:only-of-type {\n",
       "        vertical-align: middle;\n",
       "    }\n",
       "\n",
       "    .dataframe tbody tr th {\n",
       "        vertical-align: top;\n",
       "    }\n",
       "\n",
       "    .dataframe thead th {\n",
       "        text-align: right;\n",
       "    }\n",
       "</style>\n",
       "<table border=\"1\" class=\"dataframe\">\n",
       "  <thead>\n",
       "    <tr style=\"text-align: right;\">\n",
       "      <th></th>\n",
       "      <th>debt</th>\n",
       "      <th>no_debt</th>\n",
       "      <th>debt_percent</th>\n",
       "    </tr>\n",
       "    <tr>\n",
       "      <th>education</th>\n",
       "      <th></th>\n",
       "      <th></th>\n",
       "      <th></th>\n",
       "    </tr>\n",
       "  </thead>\n",
       "  <tbody>\n",
       "    <tr>\n",
       "      <th>ученая степень</th>\n",
       "      <td>0</td>\n",
       "      <td>6</td>\n",
       "      <td>0.000000</td>\n",
       "    </tr>\n",
       "    <tr>\n",
       "      <th>высшее</th>\n",
       "      <td>278</td>\n",
       "      <td>4973</td>\n",
       "      <td>5.294230</td>\n",
       "    </tr>\n",
       "    <tr>\n",
       "      <th>среднее</th>\n",
       "      <td>1364</td>\n",
       "      <td>13824</td>\n",
       "      <td>8.980774</td>\n",
       "    </tr>\n",
       "    <tr>\n",
       "      <th>неоконченное высшее</th>\n",
       "      <td>68</td>\n",
       "      <td>676</td>\n",
       "      <td>9.139785</td>\n",
       "    </tr>\n",
       "    <tr>\n",
       "      <th>начальное</th>\n",
       "      <td>31</td>\n",
       "      <td>251</td>\n",
       "      <td>10.992908</td>\n",
       "    </tr>\n",
       "  </tbody>\n",
       "</table>\n",
       "</div>"
      ],
      "text/plain": [
       "                     debt  no_debt  debt_percent\n",
       "education                                       \n",
       "ученая степень          0        6      0.000000\n",
       "высшее                278     4973      5.294230\n",
       "среднее              1364    13824      8.980774\n",
       "неоконченное высшее    68      676      9.139785\n",
       "начальное              31      251     10.992908"
      ]
     },
     "metadata": {},
     "output_type": "display_data"
    }
   ],
   "source": [
    "#объединим датасеты data и education_dict, чтобы в выводе отображались названия уровней образования, а не их id, поскольку так результат будет выглядеть информативнее.\n",
    "education = data.merge(education_dict, on= 'education_id', how='left')\n",
    "\n",
    "# cоставим сводную таблицу. Строки - семейное положение, столбец - сумма кредитов с задолжностью\n",
    "education_pivot = education.pivot_table(index= 'education', values ='debt',  aggfunc='sum' )\n",
    "#добавим столбец no_debt - сумма кредитов без задолжностей\n",
    "education_pivot['no_debt'] = education.groupby('education')['debt'].count() - education_pivot['debt']\n",
    "#добавим столбец debt_percent - процент задолжностей от общего кол-ва кредитов в каждой группе\n",
    "education_pivot['debt_percent'] = education_pivot['debt'] /  (education_pivot['debt'] + education_pivot['no_debt']) * 100\n",
    "\n",
    "#выводим данные отсортированными по столбцу debt_percent\n",
    "display(education_pivot.sort_values(by= 'debt_percent'))\n"
   ]
  },
  {
   "cell_type": "markdown",
   "id": "f0983ebd",
   "metadata": {},
   "source": [
    "**Вывод:** наибольший процент задолжностей у клиентов с начальным образованием, наименьший - с ученой степенью. Почти все остальные значения также располагаются по убыванию. Исключение: среднее и неоконченное высшее, но  разница между ними <1%. \n",
    "Разница между наибольшим и наименьшим значением ~11%. Это более заметный результат, чем в предыдущих гипотезах.   \n",
    "Можно сделать вывод, что **клиенты с наиболее высоким уровнем образования лучше выплачивают кредиты в срок.** "
   ]
  },
  {
   "cell_type": "markdown",
   "id": "365232ec",
   "metadata": {},
   "source": [
    "## Выводы\n",
    "<a name=\"Выводы\"></a>"
   ]
  },
  {
   "cell_type": "markdown",
   "id": "58ef4da2",
   "metadata": {},
   "source": [
    "В ходе исследования были проверены 5 гипотез о влиянии разных факторов на возврат кредита в срок: \n",
    "\n",
    "1. Количество детей - не влияет\n",
    "1. Семейное положение - не влияет\n",
    "1. Уровень дохода - не влияет\n",
    "1. Цель кредита - не влияет    \n",
    "1. Уровень образования (дополнительно) - есть зависимость: чем выше уровень образования, тем меньше задолжностей. \n",
    "\n",
    "\n",
    "Отвечая на изначальный запрос клиента, влияет ли семейное положение и количество детей на возврат в срок: **нет, не влияет.**  \n",
    "Однако, при скоринге рекомендуется обратить внимание на уровень образования клиента."
   ]
  }
 ],
 "metadata": {
  "ExecuteTimeLog": [
   {
    "duration": 697,
    "start_time": "2022-04-21T13:49:24.551Z"
   },
   {
    "duration": 0,
    "start_time": "2022-04-21T13:49:25.252Z"
   },
   {
    "duration": 0,
    "start_time": "2022-04-21T13:49:25.253Z"
   },
   {
    "duration": 0,
    "start_time": "2022-04-21T13:49:25.255Z"
   },
   {
    "duration": 0,
    "start_time": "2022-04-21T13:49:25.257Z"
   },
   {
    "duration": 0,
    "start_time": "2022-04-21T13:49:25.258Z"
   },
   {
    "duration": 0,
    "start_time": "2022-04-21T13:49:25.260Z"
   },
   {
    "duration": 0,
    "start_time": "2022-04-21T13:49:25.261Z"
   },
   {
    "duration": 0,
    "start_time": "2022-04-21T13:49:25.262Z"
   },
   {
    "duration": 0,
    "start_time": "2022-04-21T13:49:25.264Z"
   },
   {
    "duration": 0,
    "start_time": "2022-04-21T13:49:25.283Z"
   },
   {
    "duration": 0,
    "start_time": "2022-04-21T13:49:25.285Z"
   },
   {
    "duration": 0,
    "start_time": "2022-04-21T13:49:25.287Z"
   },
   {
    "duration": 0,
    "start_time": "2022-04-21T13:49:25.289Z"
   },
   {
    "duration": 0,
    "start_time": "2022-04-21T13:49:25.291Z"
   },
   {
    "duration": 0,
    "start_time": "2022-04-21T13:49:25.293Z"
   },
   {
    "duration": 0,
    "start_time": "2022-04-21T13:49:25.295Z"
   },
   {
    "duration": 0,
    "start_time": "2022-04-21T13:49:25.298Z"
   },
   {
    "duration": 0,
    "start_time": "2022-04-21T13:49:25.300Z"
   },
   {
    "duration": 0,
    "start_time": "2022-04-21T13:49:25.302Z"
   },
   {
    "duration": 511,
    "start_time": "2022-04-21T15:57:41.968Z"
   },
   {
    "duration": 5,
    "start_time": "2022-04-21T15:57:42.481Z"
   },
   {
    "duration": 19,
    "start_time": "2022-04-21T15:57:42.487Z"
   },
   {
    "duration": 30,
    "start_time": "2022-04-21T15:57:42.507Z"
   },
   {
    "duration": 8,
    "start_time": "2022-04-21T15:57:42.538Z"
   },
   {
    "duration": 9,
    "start_time": "2022-04-21T15:57:42.547Z"
   },
   {
    "duration": 10,
    "start_time": "2022-04-21T15:57:42.557Z"
   },
   {
    "duration": 38,
    "start_time": "2022-04-21T15:57:42.569Z"
   },
   {
    "duration": 31,
    "start_time": "2022-04-21T15:57:42.608Z"
   },
   {
    "duration": 13,
    "start_time": "2022-04-21T15:57:42.642Z"
   },
   {
    "duration": 16,
    "start_time": "2022-04-21T15:57:42.656Z"
   },
   {
    "duration": 34,
    "start_time": "2022-04-21T15:57:42.673Z"
   },
   {
    "duration": 13,
    "start_time": "2022-04-21T15:57:42.709Z"
   },
   {
    "duration": 13,
    "start_time": "2022-04-21T15:57:42.723Z"
   },
   {
    "duration": 16,
    "start_time": "2022-04-21T15:57:42.738Z"
   },
   {
    "duration": 17,
    "start_time": "2022-04-21T15:57:42.755Z"
   },
   {
    "duration": 54,
    "start_time": "2022-04-21T15:57:42.773Z"
   },
   {
    "duration": 17,
    "start_time": "2022-04-21T15:57:42.828Z"
   },
   {
    "duration": 21,
    "start_time": "2022-04-21T15:57:42.846Z"
   },
   {
    "duration": 55,
    "start_time": "2022-04-21T15:57:42.868Z"
   },
   {
    "duration": 163,
    "start_time": "2022-04-21T15:58:58.152Z"
   },
   {
    "duration": 203,
    "start_time": "2022-04-21T16:01:12.246Z"
   },
   {
    "duration": 181,
    "start_time": "2022-04-21T16:01:22.948Z"
   },
   {
    "duration": 585,
    "start_time": "2022-04-21T16:02:24.279Z"
   },
   {
    "duration": 5,
    "start_time": "2022-04-21T16:02:24.866Z"
   },
   {
    "duration": 17,
    "start_time": "2022-04-21T16:02:24.872Z"
   },
   {
    "duration": 35,
    "start_time": "2022-04-21T16:02:24.890Z"
   },
   {
    "duration": 7,
    "start_time": "2022-04-21T16:02:24.926Z"
   },
   {
    "duration": 11,
    "start_time": "2022-04-21T16:02:24.934Z"
   },
   {
    "duration": 7,
    "start_time": "2022-04-21T16:02:24.947Z"
   },
   {
    "duration": 14,
    "start_time": "2022-04-21T16:02:24.955Z"
   },
   {
    "duration": 54,
    "start_time": "2022-04-21T16:02:24.970Z"
   },
   {
    "duration": 14,
    "start_time": "2022-04-21T16:02:25.026Z"
   },
   {
    "duration": 17,
    "start_time": "2022-04-21T16:02:25.041Z"
   },
   {
    "duration": 21,
    "start_time": "2022-04-21T16:02:25.059Z"
   },
   {
    "duration": 29,
    "start_time": "2022-04-21T16:02:25.081Z"
   },
   {
    "duration": 12,
    "start_time": "2022-04-21T16:02:25.112Z"
   },
   {
    "duration": 17,
    "start_time": "2022-04-21T16:02:25.126Z"
   },
   {
    "duration": 16,
    "start_time": "2022-04-21T16:02:25.144Z"
   },
   {
    "duration": 51,
    "start_time": "2022-04-21T16:02:25.162Z"
   },
   {
    "duration": 17,
    "start_time": "2022-04-21T16:02:25.214Z"
   },
   {
    "duration": 19,
    "start_time": "2022-04-21T16:02:25.233Z"
   },
   {
    "duration": 52,
    "start_time": "2022-04-21T16:02:25.254Z"
   },
   {
    "duration": 585,
    "start_time": "2022-04-21T16:17:10.866Z"
   },
   {
    "duration": 4,
    "start_time": "2022-04-21T16:17:11.453Z"
   },
   {
    "duration": 20,
    "start_time": "2022-04-21T16:17:11.458Z"
   },
   {
    "duration": 38,
    "start_time": "2022-04-21T16:17:11.480Z"
   },
   {
    "duration": 6,
    "start_time": "2022-04-21T16:17:11.520Z"
   },
   {
    "duration": 8,
    "start_time": "2022-04-21T16:17:11.528Z"
   },
   {
    "duration": 8,
    "start_time": "2022-04-21T16:17:11.537Z"
   },
   {
    "duration": 13,
    "start_time": "2022-04-21T16:17:11.546Z"
   },
   {
    "duration": 54,
    "start_time": "2022-04-21T16:17:11.561Z"
   },
   {
    "duration": 13,
    "start_time": "2022-04-21T16:17:11.617Z"
   },
   {
    "duration": 16,
    "start_time": "2022-04-21T16:17:11.631Z"
   },
   {
    "duration": 13,
    "start_time": "2022-04-21T16:17:11.648Z"
   },
   {
    "duration": 14,
    "start_time": "2022-04-21T16:17:11.662Z"
   },
   {
    "duration": 13,
    "start_time": "2022-04-21T16:17:11.699Z"
   },
   {
    "duration": 12,
    "start_time": "2022-04-21T16:17:11.713Z"
   },
   {
    "duration": 20,
    "start_time": "2022-04-21T16:17:11.726Z"
   },
   {
    "duration": 29,
    "start_time": "2022-04-21T16:17:11.748Z"
   },
   {
    "duration": 35,
    "start_time": "2022-04-21T16:17:11.779Z"
   },
   {
    "duration": 19,
    "start_time": "2022-04-21T16:17:11.816Z"
   },
   {
    "duration": 30,
    "start_time": "2022-04-21T16:17:11.837Z"
   },
   {
    "duration": 606,
    "start_time": "2022-04-22T12:58:33.595Z"
   },
   {
    "duration": 5,
    "start_time": "2022-04-22T12:58:34.204Z"
   },
   {
    "duration": 28,
    "start_time": "2022-04-22T12:58:34.223Z"
   },
   {
    "duration": 33,
    "start_time": "2022-04-22T12:58:34.253Z"
   },
   {
    "duration": 8,
    "start_time": "2022-04-22T12:58:34.287Z"
   },
   {
    "duration": 35,
    "start_time": "2022-04-22T12:58:34.297Z"
   },
   {
    "duration": 10,
    "start_time": "2022-04-22T12:58:34.334Z"
   },
   {
    "duration": 14,
    "start_time": "2022-04-22T12:58:34.346Z"
   },
   {
    "duration": 37,
    "start_time": "2022-04-22T12:58:34.362Z"
   },
   {
    "duration": 13,
    "start_time": "2022-04-22T12:58:34.401Z"
   },
   {
    "duration": 34,
    "start_time": "2022-04-22T12:58:34.415Z"
   },
   {
    "duration": 28,
    "start_time": "2022-04-22T12:58:34.450Z"
   },
   {
    "duration": 13,
    "start_time": "2022-04-22T12:58:34.481Z"
   },
   {
    "duration": 15,
    "start_time": "2022-04-22T12:58:34.495Z"
   },
   {
    "duration": 11,
    "start_time": "2022-04-22T12:58:34.511Z"
   },
   {
    "duration": 30,
    "start_time": "2022-04-22T12:58:34.523Z"
   },
   {
    "duration": 39,
    "start_time": "2022-04-22T12:58:34.555Z"
   },
   {
    "duration": 19,
    "start_time": "2022-04-22T12:58:34.595Z"
   },
   {
    "duration": 23,
    "start_time": "2022-04-22T12:58:34.616Z"
   },
   {
    "duration": 32,
    "start_time": "2022-04-22T12:58:34.640Z"
   },
   {
    "duration": 26,
    "start_time": "2022-04-22T13:00:11.150Z"
   },
   {
    "duration": 692,
    "start_time": "2022-04-23T08:04:50.814Z"
   },
   {
    "duration": 6,
    "start_time": "2022-04-23T08:04:51.509Z"
   },
   {
    "duration": 33,
    "start_time": "2022-04-23T08:04:51.517Z"
   },
   {
    "duration": 75,
    "start_time": "2022-04-23T08:04:51.553Z"
   },
   {
    "duration": 11,
    "start_time": "2022-04-23T08:04:51.630Z"
   },
   {
    "duration": 52,
    "start_time": "2022-04-23T08:04:51.643Z"
   },
   {
    "duration": 22,
    "start_time": "2022-04-23T08:04:51.698Z"
   },
   {
    "duration": 69,
    "start_time": "2022-04-23T08:04:51.722Z"
   },
   {
    "duration": 23,
    "start_time": "2022-04-23T08:04:51.793Z"
   },
   {
    "duration": 31,
    "start_time": "2022-04-23T08:04:51.820Z"
   },
   {
    "duration": 56,
    "start_time": "2022-04-23T08:04:51.853Z"
   },
   {
    "duration": 21,
    "start_time": "2022-04-23T08:04:51.911Z"
   },
   {
    "duration": 67,
    "start_time": "2022-04-23T08:04:51.934Z"
   },
   {
    "duration": 33,
    "start_time": "2022-04-23T08:04:52.003Z"
   },
   {
    "duration": 63,
    "start_time": "2022-04-23T08:04:52.039Z"
   },
   {
    "duration": 84,
    "start_time": "2022-04-23T08:04:52.105Z"
   },
   {
    "duration": 32,
    "start_time": "2022-04-23T08:04:52.192Z"
   },
   {
    "duration": 32,
    "start_time": "2022-04-23T08:04:52.226Z"
   },
   {
    "duration": 70,
    "start_time": "2022-04-23T08:04:52.260Z"
   },
   {
    "duration": 999,
    "start_time": "2022-04-23T20:12:07.139Z"
   },
   {
    "duration": 9,
    "start_time": "2022-04-23T20:12:08.141Z"
   },
   {
    "duration": 57,
    "start_time": "2022-04-23T20:12:08.153Z"
   },
   {
    "duration": 95,
    "start_time": "2022-04-23T20:12:08.214Z"
   },
   {
    "duration": 16,
    "start_time": "2022-04-23T20:12:08.312Z"
   },
   {
    "duration": 16,
    "start_time": "2022-04-23T20:12:08.331Z"
   },
   {
    "duration": 49,
    "start_time": "2022-04-23T20:12:08.350Z"
   },
   {
    "duration": 46,
    "start_time": "2022-04-23T20:12:08.401Z"
   },
   {
    "duration": 47,
    "start_time": "2022-04-23T20:12:08.450Z"
   },
   {
    "duration": 26,
    "start_time": "2022-04-23T20:12:08.500Z"
   },
   {
    "duration": 22,
    "start_time": "2022-04-23T20:12:08.528Z"
   },
   {
    "duration": 46,
    "start_time": "2022-04-23T20:12:08.552Z"
   },
   {
    "duration": 23,
    "start_time": "2022-04-23T20:12:08.600Z"
   },
   {
    "duration": 21,
    "start_time": "2022-04-23T20:12:08.625Z"
   },
   {
    "duration": 58,
    "start_time": "2022-04-23T20:12:08.648Z"
   },
   {
    "duration": 48,
    "start_time": "2022-04-23T20:12:08.708Z"
   },
   {
    "duration": 29,
    "start_time": "2022-04-23T20:12:08.781Z"
   },
   {
    "duration": 29,
    "start_time": "2022-04-23T20:12:08.812Z"
   },
   {
    "duration": 76,
    "start_time": "2022-04-23T20:12:08.843Z"
   }
  ],
  "kernelspec": {
   "display_name": "Python 3 (ipykernel)",
   "language": "python",
   "name": "python3"
  },
  "language_info": {
   "codemirror_mode": {
    "name": "ipython",
    "version": 3
   },
   "file_extension": ".py",
   "mimetype": "text/x-python",
   "name": "python",
   "nbconvert_exporter": "python",
   "pygments_lexer": "ipython3",
   "version": "3.9.7"
  },
  "toc": {
   "base_numbering": 1,
   "nav_menu": {},
   "number_sections": true,
   "sideBar": true,
   "skip_h1_title": true,
   "title_cell": "Table of Contents",
   "title_sidebar": "Contents",
   "toc_cell": false,
   "toc_position": {
    "height": "calc(100% - 180px)",
    "left": "10px",
    "top": "150px",
    "width": "288px"
   },
   "toc_section_display": true,
   "toc_window_display": true
  }
 },
 "nbformat": 4,
 "nbformat_minor": 5
}
