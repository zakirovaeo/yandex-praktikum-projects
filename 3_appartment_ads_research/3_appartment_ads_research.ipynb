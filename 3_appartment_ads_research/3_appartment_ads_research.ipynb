{
 "cells": [
  {
   "cell_type": "markdown",
   "metadata": {
    "toc": true
   },
   "source": [
    "<h1>Содержание<span class=\"tocSkip\"></span></h1>\n",
    "<div class=\"toc\"><ul class=\"toc-item\"><li><span><a href=\"#Изучение-данных-из-файла\" data-toc-modified-id=\"Изучение-данных-из-файла-1\"><span class=\"toc-item-num\">1&nbsp;&nbsp;</span>Изучение данных из файла</a></span><ul class=\"toc-item\"><li><span><a href=\"#Вывод\" data-toc-modified-id=\"Вывод-1.1\"><span class=\"toc-item-num\">1.1&nbsp;&nbsp;</span>Вывод</a></span></li></ul></li><li><span><a href=\"#Предобработка-данных\" data-toc-modified-id=\"Предобработка-данных-2\"><span class=\"toc-item-num\">2&nbsp;&nbsp;</span>Предобработка данных</a></span><ul class=\"toc-item\"><li><span><a href=\"#Заполнение-пропусков\" data-toc-modified-id=\"Заполнение-пропусков-2.1\"><span class=\"toc-item-num\">2.1&nbsp;&nbsp;</span>Заполнение пропусков</a></span></li><li><span><a href=\"#Изменение-типов-данных\" data-toc-modified-id=\"Изменение-типов-данных-2.2\"><span class=\"toc-item-num\">2.2&nbsp;&nbsp;</span>Изменение типов данных</a></span></li></ul></li><li><span><a href=\"#Расчёты-и-добавление-результатов-в-таблицу\" data-toc-modified-id=\"Расчёты-и-добавление-результатов-в-таблицу-3\"><span class=\"toc-item-num\">3&nbsp;&nbsp;</span>Расчёты и добавление результатов в таблицу</a></span></li><li><span><a href=\"#Исследовательский-анализ-данных\" data-toc-modified-id=\"Исследовательский-анализ-данных-4\"><span class=\"toc-item-num\">4&nbsp;&nbsp;</span>Исследовательский анализ данных</a></span><ul class=\"toc-item\"><li><span><a href=\"#Изучение-параметров\" data-toc-modified-id=\"Изучение-параметров-4.1\"><span class=\"toc-item-num\">4.1&nbsp;&nbsp;</span>Изучение параметров</a></span><ul class=\"toc-item\"><li><span><a href=\"#Площадь\" data-toc-modified-id=\"Площадь-4.1.1\"><span class=\"toc-item-num\">4.1.1&nbsp;&nbsp;</span>Площадь</a></span></li><li><span><a href=\"#Жилая-площадь\" data-toc-modified-id=\"Жилая-площадь-4.1.2\"><span class=\"toc-item-num\">4.1.2&nbsp;&nbsp;</span>Жилая площадь</a></span></li><li><span><a href=\"#Цена\" data-toc-modified-id=\"Цена-4.1.3\"><span class=\"toc-item-num\">4.1.3&nbsp;&nbsp;</span>Цена</a></span></li><li><span><a href=\"#Количество-комнат\" data-toc-modified-id=\"Количество-комнат-4.1.4\"><span class=\"toc-item-num\">4.1.4&nbsp;&nbsp;</span>Количество комнат</a></span></li><li><span><a href=\"#Высота-потолков\" data-toc-modified-id=\"Высота-потолков-4.1.5\"><span class=\"toc-item-num\">4.1.5&nbsp;&nbsp;</span>Высота потолков</a></span></li></ul></li><li><span><a href=\"#Изучение-времени-продажи-квартиры\" data-toc-modified-id=\"Изучение-времени-продажи-квартиры-4.2\"><span class=\"toc-item-num\">4.2&nbsp;&nbsp;</span>Изучение времени продажи квартиры</a></span></li><li><span><a href=\"#Удаление-выбросов\" data-toc-modified-id=\"Удаление-выбросов-4.3\"><span class=\"toc-item-num\">4.3&nbsp;&nbsp;</span>Удаление выбросов</a></span><ul class=\"toc-item\"><li><span><a href=\"#Срок-продажи\" data-toc-modified-id=\"Срок-продажи-4.3.1\"><span class=\"toc-item-num\">4.3.1&nbsp;&nbsp;</span>Срок продажи</a></span></li><li><span><a href=\"#Цена\" data-toc-modified-id=\"Цена-4.3.2\"><span class=\"toc-item-num\">4.3.2&nbsp;&nbsp;</span>Цена</a></span></li><li><span><a href=\"#Площадь\" data-toc-modified-id=\"Площадь-4.3.3\"><span class=\"toc-item-num\">4.3.3&nbsp;&nbsp;</span>Площадь</a></span></li><li><span><a href=\"#Число-комнат\" data-toc-modified-id=\"Число-комнат-4.3.4\"><span class=\"toc-item-num\">4.3.4&nbsp;&nbsp;</span>Число комнат</a></span></li><li><span><a href=\"#Высота-потолков\" data-toc-modified-id=\"Высота-потолков-4.3.5\"><span class=\"toc-item-num\">4.3.5&nbsp;&nbsp;</span>Высота потолков</a></span></li><li><span><a href=\"#Создание-среза-данных-без-выбросов\" data-toc-modified-id=\"Создание-среза-данных-без-выбросов-4.3.6\"><span class=\"toc-item-num\">4.3.6&nbsp;&nbsp;</span>Создание среза данных без выбросов</a></span></li></ul></li><li><span><a href=\"#Определение-факторов-наиболее-влияющих-на-стоимость-квартиры\" data-toc-modified-id=\"Определение-факторов-наиболее-влияющих-на-стоимость-квартиры-4.4\"><span class=\"toc-item-num\">4.4&nbsp;&nbsp;</span>Определение факторов наиболее влияющих на стоимость квартиры</a></span><ul class=\"toc-item\"><li><span><a href=\"#Площадь\" data-toc-modified-id=\"Площадь-4.4.1\"><span class=\"toc-item-num\">4.4.1&nbsp;&nbsp;</span>Площадь</a></span></li><li><span><a href=\"#Группа-этажей\" data-toc-modified-id=\"Группа-этажей-4.4.2\"><span class=\"toc-item-num\">4.4.2&nbsp;&nbsp;</span>Группа этажей</a></span></li><li><span><a href=\"#Количество-комнат\" data-toc-modified-id=\"Количество-комнат-4.4.3\"><span class=\"toc-item-num\">4.4.3&nbsp;&nbsp;</span>Количество комнат</a></span></li><li><span><a href=\"#Удалённость-от-центра\" data-toc-modified-id=\"Удалённость-от-центра-4.4.4\"><span class=\"toc-item-num\">4.4.4&nbsp;&nbsp;</span>Удалённость от центра</a></span></li><li><span><a href=\"#День-недели-размещения-объявления\" data-toc-modified-id=\"День-недели-размещения-объявления-4.4.5\"><span class=\"toc-item-num\">4.4.5&nbsp;&nbsp;</span>День недели размещения объявления</a></span></li><li><span><a href=\"#Месяц-размещения-объявления\" data-toc-modified-id=\"Месяц-размещения-объявления-4.4.6\"><span class=\"toc-item-num\">4.4.6&nbsp;&nbsp;</span>Месяц размещения объявления</a></span></li><li><span><a href=\"#Год-размещения-объявления\" data-toc-modified-id=\"Год-размещения-объявления-4.4.7\"><span class=\"toc-item-num\">4.4.7&nbsp;&nbsp;</span>Год размещения объявления</a></span></li></ul></li><li><span><a href=\"#Определение-населенных-пунктов-с-самой-низкой-и-высокой-стоимостью-жилья\" data-toc-modified-id=\"Определение-населенных-пунктов-с-самой-низкой-и-высокой-стоимостью-жилья-4.5\"><span class=\"toc-item-num\">4.5&nbsp;&nbsp;</span>Определение населенных пунктов с самой низкой и высокой стоимостью жилья</a></span></li><li><span><a href=\"#Определение-области-центра-Санкт-Петербурга\" data-toc-modified-id=\"Определение-области-центра-Санкт-Петербурга-4.6\"><span class=\"toc-item-num\">4.6&nbsp;&nbsp;</span>Определение области центра Санкт-Петербурга</a></span></li><li><span><a href=\"#Анализ-квартир-в-центре-Санкт-Петербурга\" data-toc-modified-id=\"Анализ-квартир-в-центре-Санкт-Петербурга-4.7\"><span class=\"toc-item-num\">4.7&nbsp;&nbsp;</span>Анализ квартир в центре Санкт-Петербурга</a></span><ul class=\"toc-item\"><li><span><a href=\"#Анализ-параметров\" data-toc-modified-id=\"Анализ-параметров-4.7.1\"><span class=\"toc-item-num\">4.7.1&nbsp;&nbsp;</span>Анализ параметров</a></span><ul class=\"toc-item\"><li><span><a href=\"#Площадь\" data-toc-modified-id=\"Площадь-4.7.1.1\"><span class=\"toc-item-num\">4.7.1.1&nbsp;&nbsp;</span>Площадь</a></span></li><li><span><a href=\"#Цена\" data-toc-modified-id=\"Цена-4.7.1.2\"><span class=\"toc-item-num\">4.7.1.2&nbsp;&nbsp;</span>Цена</a></span></li><li><span><a href=\"#Количество-комнат\" data-toc-modified-id=\"Количество-комнат-4.7.1.3\"><span class=\"toc-item-num\">4.7.1.3&nbsp;&nbsp;</span>Количество комнат</a></span></li><li><span><a href=\"#Высота-потолка\" data-toc-modified-id=\"Высота-потолка-4.7.1.4\"><span class=\"toc-item-num\">4.7.1.4&nbsp;&nbsp;</span>Высота потолка</a></span></li></ul></li><li><span><a href=\"#Определение-факторов-наиболее-влияющих-на-стоимость-квартиры\" data-toc-modified-id=\"Определение-факторов-наиболее-влияющих-на-стоимость-квартиры-4.7.2\"><span class=\"toc-item-num\">4.7.2&nbsp;&nbsp;</span>Определение факторов наиболее влияющих на стоимость квартиры</a></span><ul class=\"toc-item\"><li><span><a href=\"#Площадь\" data-toc-modified-id=\"Площадь-4.7.2.1\"><span class=\"toc-item-num\">4.7.2.1&nbsp;&nbsp;</span>Площадь</a></span></li><li><span><a href=\"#Группа-этажей\" data-toc-modified-id=\"Группа-этажей-4.7.2.2\"><span class=\"toc-item-num\">4.7.2.2&nbsp;&nbsp;</span>Группа этажей</a></span></li><li><span><a href=\"#Количество-комнат\" data-toc-modified-id=\"Количество-комнат-4.7.2.3\"><span class=\"toc-item-num\">4.7.2.3&nbsp;&nbsp;</span>Количество комнат</a></span></li><li><span><a href=\"#Удаленность-от-центра\" data-toc-modified-id=\"Удаленность-от-центра-4.7.2.4\"><span class=\"toc-item-num\">4.7.2.4&nbsp;&nbsp;</span>Удаленность от центра</a></span></li><li><span><a href=\"#День-недели-размещения-объявления\" data-toc-modified-id=\"День-недели-размещения-объявления-4.7.2.5\"><span class=\"toc-item-num\">4.7.2.5&nbsp;&nbsp;</span>День недели размещения объявления</a></span></li><li><span><a href=\"#Месяц-размещения-объявления\" data-toc-modified-id=\"Месяц-размещения-объявления-4.7.2.6\"><span class=\"toc-item-num\">4.7.2.6&nbsp;&nbsp;</span>Месяц размещения объявления</a></span></li><li><span><a href=\"#Год-размещения-объявления\" data-toc-modified-id=\"Год-размещения-объявления-4.7.2.7\"><span class=\"toc-item-num\">4.7.2.7&nbsp;&nbsp;</span>Год размещения объявления</a></span></li></ul></li></ul></li></ul></li><li><span><a href=\"#Общий-вывод\" data-toc-modified-id=\"Общий-вывод-5\"><span class=\"toc-item-num\">5&nbsp;&nbsp;</span>Общий вывод</a></span></li></ul></div>"
   ]
  },
  {
   "cell_type": "markdown",
   "metadata": {},
   "source": [
    "# Исследование объявлений о продаже квартир\n",
    "\n",
    "Яндекс Недвижимость — архив объявлений о продаже квартир в Санкт-Петербурге и соседних населённых пунктах за несколько лет. "
   ]
  },
  {
   "cell_type": "markdown",
   "metadata": {},
   "source": [
    "**Цель исследования:**  научиться определять рыночную стоимость объектов недвижимости. Задача — установить параметры. Это позволит построить автоматизированную систему: она отследит аномалии и мошенническую деятельность. "
   ]
  },
  {
   "cell_type": "markdown",
   "metadata": {},
   "source": [
    "**Ход исследования:**\n",
    "1. Подготовка данных\n",
    "1. Изучение параметров квартир\n",
    "1. Изучение времени продади квартиры\n",
    "1. Удаление выбросов\n",
    "1. Определение факторов наиболее влияющих на стоимость квартиры\n",
    "1. Определение населенных пунктов с самой низкой и высокой стоимостью жилья\n",
    "1. Определение области центра Санкт-Петербурга\n",
    "1. Анализ квартир в центре Санкт-Петербурга"
   ]
  },
  {
   "cell_type": "markdown",
   "metadata": {},
   "source": [
    "## Изучение данных из файла"
   ]
  },
  {
   "cell_type": "code",
   "execution_count": 30,
   "metadata": {},
   "outputs": [],
   "source": [
    "#импортируем библиотеки\n",
    "import pandas as pd\n",
    "from IPython.display import display\n",
    "import matplotlib.pyplot as plt\n",
    "from datetime import datetime \n",
    "import math"
   ]
  },
  {
   "cell_type": "code",
   "execution_count": 31,
   "metadata": {},
   "outputs": [
    {
     "data": {
      "text/html": [
       "<div>\n",
       "<style scoped>\n",
       "    .dataframe tbody tr th:only-of-type {\n",
       "        vertical-align: middle;\n",
       "    }\n",
       "\n",
       "    .dataframe tbody tr th {\n",
       "        vertical-align: top;\n",
       "    }\n",
       "\n",
       "    .dataframe thead th {\n",
       "        text-align: right;\n",
       "    }\n",
       "</style>\n",
       "<table border=\"1\" class=\"dataframe\">\n",
       "  <thead>\n",
       "    <tr style=\"text-align: right;\">\n",
       "      <th></th>\n",
       "      <th>total_images</th>\n",
       "      <th>last_price</th>\n",
       "      <th>total_area</th>\n",
       "      <th>first_day_exposition</th>\n",
       "      <th>rooms</th>\n",
       "      <th>ceiling_height</th>\n",
       "      <th>floors_total</th>\n",
       "      <th>living_area</th>\n",
       "      <th>floor</th>\n",
       "      <th>is_apartment</th>\n",
       "      <th>...</th>\n",
       "      <th>kitchen_area</th>\n",
       "      <th>balcony</th>\n",
       "      <th>locality_name</th>\n",
       "      <th>airports_nearest</th>\n",
       "      <th>cityCenters_nearest</th>\n",
       "      <th>parks_around3000</th>\n",
       "      <th>parks_nearest</th>\n",
       "      <th>ponds_around3000</th>\n",
       "      <th>ponds_nearest</th>\n",
       "      <th>days_exposition</th>\n",
       "    </tr>\n",
       "  </thead>\n",
       "  <tbody>\n",
       "    <tr>\n",
       "      <th>0</th>\n",
       "      <td>20</td>\n",
       "      <td>13000000.0</td>\n",
       "      <td>108.00</td>\n",
       "      <td>2019-03-07T00:00:00</td>\n",
       "      <td>3</td>\n",
       "      <td>2.70</td>\n",
       "      <td>16.0</td>\n",
       "      <td>51.00</td>\n",
       "      <td>8</td>\n",
       "      <td>NaN</td>\n",
       "      <td>...</td>\n",
       "      <td>25.00</td>\n",
       "      <td>NaN</td>\n",
       "      <td>Санкт-Петербург</td>\n",
       "      <td>18863.0</td>\n",
       "      <td>16028.0</td>\n",
       "      <td>1.0</td>\n",
       "      <td>482.0</td>\n",
       "      <td>2.0</td>\n",
       "      <td>755.0</td>\n",
       "      <td>NaN</td>\n",
       "    </tr>\n",
       "    <tr>\n",
       "      <th>1</th>\n",
       "      <td>7</td>\n",
       "      <td>3350000.0</td>\n",
       "      <td>40.40</td>\n",
       "      <td>2018-12-04T00:00:00</td>\n",
       "      <td>1</td>\n",
       "      <td>NaN</td>\n",
       "      <td>11.0</td>\n",
       "      <td>18.60</td>\n",
       "      <td>1</td>\n",
       "      <td>NaN</td>\n",
       "      <td>...</td>\n",
       "      <td>11.00</td>\n",
       "      <td>2.0</td>\n",
       "      <td>посёлок Шушары</td>\n",
       "      <td>12817.0</td>\n",
       "      <td>18603.0</td>\n",
       "      <td>0.0</td>\n",
       "      <td>NaN</td>\n",
       "      <td>0.0</td>\n",
       "      <td>NaN</td>\n",
       "      <td>81.0</td>\n",
       "    </tr>\n",
       "    <tr>\n",
       "      <th>2</th>\n",
       "      <td>10</td>\n",
       "      <td>5196000.0</td>\n",
       "      <td>56.00</td>\n",
       "      <td>2015-08-20T00:00:00</td>\n",
       "      <td>2</td>\n",
       "      <td>NaN</td>\n",
       "      <td>5.0</td>\n",
       "      <td>34.30</td>\n",
       "      <td>4</td>\n",
       "      <td>NaN</td>\n",
       "      <td>...</td>\n",
       "      <td>8.30</td>\n",
       "      <td>0.0</td>\n",
       "      <td>Санкт-Петербург</td>\n",
       "      <td>21741.0</td>\n",
       "      <td>13933.0</td>\n",
       "      <td>1.0</td>\n",
       "      <td>90.0</td>\n",
       "      <td>2.0</td>\n",
       "      <td>574.0</td>\n",
       "      <td>558.0</td>\n",
       "    </tr>\n",
       "    <tr>\n",
       "      <th>3</th>\n",
       "      <td>0</td>\n",
       "      <td>64900000.0</td>\n",
       "      <td>159.00</td>\n",
       "      <td>2015-07-24T00:00:00</td>\n",
       "      <td>3</td>\n",
       "      <td>NaN</td>\n",
       "      <td>14.0</td>\n",
       "      <td>NaN</td>\n",
       "      <td>9</td>\n",
       "      <td>NaN</td>\n",
       "      <td>...</td>\n",
       "      <td>NaN</td>\n",
       "      <td>0.0</td>\n",
       "      <td>Санкт-Петербург</td>\n",
       "      <td>28098.0</td>\n",
       "      <td>6800.0</td>\n",
       "      <td>2.0</td>\n",
       "      <td>84.0</td>\n",
       "      <td>3.0</td>\n",
       "      <td>234.0</td>\n",
       "      <td>424.0</td>\n",
       "    </tr>\n",
       "    <tr>\n",
       "      <th>4</th>\n",
       "      <td>2</td>\n",
       "      <td>10000000.0</td>\n",
       "      <td>100.00</td>\n",
       "      <td>2018-06-19T00:00:00</td>\n",
       "      <td>2</td>\n",
       "      <td>3.03</td>\n",
       "      <td>14.0</td>\n",
       "      <td>32.00</td>\n",
       "      <td>13</td>\n",
       "      <td>NaN</td>\n",
       "      <td>...</td>\n",
       "      <td>41.00</td>\n",
       "      <td>NaN</td>\n",
       "      <td>Санкт-Петербург</td>\n",
       "      <td>31856.0</td>\n",
       "      <td>8098.0</td>\n",
       "      <td>2.0</td>\n",
       "      <td>112.0</td>\n",
       "      <td>1.0</td>\n",
       "      <td>48.0</td>\n",
       "      <td>121.0</td>\n",
       "    </tr>\n",
       "    <tr>\n",
       "      <th>5</th>\n",
       "      <td>10</td>\n",
       "      <td>2890000.0</td>\n",
       "      <td>30.40</td>\n",
       "      <td>2018-09-10T00:00:00</td>\n",
       "      <td>1</td>\n",
       "      <td>NaN</td>\n",
       "      <td>12.0</td>\n",
       "      <td>14.40</td>\n",
       "      <td>5</td>\n",
       "      <td>NaN</td>\n",
       "      <td>...</td>\n",
       "      <td>9.10</td>\n",
       "      <td>NaN</td>\n",
       "      <td>городской посёлок Янино-1</td>\n",
       "      <td>NaN</td>\n",
       "      <td>NaN</td>\n",
       "      <td>NaN</td>\n",
       "      <td>NaN</td>\n",
       "      <td>NaN</td>\n",
       "      <td>NaN</td>\n",
       "      <td>55.0</td>\n",
       "    </tr>\n",
       "    <tr>\n",
       "      <th>6</th>\n",
       "      <td>6</td>\n",
       "      <td>3700000.0</td>\n",
       "      <td>37.30</td>\n",
       "      <td>2017-11-02T00:00:00</td>\n",
       "      <td>1</td>\n",
       "      <td>NaN</td>\n",
       "      <td>26.0</td>\n",
       "      <td>10.60</td>\n",
       "      <td>6</td>\n",
       "      <td>NaN</td>\n",
       "      <td>...</td>\n",
       "      <td>14.40</td>\n",
       "      <td>1.0</td>\n",
       "      <td>посёлок Парголово</td>\n",
       "      <td>52996.0</td>\n",
       "      <td>19143.0</td>\n",
       "      <td>0.0</td>\n",
       "      <td>NaN</td>\n",
       "      <td>0.0</td>\n",
       "      <td>NaN</td>\n",
       "      <td>155.0</td>\n",
       "    </tr>\n",
       "    <tr>\n",
       "      <th>7</th>\n",
       "      <td>5</td>\n",
       "      <td>7915000.0</td>\n",
       "      <td>71.60</td>\n",
       "      <td>2019-04-18T00:00:00</td>\n",
       "      <td>2</td>\n",
       "      <td>NaN</td>\n",
       "      <td>24.0</td>\n",
       "      <td>NaN</td>\n",
       "      <td>22</td>\n",
       "      <td>NaN</td>\n",
       "      <td>...</td>\n",
       "      <td>18.90</td>\n",
       "      <td>2.0</td>\n",
       "      <td>Санкт-Петербург</td>\n",
       "      <td>23982.0</td>\n",
       "      <td>11634.0</td>\n",
       "      <td>0.0</td>\n",
       "      <td>NaN</td>\n",
       "      <td>0.0</td>\n",
       "      <td>NaN</td>\n",
       "      <td>NaN</td>\n",
       "    </tr>\n",
       "    <tr>\n",
       "      <th>8</th>\n",
       "      <td>20</td>\n",
       "      <td>2900000.0</td>\n",
       "      <td>33.16</td>\n",
       "      <td>2018-05-23T00:00:00</td>\n",
       "      <td>1</td>\n",
       "      <td>NaN</td>\n",
       "      <td>27.0</td>\n",
       "      <td>15.43</td>\n",
       "      <td>26</td>\n",
       "      <td>NaN</td>\n",
       "      <td>...</td>\n",
       "      <td>8.81</td>\n",
       "      <td>NaN</td>\n",
       "      <td>посёлок Мурино</td>\n",
       "      <td>NaN</td>\n",
       "      <td>NaN</td>\n",
       "      <td>NaN</td>\n",
       "      <td>NaN</td>\n",
       "      <td>NaN</td>\n",
       "      <td>NaN</td>\n",
       "      <td>189.0</td>\n",
       "    </tr>\n",
       "    <tr>\n",
       "      <th>9</th>\n",
       "      <td>18</td>\n",
       "      <td>5400000.0</td>\n",
       "      <td>61.00</td>\n",
       "      <td>2017-02-26T00:00:00</td>\n",
       "      <td>3</td>\n",
       "      <td>2.50</td>\n",
       "      <td>9.0</td>\n",
       "      <td>43.60</td>\n",
       "      <td>7</td>\n",
       "      <td>NaN</td>\n",
       "      <td>...</td>\n",
       "      <td>6.50</td>\n",
       "      <td>2.0</td>\n",
       "      <td>Санкт-Петербург</td>\n",
       "      <td>50898.0</td>\n",
       "      <td>15008.0</td>\n",
       "      <td>0.0</td>\n",
       "      <td>NaN</td>\n",
       "      <td>0.0</td>\n",
       "      <td>NaN</td>\n",
       "      <td>289.0</td>\n",
       "    </tr>\n",
       "  </tbody>\n",
       "</table>\n",
       "<p>10 rows × 22 columns</p>\n",
       "</div>"
      ],
      "text/plain": [
       "   total_images  last_price  total_area first_day_exposition  rooms  \\\n",
       "0            20  13000000.0      108.00  2019-03-07T00:00:00      3   \n",
       "1             7   3350000.0       40.40  2018-12-04T00:00:00      1   \n",
       "2            10   5196000.0       56.00  2015-08-20T00:00:00      2   \n",
       "3             0  64900000.0      159.00  2015-07-24T00:00:00      3   \n",
       "4             2  10000000.0      100.00  2018-06-19T00:00:00      2   \n",
       "5            10   2890000.0       30.40  2018-09-10T00:00:00      1   \n",
       "6             6   3700000.0       37.30  2017-11-02T00:00:00      1   \n",
       "7             5   7915000.0       71.60  2019-04-18T00:00:00      2   \n",
       "8            20   2900000.0       33.16  2018-05-23T00:00:00      1   \n",
       "9            18   5400000.0       61.00  2017-02-26T00:00:00      3   \n",
       "\n",
       "   ceiling_height  floors_total  living_area  floor is_apartment  ...  \\\n",
       "0            2.70          16.0        51.00      8          NaN  ...   \n",
       "1             NaN          11.0        18.60      1          NaN  ...   \n",
       "2             NaN           5.0        34.30      4          NaN  ...   \n",
       "3             NaN          14.0          NaN      9          NaN  ...   \n",
       "4            3.03          14.0        32.00     13          NaN  ...   \n",
       "5             NaN          12.0        14.40      5          NaN  ...   \n",
       "6             NaN          26.0        10.60      6          NaN  ...   \n",
       "7             NaN          24.0          NaN     22          NaN  ...   \n",
       "8             NaN          27.0        15.43     26          NaN  ...   \n",
       "9            2.50           9.0        43.60      7          NaN  ...   \n",
       "\n",
       "   kitchen_area  balcony              locality_name  airports_nearest  \\\n",
       "0         25.00      NaN            Санкт-Петербург           18863.0   \n",
       "1         11.00      2.0             посёлок Шушары           12817.0   \n",
       "2          8.30      0.0            Санкт-Петербург           21741.0   \n",
       "3           NaN      0.0            Санкт-Петербург           28098.0   \n",
       "4         41.00      NaN            Санкт-Петербург           31856.0   \n",
       "5          9.10      NaN  городской посёлок Янино-1               NaN   \n",
       "6         14.40      1.0          посёлок Парголово           52996.0   \n",
       "7         18.90      2.0            Санкт-Петербург           23982.0   \n",
       "8          8.81      NaN             посёлок Мурино               NaN   \n",
       "9          6.50      2.0            Санкт-Петербург           50898.0   \n",
       "\n",
       "  cityCenters_nearest  parks_around3000  parks_nearest  ponds_around3000  \\\n",
       "0             16028.0               1.0          482.0               2.0   \n",
       "1             18603.0               0.0            NaN               0.0   \n",
       "2             13933.0               1.0           90.0               2.0   \n",
       "3              6800.0               2.0           84.0               3.0   \n",
       "4              8098.0               2.0          112.0               1.0   \n",
       "5                 NaN               NaN            NaN               NaN   \n",
       "6             19143.0               0.0            NaN               0.0   \n",
       "7             11634.0               0.0            NaN               0.0   \n",
       "8                 NaN               NaN            NaN               NaN   \n",
       "9             15008.0               0.0            NaN               0.0   \n",
       "\n",
       "   ponds_nearest  days_exposition  \n",
       "0          755.0              NaN  \n",
       "1            NaN             81.0  \n",
       "2          574.0            558.0  \n",
       "3          234.0            424.0  \n",
       "4           48.0            121.0  \n",
       "5            NaN             55.0  \n",
       "6            NaN            155.0  \n",
       "7            NaN              NaN  \n",
       "8            NaN            189.0  \n",
       "9            NaN            289.0  \n",
       "\n",
       "[10 rows x 22 columns]"
      ]
     },
     "metadata": {},
     "output_type": "display_data"
    },
    {
     "name": "stdout",
     "output_type": "stream",
     "text": [
      "<class 'pandas.core.frame.DataFrame'>\n",
      "RangeIndex: 23699 entries, 0 to 23698\n",
      "Data columns (total 22 columns):\n",
      " #   Column                Non-Null Count  Dtype  \n",
      "---  ------                --------------  -----  \n",
      " 0   total_images          23699 non-null  int64  \n",
      " 1   last_price            23699 non-null  float64\n",
      " 2   total_area            23699 non-null  float64\n",
      " 3   first_day_exposition  23699 non-null  object \n",
      " 4   rooms                 23699 non-null  int64  \n",
      " 5   ceiling_height        14504 non-null  float64\n",
      " 6   floors_total          23613 non-null  float64\n",
      " 7   living_area           21796 non-null  float64\n",
      " 8   floor                 23699 non-null  int64  \n",
      " 9   is_apartment          2775 non-null   object \n",
      " 10  studio                23699 non-null  bool   \n",
      " 11  open_plan             23699 non-null  bool   \n",
      " 12  kitchen_area          21421 non-null  float64\n",
      " 13  balcony               12180 non-null  float64\n",
      " 14  locality_name         23650 non-null  object \n",
      " 15  airports_nearest      18157 non-null  float64\n",
      " 16  cityCenters_nearest   18180 non-null  float64\n",
      " 17  parks_around3000      18181 non-null  float64\n",
      " 18  parks_nearest         8079 non-null   float64\n",
      " 19  ponds_around3000      18181 non-null  float64\n",
      " 20  ponds_nearest         9110 non-null   float64\n",
      " 21  days_exposition       20518 non-null  float64\n",
      "dtypes: bool(2), float64(14), int64(3), object(3)\n",
      "memory usage: 3.7+ MB\n"
     ]
    },
    {
     "data": {
      "text/html": [
       "<div>\n",
       "<style scoped>\n",
       "    .dataframe tbody tr th:only-of-type {\n",
       "        vertical-align: middle;\n",
       "    }\n",
       "\n",
       "    .dataframe tbody tr th {\n",
       "        vertical-align: top;\n",
       "    }\n",
       "\n",
       "    .dataframe thead th {\n",
       "        text-align: right;\n",
       "    }\n",
       "</style>\n",
       "<table border=\"1\" class=\"dataframe\">\n",
       "  <thead>\n",
       "    <tr style=\"text-align: right;\">\n",
       "      <th></th>\n",
       "      <th>count</th>\n",
       "      <th>mean</th>\n",
       "      <th>std</th>\n",
       "      <th>min</th>\n",
       "      <th>25%</th>\n",
       "      <th>50%</th>\n",
       "      <th>75%</th>\n",
       "      <th>max</th>\n",
       "    </tr>\n",
       "  </thead>\n",
       "  <tbody>\n",
       "    <tr>\n",
       "      <th>total_images</th>\n",
       "      <td>23699.0</td>\n",
       "      <td>9.858475e+00</td>\n",
       "      <td>5.682529e+00</td>\n",
       "      <td>0.0</td>\n",
       "      <td>6.00</td>\n",
       "      <td>9.00</td>\n",
       "      <td>14.0</td>\n",
       "      <td>50.0</td>\n",
       "    </tr>\n",
       "    <tr>\n",
       "      <th>last_price</th>\n",
       "      <td>23699.0</td>\n",
       "      <td>6.541549e+06</td>\n",
       "      <td>1.088701e+07</td>\n",
       "      <td>12190.0</td>\n",
       "      <td>3400000.00</td>\n",
       "      <td>4650000.00</td>\n",
       "      <td>6800000.0</td>\n",
       "      <td>763000000.0</td>\n",
       "    </tr>\n",
       "    <tr>\n",
       "      <th>total_area</th>\n",
       "      <td>23699.0</td>\n",
       "      <td>6.034865e+01</td>\n",
       "      <td>3.565408e+01</td>\n",
       "      <td>12.0</td>\n",
       "      <td>40.00</td>\n",
       "      <td>52.00</td>\n",
       "      <td>69.9</td>\n",
       "      <td>900.0</td>\n",
       "    </tr>\n",
       "    <tr>\n",
       "      <th>rooms</th>\n",
       "      <td>23699.0</td>\n",
       "      <td>2.070636e+00</td>\n",
       "      <td>1.078405e+00</td>\n",
       "      <td>0.0</td>\n",
       "      <td>1.00</td>\n",
       "      <td>2.00</td>\n",
       "      <td>3.0</td>\n",
       "      <td>19.0</td>\n",
       "    </tr>\n",
       "    <tr>\n",
       "      <th>ceiling_height</th>\n",
       "      <td>14504.0</td>\n",
       "      <td>2.771499e+00</td>\n",
       "      <td>1.261056e+00</td>\n",
       "      <td>1.0</td>\n",
       "      <td>2.52</td>\n",
       "      <td>2.65</td>\n",
       "      <td>2.8</td>\n",
       "      <td>100.0</td>\n",
       "    </tr>\n",
       "    <tr>\n",
       "      <th>floors_total</th>\n",
       "      <td>23613.0</td>\n",
       "      <td>1.067382e+01</td>\n",
       "      <td>6.597173e+00</td>\n",
       "      <td>1.0</td>\n",
       "      <td>5.00</td>\n",
       "      <td>9.00</td>\n",
       "      <td>16.0</td>\n",
       "      <td>60.0</td>\n",
       "    </tr>\n",
       "    <tr>\n",
       "      <th>living_area</th>\n",
       "      <td>21796.0</td>\n",
       "      <td>3.445785e+01</td>\n",
       "      <td>2.203045e+01</td>\n",
       "      <td>2.0</td>\n",
       "      <td>18.60</td>\n",
       "      <td>30.00</td>\n",
       "      <td>42.3</td>\n",
       "      <td>409.7</td>\n",
       "    </tr>\n",
       "    <tr>\n",
       "      <th>floor</th>\n",
       "      <td>23699.0</td>\n",
       "      <td>5.892358e+00</td>\n",
       "      <td>4.885249e+00</td>\n",
       "      <td>1.0</td>\n",
       "      <td>2.00</td>\n",
       "      <td>4.00</td>\n",
       "      <td>8.0</td>\n",
       "      <td>33.0</td>\n",
       "    </tr>\n",
       "    <tr>\n",
       "      <th>kitchen_area</th>\n",
       "      <td>21421.0</td>\n",
       "      <td>1.056981e+01</td>\n",
       "      <td>5.905438e+00</td>\n",
       "      <td>1.3</td>\n",
       "      <td>7.00</td>\n",
       "      <td>9.10</td>\n",
       "      <td>12.0</td>\n",
       "      <td>112.0</td>\n",
       "    </tr>\n",
       "    <tr>\n",
       "      <th>balcony</th>\n",
       "      <td>12180.0</td>\n",
       "      <td>1.150082e+00</td>\n",
       "      <td>1.071300e+00</td>\n",
       "      <td>0.0</td>\n",
       "      <td>0.00</td>\n",
       "      <td>1.00</td>\n",
       "      <td>2.0</td>\n",
       "      <td>5.0</td>\n",
       "    </tr>\n",
       "    <tr>\n",
       "      <th>airports_nearest</th>\n",
       "      <td>18157.0</td>\n",
       "      <td>2.879367e+04</td>\n",
       "      <td>1.263088e+04</td>\n",
       "      <td>0.0</td>\n",
       "      <td>18585.00</td>\n",
       "      <td>26726.00</td>\n",
       "      <td>37273.0</td>\n",
       "      <td>84869.0</td>\n",
       "    </tr>\n",
       "    <tr>\n",
       "      <th>cityCenters_nearest</th>\n",
       "      <td>18180.0</td>\n",
       "      <td>1.419128e+04</td>\n",
       "      <td>8.608386e+03</td>\n",
       "      <td>181.0</td>\n",
       "      <td>9238.00</td>\n",
       "      <td>13098.50</td>\n",
       "      <td>16293.0</td>\n",
       "      <td>65968.0</td>\n",
       "    </tr>\n",
       "    <tr>\n",
       "      <th>parks_around3000</th>\n",
       "      <td>18181.0</td>\n",
       "      <td>6.114075e-01</td>\n",
       "      <td>8.020736e-01</td>\n",
       "      <td>0.0</td>\n",
       "      <td>0.00</td>\n",
       "      <td>0.00</td>\n",
       "      <td>1.0</td>\n",
       "      <td>3.0</td>\n",
       "    </tr>\n",
       "    <tr>\n",
       "      <th>parks_nearest</th>\n",
       "      <td>8079.0</td>\n",
       "      <td>4.908046e+02</td>\n",
       "      <td>3.423180e+02</td>\n",
       "      <td>1.0</td>\n",
       "      <td>288.00</td>\n",
       "      <td>455.00</td>\n",
       "      <td>612.0</td>\n",
       "      <td>3190.0</td>\n",
       "    </tr>\n",
       "    <tr>\n",
       "      <th>ponds_around3000</th>\n",
       "      <td>18181.0</td>\n",
       "      <td>7.702547e-01</td>\n",
       "      <td>9.383456e-01</td>\n",
       "      <td>0.0</td>\n",
       "      <td>0.00</td>\n",
       "      <td>1.00</td>\n",
       "      <td>1.0</td>\n",
       "      <td>3.0</td>\n",
       "    </tr>\n",
       "    <tr>\n",
       "      <th>ponds_nearest</th>\n",
       "      <td>9110.0</td>\n",
       "      <td>5.179809e+02</td>\n",
       "      <td>2.777206e+02</td>\n",
       "      <td>13.0</td>\n",
       "      <td>294.00</td>\n",
       "      <td>502.00</td>\n",
       "      <td>729.0</td>\n",
       "      <td>1344.0</td>\n",
       "    </tr>\n",
       "    <tr>\n",
       "      <th>days_exposition</th>\n",
       "      <td>20518.0</td>\n",
       "      <td>1.808886e+02</td>\n",
       "      <td>2.197280e+02</td>\n",
       "      <td>1.0</td>\n",
       "      <td>45.00</td>\n",
       "      <td>95.00</td>\n",
       "      <td>232.0</td>\n",
       "      <td>1580.0</td>\n",
       "    </tr>\n",
       "  </tbody>\n",
       "</table>\n",
       "</div>"
      ],
      "text/plain": [
       "                       count          mean           std      min         25%  \\\n",
       "total_images         23699.0  9.858475e+00  5.682529e+00      0.0        6.00   \n",
       "last_price           23699.0  6.541549e+06  1.088701e+07  12190.0  3400000.00   \n",
       "total_area           23699.0  6.034865e+01  3.565408e+01     12.0       40.00   \n",
       "rooms                23699.0  2.070636e+00  1.078405e+00      0.0        1.00   \n",
       "ceiling_height       14504.0  2.771499e+00  1.261056e+00      1.0        2.52   \n",
       "floors_total         23613.0  1.067382e+01  6.597173e+00      1.0        5.00   \n",
       "living_area          21796.0  3.445785e+01  2.203045e+01      2.0       18.60   \n",
       "floor                23699.0  5.892358e+00  4.885249e+00      1.0        2.00   \n",
       "kitchen_area         21421.0  1.056981e+01  5.905438e+00      1.3        7.00   \n",
       "balcony              12180.0  1.150082e+00  1.071300e+00      0.0        0.00   \n",
       "airports_nearest     18157.0  2.879367e+04  1.263088e+04      0.0    18585.00   \n",
       "cityCenters_nearest  18180.0  1.419128e+04  8.608386e+03    181.0     9238.00   \n",
       "parks_around3000     18181.0  6.114075e-01  8.020736e-01      0.0        0.00   \n",
       "parks_nearest         8079.0  4.908046e+02  3.423180e+02      1.0      288.00   \n",
       "ponds_around3000     18181.0  7.702547e-01  9.383456e-01      0.0        0.00   \n",
       "ponds_nearest         9110.0  5.179809e+02  2.777206e+02     13.0      294.00   \n",
       "days_exposition      20518.0  1.808886e+02  2.197280e+02      1.0       45.00   \n",
       "\n",
       "                            50%        75%          max  \n",
       "total_images               9.00       14.0         50.0  \n",
       "last_price           4650000.00  6800000.0  763000000.0  \n",
       "total_area                52.00       69.9        900.0  \n",
       "rooms                      2.00        3.0         19.0  \n",
       "ceiling_height             2.65        2.8        100.0  \n",
       "floors_total               9.00       16.0         60.0  \n",
       "living_area               30.00       42.3        409.7  \n",
       "floor                      4.00        8.0         33.0  \n",
       "kitchen_area               9.10       12.0        112.0  \n",
       "balcony                    1.00        2.0          5.0  \n",
       "airports_nearest       26726.00    37273.0      84869.0  \n",
       "cityCenters_nearest    13098.50    16293.0      65968.0  \n",
       "parks_around3000           0.00        1.0          3.0  \n",
       "parks_nearest            455.00      612.0       3190.0  \n",
       "ponds_around3000           1.00        1.0          3.0  \n",
       "ponds_nearest            502.00      729.0       1344.0  \n",
       "days_exposition           95.00      232.0       1580.0  "
      ]
     },
     "execution_count": 31,
     "metadata": {},
     "output_type": "execute_result"
    }
   ],
   "source": [
    "#читаем данные из файла\n",
    "try:\n",
    "    data = pd.read_csv('real_estate_data.csv', sep='\\t')\n",
    "except:\n",
    "    data = pd.read_csv('datasets/real_estate_data.csv', sep='\\t')\n",
    "\n",
    "#выводим содержимое и общую информацию\n",
    "display(data.head(10)) \n",
    "data.info()\n",
    "data.describe().T"
   ]
  },
  {
   "cell_type": "markdown",
   "metadata": {},
   "source": [
    "### Вывод"
   ]
  },
  {
   "cell_type": "markdown",
   "metadata": {},
   "source": [
    "1. В файле в качестве разделителя используется символ табуляции\n",
    "1. В данных есть пропуски в нескольких столбцах. Подробнее разберем пропуски на следующем шаге"
   ]
  },
  {
   "cell_type": "markdown",
   "metadata": {},
   "source": [
    "## Предобработка данных"
   ]
  },
  {
   "cell_type": "markdown",
   "metadata": {},
   "source": [
    "### Заполнение пропусков"
   ]
  },
  {
   "cell_type": "markdown",
   "metadata": {},
   "source": [
    "Обнаружены пропуски в следующих столбцах:"
   ]
  },
  {
   "cell_type": "markdown",
   "metadata": {},
   "source": [
    "`ceiling_height` - для этого столбца можно поискать корреляцию с другими параметрами для замены по группам или заменить на среднее по медиане. "
   ]
  },
  {
   "cell_type": "markdown",
   "metadata": {},
   "source": [
    "**Поищем корреляцию между заполненными значениями и другими параметрами** "
   ]
  },
  {
   "cell_type": "code",
   "execution_count": 32,
   "metadata": {},
   "outputs": [
    {
     "name": "stdout",
     "output_type": "stream",
     "text": [
      "                     total_images  last_price  total_area     rooms  \\\n",
      "total_images             1.000000    0.117685    0.111669  0.089446   \n",
      "last_price               0.117685    1.000000    0.712968  0.401501   \n",
      "total_area               0.111669    0.712968    1.000000  0.760946   \n",
      "rooms                    0.089446    0.401501    0.760946  1.000000   \n",
      "ceiling_height          -0.001987    0.085430    0.095490  0.054457   \n",
      "floors_total             0.029351    0.003355   -0.058102 -0.209277   \n",
      "living_area              0.096049    0.615393    0.942661  0.846796   \n",
      "floor                    0.043810    0.037669   -0.007119 -0.136958   \n",
      "studio                  -0.029433   -0.025219   -0.065257 -0.137770   \n",
      "open_plan               -0.018210    0.004616   -0.000103 -0.037203   \n",
      "kitchen_area             0.117781    0.535970    0.612415  0.282702   \n",
      "balcony                  0.107535    0.014609    0.046379  0.035372   \n",
      "airports_nearest        -0.001030   -0.027544   -0.029805 -0.058021   \n",
      "cityCenters_nearest     -0.045389   -0.227235   -0.239614 -0.189678   \n",
      "parks_around3000         0.018359    0.181583    0.186307  0.144500   \n",
      "parks_nearest            0.005827   -0.024382   -0.029868 -0.045835   \n",
      "ponds_around3000        -0.011957    0.174708    0.160156  0.093669   \n",
      "ponds_nearest            0.001005   -0.121912   -0.127596 -0.086668   \n",
      "days_exposition         -0.036358    0.094326    0.159811  0.144097   \n",
      "\n",
      "                     ceiling_height  floors_total  living_area     floor  \\\n",
      "total_images              -0.001987      0.029351     0.096049  0.043810   \n",
      "last_price                 0.085430      0.003355     0.615393  0.037669   \n",
      "total_area                 0.095490     -0.058102     0.942661 -0.007119   \n",
      "rooms                      0.054457     -0.209277     0.846796 -0.136958   \n",
      "ceiling_height             1.000000     -0.028732     0.090650 -0.011798   \n",
      "floors_total              -0.028732      1.000000    -0.151574  0.674782   \n",
      "living_area                0.090650     -0.151574     1.000000 -0.080833   \n",
      "floor                     -0.011798      0.674782    -0.080833  1.000000   \n",
      "studio                     0.001674      0.057337    -0.050367  0.032232   \n",
      "open_plan                  0.042777      0.022629    -0.011972  0.019800   \n",
      "kitchen_area               0.087641      0.168380     0.439110  0.142889   \n",
      "balcony                    0.040523      0.191463     0.017407  0.167843   \n",
      "airports_nearest          -0.023947      0.113122    -0.053793  0.077160   \n",
      "cityCenters_nearest       -0.091689      0.008860    -0.238644 -0.001881   \n",
      "parks_around3000           0.065915     -0.232952     0.195683 -0.147891   \n",
      "parks_nearest             -0.019167      0.090397    -0.049636  0.066093   \n",
      "ponds_around3000           0.078209     -0.128909     0.144990 -0.074173   \n",
      "ponds_nearest             -0.059090      0.061344    -0.111247  0.034012   \n",
      "days_exposition            0.019091     -0.056463     0.150591 -0.035329   \n",
      "\n",
      "                       studio  open_plan  kitchen_area   balcony  \\\n",
      "total_images        -0.029433  -0.018210      0.117781  0.107535   \n",
      "last_price          -0.025219   0.004616      0.535970  0.014609   \n",
      "total_area          -0.065257  -0.000103      0.612415  0.046379   \n",
      "rooms               -0.137770  -0.037203      0.282702  0.035372   \n",
      "ceiling_height       0.001674   0.042777      0.087641  0.040523   \n",
      "floors_total         0.057337   0.022629      0.168380  0.191463   \n",
      "living_area         -0.050367  -0.011972      0.439110  0.017407   \n",
      "floor                0.032232   0.019800      0.142889  0.167843   \n",
      "studio               1.000000  -0.002351           NaN  0.017031   \n",
      "open_plan           -0.002351   1.000000           NaN  0.002192   \n",
      "kitchen_area              NaN        NaN      1.000000  0.087544   \n",
      "balcony              0.017031   0.002192      0.087544  1.000000   \n",
      "airports_nearest    -0.020182  -0.006400     -0.000615  0.070974   \n",
      "cityCenters_nearest -0.012781  -0.002761     -0.199080  0.051336   \n",
      "parks_around3000    -0.028579  -0.000439      0.113805 -0.101295   \n",
      "parks_nearest       -0.006501   0.003169      0.011837  0.054977   \n",
      "ponds_around3000     0.000186   0.006218      0.150964 -0.056033   \n",
      "ponds_nearest        0.006837  -0.004576     -0.119279  0.007339   \n",
      "days_exposition     -0.013136  -0.013507      0.113411 -0.037729   \n",
      "\n",
      "                     airports_nearest  cityCenters_nearest  parks_around3000  \\\n",
      "total_images                -0.001030            -0.045389          0.018359   \n",
      "last_price                  -0.027544            -0.227235          0.181583   \n",
      "total_area                  -0.029805            -0.239614          0.186307   \n",
      "rooms                       -0.058021            -0.189678          0.144500   \n",
      "ceiling_height              -0.023947            -0.091689          0.065915   \n",
      "floors_total                 0.113122             0.008860         -0.232952   \n",
      "living_area                 -0.053793            -0.238644          0.195683   \n",
      "floor                        0.077160            -0.001881         -0.147891   \n",
      "studio                      -0.020182            -0.012781         -0.028579   \n",
      "open_plan                   -0.006400            -0.002761         -0.000439   \n",
      "kitchen_area                -0.000615            -0.199080          0.113805   \n",
      "balcony                      0.070974             0.051336         -0.101295   \n",
      "airports_nearest             1.000000             0.290418          0.011487   \n",
      "cityCenters_nearest          0.290418             1.000000         -0.162193   \n",
      "parks_around3000             0.011487            -0.162193          1.000000   \n",
      "parks_nearest               -0.061199            -0.037936         -0.244409   \n",
      "ponds_around3000            -0.044065            -0.073019          0.320016   \n",
      "ponds_nearest                0.010582             0.045721         -0.192592   \n",
      "days_exposition             -0.019271            -0.057686          0.065809   \n",
      "\n",
      "                     parks_nearest  ponds_around3000  ponds_nearest  \\\n",
      "total_images              0.005827         -0.011957       0.001005   \n",
      "last_price               -0.024382          0.174708      -0.121912   \n",
      "total_area               -0.029868          0.160156      -0.127596   \n",
      "rooms                    -0.045835          0.093669      -0.086668   \n",
      "ceiling_height           -0.019167          0.078209      -0.059090   \n",
      "floors_total              0.090397         -0.128909       0.061344   \n",
      "living_area              -0.049636          0.144990      -0.111247   \n",
      "floor                     0.066093         -0.074173       0.034012   \n",
      "studio                   -0.006501          0.000186       0.006837   \n",
      "open_plan                 0.003169          0.006218      -0.004576   \n",
      "kitchen_area              0.011837          0.150964      -0.119279   \n",
      "balcony                   0.054977         -0.056033       0.007339   \n",
      "airports_nearest         -0.061199         -0.044065       0.010582   \n",
      "cityCenters_nearest      -0.037936         -0.073019       0.045721   \n",
      "parks_around3000         -0.244409          0.320016      -0.192592   \n",
      "parks_nearest             1.000000          0.053897       0.013220   \n",
      "ponds_around3000          0.053897          1.000000      -0.351080   \n",
      "ponds_nearest             0.013220         -0.351080       1.000000   \n",
      "days_exposition           0.016912          0.068461      -0.089685   \n",
      "\n",
      "                     days_exposition  \n",
      "total_images               -0.036358  \n",
      "last_price                  0.094326  \n",
      "total_area                  0.159811  \n",
      "rooms                       0.144097  \n",
      "ceiling_height              0.019091  \n",
      "floors_total               -0.056463  \n",
      "living_area                 0.150591  \n",
      "floor                      -0.035329  \n",
      "studio                     -0.013136  \n",
      "open_plan                  -0.013507  \n",
      "kitchen_area                0.113411  \n",
      "balcony                    -0.037729  \n",
      "airports_nearest           -0.019271  \n",
      "cityCenters_nearest        -0.057686  \n",
      "parks_around3000            0.065809  \n",
      "parks_nearest               0.016912  \n",
      "ponds_around3000            0.068461  \n",
      "ponds_nearest              -0.089685  \n",
      "days_exposition             1.000000  \n"
     ]
    }
   ],
   "source": [
    "#создаем срез данных, где заполнено поле ceiling_height\n",
    "with_ceiling_height = data.query('ceiling_height.notna()', engine='python')\n",
    "#вычисляем коэф-т Пирсона для всех столбцов. В результате найдем столбец ceiling_height\n",
    "print(with_ceiling_height.corr())"
   ]
  },
  {
   "cell_type": "markdown",
   "metadata": {},
   "source": [
    "У столбца `ceiling_height` коэфт-т корреляции с другими столбцами изменяется в сотых долях. Сл-но замена по группам не подходит.  \n",
    "**Заменим пустые значения на среднее по медиане.**"
   ]
  },
  {
   "cell_type": "code",
   "execution_count": 33,
   "metadata": {},
   "outputs": [],
   "source": [
    "data['ceiling_height'] = data['ceiling_height'].fillna(data['ceiling_height'].median())"
   ]
  },
  {
   "cell_type": "markdown",
   "metadata": {},
   "source": [
    "`floors_total` - доля объявлений, где не указано общее кол-во этажей в доме <1%.А так же это параметр не имеет каких-то зависмостей поэтому **оставим столбец как есть**"
   ]
  },
  {
   "cell_type": "markdown",
   "metadata": {},
   "source": [
    "`living_area` - **рассчитаем среднюю долю жилой площади в зависимости от кол-ва комнат** и заполним пропуски этим значением"
   ]
  },
  {
   "cell_type": "code",
   "execution_count": 34,
   "metadata": {},
   "outputs": [],
   "source": [
    "##Заполняем пропуски в столбце living_area\n",
    "data['living_area'] = data['living_area'].fillna(data.groupby('rooms')['living_area'].transform('median'))"
   ]
  },
  {
   "cell_type": "markdown",
   "metadata": {},
   "source": [
    "`is_apartment` - скорее всего если квартира не является апартаментами, то это поле оставляли пустым. **Заменим пустые значения на False**"
   ]
  },
  {
   "cell_type": "code",
   "execution_count": 35,
   "metadata": {},
   "outputs": [],
   "source": [
    "#Заполняем пропуски в столбце is_apartment\n",
    "data['is_apartment'] = data['is_apartment'].fillna(False)"
   ]
  },
  {
   "cell_type": "markdown",
   "metadata": {},
   "source": [
    "`kitchen_area` - если отдельной кухни в квартире нет, то скорее всего это поле оставляли пустым. **Заменим пустые значения на 0**"
   ]
  },
  {
   "cell_type": "code",
   "execution_count": 36,
   "metadata": {},
   "outputs": [],
   "source": [
    "#Заполняем пропуски в столбце kitchen_area\n",
    "data['kitchen_area'] = data['kitchen_area'].fillna(0)"
   ]
  },
  {
   "cell_type": "markdown",
   "metadata": {},
   "source": [
    "`balcony` - если балконов нет, то это поле могли оставить пустым. **Заменим пустые значения на 0** "
   ]
  },
  {
   "cell_type": "code",
   "execution_count": 37,
   "metadata": {},
   "outputs": [],
   "source": [
    "#Заполняем пропуски в столбце balcony\n",
    "data['balcony'] = data['balcony'].fillna(0)"
   ]
  },
  {
   "cell_type": "markdown",
   "metadata": {},
   "source": [
    "`locality_name` - доля объявлений, где не указан населенный пункт < 1%. А так же логичной замены для данного столбца нет. **Оставим столбец как есть**"
   ]
  },
  {
   "cell_type": "markdown",
   "metadata": {},
   "source": [
    "`airports_nearest` - данный столбец не потребуется в дальнейшем исследовании, его можно удалить"
   ]
  },
  {
   "cell_type": "code",
   "execution_count": 38,
   "metadata": {},
   "outputs": [],
   "source": [
    "##Удаляем столбец airports_nearest\n",
    "data = data.drop('airports_nearest', axis=1)"
   ]
  },
  {
   "cell_type": "markdown",
   "metadata": {},
   "source": [
    "`cityCenters_nearest` - знать расстояние до центра при покупке квартиры имеет смысл только, если квартира находится в городе (в нашем случае, в Санкт-Петербурге). **Вычислим долю квартир в городе, для которых не указано расстояние до центра**"
   ]
  },
  {
   "cell_type": "code",
   "execution_count": 41,
   "metadata": {},
   "outputs": [
    {
     "name": "stdout",
     "output_type": "stream",
     "text": [
      "Доля объявлений в Санкт-Петербурге без расстояния до центра: 0.4%\n"
     ]
    }
   ],
   "source": [
    "#Вычисляем долю объявлений в Санкт-Петербурге без расстояния до центра\n",
    "no_cityCenters_spb_part = len(data.query('locality_name == \"Санкт-Петербург\" and cityCenters_nearest.isna()', engine='python')) / len(data.query('locality_name == \"Санкт-Петербург\"'))\n",
    "print(f'Доля объявлений в Санкт-Петербурге без расстояния до центра: {no_cityCenters_spb_part:.1%}')"
   ]
  },
  {
   "cell_type": "markdown",
   "metadata": {},
   "source": [
    "Доля таких объявлений составляет <1%, **поэтому оставим столбец без изменений**"
   ]
  },
  {
   "cell_type": "markdown",
   "metadata": {},
   "source": [
    "`parks_around3000` - если ни одного парка в радиусе 3 км нет, то это поле могли оставить пустым. **Заменим пустые значения на 0**"
   ]
  },
  {
   "cell_type": "code",
   "execution_count": 42,
   "metadata": {},
   "outputs": [],
   "source": [
    "#Заполняем пропуски в столбце parks_around3000\n",
    "data['parks_around3000'] = data['parks_around3000'].fillna(0)"
   ]
  },
  {
   "cell_type": "markdown",
   "metadata": {},
   "source": [
    "`parks_nearest` - логичной замены для данного столбца нет. **Оставим столбец как есть** "
   ]
  },
  {
   "cell_type": "markdown",
   "metadata": {},
   "source": [
    "`ponds_around3000` - если ни одного водоема в радиусе 3 км нет, то это поле могли оставить пустым. Заменим пустые значения на 0"
   ]
  },
  {
   "cell_type": "code",
   "execution_count": 43,
   "metadata": {},
   "outputs": [],
   "source": [
    "#Заполняем пропуски в столбце ponds_around3000\n",
    "data['ponds_around3000'] = data['parks_around3000'].fillna(0)"
   ]
  },
  {
   "cell_type": "markdown",
   "metadata": {},
   "source": [
    "`ponds_nearest` - логичной замены для данного столбца нет. **Оставим столбец как есть** "
   ]
  },
  {
   "cell_type": "markdown",
   "metadata": {},
   "source": [
    "`days_exposition` - если не указано кол-во дней, то можно предположить, что объявление все еще не закрыто. Можно заполнить пустые значения разницей в днях между текущей датой и датой размещения объявления. Но мы не знаем насколько актуален датасет и  в дальнейшем иследовании понадобится работать со сроками продажи квартиры, сл-но нужны данные только по проданным квартирам. Поэтому **оставим столбец как есть.**"
   ]
  },
  {
   "cell_type": "markdown",
   "metadata": {},
   "source": [
    "Проверим результат замены пропусков:"
   ]
  },
  {
   "cell_type": "code",
   "execution_count": 44,
   "metadata": {},
   "outputs": [
    {
     "name": "stdout",
     "output_type": "stream",
     "text": [
      "<class 'pandas.core.frame.DataFrame'>\n",
      "RangeIndex: 23699 entries, 0 to 23698\n",
      "Data columns (total 21 columns):\n",
      " #   Column                Non-Null Count  Dtype  \n",
      "---  ------                --------------  -----  \n",
      " 0   total_images          23699 non-null  int64  \n",
      " 1   last_price            23699 non-null  float64\n",
      " 2   total_area            23699 non-null  float64\n",
      " 3   first_day_exposition  23699 non-null  object \n",
      " 4   rooms                 23699 non-null  int64  \n",
      " 5   ceiling_height        23699 non-null  float64\n",
      " 6   floors_total          23613 non-null  float64\n",
      " 7   living_area           23699 non-null  float64\n",
      " 8   floor                 23699 non-null  int64  \n",
      " 9   is_apartment          23699 non-null  bool   \n",
      " 10  studio                23699 non-null  bool   \n",
      " 11  open_plan             23699 non-null  bool   \n",
      " 12  kitchen_area          23699 non-null  float64\n",
      " 13  balcony               23699 non-null  float64\n",
      " 14  locality_name         23650 non-null  object \n",
      " 15  cityCenters_nearest   18180 non-null  float64\n",
      " 16  parks_around3000      23699 non-null  float64\n",
      " 17  parks_nearest         8079 non-null   float64\n",
      " 18  ponds_around3000      23699 non-null  float64\n",
      " 19  ponds_nearest         9110 non-null   float64\n",
      " 20  days_exposition       20518 non-null  float64\n",
      "dtypes: bool(3), float64(13), int64(3), object(2)\n",
      "memory usage: 3.3+ MB\n"
     ]
    }
   ],
   "source": [
    "data.info()"
   ]
  },
  {
   "cell_type": "markdown",
   "metadata": {},
   "source": [
    "Все пропуски, которые планировали заполнить, заполнены."
   ]
  },
  {
   "cell_type": "markdown",
   "metadata": {},
   "source": [
    "### Изменение типов данных"
   ]
  },
  {
   "cell_type": "markdown",
   "metadata": {},
   "source": [
    "Для выполнения операций с датами необходимо привести столбец `first_day_exposition` к типу datetime"
   ]
  },
  {
   "cell_type": "code",
   "execution_count": 45,
   "metadata": {},
   "outputs": [],
   "source": [
    "#Приведем столбец first_day_exposition к типу datetime\n",
    "DATE_FORMAT = '%Y-%m-%dT%H:%M:%S'\n",
    "data['first_day_exposition'] = pd.to_datetime(data['first_day_exposition'],format= DATE_FORMAT)"
   ]
  },
  {
   "cell_type": "markdown",
   "metadata": {},
   "source": [
    "Для упрощения работы с ценой изменим формат цены и приведем столбец `last_price` к млн рублей. Знаки после запятой оставим, чтобы не исказить данные"
   ]
  },
  {
   "cell_type": "code",
   "execution_count": 46,
   "metadata": {},
   "outputs": [],
   "source": [
    "#Изменим формат столбца 'last_price'\n",
    "data['last_price'] = data['last_price'] / 1000000"
   ]
  },
  {
   "cell_type": "markdown",
   "metadata": {},
   "source": [
    "Приведение других типов, например float в int не повлияет на дальнейшее исследование. Так же null-значения не могут приведены таким образом, а на предыдущем шаге было решено оставить часть пропусков. Поэтому такие типы изменять не будем."
   ]
  },
  {
   "cell_type": "markdown",
   "metadata": {},
   "source": [
    "## Расчёты и добавление результатов в таблицу"
   ]
  },
  {
   "cell_type": "markdown",
   "metadata": {},
   "source": [
    "Добавим столбец `sq_metr_price` - цена квадратного метра. Для вычисления разделим цену на общую площадь"
   ]
  },
  {
   "cell_type": "code",
   "execution_count": 47,
   "metadata": {},
   "outputs": [],
   "source": [
    "#Добавим столбец sq_metr_price\n",
    "data['sq_metr_price'] = data['last_price'] / data['total_area']"
   ]
  },
  {
   "cell_type": "markdown",
   "metadata": {},
   "source": [
    "Добавим столбец `weekday_exposition` - день недели публикации объявления "
   ]
  },
  {
   "cell_type": "code",
   "execution_count": 48,
   "metadata": {},
   "outputs": [],
   "source": [
    "#Добавим столбец weekday_exposition\n",
    "data['weekday_exposition'] = data['first_day_exposition'].dt.weekday"
   ]
  },
  {
   "cell_type": "markdown",
   "metadata": {},
   "source": [
    "Добавим столбец `month_exposition` - месяц публикации объявления "
   ]
  },
  {
   "cell_type": "code",
   "execution_count": 49,
   "metadata": {},
   "outputs": [],
   "source": [
    "#Добавим столбец month_exposition\n",
    "data['month_exposition'] = data['first_day_exposition'].dt.month"
   ]
  },
  {
   "cell_type": "markdown",
   "metadata": {},
   "source": [
    "Добавим столбец `year_exposition` - год публикации объявления "
   ]
  },
  {
   "cell_type": "code",
   "execution_count": 50,
   "metadata": {},
   "outputs": [],
   "source": [
    "#Добавим столбец year_exposition\n",
    "data['year_exposition'] = data['first_day_exposition'].dt.year"
   ]
  },
  {
   "cell_type": "markdown",
   "metadata": {},
   "source": [
    "Добавим столбец `floor_group` - тип этажа: первый, последний другой. Для этого сначала напишем функцию, которая определяет группу в зависимости от этажа, затем применим функцию к датасету. "
   ]
  },
  {
   "cell_type": "code",
   "execution_count": 51,
   "metadata": {},
   "outputs": [],
   "source": [
    "#Cоздадим функцию, которая принимает этаж квартиры и общее кол-во этажей в доме и в зависимсоти от него возвращает название группы\n",
    "def set_floor_group(row):\n",
    "    if row['floor'] == 1:\n",
    "        return 'первый'\n",
    "    elif row['floor'] == row['floors_total']:\n",
    "        return 'последний'\n",
    "    return 'другой'\n",
    "    \n",
    "#Добавим столбец floor_group\n",
    "data['floor_group'] = data.apply(set_floor_group, axis=1)"
   ]
  },
  {
   "cell_type": "markdown",
   "metadata": {},
   "source": [
    "Добавим столбец `living_to_total_area` - соотношение жилой и общей площади"
   ]
  },
  {
   "cell_type": "code",
   "execution_count": 52,
   "metadata": {},
   "outputs": [],
   "source": [
    "#Добавим столбец living_to_total_area\n",
    "data['living_to_total_area'] = data['living_area'] / data['total_area']"
   ]
  },
  {
   "cell_type": "markdown",
   "metadata": {},
   "source": [
    "Добавим столбец `kitchen_to_total_area` - соотношение площади кухни и общей площади"
   ]
  },
  {
   "cell_type": "code",
   "execution_count": 53,
   "metadata": {},
   "outputs": [],
   "source": [
    "#Добавим столбец kitchen_to_total_area\n",
    "data['kitchen_to_total_area'] = data['kitchen_area'] / data['total_area']"
   ]
  },
  {
   "cell_type": "markdown",
   "metadata": {},
   "source": [
    "Проверим, что все изменения применились"
   ]
  },
  {
   "cell_type": "code",
   "execution_count": 54,
   "metadata": {},
   "outputs": [
    {
     "name": "stdout",
     "output_type": "stream",
     "text": [
      "<class 'pandas.core.frame.DataFrame'>\n",
      "RangeIndex: 23699 entries, 0 to 23698\n",
      "Data columns (total 28 columns):\n",
      " #   Column                 Non-Null Count  Dtype         \n",
      "---  ------                 --------------  -----         \n",
      " 0   total_images           23699 non-null  int64         \n",
      " 1   last_price             23699 non-null  float64       \n",
      " 2   total_area             23699 non-null  float64       \n",
      " 3   first_day_exposition   23699 non-null  datetime64[ns]\n",
      " 4   rooms                  23699 non-null  int64         \n",
      " 5   ceiling_height         23699 non-null  float64       \n",
      " 6   floors_total           23613 non-null  float64       \n",
      " 7   living_area            23699 non-null  float64       \n",
      " 8   floor                  23699 non-null  int64         \n",
      " 9   is_apartment           23699 non-null  bool          \n",
      " 10  studio                 23699 non-null  bool          \n",
      " 11  open_plan              23699 non-null  bool          \n",
      " 12  kitchen_area           23699 non-null  float64       \n",
      " 13  balcony                23699 non-null  float64       \n",
      " 14  locality_name          23650 non-null  object        \n",
      " 15  cityCenters_nearest    18180 non-null  float64       \n",
      " 16  parks_around3000       23699 non-null  float64       \n",
      " 17  parks_nearest          8079 non-null   float64       \n",
      " 18  ponds_around3000       23699 non-null  float64       \n",
      " 19  ponds_nearest          9110 non-null   float64       \n",
      " 20  days_exposition        20518 non-null  float64       \n",
      " 21  sq_metr_price          23699 non-null  float64       \n",
      " 22  weekday_exposition     23699 non-null  int64         \n",
      " 23  month_exposition       23699 non-null  int64         \n",
      " 24  year_exposition        23699 non-null  int64         \n",
      " 25  floor_group            23699 non-null  object        \n",
      " 26  living_to_total_area   23699 non-null  float64       \n",
      " 27  kitchen_to_total_area  23699 non-null  float64       \n",
      "dtypes: bool(3), datetime64[ns](1), float64(16), int64(6), object(2)\n",
      "memory usage: 4.6+ MB\n"
     ]
    }
   ],
   "source": [
    "data.info()"
   ]
  },
  {
   "cell_type": "markdown",
   "metadata": {},
   "source": [
    "## Исследовательский анализ данных"
   ]
  },
  {
   "cell_type": "markdown",
   "metadata": {},
   "source": [
    "### Изучение параметров"
   ]
  },
  {
   "cell_type": "markdown",
   "metadata": {},
   "source": [
    "Построим гистограммы для следующих параметров: площадь, цена, число комнат, высота потолков "
   ]
  },
  {
   "cell_type": "markdown",
   "metadata": {},
   "source": [
    "#### Площадь"
   ]
  },
  {
   "cell_type": "code",
   "execution_count": 55,
   "metadata": {},
   "outputs": [
    {
     "name": "stdout",
     "output_type": "stream",
     "text": [
      "count    23699.000000\n",
      "mean        60.348651\n",
      "std         35.654083\n",
      "min         12.000000\n",
      "25%         40.000000\n",
      "50%         52.000000\n",
      "75%         69.900000\n",
      "max        900.000000\n",
      "Name: total_area, dtype: float64\n"
     ]
    },
    {
     "data": {
      "text/plain": [
       "Text(0, 0.5, 'частота (шт.)')"
      ]
     },
     "execution_count": 55,
     "metadata": {},
     "output_type": "execute_result"
    },
    {
     "data": {
      "image/png": "[encoded data removed]",
      "text/plain": [
       "<Figure size 432x288 with 1 Axes>"
      ]
     },
     "metadata": {
      "needs_background": "light"
     },
     "output_type": "display_data"
    }
   ],
   "source": [
    "#Выводим информацию о данных в столбце\n",
    "print(data['total_area'].describe())\n",
    "#Строим гистрограмму для общей площади. Ограничим диапазон до 200 кв м, поскольку больше этого значения данных очень мало\n",
    "data['total_area'].hist(bins=100, range=(0, 200))\n",
    "plt.title('Частота вхождения площади')\n",
    "plt.xlabel('площадь (кв. м.)')\n",
    "plt.ylabel('частота (шт.)')"
   ]
  },
  {
   "cell_type": "markdown",
   "metadata": {},
   "source": [
    "На гистограмме можно увидеть пик около 45 кв м. Самые популярные квартиры имеют приблизительно такую площадь."
   ]
  },
  {
   "cell_type": "markdown",
   "metadata": {},
   "source": [
    "#### Жилая площадь"
   ]
  },
  {
   "cell_type": "code",
   "execution_count": 56,
   "metadata": {},
   "outputs": [
    {
     "name": "stdout",
     "output_type": "stream",
     "text": [
      "count    23699.000000\n",
      "mean        34.321982\n",
      "std         21.700627\n",
      "min          2.000000\n",
      "25%         18.400000\n",
      "50%         30.300000\n",
      "75%         42.700000\n",
      "max        409.700000\n",
      "Name: living_area, dtype: float64\n"
     ]
    },
    {
     "data": {
      "text/plain": [
       "Text(0, 0.5, 'частота (шт.)')"
      ]
     },
     "execution_count": 56,
     "metadata": {},
     "output_type": "execute_result"
    },
    {
     "data": {
      "image/png": "[encoded data removed]",
      "text/plain": [
       "<Figure size 432x288 with 1 Axes>"
      ]
     },
     "metadata": {
      "needs_background": "light"
     },
     "output_type": "display_data"
    }
   ],
   "source": [
    "#Выводим информацию о данных в столбце\n",
    "print(data['living_area'].describe())\n",
    "#Строим гистрограмму для жилой площади. Ограничим диапазон до 75 кв м, поскольку больше этого значения данных очень мало\n",
    "\n",
    "data['living_area'].hist(bins=100, range=(0, 200))\n",
    "plt.title('Частота вхождения жилой площади')\n",
    "plt.xlabel('площадь (кв. м.)')\n",
    "plt.ylabel('частота (шт.)')\n"
   ]
  },
  {
   "cell_type": "markdown",
   "metadata": {},
   "source": [
    "Наблюдается 2 пика: 17 и 30 кв м. Вероятнее всего это однокомнатные квартиры без учета кухни и ванной и студии, где кухня не считается отдельной комнатой. "
   ]
  },
  {
   "cell_type": "markdown",
   "metadata": {},
   "source": [
    "#### Цена"
   ]
  },
  {
   "cell_type": "code",
   "execution_count": 57,
   "metadata": {},
   "outputs": [
    {
     "name": "stdout",
     "output_type": "stream",
     "text": [
      "count    23699.000000\n",
      "mean         6.541549\n",
      "std         10.887013\n",
      "min          0.012190\n",
      "25%          3.400000\n",
      "50%          4.650000\n",
      "75%          6.800000\n",
      "max        763.000000\n",
      "Name: last_price, dtype: float64\n"
     ]
    },
    {
     "data": {
      "text/plain": [
       "Text(0, 0.5, 'частота (шт.)')"
      ]
     },
     "execution_count": 57,
     "metadata": {},
     "output_type": "execute_result"
    },
    {
     "data": {
      "image/png": "[encoded data removed]",
      "text/plain": [
       "<Figure size 432x288 with 1 Axes>"
      ]
     },
     "metadata": {
      "needs_background": "light"
     },
     "output_type": "display_data"
    }
   ],
   "source": [
    "#Выводим информацию о данных в столбце\n",
    "print(data['last_price'].describe())\n",
    "#Строим гистрограмму для цены. Ограничим диапазон до 10 млн, поскольку больше этого значения данных очень мало\n",
    "data['last_price'].hist(bins=100, range=(0, 10))\n",
    "plt.title('Частота вхождения цены')\n",
    "plt.xlabel('цена (млн. руб.)')\n",
    "plt.ylabel('частота (шт.)')"
   ]
  },
  {
   "cell_type": "markdown",
   "metadata": {},
   "source": [
    "Видим пик на 4 млн. Это близко к медианной цене 4.6 млн"
   ]
  },
  {
   "cell_type": "markdown",
   "metadata": {},
   "source": [
    "#### Количество комнат"
   ]
  },
  {
   "cell_type": "code",
   "execution_count": 58,
   "metadata": {},
   "outputs": [
    {
     "name": "stdout",
     "output_type": "stream",
     "text": [
      "count    23699.000000\n",
      "mean         2.070636\n",
      "std          1.078405\n",
      "min          0.000000\n",
      "25%          1.000000\n",
      "50%          2.000000\n",
      "75%          3.000000\n",
      "max         19.000000\n",
      "Name: rooms, dtype: float64\n"
     ]
    },
    {
     "data": {
      "text/plain": [
       "Text(0, 0.5, 'частота (шт.)')"
      ]
     },
     "execution_count": 58,
     "metadata": {},
     "output_type": "execute_result"
    },
    {
     "data": {
      "image/png": "[encoded data removed]",
      "text/plain": [
       "<Figure size 432x288 with 1 Axes>"
      ]
     },
     "metadata": {
      "needs_background": "light"
     },
     "output_type": "display_data"
    }
   ],
   "source": [
    "#Выводим информацию о данных в столбце\n",
    "print(data['rooms'].describe())\n",
    "#Строим гистрограмму для числа комнат. Ограничим диапазон до 8, поскольку больше этого значения данных очень мало\n",
    "data['rooms'].hist(bins=30, range=(0, 8))\n",
    "plt.title('Частота вхождения количества комнат')\n",
    "plt.xlabel('количество комнат (шт.)')\n",
    "plt.ylabel('частота (шт.)')"
   ]
  },
  {
   "cell_type": "markdown",
   "metadata": {},
   "source": [
    "Самые популярные квартиры по 1 и 2 комнаты"
   ]
  },
  {
   "cell_type": "markdown",
   "metadata": {},
   "source": [
    "#### Высота потолков"
   ]
  },
  {
   "cell_type": "code",
   "execution_count": 59,
   "metadata": {},
   "outputs": [
    {
     "name": "stdout",
     "output_type": "stream",
     "text": [
      "count    23699.000000\n",
      "mean         2.724358\n",
      "std          0.988298\n",
      "min          1.000000\n",
      "25%          2.600000\n",
      "50%          2.650000\n",
      "75%          2.700000\n",
      "max        100.000000\n",
      "Name: ceiling_height, dtype: float64\n"
     ]
    },
    {
     "data": {
      "text/plain": [
       "Text(0, 0.5, 'частота (шт.)')"
      ]
     },
     "execution_count": 59,
     "metadata": {},
     "output_type": "execute_result"
    },
    {
     "data": {
      "image/png": "[encoded data removed]",
      "text/plain": [
       "<Figure size 432x288 with 1 Axes>"
      ]
     },
     "metadata": {
      "needs_background": "light"
     },
     "output_type": "display_data"
    }
   ],
   "source": [
    "#Выводим информацию о данных в столбце\n",
    "print(data['ceiling_height'].describe())\n",
    "#Строим гистрограмму для высоты потолков. Ограничим диапазон от 2 до 4, поскольку вне этого диапазона данных очень мало\n",
    "data['ceiling_height'].hist(bins=30, range=(2,4))\n",
    "plt.title('Частота вхождения высоты потолков')\n",
    "plt.xlabel('высота потолков (м)')\n",
    "plt.ylabel('частота (шт.)')"
   ]
  },
  {
   "cell_type": "markdown",
   "metadata": {},
   "source": [
    "Пик примерно на 2.6 м. Это близко к медианному значению 2.65 м."
   ]
  },
  {
   "cell_type": "markdown",
   "metadata": {},
   "source": [
    "### Изучение времени продажи квартиры"
   ]
  },
  {
   "cell_type": "code",
   "execution_count": 60,
   "metadata": {},
   "outputs": [
    {
     "name": "stdout",
     "output_type": "stream",
     "text": [
      "count    20518.000000\n",
      "mean       180.888634\n",
      "std        219.727988\n",
      "min          1.000000\n",
      "25%         45.000000\n",
      "50%         95.000000\n",
      "75%        232.000000\n",
      "max       1580.000000\n",
      "Name: days_exposition, dtype: float64\n"
     ]
    },
    {
     "data": {
      "text/plain": [
       "Text(0, 0.5, 'частота (шт.)')"
      ]
     },
     "execution_count": 60,
     "metadata": {},
     "output_type": "execute_result"
    },
    {
     "data": {
      "image/png": "[encoded data removed]",
      "text/plain": [
       "<Figure size 432x288 with 1 Axes>"
      ]
     },
     "metadata": {
      "needs_background": "light"
     },
     "output_type": "display_data"
    }
   ],
   "source": [
    "#Выведем числовые характеристики столбца\n",
    "print(data['days_exposition'].describe())\n",
    "\n",
    "#Построим гистограмму \n",
    "data['days_exposition'].hist(bins=100)\n",
    "plt.title('Частота вхождения количества дней размещения объявления')\n",
    "plt.xlabel('дни размещения (дни)')\n",
    "plt.ylabel('частота (шт.)')"
   ]
  },
  {
   "cell_type": "markdown",
   "metadata": {},
   "source": [
    "Пик значений примерно на 45 днях. Это значение сильно отличается от медианы. \n",
    "\n",
    "Увеличим масштаб графика и рассмотрим интервал до 100 дней"
   ]
  },
  {
   "cell_type": "code",
   "execution_count": 61,
   "metadata": {},
   "outputs": [
    {
     "data": {
      "text/plain": [
       "Text(0, 0.5, 'частота (шт.)')"
      ]
     },
     "execution_count": 61,
     "metadata": {},
     "output_type": "execute_result"
    },
    {
     "data": {
      "image/png": "[encoded data removed]",
      "text/plain": [
       "<Figure size 432x288 with 1 Axes>"
      ]
     },
     "metadata": {
      "needs_background": "light"
     },
     "output_type": "display_data"
    }
   ],
   "source": [
    "#Построим гистограмму \n",
    "data['days_exposition'].hist(bins=100, range=(0,100))\n",
    "plt.title('Частота вхождения количества дней размещения объявления')\n",
    "plt.xlabel('дни размещения (дни)')\n",
    "plt.ylabel('частота (шт.)')"
   ]
  },
  {
   "cell_type": "markdown",
   "metadata": {},
   "source": [
    "Значения в 45 и 60 дней выбиваются на графике. Если исключить эти значения, то график станет более плавным."
   ]
  },
  {
   "cell_type": "markdown",
   "metadata": {},
   "source": [
    "- Среднее значение: 180 дней\n",
    "- Медиана: 95 дней\n",
    "- После 1000 дней данных посчти нет, поэтому можно счиать, что если квартира продается дольше 100 дней, то это необычайно долгая продажа"
   ]
  },
  {
   "cell_type": "markdown",
   "metadata": {},
   "source": [
    "### Удаление выбросов"
   ]
  },
  {
   "cell_type": "markdown",
   "metadata": {},
   "source": [
    "Для определения наличия выбросов построим диаграммы размаха по различным столбцам."
   ]
  },
  {
   "cell_type": "markdown",
   "metadata": {},
   "source": [
    "#### Срок продажи"
   ]
  },
  {
   "cell_type": "code",
   "execution_count": 62,
   "metadata": {},
   "outputs": [
    {
     "data": {
      "text/plain": [
       "Text(0, 0.5, 'дни размещения (дни)')"
      ]
     },
     "execution_count": 62,
     "metadata": {},
     "output_type": "execute_result"
    },
    {
     "data": {
      "image/png": "[encoded data removed]",
      "text/plain": [
       "<Figure size 432x288 with 1 Axes>"
      ]
     },
     "metadata": {
      "needs_background": "light"
     },
     "output_type": "display_data"
    }
   ],
   "source": [
    "#Построим диаграмму размаха для срока продажи\n",
    "data.boxplot(column='days_exposition')\n",
    "plt.title('Диаграмма размаха срока продажи')\n",
    "plt.ylabel('дни размещения (дни)')"
   ]
  },
  {
   "cell_type": "markdown",
   "metadata": {},
   "source": [
    "Из диаграммы видно, что есть выбросы в большую сторону."
   ]
  },
  {
   "cell_type": "markdown",
   "metadata": {},
   "source": [
    "#### Цена"
   ]
  },
  {
   "cell_type": "code",
   "execution_count": 63,
   "metadata": {},
   "outputs": [
    {
     "data": {
      "text/plain": [
       "Text(0, 0.5, 'цена (млн. руб)')"
      ]
     },
     "execution_count": 63,
     "metadata": {},
     "output_type": "execute_result"
    },
    {
     "data": {
      "image/png": "[encoded data removed]",
      "text/plain": [
       "<Figure size 432x288 with 1 Axes>"
      ]
     },
     "metadata": {
      "needs_background": "light"
     },
     "output_type": "display_data"
    }
   ],
   "source": [
    "#Построим диаграмму размаха для цены\n",
    "data.boxplot(column='last_price')\n",
    "plt.title('Диаграмма размаха цены')\n",
    "plt.ylabel('цена (млн. руб)')"
   ]
  },
  {
   "cell_type": "markdown",
   "metadata": {},
   "source": [
    "Из диаграммы видно, что есть выбросы в большую сторону."
   ]
  },
  {
   "cell_type": "markdown",
   "metadata": {},
   "source": [
    "#### Площадь"
   ]
  },
  {
   "cell_type": "code",
   "execution_count": 64,
   "metadata": {},
   "outputs": [
    {
     "data": {
      "text/plain": [
       "Text(0, 0.5, 'площадь (кв. м)')"
      ]
     },
     "execution_count": 64,
     "metadata": {},
     "output_type": "execute_result"
    },
    {
     "data": {
      "image/png": "[encoded data removed]",
      "text/plain": [
       "<Figure size 432x288 with 1 Axes>"
      ]
     },
     "metadata": {
      "needs_background": "light"
     },
     "output_type": "display_data"
    }
   ],
   "source": [
    "#Построим диаграмму размаха для площади\n",
    "data.boxplot(column='total_area')\n",
    "plt.title('Диаграмма размаха площади')\n",
    "plt.ylabel('площадь (кв. м)')"
   ]
  },
  {
   "cell_type": "markdown",
   "metadata": {},
   "source": [
    "Из диаграммы видно, что есть выбросы в большую сторону."
   ]
  },
  {
   "cell_type": "markdown",
   "metadata": {},
   "source": [
    "#### Число комнат"
   ]
  },
  {
   "cell_type": "code",
   "execution_count": 65,
   "metadata": {},
   "outputs": [
    {
     "data": {
      "text/plain": [
       "Text(0, 0.5, 'количество комнат (шт.)')"
      ]
     },
     "execution_count": 65,
     "metadata": {},
     "output_type": "execute_result"
    },
    {
     "data": {
      "image/png": "[encoded data removed]",
      "text/plain": [
       "<Figure size 432x288 with 1 Axes>"
      ]
     },
     "metadata": {
      "needs_background": "light"
     },
     "output_type": "display_data"
    }
   ],
   "source": [
    "#Построим диаграмму размаха для числа комнат\n",
    "data.boxplot(column='rooms')\n",
    "plt.title('Диаграмма размаха количества комнат')\n",
    "plt.ylabel('количество комнат (шт.)')"
   ]
  },
  {
   "cell_type": "markdown",
   "metadata": {},
   "source": [
    "Из диаграммы видно, что есть выбросы в большую сторону."
   ]
  },
  {
   "cell_type": "markdown",
   "metadata": {},
   "source": [
    "#### Высота потолков"
   ]
  },
  {
   "cell_type": "code",
   "execution_count": 66,
   "metadata": {},
   "outputs": [
    {
     "data": {
      "text/plain": [
       "Text(0, 0.5, 'высота потолков (м)')"
      ]
     },
     "execution_count": 66,
     "metadata": {},
     "output_type": "execute_result"
    },
    {
     "data": {
      "image/png": "[encoded data removed]",
      "text/plain": [
       "<Figure size 432x288 with 1 Axes>"
      ]
     },
     "metadata": {
      "needs_background": "light"
     },
     "output_type": "display_data"
    }
   ],
   "source": [
    "#Построим диаграмму размаха для высоты потолков\n",
    "data.boxplot(column='ceiling_height')\n",
    "plt.title('Диаграмма размаха высоты потолков')\n",
    "plt.ylabel('высота потолков (м)')\n"
   ]
  },
  {
   "cell_type": "markdown",
   "metadata": {},
   "source": [
    "Из диаграммы видно, что есть выбросы в большую и меньшую сторону. Значит есть данные, в которых указан очень низкий потолок."
   ]
  },
  {
   "cell_type": "markdown",
   "metadata": {},
   "source": [
    "#### Создание среза данных без выбросов"
   ]
  },
  {
   "cell_type": "code",
   "execution_count": 67,
   "metadata": {},
   "outputs": [
    {
     "name": "stdout",
     "output_type": "stream",
     "text": [
      "<class 'pandas.core.frame.DataFrame'>\n",
      "Int64Index: 16061 entries, 1 to 23695\n",
      "Data columns (total 28 columns):\n",
      " #   Column                 Non-Null Count  Dtype         \n",
      "---  ------                 --------------  -----         \n",
      " 0   total_images           16061 non-null  int64         \n",
      " 1   last_price             16061 non-null  float64       \n",
      " 2   total_area             16061 non-null  float64       \n",
      " 3   first_day_exposition   16061 non-null  datetime64[ns]\n",
      " 4   rooms                  16061 non-null  int64         \n",
      " 5   ceiling_height         16061 non-null  float64       \n",
      " 6   floors_total           15999 non-null  float64       \n",
      " 7   living_area            16061 non-null  float64       \n",
      " 8   floor                  16061 non-null  int64         \n",
      " 9   is_apartment           16061 non-null  bool          \n",
      " 10  studio                 16061 non-null  bool          \n",
      " 11  open_plan              16061 non-null  bool          \n",
      " 12  kitchen_area           16061 non-null  float64       \n",
      " 13  balcony                16061 non-null  float64       \n",
      " 14  locality_name          16027 non-null  object        \n",
      " 15  cityCenters_nearest    11951 non-null  float64       \n",
      " 16  parks_around3000       16061 non-null  float64       \n",
      " 17  parks_nearest          4560 non-null   float64       \n",
      " 18  ponds_around3000       16061 non-null  float64       \n",
      " 19  ponds_nearest          5507 non-null   float64       \n",
      " 20  days_exposition        16061 non-null  float64       \n",
      " 21  sq_metr_price          16061 non-null  float64       \n",
      " 22  weekday_exposition     16061 non-null  int64         \n",
      " 23  month_exposition       16061 non-null  int64         \n",
      " 24  year_exposition        16061 non-null  int64         \n",
      " 25  floor_group            16061 non-null  object        \n",
      " 26  living_to_total_area   16061 non-null  float64       \n",
      " 27  kitchen_to_total_area  16061 non-null  float64       \n",
      "dtypes: bool(3), datetime64[ns](1), float64(16), int64(6), object(2)\n",
      "memory usage: 3.2+ MB\n"
     ]
    }
   ],
   "source": [
    "#создадим функцию, которая принимает список столбцов и исходный датафрейм и возвращает отфильтрованный датафрейм\n",
    "def get_good_data (columns, data):\n",
    "    good_data = data\n",
    "    #проходим по списку полученный столбцов\n",
    "    for column in columns: \n",
    "        #определяем квартили для заданного столбца\n",
    "        q1 = data[column].quantile([0.25])[0.25]\n",
    "        q3 = data[column].quantile([0.75])[0.75]\n",
    "        #создаем срез данных\n",
    "        good_data = good_data[((q1 - 1.5 * (q3-q1)) < good_data[column])& ( good_data[column] < (q3 + 1.5 * (q3-q1)))]\n",
    "    return good_data\n",
    "\n",
    "#вызываем функцию\n",
    "good_data = get_good_data (['days_exposition', 'last_price', 'total_area', 'rooms', 'ceiling_height' ], data)\n",
    "\n",
    "#проверяем результат \n",
    "good_data.info()"
   ]
  },
  {
   "cell_type": "markdown",
   "metadata": {},
   "source": [
    "В результате фильтирации избавились от трети записей. Но теперь записи без выбросов, которые могли бы помешать дальнейшему анализу."
   ]
  },
  {
   "cell_type": "markdown",
   "metadata": {},
   "source": [
    "### Определение факторов наиболее влияющих на стоимость квартиры"
   ]
  },
  {
   "cell_type": "markdown",
   "metadata": {},
   "source": [
    "Для определения факторов влияющих на стоимость квартир будем группировать данные по параметрам и визуализировать зависимость. Для параметров с малым кол-вом значений будем строить столбчатую диаграмму, для остальный - линейный график."
   ]
  },
  {
   "cell_type": "markdown",
   "metadata": {},
   "source": [
    "####  Площадь"
   ]
  },
  {
   "cell_type": "code",
   "execution_count": 68,
   "metadata": {},
   "outputs": [
    {
     "data": {
      "text/plain": [
       "Text(0, 0.5, 'цена (млн. руб)')"
      ]
     },
     "execution_count": 68,
     "metadata": {},
     "output_type": "execute_result"
    },
    {
     "data": {
      "image/png": "[encoded data removed]",
      "text/plain": [
       "<Figure size 432x288 with 1 Axes>"
      ]
     },
     "metadata": {
      "needs_background": "light"
     },
     "output_type": "display_data"
    }
   ],
   "source": [
    "# Сгруппируем данные по площади и вычислим для каждой группы среднее\n",
    "good_data.pivot_table(index='total_area', values='last_price').plot()\n",
    "plt.title('Зависимоть цены квартиры от площади')\n",
    "plt.xlabel('площадь (кв. м.)')\n",
    "plt.ylabel('цена (млн. руб)')"
   ]
  },
  {
   "cell_type": "markdown",
   "metadata": {},
   "source": [
    "Значения на графие разрозненны, но прослеживается общая тенденция: чем больше площадь, тем выше цена"
   ]
  },
  {
   "cell_type": "markdown",
   "metadata": {},
   "source": [
    "#### Группа этажей"
   ]
  },
  {
   "cell_type": "code",
   "execution_count": 69,
   "metadata": {},
   "outputs": [
    {
     "data": {
      "text/plain": [
       "Index(['total_images', 'last_price', 'total_area', 'first_day_exposition',\n",
       "       'rooms', 'ceiling_height', 'floors_total', 'living_area', 'floor',\n",
       "       'is_apartment', 'studio', 'open_plan', 'kitchen_area', 'balcony',\n",
       "       'locality_name', 'cityCenters_nearest', 'parks_around3000',\n",
       "       'parks_nearest', 'ponds_around3000', 'ponds_nearest', 'days_exposition',\n",
       "       'sq_metr_price', 'weekday_exposition', 'month_exposition',\n",
       "       'year_exposition', 'floor_group', 'living_to_total_area',\n",
       "       'kitchen_to_total_area'],\n",
       "      dtype='object')"
      ]
     },
     "execution_count": 69,
     "metadata": {},
     "output_type": "execute_result"
    }
   ],
   "source": [
    "good_data.columns"
   ]
  },
  {
   "cell_type": "code",
   "execution_count": 70,
   "metadata": {},
   "outputs": [
    {
     "data": {
      "text/plain": [
       "Text(0, 0.5, 'цена (млн. руб)')"
      ]
     },
     "execution_count": 70,
     "metadata": {},
     "output_type": "execute_result"
    },
    {
     "data": {
      "image/png": "[encoded data removed]",
      "text/plain": [
       "<Figure size 432x288 with 1 Axes>"
      ]
     },
     "metadata": {
      "needs_background": "light"
     },
     "output_type": "display_data"
    }
   ],
   "source": [
    "# Сгруппируем данные по группе этажа и вычислим для каждой группы среднее\n",
    "good_data.pivot_table(index='floor_group', values='last_price').plot(kind='bar')\n",
    "plt.title('Зависимоть цены квартиры от этажа')\n",
    "plt.xlabel('этаж')\n",
    "plt.ylabel('цена (млн. руб)')"
   ]
  },
  {
   "cell_type": "markdown",
   "metadata": {},
   "source": [
    "В среднем цена на квартиры на этажах посередине выше, чем на первом и последнем этажах.  \n",
    "Цена на квартиру на последнем этаже выше, чем на первом. "
   ]
  },
  {
   "cell_type": "markdown",
   "metadata": {},
   "source": [
    "#### Количество комнат"
   ]
  },
  {
   "cell_type": "code",
   "execution_count": 71,
   "metadata": {},
   "outputs": [
    {
     "data": {
      "text/plain": [
       "Text(0, 0.5, 'цена (млн. руб)')"
      ]
     },
     "execution_count": 71,
     "metadata": {},
     "output_type": "execute_result"
    },
    {
     "data": {
      "image/png": "[encoded data removed]",
      "text/plain": [
       "<Figure size 432x288 with 1 Axes>"
      ]
     },
     "metadata": {
      "needs_background": "light"
     },
     "output_type": "display_data"
    }
   ],
   "source": [
    "# Сгруппируем данные по кол-ву комнат и вычислим для каждой группы среднее\n",
    "good_data.pivot_table(index='rooms', values='last_price').plot(kind='bar')\n",
    "plt.title('Зависимоть цены квартиры от количества комнат')\n",
    "plt.xlabel('кол-во комнат (шт)')\n",
    "plt.ylabel('цена (млн. руб)')"
   ]
  },
  {
   "cell_type": "markdown",
   "metadata": {},
   "source": [
    "До 4-х комнат цена пропорционально возрастает. После 3-х комнат цена растет уже не так резко. Квартиры с таким количеством комнат встречаются редко и вероятно их площадь увеличивается уже не прямопропорчионально кол-ву комнат."
   ]
  },
  {
   "cell_type": "markdown",
   "metadata": {},
   "source": [
    "#### Удалённость от центра"
   ]
  },
  {
   "cell_type": "code",
   "execution_count": 72,
   "metadata": {},
   "outputs": [
    {
     "data": {
      "text/plain": [
       "Text(0, 0.5, 'цена (млн. руб)')"
      ]
     },
     "execution_count": 72,
     "metadata": {},
     "output_type": "execute_result"
    },
    {
     "data": {
      "image/png": "[encoded data removed]",
      "text/plain": [
       "<Figure size 432x288 with 1 Axes>"
      ]
     },
     "metadata": {
      "needs_background": "light"
     },
     "output_type": "display_data"
    }
   ],
   "source": [
    "#Удалим данные с пустыми значениями cityCenters_nearest\n",
    "good_data = good_data.dropna(subset=['cityCenters_nearest'])\n",
    "#Создим столбец с расстоянием до центра в километра\n",
    "good_data['cityCenters_nearest_km'] = (good_data['cityCenters_nearest'] / 1000).apply(math.ceil)\n",
    "\n",
    "\n",
    "# Сгруппируем данные по удаленности от центра и вычислим для каждой группы среднее\n",
    "good_data.pivot_table(index='cityCenters_nearest_km', values='last_price').plot()\n",
    "plt.title('Зависимоть цены квартиры от удаленности от центра')\n",
    "plt.xlabel('удаленность от центра (км)')\n",
    "plt.ylabel('цена (млн. руб)')"
   ]
  },
  {
   "cell_type": "markdown",
   "metadata": {},
   "source": [
    "В целом зависимость обратная: чем дальше от центра, тем меньше цена. Примерно до 15 км зависимость прослеживается явно. Но дальше на графике происходят отскоки. Вероятнее всего это связано с тем, что 15 км - это срееднее расстояние до административной границы Санкт-Петербурга, а дальше может быть как город, так и деревня, поэтому цена так разнится.  \n",
    "\n",
    "Проверим эту гипотезу. Найдем среднее расстояние до центра в Санкт-Петербурге."
   ]
  },
  {
   "cell_type": "code",
   "execution_count": 73,
   "metadata": {},
   "outputs": [
    {
     "name": "stdout",
     "output_type": "stream",
     "text": [
      "14.0\n"
     ]
    }
   ],
   "source": [
    "#Найдем среднее расстояние до центра в Санкт-Петербург\n",
    "print(good_data.query('locality_name == \"Санкт-Петербург\"')['cityCenters_nearest_km'].median())"
   ]
  },
  {
   "cell_type": "markdown",
   "metadata": {},
   "source": [
    "Среднее расстояние 14 км. Гипотеза подтвердилась."
   ]
  },
  {
   "cell_type": "markdown",
   "metadata": {},
   "source": [
    "#### День недели размещения объявления"
   ]
  },
  {
   "cell_type": "code",
   "execution_count": 74,
   "metadata": {},
   "outputs": [
    {
     "data": {
      "text/plain": [
       "Text(0, 0.5, 'цена (млн. руб)')"
      ]
     },
     "execution_count": 74,
     "metadata": {},
     "output_type": "execute_result"
    },
    {
     "data": {
      "image/png": "[encoded data removed]",
      "text/plain": [
       "<Figure size 432x288 with 1 Axes>"
      ]
     },
     "metadata": {
      "needs_background": "light"
     },
     "output_type": "display_data"
    }
   ],
   "source": [
    "# Сгруппируем данные по дню недели и вычислим для каждой группы среднее\n",
    "good_data.pivot_table(index='weekday_exposition', values='last_price').plot(kind='bar')\n",
    "plt.title('Зависимоть цены квартиры от дня недели размещения объявления')\n",
    "plt.xlabel('день недели размещения объявления')\n",
    "plt.ylabel('цена (млн. руб)')"
   ]
  },
  {
   "cell_type": "markdown",
   "metadata": {},
   "source": [
    "График показывает, что зависимоcти нет"
   ]
  },
  {
   "cell_type": "markdown",
   "metadata": {},
   "source": [
    "#### Месяц размещения объявления"
   ]
  },
  {
   "cell_type": "code",
   "execution_count": 75,
   "metadata": {},
   "outputs": [
    {
     "data": {
      "text/plain": [
       "Text(0, 0.5, 'цена (млн. руб)')"
      ]
     },
     "execution_count": 75,
     "metadata": {},
     "output_type": "execute_result"
    },
    {
     "data": {
      "image/png": "[encoded data removed]",
      "text/plain": [
       "<Figure size 432x288 with 1 Axes>"
      ]
     },
     "metadata": {
      "needs_background": "light"
     },
     "output_type": "display_data"
    }
   ],
   "source": [
    "# Сгруппируем данные по месяцу и вычислим для каждой группы среднее\n",
    "good_data.pivot_table(index='month_exposition', values='last_price').plot(kind='bar')\n",
    "plt.title('Зависимоть цены квартиры от месяца размещения объявления')\n",
    "plt.xlabel('месяц размещения объявления')\n",
    "plt.ylabel('цена (млн. руб)')"
   ]
  },
  {
   "cell_type": "markdown",
   "metadata": {},
   "source": [
    "График показывает, что зависимоcти нет."
   ]
  },
  {
   "cell_type": "markdown",
   "metadata": {},
   "source": [
    "#### Год размещения объявления"
   ]
  },
  {
   "cell_type": "code",
   "execution_count": 76,
   "metadata": {},
   "outputs": [
    {
     "data": {
      "text/plain": [
       "Text(0, 0.5, 'цена (млн. руб)')"
      ]
     },
     "execution_count": 76,
     "metadata": {},
     "output_type": "execute_result"
    },
    {
     "data": {
      "image/png": "[encoded data removed]",
      "text/plain": [
       "<Figure size 432x288 with 1 Axes>"
      ]
     },
     "metadata": {
      "needs_background": "light"
     },
     "output_type": "display_data"
    }
   ],
   "source": [
    "# Сгруппируем данные по году и вычислим для каждой группы среднее\n",
    "good_data.pivot_table(index='year_exposition', values='last_price').plot(kind='bar')\n",
    "plt.title('Зависимоть цены квартиры от года размещения объявления')\n",
    "plt.xlabel('год размещения объявления')\n",
    "plt.ylabel('цена (млн. руб)')"
   ]
  },
  {
   "cell_type": "markdown",
   "metadata": {},
   "source": [
    "График показывает, что зависимости почти нет. В 2016 было небольшое падение цен."
   ]
  },
  {
   "cell_type": "markdown",
   "metadata": {},
   "source": [
    "### Определение населенных пунктов с самой низкой и высокой стоимостью жилья"
   ]
  },
  {
   "cell_type": "code",
   "execution_count": 77,
   "metadata": {},
   "outputs": [
    {
     "data": {
      "text/html": [
       "<div>\n",
       "<style scoped>\n",
       "    .dataframe tbody tr th:only-of-type {\n",
       "        vertical-align: middle;\n",
       "    }\n",
       "\n",
       "    .dataframe tbody tr th {\n",
       "        vertical-align: top;\n",
       "    }\n",
       "\n",
       "    .dataframe thead th {\n",
       "        text-align: right;\n",
       "    }\n",
       "</style>\n",
       "<table border=\"1\" class=\"dataframe\">\n",
       "  <thead>\n",
       "    <tr style=\"text-align: right;\">\n",
       "      <th></th>\n",
       "      <th>median_sq_metr_price</th>\n",
       "      <th>count_items</th>\n",
       "    </tr>\n",
       "    <tr>\n",
       "      <th>locality_name</th>\n",
       "      <th></th>\n",
       "      <th></th>\n",
       "    </tr>\n",
       "  </thead>\n",
       "  <tbody>\n",
       "    <tr>\n",
       "      <th>Санкт-Петербург</th>\n",
       "      <td>0.100571</td>\n",
       "      <td>10028</td>\n",
       "    </tr>\n",
       "    <tr>\n",
       "      <th>посёлок Шушары</th>\n",
       "      <td>0.075758</td>\n",
       "      <td>378</td>\n",
       "    </tr>\n",
       "    <tr>\n",
       "      <th>посёлок Парголово</th>\n",
       "      <td>0.091289</td>\n",
       "      <td>286</td>\n",
       "    </tr>\n",
       "    <tr>\n",
       "      <th>Колпино</th>\n",
       "      <td>0.073821</td>\n",
       "      <td>274</td>\n",
       "    </tr>\n",
       "    <tr>\n",
       "      <th>Пушкин</th>\n",
       "      <td>0.097359</td>\n",
       "      <td>232</td>\n",
       "    </tr>\n",
       "    <tr>\n",
       "      <th>Петергоф</th>\n",
       "      <td>0.081370</td>\n",
       "      <td>150</td>\n",
       "    </tr>\n",
       "    <tr>\n",
       "      <th>Красное Село</th>\n",
       "      <td>0.071875</td>\n",
       "      <td>139</td>\n",
       "    </tr>\n",
       "    <tr>\n",
       "      <th>Сестрорецк</th>\n",
       "      <td>0.098341</td>\n",
       "      <td>119</td>\n",
       "    </tr>\n",
       "    <tr>\n",
       "      <th>Ломоносов</th>\n",
       "      <td>0.070490</td>\n",
       "      <td>92</td>\n",
       "    </tr>\n",
       "    <tr>\n",
       "      <th>Кронштадт</th>\n",
       "      <td>0.080556</td>\n",
       "      <td>65</td>\n",
       "    </tr>\n",
       "  </tbody>\n",
       "</table>\n",
       "</div>"
      ],
      "text/plain": [
       "                   median_sq_metr_price  count_items\n",
       "locality_name                                       \n",
       "Санкт-Петербург                0.100571        10028\n",
       "посёлок Шушары                 0.075758          378\n",
       "посёлок Парголово              0.091289          286\n",
       "Колпино                        0.073821          274\n",
       "Пушкин                         0.097359          232\n",
       "Петергоф                       0.081370          150\n",
       "Красное Село                   0.071875          139\n",
       "Сестрорецк                     0.098341          119\n",
       "Ломоносов                      0.070490           92\n",
       "Кронштадт                      0.080556           65"
      ]
     },
     "metadata": {},
     "output_type": "display_data"
    }
   ],
   "source": [
    "#Сгруппируем данные по населенному пункту. Для каждого населенного пункта вычислим медианную цену кв. метра и кол-во объявлений\n",
    "top10_localities = (\n",
    "    good_data\n",
    "    .pivot_table(index='locality_name', values='sq_metr_price', aggfunc=['median', 'count'])\n",
    ")\n",
    "#переименуем столбцы для удобства обращения к ним\n",
    "top10_localities.columns = ['median_sq_metr_price', 'count_items']\n",
    "#отсортируем данные по кол-ву объявлений по убыванию и возьмем первые 10 записей\n",
    "top10_localities = top10_localities.sort_values(by='count_items', ascending=False).head(10)\n",
    "#Выводим результат\n",
    "display(top10_localities)\n"
   ]
  },
  {
   "cell_type": "code",
   "execution_count": 78,
   "metadata": {},
   "outputs": [
    {
     "data": {
      "text/html": [
       "<div>\n",
       "<style scoped>\n",
       "    .dataframe tbody tr th:only-of-type {\n",
       "        vertical-align: middle;\n",
       "    }\n",
       "\n",
       "    .dataframe tbody tr th {\n",
       "        vertical-align: top;\n",
       "    }\n",
       "\n",
       "    .dataframe thead th {\n",
       "        text-align: right;\n",
       "    }\n",
       "</style>\n",
       "<table border=\"1\" class=\"dataframe\">\n",
       "  <thead>\n",
       "    <tr style=\"text-align: right;\">\n",
       "      <th></th>\n",
       "      <th>median_sq_metr_price</th>\n",
       "      <th>count_items</th>\n",
       "    </tr>\n",
       "    <tr>\n",
       "      <th>locality_name</th>\n",
       "      <th></th>\n",
       "      <th></th>\n",
       "    </tr>\n",
       "  </thead>\n",
       "  <tbody>\n",
       "    <tr>\n",
       "      <th>Санкт-Петербург</th>\n",
       "      <td>0.100571</td>\n",
       "      <td>10028</td>\n",
       "    </tr>\n",
       "    <tr>\n",
       "      <th>Сестрорецк</th>\n",
       "      <td>0.098341</td>\n",
       "      <td>119</td>\n",
       "    </tr>\n",
       "    <tr>\n",
       "      <th>Пушкин</th>\n",
       "      <td>0.097359</td>\n",
       "      <td>232</td>\n",
       "    </tr>\n",
       "    <tr>\n",
       "      <th>посёлок Парголово</th>\n",
       "      <td>0.091289</td>\n",
       "      <td>286</td>\n",
       "    </tr>\n",
       "    <tr>\n",
       "      <th>Петергоф</th>\n",
       "      <td>0.081370</td>\n",
       "      <td>150</td>\n",
       "    </tr>\n",
       "    <tr>\n",
       "      <th>Кронштадт</th>\n",
       "      <td>0.080556</td>\n",
       "      <td>65</td>\n",
       "    </tr>\n",
       "    <tr>\n",
       "      <th>посёлок Шушары</th>\n",
       "      <td>0.075758</td>\n",
       "      <td>378</td>\n",
       "    </tr>\n",
       "    <tr>\n",
       "      <th>Колпино</th>\n",
       "      <td>0.073821</td>\n",
       "      <td>274</td>\n",
       "    </tr>\n",
       "    <tr>\n",
       "      <th>Красное Село</th>\n",
       "      <td>0.071875</td>\n",
       "      <td>139</td>\n",
       "    </tr>\n",
       "    <tr>\n",
       "      <th>Ломоносов</th>\n",
       "      <td>0.070490</td>\n",
       "      <td>92</td>\n",
       "    </tr>\n",
       "  </tbody>\n",
       "</table>\n",
       "</div>"
      ],
      "text/plain": [
       "                   median_sq_metr_price  count_items\n",
       "locality_name                                       \n",
       "Санкт-Петербург                0.100571        10028\n",
       "Сестрорецк                     0.098341          119\n",
       "Пушкин                         0.097359          232\n",
       "посёлок Парголово              0.091289          286\n",
       "Петергоф                       0.081370          150\n",
       "Кронштадт                      0.080556           65\n",
       "посёлок Шушары                 0.075758          378\n",
       "Колпино                        0.073821          274\n",
       "Красное Село                   0.071875          139\n",
       "Ломоносов                      0.070490           92"
      ]
     },
     "metadata": {},
     "output_type": "display_data"
    }
   ],
   "source": [
    "#Отсортируем данные по стоимости кв метра\n",
    "top10_localities = top10_localities.sort_values(by='median_sq_metr_price', ascending=False)\n",
    "#Выводим результат\n",
    "display(top10_localities)"
   ]
  },
  {
   "cell_type": "markdown",
   "metadata": {},
   "source": [
    "Самые дорогие квартиры в Санкт-Петербурге.   \n",
    "Самые дешевые - в Выборге."
   ]
  },
  {
   "cell_type": "markdown",
   "metadata": {},
   "source": [
    "### Определение области центра Санкт-Петербурга"
   ]
  },
  {
   "cell_type": "code",
   "execution_count": 79,
   "metadata": {},
   "outputs": [
    {
     "data": {
      "text/plain": [
       "Text(0, 0.5, 'цена кв метра (млн. руб)')"
      ]
     },
     "execution_count": 79,
     "metadata": {},
     "output_type": "execute_result"
    },
    {
     "data": {
      "image/png": "[encoded data removed]",
      "text/plain": [
       "<Figure size 432x288 with 1 Axes>"
      ]
     },
     "metadata": {
      "needs_background": "light"
     },
     "output_type": "display_data"
    }
   ],
   "source": [
    "#Выделим квартиры в Санкт-Петербурге\n",
    "spb_data = good_data.query('locality_name == \"Санкт-Петербург\"')\n",
    "#Посчитаем среднюю цену для каждого километра \n",
    "km_price = (\n",
    "    spb_data\n",
    "    .pivot_table(index='cityCenters_nearest_km', values='sq_metr_price', aggfunc=['median'])\n",
    ")\n",
    "#Заменим название колонки, чтобы избавиться от мультииндекса\n",
    "km_price.columns = ['sq_metr_price']\n",
    "#Построим график зависимости цены от расстояния до центра \n",
    "km_price.plot(xticks=km_price.index, y='sq_metr_price', grid=True, legend=True)\n",
    "plt.title('Зависимость цены от расстояния до центра города')\n",
    "plt.xlabel('расстояние до центра (км)')\n",
    "plt.ylabel('цена кв метра (млн. руб)')"
   ]
  },
  {
   "cell_type": "markdown",
   "metadata": {},
   "source": [
    "На графике наблюдается общая тенденция падения цены кв метра с удалением от центра города. После 5 км цена начинает резко падать и почти не поднимается. Можем предположить, что зона в радиусе 5 км считается центром. "
   ]
  },
  {
   "cell_type": "markdown",
   "metadata": {},
   "source": [
    "### Анализ квартир в центре Санкт-Петербурга"
   ]
  },
  {
   "cell_type": "code",
   "execution_count": 80,
   "metadata": {},
   "outputs": [],
   "source": [
    "#Создадим срез, в который войдут квартиры не дальше 5 км от центра\n",
    "spb_center = spb_data.query('cityCenters_nearest_km < 5')"
   ]
  },
  {
   "cell_type": "markdown",
   "metadata": {},
   "source": [
    "#### Анализ параметров"
   ]
  },
  {
   "cell_type": "markdown",
   "metadata": {},
   "source": [
    "Построим гистограммы для следующих параметров: площадь, цена, число комнат, высота потолков"
   ]
  },
  {
   "cell_type": "markdown",
   "metadata": {},
   "source": [
    "##### Площадь"
   ]
  },
  {
   "cell_type": "code",
   "execution_count": 81,
   "metadata": {},
   "outputs": [
    {
     "name": "stdout",
     "output_type": "stream",
     "text": [
      "count    263.000000\n",
      "mean      64.183726\n",
      "std       20.998830\n",
      "min       12.000000\n",
      "25%       47.400000\n",
      "50%       64.000000\n",
      "75%       80.000000\n",
      "max      114.200000\n",
      "Name: total_area, dtype: float64\n"
     ]
    },
    {
     "data": {
      "text/plain": [
       "Text(0, 0.5, 'частота (шт.)')"
      ]
     },
     "execution_count": 81,
     "metadata": {},
     "output_type": "execute_result"
    },
    {
     "data": {
      "image/png": "[encoded data removed]",
      "text/plain": [
       "<Figure size 432x288 with 1 Axes>"
      ]
     },
     "metadata": {
      "needs_background": "light"
     },
     "output_type": "display_data"
    }
   ],
   "source": [
    "#Выводим информацию о данных в столбце\n",
    "print(spb_center['total_area'].describe())\n",
    "#Строим гистрограмму для общей площади. Ограничим диапазон до 100 кв м, поскольку больше этого значения данных очень мало\n",
    "spb_center['total_area'].hist(bins=100, range=(0, 100))\n",
    "plt.title('Частота вхождения площади')\n",
    "plt.xlabel('площадь (кв. м.)')\n",
    "plt.ylabel('частота (шт.)')"
   ]
  },
  {
   "cell_type": "markdown",
   "metadata": {},
   "source": [
    "Пик наблюдается примерно на 65 кв. м., что отличается от значения по всем данным.  \n",
    "Это означает что квартиры с большей площадью лучше продаются в центре города."
   ]
  },
  {
   "cell_type": "markdown",
   "metadata": {},
   "source": [
    "##### Цена"
   ]
  },
  {
   "cell_type": "code",
   "execution_count": 82,
   "metadata": {},
   "outputs": [
    {
     "name": "stdout",
     "output_type": "stream",
     "text": [
      "count    263.000000\n",
      "mean       7.020980\n",
      "std        2.155388\n",
      "min        2.100000\n",
      "25%        5.275000\n",
      "50%        6.990000\n",
      "75%        8.594500\n",
      "max       11.768000\n",
      "Name: last_price, dtype: float64\n"
     ]
    },
    {
     "data": {
      "text/plain": [
       "Text(0, 0.5, 'частота (шт.)')"
      ]
     },
     "execution_count": 82,
     "metadata": {},
     "output_type": "execute_result"
    },
    {
     "data": {
      "image/png": "[encoded data removed]",
      "text/plain": [
       "<Figure size 432x288 with 1 Axes>"
      ]
     },
     "metadata": {
      "needs_background": "light"
     },
     "output_type": "display_data"
    }
   ],
   "source": [
    "#Выводим информацию о данных в столбце\n",
    "print(spb_center['last_price'].describe())\n",
    "#Строим гистрограмму для цены. Ограничим диапазон до 12 млн, поскольку больше этого значения данных очень мало\n",
    "spb_center['last_price'].hist(bins=100, range=(0, 12))\n",
    "plt.title('Частота вхождения цены')\n",
    "plt.xlabel('цена (млн. руб)')\n",
    "plt.ylabel('частота (шт.)')"
   ]
  },
  {
   "cell_type": "markdown",
   "metadata": {},
   "source": [
    "Пик наблюдается около 7 млн, в то время как при анализе всех данных пик был на 4 млн.  \n",
    "В центре города в целом квартиры дороже, поэтому и пик при нормальном распределнии сместился в большую сторону. "
   ]
  },
  {
   "cell_type": "markdown",
   "metadata": {},
   "source": [
    "#####  Количество комнат"
   ]
  },
  {
   "cell_type": "code",
   "execution_count": 83,
   "metadata": {},
   "outputs": [
    {
     "name": "stdout",
     "output_type": "stream",
     "text": [
      "count    263.000000\n",
      "mean       2.288973\n",
      "std        0.851667\n",
      "min        0.000000\n",
      "25%        2.000000\n",
      "50%        2.000000\n",
      "75%        3.000000\n",
      "max        4.000000\n",
      "Name: rooms, dtype: float64\n"
     ]
    },
    {
     "data": {
      "text/plain": [
       "Text(0, 0.5, 'частота (шт.)')"
      ]
     },
     "execution_count": 83,
     "metadata": {},
     "output_type": "execute_result"
    },
    {
     "data": {
      "image/png": "[encoded data removed]",
      "text/plain": [
       "<Figure size 432x288 with 1 Axes>"
      ]
     },
     "metadata": {
      "needs_background": "light"
     },
     "output_type": "display_data"
    }
   ],
   "source": [
    "#Выводим информацию о данных в столбце\n",
    "print(spb_center['rooms'].describe())\n",
    "#Строим гистрограмму для числа комнат. Ограничим диапазон до 8, поскольку больше этого значения данных очень мало\n",
    "spb_center['rooms'].hist(bins=30, range=(0, 8))\n",
    "plt.title('Частота вхождения количества комнат')\n",
    "plt.xlabel('количество комнат (шт.)')\n",
    "plt.ylabel('частота (шт.)')"
   ]
  },
  {
   "cell_type": "markdown",
   "metadata": {},
   "source": [
    "Пик наблюдается на двухкомнатных квартирах. При анализе всех данных значение двухкомнатных и однокомнатных было почти одинаковым.  \n",
    "В центре города лучше продаются двухкомнатные квартиры. "
   ]
  },
  {
   "cell_type": "markdown",
   "metadata": {},
   "source": [
    "##### Высота потолка"
   ]
  },
  {
   "cell_type": "code",
   "execution_count": 84,
   "metadata": {},
   "outputs": [
    {
     "name": "stdout",
     "output_type": "stream",
     "text": [
      "count    263.000000\n",
      "mean       2.667833\n",
      "std        0.066311\n",
      "min        2.500000\n",
      "25%        2.650000\n",
      "50%        2.650000\n",
      "75%        2.650000\n",
      "max        2.850000\n",
      "Name: ceiling_height, dtype: float64\n"
     ]
    },
    {
     "data": {
      "text/plain": [
       "Text(0, 0.5, 'частота (шт.)')"
      ]
     },
     "execution_count": 84,
     "metadata": {},
     "output_type": "execute_result"
    },
    {
     "data": {
      "image/png": "[encoded data removed]",
      "text/plain": [
       "<Figure size 432x288 with 1 Axes>"
      ]
     },
     "metadata": {
      "needs_background": "light"
     },
     "output_type": "display_data"
    }
   ],
   "source": [
    "#Выводим информацию о данных в столбце\n",
    "print(spb_center['ceiling_height'].describe())\n",
    "#Строим гистрограмму для высоты потолков. Ограничим диапазон от 2 до 3, поскольку вне этого диапазона данных очень мало\n",
    "spb_center['ceiling_height'].hist(bins=30, range=(2,3))\n",
    "plt.title('Частота вхождения высоты потолков')\n",
    "plt.xlabel('высота потолка (м)')\n",
    "plt.ylabel('частота (шт.)')"
   ]
  },
  {
   "cell_type": "markdown",
   "metadata": {},
   "source": [
    "Пик примерно на 2.65 м. При анализе всех данных результат был таким же. Квартиры с такой высостой потолка одинакового хорошо продаются и в центре города, и за его пределами. \n",
    "\n",
    "Следует заметить, что разброс  стал меньше. Возможно повлияла очистка от выборосов или вне центра города сильнее разнится высота потолков. "
   ]
  },
  {
   "cell_type": "markdown",
   "metadata": {},
   "source": [
    "#### Определение факторов наиболее влияющих на стоимость квартиры"
   ]
  },
  {
   "cell_type": "markdown",
   "metadata": {},
   "source": [
    "Для определения факторов влияющих на стоимость квартир будем группировать данные по параметрам и визуализировать зависимость. Для параметров с небольшим кол-вом значений будем строить столбчатую диаграмму, для остальный - линейный график. "
   ]
  },
  {
   "cell_type": "markdown",
   "metadata": {},
   "source": [
    "##### Площадь"
   ]
  },
  {
   "cell_type": "code",
   "execution_count": 85,
   "metadata": {},
   "outputs": [
    {
     "data": {
      "text/plain": [
       "Text(0, 0.5, 'цена (млн. руб)')"
      ]
     },
     "execution_count": 85,
     "metadata": {},
     "output_type": "execute_result"
    },
    {
     "data": {
      "image/png": "[encoded data removed]",
      "text/plain": [
       "<Figure size 432x288 with 1 Axes>"
      ]
     },
     "metadata": {
      "needs_background": "light"
     },
     "output_type": "display_data"
    }
   ],
   "source": [
    "#Cгруппируем данные по площпди и вычислим для каждой группы среднее \n",
    "spb_center.pivot_table(index='total_area', values='last_price').plot()\n",
    "plt.title('Зависимоть цены квартиры от площади')\n",
    "plt.xlabel('площадь (кв. м.)')\n",
    "plt.ylabel('цена (млн. руб)')"
   ]
  },
  {
   "cell_type": "markdown",
   "metadata": {},
   "source": [
    "На графике видно, что прямая зависимость сохраняется"
   ]
  },
  {
   "cell_type": "markdown",
   "metadata": {},
   "source": [
    "##### Группа этажей"
   ]
  },
  {
   "cell_type": "code",
   "execution_count": 86,
   "metadata": {},
   "outputs": [
    {
     "data": {
      "text/plain": [
       "Text(0, 0.5, 'цена (млн. руб)')"
      ]
     },
     "execution_count": 86,
     "metadata": {},
     "output_type": "execute_result"
    },
    {
     "data": {
      "image/png": "[encoded data removed]",
      "text/plain": [
       "<Figure size 432x288 with 1 Axes>"
      ]
     },
     "metadata": {
      "needs_background": "light"
     },
     "output_type": "display_data"
    }
   ],
   "source": [
    "#Сгруппируем данные по группе этажа и вычислим для каждой группы среднее и построим график\n",
    "spb_center.pivot_table(index='floor_group', values='last_price').plot(kind='bar')\n",
    "plt.title('Зависимоть цены квартиры от этажа')\n",
    "plt.xlabel('площадь (кв. м.)')\n",
    "plt.ylabel('цена (млн. руб)')"
   ]
  },
  {
   "cell_type": "markdown",
   "metadata": {},
   "source": [
    "Самые дешевые квартиры по-прежнему на первых эатажах. \n",
    "Но зависимсоть от последних и других этажей изменилась: на последних квартиры стали дороже, чем на других. Возможно, это связано с мансардными этажами. Дома с такими квартирами чаще можно встретить в центре, чем на окраинах или за городом. "
   ]
  },
  {
   "cell_type": "markdown",
   "metadata": {},
   "source": [
    "##### Количество комнат"
   ]
  },
  {
   "cell_type": "code",
   "execution_count": 87,
   "metadata": {},
   "outputs": [
    {
     "data": {
      "text/plain": [
       "Text(0, 0.5, 'цена (млн. руб)')"
      ]
     },
     "execution_count": 87,
     "metadata": {},
     "output_type": "execute_result"
    },
    {
     "data": {
      "image/png": "[encoded data removed]",
      "text/plain": [
       "<Figure size 432x288 with 1 Axes>"
      ]
     },
     "metadata": {
      "needs_background": "light"
     },
     "output_type": "display_data"
    }
   ],
   "source": [
    "#Сгруппируем данные по количеству комнат и вычислим для каждой группы среднее и построим график\n",
    "spb_center.pivot_table(index='rooms', values='last_price').plot(kind='bar')\n",
    "plt.title('Зависимоть цены квартиры от количества комнат')\n",
    "plt.xlabel('количество комнат (шт)')\n",
    "plt.ylabel('цена (млн. руб)')"
   ]
  },
  {
   "cell_type": "markdown",
   "metadata": {},
   "source": [
    "Цена прямопропорционально растет в зависимости от количества комнат. Аналогично выборке по всем данным.  "
   ]
  },
  {
   "cell_type": "markdown",
   "metadata": {},
   "source": [
    "##### Удаленность от центра"
   ]
  },
  {
   "cell_type": "code",
   "execution_count": 88,
   "metadata": {},
   "outputs": [
    {
     "data": {
      "text/plain": [
       "Text(0, 0.5, 'цена (млн. руб)')"
      ]
     },
     "execution_count": 88,
     "metadata": {},
     "output_type": "execute_result"
    },
    {
     "data": {
      "image/png": "[encoded data removed]",
      "text/plain": [
       "<Figure size 432x288 with 1 Axes>"
      ]
     },
     "metadata": {
      "needs_background": "light"
     },
     "output_type": "display_data"
    }
   ],
   "source": [
    "# Сгруппируем данные по удаленности от центра и вычислим для каждой группы среднее\n",
    "spb_center.pivot_table(index='cityCenters_nearest_km', values='last_price').plot(grid=True)\n",
    "plt.title('Зависимоть цены квартиры от удаленности от центра')\n",
    "plt.xlabel('удаленность от центра (км)')\n",
    "plt.ylabel('цена (млн. руб)')"
   ]
  },
  {
   "cell_type": "markdown",
   "metadata": {},
   "source": [
    "До 2-х км наблюдается небольшой подъем цены. Возможно в непостредственном центре не так много квартир + это может быть старый жилой фонд. \n",
    "После 2-х км от центра цена начинает снижаться. То есть в целом зависимость обратная: чем больше расстояние от центра, тем дешевле квартира. Аналогично выборке по всем данным."
   ]
  },
  {
   "cell_type": "markdown",
   "metadata": {},
   "source": [
    "##### День недели размещения объявления"
   ]
  },
  {
   "cell_type": "code",
   "execution_count": 89,
   "metadata": {},
   "outputs": [
    {
     "data": {
      "text/plain": [
       "Text(0, 0.5, 'цена (млн. руб)')"
      ]
     },
     "execution_count": 89,
     "metadata": {},
     "output_type": "execute_result"
    },
    {
     "data": {
      "image/png": "[encoded data removed]",
      "text/plain": [
       "<Figure size 432x288 with 1 Axes>"
      ]
     },
     "metadata": {
      "needs_background": "light"
     },
     "output_type": "display_data"
    }
   ],
   "source": [
    "# Сгруппируем данные по дню недели и вычислим для каждой группы среднее\n",
    "spb_center.pivot_table(index='weekday_exposition', values='last_price').plot(kind='bar')\n",
    "plt.title('Зависимоть цены квартиры от дня недели размещения объявления')\n",
    "plt.xlabel('день недели размещения объявления')\n",
    "plt.ylabel('цена (млн. руб)')"
   ]
  },
  {
   "cell_type": "markdown",
   "metadata": {},
   "source": [
    "Зависимости нет, как и в выборке по всем данным."
   ]
  },
  {
   "cell_type": "markdown",
   "metadata": {},
   "source": [
    "##### Месяц размещения объявления"
   ]
  },
  {
   "cell_type": "code",
   "execution_count": 90,
   "metadata": {},
   "outputs": [
    {
     "data": {
      "text/plain": [
       "Text(0, 0.5, 'цена (млн. руб)')"
      ]
     },
     "execution_count": 90,
     "metadata": {},
     "output_type": "execute_result"
    },
    {
     "data": {
      "image/png": "[encoded data removed]",
      "text/plain": [
       "<Figure size 432x288 with 1 Axes>"
      ]
     },
     "metadata": {
      "needs_background": "light"
     },
     "output_type": "display_data"
    }
   ],
   "source": [
    "# Сгруппируем данные по месяцу и вычислим для каждой группы среднее\n",
    "spb_center.pivot_table(index='month_exposition', values='last_price').plot(kind='bar')\n",
    "plt.title('Зависимоть цены квартиры от месяца размещения объявления')\n",
    "plt.xlabel('месяц размещения объявления')\n",
    "plt.ylabel('цена (млн. руб)')"
   ]
  },
  {
   "cell_type": "markdown",
   "metadata": {},
   "source": [
    "Зависимости нет, как и в выборке по всем данным."
   ]
  },
  {
   "cell_type": "markdown",
   "metadata": {},
   "source": [
    "##### Год размещения объявления"
   ]
  },
  {
   "cell_type": "code",
   "execution_count": 91,
   "metadata": {},
   "outputs": [
    {
     "data": {
      "text/plain": [
       "Text(0, 0.5, 'цена (млн. руб)')"
      ]
     },
     "execution_count": 91,
     "metadata": {},
     "output_type": "execute_result"
    },
    {
     "data": {
      "image/png": "[encoded data removed]",
      "text/plain": [
       "<Figure size 432x288 with 1 Axes>"
      ]
     },
     "metadata": {
      "needs_background": "light"
     },
     "output_type": "display_data"
    }
   ],
   "source": [
    "# Сгруппируем данные по году и вычислим для каждой группы среднее\n",
    "spb_center.pivot_table(index='year_exposition', values='last_price').plot(kind='bar')\n",
    "plt.title('Зависимоть цены квартиры от года размещения объявления')\n",
    "plt.xlabel('год размещения объявления')\n",
    "plt.ylabel('цена (млн. руб)')"
   ]
  },
  {
   "cell_type": "markdown",
   "metadata": {},
   "source": [
    "Зависимости нет, как и в выборке по всем данным."
   ]
  },
  {
   "cell_type": "markdown",
   "metadata": {},
   "source": [
    "## Общий вывод"
   ]
  },
  {
   "cell_type": "markdown",
   "metadata": {},
   "source": [
    "Следующие параметры **наиболее сильно влияют** на стоимость квартиры: \n",
    "1. Площадь: чем больше площадь, тем дороже квартира. Эта закономерность характерна и для центра города, и для окраин.\n",
    "1. Количество комнат: чем больше комнат, тем дороже квартира. Косвенно увеличение числа комнат ведет к увеличению общей площади, что сводится к п. 1. Однако для квартир с большим количеством комнат (больше 3-х) цена уже не так стремительно растет.\n",
    "1. Удаленность от центра: чем ближе к центру, тем дороже квартира. Однако эта зависимость явная в пределах города. Вне города возможны колебания цены из-за населенных пунктов вокруг города. \n",
    "1. Этаж: на первом этаже квартиры всегда дешевле. Дальнейшее распределение зависит от удаленности от центра: в центре города дороже последний этаж, за пределами центра - этажи посередине. \n",
    "\n",
    "На стоимость квартиры **не влияют**: день недели, месяц и год размещения объявления  \n"
   ]
  }
 ],
 "metadata": {
  "ExecuteTimeLog": [
   {
    "duration": 498,
    "start_time": "2022-05-03T07:35:19.833Z"
   },
   {
    "duration": 1820,
    "start_time": "2022-05-03T07:40:16.156Z"
   },
   {
    "duration": 195,
    "start_time": "2022-05-03T07:41:11.974Z"
   },
   {
    "duration": 177,
    "start_time": "2022-05-03T07:41:39.449Z"
   },
   {
    "duration": 202,
    "start_time": "2022-05-03T07:41:50.702Z"
   },
   {
    "duration": 166,
    "start_time": "2022-05-03T07:42:58.401Z"
   },
   {
    "duration": 177,
    "start_time": "2022-05-03T07:47:11.632Z"
   },
   {
    "duration": 157,
    "start_time": "2022-05-03T07:47:20.582Z"
   },
   {
    "duration": 179,
    "start_time": "2022-05-03T07:54:23.673Z"
   },
   {
    "duration": 845,
    "start_time": "2022-05-03T07:54:35.971Z"
   },
   {
    "duration": 88,
    "start_time": "2022-05-03T07:54:49.295Z"
   },
   {
    "duration": 168,
    "start_time": "2022-05-03T07:56:35.310Z"
   },
   {
    "duration": 3530,
    "start_time": "2022-05-03T07:56:46.581Z"
   },
   {
    "duration": 188,
    "start_time": "2022-05-03T07:56:57.637Z"
   },
   {
    "duration": 2554,
    "start_time": "2022-05-03T07:57:02.295Z"
   },
   {
    "duration": 200,
    "start_time": "2022-05-03T07:57:12.365Z"
   },
   {
    "duration": 239,
    "start_time": "2022-05-03T07:58:41.008Z"
   },
   {
    "duration": 214,
    "start_time": "2022-05-03T07:58:47.606Z"
   },
   {
    "duration": 210,
    "start_time": "2022-05-03T07:59:30.113Z"
   },
   {
    "duration": 200,
    "start_time": "2022-05-03T07:59:41.953Z"
   },
   {
    "duration": 195,
    "start_time": "2022-05-03T08:17:48.051Z"
   },
   {
    "duration": 11,
    "start_time": "2022-05-03T08:27:39.678Z"
   },
   {
    "duration": 8,
    "start_time": "2022-05-03T08:27:53.829Z"
   },
   {
    "duration": 26,
    "start_time": "2022-05-03T08:34:05.333Z"
   },
   {
    "duration": 13,
    "start_time": "2022-05-03T08:35:16.286Z"
   },
   {
    "duration": 13,
    "start_time": "2022-05-03T08:35:40.212Z"
   },
   {
    "duration": 8,
    "start_time": "2022-05-03T08:44:31.182Z"
   },
   {
    "duration": 20,
    "start_time": "2022-05-03T08:44:57.373Z"
   },
   {
    "duration": 18,
    "start_time": "2022-05-03T08:45:04.029Z"
   },
   {
    "duration": 7,
    "start_time": "2022-05-03T09:08:35.983Z"
   },
   {
    "duration": 21,
    "start_time": "2022-05-03T09:22:57.088Z"
   },
   {
    "duration": 5,
    "start_time": "2022-05-03T09:31:20.126Z"
   },
   {
    "duration": 6,
    "start_time": "2022-05-03T09:45:26.035Z"
   },
   {
    "duration": 14,
    "start_time": "2022-05-03T09:52:19.657Z"
   },
   {
    "duration": 26,
    "start_time": "2022-05-03T09:52:33.066Z"
   },
   {
    "duration": 12,
    "start_time": "2022-05-03T09:54:11.317Z"
   },
   {
    "duration": 14,
    "start_time": "2022-05-03T09:55:03.899Z"
   },
   {
    "duration": 12,
    "start_time": "2022-05-03T09:55:14.782Z"
   },
   {
    "duration": 12,
    "start_time": "2022-05-03T09:57:34.601Z"
   },
   {
    "duration": 14,
    "start_time": "2022-05-03T09:57:46.597Z"
   },
   {
    "duration": 14,
    "start_time": "2022-05-03T09:57:52.568Z"
   },
   {
    "duration": 14,
    "start_time": "2022-05-03T09:57:57.101Z"
   },
   {
    "duration": 48,
    "start_time": "2022-05-03T10:06:49.513Z"
   },
   {
    "duration": 100,
    "start_time": "2022-05-03T10:09:28.501Z"
   },
   {
    "duration": 24,
    "start_time": "2022-05-03T10:09:53.859Z"
   },
   {
    "duration": 9,
    "start_time": "2022-05-03T10:10:05.214Z"
   },
   {
    "duration": 6,
    "start_time": "2022-05-03T10:10:25.253Z"
   },
   {
    "duration": 14,
    "start_time": "2022-05-03T10:11:05.891Z"
   },
   {
    "duration": 39,
    "start_time": "2022-05-03T10:12:29.047Z"
   },
   {
    "duration": 42,
    "start_time": "2022-05-03T10:16:58.253Z"
   },
   {
    "duration": 12,
    "start_time": "2022-05-03T10:17:52.162Z"
   },
   {
    "duration": 11,
    "start_time": "2022-05-03T10:18:32.485Z"
   },
   {
    "duration": 21,
    "start_time": "2022-05-03T10:19:12.749Z"
   },
   {
    "duration": 48,
    "start_time": "2022-05-03T10:21:45.713Z"
   },
   {
    "duration": 7,
    "start_time": "2022-05-03T10:27:13.361Z"
   },
   {
    "duration": 12,
    "start_time": "2022-05-03T10:28:08.706Z"
   },
   {
    "duration": 8,
    "start_time": "2022-05-03T10:30:55.746Z"
   },
   {
    "duration": 16,
    "start_time": "2022-05-03T10:31:25.261Z"
   },
   {
    "duration": 15,
    "start_time": "2022-05-03T10:32:50.910Z"
   },
   {
    "duration": 236,
    "start_time": "2022-05-03T10:33:04.149Z"
   },
   {
    "duration": 53,
    "start_time": "2022-05-03T10:33:04.388Z"
   },
   {
    "duration": 5,
    "start_time": "2022-05-03T10:33:10.664Z"
   },
   {
    "duration": 8,
    "start_time": "2022-05-03T10:34:31.083Z"
   },
   {
    "duration": 49,
    "start_time": "2022-05-03T17:48:13.041Z"
   },
   {
    "duration": 917,
    "start_time": "2022-05-03T17:48:21.133Z"
   },
   {
    "duration": 42,
    "start_time": "2022-05-03T17:48:22.052Z"
   },
   {
    "duration": 5,
    "start_time": "2022-05-03T17:48:22.095Z"
   },
   {
    "duration": 7,
    "start_time": "2022-05-03T17:48:22.102Z"
   },
   {
    "duration": 8,
    "start_time": "2022-05-03T17:48:22.111Z"
   },
   {
    "duration": 7,
    "start_time": "2022-05-03T17:48:22.120Z"
   },
   {
    "duration": 15,
    "start_time": "2022-05-03T17:48:22.129Z"
   },
   {
    "duration": 28,
    "start_time": "2022-05-03T17:48:22.146Z"
   },
   {
    "duration": 20,
    "start_time": "2022-05-03T17:48:22.176Z"
   },
   {
    "duration": 12,
    "start_time": "2022-05-03T17:48:22.198Z"
   },
   {
    "duration": 44,
    "start_time": "2022-05-03T17:48:24.874Z"
   },
   {
    "duration": 3,
    "start_time": "2022-05-03T17:48:49.682Z"
   },
   {
    "duration": 6,
    "start_time": "2022-05-03T17:49:05.170Z"
   },
   {
    "duration": 16,
    "start_time": "2022-05-03T18:01:50.608Z"
   },
   {
    "duration": 10,
    "start_time": "2022-05-03T18:02:18.138Z"
   },
   {
    "duration": 10,
    "start_time": "2022-05-03T18:02:35.129Z"
   },
   {
    "duration": 35,
    "start_time": "2022-05-03T18:02:52.202Z"
   },
   {
    "duration": 33,
    "start_time": "2022-05-03T18:03:21.435Z"
   },
   {
    "duration": 12,
    "start_time": "2022-05-03T18:03:36.017Z"
   },
   {
    "duration": 32,
    "start_time": "2022-05-03T18:04:17.789Z"
   },
   {
    "duration": 111,
    "start_time": "2022-05-03T18:05:37.297Z"
   },
   {
    "duration": 1138,
    "start_time": "2022-05-03T18:06:09.285Z"
   },
   {
    "duration": 145,
    "start_time": "2022-05-03T18:06:20.199Z"
   },
   {
    "duration": 79,
    "start_time": "2022-05-03T18:07:09.517Z"
   },
   {
    "duration": 72,
    "start_time": "2022-05-03T18:10:02.216Z"
   },
   {
    "duration": 128,
    "start_time": "2022-05-03T18:10:39.761Z"
   },
   {
    "duration": 106,
    "start_time": "2022-05-03T18:11:09.576Z"
   },
   {
    "duration": 148,
    "start_time": "2022-05-03T18:12:11.325Z"
   },
   {
    "duration": 163,
    "start_time": "2022-05-03T18:12:17.191Z"
   },
   {
    "duration": 60,
    "start_time": "2022-05-03T18:12:42.783Z"
   },
   {
    "duration": 112,
    "start_time": "2022-05-03T18:17:19.121Z"
   },
   {
    "duration": 68,
    "start_time": "2022-05-03T18:17:27.875Z"
   },
   {
    "duration": 67,
    "start_time": "2022-05-03T18:19:17.080Z"
   },
   {
    "duration": 66,
    "start_time": "2022-05-03T18:19:21.841Z"
   },
   {
    "duration": 59,
    "start_time": "2022-05-03T18:20:33.291Z"
   },
   {
    "duration": 17,
    "start_time": "2022-05-03T18:22:09.739Z"
   },
   {
    "duration": 65,
    "start_time": "2022-05-03T18:22:50.130Z"
   },
   {
    "duration": 170,
    "start_time": "2022-05-03T18:23:10.903Z"
   },
   {
    "duration": 31,
    "start_time": "2022-05-03T18:23:11.075Z"
   },
   {
    "duration": 4,
    "start_time": "2022-05-03T18:23:11.108Z"
   },
   {
    "duration": 6,
    "start_time": "2022-05-03T18:23:11.114Z"
   },
   {
    "duration": 5,
    "start_time": "2022-05-03T18:23:11.122Z"
   },
   {
    "duration": 6,
    "start_time": "2022-05-03T18:23:11.128Z"
   },
   {
    "duration": 5,
    "start_time": "2022-05-03T18:23:11.135Z"
   },
   {
    "duration": 35,
    "start_time": "2022-05-03T18:23:11.141Z"
   },
   {
    "duration": 14,
    "start_time": "2022-05-03T18:23:11.177Z"
   },
   {
    "duration": 3,
    "start_time": "2022-05-03T18:23:11.193Z"
   },
   {
    "duration": 14,
    "start_time": "2022-05-03T18:23:13.081Z"
   },
   {
    "duration": 59,
    "start_time": "2022-05-03T18:23:28.211Z"
   },
   {
    "duration": 56,
    "start_time": "2022-05-03T18:25:08.940Z"
   },
   {
    "duration": 80,
    "start_time": "2022-05-03T18:25:19.391Z"
   },
   {
    "duration": 13,
    "start_time": "2022-05-03T18:26:57.546Z"
   },
   {
    "duration": 158,
    "start_time": "2022-05-03T18:27:14.842Z"
   },
   {
    "duration": 34,
    "start_time": "2022-05-03T18:27:15.002Z"
   },
   {
    "duration": 4,
    "start_time": "2022-05-03T18:27:15.038Z"
   },
   {
    "duration": 7,
    "start_time": "2022-05-03T18:27:15.044Z"
   },
   {
    "duration": 22,
    "start_time": "2022-05-03T18:27:15.053Z"
   },
   {
    "duration": 3,
    "start_time": "2022-05-03T18:27:15.077Z"
   },
   {
    "duration": 6,
    "start_time": "2022-05-03T18:27:15.082Z"
   },
   {
    "duration": 8,
    "start_time": "2022-05-03T18:27:15.089Z"
   },
   {
    "duration": 15,
    "start_time": "2022-05-03T18:27:15.098Z"
   },
   {
    "duration": 3,
    "start_time": "2022-05-03T18:27:15.115Z"
   },
   {
    "duration": 74,
    "start_time": "2022-05-03T18:27:15.120Z"
   },
   {
    "duration": 14,
    "start_time": "2022-05-03T18:27:21.227Z"
   },
   {
    "duration": 14,
    "start_time": "2022-05-03T18:27:57.319Z"
   },
   {
    "duration": 16,
    "start_time": "2022-05-03T18:28:13.110Z"
   },
   {
    "duration": 14,
    "start_time": "2022-05-03T18:28:26.978Z"
   },
   {
    "duration": 14,
    "start_time": "2022-05-03T18:28:45.614Z"
   },
   {
    "duration": 14,
    "start_time": "2022-05-03T18:28:58.855Z"
   },
   {
    "duration": 17,
    "start_time": "2022-05-03T18:29:18.451Z"
   },
   {
    "duration": 17,
    "start_time": "2022-05-03T18:30:33.215Z"
   },
   {
    "duration": 12,
    "start_time": "2022-05-03T18:30:52.105Z"
   },
   {
    "duration": 8,
    "start_time": "2022-05-03T18:31:51.177Z"
   },
   {
    "duration": 6,
    "start_time": "2022-05-03T18:32:10.421Z"
   },
   {
    "duration": 9,
    "start_time": "2022-05-03T18:32:23.376Z"
   },
   {
    "duration": 9,
    "start_time": "2022-05-03T18:32:26.054Z"
   },
   {
    "duration": 160,
    "start_time": "2022-05-03T18:32:34.754Z"
   },
   {
    "duration": 31,
    "start_time": "2022-05-03T18:32:34.916Z"
   },
   {
    "duration": 24,
    "start_time": "2022-05-03T18:32:34.949Z"
   },
   {
    "duration": 5,
    "start_time": "2022-05-03T18:32:34.975Z"
   },
   {
    "duration": 10,
    "start_time": "2022-05-03T18:32:34.982Z"
   },
   {
    "duration": 7,
    "start_time": "2022-05-03T18:32:34.993Z"
   },
   {
    "duration": 6,
    "start_time": "2022-05-03T18:32:35.002Z"
   },
   {
    "duration": 9,
    "start_time": "2022-05-03T18:32:38.996Z"
   },
   {
    "duration": 869,
    "start_time": "2022-05-03T18:36:01.079Z"
   },
   {
    "duration": 44,
    "start_time": "2022-05-03T18:36:01.951Z"
   },
   {
    "duration": 5,
    "start_time": "2022-05-03T18:36:01.996Z"
   },
   {
    "duration": 16,
    "start_time": "2022-05-03T18:36:02.003Z"
   },
   {
    "duration": 15,
    "start_time": "2022-05-03T18:36:02.022Z"
   },
   {
    "duration": 11,
    "start_time": "2022-05-03T18:36:02.039Z"
   },
   {
    "duration": 18,
    "start_time": "2022-05-03T18:36:02.052Z"
   },
   {
    "duration": 20,
    "start_time": "2022-05-03T18:36:02.072Z"
   },
   {
    "duration": 21,
    "start_time": "2022-05-03T18:36:02.094Z"
   },
   {
    "duration": 3,
    "start_time": "2022-05-03T18:36:02.116Z"
   },
   {
    "duration": 55,
    "start_time": "2022-05-03T18:36:02.121Z"
   },
   {
    "duration": 13,
    "start_time": "2022-05-03T18:36:02.178Z"
   },
   {
    "duration": 8,
    "start_time": "2022-05-03T18:37:07.635Z"
   },
   {
    "duration": 9,
    "start_time": "2022-05-03T18:37:37.785Z"
   },
   {
    "duration": 9,
    "start_time": "2022-05-03T18:37:40.948Z"
   },
   {
    "duration": 13,
    "start_time": "2022-05-03T18:38:02.298Z"
   },
   {
    "duration": 5,
    "start_time": "2022-05-03T18:39:49.456Z"
   },
   {
    "duration": 23,
    "start_time": "2022-05-03T18:42:27.695Z"
   },
   {
    "duration": 4,
    "start_time": "2022-05-03T19:20:04.340Z"
   },
   {
    "duration": 8,
    "start_time": "2022-05-03T20:12:12.831Z"
   },
   {
    "duration": 81,
    "start_time": "2022-05-03T20:30:23.733Z"
   },
   {
    "duration": 1805,
    "start_time": "2022-05-03T20:32:04.490Z"
   },
   {
    "duration": 22,
    "start_time": "2022-05-03T20:33:19.936Z"
   },
   {
    "duration": 491,
    "start_time": "2022-05-03T20:33:41.812Z"
   },
   {
    "duration": 456,
    "start_time": "2022-05-03T20:34:34.818Z"
   },
   {
    "duration": 513,
    "start_time": "2022-05-03T20:36:31.265Z"
   },
   {
    "duration": 578,
    "start_time": "2022-05-03T20:36:34.838Z"
   },
   {
    "duration": 26,
    "start_time": "2022-05-03T20:36:56.038Z"
   },
   {
    "duration": 306,
    "start_time": "2022-05-03T20:37:41.391Z"
   },
   {
    "duration": 345,
    "start_time": "2022-05-03T20:38:47.811Z"
   },
   {
    "duration": 323,
    "start_time": "2022-05-03T20:39:24.002Z"
   },
   {
    "duration": 63,
    "start_time": "2022-05-04T13:37:19.556Z"
   },
   {
    "duration": 1083,
    "start_time": "2022-05-04T13:37:24.793Z"
   },
   {
    "duration": 32,
    "start_time": "2022-05-04T13:37:25.879Z"
   },
   {
    "duration": 25,
    "start_time": "2022-05-04T13:37:25.912Z"
   },
   {
    "duration": 22,
    "start_time": "2022-05-04T13:37:25.939Z"
   },
   {
    "duration": 7,
    "start_time": "2022-05-04T13:37:25.962Z"
   },
   {
    "duration": 7,
    "start_time": "2022-05-04T13:37:25.971Z"
   },
   {
    "duration": 10,
    "start_time": "2022-05-04T13:37:25.979Z"
   },
   {
    "duration": 6,
    "start_time": "2022-05-04T13:37:25.991Z"
   },
   {
    "duration": 13,
    "start_time": "2022-05-04T13:37:25.999Z"
   },
   {
    "duration": 23,
    "start_time": "2022-05-04T13:37:26.014Z"
   },
   {
    "duration": 23,
    "start_time": "2022-05-04T13:37:26.038Z"
   },
   {
    "duration": 64,
    "start_time": "2022-05-04T13:37:26.063Z"
   },
   {
    "duration": 17,
    "start_time": "2022-05-04T13:37:26.133Z"
   },
   {
    "duration": 365,
    "start_time": "2022-05-04T13:37:26.152Z"
   },
   {
    "duration": 120,
    "start_time": "2022-05-04T13:37:29.278Z"
   },
   {
    "duration": 270,
    "start_time": "2022-05-04T13:37:43.162Z"
   },
   {
    "duration": 249,
    "start_time": "2022-05-04T13:38:11.292Z"
   },
   {
    "duration": 3,
    "start_time": "2022-05-04T13:44:14.396Z"
   },
   {
    "duration": 3,
    "start_time": "2022-05-04T13:47:46.601Z"
   },
   {
    "duration": 3,
    "start_time": "2022-05-04T13:51:22.552Z"
   },
   {
    "duration": 143,
    "start_time": "2022-05-04T13:52:03.409Z"
   },
   {
    "duration": 205,
    "start_time": "2022-05-04T13:52:14.029Z"
   },
   {
    "duration": 1291,
    "start_time": "2022-05-04T13:52:20.524Z"
   },
   {
    "duration": 223,
    "start_time": "2022-05-04T13:52:25.526Z"
   },
   {
    "duration": 309,
    "start_time": "2022-05-04T13:52:40.281Z"
   },
   {
    "duration": 223,
    "start_time": "2022-05-04T13:52:53.744Z"
   },
   {
    "duration": 214,
    "start_time": "2022-05-04T13:53:02.137Z"
   },
   {
    "duration": 219,
    "start_time": "2022-05-04T13:53:43.506Z"
   },
   {
    "duration": 236,
    "start_time": "2022-05-04T13:53:48.825Z"
   },
   {
    "duration": 221,
    "start_time": "2022-05-04T13:55:27.604Z"
   },
   {
    "duration": 355,
    "start_time": "2022-05-04T13:55:39.227Z"
   },
   {
    "duration": 247,
    "start_time": "2022-05-04T13:56:02.882Z"
   },
   {
    "duration": 358,
    "start_time": "2022-05-04T13:56:09.614Z"
   },
   {
    "duration": 215,
    "start_time": "2022-05-04T13:58:11.846Z"
   },
   {
    "duration": 200,
    "start_time": "2022-05-04T13:58:30.659Z"
   },
   {
    "duration": 223,
    "start_time": "2022-05-04T13:58:39.724Z"
   },
   {
    "duration": 357,
    "start_time": "2022-05-04T14:00:13.835Z"
   },
   {
    "duration": 215,
    "start_time": "2022-05-04T14:00:26.035Z"
   },
   {
    "duration": 247,
    "start_time": "2022-05-04T14:00:35.811Z"
   },
   {
    "duration": 241,
    "start_time": "2022-05-04T14:01:37.995Z"
   },
   {
    "duration": 232,
    "start_time": "2022-05-04T14:01:53.172Z"
   },
   {
    "duration": 237,
    "start_time": "2022-05-04T14:02:11.140Z"
   },
   {
    "duration": 241,
    "start_time": "2022-05-04T14:02:21.222Z"
   },
   {
    "duration": 4,
    "start_time": "2022-05-04T14:03:06.672Z"
   },
   {
    "duration": 405,
    "start_time": "2022-05-04T14:04:49.912Z"
   },
   {
    "duration": 139,
    "start_time": "2022-05-04T14:04:58.978Z"
   },
   {
    "duration": 228,
    "start_time": "2022-05-04T14:05:36.568Z"
   },
   {
    "duration": 133,
    "start_time": "2022-05-04T14:05:41.051Z"
   },
   {
    "duration": 248,
    "start_time": "2022-05-04T14:05:45.321Z"
   },
   {
    "duration": 151,
    "start_time": "2022-05-04T14:06:03.158Z"
   },
   {
    "duration": 151,
    "start_time": "2022-05-04T14:06:12.373Z"
   },
   {
    "duration": 130,
    "start_time": "2022-05-04T14:07:51.164Z"
   },
   {
    "duration": 143,
    "start_time": "2022-05-04T14:08:04.298Z"
   },
   {
    "duration": 167,
    "start_time": "2022-05-04T14:08:07.474Z"
   },
   {
    "duration": 155,
    "start_time": "2022-05-04T14:08:13.657Z"
   },
   {
    "duration": 166,
    "start_time": "2022-05-04T14:08:40.335Z"
   },
   {
    "duration": 252,
    "start_time": "2022-05-04T14:11:57.013Z"
   },
   {
    "duration": 269,
    "start_time": "2022-05-04T14:12:47.261Z"
   },
   {
    "duration": 246,
    "start_time": "2022-05-04T14:15:49.981Z"
   },
   {
    "duration": 168,
    "start_time": "2022-05-04T14:16:16.076Z"
   },
   {
    "duration": 160,
    "start_time": "2022-05-04T14:18:04.538Z"
   },
   {
    "duration": 7,
    "start_time": "2022-05-04T14:19:28.869Z"
   },
   {
    "duration": 341,
    "start_time": "2022-05-04T14:33:07.051Z"
   },
   {
    "duration": 146,
    "start_time": "2022-05-04T14:33:16.931Z"
   },
   {
    "duration": 139,
    "start_time": "2022-05-04T14:35:16.076Z"
   },
   {
    "duration": 120,
    "start_time": "2022-05-04T14:35:23.578Z"
   },
   {
    "duration": 153,
    "start_time": "2022-05-04T14:35:48.033Z"
   },
   {
    "duration": 161,
    "start_time": "2022-05-04T14:36:00.492Z"
   },
   {
    "duration": 137,
    "start_time": "2022-05-04T14:36:39.539Z"
   },
   {
    "duration": 142,
    "start_time": "2022-05-04T14:36:57.515Z"
   },
   {
    "duration": 146,
    "start_time": "2022-05-04T14:37:18.977Z"
   },
   {
    "duration": 171,
    "start_time": "2022-05-04T14:38:10.598Z"
   },
   {
    "duration": 35,
    "start_time": "2022-05-04T14:38:10.772Z"
   },
   {
    "duration": 17,
    "start_time": "2022-05-04T14:38:10.809Z"
   },
   {
    "duration": 6,
    "start_time": "2022-05-04T14:38:10.829Z"
   },
   {
    "duration": 7,
    "start_time": "2022-05-04T14:38:10.836Z"
   },
   {
    "duration": 6,
    "start_time": "2022-05-04T14:38:10.844Z"
   },
   {
    "duration": 5,
    "start_time": "2022-05-04T14:38:10.852Z"
   },
   {
    "duration": 8,
    "start_time": "2022-05-04T14:38:10.859Z"
   },
   {
    "duration": 57,
    "start_time": "2022-05-04T14:38:10.868Z"
   },
   {
    "duration": 5,
    "start_time": "2022-05-04T14:38:10.928Z"
   },
   {
    "duration": 6,
    "start_time": "2022-05-04T14:38:10.935Z"
   },
   {
    "duration": 10,
    "start_time": "2022-05-04T14:38:10.943Z"
   },
   {
    "duration": 18,
    "start_time": "2022-05-04T14:38:10.954Z"
   },
   {
    "duration": 373,
    "start_time": "2022-05-04T14:38:10.974Z"
   },
   {
    "duration": 256,
    "start_time": "2022-05-04T14:38:11.349Z"
   },
   {
    "duration": 255,
    "start_time": "2022-05-04T14:38:11.607Z"
   },
   {
    "duration": 250,
    "start_time": "2022-05-04T14:38:11.864Z"
   },
   {
    "duration": 275,
    "start_time": "2022-05-04T14:38:12.116Z"
   },
   {
    "duration": 287,
    "start_time": "2022-05-04T14:38:12.393Z"
   },
   {
    "duration": 281,
    "start_time": "2022-05-04T14:38:18.718Z"
   },
   {
    "duration": 65,
    "start_time": "2022-05-04T14:39:46.512Z"
   },
   {
    "duration": 148,
    "start_time": "2022-05-04T14:40:50.663Z"
   },
   {
    "duration": 142,
    "start_time": "2022-05-04T14:44:15.360Z"
   },
   {
    "duration": 442,
    "start_time": "2022-05-04T14:44:25.625Z"
   },
   {
    "duration": 388,
    "start_time": "2022-05-04T14:44:44.123Z"
   },
   {
    "duration": 171,
    "start_time": "2022-05-04T14:47:22.940Z"
   },
   {
    "duration": 36,
    "start_time": "2022-05-04T14:47:23.114Z"
   },
   {
    "duration": 5,
    "start_time": "2022-05-04T14:47:23.153Z"
   },
   {
    "duration": 7,
    "start_time": "2022-05-04T14:47:23.161Z"
   },
   {
    "duration": 7,
    "start_time": "2022-05-04T14:47:23.169Z"
   },
   {
    "duration": 7,
    "start_time": "2022-05-04T14:47:23.178Z"
   },
   {
    "duration": 4,
    "start_time": "2022-05-04T14:47:23.223Z"
   },
   {
    "duration": 10,
    "start_time": "2022-05-04T14:47:23.229Z"
   },
   {
    "duration": 19,
    "start_time": "2022-05-04T14:47:23.240Z"
   },
   {
    "duration": 4,
    "start_time": "2022-05-04T14:47:23.263Z"
   },
   {
    "duration": 16,
    "start_time": "2022-05-04T14:47:23.268Z"
   },
   {
    "duration": 23,
    "start_time": "2022-05-04T14:47:23.285Z"
   },
   {
    "duration": 27,
    "start_time": "2022-05-04T14:47:23.310Z"
   },
   {
    "duration": 351,
    "start_time": "2022-05-04T14:47:23.339Z"
   },
   {
    "duration": 244,
    "start_time": "2022-05-04T14:47:23.692Z"
   },
   {
    "duration": 245,
    "start_time": "2022-05-04T14:47:23.938Z"
   },
   {
    "duration": 231,
    "start_time": "2022-05-04T14:47:24.185Z"
   },
   {
    "duration": 169,
    "start_time": "2022-05-04T14:47:24.417Z"
   },
   {
    "duration": 173,
    "start_time": "2022-05-04T14:47:24.588Z"
   },
   {
    "duration": 9,
    "start_time": "2022-05-04T14:47:30.576Z"
   },
   {
    "duration": 213,
    "start_time": "2022-05-04T14:47:35.860Z"
   },
   {
    "duration": 12,
    "start_time": "2022-05-04T14:56:55.005Z"
   },
   {
    "duration": 12,
    "start_time": "2022-05-04T14:57:20.108Z"
   },
   {
    "duration": 180,
    "start_time": "2022-05-04T15:42:48.478Z"
   },
   {
    "duration": 32,
    "start_time": "2022-05-04T15:42:48.661Z"
   },
   {
    "duration": 5,
    "start_time": "2022-05-04T15:42:48.695Z"
   },
   {
    "duration": 25,
    "start_time": "2022-05-04T15:42:48.702Z"
   },
   {
    "duration": 6,
    "start_time": "2022-05-04T15:42:48.728Z"
   },
   {
    "duration": 6,
    "start_time": "2022-05-04T15:42:48.736Z"
   },
   {
    "duration": 7,
    "start_time": "2022-05-04T15:42:48.744Z"
   },
   {
    "duration": 8,
    "start_time": "2022-05-04T15:42:48.753Z"
   },
   {
    "duration": 18,
    "start_time": "2022-05-04T15:42:48.763Z"
   },
   {
    "duration": 5,
    "start_time": "2022-05-04T15:42:48.784Z"
   },
   {
    "duration": 6,
    "start_time": "2022-05-04T15:42:48.791Z"
   },
   {
    "duration": 35,
    "start_time": "2022-05-04T15:42:48.799Z"
   },
   {
    "duration": 9,
    "start_time": "2022-05-04T15:42:48.836Z"
   },
   {
    "duration": 347,
    "start_time": "2022-05-04T15:42:48.846Z"
   },
   {
    "duration": 231,
    "start_time": "2022-05-04T15:42:49.195Z"
   },
   {
    "duration": 596,
    "start_time": "2022-05-04T15:42:49.428Z"
   },
   {
    "duration": 227,
    "start_time": "2022-05-04T15:42:50.026Z"
   },
   {
    "duration": 180,
    "start_time": "2022-05-04T15:42:50.255Z"
   },
   {
    "duration": 179,
    "start_time": "2022-05-04T15:42:50.437Z"
   },
   {
    "duration": 201,
    "start_time": "2022-05-04T15:42:53.134Z"
   },
   {
    "duration": 209,
    "start_time": "2022-05-04T15:43:03.393Z"
   },
   {
    "duration": 235,
    "start_time": "2022-05-04T15:43:11.225Z"
   },
   {
    "duration": 216,
    "start_time": "2022-05-04T15:43:29.153Z"
   },
   {
    "duration": 208,
    "start_time": "2022-05-04T15:49:35.956Z"
   },
   {
    "duration": 113,
    "start_time": "2022-05-04T16:09:30.197Z"
   },
   {
    "duration": 9,
    "start_time": "2022-05-04T16:17:46.255Z"
   },
   {
    "duration": 19,
    "start_time": "2022-05-04T16:19:20.992Z"
   },
   {
    "duration": 110,
    "start_time": "2022-05-04T16:20:54.974Z"
   },
   {
    "duration": 98,
    "start_time": "2022-05-04T16:21:58.459Z"
   },
   {
    "duration": 98,
    "start_time": "2022-05-04T16:22:22.995Z"
   },
   {
    "duration": 103,
    "start_time": "2022-05-04T16:22:33.487Z"
   },
   {
    "duration": 9,
    "start_time": "2022-05-04T16:25:23.027Z"
   },
   {
    "duration": 105,
    "start_time": "2022-05-04T16:26:02.310Z"
   },
   {
    "duration": 115,
    "start_time": "2022-05-04T16:26:49.520Z"
   },
   {
    "duration": 109,
    "start_time": "2022-05-04T16:27:05.358Z"
   },
   {
    "duration": 96,
    "start_time": "2022-05-04T16:29:45.976Z"
   },
   {
    "duration": 104,
    "start_time": "2022-05-04T16:31:40.653Z"
   },
   {
    "duration": 134,
    "start_time": "2022-05-04T16:33:12.726Z"
   },
   {
    "duration": 97,
    "start_time": "2022-05-04T16:33:41.638Z"
   },
   {
    "duration": 111,
    "start_time": "2022-05-04T16:38:22.400Z"
   },
   {
    "duration": 7,
    "start_time": "2022-05-04T16:56:31.451Z"
   },
   {
    "duration": 6,
    "start_time": "2022-05-04T16:57:29.180Z"
   },
   {
    "duration": 6,
    "start_time": "2022-05-04T16:57:39.079Z"
   },
   {
    "duration": 7,
    "start_time": "2022-05-04T16:58:18.281Z"
   },
   {
    "duration": 9,
    "start_time": "2022-05-04T17:00:37.735Z"
   },
   {
    "duration": 8,
    "start_time": "2022-05-04T17:00:58.074Z"
   },
   {
    "duration": 8,
    "start_time": "2022-05-04T17:01:16.154Z"
   },
   {
    "duration": 7,
    "start_time": "2022-05-04T17:13:35.538Z"
   },
   {
    "duration": 153,
    "start_time": "2022-05-04T17:13:39.818Z"
   },
   {
    "duration": 30,
    "start_time": "2022-05-04T17:13:39.973Z"
   },
   {
    "duration": 5,
    "start_time": "2022-05-04T17:13:40.024Z"
   },
   {
    "duration": 9,
    "start_time": "2022-05-04T17:13:40.031Z"
   },
   {
    "duration": 9,
    "start_time": "2022-05-04T17:13:40.041Z"
   },
   {
    "duration": 8,
    "start_time": "2022-05-04T17:13:40.051Z"
   },
   {
    "duration": 6,
    "start_time": "2022-05-04T17:13:40.060Z"
   },
   {
    "duration": 13,
    "start_time": "2022-05-04T17:13:40.068Z"
   },
   {
    "duration": 16,
    "start_time": "2022-05-04T17:13:40.083Z"
   },
   {
    "duration": 28,
    "start_time": "2022-05-04T17:13:40.101Z"
   },
   {
    "duration": 5,
    "start_time": "2022-05-04T17:13:40.130Z"
   },
   {
    "duration": 15,
    "start_time": "2022-05-04T17:13:40.137Z"
   },
   {
    "duration": 6,
    "start_time": "2022-05-04T17:13:40.154Z"
   },
   {
    "duration": 378,
    "start_time": "2022-05-04T17:13:40.162Z"
   },
   {
    "duration": 239,
    "start_time": "2022-05-04T17:13:40.541Z"
   },
   {
    "duration": 544,
    "start_time": "2022-05-04T17:13:40.782Z"
   },
   {
    "duration": 225,
    "start_time": "2022-05-04T17:13:41.328Z"
   },
   {
    "duration": 168,
    "start_time": "2022-05-04T17:13:41.555Z"
   },
   {
    "duration": 157,
    "start_time": "2022-05-04T17:13:41.726Z"
   },
   {
    "duration": 223,
    "start_time": "2022-05-04T17:13:41.885Z"
   },
   {
    "duration": 129,
    "start_time": "2022-05-04T17:13:42.110Z"
   },
   {
    "duration": 125,
    "start_time": "2022-05-04T17:13:42.241Z"
   },
   {
    "duration": 105,
    "start_time": "2022-05-04T17:13:42.368Z"
   },
   {
    "duration": 110,
    "start_time": "2022-05-04T17:13:42.475Z"
   },
   {
    "duration": 109,
    "start_time": "2022-05-04T17:13:42.586Z"
   },
   {
    "duration": 8,
    "start_time": "2022-05-04T17:13:44.893Z"
   },
   {
    "duration": 4,
    "start_time": "2022-05-04T17:13:58.933Z"
   },
   {
    "duration": 130,
    "start_time": "2022-05-04T17:26:31.513Z"
   },
   {
    "duration": 39,
    "start_time": "2022-05-04T17:26:37.937Z"
   },
   {
    "duration": 18,
    "start_time": "2022-05-04T17:26:56.875Z"
   },
   {
    "duration": 12,
    "start_time": "2022-05-04T17:29:16.692Z"
   },
   {
    "duration": 9,
    "start_time": "2022-05-04T17:30:18.817Z"
   },
   {
    "duration": 8,
    "start_time": "2022-05-04T17:30:27.815Z"
   },
   {
    "duration": 8,
    "start_time": "2022-05-04T17:30:43.534Z"
   },
   {
    "duration": 9,
    "start_time": "2022-05-04T17:30:54.219Z"
   },
   {
    "duration": 18,
    "start_time": "2022-05-04T17:32:07.271Z"
   },
   {
    "duration": 13,
    "start_time": "2022-05-04T17:32:28.550Z"
   },
   {
    "duration": 8,
    "start_time": "2022-05-04T17:35:11.601Z"
   },
   {
    "duration": 9,
    "start_time": "2022-05-04T17:35:24.510Z"
   },
   {
    "duration": 8,
    "start_time": "2022-05-04T17:35:35.795Z"
   },
   {
    "duration": 14,
    "start_time": "2022-05-04T17:35:46.263Z"
   },
   {
    "duration": 13,
    "start_time": "2022-05-04T17:36:07.261Z"
   },
   {
    "duration": 10,
    "start_time": "2022-05-04T17:36:18.595Z"
   },
   {
    "duration": 32,
    "start_time": "2022-05-04T17:37:19.664Z"
   },
   {
    "duration": 34,
    "start_time": "2022-05-04T17:37:45.421Z"
   },
   {
    "duration": 27,
    "start_time": "2022-05-04T17:38:23.683Z"
   },
   {
    "duration": 21,
    "start_time": "2022-05-04T17:39:45.725Z"
   },
   {
    "duration": 17,
    "start_time": "2022-05-04T17:40:04.719Z"
   },
   {
    "duration": 15,
    "start_time": "2022-05-04T17:40:28.860Z"
   },
   {
    "duration": 25,
    "start_time": "2022-05-04T17:40:57.868Z"
   },
   {
    "duration": 35,
    "start_time": "2022-05-04T17:44:16.506Z"
   },
   {
    "duration": 25,
    "start_time": "2022-05-04T17:44:35.644Z"
   },
   {
    "duration": 28,
    "start_time": "2022-05-04T17:45:02.796Z"
   },
   {
    "duration": 30,
    "start_time": "2022-05-04T17:45:38.623Z"
   },
   {
    "duration": 25,
    "start_time": "2022-05-04T17:45:55.409Z"
   },
   {
    "duration": 17,
    "start_time": "2022-05-04T17:47:16.060Z"
   },
   {
    "duration": 21,
    "start_time": "2022-05-04T17:47:53.157Z"
   },
   {
    "duration": 25,
    "start_time": "2022-05-04T17:48:04.430Z"
   },
   {
    "duration": 24,
    "start_time": "2022-05-04T17:50:20.691Z"
   },
   {
    "duration": 27,
    "start_time": "2022-05-04T17:52:44.328Z"
   },
   {
    "duration": 128,
    "start_time": "2022-05-04T17:53:33.159Z"
   },
   {
    "duration": 132,
    "start_time": "2022-05-04T17:53:38.276Z"
   },
   {
    "duration": 21,
    "start_time": "2022-05-04T17:53:55.237Z"
   },
   {
    "duration": 20,
    "start_time": "2022-05-04T17:53:57.249Z"
   },
   {
    "duration": 21,
    "start_time": "2022-05-04T17:54:11.081Z"
   },
   {
    "duration": 26,
    "start_time": "2022-05-04T17:55:03.986Z"
   },
   {
    "duration": 28,
    "start_time": "2022-05-04T17:55:27.583Z"
   },
   {
    "duration": 33,
    "start_time": "2022-05-04T17:55:42.525Z"
   },
   {
    "duration": 44,
    "start_time": "2022-05-04T17:55:49.111Z"
   },
   {
    "duration": 26,
    "start_time": "2022-05-04T17:58:43.074Z"
   },
   {
    "duration": 23,
    "start_time": "2022-05-04T17:59:03.072Z"
   },
   {
    "duration": 37,
    "start_time": "2022-05-04T18:02:58.400Z"
   },
   {
    "duration": 40,
    "start_time": "2022-05-04T18:03:12.139Z"
   },
   {
    "duration": 34,
    "start_time": "2022-05-04T18:03:31.888Z"
   },
   {
    "duration": 149,
    "start_time": "2022-05-04T18:03:40.557Z"
   },
   {
    "duration": 42,
    "start_time": "2022-05-04T18:03:40.709Z"
   },
   {
    "duration": 4,
    "start_time": "2022-05-04T18:03:40.752Z"
   },
   {
    "duration": 6,
    "start_time": "2022-05-04T18:03:40.759Z"
   },
   {
    "duration": 8,
    "start_time": "2022-05-04T18:03:40.766Z"
   },
   {
    "duration": 9,
    "start_time": "2022-05-04T18:03:40.776Z"
   },
   {
    "duration": 7,
    "start_time": "2022-05-04T18:03:40.787Z"
   },
   {
    "duration": 9,
    "start_time": "2022-05-04T18:03:40.795Z"
   },
   {
    "duration": 27,
    "start_time": "2022-05-04T18:03:40.805Z"
   },
   {
    "duration": 3,
    "start_time": "2022-05-04T18:03:40.836Z"
   },
   {
    "duration": 5,
    "start_time": "2022-05-04T18:03:40.841Z"
   },
   {
    "duration": 15,
    "start_time": "2022-05-04T18:03:40.848Z"
   },
   {
    "duration": 8,
    "start_time": "2022-05-04T18:03:40.864Z"
   },
   {
    "duration": 359,
    "start_time": "2022-05-04T18:03:40.873Z"
   },
   {
    "duration": 233,
    "start_time": "2022-05-04T18:03:41.234Z"
   },
   {
    "duration": 230,
    "start_time": "2022-05-04T18:03:41.469Z"
   },
   {
    "duration": 216,
    "start_time": "2022-05-04T18:03:41.700Z"
   },
   {
    "duration": 161,
    "start_time": "2022-05-04T18:03:41.917Z"
   },
   {
    "duration": 165,
    "start_time": "2022-05-04T18:03:42.080Z"
   },
   {
    "duration": 220,
    "start_time": "2022-05-04T18:03:42.246Z"
   },
   {
    "duration": 115,
    "start_time": "2022-05-04T18:03:42.468Z"
   },
   {
    "duration": 124,
    "start_time": "2022-05-04T18:03:42.584Z"
   },
   {
    "duration": 121,
    "start_time": "2022-05-04T18:03:42.709Z"
   },
   {
    "duration": 127,
    "start_time": "2022-05-04T18:03:42.832Z"
   },
   {
    "duration": 121,
    "start_time": "2022-05-04T18:03:42.960Z"
   },
   {
    "duration": 30,
    "start_time": "2022-05-04T18:03:46.187Z"
   },
   {
    "duration": 43,
    "start_time": "2022-05-04T18:04:10.953Z"
   },
   {
    "duration": 45,
    "start_time": "2022-05-04T18:06:15.120Z"
   },
   {
    "duration": 52,
    "start_time": "2022-05-04T18:06:26.901Z"
   },
   {
    "duration": 83,
    "start_time": "2022-05-04T18:31:27.875Z"
   },
   {
    "duration": 62,
    "start_time": "2022-05-04T18:53:20.146Z"
   },
   {
    "duration": 1205,
    "start_time": "2022-05-04T18:53:27.556Z"
   },
   {
    "duration": 46,
    "start_time": "2022-05-04T18:53:28.763Z"
   },
   {
    "duration": 5,
    "start_time": "2022-05-04T18:53:28.810Z"
   },
   {
    "duration": 7,
    "start_time": "2022-05-04T18:53:28.817Z"
   },
   {
    "duration": 8,
    "start_time": "2022-05-04T18:53:28.827Z"
   },
   {
    "duration": 5,
    "start_time": "2022-05-04T18:53:28.837Z"
   },
   {
    "duration": 4,
    "start_time": "2022-05-04T18:53:28.844Z"
   },
   {
    "duration": 8,
    "start_time": "2022-05-04T18:53:28.850Z"
   },
   {
    "duration": 43,
    "start_time": "2022-05-04T18:53:28.860Z"
   },
   {
    "duration": 3,
    "start_time": "2022-05-04T18:53:28.905Z"
   },
   {
    "duration": 6,
    "start_time": "2022-05-04T18:53:28.909Z"
   },
   {
    "duration": 23,
    "start_time": "2022-05-04T18:53:28.916Z"
   },
   {
    "duration": 8,
    "start_time": "2022-05-04T18:53:28.941Z"
   },
   {
    "duration": 406,
    "start_time": "2022-05-04T18:53:28.952Z"
   },
   {
    "duration": 308,
    "start_time": "2022-05-04T18:53:29.360Z"
   },
   {
    "duration": 261,
    "start_time": "2022-05-04T18:53:29.670Z"
   },
   {
    "duration": 267,
    "start_time": "2022-05-04T18:53:29.933Z"
   },
   {
    "duration": 192,
    "start_time": "2022-05-04T18:53:30.202Z"
   },
   {
    "duration": 184,
    "start_time": "2022-05-04T18:53:30.396Z"
   },
   {
    "duration": 238,
    "start_time": "2022-05-04T18:53:30.582Z"
   },
   {
    "duration": 140,
    "start_time": "2022-05-04T18:53:30.822Z"
   },
   {
    "duration": 148,
    "start_time": "2022-05-04T18:53:30.964Z"
   },
   {
    "duration": 191,
    "start_time": "2022-05-04T18:53:31.113Z"
   },
   {
    "duration": 136,
    "start_time": "2022-05-04T18:53:31.306Z"
   },
   {
    "duration": 132,
    "start_time": "2022-05-04T18:53:31.443Z"
   },
   {
    "duration": 59,
    "start_time": "2022-05-04T18:53:31.577Z"
   },
   {
    "duration": 65,
    "start_time": "2022-05-04T18:53:31.638Z"
   },
   {
    "duration": 713,
    "start_time": "2022-05-04T18:53:34.094Z"
   },
   {
    "duration": 206,
    "start_time": "2022-05-04T19:11:18.214Z"
   },
   {
    "duration": 181,
    "start_time": "2022-05-04T19:13:10.641Z"
   },
   {
    "duration": 157,
    "start_time": "2022-05-04T19:13:32.679Z"
   },
   {
    "duration": 28707,
    "start_time": "2022-05-04T19:24:34.540Z"
   },
   {
    "duration": 29025,
    "start_time": "2022-05-04T19:25:10.368Z"
   },
   {
    "duration": 182,
    "start_time": "2022-05-04T19:26:24.716Z"
   },
   {
    "duration": 137,
    "start_time": "2022-05-04T19:27:33.344Z"
   },
   {
    "duration": 155,
    "start_time": "2022-05-04T19:29:49.669Z"
   },
   {
    "duration": 152,
    "start_time": "2022-05-04T19:30:54.117Z"
   },
   {
    "duration": 157,
    "start_time": "2022-05-04T19:31:15.137Z"
   },
   {
    "duration": 1888,
    "start_time": "2022-05-04T19:31:29.618Z"
   },
   {
    "duration": 152,
    "start_time": "2022-05-04T19:34:14.739Z"
   },
   {
    "duration": 194,
    "start_time": "2022-05-04T19:35:10.738Z"
   },
   {
    "duration": 2554,
    "start_time": "2022-05-04T19:35:58.064Z"
   },
   {
    "duration": 623,
    "start_time": "2022-05-04T19:36:08.203Z"
   },
   {
    "duration": 460,
    "start_time": "2022-05-04T19:36:23.324Z"
   },
   {
    "duration": 12,
    "start_time": "2022-05-04T19:37:11.452Z"
   },
   {
    "duration": 529,
    "start_time": "2022-05-04T19:37:24.175Z"
   },
   {
    "duration": 13,
    "start_time": "2022-05-04T19:38:00.472Z"
   },
   {
    "duration": 430,
    "start_time": "2022-05-04T19:38:52.725Z"
   },
   {
    "duration": 84,
    "start_time": "2022-05-04T19:39:52.939Z"
   },
   {
    "duration": 55,
    "start_time": "2022-05-04T19:42:29.312Z"
   },
   {
    "duration": 16,
    "start_time": "2022-05-04T19:45:17.056Z"
   },
   {
    "duration": 183,
    "start_time": "2022-05-04T19:45:29.735Z"
   },
   {
    "duration": 31,
    "start_time": "2022-05-04T19:45:29.919Z"
   },
   {
    "duration": 4,
    "start_time": "2022-05-04T19:45:29.952Z"
   },
   {
    "duration": 9,
    "start_time": "2022-05-04T19:45:29.958Z"
   },
   {
    "duration": 6,
    "start_time": "2022-05-04T19:45:29.968Z"
   },
   {
    "duration": 19,
    "start_time": "2022-05-04T19:45:29.975Z"
   },
   {
    "duration": 11,
    "start_time": "2022-05-04T19:45:29.995Z"
   },
   {
    "duration": 13,
    "start_time": "2022-05-04T19:45:30.008Z"
   },
   {
    "duration": 19,
    "start_time": "2022-05-04T19:45:30.023Z"
   },
   {
    "duration": 3,
    "start_time": "2022-05-04T19:45:30.045Z"
   },
   {
    "duration": 8,
    "start_time": "2022-05-04T19:45:30.050Z"
   },
   {
    "duration": 23,
    "start_time": "2022-05-04T19:45:30.060Z"
   },
   {
    "duration": 8,
    "start_time": "2022-05-04T19:45:30.093Z"
   },
   {
    "duration": 362,
    "start_time": "2022-05-04T19:45:30.103Z"
   },
   {
    "duration": 244,
    "start_time": "2022-05-04T19:45:30.467Z"
   },
   {
    "duration": 255,
    "start_time": "2022-05-04T19:45:30.713Z"
   },
   {
    "duration": 243,
    "start_time": "2022-05-04T19:45:30.970Z"
   },
   {
    "duration": 175,
    "start_time": "2022-05-04T19:45:31.215Z"
   },
   {
    "duration": 169,
    "start_time": "2022-05-04T19:45:31.392Z"
   },
   {
    "duration": 245,
    "start_time": "2022-05-04T19:45:31.562Z"
   },
   {
    "duration": 136,
    "start_time": "2022-05-04T19:45:31.808Z"
   },
   {
    "duration": 133,
    "start_time": "2022-05-04T19:45:31.946Z"
   },
   {
    "duration": 121,
    "start_time": "2022-05-04T19:45:32.080Z"
   },
   {
    "duration": 132,
    "start_time": "2022-05-04T19:45:32.203Z"
   },
   {
    "duration": 116,
    "start_time": "2022-05-04T19:45:32.336Z"
   },
   {
    "duration": 64,
    "start_time": "2022-05-04T19:45:32.453Z"
   },
   {
    "duration": 57,
    "start_time": "2022-05-04T19:45:32.519Z"
   },
   {
    "duration": 20,
    "start_time": "2022-05-04T19:45:34.430Z"
   },
   {
    "duration": 25,
    "start_time": "2022-05-04T19:49:21.337Z"
   },
   {
    "duration": 25,
    "start_time": "2022-05-04T19:49:34.747Z"
   },
   {
    "duration": 138,
    "start_time": "2022-05-04T19:53:27.243Z"
   },
   {
    "duration": 12,
    "start_time": "2022-05-04T19:55:51.181Z"
   },
   {
    "duration": 7,
    "start_time": "2022-05-04T19:55:57.836Z"
   },
   {
    "duration": 24,
    "start_time": "2022-05-04T19:56:09.946Z"
   },
   {
    "duration": 124,
    "start_time": "2022-05-04T20:04:55.063Z"
   },
   {
    "duration": 9,
    "start_time": "2022-05-04T20:05:02.857Z"
   },
   {
    "duration": 7,
    "start_time": "2022-05-04T20:18:32.809Z"
   },
   {
    "duration": 7,
    "start_time": "2022-05-04T20:18:55.237Z"
   },
   {
    "duration": 8,
    "start_time": "2022-05-04T20:19:07.634Z"
   },
   {
    "duration": 7,
    "start_time": "2022-05-04T20:19:14.789Z"
   },
   {
    "duration": 14,
    "start_time": "2022-05-04T20:21:43.561Z"
   },
   {
    "duration": 6,
    "start_time": "2022-05-04T20:21:54.328Z"
   },
   {
    "duration": 45,
    "start_time": "2022-05-04T20:25:27.557Z"
   },
   {
    "duration": 43,
    "start_time": "2022-05-04T20:25:59.378Z"
   },
   {
    "duration": 178,
    "start_time": "2022-05-04T20:26:09.920Z"
   },
   {
    "duration": 32,
    "start_time": "2022-05-04T20:26:10.100Z"
   },
   {
    "duration": 4,
    "start_time": "2022-05-04T20:26:10.134Z"
   },
   {
    "duration": 6,
    "start_time": "2022-05-04T20:26:10.140Z"
   },
   {
    "duration": 8,
    "start_time": "2022-05-04T20:26:10.148Z"
   },
   {
    "duration": 5,
    "start_time": "2022-05-04T20:26:10.157Z"
   },
   {
    "duration": 30,
    "start_time": "2022-05-04T20:26:10.164Z"
   },
   {
    "duration": 9,
    "start_time": "2022-05-04T20:26:10.195Z"
   },
   {
    "duration": 15,
    "start_time": "2022-05-04T20:26:10.205Z"
   },
   {
    "duration": 4,
    "start_time": "2022-05-04T20:26:10.222Z"
   },
   {
    "duration": 8,
    "start_time": "2022-05-04T20:26:10.227Z"
   },
   {
    "duration": 19,
    "start_time": "2022-05-04T20:26:10.237Z"
   },
   {
    "duration": 8,
    "start_time": "2022-05-04T20:26:10.257Z"
   },
   {
    "duration": 357,
    "start_time": "2022-05-04T20:26:10.266Z"
   },
   {
    "duration": 245,
    "start_time": "2022-05-04T20:26:10.624Z"
   },
   {
    "duration": 246,
    "start_time": "2022-05-04T20:26:10.872Z"
   },
   {
    "duration": 233,
    "start_time": "2022-05-04T20:26:11.120Z"
   },
   {
    "duration": 172,
    "start_time": "2022-05-04T20:26:11.354Z"
   },
   {
    "duration": 169,
    "start_time": "2022-05-04T20:26:11.527Z"
   },
   {
    "duration": 230,
    "start_time": "2022-05-04T20:26:11.698Z"
   },
   {
    "duration": 123,
    "start_time": "2022-05-04T20:26:11.930Z"
   },
   {
    "duration": 127,
    "start_time": "2022-05-04T20:26:12.055Z"
   },
   {
    "duration": 122,
    "start_time": "2022-05-04T20:26:12.183Z"
   },
   {
    "duration": 129,
    "start_time": "2022-05-04T20:26:12.307Z"
   },
   {
    "duration": 111,
    "start_time": "2022-05-04T20:26:12.438Z"
   },
   {
    "duration": 42,
    "start_time": "2022-05-04T20:26:14.623Z"
   },
   {
    "duration": 1152,
    "start_time": "2022-05-04T20:27:09.947Z"
   },
   {
    "duration": 47,
    "start_time": "2022-05-04T20:27:11.102Z"
   },
   {
    "duration": 7,
    "start_time": "2022-05-04T20:27:11.151Z"
   },
   {
    "duration": 5,
    "start_time": "2022-05-04T20:27:11.162Z"
   },
   {
    "duration": 24,
    "start_time": "2022-05-04T20:27:11.169Z"
   },
   {
    "duration": 6,
    "start_time": "2022-05-04T20:27:11.195Z"
   },
   {
    "duration": 6,
    "start_time": "2022-05-04T20:27:11.203Z"
   },
   {
    "duration": 8,
    "start_time": "2022-05-04T20:27:11.211Z"
   },
   {
    "duration": 15,
    "start_time": "2022-05-04T20:27:11.220Z"
   },
   {
    "duration": 4,
    "start_time": "2022-05-04T20:27:11.238Z"
   },
   {
    "duration": 6,
    "start_time": "2022-05-04T20:27:11.244Z"
   },
   {
    "duration": 51,
    "start_time": "2022-05-04T20:27:11.252Z"
   },
   {
    "duration": 8,
    "start_time": "2022-05-04T20:27:11.304Z"
   },
   {
    "duration": 377,
    "start_time": "2022-05-04T20:27:11.313Z"
   },
   {
    "duration": 299,
    "start_time": "2022-05-04T20:27:11.692Z"
   },
   {
    "duration": 236,
    "start_time": "2022-05-04T20:27:11.993Z"
   },
   {
    "duration": 225,
    "start_time": "2022-05-04T20:27:12.230Z"
   },
   {
    "duration": 173,
    "start_time": "2022-05-04T20:27:12.457Z"
   },
   {
    "duration": 239,
    "start_time": "2022-05-04T20:27:12.632Z"
   },
   {
    "duration": 321,
    "start_time": "2022-05-04T20:27:12.873Z"
   },
   {
    "duration": 196,
    "start_time": "2022-05-04T20:27:13.196Z"
   },
   {
    "duration": 200,
    "start_time": "2022-05-04T20:27:13.394Z"
   },
   {
    "duration": 176,
    "start_time": "2022-05-04T20:27:13.596Z"
   },
   {
    "duration": 127,
    "start_time": "2022-05-04T20:27:13.774Z"
   },
   {
    "duration": 121,
    "start_time": "2022-05-04T20:27:13.903Z"
   },
   {
    "duration": 43,
    "start_time": "2022-05-04T20:27:14.026Z"
   },
   {
    "duration": 72,
    "start_time": "2022-05-04T20:27:14.072Z"
   },
   {
    "duration": 25,
    "start_time": "2022-05-04T20:27:14.148Z"
   },
   {
    "duration": 24,
    "start_time": "2022-05-04T20:27:14.174Z"
   },
   {
    "duration": 73,
    "start_time": "2022-05-04T20:31:49.890Z"
   },
   {
    "duration": 20,
    "start_time": "2022-05-04T20:31:57.377Z"
   },
   {
    "duration": 21,
    "start_time": "2022-05-04T20:32:08.565Z"
   },
   {
    "duration": 22,
    "start_time": "2022-05-04T20:32:26.627Z"
   },
   {
    "duration": 27,
    "start_time": "2022-05-04T20:33:01.307Z"
   },
   {
    "duration": 22,
    "start_time": "2022-05-04T20:33:33.334Z"
   },
   {
    "duration": 23,
    "start_time": "2022-05-04T20:33:55.115Z"
   },
   {
    "duration": 24,
    "start_time": "2022-05-04T20:34:07.616Z"
   },
   {
    "duration": 23,
    "start_time": "2022-05-04T20:35:05.799Z"
   },
   {
    "duration": 23,
    "start_time": "2022-05-04T20:35:45.598Z"
   },
   {
    "duration": 21,
    "start_time": "2022-05-04T20:35:55.350Z"
   },
   {
    "duration": 21,
    "start_time": "2022-05-04T20:39:20.377Z"
   },
   {
    "duration": 29,
    "start_time": "2022-05-04T20:40:38.568Z"
   },
   {
    "duration": 23,
    "start_time": "2022-05-04T20:41:02.001Z"
   },
   {
    "duration": 8,
    "start_time": "2022-05-04T20:41:05.501Z"
   },
   {
    "duration": 31,
    "start_time": "2022-05-04T20:42:06.545Z"
   },
   {
    "duration": 23,
    "start_time": "2022-05-04T20:42:14.191Z"
   },
   {
    "duration": 8,
    "start_time": "2022-05-04T20:42:16.238Z"
   },
   {
    "duration": 7,
    "start_time": "2022-05-04T20:44:02.448Z"
   },
   {
    "duration": 14,
    "start_time": "2022-05-04T20:47:38.256Z"
   },
   {
    "duration": 182,
    "start_time": "2022-05-04T20:49:01.929Z"
   },
   {
    "duration": 34,
    "start_time": "2022-05-04T20:49:02.113Z"
   },
   {
    "duration": 4,
    "start_time": "2022-05-04T20:49:02.149Z"
   },
   {
    "duration": 12,
    "start_time": "2022-05-04T20:49:02.155Z"
   },
   {
    "duration": 27,
    "start_time": "2022-05-04T20:49:02.168Z"
   },
   {
    "duration": 20,
    "start_time": "2022-05-04T20:49:02.197Z"
   },
   {
    "duration": 27,
    "start_time": "2022-05-04T20:49:02.219Z"
   },
   {
    "duration": 19,
    "start_time": "2022-05-04T20:49:02.248Z"
   },
   {
    "duration": 29,
    "start_time": "2022-05-04T20:49:02.269Z"
   },
   {
    "duration": 14,
    "start_time": "2022-05-04T20:49:02.301Z"
   },
   {
    "duration": 10,
    "start_time": "2022-05-04T20:49:02.316Z"
   },
   {
    "duration": 19,
    "start_time": "2022-05-04T20:49:02.327Z"
   },
   {
    "duration": 8,
    "start_time": "2022-05-04T20:49:02.348Z"
   },
   {
    "duration": 477,
    "start_time": "2022-05-04T20:49:02.357Z"
   },
   {
    "duration": 238,
    "start_time": "2022-05-04T20:49:02.835Z"
   },
   {
    "duration": 253,
    "start_time": "2022-05-04T20:49:03.075Z"
   },
   {
    "duration": 322,
    "start_time": "2022-05-04T20:49:03.330Z"
   },
   {
    "duration": 177,
    "start_time": "2022-05-04T20:49:03.654Z"
   },
   {
    "duration": 166,
    "start_time": "2022-05-04T20:49:03.833Z"
   },
   {
    "duration": 235,
    "start_time": "2022-05-04T20:49:04.001Z"
   },
   {
    "duration": 130,
    "start_time": "2022-05-04T20:49:04.238Z"
   },
   {
    "duration": 135,
    "start_time": "2022-05-04T20:49:04.370Z"
   },
   {
    "duration": 117,
    "start_time": "2022-05-04T20:49:04.507Z"
   },
   {
    "duration": 118,
    "start_time": "2022-05-04T20:49:04.626Z"
   },
   {
    "duration": 116,
    "start_time": "2022-05-04T20:49:04.746Z"
   },
   {
    "duration": 54,
    "start_time": "2022-05-04T20:49:04.864Z"
   },
   {
    "duration": 53,
    "start_time": "2022-05-04T20:49:04.920Z"
   },
   {
    "duration": 37,
    "start_time": "2022-05-04T20:49:04.976Z"
   },
   {
    "duration": 20,
    "start_time": "2022-05-04T20:49:05.015Z"
   },
   {
    "duration": 7,
    "start_time": "2022-05-04T20:49:05.037Z"
   },
   {
    "duration": 531,
    "start_time": "2022-05-04T20:49:07.005Z"
   },
   {
    "duration": 13,
    "start_time": "2022-05-04T21:32:25.204Z"
   },
   {
    "duration": 20,
    "start_time": "2022-05-04T21:35:17.203Z"
   },
   {
    "duration": 26,
    "start_time": "2022-05-04T21:37:18.529Z"
   },
   {
    "duration": 582,
    "start_time": "2022-05-04T21:38:23.688Z"
   },
   {
    "duration": 576,
    "start_time": "2022-05-04T21:38:32.639Z"
   },
   {
    "duration": 25,
    "start_time": "2022-05-05T16:47:01.395Z"
   },
   {
    "duration": 25,
    "start_time": "2022-05-05T16:47:16.490Z"
   },
   {
    "duration": 25,
    "start_time": "2022-05-05T16:47:36.943Z"
   },
   {
    "duration": 27,
    "start_time": "2022-05-05T16:48:03.853Z"
   },
   {
    "duration": 3298,
    "start_time": "2022-05-05T16:48:28.254Z"
   },
   {
    "duration": 26,
    "start_time": "2022-05-05T16:48:52.475Z"
   },
   {
    "duration": 28,
    "start_time": "2022-05-05T16:49:08.131Z"
   },
   {
    "duration": 55,
    "start_time": "2022-05-05T16:51:41.158Z"
   },
   {
    "duration": 34,
    "start_time": "2022-05-05T16:52:08.004Z"
   },
   {
    "duration": 24,
    "start_time": "2022-05-05T16:52:57.899Z"
   },
   {
    "duration": 260,
    "start_time": "2022-05-05T16:54:39.254Z"
   },
   {
    "duration": 246,
    "start_time": "2022-05-05T16:55:14.655Z"
   },
   {
    "duration": 17,
    "start_time": "2022-05-05T17:04:33.060Z"
   },
   {
    "duration": 278,
    "start_time": "2022-05-05T17:04:38.559Z"
   },
   {
    "duration": 257,
    "start_time": "2022-05-05T17:05:18.148Z"
   },
   {
    "duration": 248,
    "start_time": "2022-05-05T17:05:29.514Z"
   },
   {
    "duration": 263,
    "start_time": "2022-05-05T17:06:40.753Z"
   },
   {
    "duration": 240,
    "start_time": "2022-05-05T18:26:56.925Z"
   },
   {
    "duration": 8,
    "start_time": "2022-05-05T18:28:41.512Z"
   },
   {
    "duration": 390,
    "start_time": "2022-05-05T18:31:18.905Z"
   },
   {
    "duration": 228,
    "start_time": "2022-05-05T18:31:37.881Z"
   },
   {
    "duration": 349,
    "start_time": "2022-05-05T18:31:46.405Z"
   },
   {
    "duration": 233,
    "start_time": "2022-05-05T18:31:56.253Z"
   },
   {
    "duration": 243,
    "start_time": "2022-05-05T18:36:07.598Z"
   },
   {
    "duration": 372,
    "start_time": "2022-05-05T18:36:22.720Z"
   },
   {
    "duration": 247,
    "start_time": "2022-05-05T18:36:29.275Z"
   },
   {
    "duration": 241,
    "start_time": "2022-05-05T18:36:38.754Z"
   },
   {
    "duration": 172,
    "start_time": "2022-05-05T18:40:24.544Z"
   },
   {
    "duration": 4,
    "start_time": "2022-05-05T18:43:31.709Z"
   },
   {
    "duration": 168,
    "start_time": "2022-05-05T18:44:50.683Z"
   },
   {
    "duration": 272,
    "start_time": "2022-05-05T18:45:08.886Z"
   },
   {
    "duration": 34,
    "start_time": "2022-05-05T18:53:00.931Z"
   },
   {
    "duration": 21,
    "start_time": "2022-05-05T19:02:42.036Z"
   },
   {
    "duration": 197,
    "start_time": "2022-05-05T19:04:24.471Z"
   },
   {
    "duration": 238,
    "start_time": "2022-05-05T19:12:30.259Z"
   },
   {
    "duration": 44,
    "start_time": "2022-05-05T19:12:30.500Z"
   },
   {
    "duration": 5,
    "start_time": "2022-05-05T19:12:30.546Z"
   },
   {
    "duration": 13,
    "start_time": "2022-05-05T19:12:30.554Z"
   },
   {
    "duration": 26,
    "start_time": "2022-05-05T19:12:30.569Z"
   },
   {
    "duration": 87,
    "start_time": "2022-05-05T19:12:30.597Z"
   },
   {
    "duration": 24,
    "start_time": "2022-05-05T19:12:30.686Z"
   },
   {
    "duration": 30,
    "start_time": "2022-05-05T19:12:30.712Z"
   },
   {
    "duration": 32,
    "start_time": "2022-05-05T19:12:30.744Z"
   },
   {
    "duration": 10,
    "start_time": "2022-05-05T19:12:30.780Z"
   },
   {
    "duration": 27,
    "start_time": "2022-05-05T19:12:30.791Z"
   },
   {
    "duration": 36,
    "start_time": "2022-05-05T19:12:30.820Z"
   },
   {
    "duration": 9,
    "start_time": "2022-05-05T19:12:30.858Z"
   },
   {
    "duration": 374,
    "start_time": "2022-05-05T19:12:30.869Z"
   },
   {
    "duration": 367,
    "start_time": "2022-05-05T19:12:31.245Z"
   },
   {
    "duration": 245,
    "start_time": "2022-05-05T19:12:31.613Z"
   },
   {
    "duration": 245,
    "start_time": "2022-05-05T19:12:31.860Z"
   },
   {
    "duration": 180,
    "start_time": "2022-05-05T19:12:32.107Z"
   },
   {
    "duration": 168,
    "start_time": "2022-05-05T19:12:32.289Z"
   },
   {
    "duration": 248,
    "start_time": "2022-05-05T19:12:32.459Z"
   },
   {
    "duration": 140,
    "start_time": "2022-05-05T19:12:32.709Z"
   },
   {
    "duration": 142,
    "start_time": "2022-05-05T19:12:32.851Z"
   },
   {
    "duration": 129,
    "start_time": "2022-05-05T19:12:32.994Z"
   },
   {
    "duration": 130,
    "start_time": "2022-05-05T19:12:33.125Z"
   },
   {
    "duration": 123,
    "start_time": "2022-05-05T19:12:33.257Z"
   },
   {
    "duration": 61,
    "start_time": "2022-05-05T19:12:33.382Z"
   },
   {
    "duration": 57,
    "start_time": "2022-05-05T19:12:33.445Z"
   },
   {
    "duration": 39,
    "start_time": "2022-05-05T19:12:33.505Z"
   },
   {
    "duration": 23,
    "start_time": "2022-05-05T19:12:33.545Z"
   },
   {
    "duration": 8,
    "start_time": "2022-05-05T19:12:33.570Z"
   },
   {
    "duration": 378,
    "start_time": "2022-05-05T19:12:35.303Z"
   },
   {
    "duration": 227,
    "start_time": "2022-05-05T19:16:49.489Z"
   },
   {
    "duration": 202,
    "start_time": "2022-05-05T19:16:56.457Z"
   },
   {
    "duration": 34,
    "start_time": "2022-05-05T19:16:56.662Z"
   },
   {
    "duration": 26,
    "start_time": "2022-05-05T19:16:56.699Z"
   },
   {
    "duration": 8,
    "start_time": "2022-05-05T19:16:56.727Z"
   },
   {
    "duration": 7,
    "start_time": "2022-05-05T19:16:56.738Z"
   },
   {
    "duration": 5,
    "start_time": "2022-05-05T19:16:56.747Z"
   },
   {
    "duration": 4,
    "start_time": "2022-05-05T19:16:56.754Z"
   },
   {
    "duration": 9,
    "start_time": "2022-05-05T19:16:56.760Z"
   },
   {
    "duration": 65,
    "start_time": "2022-05-05T19:16:56.771Z"
   },
   {
    "duration": 5,
    "start_time": "2022-05-05T19:16:56.838Z"
   },
   {
    "duration": 4,
    "start_time": "2022-05-05T19:16:56.845Z"
   },
   {
    "duration": 15,
    "start_time": "2022-05-05T19:16:56.851Z"
   },
   {
    "duration": 8,
    "start_time": "2022-05-05T19:16:56.868Z"
   },
   {
    "duration": 383,
    "start_time": "2022-05-05T19:16:56.879Z"
   },
   {
    "duration": 243,
    "start_time": "2022-05-05T19:16:57.264Z"
   },
   {
    "duration": 253,
    "start_time": "2022-05-05T19:16:57.509Z"
   },
   {
    "duration": 244,
    "start_time": "2022-05-05T19:16:57.764Z"
   },
   {
    "duration": 189,
    "start_time": "2022-05-05T19:16:58.009Z"
   },
   {
    "duration": 190,
    "start_time": "2022-05-05T19:16:58.200Z"
   },
   {
    "duration": 285,
    "start_time": "2022-05-05T19:16:58.392Z"
   },
   {
    "duration": 147,
    "start_time": "2022-05-05T19:16:58.680Z"
   },
   {
    "duration": 145,
    "start_time": "2022-05-05T19:16:58.829Z"
   },
   {
    "duration": 291,
    "start_time": "2022-05-05T19:16:58.976Z"
   },
   {
    "duration": 130,
    "start_time": "2022-05-05T19:16:59.269Z"
   },
   {
    "duration": 128,
    "start_time": "2022-05-05T19:16:59.401Z"
   },
   {
    "duration": 43,
    "start_time": "2022-05-05T19:16:59.531Z"
   },
   {
    "duration": 77,
    "start_time": "2022-05-05T19:16:59.576Z"
   },
   {
    "duration": 25,
    "start_time": "2022-05-05T19:16:59.654Z"
   },
   {
    "duration": 48,
    "start_time": "2022-05-05T19:16:59.680Z"
   },
   {
    "duration": 8,
    "start_time": "2022-05-05T19:16:59.730Z"
   },
   {
    "duration": 225,
    "start_time": "2022-05-05T19:17:01.271Z"
   },
   {
    "duration": 7,
    "start_time": "2022-05-05T19:18:16.561Z"
   },
   {
    "duration": 227,
    "start_time": "2022-05-05T19:18:25.288Z"
   },
   {
    "duration": 35,
    "start_time": "2022-05-05T19:18:25.517Z"
   },
   {
    "duration": 4,
    "start_time": "2022-05-05T19:18:25.554Z"
   },
   {
    "duration": 17,
    "start_time": "2022-05-05T19:18:25.561Z"
   },
   {
    "duration": 16,
    "start_time": "2022-05-05T19:18:25.580Z"
   },
   {
    "duration": 5,
    "start_time": "2022-05-05T19:18:25.598Z"
   },
   {
    "duration": 18,
    "start_time": "2022-05-05T19:18:25.605Z"
   },
   {
    "duration": 8,
    "start_time": "2022-05-05T19:18:25.625Z"
   },
   {
    "duration": 18,
    "start_time": "2022-05-05T19:18:25.635Z"
   },
   {
    "duration": 4,
    "start_time": "2022-05-05T19:18:25.655Z"
   },
   {
    "duration": 5,
    "start_time": "2022-05-05T19:18:25.661Z"
   },
   {
    "duration": 18,
    "start_time": "2022-05-05T19:18:25.667Z"
   },
   {
    "duration": 41,
    "start_time": "2022-05-05T19:18:25.687Z"
   },
   {
    "duration": 370,
    "start_time": "2022-05-05T19:18:25.730Z"
   },
   {
    "duration": 251,
    "start_time": "2022-05-05T19:18:26.102Z"
   },
   {
    "duration": 256,
    "start_time": "2022-05-05T19:18:26.354Z"
   },
   {
    "duration": 241,
    "start_time": "2022-05-05T19:18:26.612Z"
   },
   {
    "duration": 183,
    "start_time": "2022-05-05T19:18:26.855Z"
   },
   {
    "duration": 175,
    "start_time": "2022-05-05T19:18:27.039Z"
   },
   {
    "duration": 249,
    "start_time": "2022-05-05T19:18:27.216Z"
   },
   {
    "duration": 140,
    "start_time": "2022-05-05T19:18:27.466Z"
   },
   {
    "duration": 143,
    "start_time": "2022-05-05T19:18:27.608Z"
   },
   {
    "duration": 116,
    "start_time": "2022-05-05T19:18:27.753Z"
   },
   {
    "duration": 330,
    "start_time": "2022-05-05T19:18:27.871Z"
   },
   {
    "duration": 133,
    "start_time": "2022-05-05T19:18:28.202Z"
   },
   {
    "duration": 42,
    "start_time": "2022-05-05T19:18:28.338Z"
   },
   {
    "duration": 82,
    "start_time": "2022-05-05T19:18:28.382Z"
   },
   {
    "duration": 26,
    "start_time": "2022-05-05T19:18:28.468Z"
   },
   {
    "duration": 40,
    "start_time": "2022-05-05T19:18:28.496Z"
   },
   {
    "duration": 9,
    "start_time": "2022-05-05T19:18:28.537Z"
   },
   {
    "duration": 267,
    "start_time": "2022-05-05T19:18:28.547Z"
   },
   {
    "duration": 12,
    "start_time": "2022-05-05T19:18:28.816Z"
   },
   {
    "duration": 240,
    "start_time": "2022-05-05T19:18:28.830Z"
   },
   {
    "duration": 256,
    "start_time": "2022-05-05T19:18:29.071Z"
   },
   {
    "duration": 182,
    "start_time": "2022-05-05T19:18:29.329Z"
   },
   {
    "duration": 175,
    "start_time": "2022-05-05T19:18:29.513Z"
   },
   {
    "duration": 43,
    "start_time": "2022-05-05T19:18:29.690Z"
   },
   {
    "duration": 268,
    "start_time": "2022-05-05T19:20:23.610Z"
   },
   {
    "duration": 226,
    "start_time": "2022-05-05T19:21:14.076Z"
   },
   {
    "duration": 42,
    "start_time": "2022-05-05T19:21:14.304Z"
   },
   {
    "duration": 4,
    "start_time": "2022-05-05T19:21:14.348Z"
   },
   {
    "duration": 6,
    "start_time": "2022-05-05T19:21:14.355Z"
   },
   {
    "duration": 6,
    "start_time": "2022-05-05T19:21:14.363Z"
   },
   {
    "duration": 6,
    "start_time": "2022-05-05T19:21:14.370Z"
   },
   {
    "duration": 4,
    "start_time": "2022-05-05T19:21:14.377Z"
   },
   {
    "duration": 45,
    "start_time": "2022-05-05T19:21:14.383Z"
   },
   {
    "duration": 17,
    "start_time": "2022-05-05T19:21:14.430Z"
   },
   {
    "duration": 3,
    "start_time": "2022-05-05T19:21:14.451Z"
   },
   {
    "duration": 6,
    "start_time": "2022-05-05T19:21:14.456Z"
   },
   {
    "duration": 18,
    "start_time": "2022-05-05T19:21:14.464Z"
   },
   {
    "duration": 45,
    "start_time": "2022-05-05T19:21:14.484Z"
   },
   {
    "duration": 373,
    "start_time": "2022-05-05T19:21:14.531Z"
   },
   {
    "duration": 261,
    "start_time": "2022-05-05T19:21:14.906Z"
   },
   {
    "duration": 263,
    "start_time": "2022-05-05T19:21:15.169Z"
   },
   {
    "duration": 249,
    "start_time": "2022-05-05T19:21:15.434Z"
   },
   {
    "duration": 190,
    "start_time": "2022-05-05T19:21:15.684Z"
   },
   {
    "duration": 198,
    "start_time": "2022-05-05T19:21:15.876Z"
   },
   {
    "duration": 256,
    "start_time": "2022-05-05T19:21:16.076Z"
   },
   {
    "duration": 370,
    "start_time": "2022-05-05T19:21:16.334Z"
   },
   {
    "duration": 152,
    "start_time": "2022-05-05T19:21:16.706Z"
   },
   {
    "duration": 126,
    "start_time": "2022-05-05T19:21:16.860Z"
   },
   {
    "duration": 147,
    "start_time": "2022-05-05T19:21:16.987Z"
   },
   {
    "duration": 133,
    "start_time": "2022-05-05T19:21:17.135Z"
   },
   {
    "duration": 54,
    "start_time": "2022-05-05T19:21:17.270Z"
   },
   {
    "duration": 57,
    "start_time": "2022-05-05T19:21:17.326Z"
   },
   {
    "duration": 57,
    "start_time": "2022-05-05T19:21:17.386Z"
   },
   {
    "duration": 9,
    "start_time": "2022-05-05T19:21:21.677Z"
   },
   {
    "duration": 247,
    "start_time": "2022-05-05T19:21:28.963Z"
   },
   {
    "duration": 240,
    "start_time": "2022-05-05T19:21:38.363Z"
   },
   {
    "duration": 214,
    "start_time": "2022-05-05T19:21:48.829Z"
   },
   {
    "duration": 34,
    "start_time": "2022-05-05T19:21:49.046Z"
   },
   {
    "duration": 5,
    "start_time": "2022-05-05T19:21:49.081Z"
   },
   {
    "duration": 35,
    "start_time": "2022-05-05T19:21:49.088Z"
   },
   {
    "duration": 6,
    "start_time": "2022-05-05T19:21:49.125Z"
   },
   {
    "duration": 8,
    "start_time": "2022-05-05T19:21:49.133Z"
   },
   {
    "duration": 4,
    "start_time": "2022-05-05T19:21:49.143Z"
   },
   {
    "duration": 8,
    "start_time": "2022-05-05T19:21:49.148Z"
   },
   {
    "duration": 16,
    "start_time": "2022-05-05T19:21:49.158Z"
   },
   {
    "duration": 3,
    "start_time": "2022-05-05T19:21:49.178Z"
   },
   {
    "duration": 5,
    "start_time": "2022-05-05T19:21:49.224Z"
   },
   {
    "duration": 21,
    "start_time": "2022-05-05T19:21:49.232Z"
   },
   {
    "duration": 10,
    "start_time": "2022-05-05T19:21:49.255Z"
   },
   {
    "duration": 394,
    "start_time": "2022-05-05T19:21:49.267Z"
   },
   {
    "duration": 295,
    "start_time": "2022-05-05T19:21:49.663Z"
   },
   {
    "duration": 244,
    "start_time": "2022-05-05T19:21:49.959Z"
   },
   {
    "duration": 241,
    "start_time": "2022-05-05T19:21:50.205Z"
   },
   {
    "duration": 178,
    "start_time": "2022-05-05T19:21:50.447Z"
   },
   {
    "duration": 180,
    "start_time": "2022-05-05T19:21:50.626Z"
   },
   {
    "duration": 245,
    "start_time": "2022-05-05T19:21:50.808Z"
   },
   {
    "duration": 139,
    "start_time": "2022-05-05T19:21:51.055Z"
   },
   {
    "duration": 153,
    "start_time": "2022-05-05T19:21:51.196Z"
   },
   {
    "duration": 117,
    "start_time": "2022-05-05T19:21:51.351Z"
   },
   {
    "duration": 129,
    "start_time": "2022-05-05T19:21:51.470Z"
   },
   {
    "duration": 131,
    "start_time": "2022-05-05T19:21:51.601Z"
   },
   {
    "duration": 43,
    "start_time": "2022-05-05T19:21:51.734Z"
   },
   {
    "duration": 72,
    "start_time": "2022-05-05T19:21:51.779Z"
   },
   {
    "duration": 22,
    "start_time": "2022-05-05T19:21:51.854Z"
   },
   {
    "duration": 46,
    "start_time": "2022-05-05T19:21:51.878Z"
   },
   {
    "duration": 8,
    "start_time": "2022-05-05T19:21:51.926Z"
   },
   {
    "duration": 278,
    "start_time": "2022-05-05T19:21:51.936Z"
   },
   {
    "duration": 8,
    "start_time": "2022-05-05T19:21:52.216Z"
   },
   {
    "duration": 241,
    "start_time": "2022-05-05T19:21:52.226Z"
   },
   {
    "duration": 254,
    "start_time": "2022-05-05T19:21:52.468Z"
   },
   {
    "duration": 181,
    "start_time": "2022-05-05T19:21:52.723Z"
   },
   {
    "duration": 452,
    "start_time": "2022-05-05T19:21:52.906Z"
   },
   {
    "duration": 31,
    "start_time": "2022-05-05T19:21:53.359Z"
   },
   {
    "duration": 40,
    "start_time": "2022-05-05T19:21:53.392Z"
   },
   {
    "duration": 6,
    "start_time": "2022-05-05T19:42:05.040Z"
   },
   {
    "duration": 6,
    "start_time": "2022-05-05T19:42:08.287Z"
   },
   {
    "duration": 232,
    "start_time": "2022-05-05T19:42:08.295Z"
   },
   {
    "duration": 248,
    "start_time": "2022-05-05T19:42:08.529Z"
   },
   {
    "duration": 184,
    "start_time": "2022-05-05T19:42:08.779Z"
   },
   {
    "duration": 172,
    "start_time": "2022-05-05T19:42:08.965Z"
   },
   {
    "duration": 31,
    "start_time": "2022-05-05T19:42:09.139Z"
   },
   {
    "duration": 23,
    "start_time": "2022-05-05T19:42:09.172Z"
   },
   {
    "duration": 223,
    "start_time": "2022-05-05T19:48:17.229Z"
   },
   {
    "duration": 35,
    "start_time": "2022-05-05T19:48:17.455Z"
   },
   {
    "duration": 5,
    "start_time": "2022-05-05T19:48:17.492Z"
   },
   {
    "duration": 28,
    "start_time": "2022-05-05T19:48:17.499Z"
   },
   {
    "duration": 6,
    "start_time": "2022-05-05T19:48:17.529Z"
   },
   {
    "duration": 4,
    "start_time": "2022-05-05T19:48:17.537Z"
   },
   {
    "duration": 4,
    "start_time": "2022-05-05T19:48:17.543Z"
   },
   {
    "duration": 8,
    "start_time": "2022-05-05T19:48:17.548Z"
   },
   {
    "duration": 17,
    "start_time": "2022-05-05T19:48:17.558Z"
   },
   {
    "duration": 49,
    "start_time": "2022-05-05T19:48:17.576Z"
   },
   {
    "duration": 4,
    "start_time": "2022-05-05T19:48:17.627Z"
   },
   {
    "duration": 22,
    "start_time": "2022-05-05T19:48:17.633Z"
   },
   {
    "duration": 8,
    "start_time": "2022-05-05T19:48:17.657Z"
   },
   {
    "duration": 384,
    "start_time": "2022-05-05T19:48:17.668Z"
   },
   {
    "duration": 262,
    "start_time": "2022-05-05T19:48:18.054Z"
   },
   {
    "duration": 253,
    "start_time": "2022-05-05T19:48:18.322Z"
   },
   {
    "duration": 249,
    "start_time": "2022-05-05T19:48:18.577Z"
   },
   {
    "duration": 191,
    "start_time": "2022-05-05T19:48:18.827Z"
   },
   {
    "duration": 188,
    "start_time": "2022-05-05T19:48:19.023Z"
   },
   {
    "duration": 249,
    "start_time": "2022-05-05T19:48:19.213Z"
   },
   {
    "duration": 139,
    "start_time": "2022-05-05T19:48:19.464Z"
   },
   {
    "duration": 141,
    "start_time": "2022-05-05T19:48:19.605Z"
   },
   {
    "duration": 132,
    "start_time": "2022-05-05T19:48:19.747Z"
   },
   {
    "duration": 138,
    "start_time": "2022-05-05T19:48:19.880Z"
   },
   {
    "duration": 126,
    "start_time": "2022-05-05T19:48:20.023Z"
   },
   {
    "duration": 49,
    "start_time": "2022-05-05T19:48:20.150Z"
   },
   {
    "duration": 71,
    "start_time": "2022-05-05T19:48:20.201Z"
   },
   {
    "duration": 51,
    "start_time": "2022-05-05T19:48:20.273Z"
   },
   {
    "duration": 25,
    "start_time": "2022-05-05T19:48:20.326Z"
   },
   {
    "duration": 9,
    "start_time": "2022-05-05T19:48:20.353Z"
   },
   {
    "duration": 297,
    "start_time": "2022-05-05T19:48:20.363Z"
   },
   {
    "duration": 9,
    "start_time": "2022-05-05T19:48:20.661Z"
   },
   {
    "duration": 242,
    "start_time": "2022-05-05T19:48:20.672Z"
   },
   {
    "duration": 252,
    "start_time": "2022-05-05T19:48:20.916Z"
   },
   {
    "duration": 180,
    "start_time": "2022-05-05T19:48:21.170Z"
   },
   {
    "duration": 174,
    "start_time": "2022-05-05T19:48:21.351Z"
   },
   {
    "duration": 31,
    "start_time": "2022-05-05T19:48:21.527Z"
   },
   {
    "duration": 21,
    "start_time": "2022-05-05T19:48:21.560Z"
   },
   {
    "duration": 24,
    "start_time": "2022-05-05T19:55:12.617Z"
   },
   {
    "duration": 22,
    "start_time": "2022-05-05T19:55:51.381Z"
   },
   {
    "duration": 224,
    "start_time": "2022-05-05T20:01:20.500Z"
   },
   {
    "duration": 36,
    "start_time": "2022-05-05T20:01:20.726Z"
   },
   {
    "duration": 6,
    "start_time": "2022-05-05T20:01:20.764Z"
   },
   {
    "duration": 7,
    "start_time": "2022-05-05T20:01:20.772Z"
   },
   {
    "duration": 41,
    "start_time": "2022-05-05T20:01:20.781Z"
   },
   {
    "duration": 4,
    "start_time": "2022-05-05T20:01:20.824Z"
   },
   {
    "duration": 8,
    "start_time": "2022-05-05T20:01:20.830Z"
   },
   {
    "duration": 10,
    "start_time": "2022-05-05T20:01:20.841Z"
   },
   {
    "duration": 19,
    "start_time": "2022-05-05T20:01:20.853Z"
   },
   {
    "duration": 47,
    "start_time": "2022-05-05T20:01:20.876Z"
   },
   {
    "duration": 4,
    "start_time": "2022-05-05T20:01:20.925Z"
   },
   {
    "duration": 18,
    "start_time": "2022-05-05T20:01:20.931Z"
   },
   {
    "duration": 4,
    "start_time": "2022-05-05T20:01:20.951Z"
   },
   {
    "duration": 0,
    "start_time": "2022-05-05T20:01:20.958Z"
   },
   {
    "duration": 0,
    "start_time": "2022-05-05T20:01:20.959Z"
   },
   {
    "duration": 0,
    "start_time": "2022-05-05T20:01:20.961Z"
   },
   {
    "duration": 0,
    "start_time": "2022-05-05T20:01:20.962Z"
   },
   {
    "duration": 0,
    "start_time": "2022-05-05T20:01:20.964Z"
   },
   {
    "duration": 0,
    "start_time": "2022-05-05T20:01:20.966Z"
   },
   {
    "duration": 0,
    "start_time": "2022-05-05T20:01:20.968Z"
   },
   {
    "duration": 0,
    "start_time": "2022-05-05T20:01:20.970Z"
   },
   {
    "duration": 0,
    "start_time": "2022-05-05T20:01:20.971Z"
   },
   {
    "duration": 0,
    "start_time": "2022-05-05T20:01:20.973Z"
   },
   {
    "duration": 0,
    "start_time": "2022-05-05T20:01:20.974Z"
   },
   {
    "duration": 0,
    "start_time": "2022-05-05T20:01:21.024Z"
   },
   {
    "duration": 0,
    "start_time": "2022-05-05T20:01:21.026Z"
   },
   {
    "duration": 0,
    "start_time": "2022-05-05T20:01:21.027Z"
   },
   {
    "duration": 0,
    "start_time": "2022-05-05T20:01:21.028Z"
   },
   {
    "duration": 0,
    "start_time": "2022-05-05T20:01:21.029Z"
   },
   {
    "duration": 0,
    "start_time": "2022-05-05T20:01:21.030Z"
   },
   {
    "duration": 0,
    "start_time": "2022-05-05T20:01:21.031Z"
   },
   {
    "duration": 0,
    "start_time": "2022-05-05T20:01:21.032Z"
   },
   {
    "duration": 0,
    "start_time": "2022-05-05T20:01:21.033Z"
   },
   {
    "duration": 0,
    "start_time": "2022-05-05T20:01:21.034Z"
   },
   {
    "duration": 0,
    "start_time": "2022-05-05T20:01:21.035Z"
   },
   {
    "duration": 0,
    "start_time": "2022-05-05T20:01:21.035Z"
   },
   {
    "duration": 0,
    "start_time": "2022-05-05T20:01:21.036Z"
   },
   {
    "duration": 0,
    "start_time": "2022-05-05T20:01:21.037Z"
   },
   {
    "duration": 0,
    "start_time": "2022-05-05T20:01:21.038Z"
   },
   {
    "duration": 214,
    "start_time": "2022-05-05T20:01:40.289Z"
   },
   {
    "duration": 43,
    "start_time": "2022-05-05T20:01:40.505Z"
   },
   {
    "duration": 6,
    "start_time": "2022-05-05T20:01:40.550Z"
   },
   {
    "duration": 7,
    "start_time": "2022-05-05T20:01:40.559Z"
   },
   {
    "duration": 9,
    "start_time": "2022-05-05T20:01:40.568Z"
   },
   {
    "duration": 13,
    "start_time": "2022-05-05T20:01:40.578Z"
   },
   {
    "duration": 31,
    "start_time": "2022-05-05T20:01:40.593Z"
   },
   {
    "duration": 9,
    "start_time": "2022-05-05T20:01:40.626Z"
   },
   {
    "duration": 18,
    "start_time": "2022-05-05T20:01:40.637Z"
   },
   {
    "duration": 4,
    "start_time": "2022-05-05T20:01:40.659Z"
   },
   {
    "duration": 9,
    "start_time": "2022-05-05T20:01:40.665Z"
   },
   {
    "duration": 52,
    "start_time": "2022-05-05T20:01:40.676Z"
   },
   {
    "duration": 9,
    "start_time": "2022-05-05T20:01:40.731Z"
   },
   {
    "duration": 10,
    "start_time": "2022-05-05T20:01:40.742Z"
   },
   {
    "duration": 720,
    "start_time": "2022-05-05T20:01:40.754Z"
   },
   {
    "duration": 275,
    "start_time": "2022-05-05T20:01:41.476Z"
   },
   {
    "duration": 264,
    "start_time": "2022-05-05T20:01:41.753Z"
   },
   {
    "duration": 243,
    "start_time": "2022-05-05T20:01:42.022Z"
   },
   {
    "duration": 185,
    "start_time": "2022-05-05T20:01:42.267Z"
   },
   {
    "duration": 183,
    "start_time": "2022-05-05T20:01:42.454Z"
   },
   {
    "duration": 243,
    "start_time": "2022-05-05T20:01:42.639Z"
   },
   {
    "duration": 140,
    "start_time": "2022-05-05T20:01:42.884Z"
   },
   {
    "duration": 142,
    "start_time": "2022-05-05T20:01:43.026Z"
   },
   {
    "duration": 121,
    "start_time": "2022-05-05T20:01:43.169Z"
   },
   {
    "duration": 132,
    "start_time": "2022-05-05T20:01:43.292Z"
   },
   {
    "duration": 127,
    "start_time": "2022-05-05T20:01:43.426Z"
   },
   {
    "duration": 41,
    "start_time": "2022-05-05T20:01:43.555Z"
   },
   {
    "duration": 74,
    "start_time": "2022-05-05T20:01:43.599Z"
   },
   {
    "duration": 24,
    "start_time": "2022-05-05T20:01:43.675Z"
   },
   {
    "duration": 24,
    "start_time": "2022-05-05T20:01:43.723Z"
   },
   {
    "duration": 9,
    "start_time": "2022-05-05T20:01:43.748Z"
   },
   {
    "duration": 280,
    "start_time": "2022-05-05T20:01:43.758Z"
   },
   {
    "duration": 7,
    "start_time": "2022-05-05T20:01:44.040Z"
   },
   {
    "duration": 237,
    "start_time": "2022-05-05T20:01:44.049Z"
   },
   {
    "duration": 236,
    "start_time": "2022-05-05T20:01:44.288Z"
   },
   {
    "duration": 162,
    "start_time": "2022-05-05T20:01:44.525Z"
   },
   {
    "duration": 177,
    "start_time": "2022-05-05T20:01:44.688Z"
   },
   {
    "duration": 30,
    "start_time": "2022-05-05T20:01:44.867Z"
   },
   {
    "duration": 41,
    "start_time": "2022-05-05T20:01:44.899Z"
   },
   {
    "duration": 940,
    "start_time": "2022-05-05T20:07:39.361Z"
   },
   {
    "duration": 48,
    "start_time": "2022-05-05T20:07:40.303Z"
   },
   {
    "duration": 6,
    "start_time": "2022-05-05T20:07:40.354Z"
   },
   {
    "duration": 7,
    "start_time": "2022-05-05T20:07:40.363Z"
   },
   {
    "duration": 8,
    "start_time": "2022-05-05T20:07:40.372Z"
   },
   {
    "duration": 4,
    "start_time": "2022-05-05T20:07:40.382Z"
   },
   {
    "duration": 4,
    "start_time": "2022-05-05T20:07:40.424Z"
   },
   {
    "duration": 9,
    "start_time": "2022-05-05T20:07:40.430Z"
   },
   {
    "duration": 15,
    "start_time": "2022-05-05T20:07:40.441Z"
   },
   {
    "duration": 4,
    "start_time": "2022-05-05T20:07:40.459Z"
   },
   {
    "duration": 8,
    "start_time": "2022-05-05T20:07:40.465Z"
   },
   {
    "duration": 55,
    "start_time": "2022-05-05T20:07:40.475Z"
   },
   {
    "duration": 7,
    "start_time": "2022-05-05T20:07:40.532Z"
   },
   {
    "duration": 359,
    "start_time": "2022-05-05T20:07:40.541Z"
   },
   {
    "duration": 258,
    "start_time": "2022-05-05T20:07:40.901Z"
   },
   {
    "duration": 249,
    "start_time": "2022-05-05T20:07:41.161Z"
   },
   {
    "duration": 236,
    "start_time": "2022-05-05T20:07:41.411Z"
   },
   {
    "duration": 176,
    "start_time": "2022-05-05T20:07:41.649Z"
   },
   {
    "duration": 166,
    "start_time": "2022-05-05T20:07:41.827Z"
   },
   {
    "duration": 228,
    "start_time": "2022-05-05T20:07:41.994Z"
   },
   {
    "duration": 133,
    "start_time": "2022-05-05T20:07:42.224Z"
   },
   {
    "duration": 505,
    "start_time": "2022-05-05T20:07:42.359Z"
   },
   {
    "duration": 117,
    "start_time": "2022-05-05T20:07:42.865Z"
   },
   {
    "duration": 130,
    "start_time": "2022-05-05T20:07:42.983Z"
   },
   {
    "duration": 132,
    "start_time": "2022-05-05T20:07:43.122Z"
   },
   {
    "duration": 44,
    "start_time": "2022-05-05T20:07:43.257Z"
   },
   {
    "duration": 74,
    "start_time": "2022-05-05T20:07:43.303Z"
   },
   {
    "duration": 42,
    "start_time": "2022-05-05T20:07:43.381Z"
   },
   {
    "duration": 22,
    "start_time": "2022-05-05T20:07:43.425Z"
   },
   {
    "duration": 7,
    "start_time": "2022-05-05T20:07:43.449Z"
   },
   {
    "duration": 284,
    "start_time": "2022-05-05T20:07:43.458Z"
   },
   {
    "duration": 8,
    "start_time": "2022-05-05T20:07:43.744Z"
   },
   {
    "duration": 246,
    "start_time": "2022-05-05T20:07:43.754Z"
   },
   {
    "duration": 338,
    "start_time": "2022-05-05T20:07:44.002Z"
   },
   {
    "duration": 321,
    "start_time": "2022-05-05T20:07:44.342Z"
   },
   {
    "duration": 373,
    "start_time": "2022-05-05T20:07:44.664Z"
   },
   {
    "duration": 83,
    "start_time": "2022-05-05T20:07:45.039Z"
   },
   {
    "duration": 22,
    "start_time": "2022-05-05T20:07:45.124Z"
   },
   {
    "duration": 921,
    "start_time": "2022-05-05T20:07:58.159Z"
   },
   {
    "duration": 43,
    "start_time": "2022-05-05T20:07:59.082Z"
   },
   {
    "duration": 6,
    "start_time": "2022-05-05T20:07:59.126Z"
   },
   {
    "duration": 6,
    "start_time": "2022-05-05T20:07:59.134Z"
   },
   {
    "duration": 6,
    "start_time": "2022-05-05T20:07:59.142Z"
   },
   {
    "duration": 5,
    "start_time": "2022-05-05T20:07:59.149Z"
   },
   {
    "duration": 7,
    "start_time": "2022-05-05T20:07:59.156Z"
   },
   {
    "duration": 8,
    "start_time": "2022-05-05T20:07:59.164Z"
   },
   {
    "duration": 58,
    "start_time": "2022-05-05T20:07:59.174Z"
   },
   {
    "duration": 3,
    "start_time": "2022-05-05T20:07:59.235Z"
   },
   {
    "duration": 4,
    "start_time": "2022-05-05T20:07:59.240Z"
   },
   {
    "duration": 13,
    "start_time": "2022-05-05T20:07:59.246Z"
   },
   {
    "duration": 8,
    "start_time": "2022-05-05T20:07:59.261Z"
   },
   {
    "duration": 391,
    "start_time": "2022-05-05T20:07:59.270Z"
   },
   {
    "duration": 302,
    "start_time": "2022-05-05T20:07:59.663Z"
   },
   {
    "duration": 246,
    "start_time": "2022-05-05T20:07:59.967Z"
   },
   {
    "duration": 238,
    "start_time": "2022-05-05T20:08:00.214Z"
   },
   {
    "duration": 187,
    "start_time": "2022-05-05T20:08:00.454Z"
   },
   {
    "duration": 173,
    "start_time": "2022-05-05T20:08:00.643Z"
   },
   {
    "duration": 242,
    "start_time": "2022-05-05T20:08:00.818Z"
   },
   {
    "duration": 143,
    "start_time": "2022-05-05T20:08:01.062Z"
   },
   {
    "duration": 157,
    "start_time": "2022-05-05T20:08:01.207Z"
   },
   {
    "duration": 196,
    "start_time": "2022-05-05T20:08:01.366Z"
   },
   {
    "duration": 147,
    "start_time": "2022-05-05T20:08:01.564Z"
   },
   {
    "duration": 131,
    "start_time": "2022-05-05T20:08:01.712Z"
   },
   {
    "duration": 49,
    "start_time": "2022-05-05T20:08:01.844Z"
   },
   {
    "duration": 80,
    "start_time": "2022-05-05T20:08:01.895Z"
   },
   {
    "duration": 23,
    "start_time": "2022-05-05T20:08:01.978Z"
   },
   {
    "duration": 40,
    "start_time": "2022-05-05T20:08:02.003Z"
   },
   {
    "duration": 9,
    "start_time": "2022-05-05T20:08:02.045Z"
   },
   {
    "duration": 278,
    "start_time": "2022-05-05T20:08:02.055Z"
   },
   {
    "duration": 8,
    "start_time": "2022-05-05T20:08:02.335Z"
   },
   {
    "duration": 230,
    "start_time": "2022-05-05T20:08:02.344Z"
   },
   {
    "duration": 240,
    "start_time": "2022-05-05T20:08:02.575Z"
   },
   {
    "duration": 176,
    "start_time": "2022-05-05T20:08:02.816Z"
   },
   {
    "duration": 173,
    "start_time": "2022-05-05T20:08:02.993Z"
   },
   {
    "duration": 30,
    "start_time": "2022-05-05T20:08:03.167Z"
   },
   {
    "duration": 40,
    "start_time": "2022-05-05T20:08:03.199Z"
   },
   {
    "duration": 5,
    "start_time": "2022-05-05T20:42:16.200Z"
   },
   {
    "duration": 82,
    "start_time": "2022-05-05T20:42:45.320Z"
   },
   {
    "duration": 10,
    "start_time": "2022-05-05T20:43:12.873Z"
   },
   {
    "duration": 971,
    "start_time": "2022-05-05T21:00:35.292Z"
   },
   {
    "duration": 36,
    "start_time": "2022-05-05T21:00:36.266Z"
   },
   {
    "duration": 6,
    "start_time": "2022-05-05T21:00:36.304Z"
   },
   {
    "duration": 22,
    "start_time": "2022-05-05T21:00:36.323Z"
   },
   {
    "duration": 7,
    "start_time": "2022-05-05T21:00:36.347Z"
   },
   {
    "duration": 18,
    "start_time": "2022-05-05T21:00:36.356Z"
   },
   {
    "duration": 7,
    "start_time": "2022-05-05T21:00:36.376Z"
   },
   {
    "duration": 8,
    "start_time": "2022-05-05T21:00:36.385Z"
   },
   {
    "duration": 33,
    "start_time": "2022-05-05T21:00:36.394Z"
   },
   {
    "duration": 3,
    "start_time": "2022-05-05T21:00:36.430Z"
   },
   {
    "duration": 7,
    "start_time": "2022-05-05T21:00:36.435Z"
   },
   {
    "duration": 14,
    "start_time": "2022-05-05T21:00:36.444Z"
   },
   {
    "duration": 8,
    "start_time": "2022-05-05T21:00:36.460Z"
   },
   {
    "duration": 400,
    "start_time": "2022-05-05T21:00:36.470Z"
   },
   {
    "duration": 321,
    "start_time": "2022-05-05T21:00:36.872Z"
   },
   {
    "duration": 247,
    "start_time": "2022-05-05T21:00:37.195Z"
   },
   {
    "duration": 245,
    "start_time": "2022-05-05T21:00:37.444Z"
   },
   {
    "duration": 177,
    "start_time": "2022-05-05T21:00:37.690Z"
   },
   {
    "duration": 181,
    "start_time": "2022-05-05T21:00:37.869Z"
   },
   {
    "duration": 252,
    "start_time": "2022-05-05T21:00:38.052Z"
   },
   {
    "duration": 157,
    "start_time": "2022-05-05T21:00:38.306Z"
   },
   {
    "duration": 136,
    "start_time": "2022-05-05T21:00:38.464Z"
   },
   {
    "duration": 199,
    "start_time": "2022-05-05T21:00:38.601Z"
   },
   {
    "duration": 141,
    "start_time": "2022-05-05T21:00:38.802Z"
   },
   {
    "duration": 130,
    "start_time": "2022-05-05T21:00:38.945Z"
   },
   {
    "duration": 73,
    "start_time": "2022-05-05T21:00:39.077Z"
   },
   {
    "duration": 78,
    "start_time": "2022-05-05T21:00:39.152Z"
   },
   {
    "duration": 28,
    "start_time": "2022-05-05T21:00:39.234Z"
   },
   {
    "duration": 61,
    "start_time": "2022-05-05T21:00:39.264Z"
   },
   {
    "duration": 10,
    "start_time": "2022-05-05T21:00:39.328Z"
   },
   {
    "duration": 285,
    "start_time": "2022-05-05T21:00:39.340Z"
   },
   {
    "duration": 7,
    "start_time": "2022-05-05T21:00:39.627Z"
   },
   {
    "duration": 240,
    "start_time": "2022-05-05T21:00:39.636Z"
   },
   {
    "duration": 236,
    "start_time": "2022-05-05T21:00:39.878Z"
   },
   {
    "duration": 177,
    "start_time": "2022-05-05T21:00:40.116Z"
   },
   {
    "duration": 177,
    "start_time": "2022-05-05T21:00:40.295Z"
   },
   {
    "duration": 28,
    "start_time": "2022-05-05T21:00:40.474Z"
   },
   {
    "duration": 33,
    "start_time": "2022-05-05T21:00:40.504Z"
   },
   {
    "duration": 139,
    "start_time": "2022-05-08T07:13:56.405Z"
   },
   {
    "duration": 45,
    "start_time": "2022-05-08T07:14:30.130Z"
   },
   {
    "duration": 815,
    "start_time": "2022-05-08T07:14:37.423Z"
   },
   {
    "duration": 196,
    "start_time": "2022-05-08T07:14:40.552Z"
   },
   {
    "duration": 229,
    "start_time": "2022-05-08T07:14:55.982Z"
   },
   {
    "duration": 246,
    "start_time": "2022-05-08T07:15:22.758Z"
   },
   {
    "duration": 3,
    "start_time": "2022-05-08T07:34:26.293Z"
   },
   {
    "duration": 236,
    "start_time": "2022-05-08T07:34:26.297Z"
   },
   {
    "duration": 42,
    "start_time": "2022-05-08T07:34:26.536Z"
   },
   {
    "duration": 6,
    "start_time": "2022-05-08T07:34:26.579Z"
   },
   {
    "duration": 6,
    "start_time": "2022-05-08T07:34:26.586Z"
   },
   {
    "duration": 5,
    "start_time": "2022-05-08T07:34:26.594Z"
   },
   {
    "duration": 7,
    "start_time": "2022-05-08T07:34:26.601Z"
   },
   {
    "duration": 9,
    "start_time": "2022-05-08T07:34:26.609Z"
   },
   {
    "duration": 48,
    "start_time": "2022-05-08T07:34:29.551Z"
   },
   {
    "duration": 6,
    "start_time": "2022-05-08T07:34:59.577Z"
   },
   {
    "duration": 11,
    "start_time": "2022-05-08T07:35:08.824Z"
   },
   {
    "duration": 3,
    "start_time": "2022-05-08T07:35:15.079Z"
   },
   {
    "duration": 287,
    "start_time": "2022-05-08T07:35:15.084Z"
   },
   {
    "duration": 31,
    "start_time": "2022-05-08T07:35:15.374Z"
   },
   {
    "duration": 5,
    "start_time": "2022-05-08T07:35:15.407Z"
   },
   {
    "duration": 5,
    "start_time": "2022-05-08T07:35:15.415Z"
   },
   {
    "duration": 34,
    "start_time": "2022-05-08T07:35:15.422Z"
   },
   {
    "duration": 4,
    "start_time": "2022-05-08T07:35:15.458Z"
   },
   {
    "duration": 6,
    "start_time": "2022-05-08T07:35:15.463Z"
   },
   {
    "duration": 6,
    "start_time": "2022-05-08T07:35:17.957Z"
   },
   {
    "duration": 134,
    "start_time": "2022-05-08T07:35:55.169Z"
   },
   {
    "duration": 9,
    "start_time": "2022-05-08T07:38:44.153Z"
   },
   {
    "duration": 3,
    "start_time": "2022-05-08T07:51:52.944Z"
   },
   {
    "duration": 251,
    "start_time": "2022-05-08T07:51:52.952Z"
   },
   {
    "duration": 50,
    "start_time": "2022-05-08T07:51:53.206Z"
   },
   {
    "duration": 6,
    "start_time": "2022-05-08T07:51:53.257Z"
   },
   {
    "duration": 7,
    "start_time": "2022-05-08T07:51:53.265Z"
   },
   {
    "duration": 7,
    "start_time": "2022-05-08T07:51:53.274Z"
   },
   {
    "duration": 6,
    "start_time": "2022-05-08T07:51:53.283Z"
   },
   {
    "duration": 6,
    "start_time": "2022-05-08T07:51:53.291Z"
   },
   {
    "duration": 11,
    "start_time": "2022-05-08T07:51:53.299Z"
   },
   {
    "duration": 43,
    "start_time": "2022-05-08T07:51:53.312Z"
   },
   {
    "duration": 4,
    "start_time": "2022-05-08T07:51:53.357Z"
   },
   {
    "duration": 9,
    "start_time": "2022-05-08T07:51:53.362Z"
   },
   {
    "duration": 16,
    "start_time": "2022-05-08T07:51:53.373Z"
   },
   {
    "duration": 8,
    "start_time": "2022-05-08T07:51:53.391Z"
   },
   {
    "duration": 13,
    "start_time": "2022-05-08T07:51:53.400Z"
   },
   {
    "duration": 7,
    "start_time": "2022-05-08T07:51:53.414Z"
   },
   {
    "duration": 32,
    "start_time": "2022-05-08T07:51:53.423Z"
   },
   {
    "duration": 6,
    "start_time": "2022-05-08T07:51:53.456Z"
   },
   {
    "duration": 340,
    "start_time": "2022-05-08T07:51:53.464Z"
   },
   {
    "duration": 4,
    "start_time": "2022-05-08T07:51:53.806Z"
   },
   {
    "duration": 8,
    "start_time": "2022-05-08T07:51:53.811Z"
   },
   {
    "duration": 303,
    "start_time": "2022-05-08T08:01:51.021Z"
   },
   {
    "duration": 240,
    "start_time": "2022-05-08T08:02:00.325Z"
   },
   {
    "duration": 246,
    "start_time": "2022-05-08T08:03:16.855Z"
   },
   {
    "duration": 232,
    "start_time": "2022-05-08T08:03:48.174Z"
   },
   {
    "duration": 229,
    "start_time": "2022-05-08T08:03:50.973Z"
   },
   {
    "duration": 275,
    "start_time": "2022-05-08T08:08:46.755Z"
   },
   {
    "duration": 308,
    "start_time": "2022-05-08T08:09:28.324Z"
   },
   {
    "duration": 243,
    "start_time": "2022-05-08T08:10:07.640Z"
   },
   {
    "duration": 240,
    "start_time": "2022-05-08T08:10:34.414Z"
   },
   {
    "duration": 243,
    "start_time": "2022-05-08T08:10:39.535Z"
   },
   {
    "duration": 244,
    "start_time": "2022-05-08T08:11:14.800Z"
   },
   {
    "duration": 438,
    "start_time": "2022-05-08T08:12:33.816Z"
   },
   {
    "duration": 123,
    "start_time": "2022-05-08T08:12:47.003Z"
   },
   {
    "duration": 4,
    "start_time": "2022-05-08T08:13:01.729Z"
   },
   {
    "duration": 292,
    "start_time": "2022-05-08T08:13:01.735Z"
   },
   {
    "duration": 41,
    "start_time": "2022-05-08T08:13:02.029Z"
   },
   {
    "duration": 10,
    "start_time": "2022-05-08T08:13:02.072Z"
   },
   {
    "duration": 14,
    "start_time": "2022-05-08T08:13:02.084Z"
   },
   {
    "duration": 31,
    "start_time": "2022-05-08T08:13:02.100Z"
   },
   {
    "duration": 25,
    "start_time": "2022-05-08T08:13:02.133Z"
   },
   {
    "duration": 10,
    "start_time": "2022-05-08T08:13:02.160Z"
   },
   {
    "duration": 25,
    "start_time": "2022-05-08T08:13:02.172Z"
   },
   {
    "duration": 20,
    "start_time": "2022-05-08T08:13:02.199Z"
   },
   {
    "duration": 7,
    "start_time": "2022-05-08T08:13:02.223Z"
   },
   {
    "duration": 14,
    "start_time": "2022-05-08T08:13:02.232Z"
   },
   {
    "duration": 18,
    "start_time": "2022-05-08T08:13:02.248Z"
   },
   {
    "duration": 9,
    "start_time": "2022-05-08T08:13:02.267Z"
   },
   {
    "duration": 93,
    "start_time": "2022-05-08T08:13:02.278Z"
   },
   {
    "duration": 13,
    "start_time": "2022-05-08T08:13:02.373Z"
   },
   {
    "duration": 10,
    "start_time": "2022-05-08T08:13:02.388Z"
   },
   {
    "duration": 24,
    "start_time": "2022-05-08T08:13:02.400Z"
   },
   {
    "duration": 335,
    "start_time": "2022-05-08T08:13:02.426Z"
   },
   {
    "duration": 5,
    "start_time": "2022-05-08T08:13:02.763Z"
   },
   {
    "duration": 8,
    "start_time": "2022-05-08T08:13:02.770Z"
   },
   {
    "duration": 21,
    "start_time": "2022-05-08T08:13:02.780Z"
   },
   {
    "duration": 117,
    "start_time": "2022-05-08T08:13:05.418Z"
   },
   {
    "duration": 233,
    "start_time": "2022-05-08T08:13:32.264Z"
   },
   {
    "duration": 246,
    "start_time": "2022-05-08T08:13:55.410Z"
   },
   {
    "duration": 119,
    "start_time": "2022-05-08T08:14:45.834Z"
   },
   {
    "duration": 398,
    "start_time": "2022-05-08T08:15:00.271Z"
   },
   {
    "duration": 116,
    "start_time": "2022-05-08T08:15:06.663Z"
   },
   {
    "duration": 248,
    "start_time": "2022-05-08T08:17:46.253Z"
   },
   {
    "duration": 113,
    "start_time": "2022-05-08T08:17:51.821Z"
   },
   {
    "duration": 251,
    "start_time": "2022-05-08T08:18:05.591Z"
   },
   {
    "duration": 124,
    "start_time": "2022-05-08T08:18:18.734Z"
   },
   {
    "duration": 3,
    "start_time": "2022-05-08T08:18:30.540Z"
   },
   {
    "duration": 261,
    "start_time": "2022-05-08T08:18:30.545Z"
   },
   {
    "duration": 33,
    "start_time": "2022-05-08T08:18:30.808Z"
   },
   {
    "duration": 4,
    "start_time": "2022-05-08T08:18:30.855Z"
   },
   {
    "duration": 14,
    "start_time": "2022-05-08T08:18:30.861Z"
   },
   {
    "duration": 11,
    "start_time": "2022-05-08T08:18:30.877Z"
   },
   {
    "duration": 11,
    "start_time": "2022-05-08T08:18:30.889Z"
   },
   {
    "duration": 13,
    "start_time": "2022-05-08T08:18:30.902Z"
   },
   {
    "duration": 12,
    "start_time": "2022-05-08T08:18:30.917Z"
   },
   {
    "duration": 14,
    "start_time": "2022-05-08T08:18:30.930Z"
   },
   {
    "duration": 4,
    "start_time": "2022-05-08T08:18:30.947Z"
   },
   {
    "duration": 12,
    "start_time": "2022-05-08T08:18:30.953Z"
   },
   {
    "duration": 15,
    "start_time": "2022-05-08T08:18:30.967Z"
   },
   {
    "duration": 8,
    "start_time": "2022-05-08T08:18:30.984Z"
   },
   {
    "duration": 7,
    "start_time": "2022-05-08T08:18:30.994Z"
   },
   {
    "duration": 12,
    "start_time": "2022-05-08T08:18:31.002Z"
   },
   {
    "duration": 9,
    "start_time": "2022-05-08T08:18:31.016Z"
   },
   {
    "duration": 13,
    "start_time": "2022-05-08T08:18:31.026Z"
   },
   {
    "duration": 346,
    "start_time": "2022-05-08T08:18:31.042Z"
   },
   {
    "duration": 4,
    "start_time": "2022-05-08T08:18:31.390Z"
   },
   {
    "duration": 45,
    "start_time": "2022-05-08T08:18:31.396Z"
   },
   {
    "duration": 26,
    "start_time": "2022-05-08T08:18:31.443Z"
   },
   {
    "duration": 423,
    "start_time": "2022-05-08T08:18:31.470Z"
   },
   {
    "duration": 120,
    "start_time": "2022-05-08T08:18:33.712Z"
   },
   {
    "duration": 237,
    "start_time": "2022-05-08T08:19:25.489Z"
   },
   {
    "duration": 242,
    "start_time": "2022-05-08T08:19:34.298Z"
   },
   {
    "duration": 258,
    "start_time": "2022-05-08T08:21:16.652Z"
   },
   {
    "duration": 132,
    "start_time": "2022-05-08T08:22:01.153Z"
   },
   {
    "duration": 3,
    "start_time": "2022-05-08T08:22:14.115Z"
   },
   {
    "duration": 252,
    "start_time": "2022-05-08T08:22:14.120Z"
   },
   {
    "duration": 33,
    "start_time": "2022-05-08T08:22:14.374Z"
   },
   {
    "duration": 4,
    "start_time": "2022-05-08T08:22:14.409Z"
   },
   {
    "duration": 15,
    "start_time": "2022-05-08T08:22:14.415Z"
   },
   {
    "duration": 24,
    "start_time": "2022-05-08T08:22:14.432Z"
   },
   {
    "duration": 11,
    "start_time": "2022-05-08T08:22:14.458Z"
   },
   {
    "duration": 11,
    "start_time": "2022-05-08T08:22:14.470Z"
   },
   {
    "duration": 9,
    "start_time": "2022-05-08T08:22:14.483Z"
   },
   {
    "duration": 29,
    "start_time": "2022-05-08T08:22:14.493Z"
   },
   {
    "duration": 4,
    "start_time": "2022-05-08T08:22:14.525Z"
   },
   {
    "duration": 19,
    "start_time": "2022-05-08T08:22:14.530Z"
   },
   {
    "duration": 27,
    "start_time": "2022-05-08T08:22:14.551Z"
   },
   {
    "duration": 8,
    "start_time": "2022-05-08T08:22:14.579Z"
   },
   {
    "duration": 20,
    "start_time": "2022-05-08T08:22:14.589Z"
   },
   {
    "duration": 20,
    "start_time": "2022-05-08T08:22:14.610Z"
   },
   {
    "duration": 10,
    "start_time": "2022-05-08T08:22:14.632Z"
   },
   {
    "duration": 12,
    "start_time": "2022-05-08T08:22:14.643Z"
   },
   {
    "duration": 497,
    "start_time": "2022-05-08T08:22:14.657Z"
   },
   {
    "duration": 4,
    "start_time": "2022-05-08T08:22:15.156Z"
   },
   {
    "duration": 18,
    "start_time": "2022-05-08T08:22:15.162Z"
   },
   {
    "duration": 20,
    "start_time": "2022-05-08T08:22:15.182Z"
   },
   {
    "duration": 254,
    "start_time": "2022-05-08T08:22:15.204Z"
   },
   {
    "duration": 115,
    "start_time": "2022-05-08T08:22:17.504Z"
   },
   {
    "duration": 126,
    "start_time": "2022-05-08T08:22:22.841Z"
   },
   {
    "duration": 667,
    "start_time": "2022-05-08T08:22:48.275Z"
   },
   {
    "duration": 243,
    "start_time": "2022-05-08T08:22:48.944Z"
   },
   {
    "duration": 34,
    "start_time": "2022-05-08T08:22:49.189Z"
   },
   {
    "duration": 4,
    "start_time": "2022-05-08T08:22:49.225Z"
   },
   {
    "duration": 22,
    "start_time": "2022-05-08T08:22:49.232Z"
   },
   {
    "duration": 6,
    "start_time": "2022-05-08T08:22:49.256Z"
   },
   {
    "duration": 7,
    "start_time": "2022-05-08T08:22:49.263Z"
   },
   {
    "duration": 6,
    "start_time": "2022-05-08T08:22:49.272Z"
   },
   {
    "duration": 10,
    "start_time": "2022-05-08T08:22:49.279Z"
   },
   {
    "duration": 19,
    "start_time": "2022-05-08T08:22:49.290Z"
   },
   {
    "duration": 3,
    "start_time": "2022-05-08T08:22:49.311Z"
   },
   {
    "duration": 16,
    "start_time": "2022-05-08T08:22:49.316Z"
   },
   {
    "duration": 27,
    "start_time": "2022-05-08T08:22:49.333Z"
   },
   {
    "duration": 8,
    "start_time": "2022-05-08T08:22:49.363Z"
   },
   {
    "duration": 10,
    "start_time": "2022-05-08T08:22:49.373Z"
   },
   {
    "duration": 12,
    "start_time": "2022-05-08T08:22:49.385Z"
   },
   {
    "duration": 5,
    "start_time": "2022-05-08T08:22:49.399Z"
   },
   {
    "duration": 13,
    "start_time": "2022-05-08T08:22:49.406Z"
   },
   {
    "duration": 329,
    "start_time": "2022-05-08T08:22:49.421Z"
   },
   {
    "duration": 4,
    "start_time": "2022-05-08T08:22:49.755Z"
   },
   {
    "duration": 21,
    "start_time": "2022-05-08T08:22:49.761Z"
   },
   {
    "duration": 34,
    "start_time": "2022-05-08T08:22:49.784Z"
   },
   {
    "duration": 313,
    "start_time": "2022-05-08T08:22:49.821Z"
   },
   {
    "duration": 183,
    "start_time": "2022-05-08T08:22:51.876Z"
   },
   {
    "duration": 241,
    "start_time": "2022-05-08T08:23:00.839Z"
   },
   {
    "duration": 238,
    "start_time": "2022-05-08T08:23:05.575Z"
   },
   {
    "duration": 243,
    "start_time": "2022-05-08T08:23:19.009Z"
   },
   {
    "duration": 249,
    "start_time": "2022-05-08T08:33:27.533Z"
   },
   {
    "duration": 333,
    "start_time": "2022-05-08T08:34:01.285Z"
   },
   {
    "duration": 111,
    "start_time": "2022-05-08T08:34:50.343Z"
   },
   {
    "duration": 107,
    "start_time": "2022-05-08T08:34:59.876Z"
   },
   {
    "duration": 262,
    "start_time": "2022-05-08T08:35:22.928Z"
   },
   {
    "duration": 131,
    "start_time": "2022-05-08T08:36:19.732Z"
   },
   {
    "duration": 142,
    "start_time": "2022-05-08T08:36:51.200Z"
   },
   {
    "duration": 260,
    "start_time": "2022-05-08T08:37:05.801Z"
   },
   {
    "duration": 247,
    "start_time": "2022-05-08T08:38:26.355Z"
   },
   {
    "duration": 363,
    "start_time": "2022-05-08T08:38:45.168Z"
   },
   {
    "duration": 244,
    "start_time": "2022-05-08T08:39:12.728Z"
   },
   {
    "duration": 265,
    "start_time": "2022-05-08T08:41:01.792Z"
   },
   {
    "duration": 249,
    "start_time": "2022-05-08T08:41:51.235Z"
   },
   {
    "duration": 244,
    "start_time": "2022-05-08T08:43:07.568Z"
   },
   {
    "duration": 410,
    "start_time": "2022-05-08T08:46:14.237Z"
   },
   {
    "duration": 244,
    "start_time": "2022-05-08T08:46:34.570Z"
   },
   {
    "duration": 241,
    "start_time": "2022-05-08T08:47:01.910Z"
   },
   {
    "duration": 235,
    "start_time": "2022-05-08T08:47:52.489Z"
   },
   {
    "duration": 236,
    "start_time": "2022-05-08T08:47:55.707Z"
   },
   {
    "duration": 239,
    "start_time": "2022-05-08T08:48:03.474Z"
   },
   {
    "duration": 3,
    "start_time": "2022-05-08T08:48:07.311Z"
   },
   {
    "duration": 281,
    "start_time": "2022-05-08T08:48:07.316Z"
   },
   {
    "duration": 33,
    "start_time": "2022-05-08T08:48:07.599Z"
   },
   {
    "duration": 21,
    "start_time": "2022-05-08T08:48:07.634Z"
   },
   {
    "duration": 26,
    "start_time": "2022-05-08T08:48:07.658Z"
   },
   {
    "duration": 8,
    "start_time": "2022-05-08T08:48:07.686Z"
   },
   {
    "duration": 10,
    "start_time": "2022-05-08T08:48:07.696Z"
   },
   {
    "duration": 9,
    "start_time": "2022-05-08T08:48:07.707Z"
   },
   {
    "duration": 19,
    "start_time": "2022-05-08T08:48:07.718Z"
   },
   {
    "duration": 14,
    "start_time": "2022-05-08T08:48:07.739Z"
   },
   {
    "duration": 7,
    "start_time": "2022-05-08T08:48:07.763Z"
   },
   {
    "duration": 5,
    "start_time": "2022-05-08T08:48:07.772Z"
   },
   {
    "duration": 17,
    "start_time": "2022-05-08T08:48:07.778Z"
   },
   {
    "duration": 8,
    "start_time": "2022-05-08T08:48:07.797Z"
   },
   {
    "duration": 8,
    "start_time": "2022-05-08T08:48:07.806Z"
   },
   {
    "duration": 15,
    "start_time": "2022-05-08T08:48:07.815Z"
   },
   {
    "duration": 7,
    "start_time": "2022-05-08T08:48:07.831Z"
   },
   {
    "duration": 19,
    "start_time": "2022-05-08T08:48:07.839Z"
   },
   {
    "duration": 519,
    "start_time": "2022-05-08T08:48:07.860Z"
   },
   {
    "duration": 5,
    "start_time": "2022-05-08T08:48:08.380Z"
   },
   {
    "duration": 7,
    "start_time": "2022-05-08T08:48:08.386Z"
   },
   {
    "duration": 16,
    "start_time": "2022-05-08T08:48:08.395Z"
   },
   {
    "duration": 291,
    "start_time": "2022-05-08T08:48:08.413Z"
   },
   {
    "duration": 264,
    "start_time": "2022-05-08T08:48:08.706Z"
   },
   {
    "duration": 246,
    "start_time": "2022-05-08T08:48:10.550Z"
   },
   {
    "duration": 238,
    "start_time": "2022-05-08T08:48:53.596Z"
   },
   {
    "duration": 4,
    "start_time": "2022-05-08T08:53:49.200Z"
   },
   {
    "duration": 6,
    "start_time": "2022-05-08T08:54:09.087Z"
   },
   {
    "duration": 6,
    "start_time": "2022-05-08T08:54:32.346Z"
   },
   {
    "duration": 4,
    "start_time": "2022-05-08T08:54:41.845Z"
   },
   {
    "duration": 282,
    "start_time": "2022-05-08T08:54:41.851Z"
   },
   {
    "duration": 61,
    "start_time": "2022-05-08T08:54:42.136Z"
   },
   {
    "duration": 4,
    "start_time": "2022-05-08T08:54:42.200Z"
   },
   {
    "duration": 8,
    "start_time": "2022-05-08T08:54:42.206Z"
   },
   {
    "duration": 6,
    "start_time": "2022-05-08T08:54:42.215Z"
   },
   {
    "duration": 7,
    "start_time": "2022-05-08T08:54:42.223Z"
   },
   {
    "duration": 26,
    "start_time": "2022-05-08T08:54:42.232Z"
   },
   {
    "duration": 8,
    "start_time": "2022-05-08T08:54:42.260Z"
   },
   {
    "duration": 15,
    "start_time": "2022-05-08T08:54:42.271Z"
   },
   {
    "duration": 3,
    "start_time": "2022-05-08T08:54:42.290Z"
   },
   {
    "duration": 4,
    "start_time": "2022-05-08T08:54:42.295Z"
   },
   {
    "duration": 18,
    "start_time": "2022-05-08T08:54:42.301Z"
   },
   {
    "duration": 41,
    "start_time": "2022-05-08T08:54:42.321Z"
   },
   {
    "duration": 6,
    "start_time": "2022-05-08T08:54:44.054Z"
   },
   {
    "duration": 5,
    "start_time": "2022-05-08T08:55:08.417Z"
   },
   {
    "duration": 5,
    "start_time": "2022-05-08T08:55:19.128Z"
   },
   {
    "duration": 6,
    "start_time": "2022-05-08T08:55:23.639Z"
   },
   {
    "duration": 6,
    "start_time": "2022-05-08T08:55:35.539Z"
   },
   {
    "duration": 6,
    "start_time": "2022-05-08T08:55:39.213Z"
   },
   {
    "duration": 3,
    "start_time": "2022-05-08T08:55:41.253Z"
   },
   {
    "duration": 273,
    "start_time": "2022-05-08T08:55:41.258Z"
   },
   {
    "duration": 48,
    "start_time": "2022-05-08T08:55:41.534Z"
   },
   {
    "duration": 4,
    "start_time": "2022-05-08T08:55:41.584Z"
   },
   {
    "duration": 14,
    "start_time": "2022-05-08T08:55:41.590Z"
   },
   {
    "duration": 6,
    "start_time": "2022-05-08T08:55:41.606Z"
   },
   {
    "duration": 5,
    "start_time": "2022-05-08T08:55:41.614Z"
   },
   {
    "duration": 6,
    "start_time": "2022-05-08T08:55:41.621Z"
   },
   {
    "duration": 10,
    "start_time": "2022-05-08T08:55:41.628Z"
   },
   {
    "duration": 35,
    "start_time": "2022-05-08T08:55:41.639Z"
   },
   {
    "duration": 4,
    "start_time": "2022-05-08T08:55:41.676Z"
   },
   {
    "duration": 11,
    "start_time": "2022-05-08T08:55:41.682Z"
   },
   {
    "duration": 27,
    "start_time": "2022-05-08T08:55:41.694Z"
   },
   {
    "duration": 8,
    "start_time": "2022-05-08T08:55:41.723Z"
   },
   {
    "duration": 10,
    "start_time": "2022-05-08T08:55:41.733Z"
   },
   {
    "duration": 6,
    "start_time": "2022-05-08T08:55:45.427Z"
   },
   {
    "duration": 7,
    "start_time": "2022-05-08T08:56:02.623Z"
   },
   {
    "duration": 7,
    "start_time": "2022-05-08T08:56:24.511Z"
   },
   {
    "duration": 7,
    "start_time": "2022-05-08T08:56:27.034Z"
   },
   {
    "duration": 9,
    "start_time": "2022-05-08T08:56:37.096Z"
   },
   {
    "duration": 3,
    "start_time": "2022-05-08T08:56:41.652Z"
   },
   {
    "duration": 266,
    "start_time": "2022-05-08T08:56:41.657Z"
   },
   {
    "duration": 51,
    "start_time": "2022-05-08T08:56:41.926Z"
   },
   {
    "duration": 5,
    "start_time": "2022-05-08T08:56:41.980Z"
   },
   {
    "duration": 20,
    "start_time": "2022-05-08T08:56:41.988Z"
   },
   {
    "duration": 22,
    "start_time": "2022-05-08T08:56:42.010Z"
   },
   {
    "duration": 6,
    "start_time": "2022-05-08T08:56:42.034Z"
   },
   {
    "duration": 6,
    "start_time": "2022-05-08T08:56:42.042Z"
   },
   {
    "duration": 22,
    "start_time": "2022-05-08T08:56:42.050Z"
   },
   {
    "duration": 17,
    "start_time": "2022-05-08T08:56:42.074Z"
   },
   {
    "duration": 4,
    "start_time": "2022-05-08T08:56:42.093Z"
   },
   {
    "duration": 8,
    "start_time": "2022-05-08T08:56:42.098Z"
   },
   {
    "duration": 16,
    "start_time": "2022-05-08T08:56:42.107Z"
   },
   {
    "duration": 8,
    "start_time": "2022-05-08T08:56:42.125Z"
   },
   {
    "duration": 9,
    "start_time": "2022-05-08T08:56:45.611Z"
   },
   {
    "duration": 4,
    "start_time": "2022-05-08T08:57:32.448Z"
   },
   {
    "duration": 283,
    "start_time": "2022-05-08T08:57:32.454Z"
   },
   {
    "duration": 47,
    "start_time": "2022-05-08T08:57:32.739Z"
   },
   {
    "duration": 4,
    "start_time": "2022-05-08T08:57:32.788Z"
   },
   {
    "duration": 25,
    "start_time": "2022-05-08T08:57:32.794Z"
   },
   {
    "duration": 25,
    "start_time": "2022-05-08T08:57:32.821Z"
   },
   {
    "duration": 45,
    "start_time": "2022-05-08T08:57:32.847Z"
   },
   {
    "duration": 28,
    "start_time": "2022-05-08T08:57:32.894Z"
   },
   {
    "duration": 21,
    "start_time": "2022-05-08T08:57:32.924Z"
   },
   {
    "duration": 41,
    "start_time": "2022-05-08T08:57:32.947Z"
   },
   {
    "duration": 14,
    "start_time": "2022-05-08T08:57:32.990Z"
   },
   {
    "duration": 27,
    "start_time": "2022-05-08T08:57:33.006Z"
   },
   {
    "duration": 54,
    "start_time": "2022-05-08T08:57:33.035Z"
   },
   {
    "duration": 15,
    "start_time": "2022-05-08T08:57:33.091Z"
   },
   {
    "duration": 22,
    "start_time": "2022-05-08T08:57:33.109Z"
   },
   {
    "duration": 28,
    "start_time": "2022-05-08T08:57:33.132Z"
   },
   {
    "duration": 24,
    "start_time": "2022-05-08T08:57:33.162Z"
   },
   {
    "duration": 31,
    "start_time": "2022-05-08T08:57:33.188Z"
   },
   {
    "duration": 19,
    "start_time": "2022-05-08T08:57:33.221Z"
   },
   {
    "duration": 355,
    "start_time": "2022-05-08T08:57:33.241Z"
   },
   {
    "duration": 4,
    "start_time": "2022-05-08T08:57:33.598Z"
   },
   {
    "duration": 16,
    "start_time": "2022-05-08T08:57:33.603Z"
   },
   {
    "duration": 34,
    "start_time": "2022-05-08T08:57:33.621Z"
   },
   {
    "duration": 482,
    "start_time": "2022-05-08T08:57:33.657Z"
   },
   {
    "duration": 268,
    "start_time": "2022-05-08T08:57:34.140Z"
   },
   {
    "duration": 236,
    "start_time": "2022-05-08T08:57:36.614Z"
   },
   {
    "duration": 258,
    "start_time": "2022-05-08T08:57:47.753Z"
   },
   {
    "duration": 255,
    "start_time": "2022-05-08T08:58:29.614Z"
   },
   {
    "duration": 4,
    "start_time": "2022-05-08T09:07:45.398Z"
   },
   {
    "duration": 12,
    "start_time": "2022-05-08T09:09:36.370Z"
   },
   {
    "duration": 11,
    "start_time": "2022-05-08T09:11:16.210Z"
   },
   {
    "duration": 4,
    "start_time": "2022-05-08T09:11:43.385Z"
   },
   {
    "duration": 289,
    "start_time": "2022-05-08T09:11:43.391Z"
   },
   {
    "duration": 35,
    "start_time": "2022-05-08T09:11:43.682Z"
   },
   {
    "duration": 5,
    "start_time": "2022-05-08T09:11:43.718Z"
   },
   {
    "duration": 6,
    "start_time": "2022-05-08T09:11:43.725Z"
   },
   {
    "duration": 8,
    "start_time": "2022-05-08T09:11:43.763Z"
   },
   {
    "duration": 6,
    "start_time": "2022-05-08T09:11:43.773Z"
   },
   {
    "duration": 7,
    "start_time": "2022-05-08T09:11:43.780Z"
   },
   {
    "duration": 15,
    "start_time": "2022-05-08T09:11:43.788Z"
   },
   {
    "duration": 15,
    "start_time": "2022-05-08T09:11:43.805Z"
   },
   {
    "duration": 4,
    "start_time": "2022-05-08T09:11:43.822Z"
   },
   {
    "duration": 10,
    "start_time": "2022-05-08T09:11:43.828Z"
   },
   {
    "duration": 16,
    "start_time": "2022-05-08T09:11:43.863Z"
   },
   {
    "duration": 8,
    "start_time": "2022-05-08T09:11:43.882Z"
   },
   {
    "duration": 17,
    "start_time": "2022-05-08T09:11:43.892Z"
   },
   {
    "duration": 6,
    "start_time": "2022-05-08T09:11:43.911Z"
   },
   {
    "duration": 10,
    "start_time": "2022-05-08T09:11:43.919Z"
   },
   {
    "duration": 6,
    "start_time": "2022-05-08T09:11:43.931Z"
   },
   {
    "duration": 9,
    "start_time": "2022-05-08T09:11:43.954Z"
   },
   {
    "duration": 360,
    "start_time": "2022-05-08T09:11:43.965Z"
   },
   {
    "duration": 5,
    "start_time": "2022-05-08T09:11:44.327Z"
   },
   {
    "duration": 7,
    "start_time": "2022-05-08T09:11:44.333Z"
   },
   {
    "duration": 24,
    "start_time": "2022-05-08T09:11:44.341Z"
   },
   {
    "duration": 260,
    "start_time": "2022-05-08T09:11:44.367Z"
   },
   {
    "duration": 509,
    "start_time": "2022-05-08T09:11:44.628Z"
   },
   {
    "duration": 231,
    "start_time": "2022-05-08T09:11:46.725Z"
   },
   {
    "duration": 4,
    "start_time": "2022-05-08T09:13:12.719Z"
   },
   {
    "duration": 4,
    "start_time": "2022-05-08T09:13:20.848Z"
   },
   {
    "duration": 245,
    "start_time": "2022-05-08T09:13:20.854Z"
   },
   {
    "duration": 32,
    "start_time": "2022-05-08T09:13:21.101Z"
   },
   {
    "duration": 22,
    "start_time": "2022-05-08T09:13:21.134Z"
   },
   {
    "duration": 9,
    "start_time": "2022-05-08T09:13:21.161Z"
   },
   {
    "duration": 12,
    "start_time": "2022-05-08T09:13:21.172Z"
   },
   {
    "duration": 12,
    "start_time": "2022-05-08T09:13:21.186Z"
   },
   {
    "duration": 8,
    "start_time": "2022-05-08T09:13:21.200Z"
   },
   {
    "duration": 11,
    "start_time": "2022-05-08T09:13:21.209Z"
   },
   {
    "duration": 12,
    "start_time": "2022-05-08T09:13:21.222Z"
   },
   {
    "duration": 3,
    "start_time": "2022-05-08T09:13:21.236Z"
   },
   {
    "duration": 5,
    "start_time": "2022-05-08T09:13:21.240Z"
   },
   {
    "duration": 18,
    "start_time": "2022-05-08T09:13:21.247Z"
   },
   {
    "duration": 8,
    "start_time": "2022-05-08T09:13:21.268Z"
   },
   {
    "duration": 6,
    "start_time": "2022-05-08T09:13:21.278Z"
   },
   {
    "duration": 6,
    "start_time": "2022-05-08T09:13:21.285Z"
   },
   {
    "duration": 10,
    "start_time": "2022-05-08T09:13:21.293Z"
   },
   {
    "duration": 14,
    "start_time": "2022-05-08T09:13:21.304Z"
   },
   {
    "duration": 5,
    "start_time": "2022-05-08T09:13:21.320Z"
   },
   {
    "duration": 354,
    "start_time": "2022-05-08T09:13:21.327Z"
   },
   {
    "duration": 5,
    "start_time": "2022-05-08T09:13:21.683Z"
   },
   {
    "duration": 6,
    "start_time": "2022-05-08T09:13:21.690Z"
   },
   {
    "duration": 16,
    "start_time": "2022-05-08T09:13:21.698Z"
   },
   {
    "duration": 284,
    "start_time": "2022-05-08T09:13:21.716Z"
   },
   {
    "duration": 268,
    "start_time": "2022-05-08T09:13:22.003Z"
   },
   {
    "duration": 246,
    "start_time": "2022-05-08T09:13:24.239Z"
   },
   {
    "duration": 4,
    "start_time": "2022-05-08T09:16:13.433Z"
   },
   {
    "duration": 3,
    "start_time": "2022-05-08T09:16:24.083Z"
   },
   {
    "duration": 299,
    "start_time": "2022-05-08T09:16:24.088Z"
   },
   {
    "duration": 31,
    "start_time": "2022-05-08T09:16:24.389Z"
   },
   {
    "duration": 10,
    "start_time": "2022-05-08T09:16:24.422Z"
   },
   {
    "duration": 47,
    "start_time": "2022-05-08T09:16:24.434Z"
   },
   {
    "duration": 30,
    "start_time": "2022-05-08T09:16:24.483Z"
   },
   {
    "duration": 28,
    "start_time": "2022-05-08T09:16:24.515Z"
   },
   {
    "duration": 46,
    "start_time": "2022-05-08T09:16:24.545Z"
   },
   {
    "duration": 19,
    "start_time": "2022-05-08T09:16:24.593Z"
   },
   {
    "duration": 49,
    "start_time": "2022-05-08T09:16:24.613Z"
   },
   {
    "duration": 19,
    "start_time": "2022-05-08T09:16:24.666Z"
   },
   {
    "duration": 38,
    "start_time": "2022-05-08T09:16:24.686Z"
   },
   {
    "duration": 84,
    "start_time": "2022-05-08T09:16:24.726Z"
   },
   {
    "duration": 33,
    "start_time": "2022-05-08T09:16:24.812Z"
   },
   {
    "duration": 34,
    "start_time": "2022-05-08T09:16:24.847Z"
   },
   {
    "duration": 24,
    "start_time": "2022-05-08T09:16:24.883Z"
   },
   {
    "duration": 51,
    "start_time": "2022-05-08T09:16:24.908Z"
   },
   {
    "duration": 31,
    "start_time": "2022-05-08T09:16:24.961Z"
   },
   {
    "duration": 19,
    "start_time": "2022-05-08T09:16:24.994Z"
   },
   {
    "duration": 373,
    "start_time": "2022-05-08T09:16:25.015Z"
   },
   {
    "duration": 4,
    "start_time": "2022-05-08T09:16:25.390Z"
   },
   {
    "duration": 18,
    "start_time": "2022-05-08T09:16:25.396Z"
   },
   {
    "duration": 54,
    "start_time": "2022-05-08T09:16:25.415Z"
   },
   {
    "duration": 517,
    "start_time": "2022-05-08T09:16:25.471Z"
   },
   {
    "duration": 260,
    "start_time": "2022-05-08T09:16:25.989Z"
   },
   {
    "duration": 175,
    "start_time": "2022-05-08T09:17:39.303Z"
   },
   {
    "duration": 181,
    "start_time": "2022-05-08T09:17:45.976Z"
   },
   {
    "duration": 174,
    "start_time": "2022-05-08T09:18:23.462Z"
   },
   {
    "duration": 128,
    "start_time": "2022-05-08T09:19:22.646Z"
   },
   {
    "duration": 262,
    "start_time": "2022-05-08T09:22:15.445Z"
   },
   {
    "duration": 10,
    "start_time": "2022-05-08T09:24:47.989Z"
   },
   {
    "duration": 3,
    "start_time": "2022-05-08T09:24:52.593Z"
   },
   {
    "duration": 259,
    "start_time": "2022-05-08T09:24:52.597Z"
   },
   {
    "duration": 36,
    "start_time": "2022-05-08T09:24:52.858Z"
   },
   {
    "duration": 16,
    "start_time": "2022-05-08T09:24:52.896Z"
   },
   {
    "duration": 12,
    "start_time": "2022-05-08T09:24:52.914Z"
   },
   {
    "duration": 10,
    "start_time": "2022-05-08T09:24:52.928Z"
   },
   {
    "duration": 9,
    "start_time": "2022-05-08T09:24:52.939Z"
   },
   {
    "duration": 13,
    "start_time": "2022-05-08T09:24:52.955Z"
   },
   {
    "duration": 21,
    "start_time": "2022-05-08T09:24:52.970Z"
   },
   {
    "duration": 38,
    "start_time": "2022-05-08T09:24:52.994Z"
   },
   {
    "duration": 5,
    "start_time": "2022-05-08T09:24:53.036Z"
   },
   {
    "duration": 19,
    "start_time": "2022-05-08T09:24:53.043Z"
   },
   {
    "duration": 28,
    "start_time": "2022-05-08T09:24:53.064Z"
   },
   {
    "duration": 8,
    "start_time": "2022-05-08T09:24:53.095Z"
   },
   {
    "duration": 20,
    "start_time": "2022-05-08T09:24:53.105Z"
   },
   {
    "duration": 23,
    "start_time": "2022-05-08T09:24:53.127Z"
   },
   {
    "duration": 16,
    "start_time": "2022-05-08T09:24:53.152Z"
   },
   {
    "duration": 17,
    "start_time": "2022-05-08T09:24:53.169Z"
   },
   {
    "duration": 11,
    "start_time": "2022-05-08T09:24:53.188Z"
   },
   {
    "duration": 318,
    "start_time": "2022-05-08T09:24:53.201Z"
   },
   {
    "duration": 5,
    "start_time": "2022-05-08T09:24:53.521Z"
   },
   {
    "duration": 25,
    "start_time": "2022-05-08T09:24:53.528Z"
   },
   {
    "duration": 39,
    "start_time": "2022-05-08T09:24:53.555Z"
   },
   {
    "duration": 276,
    "start_time": "2022-05-08T09:24:53.596Z"
   },
   {
    "duration": 283,
    "start_time": "2022-05-08T09:24:53.874Z"
   },
   {
    "duration": 248,
    "start_time": "2022-05-08T09:24:54.159Z"
   },
   {
    "duration": 515,
    "start_time": "2022-05-08T09:24:54.408Z"
   },
   {
    "duration": 191,
    "start_time": "2022-05-08T09:24:54.925Z"
   },
   {
    "duration": 257,
    "start_time": "2022-05-08T09:24:55.120Z"
   },
   {
    "duration": 131,
    "start_time": "2022-05-08T09:24:55.379Z"
   },
   {
    "duration": 132,
    "start_time": "2022-05-08T09:24:55.512Z"
   },
   {
    "duration": 106,
    "start_time": "2022-05-08T09:24:55.654Z"
   },
   {
    "duration": 121,
    "start_time": "2022-05-08T09:24:55.762Z"
   },
   {
    "duration": 113,
    "start_time": "2022-05-08T09:24:55.885Z"
   },
   {
    "duration": 57,
    "start_time": "2022-05-08T09:24:55.999Z"
   },
   {
    "duration": 51,
    "start_time": "2022-05-08T09:24:56.058Z"
   },
   {
    "duration": 22,
    "start_time": "2022-05-08T09:24:56.111Z"
   },
   {
    "duration": 38,
    "start_time": "2022-05-08T09:24:56.135Z"
   },
   {
    "duration": 8,
    "start_time": "2022-05-08T09:24:56.174Z"
   },
   {
    "duration": 241,
    "start_time": "2022-05-08T09:24:57.744Z"
   },
   {
    "duration": 10,
    "start_time": "2022-05-08T09:26:42.140Z"
   },
   {
    "duration": 3,
    "start_time": "2022-05-08T09:26:46.467Z"
   },
   {
    "duration": 324,
    "start_time": "2022-05-08T09:26:46.472Z"
   },
   {
    "duration": 56,
    "start_time": "2022-05-08T09:26:46.799Z"
   },
   {
    "duration": 5,
    "start_time": "2022-05-08T09:26:46.858Z"
   },
   {
    "duration": 21,
    "start_time": "2022-05-08T09:26:46.866Z"
   },
   {
    "duration": 15,
    "start_time": "2022-05-08T09:26:46.889Z"
   },
   {
    "duration": 9,
    "start_time": "2022-05-08T09:26:46.906Z"
   },
   {
    "duration": 22,
    "start_time": "2022-05-08T09:26:46.917Z"
   },
   {
    "duration": 23,
    "start_time": "2022-05-08T09:26:46.941Z"
   },
   {
    "duration": 20,
    "start_time": "2022-05-08T09:26:46.967Z"
   },
   {
    "duration": 4,
    "start_time": "2022-05-08T09:26:46.991Z"
   },
   {
    "duration": 19,
    "start_time": "2022-05-08T09:26:46.997Z"
   },
   {
    "duration": 38,
    "start_time": "2022-05-08T09:26:47.018Z"
   },
   {
    "duration": 19,
    "start_time": "2022-05-08T09:26:47.058Z"
   },
   {
    "duration": 15,
    "start_time": "2022-05-08T09:26:47.078Z"
   },
   {
    "duration": 25,
    "start_time": "2022-05-08T09:26:47.094Z"
   },
   {
    "duration": 18,
    "start_time": "2022-05-08T09:26:47.121Z"
   },
   {
    "duration": 18,
    "start_time": "2022-05-08T09:26:47.141Z"
   },
   {
    "duration": 12,
    "start_time": "2022-05-08T09:26:47.160Z"
   },
   {
    "duration": 330,
    "start_time": "2022-05-08T09:26:47.173Z"
   },
   {
    "duration": 5,
    "start_time": "2022-05-08T09:26:47.505Z"
   },
   {
    "duration": 7,
    "start_time": "2022-05-08T09:26:47.511Z"
   },
   {
    "duration": 367,
    "start_time": "2022-05-08T09:26:47.520Z"
   },
   {
    "duration": 232,
    "start_time": "2022-05-08T09:26:47.889Z"
   },
   {
    "duration": 238,
    "start_time": "2022-05-08T09:26:48.123Z"
   },
   {
    "duration": 240,
    "start_time": "2022-05-08T09:26:48.363Z"
   },
   {
    "duration": 183,
    "start_time": "2022-05-08T09:26:48.605Z"
   },
   {
    "duration": 192,
    "start_time": "2022-05-08T09:26:48.789Z"
   },
   {
    "duration": 245,
    "start_time": "2022-05-08T09:26:48.985Z"
   },
   {
    "duration": 133,
    "start_time": "2022-05-08T09:26:49.232Z"
   },
   {
    "duration": 130,
    "start_time": "2022-05-08T09:26:49.367Z"
   },
   {
    "duration": 111,
    "start_time": "2022-05-08T09:26:49.499Z"
   },
   {
    "duration": 482,
    "start_time": "2022-05-08T09:26:49.612Z"
   },
   {
    "duration": 115,
    "start_time": "2022-05-08T09:26:50.095Z"
   },
   {
    "duration": 56,
    "start_time": "2022-05-08T09:26:50.211Z"
   },
   {
    "duration": 52,
    "start_time": "2022-05-08T09:26:50.269Z"
   },
   {
    "duration": 39,
    "start_time": "2022-05-08T09:26:50.322Z"
   },
   {
    "duration": 20,
    "start_time": "2022-05-08T09:26:50.363Z"
   },
   {
    "duration": 15,
    "start_time": "2022-05-08T09:26:50.384Z"
   },
   {
    "duration": 285,
    "start_time": "2022-05-08T09:26:50.401Z"
   },
   {
    "duration": 8,
    "start_time": "2022-05-08T09:26:50.687Z"
   },
   {
    "duration": 214,
    "start_time": "2022-05-08T09:26:52.209Z"
   },
   {
    "duration": 226,
    "start_time": "2022-05-08T09:27:26.588Z"
   },
   {
    "duration": 186,
    "start_time": "2022-05-08T09:28:00.012Z"
   },
   {
    "duration": 156,
    "start_time": "2022-05-08T09:32:56.209Z"
   },
   {
    "duration": 229,
    "start_time": "2022-05-08T09:34:19.739Z"
   },
   {
    "duration": 344,
    "start_time": "2022-05-08T09:34:52.310Z"
   },
   {
    "duration": 225,
    "start_time": "2022-05-08T09:37:37.945Z"
   },
   {
    "duration": 251,
    "start_time": "2022-05-08T09:38:38.707Z"
   },
   {
    "duration": 128,
    "start_time": "2022-05-08T09:48:43.151Z"
   },
   {
    "duration": 131,
    "start_time": "2022-05-08T09:51:42.627Z"
   },
   {
    "duration": 135,
    "start_time": "2022-05-08T09:52:15.997Z"
   },
   {
    "duration": 129,
    "start_time": "2022-05-08T09:54:00.387Z"
   },
   {
    "duration": 4,
    "start_time": "2022-05-08T10:10:35.558Z"
   },
   {
    "duration": 267,
    "start_time": "2022-05-08T10:10:35.565Z"
   },
   {
    "duration": 53,
    "start_time": "2022-05-08T10:10:35.835Z"
   },
   {
    "duration": 4,
    "start_time": "2022-05-08T10:10:35.890Z"
   },
   {
    "duration": 8,
    "start_time": "2022-05-08T10:10:35.897Z"
   },
   {
    "duration": 12,
    "start_time": "2022-05-08T10:10:35.906Z"
   },
   {
    "duration": 7,
    "start_time": "2022-05-08T10:10:35.919Z"
   },
   {
    "duration": 6,
    "start_time": "2022-05-08T10:10:35.928Z"
   },
   {
    "duration": 23,
    "start_time": "2022-05-08T10:10:35.936Z"
   },
   {
    "duration": 17,
    "start_time": "2022-05-08T10:10:35.961Z"
   },
   {
    "duration": 4,
    "start_time": "2022-05-08T10:10:35.981Z"
   },
   {
    "duration": 28,
    "start_time": "2022-05-08T10:10:35.987Z"
   },
   {
    "duration": 25,
    "start_time": "2022-05-08T10:10:36.016Z"
   },
   {
    "duration": 13,
    "start_time": "2022-05-08T10:10:36.043Z"
   },
   {
    "duration": 4,
    "start_time": "2022-05-08T10:10:36.059Z"
   },
   {
    "duration": 7,
    "start_time": "2022-05-08T10:10:36.065Z"
   },
   {
    "duration": 8,
    "start_time": "2022-05-08T10:10:36.074Z"
   },
   {
    "duration": 7,
    "start_time": "2022-05-08T10:10:36.084Z"
   },
   {
    "duration": 6,
    "start_time": "2022-05-08T10:10:36.093Z"
   },
   {
    "duration": 386,
    "start_time": "2022-05-08T10:10:36.100Z"
   },
   {
    "duration": 4,
    "start_time": "2022-05-08T10:10:36.488Z"
   },
   {
    "duration": 7,
    "start_time": "2022-05-08T10:10:36.494Z"
   },
   {
    "duration": 19,
    "start_time": "2022-05-08T10:10:36.502Z"
   },
   {
    "duration": 379,
    "start_time": "2022-05-08T10:10:36.523Z"
   },
   {
    "duration": 879,
    "start_time": "2022-05-08T10:10:36.904Z"
   },
   {
    "duration": 370,
    "start_time": "2022-05-08T10:10:37.785Z"
   },
   {
    "duration": 203,
    "start_time": "2022-05-08T10:10:38.157Z"
   },
   {
    "duration": 203,
    "start_time": "2022-05-08T10:10:38.362Z"
   },
   {
    "duration": 267,
    "start_time": "2022-05-08T10:10:38.568Z"
   },
   {
    "duration": 244,
    "start_time": "2022-05-08T10:10:40.364Z"
   },
   {
    "duration": 150,
    "start_time": "2022-05-08T10:11:02.594Z"
   },
   {
    "duration": 231,
    "start_time": "2022-05-08T10:11:34.827Z"
   },
   {
    "duration": 2126,
    "start_time": "2022-05-08T10:21:48.292Z"
   },
   {
    "duration": 13,
    "start_time": "2022-05-08T10:22:11.608Z"
   },
   {
    "duration": 230,
    "start_time": "2022-05-08T10:22:25.225Z"
   },
   {
    "duration": 237,
    "start_time": "2022-05-08T10:22:32.507Z"
   },
   {
    "duration": 238,
    "start_time": "2022-05-08T10:23:01.722Z"
   },
   {
    "duration": 234,
    "start_time": "2022-05-08T10:23:16.634Z"
   },
   {
    "duration": 243,
    "start_time": "2022-05-08T10:23:51.254Z"
   },
   {
    "duration": 244,
    "start_time": "2022-05-08T10:24:00.788Z"
   },
   {
    "duration": 244,
    "start_time": "2022-05-08T10:25:05.995Z"
   },
   {
    "duration": 245,
    "start_time": "2022-05-08T10:25:27.803Z"
   },
   {
    "duration": 253,
    "start_time": "2022-05-08T10:25:36.758Z"
   },
   {
    "duration": 3,
    "start_time": "2022-05-08T10:25:43.947Z"
   },
   {
    "duration": 251,
    "start_time": "2022-05-08T10:25:43.953Z"
   },
   {
    "duration": 34,
    "start_time": "2022-05-08T10:25:44.207Z"
   },
   {
    "duration": 6,
    "start_time": "2022-05-08T10:25:44.255Z"
   },
   {
    "duration": 6,
    "start_time": "2022-05-08T10:25:44.264Z"
   },
   {
    "duration": 7,
    "start_time": "2022-05-08T10:25:44.272Z"
   },
   {
    "duration": 7,
    "start_time": "2022-05-08T10:25:44.281Z"
   },
   {
    "duration": 6,
    "start_time": "2022-05-08T10:25:44.290Z"
   },
   {
    "duration": 10,
    "start_time": "2022-05-08T10:25:44.297Z"
   },
   {
    "duration": 16,
    "start_time": "2022-05-08T10:25:44.309Z"
   },
   {
    "duration": 4,
    "start_time": "2022-05-08T10:25:44.357Z"
   },
   {
    "duration": 6,
    "start_time": "2022-05-08T10:25:44.363Z"
   },
   {
    "duration": 23,
    "start_time": "2022-05-08T10:25:44.371Z"
   },
   {
    "duration": 7,
    "start_time": "2022-05-08T10:25:44.396Z"
   },
   {
    "duration": 8,
    "start_time": "2022-05-08T10:25:44.405Z"
   },
   {
    "duration": 7,
    "start_time": "2022-05-08T10:25:44.414Z"
   },
   {
    "duration": 11,
    "start_time": "2022-05-08T10:25:44.422Z"
   },
   {
    "duration": 23,
    "start_time": "2022-05-08T10:25:44.435Z"
   },
   {
    "duration": 6,
    "start_time": "2022-05-08T10:25:44.459Z"
   },
   {
    "duration": 860,
    "start_time": "2022-05-08T10:25:44.467Z"
   },
   {
    "duration": 4,
    "start_time": "2022-05-08T10:25:45.329Z"
   },
   {
    "duration": 13,
    "start_time": "2022-05-08T10:25:45.334Z"
   },
   {
    "duration": 24,
    "start_time": "2022-05-08T10:25:45.349Z"
   },
   {
    "duration": 274,
    "start_time": "2022-05-08T10:25:45.375Z"
   },
   {
    "duration": 255,
    "start_time": "2022-05-08T10:25:45.654Z"
   },
   {
    "duration": 258,
    "start_time": "2022-05-08T10:25:45.911Z"
   },
   {
    "duration": 198,
    "start_time": "2022-05-08T10:25:46.170Z"
   },
   {
    "duration": 198,
    "start_time": "2022-05-08T10:25:46.370Z"
   },
   {
    "duration": 262,
    "start_time": "2022-05-08T10:25:46.571Z"
   },
   {
    "duration": 248,
    "start_time": "2022-05-08T10:25:46.835Z"
   },
   {
    "duration": 249,
    "start_time": "2022-05-08T10:25:51.074Z"
   },
   {
    "duration": 249,
    "start_time": "2022-05-08T10:26:01.835Z"
   },
   {
    "duration": 228,
    "start_time": "2022-05-08T10:26:33.486Z"
   },
   {
    "duration": 225,
    "start_time": "2022-05-08T10:26:41.519Z"
   },
   {
    "duration": 234,
    "start_time": "2022-05-08T10:26:46.266Z"
   },
   {
    "duration": 227,
    "start_time": "2022-05-08T10:26:53.985Z"
   },
   {
    "duration": 225,
    "start_time": "2022-05-08T10:27:05.995Z"
   },
   {
    "duration": 218,
    "start_time": "2022-05-08T10:27:32.863Z"
   },
   {
    "duration": 228,
    "start_time": "2022-05-08T10:28:33.337Z"
   },
   {
    "duration": 229,
    "start_time": "2022-05-08T10:28:57.006Z"
   },
   {
    "duration": 255,
    "start_time": "2022-05-08T10:29:05.550Z"
   },
   {
    "duration": 229,
    "start_time": "2022-05-08T10:29:26.832Z"
   },
   {
    "duration": 247,
    "start_time": "2022-05-08T10:32:50.224Z"
   },
   {
    "duration": 899,
    "start_time": "2022-05-08T10:32:54.366Z"
   },
   {
    "duration": 252,
    "start_time": "2022-05-08T10:33:01.350Z"
   },
   {
    "duration": 248,
    "start_time": "2022-05-08T10:34:21.255Z"
   },
   {
    "duration": 240,
    "start_time": "2022-05-08T10:34:34.187Z"
   },
   {
    "duration": 723,
    "start_time": "2022-05-08T10:35:09.833Z"
   },
   {
    "duration": 252,
    "start_time": "2022-05-08T10:35:10.558Z"
   },
   {
    "duration": 44,
    "start_time": "2022-05-08T10:35:10.812Z"
   },
   {
    "duration": 5,
    "start_time": "2022-05-08T10:35:10.858Z"
   },
   {
    "duration": 10,
    "start_time": "2022-05-08T10:35:10.864Z"
   },
   {
    "duration": 6,
    "start_time": "2022-05-08T10:35:10.875Z"
   },
   {
    "duration": 5,
    "start_time": "2022-05-08T10:35:10.883Z"
   },
   {
    "duration": 7,
    "start_time": "2022-05-08T10:35:10.889Z"
   },
   {
    "duration": 9,
    "start_time": "2022-05-08T10:35:10.898Z"
   },
   {
    "duration": 17,
    "start_time": "2022-05-08T10:35:10.911Z"
   },
   {
    "duration": 4,
    "start_time": "2022-05-08T10:35:10.955Z"
   },
   {
    "duration": 5,
    "start_time": "2022-05-08T10:35:10.961Z"
   },
   {
    "duration": 17,
    "start_time": "2022-05-08T10:35:10.968Z"
   },
   {
    "duration": 8,
    "start_time": "2022-05-08T10:35:10.987Z"
   },
   {
    "duration": 6,
    "start_time": "2022-05-08T10:35:10.997Z"
   },
   {
    "duration": 6,
    "start_time": "2022-05-08T10:35:11.004Z"
   },
   {
    "duration": 8,
    "start_time": "2022-05-08T10:35:11.012Z"
   },
   {
    "duration": 34,
    "start_time": "2022-05-08T10:35:11.022Z"
   },
   {
    "duration": 6,
    "start_time": "2022-05-08T10:35:11.058Z"
   },
   {
    "duration": 363,
    "start_time": "2022-05-08T10:35:11.065Z"
   },
   {
    "duration": 5,
    "start_time": "2022-05-08T10:35:11.430Z"
   },
   {
    "duration": 7,
    "start_time": "2022-05-08T10:35:11.436Z"
   },
   {
    "duration": 16,
    "start_time": "2022-05-08T10:35:11.454Z"
   },
   {
    "duration": 354,
    "start_time": "2022-05-08T10:35:11.472Z"
   },
   {
    "duration": 271,
    "start_time": "2022-05-08T10:35:11.828Z"
   },
   {
    "duration": 266,
    "start_time": "2022-05-08T10:35:12.101Z"
   },
   {
    "duration": 199,
    "start_time": "2022-05-08T10:35:12.369Z"
   },
   {
    "duration": 197,
    "start_time": "2022-05-08T10:35:12.571Z"
   },
   {
    "duration": 253,
    "start_time": "2022-05-08T10:35:12.770Z"
   },
   {
    "duration": 237,
    "start_time": "2022-05-08T10:35:13.025Z"
   },
   {
    "duration": 368,
    "start_time": "2022-05-08T10:35:16.955Z"
   },
   {
    "duration": 247,
    "start_time": "2022-05-08T10:35:37.070Z"
   },
   {
    "duration": 258,
    "start_time": "2022-05-08T10:35:49.446Z"
   },
   {
    "duration": 235,
    "start_time": "2022-05-08T10:36:50.696Z"
   },
   {
    "duration": 227,
    "start_time": "2022-05-08T10:37:06.858Z"
   },
   {
    "duration": 366,
    "start_time": "2022-05-08T10:37:46.903Z"
   },
   {
    "duration": 227,
    "start_time": "2022-05-08T10:37:58.085Z"
   },
   {
    "duration": 141,
    "start_time": "2022-05-08T10:39:40.157Z"
   },
   {
    "duration": 239,
    "start_time": "2022-05-08T10:40:05.505Z"
   },
   {
    "duration": 3,
    "start_time": "2022-05-08T10:40:12.896Z"
   },
   {
    "duration": 250,
    "start_time": "2022-05-08T10:40:12.903Z"
   },
   {
    "duration": 35,
    "start_time": "2022-05-08T10:40:13.155Z"
   },
   {
    "duration": 5,
    "start_time": "2022-05-08T10:40:13.192Z"
   },
   {
    "duration": 6,
    "start_time": "2022-05-08T10:40:13.200Z"
   },
   {
    "duration": 7,
    "start_time": "2022-05-08T10:40:13.208Z"
   },
   {
    "duration": 39,
    "start_time": "2022-05-08T10:40:13.216Z"
   },
   {
    "duration": 11,
    "start_time": "2022-05-08T10:40:13.257Z"
   },
   {
    "duration": 15,
    "start_time": "2022-05-08T10:40:13.269Z"
   },
   {
    "duration": 16,
    "start_time": "2022-05-08T10:40:13.286Z"
   },
   {
    "duration": 5,
    "start_time": "2022-05-08T10:40:13.306Z"
   },
   {
    "duration": 9,
    "start_time": "2022-05-08T10:40:13.313Z"
   },
   {
    "duration": 17,
    "start_time": "2022-05-08T10:40:13.324Z"
   },
   {
    "duration": 16,
    "start_time": "2022-05-08T10:40:13.343Z"
   },
   {
    "duration": 7,
    "start_time": "2022-05-08T10:40:13.361Z"
   },
   {
    "duration": 5,
    "start_time": "2022-05-08T10:40:13.369Z"
   },
   {
    "duration": 8,
    "start_time": "2022-05-08T10:40:13.376Z"
   },
   {
    "duration": 5,
    "start_time": "2022-05-08T10:40:13.386Z"
   },
   {
    "duration": 6,
    "start_time": "2022-05-08T10:40:13.392Z"
   },
   {
    "duration": 347,
    "start_time": "2022-05-08T10:40:13.400Z"
   },
   {
    "duration": 6,
    "start_time": "2022-05-08T10:40:13.749Z"
   },
   {
    "duration": 9,
    "start_time": "2022-05-08T10:40:13.757Z"
   },
   {
    "duration": 41,
    "start_time": "2022-05-08T10:40:13.767Z"
   },
   {
    "duration": 251,
    "start_time": "2022-05-08T10:40:13.810Z"
   },
   {
    "duration": 391,
    "start_time": "2022-05-08T10:40:14.063Z"
   },
   {
    "duration": 258,
    "start_time": "2022-05-08T10:40:14.456Z"
   },
   {
    "duration": 195,
    "start_time": "2022-05-08T10:40:14.716Z"
   },
   {
    "duration": 206,
    "start_time": "2022-05-08T10:40:14.913Z"
   },
   {
    "duration": 265,
    "start_time": "2022-05-08T10:40:15.123Z"
   },
   {
    "duration": 3,
    "start_time": "2022-05-08T10:40:29.342Z"
   },
   {
    "duration": 258,
    "start_time": "2022-05-08T10:40:29.348Z"
   },
   {
    "duration": 46,
    "start_time": "2022-05-08T10:40:29.608Z"
   },
   {
    "duration": 5,
    "start_time": "2022-05-08T10:40:29.656Z"
   },
   {
    "duration": 9,
    "start_time": "2022-05-08T10:40:29.663Z"
   },
   {
    "duration": 7,
    "start_time": "2022-05-08T10:40:29.673Z"
   },
   {
    "duration": 10,
    "start_time": "2022-05-08T10:40:29.682Z"
   },
   {
    "duration": 6,
    "start_time": "2022-05-08T10:40:29.694Z"
   },
   {
    "duration": 9,
    "start_time": "2022-05-08T10:40:29.701Z"
   },
   {
    "duration": 15,
    "start_time": "2022-05-08T10:40:29.711Z"
   },
   {
    "duration": 29,
    "start_time": "2022-05-08T10:40:29.729Z"
   },
   {
    "duration": 5,
    "start_time": "2022-05-08T10:40:29.760Z"
   },
   {
    "duration": 17,
    "start_time": "2022-05-08T10:40:29.767Z"
   },
   {
    "duration": 8,
    "start_time": "2022-05-08T10:40:29.786Z"
   },
   {
    "duration": 20,
    "start_time": "2022-05-08T10:40:29.795Z"
   },
   {
    "duration": 6,
    "start_time": "2022-05-08T10:40:29.817Z"
   },
   {
    "duration": 8,
    "start_time": "2022-05-08T10:40:29.825Z"
   },
   {
    "duration": 22,
    "start_time": "2022-05-08T10:40:29.834Z"
   },
   {
    "duration": 6,
    "start_time": "2022-05-08T10:40:29.858Z"
   },
   {
    "duration": 360,
    "start_time": "2022-05-08T10:40:29.865Z"
   },
   {
    "duration": 4,
    "start_time": "2022-05-08T10:40:30.227Z"
   },
   {
    "duration": 11,
    "start_time": "2022-05-08T10:40:30.233Z"
   },
   {
    "duration": 27,
    "start_time": "2022-05-08T10:40:30.245Z"
   },
   {
    "duration": 429,
    "start_time": "2022-05-08T10:40:30.273Z"
   },
   {
    "duration": 253,
    "start_time": "2022-05-08T10:40:30.704Z"
   },
   {
    "duration": 256,
    "start_time": "2022-05-08T10:40:30.959Z"
   },
   {
    "duration": 203,
    "start_time": "2022-05-08T10:40:31.216Z"
   },
   {
    "duration": 200,
    "start_time": "2022-05-08T10:40:31.421Z"
   },
   {
    "duration": 225,
    "start_time": "2022-05-08T10:40:34.527Z"
   },
   {
    "duration": 246,
    "start_time": "2022-05-08T10:48:53.531Z"
   },
   {
    "duration": 438,
    "start_time": "2022-05-08T10:49:07.007Z"
   },
   {
    "duration": 224,
    "start_time": "2022-05-08T10:49:56.799Z"
   },
   {
    "duration": 236,
    "start_time": "2022-05-08T10:53:39.263Z"
   },
   {
    "duration": 233,
    "start_time": "2022-05-08T10:53:56.620Z"
   },
   {
    "duration": 259,
    "start_time": "2022-05-08T10:54:09.457Z"
   },
   {
    "duration": 219,
    "start_time": "2022-05-08T10:54:40.257Z"
   },
   {
    "duration": 89,
    "start_time": "2022-05-08T10:56:16.391Z"
   },
   {
    "duration": 10,
    "start_time": "2022-05-08T10:58:00.341Z"
   },
   {
    "duration": 11,
    "start_time": "2022-05-08T10:58:26.363Z"
   },
   {
    "duration": 237,
    "start_time": "2022-05-08T10:58:38.832Z"
   },
   {
    "duration": 231,
    "start_time": "2022-05-08T10:58:55.696Z"
   },
   {
    "duration": 599,
    "start_time": "2022-05-08T10:59:23.089Z"
   },
   {
    "duration": 52,
    "start_time": "2022-05-08T10:59:57.796Z"
   },
   {
    "duration": 734,
    "start_time": "2022-05-08T11:00:01.606Z"
   },
   {
    "duration": 315,
    "start_time": "2022-05-08T11:00:02.343Z"
   },
   {
    "duration": 39,
    "start_time": "2022-05-08T11:00:02.660Z"
   },
   {
    "duration": 35,
    "start_time": "2022-05-08T11:00:02.701Z"
   },
   {
    "duration": 77,
    "start_time": "2022-05-08T11:00:02.738Z"
   },
   {
    "duration": 89,
    "start_time": "2022-05-08T11:00:02.817Z"
   },
   {
    "duration": 36,
    "start_time": "2022-05-08T11:00:02.908Z"
   },
   {
    "duration": 35,
    "start_time": "2022-05-08T11:00:02.946Z"
   },
   {
    "duration": 55,
    "start_time": "2022-05-08T11:00:02.983Z"
   },
   {
    "duration": 41,
    "start_time": "2022-05-08T11:00:03.041Z"
   },
   {
    "duration": 30,
    "start_time": "2022-05-08T11:00:03.085Z"
   },
   {
    "duration": 32,
    "start_time": "2022-05-08T11:00:03.117Z"
   },
   {
    "duration": 29,
    "start_time": "2022-05-08T11:00:03.151Z"
   },
   {
    "duration": 39,
    "start_time": "2022-05-08T11:00:03.182Z"
   },
   {
    "duration": 33,
    "start_time": "2022-05-08T11:00:03.223Z"
   },
   {
    "duration": 25,
    "start_time": "2022-05-08T11:00:03.260Z"
   },
   {
    "duration": 61,
    "start_time": "2022-05-08T11:00:03.287Z"
   },
   {
    "duration": 28,
    "start_time": "2022-05-08T11:00:03.350Z"
   },
   {
    "duration": 41,
    "start_time": "2022-05-08T11:00:03.381Z"
   },
   {
    "duration": 370,
    "start_time": "2022-05-08T11:00:03.425Z"
   },
   {
    "duration": 5,
    "start_time": "2022-05-08T11:00:03.796Z"
   },
   {
    "duration": 72,
    "start_time": "2022-05-08T11:00:03.803Z"
   },
   {
    "duration": 39,
    "start_time": "2022-05-08T11:00:03.877Z"
   },
   {
    "duration": 368,
    "start_time": "2022-05-08T11:00:03.917Z"
   },
   {
    "duration": 344,
    "start_time": "2022-05-08T11:00:04.286Z"
   },
   {
    "duration": 378,
    "start_time": "2022-05-08T11:00:04.632Z"
   },
   {
    "duration": 215,
    "start_time": "2022-05-08T11:00:05.012Z"
   },
   {
    "duration": 211,
    "start_time": "2022-05-08T11:00:05.231Z"
   },
   {
    "duration": 276,
    "start_time": "2022-05-08T11:00:05.444Z"
   },
   {
    "duration": 264,
    "start_time": "2022-05-08T11:00:05.722Z"
   },
   {
    "duration": 348,
    "start_time": "2022-05-08T11:00:08.206Z"
   },
   {
    "duration": 253,
    "start_time": "2022-05-08T11:01:16.735Z"
   },
   {
    "duration": 239,
    "start_time": "2022-05-08T11:01:32.903Z"
   },
   {
    "duration": 10,
    "start_time": "2022-05-08T11:06:51.451Z"
   },
   {
    "duration": 14,
    "start_time": "2022-05-08T11:07:16.226Z"
   },
   {
    "duration": 13,
    "start_time": "2022-05-08T11:07:29.717Z"
   },
   {
    "duration": 14,
    "start_time": "2022-05-08T11:07:32.524Z"
   },
   {
    "duration": 13,
    "start_time": "2022-05-08T11:07:35.081Z"
   },
   {
    "duration": 15,
    "start_time": "2022-05-08T11:10:23.286Z"
   },
   {
    "duration": 2476,
    "start_time": "2022-05-08T11:10:58.439Z"
   },
   {
    "duration": 2685,
    "start_time": "2022-05-08T11:11:01.029Z"
   },
   {
    "duration": 19,
    "start_time": "2022-05-08T11:12:27.199Z"
   },
   {
    "duration": 18,
    "start_time": "2022-05-08T11:13:00.179Z"
   },
   {
    "duration": 17,
    "start_time": "2022-05-08T11:13:57.478Z"
   },
   {
    "duration": 28,
    "start_time": "2022-05-08T11:14:06.632Z"
   },
   {
    "duration": 13,
    "start_time": "2022-05-08T11:14:29.663Z"
   },
   {
    "duration": 14,
    "start_time": "2022-05-08T11:14:52.116Z"
   },
   {
    "duration": 140,
    "start_time": "2022-05-08T11:15:17.197Z"
   },
   {
    "duration": 18,
    "start_time": "2022-05-08T11:15:22.485Z"
   },
   {
    "duration": 254,
    "start_time": "2022-05-08T11:15:42.370Z"
   },
   {
    "duration": 142,
    "start_time": "2022-05-08T11:15:57.181Z"
   },
   {
    "duration": 244,
    "start_time": "2022-05-08T11:16:00.872Z"
   },
   {
    "duration": 132,
    "start_time": "2022-05-08T11:19:14.778Z"
   },
   {
    "duration": 268,
    "start_time": "2022-05-08T11:19:41.880Z"
   },
   {
    "duration": 142,
    "start_time": "2022-05-08T11:19:56.945Z"
   },
   {
    "duration": 131,
    "start_time": "2022-05-08T11:20:26.116Z"
   },
   {
    "duration": 4,
    "start_time": "2022-05-08T11:20:32.783Z"
   },
   {
    "duration": 250,
    "start_time": "2022-05-08T11:20:32.789Z"
   },
   {
    "duration": 45,
    "start_time": "2022-05-08T11:20:33.041Z"
   },
   {
    "duration": 4,
    "start_time": "2022-05-08T11:20:33.088Z"
   },
   {
    "duration": 7,
    "start_time": "2022-05-08T11:20:33.094Z"
   },
   {
    "duration": 6,
    "start_time": "2022-05-08T11:20:33.103Z"
   },
   {
    "duration": 5,
    "start_time": "2022-05-08T11:20:33.111Z"
   },
   {
    "duration": 37,
    "start_time": "2022-05-08T11:20:33.118Z"
   },
   {
    "duration": 6,
    "start_time": "2022-05-08T11:20:33.156Z"
   },
   {
    "duration": 17,
    "start_time": "2022-05-08T11:20:33.164Z"
   },
   {
    "duration": 4,
    "start_time": "2022-05-08T11:20:33.183Z"
   },
   {
    "duration": 5,
    "start_time": "2022-05-08T11:20:33.188Z"
   },
   {
    "duration": 19,
    "start_time": "2022-05-08T11:20:33.195Z"
   },
   {
    "duration": 7,
    "start_time": "2022-05-08T11:20:33.216Z"
   },
   {
    "duration": 33,
    "start_time": "2022-05-08T11:20:33.225Z"
   },
   {
    "duration": 8,
    "start_time": "2022-05-08T11:20:33.259Z"
   },
   {
    "duration": 11,
    "start_time": "2022-05-08T11:20:33.269Z"
   },
   {
    "duration": 5,
    "start_time": "2022-05-08T11:20:33.282Z"
   },
   {
    "duration": 6,
    "start_time": "2022-05-08T11:20:33.289Z"
   },
   {
    "duration": 371,
    "start_time": "2022-05-08T11:20:33.296Z"
   },
   {
    "duration": 4,
    "start_time": "2022-05-08T11:20:33.669Z"
   },
   {
    "duration": 7,
    "start_time": "2022-05-08T11:20:33.675Z"
   },
   {
    "duration": 18,
    "start_time": "2022-05-08T11:20:33.683Z"
   },
   {
    "duration": 283,
    "start_time": "2022-05-08T11:20:33.702Z"
   },
   {
    "duration": 266,
    "start_time": "2022-05-08T11:20:33.986Z"
   },
   {
    "duration": 387,
    "start_time": "2022-05-08T11:20:34.253Z"
   },
   {
    "duration": 208,
    "start_time": "2022-05-08T11:20:34.642Z"
   },
   {
    "duration": 208,
    "start_time": "2022-05-08T11:20:34.853Z"
   },
   {
    "duration": 268,
    "start_time": "2022-05-08T11:20:35.065Z"
   },
   {
    "duration": 252,
    "start_time": "2022-05-08T11:20:35.335Z"
   },
   {
    "duration": 155,
    "start_time": "2022-05-08T11:20:35.589Z"
   },
   {
    "duration": 132,
    "start_time": "2022-05-08T11:20:39.619Z"
   },
   {
    "duration": 115,
    "start_time": "2022-05-08T11:21:56.689Z"
   },
   {
    "duration": 129,
    "start_time": "2022-05-08T11:22:02.973Z"
   },
   {
    "duration": 111,
    "start_time": "2022-05-08T11:22:25.182Z"
   },
   {
    "duration": 135,
    "start_time": "2022-05-08T11:23:08.850Z"
   },
   {
    "duration": 133,
    "start_time": "2022-05-08T11:23:25.035Z"
   },
   {
    "duration": 123,
    "start_time": "2022-05-08T11:24:20.325Z"
   },
   {
    "duration": 9,
    "start_time": "2022-05-08T11:24:55.070Z"
   },
   {
    "duration": 3,
    "start_time": "2022-05-08T11:24:59.591Z"
   },
   {
    "duration": 252,
    "start_time": "2022-05-08T11:24:59.596Z"
   },
   {
    "duration": 34,
    "start_time": "2022-05-08T11:24:59.854Z"
   },
   {
    "duration": 5,
    "start_time": "2022-05-08T11:24:59.889Z"
   },
   {
    "duration": 11,
    "start_time": "2022-05-08T11:24:59.896Z"
   },
   {
    "duration": 16,
    "start_time": "2022-05-08T11:24:59.908Z"
   },
   {
    "duration": 8,
    "start_time": "2022-05-08T11:24:59.926Z"
   },
   {
    "duration": 5,
    "start_time": "2022-05-08T11:24:59.954Z"
   },
   {
    "duration": 15,
    "start_time": "2022-05-08T11:24:59.960Z"
   },
   {
    "duration": 16,
    "start_time": "2022-05-08T11:24:59.977Z"
   },
   {
    "duration": 3,
    "start_time": "2022-05-08T11:24:59.995Z"
   },
   {
    "duration": 10,
    "start_time": "2022-05-08T11:25:00.000Z"
   },
   {
    "duration": 22,
    "start_time": "2022-05-08T11:25:00.012Z"
   },
   {
    "duration": 8,
    "start_time": "2022-05-08T11:25:00.056Z"
   },
   {
    "duration": 7,
    "start_time": "2022-05-08T11:25:00.066Z"
   },
   {
    "duration": 11,
    "start_time": "2022-05-08T11:25:00.075Z"
   },
   {
    "duration": 20,
    "start_time": "2022-05-08T11:25:00.088Z"
   },
   {
    "duration": 9,
    "start_time": "2022-05-08T11:25:00.110Z"
   },
   {
    "duration": 6,
    "start_time": "2022-05-08T11:25:00.121Z"
   },
   {
    "duration": 652,
    "start_time": "2022-05-08T11:25:00.129Z"
   },
   {
    "duration": 5,
    "start_time": "2022-05-08T11:25:00.782Z"
   },
   {
    "duration": 24,
    "start_time": "2022-05-08T11:25:00.789Z"
   },
   {
    "duration": 32,
    "start_time": "2022-05-08T11:25:00.815Z"
   },
   {
    "duration": 270,
    "start_time": "2022-05-08T11:25:00.848Z"
   },
   {
    "duration": 274,
    "start_time": "2022-05-08T11:25:01.120Z"
   },
   {
    "duration": 280,
    "start_time": "2022-05-08T11:25:01.396Z"
   },
   {
    "duration": 216,
    "start_time": "2022-05-08T11:25:01.679Z"
   },
   {
    "duration": 205,
    "start_time": "2022-05-08T11:25:01.897Z"
   },
   {
    "duration": 274,
    "start_time": "2022-05-08T11:25:02.104Z"
   },
   {
    "duration": 240,
    "start_time": "2022-05-08T11:25:02.379Z"
   },
   {
    "duration": 357,
    "start_time": "2022-05-08T11:25:02.621Z"
   },
   {
    "duration": 148,
    "start_time": "2022-05-08T11:25:02.980Z"
   },
   {
    "duration": 139,
    "start_time": "2022-05-08T11:25:03.130Z"
   },
   {
    "duration": 142,
    "start_time": "2022-05-08T11:25:03.271Z"
   },
   {
    "duration": 133,
    "start_time": "2022-05-08T11:25:03.415Z"
   },
   {
    "duration": 41,
    "start_time": "2022-05-08T11:25:03.554Z"
   },
   {
    "duration": 72,
    "start_time": "2022-05-08T11:25:03.597Z"
   },
   {
    "duration": 25,
    "start_time": "2022-05-08T11:25:05.599Z"
   },
   {
    "duration": 24,
    "start_time": "2022-05-08T11:25:54.782Z"
   },
   {
    "duration": 27,
    "start_time": "2022-05-08T11:26:34.240Z"
   },
   {
    "duration": 17,
    "start_time": "2022-05-08T11:26:59.898Z"
   },
   {
    "duration": 174,
    "start_time": "2022-05-08T11:28:00.724Z"
   },
   {
    "duration": 134,
    "start_time": "2022-05-08T11:30:40.699Z"
   },
   {
    "duration": 143,
    "start_time": "2022-05-08T11:31:49.990Z"
   },
   {
    "duration": 20,
    "start_time": "2022-05-08T11:34:24.965Z"
   },
   {
    "duration": 153,
    "start_time": "2022-05-08T11:35:12.682Z"
   },
   {
    "duration": 138,
    "start_time": "2022-05-08T11:35:19.596Z"
   },
   {
    "duration": 125,
    "start_time": "2022-05-08T11:35:27.234Z"
   },
   {
    "duration": 15,
    "start_time": "2022-05-08T11:35:52.274Z"
   },
   {
    "duration": 2240,
    "start_time": "2022-05-08T11:36:17.731Z"
   },
   {
    "duration": 128,
    "start_time": "2022-05-08T11:37:16.420Z"
   },
   {
    "duration": 132,
    "start_time": "2022-05-08T11:40:34.071Z"
   },
   {
    "duration": 113,
    "start_time": "2022-05-08T11:40:39.267Z"
   },
   {
    "duration": 110,
    "start_time": "2022-05-08T11:44:44.528Z"
   },
   {
    "duration": 4,
    "start_time": "2022-05-08T11:44:58.822Z"
   },
   {
    "duration": 276,
    "start_time": "2022-05-08T11:44:58.828Z"
   },
   {
    "duration": 49,
    "start_time": "2022-05-08T11:44:59.106Z"
   },
   {
    "duration": 5,
    "start_time": "2022-05-08T11:44:59.156Z"
   },
   {
    "duration": 14,
    "start_time": "2022-05-08T11:44:59.163Z"
   },
   {
    "duration": 16,
    "start_time": "2022-05-08T11:44:59.178Z"
   },
   {
    "duration": 13,
    "start_time": "2022-05-08T11:44:59.195Z"
   },
   {
    "duration": 11,
    "start_time": "2022-05-08T11:44:59.209Z"
   },
   {
    "duration": 17,
    "start_time": "2022-05-08T11:44:59.221Z"
   },
   {
    "duration": 57,
    "start_time": "2022-05-08T11:44:59.240Z"
   },
   {
    "duration": 12,
    "start_time": "2022-05-08T11:44:59.300Z"
   },
   {
    "duration": 24,
    "start_time": "2022-05-08T11:44:59.314Z"
   },
   {
    "duration": 18,
    "start_time": "2022-05-08T11:44:59.340Z"
   },
   {
    "duration": 8,
    "start_time": "2022-05-08T11:44:59.360Z"
   },
   {
    "duration": 28,
    "start_time": "2022-05-08T11:44:59.369Z"
   },
   {
    "duration": 11,
    "start_time": "2022-05-08T11:44:59.398Z"
   },
   {
    "duration": 28,
    "start_time": "2022-05-08T11:44:59.411Z"
   },
   {
    "duration": 20,
    "start_time": "2022-05-08T11:44:59.441Z"
   },
   {
    "duration": 29,
    "start_time": "2022-05-08T11:44:59.463Z"
   },
   {
    "duration": 340,
    "start_time": "2022-05-08T11:44:59.494Z"
   },
   {
    "duration": 5,
    "start_time": "2022-05-08T11:44:59.836Z"
   },
   {
    "duration": 4,
    "start_time": "2022-05-08T11:44:59.854Z"
   },
   {
    "duration": 36,
    "start_time": "2022-05-08T11:44:59.860Z"
   },
   {
    "duration": 393,
    "start_time": "2022-05-08T11:44:59.899Z"
   },
   {
    "duration": 279,
    "start_time": "2022-05-08T11:45:00.294Z"
   },
   {
    "duration": 645,
    "start_time": "2022-05-08T11:45:00.576Z"
   },
   {
    "duration": 297,
    "start_time": "2022-05-08T11:45:01.223Z"
   },
   {
    "duration": 280,
    "start_time": "2022-05-08T11:45:01.522Z"
   },
   {
    "duration": 276,
    "start_time": "2022-05-08T11:45:01.808Z"
   },
   {
    "duration": 348,
    "start_time": "2022-05-08T11:45:02.086Z"
   },
   {
    "duration": 153,
    "start_time": "2022-05-08T11:45:02.436Z"
   },
   {
    "duration": 145,
    "start_time": "2022-05-08T11:45:02.590Z"
   },
   {
    "duration": 140,
    "start_time": "2022-05-08T11:45:02.736Z"
   },
   {
    "duration": 142,
    "start_time": "2022-05-08T11:45:02.878Z"
   },
   {
    "duration": 140,
    "start_time": "2022-05-08T11:45:03.022Z"
   },
   {
    "duration": 43,
    "start_time": "2022-05-08T11:45:03.164Z"
   },
   {
    "duration": 122,
    "start_time": "2022-05-08T11:45:06.418Z"
   },
   {
    "duration": 115,
    "start_time": "2022-05-08T11:45:46.733Z"
   },
   {
    "duration": 129,
    "start_time": "2022-05-08T11:45:58.354Z"
   },
   {
    "duration": 15,
    "start_time": "2022-05-08T11:46:07.255Z"
   },
   {
    "duration": 128,
    "start_time": "2022-05-08T11:48:08.660Z"
   },
   {
    "duration": 571,
    "start_time": "2022-05-08T11:49:14.734Z"
   },
   {
    "duration": 164,
    "start_time": "2022-05-08T11:51:01.826Z"
   },
   {
    "duration": 27,
    "start_time": "2022-05-08T11:51:07.116Z"
   },
   {
    "duration": 25,
    "start_time": "2022-05-08T11:51:09.398Z"
   },
   {
    "duration": 27,
    "start_time": "2022-05-08T11:51:20.176Z"
   },
   {
    "duration": 161,
    "start_time": "2022-05-08T11:51:27.372Z"
   },
   {
    "duration": 2093,
    "start_time": "2022-05-08T11:51:40.314Z"
   },
   {
    "duration": 14388,
    "start_time": "2022-05-08T11:51:57.343Z"
   },
   {
    "duration": 14321,
    "start_time": "2022-05-08T11:52:24.668Z"
   },
   {
    "duration": 15,
    "start_time": "2022-05-08T11:53:41.287Z"
   },
   {
    "duration": 15,
    "start_time": "2022-05-08T11:53:46.041Z"
   },
   {
    "duration": 135,
    "start_time": "2022-05-08T11:55:26.525Z"
   },
   {
    "duration": 112,
    "start_time": "2022-05-08T11:56:09.000Z"
   },
   {
    "duration": 133,
    "start_time": "2022-05-08T11:56:48.425Z"
   },
   {
    "duration": 143,
    "start_time": "2022-05-08T11:57:14.684Z"
   },
   {
    "duration": 2,
    "start_time": "2022-05-08T12:01:23.100Z"
   },
   {
    "duration": 126,
    "start_time": "2022-05-08T12:04:20.823Z"
   },
   {
    "duration": 134,
    "start_time": "2022-05-08T12:05:04.287Z"
   },
   {
    "duration": 160,
    "start_time": "2022-05-08T12:05:56.308Z"
   },
   {
    "duration": 250,
    "start_time": "2022-05-08T12:09:48.297Z"
   },
   {
    "duration": 179,
    "start_time": "2022-05-08T12:10:59.020Z"
   },
   {
    "duration": 17,
    "start_time": "2022-05-08T12:11:09.567Z"
   },
   {
    "duration": 265,
    "start_time": "2022-05-08T12:11:29.939Z"
   },
   {
    "duration": 256,
    "start_time": "2022-05-08T12:11:52.578Z"
   },
   {
    "duration": 580,
    "start_time": "2022-05-08T12:12:31.108Z"
   },
   {
    "duration": 228,
    "start_time": "2022-05-08T12:14:15.592Z"
   },
   {
    "duration": 3,
    "start_time": "2022-05-08T12:14:45.244Z"
   },
   {
    "duration": 289,
    "start_time": "2022-05-08T12:14:45.250Z"
   },
   {
    "duration": 48,
    "start_time": "2022-05-08T12:14:45.542Z"
   },
   {
    "duration": 5,
    "start_time": "2022-05-08T12:14:45.592Z"
   },
   {
    "duration": 11,
    "start_time": "2022-05-08T12:14:45.599Z"
   },
   {
    "duration": 8,
    "start_time": "2022-05-08T12:14:45.612Z"
   },
   {
    "duration": 34,
    "start_time": "2022-05-08T12:14:45.622Z"
   },
   {
    "duration": 9,
    "start_time": "2022-05-08T12:14:45.658Z"
   },
   {
    "duration": 11,
    "start_time": "2022-05-08T12:14:45.669Z"
   },
   {
    "duration": 17,
    "start_time": "2022-05-08T12:14:45.682Z"
   },
   {
    "duration": 4,
    "start_time": "2022-05-08T12:14:45.702Z"
   },
   {
    "duration": 9,
    "start_time": "2022-05-08T12:14:45.708Z"
   },
   {
    "duration": 48,
    "start_time": "2022-05-08T12:14:45.718Z"
   },
   {
    "duration": 9,
    "start_time": "2022-05-08T12:14:45.768Z"
   },
   {
    "duration": 11,
    "start_time": "2022-05-08T12:14:45.779Z"
   },
   {
    "duration": 7,
    "start_time": "2022-05-08T12:14:45.792Z"
   },
   {
    "duration": 9,
    "start_time": "2022-05-08T12:14:45.801Z"
   },
   {
    "duration": 15,
    "start_time": "2022-05-08T12:14:45.812Z"
   },
   {
    "duration": 30,
    "start_time": "2022-05-08T12:14:45.829Z"
   },
   {
    "duration": 347,
    "start_time": "2022-05-08T12:14:45.861Z"
   },
   {
    "duration": 4,
    "start_time": "2022-05-08T12:14:46.209Z"
   },
   {
    "duration": 23,
    "start_time": "2022-05-08T12:14:46.215Z"
   },
   {
    "duration": 42,
    "start_time": "2022-05-08T12:14:46.240Z"
   },
   {
    "duration": 268,
    "start_time": "2022-05-08T12:14:46.284Z"
   },
   {
    "duration": 259,
    "start_time": "2022-05-08T12:14:46.554Z"
   },
   {
    "duration": 261,
    "start_time": "2022-05-08T12:14:46.815Z"
   },
   {
    "duration": 208,
    "start_time": "2022-05-08T12:14:47.078Z"
   },
   {
    "duration": 197,
    "start_time": "2022-05-08T12:14:47.287Z"
   },
   {
    "duration": 929,
    "start_time": "2022-05-08T12:14:47.489Z"
   },
   {
    "duration": 300,
    "start_time": "2022-05-08T12:14:48.420Z"
   },
   {
    "duration": 158,
    "start_time": "2022-05-08T12:14:48.722Z"
   },
   {
    "duration": 145,
    "start_time": "2022-05-08T12:14:48.882Z"
   },
   {
    "duration": 125,
    "start_time": "2022-05-08T12:14:49.029Z"
   },
   {
    "duration": 137,
    "start_time": "2022-05-08T12:14:49.156Z"
   },
   {
    "duration": 160,
    "start_time": "2022-05-08T12:14:49.294Z"
   },
   {
    "duration": 111,
    "start_time": "2022-05-08T12:14:49.457Z"
   },
   {
    "duration": 206,
    "start_time": "2022-05-08T12:14:49.570Z"
   },
   {
    "duration": 230,
    "start_time": "2022-05-08T12:14:49.777Z"
   },
   {
    "duration": 159,
    "start_time": "2022-05-08T12:14:50.009Z"
   },
   {
    "duration": 179,
    "start_time": "2022-05-08T12:14:52.037Z"
   },
   {
    "duration": 202,
    "start_time": "2022-05-08T12:21:52.845Z"
   },
   {
    "duration": 219,
    "start_time": "2022-05-08T12:23:06.215Z"
   },
   {
    "duration": 147,
    "start_time": "2022-05-08T12:23:19.178Z"
   },
   {
    "duration": 155,
    "start_time": "2022-05-08T12:23:34.582Z"
   },
   {
    "duration": 155,
    "start_time": "2022-05-08T12:24:26.729Z"
   },
   {
    "duration": 9,
    "start_time": "2022-05-08T12:26:29.636Z"
   },
   {
    "duration": 3,
    "start_time": "2022-05-08T12:26:34.529Z"
   },
   {
    "duration": 272,
    "start_time": "2022-05-08T12:26:34.534Z"
   },
   {
    "duration": 49,
    "start_time": "2022-05-08T12:26:34.808Z"
   },
   {
    "duration": 4,
    "start_time": "2022-05-08T12:26:34.859Z"
   },
   {
    "duration": 5,
    "start_time": "2022-05-08T12:26:34.866Z"
   },
   {
    "duration": 5,
    "start_time": "2022-05-08T12:26:34.873Z"
   },
   {
    "duration": 5,
    "start_time": "2022-05-08T12:26:34.880Z"
   },
   {
    "duration": 5,
    "start_time": "2022-05-08T12:26:34.886Z"
   },
   {
    "duration": 6,
    "start_time": "2022-05-08T12:26:34.893Z"
   },
   {
    "duration": 63,
    "start_time": "2022-05-08T12:26:34.901Z"
   },
   {
    "duration": 4,
    "start_time": "2022-05-08T12:26:34.967Z"
   },
   {
    "duration": 6,
    "start_time": "2022-05-08T12:26:34.973Z"
   },
   {
    "duration": 16,
    "start_time": "2022-05-08T12:26:34.980Z"
   },
   {
    "duration": 9,
    "start_time": "2022-05-08T12:26:34.997Z"
   },
   {
    "duration": 7,
    "start_time": "2022-05-08T12:26:35.008Z"
   },
   {
    "duration": 42,
    "start_time": "2022-05-08T12:26:35.017Z"
   },
   {
    "duration": 8,
    "start_time": "2022-05-08T12:26:35.061Z"
   },
   {
    "duration": 6,
    "start_time": "2022-05-08T12:26:35.071Z"
   },
   {
    "duration": 6,
    "start_time": "2022-05-08T12:26:35.078Z"
   },
   {
    "duration": 356,
    "start_time": "2022-05-08T12:26:35.085Z"
   },
   {
    "duration": 11,
    "start_time": "2022-05-08T12:26:35.443Z"
   },
   {
    "duration": 5,
    "start_time": "2022-05-08T12:26:35.456Z"
   },
   {
    "duration": 22,
    "start_time": "2022-05-08T12:26:35.463Z"
   },
   {
    "duration": 273,
    "start_time": "2022-05-08T12:26:35.487Z"
   },
   {
    "duration": 256,
    "start_time": "2022-05-08T12:26:35.762Z"
   },
   {
    "duration": 257,
    "start_time": "2022-05-08T12:26:36.019Z"
   },
   {
    "duration": 205,
    "start_time": "2022-05-08T12:26:36.278Z"
   },
   {
    "duration": 191,
    "start_time": "2022-05-08T12:26:36.485Z"
   },
   {
    "duration": 258,
    "start_time": "2022-05-08T12:26:36.680Z"
   },
   {
    "duration": 240,
    "start_time": "2022-05-08T12:26:36.939Z"
   },
   {
    "duration": 151,
    "start_time": "2022-05-08T12:26:37.181Z"
   },
   {
    "duration": 152,
    "start_time": "2022-05-08T12:26:37.333Z"
   },
   {
    "duration": 123,
    "start_time": "2022-05-08T12:26:37.487Z"
   },
   {
    "duration": 135,
    "start_time": "2022-05-08T12:26:37.612Z"
   },
   {
    "duration": 134,
    "start_time": "2022-05-08T12:26:37.754Z"
   },
   {
    "duration": 43,
    "start_time": "2022-05-08T12:26:37.890Z"
   },
   {
    "duration": 163,
    "start_time": "2022-05-08T12:26:37.935Z"
   },
   {
    "duration": 131,
    "start_time": "2022-05-08T12:26:38.100Z"
   },
   {
    "duration": 160,
    "start_time": "2022-05-08T12:26:38.233Z"
   },
   {
    "duration": 171,
    "start_time": "2022-05-08T12:26:38.395Z"
   },
   {
    "duration": 157,
    "start_time": "2022-05-08T12:26:38.568Z"
   },
   {
    "duration": 148,
    "start_time": "2022-05-08T12:26:38.727Z"
   },
   {
    "duration": 168,
    "start_time": "2022-05-08T12:26:38.877Z"
   },
   {
    "duration": 22,
    "start_time": "2022-05-08T12:26:39.047Z"
   },
   {
    "duration": 7,
    "start_time": "2022-05-08T12:26:39.071Z"
   },
   {
    "duration": 277,
    "start_time": "2022-05-08T12:26:39.080Z"
   },
   {
    "duration": 7,
    "start_time": "2022-05-08T12:26:39.359Z"
   },
   {
    "duration": 228,
    "start_time": "2022-05-08T12:26:40.744Z"
   },
   {
    "duration": 232,
    "start_time": "2022-05-08T12:26:44.991Z"
   },
   {
    "duration": 246,
    "start_time": "2022-05-08T12:26:49.911Z"
   },
   {
    "duration": 195,
    "start_time": "2022-05-08T12:26:53.249Z"
   },
   {
    "duration": 153,
    "start_time": "2022-05-08T12:29:15.222Z"
   },
   {
    "duration": 194,
    "start_time": "2022-05-08T12:29:23.376Z"
   },
   {
    "duration": 145,
    "start_time": "2022-05-08T12:29:28.974Z"
   },
   {
    "duration": 755,
    "start_time": "2022-05-08T12:29:50.930Z"
   },
   {
    "duration": 243,
    "start_time": "2022-05-08T12:30:00.325Z"
   },
   {
    "duration": 131,
    "start_time": "2022-05-08T12:32:51.102Z"
   },
   {
    "duration": 264,
    "start_time": "2022-05-08T12:34:16.766Z"
   },
   {
    "duration": 25,
    "start_time": "2022-05-08T12:40:39.541Z"
   },
   {
    "duration": 123,
    "start_time": "2022-05-08T12:43:11.175Z"
   },
   {
    "duration": 166,
    "start_time": "2022-05-08T12:43:29.403Z"
   },
   {
    "duration": 164,
    "start_time": "2022-05-08T12:45:39.361Z"
   },
   {
    "duration": 987,
    "start_time": "2022-05-08T12:52:05.202Z"
   },
   {
    "duration": 3,
    "start_time": "2022-05-08T13:09:08.840Z"
   },
   {
    "duration": 51,
    "start_time": "2022-05-08T13:10:02.538Z"
   },
   {
    "duration": 706,
    "start_time": "2022-05-08T13:10:06.865Z"
   },
   {
    "duration": 283,
    "start_time": "2022-05-08T13:10:07.573Z"
   },
   {
    "duration": 36,
    "start_time": "2022-05-08T13:10:07.857Z"
   },
   {
    "duration": 5,
    "start_time": "2022-05-08T13:10:07.895Z"
   },
   {
    "duration": 11,
    "start_time": "2022-05-08T13:10:07.902Z"
   },
   {
    "duration": 21,
    "start_time": "2022-05-08T13:10:07.915Z"
   },
   {
    "duration": 12,
    "start_time": "2022-05-08T13:10:07.938Z"
   },
   {
    "duration": 17,
    "start_time": "2022-05-08T13:10:07.952Z"
   },
   {
    "duration": 21,
    "start_time": "2022-05-08T13:10:07.971Z"
   },
   {
    "duration": 22,
    "start_time": "2022-05-08T13:10:07.994Z"
   },
   {
    "duration": 15,
    "start_time": "2022-05-08T13:10:08.018Z"
   },
   {
    "duration": 11,
    "start_time": "2022-05-08T13:10:08.035Z"
   },
   {
    "duration": 30,
    "start_time": "2022-05-08T13:10:08.047Z"
   },
   {
    "duration": 9,
    "start_time": "2022-05-08T13:10:08.080Z"
   },
   {
    "duration": 28,
    "start_time": "2022-05-08T13:10:08.090Z"
   },
   {
    "duration": 20,
    "start_time": "2022-05-08T13:10:08.120Z"
   },
   {
    "duration": 12,
    "start_time": "2022-05-08T13:10:08.141Z"
   },
   {
    "duration": 18,
    "start_time": "2022-05-08T13:10:08.155Z"
   },
   {
    "duration": 20,
    "start_time": "2022-05-08T13:10:08.175Z"
   },
   {
    "duration": 337,
    "start_time": "2022-05-08T13:10:08.197Z"
   },
   {
    "duration": 4,
    "start_time": "2022-05-08T13:10:08.536Z"
   },
   {
    "duration": 24,
    "start_time": "2022-05-08T13:10:08.542Z"
   },
   {
    "duration": 20,
    "start_time": "2022-05-08T13:10:08.568Z"
   },
   {
    "duration": 334,
    "start_time": "2022-05-08T13:10:08.590Z"
   },
   {
    "duration": 261,
    "start_time": "2022-05-08T13:10:08.925Z"
   },
   {
    "duration": 260,
    "start_time": "2022-05-08T13:10:09.188Z"
   },
   {
    "duration": 195,
    "start_time": "2022-05-08T13:10:09.450Z"
   },
   {
    "duration": 200,
    "start_time": "2022-05-08T13:10:09.646Z"
   },
   {
    "duration": 265,
    "start_time": "2022-05-08T13:10:09.848Z"
   },
   {
    "duration": 253,
    "start_time": "2022-05-08T13:10:10.115Z"
   },
   {
    "duration": 246,
    "start_time": "2022-05-08T13:10:10.370Z"
   },
   {
    "duration": 149,
    "start_time": "2022-05-08T13:10:10.618Z"
   },
   {
    "duration": 137,
    "start_time": "2022-05-08T13:10:10.769Z"
   },
   {
    "duration": 140,
    "start_time": "2022-05-08T13:10:10.908Z"
   },
   {
    "duration": 139,
    "start_time": "2022-05-08T13:10:11.055Z"
   },
   {
    "duration": 47,
    "start_time": "2022-05-08T13:10:11.196Z"
   },
   {
    "duration": 161,
    "start_time": "2022-05-08T13:10:11.255Z"
   },
   {
    "duration": 140,
    "start_time": "2022-05-08T13:10:11.418Z"
   },
   {
    "duration": 152,
    "start_time": "2022-05-08T13:10:11.559Z"
   },
   {
    "duration": 169,
    "start_time": "2022-05-08T13:10:11.713Z"
   },
   {
    "duration": 165,
    "start_time": "2022-05-08T13:10:11.886Z"
   },
   {
    "duration": 171,
    "start_time": "2022-05-08T13:10:12.053Z"
   },
   {
    "duration": 152,
    "start_time": "2022-05-08T13:10:12.226Z"
   },
   {
    "duration": 21,
    "start_time": "2022-05-08T13:10:12.380Z"
   },
   {
    "duration": 8,
    "start_time": "2022-05-08T13:10:12.403Z"
   },
   {
    "duration": 265,
    "start_time": "2022-05-08T13:10:12.413Z"
   },
   {
    "duration": 9,
    "start_time": "2022-05-08T13:10:12.680Z"
   },
   {
    "duration": 358,
    "start_time": "2022-05-08T13:10:12.691Z"
   },
   {
    "duration": 243,
    "start_time": "2022-05-08T13:10:13.052Z"
   },
   {
    "duration": 189,
    "start_time": "2022-05-08T13:10:13.298Z"
   },
   {
    "duration": 190,
    "start_time": "2022-05-08T13:10:13.489Z"
   },
   {
    "duration": 133,
    "start_time": "2022-05-08T13:10:15.514Z"
   },
   {
    "duration": 51,
    "start_time": "2022-05-08T15:51:33.130Z"
   },
   {
    "duration": 928,
    "start_time": "2022-05-08T15:51:37.990Z"
   },
   {
    "duration": 292,
    "start_time": "2022-05-08T15:51:38.920Z"
   },
   {
    "duration": 42,
    "start_time": "2022-05-08T15:51:39.214Z"
   },
   {
    "duration": 6,
    "start_time": "2022-05-08T15:51:39.259Z"
   },
   {
    "duration": 7,
    "start_time": "2022-05-08T15:51:39.267Z"
   },
   {
    "duration": 7,
    "start_time": "2022-05-08T15:51:39.276Z"
   },
   {
    "duration": 6,
    "start_time": "2022-05-08T15:51:39.284Z"
   },
   {
    "duration": 5,
    "start_time": "2022-05-08T15:51:39.291Z"
   },
   {
    "duration": 45,
    "start_time": "2022-05-08T15:51:39.298Z"
   },
   {
    "duration": 18,
    "start_time": "2022-05-08T15:51:39.346Z"
   },
   {
    "duration": 4,
    "start_time": "2022-05-08T15:51:39.366Z"
   },
   {
    "duration": 7,
    "start_time": "2022-05-08T15:51:39.371Z"
   },
   {
    "duration": 16,
    "start_time": "2022-05-08T15:51:39.380Z"
   },
   {
    "duration": 8,
    "start_time": "2022-05-08T15:51:39.398Z"
   },
   {
    "duration": 28,
    "start_time": "2022-05-08T15:51:39.407Z"
   },
   {
    "duration": 4,
    "start_time": "2022-05-08T15:51:39.437Z"
   },
   {
    "duration": 14,
    "start_time": "2022-05-08T15:51:39.443Z"
   },
   {
    "duration": 5,
    "start_time": "2022-05-08T15:51:39.459Z"
   },
   {
    "duration": 6,
    "start_time": "2022-05-08T15:51:39.466Z"
   },
   {
    "duration": 374,
    "start_time": "2022-05-08T15:51:39.473Z"
   },
   {
    "duration": 4,
    "start_time": "2022-05-08T15:51:39.849Z"
   },
   {
    "duration": 8,
    "start_time": "2022-05-08T15:51:39.855Z"
   },
   {
    "duration": 18,
    "start_time": "2022-05-08T15:51:39.865Z"
   },
   {
    "duration": 393,
    "start_time": "2022-05-08T15:51:39.885Z"
   },
   {
    "duration": 305,
    "start_time": "2022-05-08T15:51:40.279Z"
   },
   {
    "duration": 301,
    "start_time": "2022-05-08T15:51:40.586Z"
   },
   {
    "duration": 224,
    "start_time": "2022-05-08T15:51:40.889Z"
   },
   {
    "duration": 221,
    "start_time": "2022-05-08T15:51:41.117Z"
   },
   {
    "duration": 299,
    "start_time": "2022-05-08T15:51:41.339Z"
   },
   {
    "duration": 279,
    "start_time": "2022-05-08T15:51:41.640Z"
   },
   {
    "duration": 247,
    "start_time": "2022-05-08T15:51:41.921Z"
   },
   {
    "duration": 158,
    "start_time": "2022-05-08T15:51:42.170Z"
   },
   {
    "duration": 141,
    "start_time": "2022-05-08T15:51:42.330Z"
   },
   {
    "duration": 161,
    "start_time": "2022-05-08T15:51:42.473Z"
   },
   {
    "duration": 147,
    "start_time": "2022-05-08T15:51:42.636Z"
   },
   {
    "duration": 57,
    "start_time": "2022-05-08T15:51:42.785Z"
   },
   {
    "duration": 176,
    "start_time": "2022-05-08T15:51:42.843Z"
   },
   {
    "duration": 163,
    "start_time": "2022-05-08T15:51:43.022Z"
   },
   {
    "duration": 178,
    "start_time": "2022-05-08T15:51:43.188Z"
   },
   {
    "duration": 194,
    "start_time": "2022-05-08T15:51:43.368Z"
   },
   {
    "duration": 184,
    "start_time": "2022-05-08T15:51:43.564Z"
   },
   {
    "duration": 217,
    "start_time": "2022-05-08T15:51:43.750Z"
   },
   {
    "duration": 174,
    "start_time": "2022-05-08T15:51:43.969Z"
   },
   {
    "duration": 23,
    "start_time": "2022-05-08T15:51:44.145Z"
   },
   {
    "duration": 11,
    "start_time": "2022-05-08T15:51:44.170Z"
   },
   {
    "duration": 317,
    "start_time": "2022-05-08T15:51:44.183Z"
   },
   {
    "duration": 7,
    "start_time": "2022-05-08T15:51:44.502Z"
   },
   {
    "duration": 385,
    "start_time": "2022-05-08T15:51:44.511Z"
   },
   {
    "duration": 289,
    "start_time": "2022-05-08T15:51:44.897Z"
   },
   {
    "duration": 217,
    "start_time": "2022-05-08T15:51:45.187Z"
   },
   {
    "duration": 213,
    "start_time": "2022-05-08T15:51:45.406Z"
   },
   {
    "duration": 174,
    "start_time": "2022-05-08T15:51:45.621Z"
   },
   {
    "duration": 157,
    "start_time": "2022-05-08T15:52:10.805Z"
   },
   {
    "duration": 152,
    "start_time": "2022-05-08T15:53:47.563Z"
   },
   {
    "duration": 190,
    "start_time": "2022-05-08T15:56:21.926Z"
   },
   {
    "duration": 175,
    "start_time": "2022-05-08T15:59:23.167Z"
   },
   {
    "duration": 181,
    "start_time": "2022-05-08T16:18:15.497Z"
   },
   {
    "duration": 319,
    "start_time": "2022-05-08T16:20:16.119Z"
   },
   {
    "duration": 231,
    "start_time": "2022-05-08T16:25:19.559Z"
   },
   {
    "duration": 168,
    "start_time": "2022-05-08T16:25:32.550Z"
   },
   {
    "duration": 172,
    "start_time": "2022-05-08T16:25:43.651Z"
   },
   {
    "duration": 159,
    "start_time": "2022-05-08T16:26:14.713Z"
   },
   {
    "duration": 172,
    "start_time": "2022-05-08T16:27:25.024Z"
   },
   {
    "duration": 194,
    "start_time": "2022-05-08T16:28:11.872Z"
   },
   {
    "duration": 196,
    "start_time": "2022-05-08T16:28:44.078Z"
   },
   {
    "duration": 195,
    "start_time": "2022-05-08T16:28:59.579Z"
   },
   {
    "duration": 190,
    "start_time": "2022-05-08T16:29:37.959Z"
   },
   {
    "duration": 187,
    "start_time": "2022-05-08T16:30:02.378Z"
   },
   {
    "duration": 151,
    "start_time": "2022-05-08T16:30:23.858Z"
   },
   {
    "duration": 171,
    "start_time": "2022-05-08T16:30:38.814Z"
   },
   {
    "duration": 194,
    "start_time": "2022-05-08T16:30:56.830Z"
   },
   {
    "duration": 168,
    "start_time": "2022-05-08T16:33:39.575Z"
   },
   {
    "duration": 187,
    "start_time": "2022-05-08T16:33:57.614Z"
   },
   {
    "duration": 227,
    "start_time": "2022-05-08T16:34:30.197Z"
   },
   {
    "duration": 175,
    "start_time": "2022-05-08T16:41:24.889Z"
   },
   {
    "duration": 176,
    "start_time": "2022-05-08T16:41:45.943Z"
   },
   {
    "duration": 163,
    "start_time": "2022-05-08T17:10:17.598Z"
   },
   {
    "duration": 178,
    "start_time": "2022-05-08T17:10:31.131Z"
   },
   {
    "duration": 156,
    "start_time": "2022-05-08T17:11:39.384Z"
   },
   {
    "duration": 7,
    "start_time": "2022-05-08T17:11:44.571Z"
   },
   {
    "duration": 2834,
    "start_time": "2022-05-08T17:12:08.356Z"
   },
   {
    "duration": 9,
    "start_time": "2022-05-08T17:12:23.513Z"
   },
   {
    "duration": 13,
    "start_time": "2022-05-08T17:12:44.342Z"
   },
   {
    "duration": 13,
    "start_time": "2022-05-08T17:15:42.974Z"
   },
   {
    "duration": 15,
    "start_time": "2022-05-08T17:15:48.883Z"
   },
   {
    "duration": 7,
    "start_time": "2022-05-08T17:19:34.573Z"
   },
   {
    "duration": 173,
    "start_time": "2022-05-08T17:20:02.402Z"
   },
   {
    "duration": 10,
    "start_time": "2022-05-08T17:22:02.533Z"
   },
   {
    "duration": 3,
    "start_time": "2022-05-08T17:22:16.480Z"
   },
   {
    "duration": 437,
    "start_time": "2022-05-08T17:22:16.487Z"
   },
   {
    "duration": 41,
    "start_time": "2022-05-08T17:22:16.926Z"
   },
   {
    "duration": 6,
    "start_time": "2022-05-08T17:22:16.968Z"
   },
   {
    "duration": 8,
    "start_time": "2022-05-08T17:22:16.977Z"
   },
   {
    "duration": 8,
    "start_time": "2022-05-08T17:22:16.987Z"
   },
   {
    "duration": 5,
    "start_time": "2022-05-08T17:22:17.034Z"
   },
   {
    "duration": 8,
    "start_time": "2022-05-08T17:22:17.041Z"
   },
   {
    "duration": 8,
    "start_time": "2022-05-08T17:22:17.050Z"
   },
   {
    "duration": 15,
    "start_time": "2022-05-08T17:22:17.060Z"
   },
   {
    "duration": 4,
    "start_time": "2022-05-08T17:22:17.078Z"
   },
   {
    "duration": 5,
    "start_time": "2022-05-08T17:22:17.084Z"
   },
   {
    "duration": 56,
    "start_time": "2022-05-08T17:22:17.091Z"
   },
   {
    "duration": 9,
    "start_time": "2022-05-08T17:22:17.149Z"
   },
   {
    "duration": 5,
    "start_time": "2022-05-08T17:22:17.159Z"
   },
   {
    "duration": 5,
    "start_time": "2022-05-08T17:22:17.166Z"
   },
   {
    "duration": 9,
    "start_time": "2022-05-08T17:22:17.172Z"
   },
   {
    "duration": 52,
    "start_time": "2022-05-08T17:22:17.183Z"
   },
   {
    "duration": 6,
    "start_time": "2022-05-08T17:22:17.237Z"
   },
   {
    "duration": 344,
    "start_time": "2022-05-08T17:22:17.244Z"
   },
   {
    "duration": 4,
    "start_time": "2022-05-08T17:22:17.590Z"
   },
   {
    "duration": 7,
    "start_time": "2022-05-08T17:22:17.596Z"
   },
   {
    "duration": 31,
    "start_time": "2022-05-08T17:22:17.605Z"
   },
   {
    "duration": 307,
    "start_time": "2022-05-08T17:22:17.638Z"
   },
   {
    "duration": 311,
    "start_time": "2022-05-08T17:22:17.947Z"
   },
   {
    "duration": 287,
    "start_time": "2022-05-08T17:22:18.259Z"
   },
   {
    "duration": 227,
    "start_time": "2022-05-08T17:22:18.548Z"
   },
   {
    "duration": 228,
    "start_time": "2022-05-08T17:22:18.777Z"
   },
   {
    "duration": 469,
    "start_time": "2022-05-08T17:22:19.011Z"
   },
   {
    "duration": 269,
    "start_time": "2022-05-08T17:22:19.482Z"
   },
   {
    "duration": 160,
    "start_time": "2022-05-08T17:22:19.753Z"
   },
   {
    "duration": 163,
    "start_time": "2022-05-08T17:22:19.915Z"
   },
   {
    "duration": 139,
    "start_time": "2022-05-08T17:22:20.079Z"
   },
   {
    "duration": 151,
    "start_time": "2022-05-08T17:22:20.220Z"
   },
   {
    "duration": 145,
    "start_time": "2022-05-08T17:22:20.373Z"
   },
   {
    "duration": 52,
    "start_time": "2022-05-08T17:22:20.519Z"
   },
   {
    "duration": 183,
    "start_time": "2022-05-08T17:22:20.573Z"
   },
   {
    "duration": 159,
    "start_time": "2022-05-08T17:22:20.758Z"
   },
   {
    "duration": 174,
    "start_time": "2022-05-08T17:22:20.918Z"
   },
   {
    "duration": 184,
    "start_time": "2022-05-08T17:22:21.094Z"
   },
   {
    "duration": 178,
    "start_time": "2022-05-08T17:22:21.280Z"
   },
   {
    "duration": 15,
    "start_time": "2022-05-08T17:22:21.460Z"
   },
   {
    "duration": 10,
    "start_time": "2022-05-08T17:22:24.257Z"
   },
   {
    "duration": 149,
    "start_time": "2022-05-08T17:23:26.245Z"
   },
   {
    "duration": 155,
    "start_time": "2022-05-08T17:27:10.151Z"
   },
   {
    "duration": 148,
    "start_time": "2022-05-08T17:27:37.437Z"
   },
   {
    "duration": 15,
    "start_time": "2022-05-08T17:28:32.352Z"
   },
   {
    "duration": 157,
    "start_time": "2022-05-08T17:32:10.538Z"
   },
   {
    "duration": 153,
    "start_time": "2022-05-08T17:34:40.955Z"
   },
   {
    "duration": 161,
    "start_time": "2022-05-08T17:34:58.428Z"
   },
   {
    "duration": 20,
    "start_time": "2022-05-08T17:35:16.344Z"
   },
   {
    "duration": 158,
    "start_time": "2022-05-08T17:35:44.725Z"
   },
   {
    "duration": 21,
    "start_time": "2022-05-08T17:37:35.416Z"
   },
   {
    "duration": 20,
    "start_time": "2022-05-08T17:37:40.474Z"
   },
   {
    "duration": 157,
    "start_time": "2022-05-08T17:38:41.041Z"
   },
   {
    "duration": 180,
    "start_time": "2022-05-08T17:40:24.900Z"
   },
   {
    "duration": 182,
    "start_time": "2022-05-08T17:41:11.377Z"
   },
   {
    "duration": 7,
    "start_time": "2022-05-08T17:41:20.081Z"
   },
   {
    "duration": 178,
    "start_time": "2022-05-08T17:41:22.830Z"
   },
   {
    "duration": 165,
    "start_time": "2022-05-08T17:45:29.835Z"
   },
   {
    "duration": 3,
    "start_time": "2022-05-08T17:46:04.333Z"
   },
   {
    "duration": 307,
    "start_time": "2022-05-08T17:46:04.340Z"
   },
   {
    "duration": 37,
    "start_time": "2022-05-08T17:46:04.650Z"
   },
   {
    "duration": 5,
    "start_time": "2022-05-08T17:46:04.689Z"
   },
   {
    "duration": 40,
    "start_time": "2022-05-08T17:46:04.697Z"
   },
   {
    "duration": 22,
    "start_time": "2022-05-08T17:46:04.739Z"
   },
   {
    "duration": 29,
    "start_time": "2022-05-08T17:46:04.763Z"
   },
   {
    "duration": 15,
    "start_time": "2022-05-08T17:46:04.794Z"
   },
   {
    "duration": 30,
    "start_time": "2022-05-08T17:46:04.811Z"
   },
   {
    "duration": 26,
    "start_time": "2022-05-08T17:46:04.843Z"
   },
   {
    "duration": 15,
    "start_time": "2022-05-08T17:46:04.872Z"
   },
   {
    "duration": 24,
    "start_time": "2022-05-08T17:46:04.889Z"
   },
   {
    "duration": 35,
    "start_time": "2022-05-08T17:46:04.915Z"
   },
   {
    "duration": 16,
    "start_time": "2022-05-08T17:46:04.952Z"
   },
   {
    "duration": 21,
    "start_time": "2022-05-08T17:46:04.970Z"
   },
   {
    "duration": 27,
    "start_time": "2022-05-08T17:46:04.993Z"
   },
   {
    "duration": 20,
    "start_time": "2022-05-08T17:46:05.023Z"
   },
   {
    "duration": 21,
    "start_time": "2022-05-08T17:46:05.045Z"
   },
   {
    "duration": 32,
    "start_time": "2022-05-08T17:46:05.068Z"
   },
   {
    "duration": 582,
    "start_time": "2022-05-08T17:46:05.102Z"
   },
   {
    "duration": 5,
    "start_time": "2022-05-08T17:46:05.686Z"
   },
   {
    "duration": 8,
    "start_time": "2022-05-08T17:46:05.693Z"
   },
   {
    "duration": 33,
    "start_time": "2022-05-08T17:46:05.703Z"
   },
   {
    "duration": 315,
    "start_time": "2022-05-08T17:46:05.737Z"
   },
   {
    "duration": 326,
    "start_time": "2022-05-08T17:46:06.054Z"
   },
   {
    "duration": 304,
    "start_time": "2022-05-08T17:46:06.382Z"
   },
   {
    "duration": 233,
    "start_time": "2022-05-08T17:46:06.688Z"
   },
   {
    "duration": 223,
    "start_time": "2022-05-08T17:46:06.923Z"
   },
   {
    "duration": 308,
    "start_time": "2022-05-08T17:46:07.150Z"
   },
   {
    "duration": 284,
    "start_time": "2022-05-08T17:46:07.460Z"
   },
   {
    "duration": 171,
    "start_time": "2022-05-08T17:46:07.745Z"
   },
   {
    "duration": 157,
    "start_time": "2022-05-08T17:46:07.918Z"
   },
   {
    "duration": 143,
    "start_time": "2022-05-08T17:46:08.077Z"
   },
   {
    "duration": 161,
    "start_time": "2022-05-08T17:46:08.221Z"
   },
   {
    "duration": 160,
    "start_time": "2022-05-08T17:46:08.384Z"
   },
   {
    "duration": 49,
    "start_time": "2022-05-08T17:46:08.546Z"
   },
   {
    "duration": 180,
    "start_time": "2022-05-08T17:46:08.597Z"
   },
   {
    "duration": 159,
    "start_time": "2022-05-08T17:46:08.779Z"
   },
   {
    "duration": 176,
    "start_time": "2022-05-08T17:46:08.941Z"
   },
   {
    "duration": 197,
    "start_time": "2022-05-08T17:46:12.407Z"
   },
   {
    "duration": 32,
    "start_time": "2022-05-08T17:50:47.281Z"
   },
   {
    "duration": 4,
    "start_time": "2022-05-08T17:50:58.201Z"
   },
   {
    "duration": 556,
    "start_time": "2022-05-08T17:50:58.207Z"
   },
   {
    "duration": 35,
    "start_time": "2022-05-08T17:50:58.766Z"
   },
   {
    "duration": 30,
    "start_time": "2022-05-08T17:50:58.803Z"
   },
   {
    "duration": 7,
    "start_time": "2022-05-08T17:50:58.836Z"
   },
   {
    "duration": 7,
    "start_time": "2022-05-08T17:50:58.844Z"
   },
   {
    "duration": 8,
    "start_time": "2022-05-08T17:50:58.853Z"
   },
   {
    "duration": 7,
    "start_time": "2022-05-08T17:50:58.862Z"
   },
   {
    "duration": 7,
    "start_time": "2022-05-08T17:50:58.871Z"
   },
   {
    "duration": 60,
    "start_time": "2022-05-08T17:50:58.880Z"
   },
   {
    "duration": 5,
    "start_time": "2022-05-08T17:50:58.944Z"
   },
   {
    "duration": 8,
    "start_time": "2022-05-08T17:50:58.951Z"
   },
   {
    "duration": 18,
    "start_time": "2022-05-08T17:50:58.961Z"
   },
   {
    "duration": 9,
    "start_time": "2022-05-08T17:50:58.981Z"
   },
   {
    "duration": 41,
    "start_time": "2022-05-08T17:50:58.993Z"
   },
   {
    "duration": 8,
    "start_time": "2022-05-08T17:50:59.036Z"
   },
   {
    "duration": 10,
    "start_time": "2022-05-08T17:50:59.046Z"
   },
   {
    "duration": 8,
    "start_time": "2022-05-08T17:50:59.058Z"
   },
   {
    "duration": 7,
    "start_time": "2022-05-08T17:50:59.068Z"
   },
   {
    "duration": 384,
    "start_time": "2022-05-08T17:50:59.077Z"
   },
   {
    "duration": 6,
    "start_time": "2022-05-08T17:50:59.463Z"
   },
   {
    "duration": 8,
    "start_time": "2022-05-08T17:50:59.471Z"
   },
   {
    "duration": 20,
    "start_time": "2022-05-08T17:50:59.481Z"
   },
   {
    "duration": 333,
    "start_time": "2022-05-08T17:50:59.503Z"
   },
   {
    "duration": 311,
    "start_time": "2022-05-08T17:50:59.838Z"
   },
   {
    "duration": 303,
    "start_time": "2022-05-08T17:51:00.151Z"
   },
   {
    "duration": 226,
    "start_time": "2022-05-08T17:51:00.456Z"
   },
   {
    "duration": 222,
    "start_time": "2022-05-08T17:51:00.684Z"
   },
   {
    "duration": 305,
    "start_time": "2022-05-08T17:51:00.910Z"
   },
   {
    "duration": 296,
    "start_time": "2022-05-08T17:51:01.217Z"
   },
   {
    "duration": 186,
    "start_time": "2022-05-08T17:51:01.515Z"
   },
   {
    "duration": 178,
    "start_time": "2022-05-08T17:51:01.703Z"
   },
   {
    "duration": 152,
    "start_time": "2022-05-08T17:51:01.883Z"
   },
   {
    "duration": 161,
    "start_time": "2022-05-08T17:51:02.037Z"
   },
   {
    "duration": 156,
    "start_time": "2022-05-08T17:51:02.200Z"
   },
   {
    "duration": 48,
    "start_time": "2022-05-08T17:51:02.358Z"
   },
   {
    "duration": 191,
    "start_time": "2022-05-08T17:51:02.408Z"
   },
   {
    "duration": 165,
    "start_time": "2022-05-08T17:51:02.602Z"
   },
   {
    "duration": 179,
    "start_time": "2022-05-08T17:51:02.769Z"
   },
   {
    "duration": 199,
    "start_time": "2022-05-08T17:51:02.950Z"
   },
   {
    "duration": 32,
    "start_time": "2022-05-08T17:51:05.503Z"
   },
   {
    "duration": 11,
    "start_time": "2022-05-08T17:51:15.843Z"
   },
   {
    "duration": 15,
    "start_time": "2022-05-08T17:51:28.044Z"
   },
   {
    "duration": 3,
    "start_time": "2022-05-08T17:51:36.168Z"
   },
   {
    "duration": 10,
    "start_time": "2022-05-08T17:51:41.771Z"
   },
   {
    "duration": 11,
    "start_time": "2022-05-08T18:00:44.602Z"
   },
   {
    "duration": 9,
    "start_time": "2022-05-08T18:01:10.160Z"
   },
   {
    "duration": 166,
    "start_time": "2022-05-08T18:28:37.170Z"
   },
   {
    "duration": 3,
    "start_time": "2022-05-08T18:29:24.346Z"
   },
   {
    "duration": 617,
    "start_time": "2022-05-08T18:29:24.351Z"
   },
   {
    "duration": 37,
    "start_time": "2022-05-08T18:29:24.971Z"
   },
   {
    "duration": 23,
    "start_time": "2022-05-08T18:29:25.010Z"
   },
   {
    "duration": 6,
    "start_time": "2022-05-08T18:29:25.036Z"
   },
   {
    "duration": 8,
    "start_time": "2022-05-08T18:29:25.044Z"
   },
   {
    "duration": 7,
    "start_time": "2022-05-08T18:29:25.054Z"
   },
   {
    "duration": 8,
    "start_time": "2022-05-08T18:29:25.062Z"
   },
   {
    "duration": 14,
    "start_time": "2022-05-08T18:29:25.072Z"
   },
   {
    "duration": 17,
    "start_time": "2022-05-08T18:29:25.088Z"
   },
   {
    "duration": 4,
    "start_time": "2022-05-08T18:29:25.135Z"
   },
   {
    "duration": 7,
    "start_time": "2022-05-08T18:29:25.141Z"
   },
   {
    "duration": 17,
    "start_time": "2022-05-08T18:29:25.150Z"
   },
   {
    "duration": 8,
    "start_time": "2022-05-08T18:29:25.170Z"
   },
   {
    "duration": 25,
    "start_time": "2022-05-08T18:29:25.179Z"
   },
   {
    "duration": 8,
    "start_time": "2022-05-08T18:29:25.206Z"
   },
   {
    "duration": 19,
    "start_time": "2022-05-08T18:29:25.215Z"
   },
   {
    "duration": 7,
    "start_time": "2022-05-08T18:29:25.236Z"
   },
   {
    "duration": 6,
    "start_time": "2022-05-08T18:29:25.245Z"
   },
   {
    "duration": 365,
    "start_time": "2022-05-08T18:29:25.253Z"
   },
   {
    "duration": 5,
    "start_time": "2022-05-08T18:29:25.619Z"
   },
   {
    "duration": 10,
    "start_time": "2022-05-08T18:29:25.626Z"
   },
   {
    "duration": 19,
    "start_time": "2022-05-08T18:29:25.637Z"
   },
   {
    "duration": 316,
    "start_time": "2022-05-08T18:29:25.658Z"
   },
   {
    "duration": 313,
    "start_time": "2022-05-08T18:29:25.976Z"
   },
   {
    "duration": 291,
    "start_time": "2022-05-08T18:29:26.291Z"
   },
   {
    "duration": 229,
    "start_time": "2022-05-08T18:29:26.584Z"
   },
   {
    "duration": 225,
    "start_time": "2022-05-08T18:29:26.814Z"
   },
   {
    "duration": 302,
    "start_time": "2022-05-08T18:29:27.044Z"
   },
   {
    "duration": 280,
    "start_time": "2022-05-08T18:29:27.348Z"
   },
   {
    "duration": 165,
    "start_time": "2022-05-08T18:29:27.629Z"
   },
   {
    "duration": 163,
    "start_time": "2022-05-08T18:29:27.796Z"
   },
   {
    "duration": 143,
    "start_time": "2022-05-08T18:29:27.961Z"
   },
   {
    "duration": 166,
    "start_time": "2022-05-08T18:29:28.106Z"
   },
   {
    "duration": 160,
    "start_time": "2022-05-08T18:29:28.273Z"
   },
   {
    "duration": 47,
    "start_time": "2022-05-08T18:29:28.435Z"
   },
   {
    "duration": 184,
    "start_time": "2022-05-08T18:29:28.484Z"
   },
   {
    "duration": 150,
    "start_time": "2022-05-08T18:29:28.669Z"
   },
   {
    "duration": 174,
    "start_time": "2022-05-08T18:29:28.821Z"
   },
   {
    "duration": 198,
    "start_time": "2022-05-08T18:29:28.997Z"
   },
   {
    "duration": 11,
    "start_time": "2022-05-08T18:29:29.196Z"
   },
   {
    "duration": 193,
    "start_time": "2022-05-08T18:29:29.209Z"
   },
   {
    "duration": 207,
    "start_time": "2022-05-08T18:29:29.404Z"
   },
   {
    "duration": 173,
    "start_time": "2022-05-08T18:29:29.613Z"
   },
   {
    "duration": 22,
    "start_time": "2022-05-08T18:29:29.788Z"
   },
   {
    "duration": 30,
    "start_time": "2022-05-08T18:29:29.813Z"
   },
   {
    "duration": 308,
    "start_time": "2022-05-08T18:29:29.846Z"
   },
   {
    "duration": 8,
    "start_time": "2022-05-08T18:29:30.156Z"
   },
   {
    "duration": 302,
    "start_time": "2022-05-08T18:29:30.166Z"
   },
   {
    "duration": 648,
    "start_time": "2022-05-08T18:29:30.470Z"
   },
   {
    "duration": 229,
    "start_time": "2022-05-08T18:29:31.120Z"
   },
   {
    "duration": 228,
    "start_time": "2022-05-08T18:29:31.351Z"
   },
   {
    "duration": 188,
    "start_time": "2022-05-08T18:29:31.581Z"
   },
   {
    "duration": 182,
    "start_time": "2022-05-08T18:29:31.771Z"
   },
   {
    "duration": 180,
    "start_time": "2022-05-08T18:29:31.955Z"
   },
   {
    "duration": 204,
    "start_time": "2022-05-08T18:29:32.138Z"
   },
   {
    "duration": 210,
    "start_time": "2022-05-08T18:29:32.345Z"
   },
   {
    "duration": 234,
    "start_time": "2022-05-08T18:29:32.557Z"
   },
   {
    "duration": 202,
    "start_time": "2022-05-08T18:29:32.793Z"
   }
  ],
  "kernelspec": {
   "display_name": "Python 3 (ipykernel)",
   "language": "python",
   "name": "python3"
  },
  "language_info": {
   "codemirror_mode": {
    "name": "ipython",
    "version": 3
   },
   "file_extension": ".py",
   "mimetype": "text/x-python",
   "name": "python",
   "nbconvert_exporter": "python",
   "pygments_lexer": "ipython3",
   "version": "3.9.7"
  },
  "toc": {
   "base_numbering": 1,
   "nav_menu": {
    "height": "404px",
    "width": "307px"
   },
   "number_sections": true,
   "sideBar": true,
   "skip_h1_title": true,
   "title_cell": "Содержание",
   "title_sidebar": "Contents",
   "toc_cell": true,
   "toc_position": {
    "height": "609px",
    "left": "216px",
    "top": "140.141px",
    "width": "270.391px"
   },
   "toc_section_display": true,
   "toc_window_display": true
  }
 },
 "nbformat": 4,
 "nbformat_minor": 4
}
