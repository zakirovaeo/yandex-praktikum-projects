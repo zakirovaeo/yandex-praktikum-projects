{
 "cells": [
  {
   "cell_type": "markdown",
   "metadata": {},
   "source": [
    "# Определение тарифа для телеком компании"
   ]
  },
  {
   "cell_type": "markdown",
   "metadata": {},
   "source": [
    "Компания «Мегалайн» — федеральный оператора сотовой связи. Клиентам предлагают два тарифных плана: «Смарт» и «Ультра». "
   ]
  },
  {
   "cell_type": "markdown",
   "metadata": {},
   "source": [
    "**Цель исследования:** определить какой тариф приносит больше денег, чтобы скорректировать рекламный бюджет"
   ]
  },
  {
   "cell_type": "markdown",
   "metadata": {},
   "source": [
    "**Ход исследования:**\n",
    "1. Подготовка данных \n",
    "1. Анализ данных: \n",
    "    1. Сколько минут разговора, сколько сообщений и какой объём интернет-трафика требуется пользователям каждого тарифа в месяц\n",
    "    1. Среднее количество, дисперсия и стандартное отклонение. Описание распределения\n",
    "1. Проверка гипотез \n",
    "    1. средняя выручка пользователей тарифов «Ультра» и «Смарт» различаются;\n",
    "    1. средняя выручка пользователей из Москвы отличается от выручки пользователей из других регионов."
   ]
  },
  {
   "cell_type": "markdown",
   "metadata": {},
   "source": [
    "## Изучение данных из файлов"
   ]
  },
  {
   "cell_type": "code",
   "execution_count": 1,
   "metadata": {},
   "outputs": [],
   "source": [
    "#Импортируем библиотеки\n",
    "import pandas as pd\n",
    "from IPython.display import display\n",
    "import matplotlib.pyplot as plt\n",
    "from datetime import datetime \n",
    "import math\n",
    "import numpy as np\n",
    "from math import factorial\n",
    "from scipy import stats as st"
   ]
  },
  {
   "cell_type": "code",
   "execution_count": 2,
   "metadata": {},
   "outputs": [
    {
     "data": {
      "text/html": [
       "<div>\n",
       "<style scoped>\n",
       "    .dataframe tbody tr th:only-of-type {\n",
       "        vertical-align: middle;\n",
       "    }\n",
       "\n",
       "    .dataframe tbody tr th {\n",
       "        vertical-align: top;\n",
       "    }\n",
       "\n",
       "    .dataframe thead th {\n",
       "        text-align: right;\n",
       "    }\n",
       "</style>\n",
       "<table border=\"1\" class=\"dataframe\">\n",
       "  <thead>\n",
       "    <tr style=\"text-align: right;\">\n",
       "      <th></th>\n",
       "      <th>id</th>\n",
       "      <th>call_date</th>\n",
       "      <th>duration</th>\n",
       "      <th>user_id</th>\n",
       "    </tr>\n",
       "  </thead>\n",
       "  <tbody>\n",
       "    <tr>\n",
       "      <th>0</th>\n",
       "      <td>1000_0</td>\n",
       "      <td>2018-07-25</td>\n",
       "      <td>0.00</td>\n",
       "      <td>1000</td>\n",
       "    </tr>\n",
       "    <tr>\n",
       "      <th>1</th>\n",
       "      <td>1000_1</td>\n",
       "      <td>2018-08-17</td>\n",
       "      <td>0.00</td>\n",
       "      <td>1000</td>\n",
       "    </tr>\n",
       "    <tr>\n",
       "      <th>2</th>\n",
       "      <td>1000_2</td>\n",
       "      <td>2018-06-11</td>\n",
       "      <td>2.85</td>\n",
       "      <td>1000</td>\n",
       "    </tr>\n",
       "    <tr>\n",
       "      <th>3</th>\n",
       "      <td>1000_3</td>\n",
       "      <td>2018-09-21</td>\n",
       "      <td>13.80</td>\n",
       "      <td>1000</td>\n",
       "    </tr>\n",
       "    <tr>\n",
       "      <th>4</th>\n",
       "      <td>1000_4</td>\n",
       "      <td>2018-12-15</td>\n",
       "      <td>5.18</td>\n",
       "      <td>1000</td>\n",
       "    </tr>\n",
       "    <tr>\n",
       "      <th>5</th>\n",
       "      <td>1000_5</td>\n",
       "      <td>2018-11-02</td>\n",
       "      <td>0.00</td>\n",
       "      <td>1000</td>\n",
       "    </tr>\n",
       "    <tr>\n",
       "      <th>6</th>\n",
       "      <td>1000_6</td>\n",
       "      <td>2018-10-18</td>\n",
       "      <td>0.00</td>\n",
       "      <td>1000</td>\n",
       "    </tr>\n",
       "    <tr>\n",
       "      <th>7</th>\n",
       "      <td>1000_7</td>\n",
       "      <td>2018-08-22</td>\n",
       "      <td>18.31</td>\n",
       "      <td>1000</td>\n",
       "    </tr>\n",
       "    <tr>\n",
       "      <th>8</th>\n",
       "      <td>1000_8</td>\n",
       "      <td>2018-09-15</td>\n",
       "      <td>18.44</td>\n",
       "      <td>1000</td>\n",
       "    </tr>\n",
       "    <tr>\n",
       "      <th>9</th>\n",
       "      <td>1000_9</td>\n",
       "      <td>2018-08-15</td>\n",
       "      <td>0.00</td>\n",
       "      <td>1000</td>\n",
       "    </tr>\n",
       "  </tbody>\n",
       "</table>\n",
       "</div>"
      ],
      "text/plain": [
       "       id   call_date  duration  user_id\n",
       "0  1000_0  2018-07-25      0.00     1000\n",
       "1  1000_1  2018-08-17      0.00     1000\n",
       "2  1000_2  2018-06-11      2.85     1000\n",
       "3  1000_3  2018-09-21     13.80     1000\n",
       "4  1000_4  2018-12-15      5.18     1000\n",
       "5  1000_5  2018-11-02      0.00     1000\n",
       "6  1000_6  2018-10-18      0.00     1000\n",
       "7  1000_7  2018-08-22     18.31     1000\n",
       "8  1000_8  2018-09-15     18.44     1000\n",
       "9  1000_9  2018-08-15      0.00     1000"
      ]
     },
     "metadata": {},
     "output_type": "display_data"
    },
    {
     "name": "stdout",
     "output_type": "stream",
     "text": [
      "<class 'pandas.core.frame.DataFrame'>\n",
      "RangeIndex: 202607 entries, 0 to 202606\n",
      "Data columns (total 4 columns):\n",
      " #   Column     Non-Null Count   Dtype  \n",
      "---  ------     --------------   -----  \n",
      " 0   id         202607 non-null  object \n",
      " 1   call_date  202607 non-null  object \n",
      " 2   duration   202607 non-null  float64\n",
      " 3   user_id    202607 non-null  int64  \n",
      "dtypes: float64(1), int64(1), object(2)\n",
      "memory usage: 6.2+ MB\n",
      "Явных дубликатов не обнаружено\n"
     ]
    }
   ],
   "source": [
    "#Читаем данные из файла\n",
    "try:\n",
    "    calls_data = pd.read_csv('calls.csv')\n",
    "except:\n",
    "    calls_data = pd.read_csv('datasets/calls.csv')\n",
    "\n",
    "#Выводим содержимое и общую информацию\n",
    "display(calls_data.head(10)) \n",
    "calls_data.info()\n",
    "\n",
    "#Проверяем наличие явных дубликатов\n",
    "if calls_data.duplicated().sum() > 0:\n",
    "    print('Найдено дубликатов:', calls_data.duplicated().sum())\n",
    "else:\n",
    "    print('Явных дубликатов не обнаружено')"
   ]
  },
  {
   "cell_type": "markdown",
   "metadata": {},
   "source": [
    "- Пропусков нет\n",
    "- Дубликатов нет\n",
    "- Поле `call_date` необходимо привести к типу date\n",
    "- Значения в поле `duration` необходимо окгруглить в большую сторону"
   ]
  },
  {
   "cell_type": "code",
   "execution_count": 3,
   "metadata": {},
   "outputs": [
    {
     "data": {
      "text/html": [
       "<div>\n",
       "<style scoped>\n",
       "    .dataframe tbody tr th:only-of-type {\n",
       "        vertical-align: middle;\n",
       "    }\n",
       "\n",
       "    .dataframe tbody tr th {\n",
       "        vertical-align: top;\n",
       "    }\n",
       "\n",
       "    .dataframe thead th {\n",
       "        text-align: right;\n",
       "    }\n",
       "</style>\n",
       "<table border=\"1\" class=\"dataframe\">\n",
       "  <thead>\n",
       "    <tr style=\"text-align: right;\">\n",
       "      <th></th>\n",
       "      <th>Unnamed: 0</th>\n",
       "      <th>id</th>\n",
       "      <th>mb_used</th>\n",
       "      <th>session_date</th>\n",
       "      <th>user_id</th>\n",
       "    </tr>\n",
       "  </thead>\n",
       "  <tbody>\n",
       "    <tr>\n",
       "      <th>0</th>\n",
       "      <td>0</td>\n",
       "      <td>1000_0</td>\n",
       "      <td>112.95</td>\n",
       "      <td>2018-11-25</td>\n",
       "      <td>1000</td>\n",
       "    </tr>\n",
       "    <tr>\n",
       "      <th>1</th>\n",
       "      <td>1</td>\n",
       "      <td>1000_1</td>\n",
       "      <td>1052.81</td>\n",
       "      <td>2018-09-07</td>\n",
       "      <td>1000</td>\n",
       "    </tr>\n",
       "    <tr>\n",
       "      <th>2</th>\n",
       "      <td>2</td>\n",
       "      <td>1000_2</td>\n",
       "      <td>1197.26</td>\n",
       "      <td>2018-06-25</td>\n",
       "      <td>1000</td>\n",
       "    </tr>\n",
       "    <tr>\n",
       "      <th>3</th>\n",
       "      <td>3</td>\n",
       "      <td>1000_3</td>\n",
       "      <td>550.27</td>\n",
       "      <td>2018-08-22</td>\n",
       "      <td>1000</td>\n",
       "    </tr>\n",
       "    <tr>\n",
       "      <th>4</th>\n",
       "      <td>4</td>\n",
       "      <td>1000_4</td>\n",
       "      <td>302.56</td>\n",
       "      <td>2018-09-24</td>\n",
       "      <td>1000</td>\n",
       "    </tr>\n",
       "    <tr>\n",
       "      <th>5</th>\n",
       "      <td>5</td>\n",
       "      <td>1000_5</td>\n",
       "      <td>399.97</td>\n",
       "      <td>2018-10-02</td>\n",
       "      <td>1000</td>\n",
       "    </tr>\n",
       "    <tr>\n",
       "      <th>6</th>\n",
       "      <td>6</td>\n",
       "      <td>1000_6</td>\n",
       "      <td>540.08</td>\n",
       "      <td>2018-09-07</td>\n",
       "      <td>1000</td>\n",
       "    </tr>\n",
       "    <tr>\n",
       "      <th>7</th>\n",
       "      <td>7</td>\n",
       "      <td>1000_7</td>\n",
       "      <td>415.70</td>\n",
       "      <td>2018-07-11</td>\n",
       "      <td>1000</td>\n",
       "    </tr>\n",
       "    <tr>\n",
       "      <th>8</th>\n",
       "      <td>8</td>\n",
       "      <td>1000_8</td>\n",
       "      <td>505.40</td>\n",
       "      <td>2018-10-08</td>\n",
       "      <td>1000</td>\n",
       "    </tr>\n",
       "    <tr>\n",
       "      <th>9</th>\n",
       "      <td>9</td>\n",
       "      <td>1000_9</td>\n",
       "      <td>345.54</td>\n",
       "      <td>2018-09-03</td>\n",
       "      <td>1000</td>\n",
       "    </tr>\n",
       "  </tbody>\n",
       "</table>\n",
       "</div>"
      ],
      "text/plain": [
       "   Unnamed: 0      id  mb_used session_date  user_id\n",
       "0           0  1000_0   112.95   2018-11-25     1000\n",
       "1           1  1000_1  1052.81   2018-09-07     1000\n",
       "2           2  1000_2  1197.26   2018-06-25     1000\n",
       "3           3  1000_3   550.27   2018-08-22     1000\n",
       "4           4  1000_4   302.56   2018-09-24     1000\n",
       "5           5  1000_5   399.97   2018-10-02     1000\n",
       "6           6  1000_6   540.08   2018-09-07     1000\n",
       "7           7  1000_7   415.70   2018-07-11     1000\n",
       "8           8  1000_8   505.40   2018-10-08     1000\n",
       "9           9  1000_9   345.54   2018-09-03     1000"
      ]
     },
     "metadata": {},
     "output_type": "display_data"
    },
    {
     "name": "stdout",
     "output_type": "stream",
     "text": [
      "<class 'pandas.core.frame.DataFrame'>\n",
      "RangeIndex: 149396 entries, 0 to 149395\n",
      "Data columns (total 5 columns):\n",
      " #   Column        Non-Null Count   Dtype  \n",
      "---  ------        --------------   -----  \n",
      " 0   Unnamed: 0    149396 non-null  int64  \n",
      " 1   id            149396 non-null  object \n",
      " 2   mb_used       149396 non-null  float64\n",
      " 3   session_date  149396 non-null  object \n",
      " 4   user_id       149396 non-null  int64  \n",
      "dtypes: float64(1), int64(2), object(2)\n",
      "memory usage: 5.7+ MB\n",
      "Явных дубликатов не обнаружено\n"
     ]
    }
   ],
   "source": [
    "#Читаем данные из файла\n",
    "try:\n",
    "    internet_data = pd.read_csv('internet.csv')\n",
    "except:\n",
    "    internet_data = pd.read_csv('datasets/internet.csv')\n",
    "\n",
    "#Выводим содержимое и общую информацию\n",
    "display(internet_data.head(10)) \n",
    "internet_data.info()\n",
    "\n",
    "#Проверяем наличие явных дубликатов\n",
    "if internet_data.duplicated().sum() > 0:\n",
    "    print('Найдено дубликатов:', internet_data.duplicated().sum())\n",
    "else:\n",
    "    print('Явных дубликатов не обнаружено')"
   ]
  },
  {
   "cell_type": "markdown",
   "metadata": {},
   "source": [
    "- Пропусков нет\n",
    "- Дубликатов нет\n",
    "- Поле `session_date` необходимо привести к типу date"
   ]
  },
  {
   "cell_type": "code",
   "execution_count": 4,
   "metadata": {},
   "outputs": [
    {
     "data": {
      "text/html": [
       "<div>\n",
       "<style scoped>\n",
       "    .dataframe tbody tr th:only-of-type {\n",
       "        vertical-align: middle;\n",
       "    }\n",
       "\n",
       "    .dataframe tbody tr th {\n",
       "        vertical-align: top;\n",
       "    }\n",
       "\n",
       "    .dataframe thead th {\n",
       "        text-align: right;\n",
       "    }\n",
       "</style>\n",
       "<table border=\"1\" class=\"dataframe\">\n",
       "  <thead>\n",
       "    <tr style=\"text-align: right;\">\n",
       "      <th></th>\n",
       "      <th>id</th>\n",
       "      <th>message_date</th>\n",
       "      <th>user_id</th>\n",
       "    </tr>\n",
       "  </thead>\n",
       "  <tbody>\n",
       "    <tr>\n",
       "      <th>0</th>\n",
       "      <td>1000_0</td>\n",
       "      <td>2018-06-27</td>\n",
       "      <td>1000</td>\n",
       "    </tr>\n",
       "    <tr>\n",
       "      <th>1</th>\n",
       "      <td>1000_1</td>\n",
       "      <td>2018-10-08</td>\n",
       "      <td>1000</td>\n",
       "    </tr>\n",
       "    <tr>\n",
       "      <th>2</th>\n",
       "      <td>1000_2</td>\n",
       "      <td>2018-08-04</td>\n",
       "      <td>1000</td>\n",
       "    </tr>\n",
       "    <tr>\n",
       "      <th>3</th>\n",
       "      <td>1000_3</td>\n",
       "      <td>2018-06-16</td>\n",
       "      <td>1000</td>\n",
       "    </tr>\n",
       "    <tr>\n",
       "      <th>4</th>\n",
       "      <td>1000_4</td>\n",
       "      <td>2018-12-05</td>\n",
       "      <td>1000</td>\n",
       "    </tr>\n",
       "    <tr>\n",
       "      <th>5</th>\n",
       "      <td>1000_5</td>\n",
       "      <td>2018-06-20</td>\n",
       "      <td>1000</td>\n",
       "    </tr>\n",
       "    <tr>\n",
       "      <th>6</th>\n",
       "      <td>1000_6</td>\n",
       "      <td>2018-11-19</td>\n",
       "      <td>1000</td>\n",
       "    </tr>\n",
       "    <tr>\n",
       "      <th>7</th>\n",
       "      <td>1000_7</td>\n",
       "      <td>2018-10-29</td>\n",
       "      <td>1000</td>\n",
       "    </tr>\n",
       "    <tr>\n",
       "      <th>8</th>\n",
       "      <td>1000_8</td>\n",
       "      <td>2018-06-25</td>\n",
       "      <td>1000</td>\n",
       "    </tr>\n",
       "    <tr>\n",
       "      <th>9</th>\n",
       "      <td>1000_9</td>\n",
       "      <td>2018-12-18</td>\n",
       "      <td>1000</td>\n",
       "    </tr>\n",
       "  </tbody>\n",
       "</table>\n",
       "</div>"
      ],
      "text/plain": [
       "       id message_date  user_id\n",
       "0  1000_0   2018-06-27     1000\n",
       "1  1000_1   2018-10-08     1000\n",
       "2  1000_2   2018-08-04     1000\n",
       "3  1000_3   2018-06-16     1000\n",
       "4  1000_4   2018-12-05     1000\n",
       "5  1000_5   2018-06-20     1000\n",
       "6  1000_6   2018-11-19     1000\n",
       "7  1000_7   2018-10-29     1000\n",
       "8  1000_8   2018-06-25     1000\n",
       "9  1000_9   2018-12-18     1000"
      ]
     },
     "metadata": {},
     "output_type": "display_data"
    },
    {
     "name": "stdout",
     "output_type": "stream",
     "text": [
      "<class 'pandas.core.frame.DataFrame'>\n",
      "RangeIndex: 123036 entries, 0 to 123035\n",
      "Data columns (total 3 columns):\n",
      " #   Column        Non-Null Count   Dtype \n",
      "---  ------        --------------   ----- \n",
      " 0   id            123036 non-null  object\n",
      " 1   message_date  123036 non-null  object\n",
      " 2   user_id       123036 non-null  int64 \n",
      "dtypes: int64(1), object(2)\n",
      "memory usage: 2.8+ MB\n",
      "Явных дубликатов не обнаружено\n"
     ]
    }
   ],
   "source": [
    "#читаем данные из файла\n",
    "try:\n",
    "    messages_data = pd.read_csv('messages.csv')\n",
    "except:\n",
    "    messages_data = pd.read_csv('datasets/messages.csv')\n",
    "\n",
    "#выводим содержимое и общую информацию\n",
    "display(messages_data.head(10)) \n",
    "messages_data.info()\n",
    "\n",
    "#проверяем наличие явных дубликатов\n",
    "if messages_data.duplicated().sum() > 0:\n",
    "    print('Найдено дубликатов:', messages_data.duplicated().sum())\n",
    "else:\n",
    "    print('Явных дубликатов не обнаружено')   "
   ]
  },
  {
   "cell_type": "markdown",
   "metadata": {},
   "source": [
    "- Пропусков нет\n",
    "- Дубликатов нет\n",
    "- Поле `message_date` необходимо привести к типу date"
   ]
  },
  {
   "cell_type": "code",
   "execution_count": 5,
   "metadata": {},
   "outputs": [
    {
     "data": {
      "text/html": [
       "<div>\n",
       "<style scoped>\n",
       "    .dataframe tbody tr th:only-of-type {\n",
       "        vertical-align: middle;\n",
       "    }\n",
       "\n",
       "    .dataframe tbody tr th {\n",
       "        vertical-align: top;\n",
       "    }\n",
       "\n",
       "    .dataframe thead th {\n",
       "        text-align: right;\n",
       "    }\n",
       "</style>\n",
       "<table border=\"1\" class=\"dataframe\">\n",
       "  <thead>\n",
       "    <tr style=\"text-align: right;\">\n",
       "      <th></th>\n",
       "      <th>messages_included</th>\n",
       "      <th>mb_per_month_included</th>\n",
       "      <th>minutes_included</th>\n",
       "      <th>rub_monthly_fee</th>\n",
       "      <th>rub_per_gb</th>\n",
       "      <th>rub_per_message</th>\n",
       "      <th>rub_per_minute</th>\n",
       "      <th>tariff_name</th>\n",
       "    </tr>\n",
       "  </thead>\n",
       "  <tbody>\n",
       "    <tr>\n",
       "      <th>0</th>\n",
       "      <td>50</td>\n",
       "      <td>15360</td>\n",
       "      <td>500</td>\n",
       "      <td>550</td>\n",
       "      <td>200</td>\n",
       "      <td>3</td>\n",
       "      <td>3</td>\n",
       "      <td>smart</td>\n",
       "    </tr>\n",
       "    <tr>\n",
       "      <th>1</th>\n",
       "      <td>1000</td>\n",
       "      <td>30720</td>\n",
       "      <td>3000</td>\n",
       "      <td>1950</td>\n",
       "      <td>150</td>\n",
       "      <td>1</td>\n",
       "      <td>1</td>\n",
       "      <td>ultra</td>\n",
       "    </tr>\n",
       "  </tbody>\n",
       "</table>\n",
       "</div>"
      ],
      "text/plain": [
       "   messages_included  mb_per_month_included  minutes_included  \\\n",
       "0                 50                  15360               500   \n",
       "1               1000                  30720              3000   \n",
       "\n",
       "   rub_monthly_fee  rub_per_gb  rub_per_message  rub_per_minute tariff_name  \n",
       "0              550         200                3               3       smart  \n",
       "1             1950         150                1               1       ultra  "
      ]
     },
     "metadata": {},
     "output_type": "display_data"
    },
    {
     "name": "stdout",
     "output_type": "stream",
     "text": [
      "<class 'pandas.core.frame.DataFrame'>\n",
      "RangeIndex: 2 entries, 0 to 1\n",
      "Data columns (total 8 columns):\n",
      " #   Column                 Non-Null Count  Dtype \n",
      "---  ------                 --------------  ----- \n",
      " 0   messages_included      2 non-null      int64 \n",
      " 1   mb_per_month_included  2 non-null      int64 \n",
      " 2   minutes_included       2 non-null      int64 \n",
      " 3   rub_monthly_fee        2 non-null      int64 \n",
      " 4   rub_per_gb             2 non-null      int64 \n",
      " 5   rub_per_message        2 non-null      int64 \n",
      " 6   rub_per_minute         2 non-null      int64 \n",
      " 7   tariff_name            2 non-null      object\n",
      "dtypes: int64(7), object(1)\n",
      "memory usage: 256.0+ bytes\n"
     ]
    }
   ],
   "source": [
    "#читаем данные из файла\n",
    "try:\n",
    "    tariffs_data = pd.read_csv('tariffs.csv')\n",
    "except:\n",
    "    tariffs_data = pd.read_csv('datasets/tariffs.csv')\n",
    "\n",
    "#выводим содержимое и общую информацию\n",
    "display(tariffs_data.head(10)) \n",
    "tariffs_data.info()"
   ]
  },
  {
   "cell_type": "markdown",
   "metadata": {},
   "source": [
    "- Пропусков нет \n",
    "- Дубликатов нет\n",
    "- Приведение типов не требуется"
   ]
  },
  {
   "cell_type": "code",
   "execution_count": 6,
   "metadata": {},
   "outputs": [
    {
     "data": {
      "text/html": [
       "<div>\n",
       "<style scoped>\n",
       "    .dataframe tbody tr th:only-of-type {\n",
       "        vertical-align: middle;\n",
       "    }\n",
       "\n",
       "    .dataframe tbody tr th {\n",
       "        vertical-align: top;\n",
       "    }\n",
       "\n",
       "    .dataframe thead th {\n",
       "        text-align: right;\n",
       "    }\n",
       "</style>\n",
       "<table border=\"1\" class=\"dataframe\">\n",
       "  <thead>\n",
       "    <tr style=\"text-align: right;\">\n",
       "      <th></th>\n",
       "      <th>user_id</th>\n",
       "      <th>age</th>\n",
       "      <th>churn_date</th>\n",
       "      <th>city</th>\n",
       "      <th>first_name</th>\n",
       "      <th>last_name</th>\n",
       "      <th>reg_date</th>\n",
       "      <th>tariff</th>\n",
       "    </tr>\n",
       "  </thead>\n",
       "  <tbody>\n",
       "    <tr>\n",
       "      <th>0</th>\n",
       "      <td>1000</td>\n",
       "      <td>52</td>\n",
       "      <td>NaN</td>\n",
       "      <td>Краснодар</td>\n",
       "      <td>Рафаил</td>\n",
       "      <td>Верещагин</td>\n",
       "      <td>2018-05-25</td>\n",
       "      <td>ultra</td>\n",
       "    </tr>\n",
       "    <tr>\n",
       "      <th>1</th>\n",
       "      <td>1001</td>\n",
       "      <td>41</td>\n",
       "      <td>NaN</td>\n",
       "      <td>Москва</td>\n",
       "      <td>Иван</td>\n",
       "      <td>Ежов</td>\n",
       "      <td>2018-11-01</td>\n",
       "      <td>smart</td>\n",
       "    </tr>\n",
       "    <tr>\n",
       "      <th>2</th>\n",
       "      <td>1002</td>\n",
       "      <td>59</td>\n",
       "      <td>NaN</td>\n",
       "      <td>Стерлитамак</td>\n",
       "      <td>Евгений</td>\n",
       "      <td>Абрамович</td>\n",
       "      <td>2018-06-17</td>\n",
       "      <td>smart</td>\n",
       "    </tr>\n",
       "    <tr>\n",
       "      <th>3</th>\n",
       "      <td>1003</td>\n",
       "      <td>23</td>\n",
       "      <td>NaN</td>\n",
       "      <td>Москва</td>\n",
       "      <td>Белла</td>\n",
       "      <td>Белякова</td>\n",
       "      <td>2018-08-17</td>\n",
       "      <td>ultra</td>\n",
       "    </tr>\n",
       "    <tr>\n",
       "      <th>4</th>\n",
       "      <td>1004</td>\n",
       "      <td>68</td>\n",
       "      <td>NaN</td>\n",
       "      <td>Новокузнецк</td>\n",
       "      <td>Татьяна</td>\n",
       "      <td>Авдеенко</td>\n",
       "      <td>2018-05-14</td>\n",
       "      <td>ultra</td>\n",
       "    </tr>\n",
       "    <tr>\n",
       "      <th>5</th>\n",
       "      <td>1005</td>\n",
       "      <td>67</td>\n",
       "      <td>NaN</td>\n",
       "      <td>Набережные Челны</td>\n",
       "      <td>Афанасий</td>\n",
       "      <td>Горлов</td>\n",
       "      <td>2018-01-25</td>\n",
       "      <td>smart</td>\n",
       "    </tr>\n",
       "    <tr>\n",
       "      <th>6</th>\n",
       "      <td>1006</td>\n",
       "      <td>21</td>\n",
       "      <td>NaN</td>\n",
       "      <td>Ульяновск</td>\n",
       "      <td>Леонид</td>\n",
       "      <td>Ермолаев</td>\n",
       "      <td>2018-02-26</td>\n",
       "      <td>smart</td>\n",
       "    </tr>\n",
       "    <tr>\n",
       "      <th>7</th>\n",
       "      <td>1007</td>\n",
       "      <td>65</td>\n",
       "      <td>NaN</td>\n",
       "      <td>Москва</td>\n",
       "      <td>Юна</td>\n",
       "      <td>Березина</td>\n",
       "      <td>2018-04-19</td>\n",
       "      <td>smart</td>\n",
       "    </tr>\n",
       "    <tr>\n",
       "      <th>8</th>\n",
       "      <td>1008</td>\n",
       "      <td>63</td>\n",
       "      <td>NaN</td>\n",
       "      <td>Челябинск</td>\n",
       "      <td>Рустэм</td>\n",
       "      <td>Пономарёв</td>\n",
       "      <td>2018-12-19</td>\n",
       "      <td>smart</td>\n",
       "    </tr>\n",
       "    <tr>\n",
       "      <th>9</th>\n",
       "      <td>1009</td>\n",
       "      <td>24</td>\n",
       "      <td>NaN</td>\n",
       "      <td>Пермь</td>\n",
       "      <td>Василиса</td>\n",
       "      <td>Блинова</td>\n",
       "      <td>2018-03-22</td>\n",
       "      <td>smart</td>\n",
       "    </tr>\n",
       "  </tbody>\n",
       "</table>\n",
       "</div>"
      ],
      "text/plain": [
       "   user_id  age churn_date              city first_name  last_name  \\\n",
       "0     1000   52        NaN         Краснодар     Рафаил  Верещагин   \n",
       "1     1001   41        NaN            Москва       Иван       Ежов   \n",
       "2     1002   59        NaN       Стерлитамак    Евгений  Абрамович   \n",
       "3     1003   23        NaN            Москва      Белла   Белякова   \n",
       "4     1004   68        NaN       Новокузнецк    Татьяна   Авдеенко   \n",
       "5     1005   67        NaN  Набережные Челны   Афанасий     Горлов   \n",
       "6     1006   21        NaN         Ульяновск     Леонид   Ермолаев   \n",
       "7     1007   65        NaN            Москва        Юна   Березина   \n",
       "8     1008   63        NaN         Челябинск     Рустэм  Пономарёв   \n",
       "9     1009   24        NaN             Пермь   Василиса    Блинова   \n",
       "\n",
       "     reg_date tariff  \n",
       "0  2018-05-25  ultra  \n",
       "1  2018-11-01  smart  \n",
       "2  2018-06-17  smart  \n",
       "3  2018-08-17  ultra  \n",
       "4  2018-05-14  ultra  \n",
       "5  2018-01-25  smart  \n",
       "6  2018-02-26  smart  \n",
       "7  2018-04-19  smart  \n",
       "8  2018-12-19  smart  \n",
       "9  2018-03-22  smart  "
      ]
     },
     "metadata": {},
     "output_type": "display_data"
    },
    {
     "name": "stdout",
     "output_type": "stream",
     "text": [
      "<class 'pandas.core.frame.DataFrame'>\n",
      "RangeIndex: 500 entries, 0 to 499\n",
      "Data columns (total 8 columns):\n",
      " #   Column      Non-Null Count  Dtype \n",
      "---  ------      --------------  ----- \n",
      " 0   user_id     500 non-null    int64 \n",
      " 1   age         500 non-null    int64 \n",
      " 2   churn_date  38 non-null     object\n",
      " 3   city        500 non-null    object\n",
      " 4   first_name  500 non-null    object\n",
      " 5   last_name   500 non-null    object\n",
      " 6   reg_date    500 non-null    object\n",
      " 7   tariff      500 non-null    object\n",
      "dtypes: int64(2), object(6)\n",
      "memory usage: 31.4+ KB\n",
      "Явных дубликатов не обнаружено\n"
     ]
    }
   ],
   "source": [
    "#читаем данные из файла\n",
    "try:\n",
    "    users_data = pd.read_csv('users.csv')\n",
    "except:\n",
    "    users_data = pd.read_csv('datasets/users.csv')\n",
    "\n",
    "#выводим содержимое и общую информацию\n",
    "display(users_data.head(10)) \n",
    "users_data.info()\n",
    "\n",
    "#проверяем наличие явных дубликатов\n",
    "if users_data.duplicated().sum() > 0:\n",
    "    print('Найдено дубликатов:', users_data.duplicated().sum())\n",
    "else:\n",
    "    print('Явных дубликатов не обнаружено')  "
   ]
  },
  {
   "cell_type": "markdown",
   "metadata": {},
   "source": [
    "- Есть пропуски в столбце `churn_date`. Но это не является ошибкой, так как пропуск в данном столбец означает, что тариф ещё действовал на момент выгрузки данных\n",
    "- Дубликатов нет \n",
    "- Поля `churn_date` и `reg_date` необходимо привести к типу date"
   ]
  },
  {
   "cell_type": "markdown",
   "metadata": {},
   "source": [
    "## Подготовка данных"
   ]
  },
  {
   "cell_type": "markdown",
   "metadata": {},
   "source": [
    "### Приведение типов"
   ]
  },
  {
   "cell_type": "markdown",
   "metadata": {},
   "source": [
    "Для выполнения операций с датами необходимо привести столбцы `call_date`, `session_date`, `message_date`, `reg_date`, `churn_date` к типу datetime."
   ]
  },
  {
   "cell_type": "code",
   "execution_count": 7,
   "metadata": {},
   "outputs": [],
   "source": [
    "#приведем типы для столбцов с датами \n",
    "DATE_FORMAT = '%Y-%m-%d'\n",
    "calls_data['call_date'] = pd.to_datetime(calls_data['call_date'],format= DATE_FORMAT)\n",
    "internet_data['session_date'] = pd.to_datetime(internet_data['session_date'],format= DATE_FORMAT)\n",
    "messages_data['message_date'] = pd.to_datetime(messages_data['message_date'],format= DATE_FORMAT)\n",
    "users_data['reg_date'] = pd.to_datetime(users_data['reg_date'],format= DATE_FORMAT)\n",
    "users_data['churn_date'] = pd.to_datetime(users_data['churn_date'],format= DATE_FORMAT)"
   ]
  },
  {
   "cell_type": "markdown",
   "metadata": {},
   "source": [
    "### Исправление ошибок"
   ]
  },
  {
   "cell_type": "markdown",
   "metadata": {},
   "source": [
    "В описании особенностей работы Мегалайн указано, что каждый звонок округляется до минуты. Округлим в большую сторону столбец `duration` в датафрейме `calls_data`"
   ]
  },
  {
   "cell_type": "code",
   "execution_count": 8,
   "metadata": {},
   "outputs": [],
   "source": [
    "#Округлим минуты звонков в большую сторону в датафрейме calls_data \n",
    "calls_data['duration'] = calls_data['duration'].apply(np.ceil)"
   ]
  },
  {
   "cell_type": "code",
   "execution_count": 9,
   "metadata": {},
   "outputs": [],
   "source": [
    "#Приведем тип данных в столбце duration к типу int\n",
    "calls_data['duration'] = calls_data['duration'].astype(int)"
   ]
  },
  {
   "cell_type": "markdown",
   "metadata": {},
   "source": [
    "Проверим какая длительность звонков встречается"
   ]
  },
  {
   "cell_type": "code",
   "execution_count": 10,
   "metadata": {},
   "outputs": [
    {
     "name": "stdout",
     "output_type": "stream",
     "text": [
      "0     39613\n",
      "7     11510\n",
      "6     11457\n",
      "5     11411\n",
      "8     11272\n",
      "9     10973\n",
      "4     10918\n",
      "3     10362\n",
      "10    10186\n",
      "11     9385\n",
      "2      9194\n",
      "12     8448\n",
      "1      8402\n",
      "13     7486\n",
      "14     6554\n",
      "15     5505\n",
      "16     4551\n",
      "17     3671\n",
      "18     2984\n",
      "19     2411\n",
      "20     1806\n",
      "21     1304\n",
      "22      975\n",
      "23      720\n",
      "24      468\n",
      "25      363\n",
      "26      257\n",
      "27      151\n",
      "28      104\n",
      "29       56\n",
      "30       39\n",
      "31       30\n",
      "32       17\n",
      "33       10\n",
      "35        5\n",
      "34        3\n",
      "37        2\n",
      "36        2\n",
      "38        2\n",
      "Name: duration, dtype: int64\n"
     ]
    }
   ],
   "source": [
    "print(calls_data['duration'].value_counts())"
   ]
  },
  {
   "cell_type": "markdown",
   "metadata": {},
   "source": [
    "Самая популярная длительность - 0 минут. Но это не ошибка, это пропущенные звонки. "
   ]
  },
  {
   "cell_type": "markdown",
   "metadata": {},
   "source": [
    "### Подсчет данных для пользователя"
   ]
  },
  {
   "cell_type": "markdown",
   "metadata": {},
   "source": [
    "Для подсчета данных по меясцам добавим в каждый датафрейм с услугами (звонки, смс, интернет) столбец `month`. В нем будет храниться порядковый номер месяца"
   ]
  },
  {
   "cell_type": "code",
   "execution_count": 11,
   "metadata": {},
   "outputs": [],
   "source": [
    "#Добавляем столбец с номером месяца в датафреймы с услугами\n",
    "calls_data['month']= pd.DatetimeIndex(calls_data['call_date']).month\n",
    "internet_data['month']= pd.DatetimeIndex(internet_data['session_date']).month\n",
    "messages_data['month']= pd.DatetimeIndex(messages_data['message_date']).month"
   ]
  },
  {
   "cell_type": "markdown",
   "metadata": {},
   "source": [
    "#### Количество сделанных звонков и израсходованных минут разговора по месяцам"
   ]
  },
  {
   "cell_type": "code",
   "execution_count": 12,
   "metadata": {},
   "outputs": [
    {
     "data": {
      "text/html": [
       "<div>\n",
       "<style scoped>\n",
       "    .dataframe tbody tr th:only-of-type {\n",
       "        vertical-align: middle;\n",
       "    }\n",
       "\n",
       "    .dataframe tbody tr th {\n",
       "        vertical-align: top;\n",
       "    }\n",
       "\n",
       "    .dataframe thead th {\n",
       "        text-align: right;\n",
       "    }\n",
       "</style>\n",
       "<table border=\"1\" class=\"dataframe\">\n",
       "  <thead>\n",
       "    <tr style=\"text-align: right;\">\n",
       "      <th></th>\n",
       "      <th></th>\n",
       "      <th>calls_duration</th>\n",
       "      <th>calls_count</th>\n",
       "    </tr>\n",
       "    <tr>\n",
       "      <th>user_id</th>\n",
       "      <th>month</th>\n",
       "      <th></th>\n",
       "      <th></th>\n",
       "    </tr>\n",
       "  </thead>\n",
       "  <tbody>\n",
       "    <tr>\n",
       "      <th rowspan=\"5\" valign=\"top\">1000</th>\n",
       "      <th>5</th>\n",
       "      <td>159</td>\n",
       "      <td>22</td>\n",
       "    </tr>\n",
       "    <tr>\n",
       "      <th>6</th>\n",
       "      <td>172</td>\n",
       "      <td>43</td>\n",
       "    </tr>\n",
       "    <tr>\n",
       "      <th>7</th>\n",
       "      <td>340</td>\n",
       "      <td>47</td>\n",
       "    </tr>\n",
       "    <tr>\n",
       "      <th>8</th>\n",
       "      <td>408</td>\n",
       "      <td>52</td>\n",
       "    </tr>\n",
       "    <tr>\n",
       "      <th>9</th>\n",
       "      <td>466</td>\n",
       "      <td>58</td>\n",
       "    </tr>\n",
       "  </tbody>\n",
       "</table>\n",
       "</div>"
      ],
      "text/plain": [
       "               calls_duration  calls_count\n",
       "user_id month                             \n",
       "1000    5                 159           22\n",
       "        6                 172           43\n",
       "        7                 340           47\n",
       "        8                 408           52\n",
       "        9                 466           58"
      ]
     },
     "metadata": {},
     "output_type": "display_data"
    }
   ],
   "source": [
    "#Создаем сводную таблицу с данными о звонках\n",
    "user_calls = (calls_data.pivot_table(index=['user_id', 'month'], \n",
    "values='duration', aggfunc=['sum', 'count']))\n",
    "#Переименовываем колонки\n",
    "user_calls.columns = ['calls_duration', 'calls_count']\n",
    "#Проверяем результат\n",
    "display(user_calls.head())"
   ]
  },
  {
   "cell_type": "markdown",
   "metadata": {},
   "source": [
    "#### Количество отправленных сообщений по месяцам"
   ]
  },
  {
   "cell_type": "code",
   "execution_count": 13,
   "metadata": {},
   "outputs": [
    {
     "data": {
      "text/html": [
       "<div>\n",
       "<style scoped>\n",
       "    .dataframe tbody tr th:only-of-type {\n",
       "        vertical-align: middle;\n",
       "    }\n",
       "\n",
       "    .dataframe tbody tr th {\n",
       "        vertical-align: top;\n",
       "    }\n",
       "\n",
       "    .dataframe thead th {\n",
       "        text-align: right;\n",
       "    }\n",
       "</style>\n",
       "<table border=\"1\" class=\"dataframe\">\n",
       "  <thead>\n",
       "    <tr style=\"text-align: right;\">\n",
       "      <th></th>\n",
       "      <th></th>\n",
       "      <th>message_count</th>\n",
       "    </tr>\n",
       "    <tr>\n",
       "      <th>user_id</th>\n",
       "      <th>month</th>\n",
       "      <th></th>\n",
       "    </tr>\n",
       "  </thead>\n",
       "  <tbody>\n",
       "    <tr>\n",
       "      <th rowspan=\"5\" valign=\"top\">1000</th>\n",
       "      <th>5</th>\n",
       "      <td>22</td>\n",
       "    </tr>\n",
       "    <tr>\n",
       "      <th>6</th>\n",
       "      <td>60</td>\n",
       "    </tr>\n",
       "    <tr>\n",
       "      <th>7</th>\n",
       "      <td>75</td>\n",
       "    </tr>\n",
       "    <tr>\n",
       "      <th>8</th>\n",
       "      <td>81</td>\n",
       "    </tr>\n",
       "    <tr>\n",
       "      <th>9</th>\n",
       "      <td>57</td>\n",
       "    </tr>\n",
       "  </tbody>\n",
       "</table>\n",
       "</div>"
      ],
      "text/plain": [
       "               message_count\n",
       "user_id month               \n",
       "1000    5                 22\n",
       "        6                 60\n",
       "        7                 75\n",
       "        8                 81\n",
       "        9                 57"
      ]
     },
     "metadata": {},
     "output_type": "display_data"
    }
   ],
   "source": [
    "#Создаем сводную таблицу с данными о сообщениях\n",
    "user_messages = messages_data.pivot_table(index=['user_id', 'month'], values='id', aggfunc= 'count')\n",
    "#Переименовываем колонки\n",
    "user_messages.columns = ['message_count']\n",
    "#Проверяем результат\n",
    "display(user_messages.head())\n"
   ]
  },
  {
   "cell_type": "markdown",
   "metadata": {},
   "source": [
    "#### Объем израсходованного интернет-трафика по месяцам"
   ]
  },
  {
   "cell_type": "code",
   "execution_count": 14,
   "metadata": {
    "scrolled": true
   },
   "outputs": [
    {
     "data": {
      "text/html": [
       "<div>\n",
       "<style scoped>\n",
       "    .dataframe tbody tr th:only-of-type {\n",
       "        vertical-align: middle;\n",
       "    }\n",
       "\n",
       "    .dataframe tbody tr th {\n",
       "        vertical-align: top;\n",
       "    }\n",
       "\n",
       "    .dataframe thead th {\n",
       "        text-align: right;\n",
       "    }\n",
       "</style>\n",
       "<table border=\"1\" class=\"dataframe\">\n",
       "  <thead>\n",
       "    <tr style=\"text-align: right;\">\n",
       "      <th></th>\n",
       "      <th></th>\n",
       "      <th>mb_used</th>\n",
       "      <th>gb_used</th>\n",
       "    </tr>\n",
       "    <tr>\n",
       "      <th>user_id</th>\n",
       "      <th>month</th>\n",
       "      <th></th>\n",
       "      <th></th>\n",
       "    </tr>\n",
       "  </thead>\n",
       "  <tbody>\n",
       "    <tr>\n",
       "      <th rowspan=\"5\" valign=\"top\">1000</th>\n",
       "      <th>5</th>\n",
       "      <td>2253.49</td>\n",
       "      <td>3.0</td>\n",
       "    </tr>\n",
       "    <tr>\n",
       "      <th>6</th>\n",
       "      <td>23233.77</td>\n",
       "      <td>23.0</td>\n",
       "    </tr>\n",
       "    <tr>\n",
       "      <th>7</th>\n",
       "      <td>14003.64</td>\n",
       "      <td>14.0</td>\n",
       "    </tr>\n",
       "    <tr>\n",
       "      <th>8</th>\n",
       "      <td>14055.93</td>\n",
       "      <td>14.0</td>\n",
       "    </tr>\n",
       "    <tr>\n",
       "      <th>9</th>\n",
       "      <td>14568.91</td>\n",
       "      <td>15.0</td>\n",
       "    </tr>\n",
       "  </tbody>\n",
       "</table>\n",
       "</div>"
      ],
      "text/plain": [
       "                mb_used  gb_used\n",
       "user_id month                   \n",
       "1000    5       2253.49      3.0\n",
       "        6      23233.77     23.0\n",
       "        7      14003.64     14.0\n",
       "        8      14055.93     14.0\n",
       "        9      14568.91     15.0"
      ]
     },
     "metadata": {},
     "output_type": "display_data"
    }
   ],
   "source": [
    "#Создаем сводную таблицу с данными об интернет-трафике\n",
    "user_internet = internet_data.pivot_table(index=['user_id', 'month'], values='mb_used', aggfunc= 'sum')\n",
    "#Добавляем столбец с расходами в гигабайтах\n",
    "user_internet['gb_used'] = (user_internet['mb_used']/ 1024).apply(np.ceil)\n",
    "#Проверяем результат\n",
    "display(user_internet.head())\n"
   ]
  },
  {
   "cell_type": "code",
   "execution_count": 15,
   "metadata": {},
   "outputs": [],
   "source": [
    "#Приведем тип данных в столбце gb_used к типу int\n",
    "user_internet['gb_used'] = user_internet['gb_used'].astype(int)"
   ]
  },
  {
   "cell_type": "markdown",
   "metadata": {},
   "source": [
    "#### Помесячная выручка"
   ]
  },
  {
   "cell_type": "code",
   "execution_count": 16,
   "metadata": {
    "scrolled": true
   },
   "outputs": [
    {
     "name": "stdout",
     "output_type": "stream",
     "text": [
      "<class 'pandas.core.frame.DataFrame'>\n",
      "RangeIndex: 3214 entries, 0 to 3213\n",
      "Data columns (total 7 columns):\n",
      " #   Column          Non-Null Count  Dtype  \n",
      "---  ------          --------------  -----  \n",
      " 0   user_id         3214 non-null   int64  \n",
      " 1   month           3214 non-null   int64  \n",
      " 2   calls_duration  3174 non-null   float64\n",
      " 3   calls_count     3174 non-null   float64\n",
      " 4   message_count   2717 non-null   float64\n",
      " 5   mb_used         3203 non-null   float64\n",
      " 6   gb_used         3203 non-null   float64\n",
      "dtypes: float64(5), int64(2)\n",
      "memory usage: 175.9 KB\n"
     ]
    },
    {
     "data": {
      "text/html": [
       "<div>\n",
       "<style scoped>\n",
       "    .dataframe tbody tr th:only-of-type {\n",
       "        vertical-align: middle;\n",
       "    }\n",
       "\n",
       "    .dataframe tbody tr th {\n",
       "        vertical-align: top;\n",
       "    }\n",
       "\n",
       "    .dataframe thead th {\n",
       "        text-align: right;\n",
       "    }\n",
       "</style>\n",
       "<table border=\"1\" class=\"dataframe\">\n",
       "  <thead>\n",
       "    <tr style=\"text-align: right;\">\n",
       "      <th></th>\n",
       "      <th>user_id</th>\n",
       "      <th>month</th>\n",
       "      <th>calls_duration</th>\n",
       "      <th>calls_count</th>\n",
       "      <th>message_count</th>\n",
       "      <th>mb_used</th>\n",
       "      <th>gb_used</th>\n",
       "    </tr>\n",
       "  </thead>\n",
       "  <tbody>\n",
       "    <tr>\n",
       "      <th>0</th>\n",
       "      <td>1000</td>\n",
       "      <td>5</td>\n",
       "      <td>159.0</td>\n",
       "      <td>22.0</td>\n",
       "      <td>22.0</td>\n",
       "      <td>2253.49</td>\n",
       "      <td>3.0</td>\n",
       "    </tr>\n",
       "    <tr>\n",
       "      <th>1</th>\n",
       "      <td>1000</td>\n",
       "      <td>6</td>\n",
       "      <td>172.0</td>\n",
       "      <td>43.0</td>\n",
       "      <td>60.0</td>\n",
       "      <td>23233.77</td>\n",
       "      <td>23.0</td>\n",
       "    </tr>\n",
       "    <tr>\n",
       "      <th>2</th>\n",
       "      <td>1000</td>\n",
       "      <td>7</td>\n",
       "      <td>340.0</td>\n",
       "      <td>47.0</td>\n",
       "      <td>75.0</td>\n",
       "      <td>14003.64</td>\n",
       "      <td>14.0</td>\n",
       "    </tr>\n",
       "    <tr>\n",
       "      <th>3</th>\n",
       "      <td>1000</td>\n",
       "      <td>8</td>\n",
       "      <td>408.0</td>\n",
       "      <td>52.0</td>\n",
       "      <td>81.0</td>\n",
       "      <td>14055.93</td>\n",
       "      <td>14.0</td>\n",
       "    </tr>\n",
       "    <tr>\n",
       "      <th>4</th>\n",
       "      <td>1000</td>\n",
       "      <td>9</td>\n",
       "      <td>466.0</td>\n",
       "      <td>58.0</td>\n",
       "      <td>57.0</td>\n",
       "      <td>14568.91</td>\n",
       "      <td>15.0</td>\n",
       "    </tr>\n",
       "    <tr>\n",
       "      <th>...</th>\n",
       "      <td>...</td>\n",
       "      <td>...</td>\n",
       "      <td>...</td>\n",
       "      <td>...</td>\n",
       "      <td>...</td>\n",
       "      <td>...</td>\n",
       "      <td>...</td>\n",
       "    </tr>\n",
       "    <tr>\n",
       "      <th>95</th>\n",
       "      <td>1012</td>\n",
       "      <td>10</td>\n",
       "      <td>451.0</td>\n",
       "      <td>48.0</td>\n",
       "      <td>13.0</td>\n",
       "      <td>29071.87</td>\n",
       "      <td>29.0</td>\n",
       "    </tr>\n",
       "    <tr>\n",
       "      <th>96</th>\n",
       "      <td>1012</td>\n",
       "      <td>11</td>\n",
       "      <td>206.0</td>\n",
       "      <td>25.0</td>\n",
       "      <td>25.0</td>\n",
       "      <td>22517.95</td>\n",
       "      <td>22.0</td>\n",
       "    </tr>\n",
       "    <tr>\n",
       "      <th>97</th>\n",
       "      <td>1012</td>\n",
       "      <td>12</td>\n",
       "      <td>356.0</td>\n",
       "      <td>43.0</td>\n",
       "      <td>15.0</td>\n",
       "      <td>14005.84</td>\n",
       "      <td>14.0</td>\n",
       "    </tr>\n",
       "    <tr>\n",
       "      <th>98</th>\n",
       "      <td>1013</td>\n",
       "      <td>11</td>\n",
       "      <td>369.0</td>\n",
       "      <td>52.0</td>\n",
       "      <td>17.0</td>\n",
       "      <td>9780.03</td>\n",
       "      <td>10.0</td>\n",
       "    </tr>\n",
       "    <tr>\n",
       "      <th>99</th>\n",
       "      <td>1013</td>\n",
       "      <td>12</td>\n",
       "      <td>567.0</td>\n",
       "      <td>90.0</td>\n",
       "      <td>25.0</td>\n",
       "      <td>20737.13</td>\n",
       "      <td>21.0</td>\n",
       "    </tr>\n",
       "  </tbody>\n",
       "</table>\n",
       "<p>100 rows × 7 columns</p>\n",
       "</div>"
      ],
      "text/plain": [
       "    user_id  month  calls_duration  calls_count  message_count   mb_used  \\\n",
       "0      1000      5           159.0         22.0           22.0   2253.49   \n",
       "1      1000      6           172.0         43.0           60.0  23233.77   \n",
       "2      1000      7           340.0         47.0           75.0  14003.64   \n",
       "3      1000      8           408.0         52.0           81.0  14055.93   \n",
       "4      1000      9           466.0         58.0           57.0  14568.91   \n",
       "..      ...    ...             ...          ...            ...       ...   \n",
       "95     1012     10           451.0         48.0           13.0  29071.87   \n",
       "96     1012     11           206.0         25.0           25.0  22517.95   \n",
       "97     1012     12           356.0         43.0           15.0  14005.84   \n",
       "98     1013     11           369.0         52.0           17.0   9780.03   \n",
       "99     1013     12           567.0         90.0           25.0  20737.13   \n",
       "\n",
       "    gb_used  \n",
       "0       3.0  \n",
       "1      23.0  \n",
       "2      14.0  \n",
       "3      14.0  \n",
       "4      15.0  \n",
       "..      ...  \n",
       "95     29.0  \n",
       "96     22.0  \n",
       "97     14.0  \n",
       "98     10.0  \n",
       "99     21.0  \n",
       "\n",
       "[100 rows x 7 columns]"
      ]
     },
     "metadata": {},
     "output_type": "display_data"
    }
   ],
   "source": [
    "#Объединяем таблицы в одну\n",
    "user_services = user_calls.merge(user_messages, on=['user_id', 'month'], how='outer')\n",
    "user_services = user_services.merge(user_internet, on=['user_id', 'month'], how='outer').reset_index()\n",
    "#Проверяем результат\n",
    "user_services.info()\n",
    "display(user_services.head(100))"
   ]
  },
  {
   "cell_type": "code",
   "execution_count": 17,
   "metadata": {
    "scrolled": true
   },
   "outputs": [
    {
     "data": {
      "text/plain": [
       "498"
      ]
     },
     "execution_count": 17,
     "metadata": {},
     "output_type": "execute_result"
    }
   ],
   "source": [
    "user_services['user_id'].nunique()"
   ]
  },
  {
   "cell_type": "code",
   "execution_count": 18,
   "metadata": {},
   "outputs": [],
   "source": [
    "#Заполним пропуски нулями \n",
    "user_services = user_services.fillna(0)"
   ]
  },
  {
   "cell_type": "markdown",
   "metadata": {},
   "source": [
    "Добавим тариф пользователя в таблицу `user_services`"
   ]
  },
  {
   "cell_type": "code",
   "execution_count": 19,
   "metadata": {},
   "outputs": [
    {
     "data": {
      "text/html": [
       "<div>\n",
       "<style scoped>\n",
       "    .dataframe tbody tr th:only-of-type {\n",
       "        vertical-align: middle;\n",
       "    }\n",
       "\n",
       "    .dataframe tbody tr th {\n",
       "        vertical-align: top;\n",
       "    }\n",
       "\n",
       "    .dataframe thead th {\n",
       "        text-align: right;\n",
       "    }\n",
       "</style>\n",
       "<table border=\"1\" class=\"dataframe\">\n",
       "  <thead>\n",
       "    <tr style=\"text-align: right;\">\n",
       "      <th></th>\n",
       "      <th>user_id</th>\n",
       "      <th>month</th>\n",
       "      <th>calls_duration</th>\n",
       "      <th>calls_count</th>\n",
       "      <th>message_count</th>\n",
       "      <th>mb_used</th>\n",
       "      <th>gb_used</th>\n",
       "      <th>tariff</th>\n",
       "    </tr>\n",
       "  </thead>\n",
       "  <tbody>\n",
       "    <tr>\n",
       "      <th>0</th>\n",
       "      <td>1000</td>\n",
       "      <td>5</td>\n",
       "      <td>159.0</td>\n",
       "      <td>22.0</td>\n",
       "      <td>22.0</td>\n",
       "      <td>2253.49</td>\n",
       "      <td>3.0</td>\n",
       "      <td>ultra</td>\n",
       "    </tr>\n",
       "    <tr>\n",
       "      <th>1</th>\n",
       "      <td>1000</td>\n",
       "      <td>6</td>\n",
       "      <td>172.0</td>\n",
       "      <td>43.0</td>\n",
       "      <td>60.0</td>\n",
       "      <td>23233.77</td>\n",
       "      <td>23.0</td>\n",
       "      <td>ultra</td>\n",
       "    </tr>\n",
       "    <tr>\n",
       "      <th>2</th>\n",
       "      <td>1000</td>\n",
       "      <td>7</td>\n",
       "      <td>340.0</td>\n",
       "      <td>47.0</td>\n",
       "      <td>75.0</td>\n",
       "      <td>14003.64</td>\n",
       "      <td>14.0</td>\n",
       "      <td>ultra</td>\n",
       "    </tr>\n",
       "    <tr>\n",
       "      <th>3</th>\n",
       "      <td>1000</td>\n",
       "      <td>8</td>\n",
       "      <td>408.0</td>\n",
       "      <td>52.0</td>\n",
       "      <td>81.0</td>\n",
       "      <td>14055.93</td>\n",
       "      <td>14.0</td>\n",
       "      <td>ultra</td>\n",
       "    </tr>\n",
       "    <tr>\n",
       "      <th>4</th>\n",
       "      <td>1000</td>\n",
       "      <td>9</td>\n",
       "      <td>466.0</td>\n",
       "      <td>58.0</td>\n",
       "      <td>57.0</td>\n",
       "      <td>14568.91</td>\n",
       "      <td>15.0</td>\n",
       "      <td>ultra</td>\n",
       "    </tr>\n",
       "    <tr>\n",
       "      <th>...</th>\n",
       "      <td>...</td>\n",
       "      <td>...</td>\n",
       "      <td>...</td>\n",
       "      <td>...</td>\n",
       "      <td>...</td>\n",
       "      <td>...</td>\n",
       "      <td>...</td>\n",
       "      <td>...</td>\n",
       "    </tr>\n",
       "    <tr>\n",
       "      <th>3209</th>\n",
       "      <td>1489</td>\n",
       "      <td>9</td>\n",
       "      <td>0.0</td>\n",
       "      <td>0.0</td>\n",
       "      <td>32.0</td>\n",
       "      <td>17206.30</td>\n",
       "      <td>17.0</td>\n",
       "      <td>smart</td>\n",
       "    </tr>\n",
       "    <tr>\n",
       "      <th>3210</th>\n",
       "      <td>1489</td>\n",
       "      <td>10</td>\n",
       "      <td>0.0</td>\n",
       "      <td>0.0</td>\n",
       "      <td>21.0</td>\n",
       "      <td>19559.44</td>\n",
       "      <td>20.0</td>\n",
       "      <td>smart</td>\n",
       "    </tr>\n",
       "    <tr>\n",
       "      <th>3211</th>\n",
       "      <td>1489</td>\n",
       "      <td>11</td>\n",
       "      <td>0.0</td>\n",
       "      <td>0.0</td>\n",
       "      <td>20.0</td>\n",
       "      <td>17491.56</td>\n",
       "      <td>18.0</td>\n",
       "      <td>smart</td>\n",
       "    </tr>\n",
       "    <tr>\n",
       "      <th>3212</th>\n",
       "      <td>1489</td>\n",
       "      <td>12</td>\n",
       "      <td>0.0</td>\n",
       "      <td>0.0</td>\n",
       "      <td>35.0</td>\n",
       "      <td>17322.51</td>\n",
       "      <td>17.0</td>\n",
       "      <td>smart</td>\n",
       "    </tr>\n",
       "    <tr>\n",
       "      <th>3213</th>\n",
       "      <td>1476</td>\n",
       "      <td>4</td>\n",
       "      <td>0.0</td>\n",
       "      <td>0.0</td>\n",
       "      <td>0.0</td>\n",
       "      <td>530.78</td>\n",
       "      <td>1.0</td>\n",
       "      <td>ultra</td>\n",
       "    </tr>\n",
       "  </tbody>\n",
       "</table>\n",
       "<p>3214 rows × 8 columns</p>\n",
       "</div>"
      ],
      "text/plain": [
       "      user_id  month  calls_duration  calls_count  message_count   mb_used  \\\n",
       "0        1000      5           159.0         22.0           22.0   2253.49   \n",
       "1        1000      6           172.0         43.0           60.0  23233.77   \n",
       "2        1000      7           340.0         47.0           75.0  14003.64   \n",
       "3        1000      8           408.0         52.0           81.0  14055.93   \n",
       "4        1000      9           466.0         58.0           57.0  14568.91   \n",
       "...       ...    ...             ...          ...            ...       ...   \n",
       "3209     1489      9             0.0          0.0           32.0  17206.30   \n",
       "3210     1489     10             0.0          0.0           21.0  19559.44   \n",
       "3211     1489     11             0.0          0.0           20.0  17491.56   \n",
       "3212     1489     12             0.0          0.0           35.0  17322.51   \n",
       "3213     1476      4             0.0          0.0            0.0    530.78   \n",
       "\n",
       "      gb_used tariff  \n",
       "0         3.0  ultra  \n",
       "1        23.0  ultra  \n",
       "2        14.0  ultra  \n",
       "3        14.0  ultra  \n",
       "4        15.0  ultra  \n",
       "...       ...    ...  \n",
       "3209     17.0  smart  \n",
       "3210     20.0  smart  \n",
       "3211     18.0  smart  \n",
       "3212     17.0  smart  \n",
       "3213      1.0  ultra  \n",
       "\n",
       "[3214 rows x 8 columns]"
      ]
     },
     "metadata": {},
     "output_type": "display_data"
    }
   ],
   "source": [
    "#Напишем функцию, которая принимает строку и возвращает тариф \n",
    "def get_user_tariff (row): \n",
    "    user_id = row['user_id']\n",
    "    tariff = users_data.query('user_id == @user_id')['tariff'].values[0]\n",
    "    return tariff\n",
    "    \n",
    "#Вызываем функцию \n",
    "user_services['tariff'] = user_services.apply(get_user_tariff, axis=1)\n",
    "\n",
    "#Проверяем результат\n",
    "display(user_services)"
   ]
  },
  {
   "cell_type": "code",
   "execution_count": 20,
   "metadata": {
    "scrolled": false
   },
   "outputs": [
    {
     "data": {
      "text/html": [
       "<div>\n",
       "<style scoped>\n",
       "    .dataframe tbody tr th:only-of-type {\n",
       "        vertical-align: middle;\n",
       "    }\n",
       "\n",
       "    .dataframe tbody tr th {\n",
       "        vertical-align: top;\n",
       "    }\n",
       "\n",
       "    .dataframe thead th {\n",
       "        text-align: right;\n",
       "    }\n",
       "</style>\n",
       "<table border=\"1\" class=\"dataframe\">\n",
       "  <thead>\n",
       "    <tr style=\"text-align: right;\">\n",
       "      <th></th>\n",
       "      <th>user_id</th>\n",
       "      <th>month</th>\n",
       "      <th>calls_duration</th>\n",
       "      <th>calls_count</th>\n",
       "      <th>message_count</th>\n",
       "      <th>mb_used</th>\n",
       "      <th>gb_used</th>\n",
       "      <th>tariff</th>\n",
       "      <th>monthly_income</th>\n",
       "    </tr>\n",
       "  </thead>\n",
       "  <tbody>\n",
       "    <tr>\n",
       "      <th>0</th>\n",
       "      <td>1000</td>\n",
       "      <td>5</td>\n",
       "      <td>159.0</td>\n",
       "      <td>22.0</td>\n",
       "      <td>22.0</td>\n",
       "      <td>2253.49</td>\n",
       "      <td>3.0</td>\n",
       "      <td>ultra</td>\n",
       "      <td>1950.0</td>\n",
       "    </tr>\n",
       "    <tr>\n",
       "      <th>1</th>\n",
       "      <td>1000</td>\n",
       "      <td>6</td>\n",
       "      <td>172.0</td>\n",
       "      <td>43.0</td>\n",
       "      <td>60.0</td>\n",
       "      <td>23233.77</td>\n",
       "      <td>23.0</td>\n",
       "      <td>ultra</td>\n",
       "      <td>1950.0</td>\n",
       "    </tr>\n",
       "    <tr>\n",
       "      <th>2</th>\n",
       "      <td>1000</td>\n",
       "      <td>7</td>\n",
       "      <td>340.0</td>\n",
       "      <td>47.0</td>\n",
       "      <td>75.0</td>\n",
       "      <td>14003.64</td>\n",
       "      <td>14.0</td>\n",
       "      <td>ultra</td>\n",
       "      <td>1950.0</td>\n",
       "    </tr>\n",
       "    <tr>\n",
       "      <th>3</th>\n",
       "      <td>1000</td>\n",
       "      <td>8</td>\n",
       "      <td>408.0</td>\n",
       "      <td>52.0</td>\n",
       "      <td>81.0</td>\n",
       "      <td>14055.93</td>\n",
       "      <td>14.0</td>\n",
       "      <td>ultra</td>\n",
       "      <td>1950.0</td>\n",
       "    </tr>\n",
       "    <tr>\n",
       "      <th>4</th>\n",
       "      <td>1000</td>\n",
       "      <td>9</td>\n",
       "      <td>466.0</td>\n",
       "      <td>58.0</td>\n",
       "      <td>57.0</td>\n",
       "      <td>14568.91</td>\n",
       "      <td>15.0</td>\n",
       "      <td>ultra</td>\n",
       "      <td>1950.0</td>\n",
       "    </tr>\n",
       "    <tr>\n",
       "      <th>...</th>\n",
       "      <td>...</td>\n",
       "      <td>...</td>\n",
       "      <td>...</td>\n",
       "      <td>...</td>\n",
       "      <td>...</td>\n",
       "      <td>...</td>\n",
       "      <td>...</td>\n",
       "      <td>...</td>\n",
       "      <td>...</td>\n",
       "    </tr>\n",
       "    <tr>\n",
       "      <th>3209</th>\n",
       "      <td>1489</td>\n",
       "      <td>9</td>\n",
       "      <td>0.0</td>\n",
       "      <td>0.0</td>\n",
       "      <td>32.0</td>\n",
       "      <td>17206.30</td>\n",
       "      <td>17.0</td>\n",
       "      <td>smart</td>\n",
       "      <td>950.0</td>\n",
       "    </tr>\n",
       "    <tr>\n",
       "      <th>3210</th>\n",
       "      <td>1489</td>\n",
       "      <td>10</td>\n",
       "      <td>0.0</td>\n",
       "      <td>0.0</td>\n",
       "      <td>21.0</td>\n",
       "      <td>19559.44</td>\n",
       "      <td>20.0</td>\n",
       "      <td>smart</td>\n",
       "      <td>1550.0</td>\n",
       "    </tr>\n",
       "    <tr>\n",
       "      <th>3211</th>\n",
       "      <td>1489</td>\n",
       "      <td>11</td>\n",
       "      <td>0.0</td>\n",
       "      <td>0.0</td>\n",
       "      <td>20.0</td>\n",
       "      <td>17491.56</td>\n",
       "      <td>18.0</td>\n",
       "      <td>smart</td>\n",
       "      <td>1150.0</td>\n",
       "    </tr>\n",
       "    <tr>\n",
       "      <th>3212</th>\n",
       "      <td>1489</td>\n",
       "      <td>12</td>\n",
       "      <td>0.0</td>\n",
       "      <td>0.0</td>\n",
       "      <td>35.0</td>\n",
       "      <td>17322.51</td>\n",
       "      <td>17.0</td>\n",
       "      <td>smart</td>\n",
       "      <td>950.0</td>\n",
       "    </tr>\n",
       "    <tr>\n",
       "      <th>3213</th>\n",
       "      <td>1476</td>\n",
       "      <td>4</td>\n",
       "      <td>0.0</td>\n",
       "      <td>0.0</td>\n",
       "      <td>0.0</td>\n",
       "      <td>530.78</td>\n",
       "      <td>1.0</td>\n",
       "      <td>ultra</td>\n",
       "      <td>1950.0</td>\n",
       "    </tr>\n",
       "  </tbody>\n",
       "</table>\n",
       "<p>3214 rows × 9 columns</p>\n",
       "</div>"
      ],
      "text/plain": [
       "      user_id  month  calls_duration  calls_count  message_count   mb_used  \\\n",
       "0        1000      5           159.0         22.0           22.0   2253.49   \n",
       "1        1000      6           172.0         43.0           60.0  23233.77   \n",
       "2        1000      7           340.0         47.0           75.0  14003.64   \n",
       "3        1000      8           408.0         52.0           81.0  14055.93   \n",
       "4        1000      9           466.0         58.0           57.0  14568.91   \n",
       "...       ...    ...             ...          ...            ...       ...   \n",
       "3209     1489      9             0.0          0.0           32.0  17206.30   \n",
       "3210     1489     10             0.0          0.0           21.0  19559.44   \n",
       "3211     1489     11             0.0          0.0           20.0  17491.56   \n",
       "3212     1489     12             0.0          0.0           35.0  17322.51   \n",
       "3213     1476      4             0.0          0.0            0.0    530.78   \n",
       "\n",
       "      gb_used tariff  monthly_income  \n",
       "0         3.0  ultra          1950.0  \n",
       "1        23.0  ultra          1950.0  \n",
       "2        14.0  ultra          1950.0  \n",
       "3        14.0  ultra          1950.0  \n",
       "4        15.0  ultra          1950.0  \n",
       "...       ...    ...             ...  \n",
       "3209     17.0  smart           950.0  \n",
       "3210     20.0  smart          1550.0  \n",
       "3211     18.0  smart          1150.0  \n",
       "3212     17.0  smart           950.0  \n",
       "3213      1.0  ultra          1950.0  \n",
       "\n",
       "[3214 rows x 9 columns]"
      ]
     },
     "metadata": {},
     "output_type": "display_data"
    }
   ],
   "source": [
    "#Напишем функцию, которая принимает строку и возвращает доход за месяц\n",
    "def get_monthly_income(row):\n",
    "    #Получаем id пользователя\n",
    "    user_id = row['user_id']\n",
    "    \n",
    "    #Получаем тариф пользователя\n",
    "    tariff = row['tariff']\n",
    "\n",
    "    #Вычисляем выручку со звонков\n",
    "    minutes = row['calls_duration'] - tariffs_data.query('tariff_name == @tariff')['minutes_included'].values[0]\n",
    "    if minutes < 0: minutes = 0\n",
    "    minutes = minutes * tariffs_data.query('tariff_name == @tariff')['rub_per_minute'].values[0]\n",
    "\n",
    "        \n",
    "    #Вычисляем выручку с сообщений    \n",
    "    messages = row['message_count'] - tariffs_data.query('tariff_name == @tariff')['messages_included'].values[0]\n",
    "    if messages < 0: messages = 0      \n",
    "    messages = messages * tariffs_data.query('tariff_name == @tariff')['rub_per_message'].values[0]\n",
    "     \n",
    "    #Вычисляем выручку за интернет    \n",
    "    mb =  row['mb_used'] - tariffs_data.query('tariff_name == @tariff')['mb_per_month_included'].values[0]\n",
    "    if mb < 0: mb = 0   \n",
    "    gb = math.ceil(mb / 1024)\n",
    "    gb = gb * tariffs_data.query('tariff_name == @tariff')['rub_per_gb'].values[0]\n",
    "    \n",
    "    #Вычисляем общую выручку с учетом абонентской платы\n",
    "    total = minutes + messages + gb + tariffs_data.query('tariff_name == @tariff')['rub_monthly_fee'].values[0]\n",
    "    return total\n",
    "\n",
    "#Вызываем функцию\n",
    "user_services['monthly_income'] = user_services.apply(get_monthly_income, axis=1)\n",
    "\n",
    "#Проверяем результат\n",
    "display(user_services)\n"
   ]
  },
  {
   "cell_type": "markdown",
   "metadata": {},
   "source": [
    "## Анализ данных"
   ]
  },
  {
   "cell_type": "markdown",
   "metadata": {},
   "source": [
    "Разделим таблицу на 2 таблицы по тарифам "
   ]
  },
  {
   "cell_type": "code",
   "execution_count": 21,
   "metadata": {},
   "outputs": [],
   "source": [
    "#Данные по тарифу ultra\n",
    "ultra = user_services.query('tariff == \"ultra\"')\n",
    "#Данные по тарифу smart\n",
    "smart = user_services.query('tariff == \"smart\"')"
   ]
  },
  {
   "cell_type": "markdown",
   "metadata": {},
   "source": [
    "### Тариф Ultra"
   ]
  },
  {
   "cell_type": "markdown",
   "metadata": {},
   "source": [
    "Рассчитаем общее и среднее количество израсходованных услуг для тарифа ultra"
   ]
  },
  {
   "cell_type": "code",
   "execution_count": 22,
   "metadata": {
    "scrolled": true
   },
   "outputs": [
    {
     "data": {
      "text/html": [
       "<div>\n",
       "<style scoped>\n",
       "    .dataframe tbody tr th:only-of-type {\n",
       "        vertical-align: middle;\n",
       "    }\n",
       "\n",
       "    .dataframe tbody tr th {\n",
       "        vertical-align: top;\n",
       "    }\n",
       "\n",
       "    .dataframe thead th {\n",
       "        text-align: right;\n",
       "    }\n",
       "</style>\n",
       "<table border=\"1\" class=\"dataframe\">\n",
       "  <thead>\n",
       "    <tr style=\"text-align: right;\">\n",
       "      <th></th>\n",
       "      <th>calls_duration</th>\n",
       "      <th>message_count</th>\n",
       "      <th>gb_used</th>\n",
       "      <th>monthly_income</th>\n",
       "      <th>mean_calls_duration</th>\n",
       "      <th>mean_message_count</th>\n",
       "      <th>mean_gb_used</th>\n",
       "      <th>mean_monthly_income</th>\n",
       "    </tr>\n",
       "    <tr>\n",
       "      <th>month</th>\n",
       "      <th></th>\n",
       "      <th></th>\n",
       "      <th></th>\n",
       "      <th></th>\n",
       "      <th></th>\n",
       "      <th></th>\n",
       "      <th></th>\n",
       "      <th></th>\n",
       "    </tr>\n",
       "  </thead>\n",
       "  <tbody>\n",
       "    <tr>\n",
       "      <th>1</th>\n",
       "      <td>3853.0</td>\n",
       "      <td>119.0</td>\n",
       "      <td>304.0</td>\n",
       "      <td>17550.0</td>\n",
       "      <td>428.111111</td>\n",
       "      <td>13.222222</td>\n",
       "      <td>33.777778</td>\n",
       "      <td>1950.000000</td>\n",
       "    </tr>\n",
       "    <tr>\n",
       "      <th>2</th>\n",
       "      <td>7131.0</td>\n",
       "      <td>288.0</td>\n",
       "      <td>527.0</td>\n",
       "      <td>47400.0</td>\n",
       "      <td>297.125000</td>\n",
       "      <td>12.000000</td>\n",
       "      <td>21.958333</td>\n",
       "      <td>1975.000000</td>\n",
       "    </tr>\n",
       "    <tr>\n",
       "      <th>3</th>\n",
       "      <td>18117.0</td>\n",
       "      <td>653.0</td>\n",
       "      <td>1195.0</td>\n",
       "      <td>74550.0</td>\n",
       "      <td>489.648649</td>\n",
       "      <td>17.648649</td>\n",
       "      <td>32.297297</td>\n",
       "      <td>2014.864865</td>\n",
       "    </tr>\n",
       "    <tr>\n",
       "      <th>4</th>\n",
       "      <td>25191.0</td>\n",
       "      <td>933.0</td>\n",
       "      <td>1736.0</td>\n",
       "      <td>110100.0</td>\n",
       "      <td>458.018182</td>\n",
       "      <td>16.963636</td>\n",
       "      <td>31.563636</td>\n",
       "      <td>2001.818182</td>\n",
       "    </tr>\n",
       "    <tr>\n",
       "      <th>5</th>\n",
       "      <td>34192.0</td>\n",
       "      <td>1298.0</td>\n",
       "      <td>2536.0</td>\n",
       "      <td>138000.0</td>\n",
       "      <td>510.328358</td>\n",
       "      <td>19.373134</td>\n",
       "      <td>37.850746</td>\n",
       "      <td>2059.701493</td>\n",
       "    </tr>\n",
       "    <tr>\n",
       "      <th>6</th>\n",
       "      <td>40295.0</td>\n",
       "      <td>1591.0</td>\n",
       "      <td>3505.0</td>\n",
       "      <td>171300.0</td>\n",
       "      <td>479.702381</td>\n",
       "      <td>18.940476</td>\n",
       "      <td>41.726190</td>\n",
       "      <td>2039.285714</td>\n",
       "    </tr>\n",
       "    <tr>\n",
       "      <th>7</th>\n",
       "      <td>49667.0</td>\n",
       "      <td>1866.0</td>\n",
       "      <td>4536.0</td>\n",
       "      <td>192750.0</td>\n",
       "      <td>545.791209</td>\n",
       "      <td>20.505495</td>\n",
       "      <td>49.846154</td>\n",
       "      <td>2118.131868</td>\n",
       "    </tr>\n",
       "    <tr>\n",
       "      <th>8</th>\n",
       "      <td>54653.0</td>\n",
       "      <td>2097.0</td>\n",
       "      <td>5183.0</td>\n",
       "      <td>222900.0</td>\n",
       "      <td>510.775701</td>\n",
       "      <td>19.598131</td>\n",
       "      <td>48.439252</td>\n",
       "      <td>2083.177570</td>\n",
       "    </tr>\n",
       "    <tr>\n",
       "      <th>9</th>\n",
       "      <td>62036.0</td>\n",
       "      <td>2213.0</td>\n",
       "      <td>6013.0</td>\n",
       "      <td>232800.0</td>\n",
       "      <td>539.443478</td>\n",
       "      <td>19.243478</td>\n",
       "      <td>52.286957</td>\n",
       "      <td>2024.347826</td>\n",
       "    </tr>\n",
       "    <tr>\n",
       "      <th>10</th>\n",
       "      <td>68644.0</td>\n",
       "      <td>2468.0</td>\n",
       "      <td>7187.0</td>\n",
       "      <td>254100.0</td>\n",
       "      <td>558.081301</td>\n",
       "      <td>20.065041</td>\n",
       "      <td>58.430894</td>\n",
       "      <td>2065.853659</td>\n",
       "    </tr>\n",
       "    <tr>\n",
       "      <th>11</th>\n",
       "      <td>72545.0</td>\n",
       "      <td>2654.0</td>\n",
       "      <td>7476.0</td>\n",
       "      <td>280350.0</td>\n",
       "      <td>541.380597</td>\n",
       "      <td>19.805970</td>\n",
       "      <td>55.791045</td>\n",
       "      <td>2092.164179</td>\n",
       "    </tr>\n",
       "    <tr>\n",
       "      <th>12</th>\n",
       "      <td>82400.0</td>\n",
       "      <td>3022.0</td>\n",
       "      <td>8425.0</td>\n",
       "      <td>297300.0</td>\n",
       "      <td>592.805755</td>\n",
       "      <td>21.741007</td>\n",
       "      <td>60.611511</td>\n",
       "      <td>2138.848921</td>\n",
       "    </tr>\n",
       "  </tbody>\n",
       "</table>\n",
       "</div>"
      ],
      "text/plain": [
       "       calls_duration  message_count  gb_used  monthly_income  \\\n",
       "month                                                           \n",
       "1              3853.0          119.0    304.0         17550.0   \n",
       "2              7131.0          288.0    527.0         47400.0   \n",
       "3             18117.0          653.0   1195.0         74550.0   \n",
       "4             25191.0          933.0   1736.0        110100.0   \n",
       "5             34192.0         1298.0   2536.0        138000.0   \n",
       "6             40295.0         1591.0   3505.0        171300.0   \n",
       "7             49667.0         1866.0   4536.0        192750.0   \n",
       "8             54653.0         2097.0   5183.0        222900.0   \n",
       "9             62036.0         2213.0   6013.0        232800.0   \n",
       "10            68644.0         2468.0   7187.0        254100.0   \n",
       "11            72545.0         2654.0   7476.0        280350.0   \n",
       "12            82400.0         3022.0   8425.0        297300.0   \n",
       "\n",
       "       mean_calls_duration  mean_message_count  mean_gb_used  \\\n",
       "month                                                          \n",
       "1               428.111111           13.222222     33.777778   \n",
       "2               297.125000           12.000000     21.958333   \n",
       "3               489.648649           17.648649     32.297297   \n",
       "4               458.018182           16.963636     31.563636   \n",
       "5               510.328358           19.373134     37.850746   \n",
       "6               479.702381           18.940476     41.726190   \n",
       "7               545.791209           20.505495     49.846154   \n",
       "8               510.775701           19.598131     48.439252   \n",
       "9               539.443478           19.243478     52.286957   \n",
       "10              558.081301           20.065041     58.430894   \n",
       "11              541.380597           19.805970     55.791045   \n",
       "12              592.805755           21.741007     60.611511   \n",
       "\n",
       "       mean_monthly_income  \n",
       "month                       \n",
       "1              1950.000000  \n",
       "2              1975.000000  \n",
       "3              2014.864865  \n",
       "4              2001.818182  \n",
       "5              2059.701493  \n",
       "6              2039.285714  \n",
       "7              2118.131868  \n",
       "8              2083.177570  \n",
       "9              2024.347826  \n",
       "10             2065.853659  \n",
       "11             2092.164179  \n",
       "12             2138.848921  "
      ]
     },
     "metadata": {},
     "output_type": "display_data"
    }
   ],
   "source": [
    "#Вычисляем сколько минут разговора, сообщений и какой объём интернет-трафика требуется пользователям в месяц\n",
    "ultra_stat = ultra.pivot_table(index='month',\n",
    "values=['calls_duration', 'message_count', 'gb_used', 'monthly_income'], \n",
    "aggfunc=['sum', 'mean']) \n",
    "ultra_stat.columns = (['calls_duration', 'message_count', 'gb_used', 'monthly_income',\n",
    "                     'mean_calls_duration', 'mean_message_count', 'mean_gb_used', 'mean_monthly_income'])\n",
    "#Проверим результат\n",
    "display(ultra_stat)"
   ]
  },
  {
   "cell_type": "markdown",
   "metadata": {},
   "source": [
    "Рассчитаем среднее количесиво, дисперсию и стандартное отклонение"
   ]
  },
  {
   "cell_type": "code",
   "execution_count": 23,
   "metadata": {},
   "outputs": [
    {
     "name": "stdout",
     "output_type": "stream",
     "text": [
      "Минуты разговора\n",
      "Среднее количество: 526.6233502538071\n",
      "Дисперсия: 100771.22361720211\n",
      "Стандартное отклонение: 317.444835549741\n",
      "\n",
      "Сообщения\n",
      "Среднее количество: 49.36345177664975\n",
      "Дисперсия: 2282.94607539489\n",
      "Стандартное отклонение: 47.78018496610169\n",
      "\n",
      "Интернет-трафик (ГБ)\n",
      "Среднее количество: 19.494416243654822\n",
      "Дисперсия: 96.99311602978705\n",
      "Стандартное отклонение: 9.8485083149575\n",
      "\n",
      "Выручка\n",
      "Среднее количество: 2070.1522842639592\n",
      "Дисперсия: 141373.07325620213\n",
      "Стандартное отклонение: 375.99610803331746\n"
     ]
    }
   ],
   "source": [
    "print('Минуты разговора')\n",
    "print('Среднее количество:',ultra['calls_duration'].mean() )\n",
    "print('Дисперсия:',np.var(ultra['calls_duration']) )\n",
    "print('Стандартное отклонение:',np.std(ultra['calls_duration']) )\n",
    "print()\n",
    "\n",
    "print('Сообщения')\n",
    "print('Среднее количество:',ultra['message_count'].mean() )\n",
    "print('Дисперсия:',np.var(ultra['message_count']) )\n",
    "print('Стандартное отклонение:',np.std(ultra['message_count']) )\n",
    "print()\n",
    "\n",
    "print('Интернет-трафик (ГБ)')\n",
    "print('Среднее количество:',ultra['gb_used'].mean() )\n",
    "print('Дисперсия:',np.var(ultra['gb_used']) )\n",
    "print('Стандартное отклонение:',np.std(ultra['gb_used']) )\n",
    "print()\n",
    "\n",
    "print('Выручка')\n",
    "print('Среднее количество:',ultra['monthly_income'].mean() )\n",
    "print('Дисперсия:',np.var(ultra['monthly_income']) )\n",
    "print('Стандартное отклонение:',np.std(ultra['monthly_income']) )"
   ]
  },
  {
   "cell_type": "markdown",
   "metadata": {},
   "source": [
    "### Тариф Smart"
   ]
  },
  {
   "cell_type": "markdown",
   "metadata": {},
   "source": [
    "Рассчитаем общее и среднее количество израсходованных услуг для тарифа smart"
   ]
  },
  {
   "cell_type": "code",
   "execution_count": 24,
   "metadata": {},
   "outputs": [
    {
     "data": {
      "text/html": [
       "<div>\n",
       "<style scoped>\n",
       "    .dataframe tbody tr th:only-of-type {\n",
       "        vertical-align: middle;\n",
       "    }\n",
       "\n",
       "    .dataframe tbody tr th {\n",
       "        vertical-align: top;\n",
       "    }\n",
       "\n",
       "    .dataframe thead th {\n",
       "        text-align: right;\n",
       "    }\n",
       "</style>\n",
       "<table border=\"1\" class=\"dataframe\">\n",
       "  <thead>\n",
       "    <tr style=\"text-align: right;\">\n",
       "      <th></th>\n",
       "      <th>calls_duration</th>\n",
       "      <th>message_count</th>\n",
       "      <th>gb_used</th>\n",
       "      <th>monthly_income</th>\n",
       "      <th>mean_calls_duration</th>\n",
       "      <th>mean_message_count</th>\n",
       "      <th>mean_gb_used</th>\n",
       "      <th>mean_monthly_income</th>\n",
       "    </tr>\n",
       "    <tr>\n",
       "      <th>month</th>\n",
       "      <th></th>\n",
       "      <th></th>\n",
       "      <th></th>\n",
       "      <th></th>\n",
       "      <th></th>\n",
       "      <th></th>\n",
       "      <th></th>\n",
       "      <th></th>\n",
       "    </tr>\n",
       "  </thead>\n",
       "  <tbody>\n",
       "    <tr>\n",
       "      <th>1</th>\n",
       "      <td>6931.0</td>\n",
       "      <td>297.0</td>\n",
       "      <td>620.0</td>\n",
       "      <td>24525.0</td>\n",
       "      <td>203.852941</td>\n",
       "      <td>8.735294</td>\n",
       "      <td>18.235294</td>\n",
       "      <td>721.323529</td>\n",
       "    </tr>\n",
       "    <tr>\n",
       "      <th>2</th>\n",
       "      <td>17324.0</td>\n",
       "      <td>687.0</td>\n",
       "      <td>1397.0</td>\n",
       "      <td>48001.0</td>\n",
       "      <td>298.689655</td>\n",
       "      <td>11.844828</td>\n",
       "      <td>24.086207</td>\n",
       "      <td>827.603448</td>\n",
       "    </tr>\n",
       "    <tr>\n",
       "      <th>3</th>\n",
       "      <td>30034.0</td>\n",
       "      <td>1173.0</td>\n",
       "      <td>2453.0</td>\n",
       "      <td>89676.0</td>\n",
       "      <td>390.051948</td>\n",
       "      <td>15.233766</td>\n",
       "      <td>31.857143</td>\n",
       "      <td>1164.623377</td>\n",
       "    </tr>\n",
       "    <tr>\n",
       "      <th>4</th>\n",
       "      <td>41119.0</td>\n",
       "      <td>1526.0</td>\n",
       "      <td>3443.0</td>\n",
       "      <td>107866.0</td>\n",
       "      <td>367.133929</td>\n",
       "      <td>13.625000</td>\n",
       "      <td>30.741071</td>\n",
       "      <td>963.089286</td>\n",
       "    </tr>\n",
       "    <tr>\n",
       "      <th>5</th>\n",
       "      <td>54618.0</td>\n",
       "      <td>2243.0</td>\n",
       "      <td>4762.0</td>\n",
       "      <td>168849.0</td>\n",
       "      <td>387.361702</td>\n",
       "      <td>15.907801</td>\n",
       "      <td>33.773050</td>\n",
       "      <td>1197.510638</td>\n",
       "    </tr>\n",
       "    <tr>\n",
       "      <th>6</th>\n",
       "      <td>64885.0</td>\n",
       "      <td>2616.0</td>\n",
       "      <td>5478.0</td>\n",
       "      <td>197459.0</td>\n",
       "      <td>395.640244</td>\n",
       "      <td>15.951220</td>\n",
       "      <td>33.402439</td>\n",
       "      <td>1204.018293</td>\n",
       "    </tr>\n",
       "    <tr>\n",
       "      <th>7</th>\n",
       "      <td>82079.0</td>\n",
       "      <td>3191.0</td>\n",
       "      <td>6784.0</td>\n",
       "      <td>246014.0</td>\n",
       "      <td>408.353234</td>\n",
       "      <td>15.875622</td>\n",
       "      <td>33.751244</td>\n",
       "      <td>1223.950249</td>\n",
       "    </tr>\n",
       "    <tr>\n",
       "      <th>8</th>\n",
       "      <td>99045.0</td>\n",
       "      <td>3933.0</td>\n",
       "      <td>7905.0</td>\n",
       "      <td>310340.0</td>\n",
       "      <td>421.468085</td>\n",
       "      <td>16.736170</td>\n",
       "      <td>33.638298</td>\n",
       "      <td>1320.595745</td>\n",
       "    </tr>\n",
       "    <tr>\n",
       "      <th>9</th>\n",
       "      <td>111439.0</td>\n",
       "      <td>4262.0</td>\n",
       "      <td>8746.0</td>\n",
       "      <td>324986.0</td>\n",
       "      <td>428.611538</td>\n",
       "      <td>16.392308</td>\n",
       "      <td>33.638462</td>\n",
       "      <td>1249.946154</td>\n",
       "    </tr>\n",
       "    <tr>\n",
       "      <th>10</th>\n",
       "      <td>125284.0</td>\n",
       "      <td>4963.0</td>\n",
       "      <td>9927.0</td>\n",
       "      <td>401267.0</td>\n",
       "      <td>426.136054</td>\n",
       "      <td>16.880952</td>\n",
       "      <td>33.765306</td>\n",
       "      <td>1364.853741</td>\n",
       "    </tr>\n",
       "    <tr>\n",
       "      <th>11</th>\n",
       "      <td>137544.0</td>\n",
       "      <td>5372.0</td>\n",
       "      <td>10768.0</td>\n",
       "      <td>424403.0</td>\n",
       "      <td>435.265823</td>\n",
       "      <td>17.000000</td>\n",
       "      <td>34.075949</td>\n",
       "      <td>1343.047468</td>\n",
       "    </tr>\n",
       "    <tr>\n",
       "      <th>12</th>\n",
       "      <td>161275.0</td>\n",
       "      <td>6134.0</td>\n",
       "      <td>12130.0</td>\n",
       "      <td>531965.0</td>\n",
       "      <td>478.560831</td>\n",
       "      <td>18.201780</td>\n",
       "      <td>35.994065</td>\n",
       "      <td>1578.531157</td>\n",
       "    </tr>\n",
       "  </tbody>\n",
       "</table>\n",
       "</div>"
      ],
      "text/plain": [
       "       calls_duration  message_count  gb_used  monthly_income  \\\n",
       "month                                                           \n",
       "1              6931.0          297.0    620.0         24525.0   \n",
       "2             17324.0          687.0   1397.0         48001.0   \n",
       "3             30034.0         1173.0   2453.0         89676.0   \n",
       "4             41119.0         1526.0   3443.0        107866.0   \n",
       "5             54618.0         2243.0   4762.0        168849.0   \n",
       "6             64885.0         2616.0   5478.0        197459.0   \n",
       "7             82079.0         3191.0   6784.0        246014.0   \n",
       "8             99045.0         3933.0   7905.0        310340.0   \n",
       "9            111439.0         4262.0   8746.0        324986.0   \n",
       "10           125284.0         4963.0   9927.0        401267.0   \n",
       "11           137544.0         5372.0  10768.0        424403.0   \n",
       "12           161275.0         6134.0  12130.0        531965.0   \n",
       "\n",
       "       mean_calls_duration  mean_message_count  mean_gb_used  \\\n",
       "month                                                          \n",
       "1               203.852941            8.735294     18.235294   \n",
       "2               298.689655           11.844828     24.086207   \n",
       "3               390.051948           15.233766     31.857143   \n",
       "4               367.133929           13.625000     30.741071   \n",
       "5               387.361702           15.907801     33.773050   \n",
       "6               395.640244           15.951220     33.402439   \n",
       "7               408.353234           15.875622     33.751244   \n",
       "8               421.468085           16.736170     33.638298   \n",
       "9               428.611538           16.392308     33.638462   \n",
       "10              426.136054           16.880952     33.765306   \n",
       "11              435.265823           17.000000     34.075949   \n",
       "12              478.560831           18.201780     35.994065   \n",
       "\n",
       "       mean_monthly_income  \n",
       "month                       \n",
       "1               721.323529  \n",
       "2               827.603448  \n",
       "3              1164.623377  \n",
       "4               963.089286  \n",
       "5              1197.510638  \n",
       "6              1204.018293  \n",
       "7              1223.950249  \n",
       "8              1320.595745  \n",
       "9              1249.946154  \n",
       "10             1364.853741  \n",
       "11             1343.047468  \n",
       "12             1578.531157  "
      ]
     },
     "metadata": {},
     "output_type": "display_data"
    }
   ],
   "source": [
    "#Вычисляем сколько минут разговора, сообщений и какой объём интернет-трафика требуется пользователям в месяц\n",
    "smart_stat = smart.pivot_table(index='month',\n",
    "values=['calls_duration', 'message_count', 'gb_used', 'monthly_income'], \n",
    "aggfunc=['sum', 'mean']) \n",
    "smart_stat.columns = (['calls_duration', 'message_count', 'gb_used', 'monthly_income', \n",
    "                      'mean_calls_duration', 'mean_message_count', 'mean_gb_used', 'mean_monthly_income'])\n",
    "#Проверим результат\n",
    "display(smart_stat)"
   ]
  },
  {
   "cell_type": "markdown",
   "metadata": {},
   "source": [
    "Рассчитаем среднее количесиво, дисперсию и стандартное отклонение"
   ]
  },
  {
   "cell_type": "code",
   "execution_count": 25,
   "metadata": {},
   "outputs": [
    {
     "name": "stdout",
     "output_type": "stream",
     "text": [
      "Минуты разговора\n",
      "Среднее количество: 417.9349484073576\n",
      "Дисперсия: 36203.06665209465\n",
      "Стандартное отклонение: 190.27103471651864\n",
      "\n",
      "Сообщения\n",
      "Среднее количество: 33.384028712427096\n",
      "Дисперсия: 796.455482917076\n",
      "Стандартное отклонение: 28.221542886898938\n",
      "\n",
      "Интернет-трафик (ГБ)\n",
      "Среднее количество: 16.328847016599372\n",
      "Дисперсия: 33.01388745483741\n",
      "Стандартное отклонение: 5.7457712671874965\n",
      "\n",
      "Выручка\n",
      "Среднее количество: 1289.9735307312696\n",
      "Дисперсия: 669485.2209234155\n",
      "Стандартное отклонение: 818.2207653948997\n"
     ]
    }
   ],
   "source": [
    "print('Минуты разговора')\n",
    "print('Среднее количество:',smart['calls_duration'].mean() )\n",
    "print('Дисперсия:',np.var(smart['calls_duration']) )\n",
    "print('Стандартное отклонение:',np.std(smart['calls_duration']) )\n",
    "print()\n",
    "\n",
    "print('Сообщения')\n",
    "print('Среднее количество:',smart['message_count'].mean() )\n",
    "print('Дисперсия:',np.var(smart['message_count']) )\n",
    "print('Стандартное отклонение:',np.std(smart['message_count']) )\n",
    "print()\n",
    "\n",
    "print('Интернет-трафик (ГБ)')\n",
    "print('Среднее количество:',smart['gb_used'].mean() )\n",
    "print('Дисперсия:',np.var(smart['gb_used']) )\n",
    "print('Стандартное отклонение:',np.std(smart['gb_used']) )\n",
    "print()\n",
    "\n",
    "print('Выручка')\n",
    "print('Среднее количество:',smart['monthly_income'].mean() )\n",
    "print('Дисперсия:',np.var(smart['monthly_income']) )\n",
    "print('Стандартное отклонение:',np.std(smart['monthly_income']) )"
   ]
  },
  {
   "cell_type": "markdown",
   "metadata": {},
   "source": [
    "### Визуализации"
   ]
  },
  {
   "cell_type": "markdown",
   "metadata": {},
   "source": [
    "#### Минуты разговора"
   ]
  },
  {
   "cell_type": "code",
   "execution_count": 26,
   "metadata": {},
   "outputs": [
    {
     "data": {
      "text/plain": [
       "Text(0, 0.5, 'Частота')"
      ]
     },
     "execution_count": 26,
     "metadata": {},
     "output_type": "execute_result"
    },
    {
     "data": {
      "image/png": "[encoded data removed]",
      "text/plain": [
       "<Figure size 432x288 with 1 Axes>"
      ]
     },
     "metadata": {
      "needs_background": "light"
     },
     "output_type": "display_data"
    }
   ],
   "source": [
    "#Чтобы отобразить распределения для обоих тарифов на одном графике, добавим данные по тарифу smart\n",
    "ax = smart['calls_duration'].plot(kind='hist', label='smart')\n",
    "#Построим гистограмму по тарифу ultra\n",
    "ultra['calls_duration'].plot(kind='hist', label='ultra', ax=ax, grid=True, alpha=0.5)\n",
    "plt.title('Распределение длительности звонков')\n",
    "plt.xlabel('Количество минут')\n",
    "plt.ylabel('Частота')"
   ]
  },
  {
   "cell_type": "markdown",
   "metadata": {},
   "source": [
    "#### Сообщения"
   ]
  },
  {
   "cell_type": "code",
   "execution_count": 27,
   "metadata": {},
   "outputs": [
    {
     "data": {
      "text/plain": [
       "Text(0, 0.5, 'Частота')"
      ]
     },
     "execution_count": 27,
     "metadata": {},
     "output_type": "execute_result"
    },
    {
     "data": {
      "image/png": "[encoded data removed]",
      "text/plain": [
       "<Figure size 432x288 with 1 Axes>"
      ]
     },
     "metadata": {
      "needs_background": "light"
     },
     "output_type": "display_data"
    }
   ],
   "source": [
    "#Чтобы отобразить распределения для обоих тарифов на одном графике, добавим данные по тарифу smart\n",
    "ax = smart['message_count'].plot(kind='hist', label='smart')\n",
    "#Построим гистограмму по тарифу ultra\n",
    "ultra['message_count'].plot(kind='hist', label='ultra', ax=ax, grid=True, alpha=0.5)\n",
    "plt.title('Распределение количества сообщений')\n",
    "plt.xlabel('Количество сообщений')\n",
    "plt.ylabel('Частота')"
   ]
  },
  {
   "cell_type": "markdown",
   "metadata": {},
   "source": [
    "#### Интернет-трафик"
   ]
  },
  {
   "cell_type": "code",
   "execution_count": 28,
   "metadata": {},
   "outputs": [
    {
     "data": {
      "text/plain": [
       "Text(0, 0.5, 'Частота')"
      ]
     },
     "execution_count": 28,
     "metadata": {},
     "output_type": "execute_result"
    },
    {
     "data": {
      "image/png": "[encoded data removed]",
      "text/plain": [
       "<Figure size 432x288 with 1 Axes>"
      ]
     },
     "metadata": {
      "needs_background": "light"
     },
     "output_type": "display_data"
    }
   ],
   "source": [
    "#Чтобы отобразить распределения для обоих тарифов на одном графике, добавим данные по тарифу smart\n",
    "ax = smart['gb_used'].plot(kind='hist', label='smart')\n",
    "#Построим гистограмму по тарифу ultra\n",
    "ultra['gb_used'].plot(kind='hist', label='ultra', ax=ax, grid=True, alpha=0.5)\n",
    "plt.title('Распределение количества гигабайт')\n",
    "plt.xlabel('Количество гигабайт')\n",
    "plt.ylabel('Частота')"
   ]
  },
  {
   "cell_type": "markdown",
   "metadata": {},
   "source": [
    "#### Выручка"
   ]
  },
  {
   "cell_type": "code",
   "execution_count": 29,
   "metadata": {},
   "outputs": [
    {
     "data": {
      "text/plain": [
       "Text(0, 0.5, 'Частота')"
      ]
     },
     "execution_count": 29,
     "metadata": {},
     "output_type": "execute_result"
    },
    {
     "data": {
      "image/png": "[encoded data removed]",
      "text/plain": [
       "<Figure size 432x288 with 1 Axes>"
      ]
     },
     "metadata": {
      "needs_background": "light"
     },
     "output_type": "display_data"
    }
   ],
   "source": [
    "#Чтобы отобразить распределения для обоих тарифов на одном графике, добавим данные по тарифу smart\n",
    "ax = smart['monthly_income'].plot(kind='hist', label='smart')\n",
    "#Построим гистограмму по тарифу ultra\n",
    "ultra['monthly_income'].plot(kind='hist', label='ultra', ax=ax, grid=True, alpha=0.5)\n",
    "plt.title('Распределение выручки')\n",
    "plt.xlabel('Выручка')\n",
    "plt.ylabel('Частота')"
   ]
  },
  {
   "cell_type": "markdown",
   "metadata": {},
   "source": [
    "#### Вывод"
   ]
  },
  {
   "cell_type": "markdown",
   "metadata": {},
   "source": [
    "По гистограммам можно видеть, что распределения не соответствуют нормальному. Среднее количество использования всех видов услуг в тарифе ultra превышает тариф smart. При этом выручка от пользователей тарифа ultra так же превышает выручку тарифа smart."
   ]
  },
  {
   "cell_type": "markdown",
   "metadata": {},
   "source": [
    "## Проверка гипотез"
   ]
  },
  {
   "cell_type": "markdown",
   "metadata": {},
   "source": [
    "Для проверки гипотез будем использовать критерий Стьюдента, так как он не требует нормального распределения выборок, а по гистрограммам выше видно, что распределения не похохи на нормальные.  \n",
    "\n",
    "Будем использовать метод `ttest_ind` так как в обоих случаях выборки независимые."
   ]
  },
  {
   "cell_type": "markdown",
   "metadata": {},
   "source": [
    "### Cредняя выручка пользователей тарифов «Ультра» и «Смарт» различаются"
   ]
  },
  {
   "cell_type": "markdown",
   "metadata": {},
   "source": [
    "Сформулируем гипотезы:  \n",
    "**H0:**  Cредняя выручка пользователей тарифов «Ультра» и «Смарт» не отличаются  \n",
    "**H1:** Cредняя выручка пользователей тарифов «Ультра» и «Смарт» отличаются"
   ]
  },
  {
   "cell_type": "code",
   "execution_count": 30,
   "metadata": {},
   "outputs": [],
   "source": [
    "#Зададим пороговое значение\n",
    "alpha = .05"
   ]
  },
  {
   "cell_type": "code",
   "execution_count": 31,
   "metadata": {},
   "outputs": [
    {
     "name": "stdout",
     "output_type": "stream",
     "text": [
      "pvalue: 4.2606313931076085e-250\n",
      "Отвергаем нулевую гипотезу\n"
     ]
    }
   ],
   "source": [
    "#Выполняем t-тест. В качестве аргументов возьмем помесячную выручку пользователей каждого тарифа\n",
    "results = st.ttest_ind(\n",
    "    ultra['monthly_income'], \n",
    "    smart['monthly_income'], \n",
    "    equal_var=False)\n",
    "\n",
    "#Выводим pvalue\n",
    "print('pvalue:', results.pvalue)\n",
    "\n",
    "#Проверяем \n",
    "if results.pvalue < alpha:\n",
    "    print(\"Отвергаем нулевую гипотезу\")\n",
    "else:\n",
    "    print(\"Не отвергаем нулевую гипотезу \") "
   ]
  },
  {
   "cell_type": "markdown",
   "metadata": {},
   "source": [
    "Вероятность получить равное значение почти равна 0, сл-но нулевую гипотезу можно отвергнуть, а альтернативную подтвердить.\n",
    "**Cредняя выручка пользователей тарифов «Ультра» и «Смарт» различаются**"
   ]
  },
  {
   "cell_type": "markdown",
   "metadata": {},
   "source": [
    "### Cредняя выручка пользователей из Москвы отличается от выручки пользователей из других регионов"
   ]
  },
  {
   "cell_type": "markdown",
   "metadata": {},
   "source": [
    "**H0:** Cредняя выручка пользователей из Москвы не отличается от выручки пользователей из других регионов¶  \n",
    "**H1:** Cредняя выручка пользователей из Москвы других регионов отличаются¶"
   ]
  },
  {
   "cell_type": "code",
   "execution_count": 32,
   "metadata": {},
   "outputs": [],
   "source": [
    "#Зададим пороговое значение\n",
    "alpha = .05"
   ]
  },
  {
   "cell_type": "markdown",
   "metadata": {},
   "source": [
    "Добавим в таблицу `user_services` город пользователя"
   ]
  },
  {
   "cell_type": "code",
   "execution_count": 33,
   "metadata": {},
   "outputs": [],
   "source": [
    "#Напишем функцию, которая получает город по id пользователя \n",
    "def get_city(row):\n",
    "    #Получаем id пользователя\n",
    "    user_id = row['user_id']\n",
    "    \n",
    "    #Получаем город \n",
    "    city = users_data.query('user_id == @user_id')['city'].values[0]\n",
    "    return city\n",
    "\n",
    "#Вызываем функцию\n",
    "user_services['city'] = users_data.apply(get_city, axis=1) "
   ]
  },
  {
   "cell_type": "code",
   "execution_count": 34,
   "metadata": {},
   "outputs": [
    {
     "name": "stdout",
     "output_type": "stream",
     "text": [
      "pvalue: 0.31369752853586896\n",
      "Не отвергаем нулевую гипотезу \n"
     ]
    }
   ],
   "source": [
    "moscow = user_services.query('city == \"Москва\"')\n",
    "other = user_services.query('city != \"Москва\"')\n",
    "\n",
    "#Выполняем t-тест. В качестве аргументов возьмем помесячную выручку пользователей каждого тарифа\n",
    "results = st.ttest_ind(\n",
    "    moscow['monthly_income'], \n",
    "    other['monthly_income'],\n",
    "    equal_var=False)\n",
    "\n",
    "#Выводим pvalue\n",
    "print('pvalue:', results.pvalue)\n",
    "\n",
    "#Проверяем \n",
    "if results.pvalue < alpha:\n",
    "    print(\"Отвергаем нулевую гипотезу\")\n",
    "else:\n",
    "    print(\"Не отвергаем нулевую гипотезу \") "
   ]
  },
  {
   "cell_type": "markdown",
   "metadata": {},
   "source": [
    " Нулевая гипотеза подтвердилась. Вероятность получить равное значение почти 31%. Гипотеза говорит о том, что  **средняя выручка пользователей из Москвы НЕ отличается от выручки пользователей из других регионов**"
   ]
  },
  {
   "cell_type": "markdown",
   "metadata": {},
   "source": [
    "## Общий вывод"
   ]
  },
  {
   "cell_type": "markdown",
   "metadata": {},
   "source": [
    "В рамках исследования было проведено сравнение тарифов ultra и smart компании «Мегалайн». Исследование показало:  \n",
    "1. В среднем пользователи тарифа ultra расходуют больше минут разговора, сообщений и интернет трафика вне зависимости от месяца. Значит клиенты на данном тарифе активнее пользуются услугами компании;\n",
    "1. Cредняя выручка пользователей тарифа ultra выше, чем у тарифа smart вне зависимости от региона клиентов;\n",
    "\n",
    "Таким образом можно сделать вывод, что **тариф ultra лучше**. \n"
   ]
  }
 ],
 "metadata": {
  "ExecuteTimeLog": [
   {
    "duration": 1563,
    "start_time": "2022-05-17T20:30:08.785Z"
   },
   {
    "duration": 333,
    "start_time": "2022-05-17T20:30:10.350Z"
   },
   {
    "duration": 367,
    "start_time": "2022-05-17T20:30:10.684Z"
   },
   {
    "duration": 176,
    "start_time": "2022-05-17T20:30:11.053Z"
   },
   {
    "duration": 46,
    "start_time": "2022-05-17T20:30:11.230Z"
   },
   {
    "duration": 54,
    "start_time": "2022-05-17T20:30:11.277Z"
   },
   {
    "duration": 64,
    "start_time": "2022-05-17T20:30:11.332Z"
   },
   {
    "duration": 4,
    "start_time": "2022-05-17T20:30:11.398Z"
   },
   {
    "duration": 60,
    "start_time": "2022-05-17T20:30:11.403Z"
   },
   {
    "duration": 53,
    "start_time": "2022-05-17T20:30:11.466Z"
   },
   {
    "duration": 44,
    "start_time": "2022-05-17T20:30:11.521Z"
   },
   {
    "duration": 25,
    "start_time": "2022-05-17T20:30:11.567Z"
   },
   {
    "duration": 33,
    "start_time": "2022-05-17T20:30:11.593Z"
   },
   {
    "duration": 3557,
    "start_time": "2022-05-17T20:30:11.627Z"
   },
   {
    "duration": 8,
    "start_time": "2022-05-17T20:30:15.186Z"
   },
   {
    "duration": 0,
    "start_time": "2022-05-17T20:30:15.196Z"
   },
   {
    "duration": 0,
    "start_time": "2022-05-17T20:30:15.197Z"
   },
   {
    "duration": 0,
    "start_time": "2022-05-17T20:30:15.198Z"
   },
   {
    "duration": 0,
    "start_time": "2022-05-17T20:30:15.199Z"
   },
   {
    "duration": 3,
    "start_time": "2022-05-17T20:30:56.622Z"
   },
   {
    "duration": 265,
    "start_time": "2022-05-17T20:30:56.627Z"
   },
   {
    "duration": 196,
    "start_time": "2022-05-17T20:30:56.894Z"
   },
   {
    "duration": 146,
    "start_time": "2022-05-17T20:30:57.092Z"
   },
   {
    "duration": 36,
    "start_time": "2022-05-17T20:30:57.249Z"
   },
   {
    "duration": 38,
    "start_time": "2022-05-17T20:30:57.287Z"
   },
   {
    "duration": 83,
    "start_time": "2022-05-17T20:30:57.327Z"
   },
   {
    "duration": 4,
    "start_time": "2022-05-17T20:30:57.412Z"
   },
   {
    "duration": 58,
    "start_time": "2022-05-17T20:30:57.417Z"
   },
   {
    "duration": 35,
    "start_time": "2022-05-17T20:30:57.477Z"
   },
   {
    "duration": 25,
    "start_time": "2022-05-17T20:30:57.513Z"
   },
   {
    "duration": 22,
    "start_time": "2022-05-17T20:30:57.558Z"
   },
   {
    "duration": 32,
    "start_time": "2022-05-17T20:30:57.581Z"
   },
   {
    "duration": 3254,
    "start_time": "2022-05-17T20:30:57.615Z"
   },
   {
    "duration": 22609,
    "start_time": "2022-05-17T20:31:00.870Z"
   },
   {
    "duration": 8,
    "start_time": "2022-05-17T20:31:23.481Z"
   },
   {
    "duration": 823,
    "start_time": "2022-05-17T20:31:23.490Z"
   },
   {
    "duration": 641,
    "start_time": "2022-05-17T20:31:24.315Z"
   },
   {
    "duration": 728,
    "start_time": "2022-05-17T20:31:24.959Z"
   },
   {
    "duration": 4,
    "start_time": "2022-05-17T20:40:23.738Z"
   },
   {
    "duration": 4,
    "start_time": "2022-05-17T20:42:16.676Z"
   },
   {
    "duration": 6,
    "start_time": "2022-05-17T20:42:32.395Z"
   },
   {
    "duration": 7,
    "start_time": "2022-05-17T20:43:20.023Z"
   },
   {
    "duration": 5,
    "start_time": "2022-05-17T20:46:29.148Z"
   },
   {
    "duration": 5,
    "start_time": "2022-05-17T20:52:41.683Z"
   },
   {
    "duration": 5,
    "start_time": "2022-05-17T20:52:48.639Z"
   },
   {
    "duration": 4,
    "start_time": "2022-05-17T20:56:37.158Z"
   },
   {
    "duration": 5,
    "start_time": "2022-05-17T20:56:47.744Z"
   },
   {
    "duration": 37,
    "start_time": "2022-05-17T21:22:35.411Z"
   },
   {
    "duration": 7,
    "start_time": "2022-05-17T21:22:40.765Z"
   },
   {
    "duration": 619,
    "start_time": "2022-05-17T21:36:34.947Z"
   },
   {
    "duration": 8,
    "start_time": "2022-05-17T21:37:46.673Z"
   },
   {
    "duration": 9,
    "start_time": "2022-05-17T21:38:09.727Z"
   },
   {
    "duration": 110,
    "start_time": "2022-05-17T21:38:35.641Z"
   },
   {
    "duration": 14,
    "start_time": "2022-05-17T21:38:44.666Z"
   },
   {
    "duration": 10,
    "start_time": "2022-05-17T21:38:57.526Z"
   },
   {
    "duration": 10,
    "start_time": "2022-05-17T21:40:14.698Z"
   },
   {
    "duration": 19,
    "start_time": "2022-05-17T21:40:41.684Z"
   },
   {
    "duration": 19,
    "start_time": "2022-05-17T21:40:45.967Z"
   },
   {
    "duration": 12,
    "start_time": "2022-05-17T21:41:01.652Z"
   },
   {
    "duration": 1456,
    "start_time": "2022-05-19T11:29:45.295Z"
   },
   {
    "duration": 465,
    "start_time": "2022-05-19T11:29:46.753Z"
   },
   {
    "duration": 510,
    "start_time": "2022-05-19T11:29:47.221Z"
   },
   {
    "duration": 262,
    "start_time": "2022-05-19T11:29:47.733Z"
   },
   {
    "duration": 71,
    "start_time": "2022-05-19T11:29:47.998Z"
   },
   {
    "duration": 76,
    "start_time": "2022-05-19T11:29:48.071Z"
   },
   {
    "duration": 117,
    "start_time": "2022-05-19T11:29:48.149Z"
   },
   {
    "duration": 5,
    "start_time": "2022-05-19T11:29:48.269Z"
   },
   {
    "duration": 89,
    "start_time": "2022-05-19T11:29:50.617Z"
   },
   {
    "duration": 834,
    "start_time": "2022-05-19T11:30:08.823Z"
   },
   {
    "duration": 67,
    "start_time": "2022-05-19T11:30:25.972Z"
   },
   {
    "duration": 60,
    "start_time": "2022-05-19T11:30:44.371Z"
   },
   {
    "duration": 4,
    "start_time": "2022-05-19T11:34:03.413Z"
   },
   {
    "duration": 338,
    "start_time": "2022-05-19T11:34:03.419Z"
   },
   {
    "duration": 299,
    "start_time": "2022-05-19T11:34:03.760Z"
   },
   {
    "duration": 202,
    "start_time": "2022-05-19T11:34:04.061Z"
   },
   {
    "duration": 36,
    "start_time": "2022-05-19T11:34:04.265Z"
   },
   {
    "duration": 51,
    "start_time": "2022-05-19T11:34:04.304Z"
   },
   {
    "duration": 89,
    "start_time": "2022-05-19T11:34:04.357Z"
   },
   {
    "duration": 4,
    "start_time": "2022-05-19T11:34:04.448Z"
   },
   {
    "duration": 69,
    "start_time": "2022-05-19T11:34:04.454Z"
   },
   {
    "duration": 319,
    "start_time": "2022-05-19T11:34:04.525Z"
   },
   {
    "duration": 40,
    "start_time": "2022-05-19T11:34:04.848Z"
   },
   {
    "duration": 42,
    "start_time": "2022-05-19T11:34:04.894Z"
   },
   {
    "duration": 48,
    "start_time": "2022-05-19T11:34:04.938Z"
   },
   {
    "duration": 3922,
    "start_time": "2022-05-19T11:34:04.988Z"
   },
   {
    "duration": 27169,
    "start_time": "2022-05-19T11:34:08.912Z"
   },
   {
    "duration": 10,
    "start_time": "2022-05-19T11:34:36.083Z"
   },
   {
    "duration": 872,
    "start_time": "2022-05-19T11:34:36.095Z"
   },
   {
    "duration": 784,
    "start_time": "2022-05-19T11:34:36.970Z"
   },
   {
    "duration": 822,
    "start_time": "2022-05-19T11:34:37.756Z"
   },
   {
    "duration": 3,
    "start_time": "2022-05-19T11:34:38.580Z"
   },
   {
    "duration": 13,
    "start_time": "2022-05-19T11:34:38.585Z"
   },
   {
    "duration": 32,
    "start_time": "2022-05-19T11:34:38.600Z"
   },
   {
    "duration": 727,
    "start_time": "2022-05-19T11:34:38.635Z"
   },
   {
    "duration": 14,
    "start_time": "2022-05-19T11:41:49.886Z"
   },
   {
    "duration": 747,
    "start_time": "2022-05-19T11:41:52.681Z"
   },
   {
    "duration": 13,
    "start_time": "2022-05-19T12:34:53.811Z"
   },
   {
    "duration": 704,
    "start_time": "2022-05-19T12:37:34.402Z"
   },
   {
    "duration": 2,
    "start_time": "2022-05-19T12:37:42.168Z"
   },
   {
    "duration": 715,
    "start_time": "2022-05-19T12:37:44.492Z"
   },
   {
    "duration": 13,
    "start_time": "2022-05-19T12:37:46.724Z"
   },
   {
    "duration": 5,
    "start_time": "2022-05-19T12:37:55.621Z"
   },
   {
    "duration": 7,
    "start_time": "2022-05-19T12:44:24.101Z"
   },
   {
    "duration": 899,
    "start_time": "2022-05-19T12:56:42.362Z"
   },
   {
    "duration": 10,
    "start_time": "2022-05-19T13:10:36.537Z"
   },
   {
    "duration": 660,
    "start_time": "2022-05-19T13:27:39.750Z"
   },
   {
    "duration": 5,
    "start_time": "2022-05-19T13:36:23.944Z"
   },
   {
    "duration": 5,
    "start_time": "2022-05-19T13:43:16.003Z"
   },
   {
    "duration": 13,
    "start_time": "2022-05-19T13:43:36.786Z"
   },
   {
    "duration": 7,
    "start_time": "2022-05-19T13:43:48.678Z"
   },
   {
    "duration": 7,
    "start_time": "2022-05-19T13:43:56.013Z"
   },
   {
    "duration": 225,
    "start_time": "2022-05-19T13:55:37.834Z"
   },
   {
    "duration": 195,
    "start_time": "2022-05-19T13:58:51.444Z"
   },
   {
    "duration": 350,
    "start_time": "2022-05-19T13:59:07.378Z"
   },
   {
    "duration": 47,
    "start_time": "2022-05-19T14:00:55.627Z"
   },
   {
    "duration": 37,
    "start_time": "2022-05-19T14:10:17.189Z"
   },
   {
    "duration": 893,
    "start_time": "2022-05-19T14:13:56.102Z"
   },
   {
    "duration": 746,
    "start_time": "2022-05-19T14:14:37.666Z"
   },
   {
    "duration": 708,
    "start_time": "2022-05-19T14:15:11.966Z"
   },
   {
    "duration": 249,
    "start_time": "2022-05-19T14:17:37.855Z"
   },
   {
    "duration": 35,
    "start_time": "2022-05-19T14:19:07.119Z"
   },
   {
    "duration": 3,
    "start_time": "2022-05-19T14:33:05.976Z"
   },
   {
    "duration": 379,
    "start_time": "2022-05-19T14:33:05.981Z"
   },
   {
    "duration": 257,
    "start_time": "2022-05-19T14:33:06.362Z"
   },
   {
    "duration": 170,
    "start_time": "2022-05-19T14:33:06.621Z"
   },
   {
    "duration": 40,
    "start_time": "2022-05-19T14:33:06.793Z"
   },
   {
    "duration": 73,
    "start_time": "2022-05-19T14:33:06.834Z"
   },
   {
    "duration": 74,
    "start_time": "2022-05-19T14:33:06.908Z"
   },
   {
    "duration": 4,
    "start_time": "2022-05-19T14:33:06.984Z"
   },
   {
    "duration": 96,
    "start_time": "2022-05-19T14:33:06.991Z"
   },
   {
    "duration": 61,
    "start_time": "2022-05-19T14:33:07.090Z"
   },
   {
    "duration": 32,
    "start_time": "2022-05-19T14:33:07.153Z"
   },
   {
    "duration": 47,
    "start_time": "2022-05-19T14:33:07.187Z"
   },
   {
    "duration": 42,
    "start_time": "2022-05-19T14:33:07.235Z"
   },
   {
    "duration": 3755,
    "start_time": "2022-05-19T14:33:07.279Z"
   },
   {
    "duration": 25750,
    "start_time": "2022-05-19T14:33:11.036Z"
   },
   {
    "duration": 11,
    "start_time": "2022-05-19T14:33:36.788Z"
   },
   {
    "duration": 65,
    "start_time": "2022-05-19T14:33:36.800Z"
   },
   {
    "duration": 40,
    "start_time": "2022-05-19T14:33:36.867Z"
   },
   {
    "duration": 756,
    "start_time": "2022-05-19T14:33:36.908Z"
   },
   {
    "duration": 697,
    "start_time": "2022-05-19T14:33:37.666Z"
   },
   {
    "duration": 793,
    "start_time": "2022-05-19T14:33:38.365Z"
   },
   {
    "duration": 3,
    "start_time": "2022-05-19T14:33:39.159Z"
   },
   {
    "duration": 9,
    "start_time": "2022-05-19T14:33:39.163Z"
   },
   {
    "duration": 279,
    "start_time": "2022-05-19T14:33:39.175Z"
   },
   {
    "duration": 4,
    "start_time": "2022-05-19T14:33:39.455Z"
   },
   {
    "duration": 724,
    "start_time": "2022-05-19T14:33:39.460Z"
   },
   {
    "duration": 10,
    "start_time": "2022-05-19T14:33:40.186Z"
   },
   {
    "duration": 1064,
    "start_time": "2022-05-20T08:08:47.647Z"
   },
   {
    "duration": 303,
    "start_time": "2022-05-20T08:08:48.714Z"
   },
   {
    "duration": 208,
    "start_time": "2022-05-20T08:08:49.027Z"
   },
   {
    "duration": 146,
    "start_time": "2022-05-20T08:08:49.238Z"
   },
   {
    "duration": 22,
    "start_time": "2022-05-20T08:08:49.386Z"
   },
   {
    "duration": 47,
    "start_time": "2022-05-20T08:08:49.411Z"
   },
   {
    "duration": 74,
    "start_time": "2022-05-20T08:08:49.459Z"
   },
   {
    "duration": 4,
    "start_time": "2022-05-20T08:08:49.534Z"
   },
   {
    "duration": 55,
    "start_time": "2022-05-20T08:08:49.540Z"
   },
   {
    "duration": 66,
    "start_time": "2022-05-20T08:08:49.598Z"
   },
   {
    "duration": 28,
    "start_time": "2022-05-20T08:08:49.666Z"
   },
   {
    "duration": 45,
    "start_time": "2022-05-20T08:08:49.695Z"
   },
   {
    "duration": 44,
    "start_time": "2022-05-20T08:08:49.742Z"
   },
   {
    "duration": 3574,
    "start_time": "2022-05-20T08:08:49.788Z"
   },
   {
    "duration": 24502,
    "start_time": "2022-05-20T08:08:53.364Z"
   },
   {
    "duration": 7,
    "start_time": "2022-05-20T08:09:17.869Z"
   },
   {
    "duration": 59,
    "start_time": "2022-05-20T08:09:17.877Z"
   },
   {
    "duration": 55,
    "start_time": "2022-05-20T08:09:17.938Z"
   },
   {
    "duration": 843,
    "start_time": "2022-05-20T08:09:17.995Z"
   },
   {
    "duration": 756,
    "start_time": "2022-05-20T08:09:18.840Z"
   },
   {
    "duration": 739,
    "start_time": "2022-05-20T08:09:19.599Z"
   },
   {
    "duration": 3,
    "start_time": "2022-05-20T08:09:20.340Z"
   },
   {
    "duration": 14,
    "start_time": "2022-05-20T08:09:20.345Z"
   },
   {
    "duration": 277,
    "start_time": "2022-05-20T08:09:20.361Z"
   },
   {
    "duration": 3,
    "start_time": "2022-05-20T08:09:20.640Z"
   },
   {
    "duration": 721,
    "start_time": "2022-05-20T08:09:20.644Z"
   },
   {
    "duration": 11,
    "start_time": "2022-05-20T08:09:21.366Z"
   },
   {
    "duration": 4,
    "start_time": "2022-05-20T08:35:36.072Z"
   },
   {
    "duration": 5,
    "start_time": "2022-05-20T08:36:22.970Z"
   },
   {
    "duration": 1902,
    "start_time": "2022-05-20T13:51:29.290Z"
   },
   {
    "duration": 430,
    "start_time": "2022-05-20T13:51:31.195Z"
   },
   {
    "duration": 445,
    "start_time": "2022-05-20T13:51:31.627Z"
   },
   {
    "duration": 229,
    "start_time": "2022-05-20T13:51:32.075Z"
   },
   {
    "duration": 52,
    "start_time": "2022-05-20T13:51:32.306Z"
   },
   {
    "duration": 65,
    "start_time": "2022-05-20T13:51:32.360Z"
   },
   {
    "duration": 77,
    "start_time": "2022-05-20T13:51:32.426Z"
   },
   {
    "duration": 4,
    "start_time": "2022-05-20T13:51:32.505Z"
   },
   {
    "duration": 21,
    "start_time": "2022-05-20T13:51:34.387Z"
   },
   {
    "duration": 130,
    "start_time": "2022-05-20T13:54:42.198Z"
   },
   {
    "duration": 4,
    "start_time": "2022-05-20T13:54:45.296Z"
   },
   {
    "duration": 376,
    "start_time": "2022-05-20T13:54:45.303Z"
   },
   {
    "duration": 229,
    "start_time": "2022-05-20T13:54:45.681Z"
   },
   {
    "duration": 164,
    "start_time": "2022-05-20T13:54:45.912Z"
   },
   {
    "duration": 39,
    "start_time": "2022-05-20T13:54:46.078Z"
   },
   {
    "duration": 49,
    "start_time": "2022-05-20T13:54:46.119Z"
   },
   {
    "duration": 82,
    "start_time": "2022-05-20T13:54:46.172Z"
   },
   {
    "duration": 6,
    "start_time": "2022-05-20T13:54:46.269Z"
   },
   {
    "duration": 18,
    "start_time": "2022-05-20T13:54:46.280Z"
   },
   {
    "duration": 58,
    "start_time": "2022-05-20T13:54:46.300Z"
   },
   {
    "duration": 217,
    "start_time": "2022-05-20T13:54:46.360Z"
   },
   {
    "duration": 25,
    "start_time": "2022-05-20T13:54:46.582Z"
   },
   {
    "duration": 24,
    "start_time": "2022-05-20T13:54:46.609Z"
   },
   {
    "duration": 10,
    "start_time": "2022-05-20T13:54:48.483Z"
   },
   {
    "duration": 57,
    "start_time": "2022-05-20T13:55:53.941Z"
   },
   {
    "duration": 41,
    "start_time": "2022-05-20T13:56:22.906Z"
   },
   {
    "duration": 36,
    "start_time": "2022-05-20T13:57:13.184Z"
   },
   {
    "duration": 5,
    "start_time": "2022-05-20T13:57:16.304Z"
   },
   {
    "duration": 241,
    "start_time": "2022-05-20T14:00:13.824Z"
   },
   {
    "duration": 267,
    "start_time": "2022-05-20T14:00:30.451Z"
   },
   {
    "duration": 156,
    "start_time": "2022-05-20T14:00:53.920Z"
   },
   {
    "duration": 86,
    "start_time": "2022-05-20T14:01:35.255Z"
   },
   {
    "duration": 30,
    "start_time": "2022-05-20T14:05:20.713Z"
   },
   {
    "duration": 2,
    "start_time": "2022-05-20T14:05:25.832Z"
   },
   {
    "duration": 280,
    "start_time": "2022-05-20T14:05:25.843Z"
   },
   {
    "duration": 230,
    "start_time": "2022-05-20T14:05:26.125Z"
   },
   {
    "duration": 177,
    "start_time": "2022-05-20T14:05:26.357Z"
   },
   {
    "duration": 38,
    "start_time": "2022-05-20T14:05:26.536Z"
   },
   {
    "duration": 47,
    "start_time": "2022-05-20T14:05:26.575Z"
   },
   {
    "duration": 71,
    "start_time": "2022-05-20T14:05:26.624Z"
   },
   {
    "duration": 5,
    "start_time": "2022-05-20T14:05:26.696Z"
   },
   {
    "duration": 6,
    "start_time": "2022-05-20T14:05:26.702Z"
   },
   {
    "duration": 67,
    "start_time": "2022-05-20T14:05:26.710Z"
   },
   {
    "duration": 43,
    "start_time": "2022-05-20T14:05:26.779Z"
   },
   {
    "duration": 38,
    "start_time": "2022-05-20T14:05:26.824Z"
   },
   {
    "duration": 23,
    "start_time": "2022-05-20T14:05:26.864Z"
   },
   {
    "duration": 3,
    "start_time": "2022-05-20T14:05:26.889Z"
   },
   {
    "duration": 58,
    "start_time": "2022-05-20T14:05:26.894Z"
   },
   {
    "duration": 5,
    "start_time": "2022-05-20T14:05:26.954Z"
   },
   {
    "duration": 4228,
    "start_time": "2022-05-20T14:05:26.960Z"
   },
   {
    "duration": 15505,
    "start_time": "2022-05-20T14:05:31.190Z"
   },
   {
    "duration": 12,
    "start_time": "2022-05-20T14:05:51.286Z"
   },
   {
    "duration": 4,
    "start_time": "2022-05-20T14:12:36.965Z"
   },
   {
    "duration": 12,
    "start_time": "2022-05-20T14:12:48.144Z"
   },
   {
    "duration": 12,
    "start_time": "2022-05-20T14:39:57.009Z"
   },
   {
    "duration": 503,
    "start_time": "2022-05-20T14:42:36.599Z"
   },
   {
    "duration": 5,
    "start_time": "2022-05-20T14:42:48.849Z"
   },
   {
    "duration": 13,
    "start_time": "2022-05-20T14:54:24.166Z"
   },
   {
    "duration": 3,
    "start_time": "2022-05-20T14:54:32.438Z"
   },
   {
    "duration": 322,
    "start_time": "2022-05-20T14:54:32.443Z"
   },
   {
    "duration": 213,
    "start_time": "2022-05-20T14:54:32.767Z"
   },
   {
    "duration": 158,
    "start_time": "2022-05-20T14:54:32.982Z"
   },
   {
    "duration": 38,
    "start_time": "2022-05-20T14:54:33.151Z"
   },
   {
    "duration": 45,
    "start_time": "2022-05-20T14:54:33.191Z"
   },
   {
    "duration": 75,
    "start_time": "2022-05-20T14:54:33.238Z"
   },
   {
    "duration": 3,
    "start_time": "2022-05-20T14:54:33.315Z"
   },
   {
    "duration": 7,
    "start_time": "2022-05-20T14:54:33.320Z"
   },
   {
    "duration": 68,
    "start_time": "2022-05-20T14:54:33.329Z"
   },
   {
    "duration": 39,
    "start_time": "2022-05-20T14:54:33.399Z"
   },
   {
    "duration": 38,
    "start_time": "2022-05-20T14:54:33.440Z"
   },
   {
    "duration": 24,
    "start_time": "2022-05-20T14:54:33.480Z"
   },
   {
    "duration": 3,
    "start_time": "2022-05-20T14:54:33.506Z"
   },
   {
    "duration": 71,
    "start_time": "2022-05-20T14:54:33.511Z"
   },
   {
    "duration": 4,
    "start_time": "2022-05-20T14:54:33.584Z"
   },
   {
    "duration": 12,
    "start_time": "2022-05-20T14:54:33.589Z"
   },
   {
    "duration": 4812,
    "start_time": "2022-05-20T14:54:33.602Z"
   },
   {
    "duration": 31399,
    "start_time": "2022-05-20T14:54:38.416Z"
   },
   {
    "duration": 14,
    "start_time": "2022-05-20T14:55:09.817Z"
   },
   {
    "duration": 18,
    "start_time": "2022-05-20T14:55:19.216Z"
   },
   {
    "duration": 21,
    "start_time": "2022-05-20T14:55:35.286Z"
   },
   {
    "duration": 17,
    "start_time": "2022-05-20T14:58:17.669Z"
   },
   {
    "duration": 27,
    "start_time": "2022-05-20T15:14:52.516Z"
   },
   {
    "duration": 33,
    "start_time": "2022-05-20T15:17:34.163Z"
   },
   {
    "duration": 27,
    "start_time": "2022-05-20T15:20:07.606Z"
   },
   {
    "duration": 586,
    "start_time": "2022-05-20T15:21:24.663Z"
   },
   {
    "duration": 4,
    "start_time": "2022-05-20T15:21:33.684Z"
   },
   {
    "duration": 21,
    "start_time": "2022-05-20T15:23:08.337Z"
   },
   {
    "duration": 22,
    "start_time": "2022-05-20T15:23:13.130Z"
   },
   {
    "duration": 22,
    "start_time": "2022-05-20T15:23:18.210Z"
   },
   {
    "duration": 17,
    "start_time": "2022-05-20T15:23:27.065Z"
   },
   {
    "duration": 18,
    "start_time": "2022-05-20T15:25:05.059Z"
   },
   {
    "duration": 16,
    "start_time": "2022-05-20T15:25:13.714Z"
   },
   {
    "duration": 5,
    "start_time": "2022-05-20T15:31:07.740Z"
   },
   {
    "duration": 8,
    "start_time": "2022-05-20T15:31:53.564Z"
   },
   {
    "duration": 9,
    "start_time": "2022-05-20T15:32:06.492Z"
   },
   {
    "duration": 11,
    "start_time": "2022-05-20T15:33:10.542Z"
   },
   {
    "duration": 36,
    "start_time": "2022-05-20T15:38:29.717Z"
   },
   {
    "duration": 11,
    "start_time": "2022-05-20T15:40:45.811Z"
   },
   {
    "duration": 18,
    "start_time": "2022-05-20T15:40:49.845Z"
   },
   {
    "duration": 10,
    "start_time": "2022-05-20T15:40:53.014Z"
   },
   {
    "duration": 14,
    "start_time": "2022-05-20T15:41:49.718Z"
   },
   {
    "duration": 13,
    "start_time": "2022-05-20T15:42:25.068Z"
   },
   {
    "duration": 499,
    "start_time": "2022-05-20T15:49:36.343Z"
   },
   {
    "duration": 176,
    "start_time": "2022-05-20T15:50:02.908Z"
   },
   {
    "duration": 174,
    "start_time": "2022-05-20T15:52:16.567Z"
   },
   {
    "duration": 157,
    "start_time": "2022-05-20T15:52:28.988Z"
   },
   {
    "duration": 11,
    "start_time": "2022-05-20T16:00:18.037Z"
   },
   {
    "duration": 6,
    "start_time": "2022-05-20T16:00:43.574Z"
   },
   {
    "duration": 270,
    "start_time": "2022-05-20T16:06:34.237Z"
   },
   {
    "duration": 264,
    "start_time": "2022-05-20T16:07:29.026Z"
   },
   {
    "duration": 34,
    "start_time": "2022-05-20T16:08:39.149Z"
   },
   {
    "duration": 30,
    "start_time": "2022-05-20T16:17:37.012Z"
   },
   {
    "duration": 190,
    "start_time": "2022-05-20T16:17:56.086Z"
   },
   {
    "duration": 339,
    "start_time": "2022-05-20T16:18:05.120Z"
   },
   {
    "duration": 185,
    "start_time": "2022-05-20T16:18:25.728Z"
   },
   {
    "duration": 164,
    "start_time": "2022-05-20T16:18:32.009Z"
   },
   {
    "duration": 739,
    "start_time": "2022-05-20T16:48:14.795Z"
   },
   {
    "duration": 4,
    "start_time": "2022-05-20T16:48:21.075Z"
   },
   {
    "duration": 295,
    "start_time": "2022-05-20T16:48:21.081Z"
   },
   {
    "duration": 215,
    "start_time": "2022-05-20T16:48:21.378Z"
   },
   {
    "duration": 162,
    "start_time": "2022-05-20T16:48:21.595Z"
   },
   {
    "duration": 75,
    "start_time": "2022-05-20T16:48:21.759Z"
   },
   {
    "duration": 47,
    "start_time": "2022-05-20T16:48:21.836Z"
   },
   {
    "duration": 71,
    "start_time": "2022-05-20T16:48:21.885Z"
   },
   {
    "duration": 4,
    "start_time": "2022-05-20T16:48:21.957Z"
   },
   {
    "duration": 9,
    "start_time": "2022-05-20T16:48:21.963Z"
   },
   {
    "duration": 8,
    "start_time": "2022-05-20T16:48:21.974Z"
   },
   {
    "duration": 70,
    "start_time": "2022-05-20T16:48:21.985Z"
   },
   {
    "duration": 40,
    "start_time": "2022-05-20T16:48:22.057Z"
   },
   {
    "duration": 25,
    "start_time": "2022-05-20T16:48:22.099Z"
   },
   {
    "duration": 46,
    "start_time": "2022-05-20T16:48:22.126Z"
   },
   {
    "duration": 3,
    "start_time": "2022-05-20T16:48:22.173Z"
   },
   {
    "duration": 39,
    "start_time": "2022-05-20T16:48:22.178Z"
   },
   {
    "duration": 36,
    "start_time": "2022-05-20T16:48:22.219Z"
   },
   {
    "duration": 4,
    "start_time": "2022-05-20T16:48:22.256Z"
   },
   {
    "duration": 4710,
    "start_time": "2022-05-20T16:48:22.262Z"
   },
   {
    "duration": 32937,
    "start_time": "2022-05-20T16:48:26.975Z"
   },
   {
    "duration": 16,
    "start_time": "2022-05-20T16:48:59.914Z"
   },
   {
    "duration": 47,
    "start_time": "2022-05-20T16:48:59.931Z"
   },
   {
    "duration": 15,
    "start_time": "2022-05-20T16:48:59.980Z"
   },
   {
    "duration": 59,
    "start_time": "2022-05-20T16:48:59.997Z"
   },
   {
    "duration": 18,
    "start_time": "2022-05-20T16:49:00.058Z"
   },
   {
    "duration": 869,
    "start_time": "2022-05-20T16:49:03.819Z"
   },
   {
    "duration": 223,
    "start_time": "2022-05-20T16:49:18.705Z"
   },
   {
    "duration": 237,
    "start_time": "2022-05-20T16:52:10.808Z"
   },
   {
    "duration": 327,
    "start_time": "2022-05-20T16:57:13.770Z"
   },
   {
    "duration": 206,
    "start_time": "2022-05-20T16:58:20.083Z"
   },
   {
    "duration": 208,
    "start_time": "2022-05-20T16:58:27.697Z"
   },
   {
    "duration": 200,
    "start_time": "2022-05-20T17:17:12.456Z"
   },
   {
    "duration": 40,
    "start_time": "2022-05-20T17:18:10.472Z"
   },
   {
    "duration": 241,
    "start_time": "2022-05-20T17:18:15.372Z"
   },
   {
    "duration": 208,
    "start_time": "2022-05-20T17:18:24.835Z"
   },
   {
    "duration": 216,
    "start_time": "2022-05-20T17:18:38.943Z"
   },
   {
    "duration": 219,
    "start_time": "2022-05-20T17:18:50.453Z"
   },
   {
    "duration": 205,
    "start_time": "2022-05-20T17:19:20.815Z"
   },
   {
    "duration": 203,
    "start_time": "2022-05-20T17:19:30.151Z"
   },
   {
    "duration": 205,
    "start_time": "2022-05-20T17:19:39.965Z"
   },
   {
    "duration": 198,
    "start_time": "2022-05-20T17:19:44.176Z"
   },
   {
    "duration": 317,
    "start_time": "2022-05-20T17:20:43.745Z"
   },
   {
    "duration": 180,
    "start_time": "2022-05-20T17:21:42.168Z"
   },
   {
    "duration": 10,
    "start_time": "2022-05-20T17:22:06.751Z"
   },
   {
    "duration": 4,
    "start_time": "2022-05-20T17:22:11.084Z"
   },
   {
    "duration": 5,
    "start_time": "2022-05-20T17:22:12.463Z"
   },
   {
    "duration": 3,
    "start_time": "2022-05-20T17:22:34.929Z"
   },
   {
    "duration": 30,
    "start_time": "2022-05-20T17:22:41.581Z"
   },
   {
    "duration": 703,
    "start_time": "2022-05-20T17:22:51.910Z"
   },
   {
    "duration": 11,
    "start_time": "2022-05-20T17:22:54.927Z"
   },
   {
    "duration": 14,
    "start_time": "2022-05-20T17:29:00.093Z"
   },
   {
    "duration": 13,
    "start_time": "2022-05-20T17:29:14.045Z"
   },
   {
    "duration": 14,
    "start_time": "2022-05-20T17:29:24.224Z"
   },
   {
    "duration": 18,
    "start_time": "2022-05-20T17:31:55.243Z"
   },
   {
    "duration": 19,
    "start_time": "2022-05-20T17:32:53.138Z"
   },
   {
    "duration": 29,
    "start_time": "2022-05-20T17:32:58.278Z"
   },
   {
    "duration": 13,
    "start_time": "2022-05-20T17:33:00.391Z"
   },
   {
    "duration": 13,
    "start_time": "2022-05-20T17:33:10.472Z"
   },
   {
    "duration": 3,
    "start_time": "2022-05-20T17:46:00.475Z"
   },
   {
    "duration": 350,
    "start_time": "2022-05-20T17:46:00.480Z"
   },
   {
    "duration": 238,
    "start_time": "2022-05-20T17:46:00.832Z"
   },
   {
    "duration": 153,
    "start_time": "2022-05-20T17:46:01.071Z"
   },
   {
    "duration": 38,
    "start_time": "2022-05-20T17:46:01.226Z"
   },
   {
    "duration": 45,
    "start_time": "2022-05-20T17:46:01.266Z"
   },
   {
    "duration": 76,
    "start_time": "2022-05-20T17:46:01.313Z"
   },
   {
    "duration": 4,
    "start_time": "2022-05-20T17:46:01.390Z"
   },
   {
    "duration": 24,
    "start_time": "2022-05-20T17:46:01.396Z"
   },
   {
    "duration": 17,
    "start_time": "2022-05-20T17:46:01.422Z"
   },
   {
    "duration": 54,
    "start_time": "2022-05-20T17:46:01.443Z"
   },
   {
    "duration": 69,
    "start_time": "2022-05-20T17:46:01.499Z"
   },
   {
    "duration": 29,
    "start_time": "2022-05-20T17:46:01.569Z"
   },
   {
    "duration": 26,
    "start_time": "2022-05-20T17:46:01.600Z"
   },
   {
    "duration": 34,
    "start_time": "2022-05-20T17:46:01.628Z"
   },
   {
    "duration": 54,
    "start_time": "2022-05-20T17:46:01.665Z"
   },
   {
    "duration": 5,
    "start_time": "2022-05-20T17:46:01.721Z"
   },
   {
    "duration": 6,
    "start_time": "2022-05-20T17:46:01.728Z"
   },
   {
    "duration": 4740,
    "start_time": "2022-05-20T17:46:01.736Z"
   },
   {
    "duration": 32323,
    "start_time": "2022-05-20T17:46:06.478Z"
   },
   {
    "duration": 10,
    "start_time": "2022-05-20T17:46:38.803Z"
   },
   {
    "duration": 52,
    "start_time": "2022-05-20T17:46:38.815Z"
   },
   {
    "duration": 15,
    "start_time": "2022-05-20T17:46:38.869Z"
   },
   {
    "duration": 32,
    "start_time": "2022-05-20T17:46:38.885Z"
   },
   {
    "duration": 46,
    "start_time": "2022-05-20T17:46:38.918Z"
   },
   {
    "duration": 216,
    "start_time": "2022-05-20T17:46:38.966Z"
   },
   {
    "duration": 198,
    "start_time": "2022-05-20T17:46:39.184Z"
   },
   {
    "duration": 210,
    "start_time": "2022-05-20T17:46:39.384Z"
   },
   {
    "duration": 213,
    "start_time": "2022-05-20T17:46:39.598Z"
   },
   {
    "duration": 3,
    "start_time": "2022-05-20T17:46:39.813Z"
   },
   {
    "duration": 16,
    "start_time": "2022-05-20T17:46:39.818Z"
   },
   {
    "duration": 21,
    "start_time": "2022-05-20T17:46:39.836Z"
   },
   {
    "duration": 785,
    "start_time": "2022-05-20T17:46:39.859Z"
   },
   {
    "duration": 16,
    "start_time": "2022-05-20T17:46:40.646Z"
   },
   {
    "duration": 4,
    "start_time": "2022-05-20T18:07:14.444Z"
   },
   {
    "duration": 337,
    "start_time": "2022-05-20T18:07:14.449Z"
   },
   {
    "duration": 224,
    "start_time": "2022-05-20T18:07:14.789Z"
   },
   {
    "duration": 170,
    "start_time": "2022-05-20T18:07:15.015Z"
   },
   {
    "duration": 46,
    "start_time": "2022-05-20T18:07:15.187Z"
   },
   {
    "duration": 59,
    "start_time": "2022-05-20T18:07:15.234Z"
   },
   {
    "duration": 78,
    "start_time": "2022-05-20T18:07:15.295Z"
   },
   {
    "duration": 3,
    "start_time": "2022-05-20T18:07:15.375Z"
   },
   {
    "duration": 29,
    "start_time": "2022-05-20T18:07:15.380Z"
   },
   {
    "duration": 21,
    "start_time": "2022-05-20T18:07:15.412Z"
   },
   {
    "duration": 97,
    "start_time": "2022-05-20T18:07:15.436Z"
   },
   {
    "duration": 51,
    "start_time": "2022-05-20T18:07:15.535Z"
   },
   {
    "duration": 36,
    "start_time": "2022-05-20T18:07:15.588Z"
   },
   {
    "duration": 50,
    "start_time": "2022-05-20T18:07:15.626Z"
   },
   {
    "duration": 5,
    "start_time": "2022-05-20T18:07:15.678Z"
   },
   {
    "duration": 58,
    "start_time": "2022-05-20T18:07:15.685Z"
   },
   {
    "duration": 27,
    "start_time": "2022-05-20T18:07:15.751Z"
   },
   {
    "duration": 9,
    "start_time": "2022-05-20T18:07:15.780Z"
   },
   {
    "duration": 5081,
    "start_time": "2022-05-20T18:07:15.793Z"
   },
   {
    "duration": 32460,
    "start_time": "2022-05-20T18:07:20.875Z"
   },
   {
    "duration": 20,
    "start_time": "2022-05-20T18:07:53.337Z"
   },
   {
    "duration": 39,
    "start_time": "2022-05-20T18:07:53.361Z"
   },
   {
    "duration": 11,
    "start_time": "2022-05-20T18:07:53.402Z"
   },
   {
    "duration": 53,
    "start_time": "2022-05-20T18:07:53.415Z"
   },
   {
    "duration": 14,
    "start_time": "2022-05-20T18:07:53.469Z"
   },
   {
    "duration": 225,
    "start_time": "2022-05-20T18:07:53.485Z"
   },
   {
    "duration": 198,
    "start_time": "2022-05-20T18:07:53.712Z"
   },
   {
    "duration": 194,
    "start_time": "2022-05-20T18:07:53.912Z"
   },
   {
    "duration": 204,
    "start_time": "2022-05-20T18:07:54.109Z"
   },
   {
    "duration": 4,
    "start_time": "2022-05-20T18:07:54.315Z"
   },
   {
    "duration": 6,
    "start_time": "2022-05-20T18:07:54.321Z"
   },
   {
    "duration": 7,
    "start_time": "2022-05-20T18:07:54.329Z"
   },
   {
    "duration": 737,
    "start_time": "2022-05-20T18:07:54.363Z"
   },
   {
    "duration": 11,
    "start_time": "2022-05-20T18:07:55.102Z"
   },
   {
    "duration": 1036,
    "start_time": "2022-05-21T06:36:40.508Z"
   },
   {
    "duration": 334,
    "start_time": "2022-05-21T06:36:41.546Z"
   },
   {
    "duration": 366,
    "start_time": "2022-05-21T06:36:41.882Z"
   },
   {
    "duration": 177,
    "start_time": "2022-05-21T06:36:42.249Z"
   },
   {
    "duration": 43,
    "start_time": "2022-05-21T06:36:42.429Z"
   },
   {
    "duration": 53,
    "start_time": "2022-05-21T06:36:42.474Z"
   },
   {
    "duration": 103,
    "start_time": "2022-05-21T06:36:42.529Z"
   },
   {
    "duration": 7,
    "start_time": "2022-05-21T06:36:42.633Z"
   },
   {
    "duration": 90,
    "start_time": "2022-05-21T06:36:42.642Z"
   },
   {
    "duration": 42,
    "start_time": "2022-05-21T06:36:42.734Z"
   },
   {
    "duration": 88,
    "start_time": "2022-05-21T06:36:42.778Z"
   },
   {
    "duration": 56,
    "start_time": "2022-05-21T06:36:42.867Z"
   },
   {
    "duration": 39,
    "start_time": "2022-05-21T06:36:42.924Z"
   },
   {
    "duration": 31,
    "start_time": "2022-05-21T06:36:42.966Z"
   },
   {
    "duration": 34,
    "start_time": "2022-05-21T06:36:42.999Z"
   },
   {
    "duration": 74,
    "start_time": "2022-05-21T06:36:43.035Z"
   },
   {
    "duration": 18,
    "start_time": "2022-05-21T06:36:43.110Z"
   },
   {
    "duration": 27,
    "start_time": "2022-05-21T06:36:43.130Z"
   },
   {
    "duration": 4513,
    "start_time": "2022-05-21T06:36:43.158Z"
   },
   {
    "duration": 29859,
    "start_time": "2022-05-21T06:36:47.673Z"
   },
   {
    "duration": 9,
    "start_time": "2022-05-21T06:37:17.533Z"
   },
   {
    "duration": 60,
    "start_time": "2022-05-21T06:37:17.543Z"
   },
   {
    "duration": 71,
    "start_time": "2022-05-21T06:37:17.604Z"
   },
   {
    "duration": 158,
    "start_time": "2022-05-21T06:37:17.677Z"
   },
   {
    "duration": 0,
    "start_time": "2022-05-21T06:37:17.837Z"
   },
   {
    "duration": 0,
    "start_time": "2022-05-21T06:37:17.838Z"
   },
   {
    "duration": 0,
    "start_time": "2022-05-21T06:37:17.839Z"
   },
   {
    "duration": 0,
    "start_time": "2022-05-21T06:37:17.841Z"
   },
   {
    "duration": 0,
    "start_time": "2022-05-21T06:37:17.842Z"
   },
   {
    "duration": 0,
    "start_time": "2022-05-21T06:37:17.852Z"
   },
   {
    "duration": 0,
    "start_time": "2022-05-21T06:37:17.853Z"
   },
   {
    "duration": 0,
    "start_time": "2022-05-21T06:37:17.854Z"
   },
   {
    "duration": 0,
    "start_time": "2022-05-21T06:37:17.855Z"
   },
   {
    "duration": 0,
    "start_time": "2022-05-21T06:37:17.856Z"
   },
   {
    "duration": 567,
    "start_time": "2022-05-21T06:45:16.477Z"
   },
   {
    "duration": 4,
    "start_time": "2022-05-21T06:45:54.859Z"
   },
   {
    "duration": 14,
    "start_time": "2022-05-21T06:46:06.208Z"
   },
   {
    "duration": 521,
    "start_time": "2022-05-21T06:46:13.261Z"
   },
   {
    "duration": 12,
    "start_time": "2022-05-21T06:46:18.421Z"
   },
   {
    "duration": 16,
    "start_time": "2022-05-21T06:46:33.569Z"
   },
   {
    "duration": 4,
    "start_time": "2022-05-21T06:46:42.969Z"
   },
   {
    "duration": 26,
    "start_time": "2022-05-21T06:49:26.569Z"
   },
   {
    "duration": 28,
    "start_time": "2022-05-21T06:49:35.682Z"
   },
   {
    "duration": 19,
    "start_time": "2022-05-21T06:49:35.711Z"
   },
   {
    "duration": 307,
    "start_time": "2022-05-21T06:49:35.732Z"
   },
   {
    "duration": 207,
    "start_time": "2022-05-21T06:49:36.041Z"
   },
   {
    "duration": 177,
    "start_time": "2022-05-21T06:49:36.251Z"
   },
   {
    "duration": 196,
    "start_time": "2022-05-21T06:49:36.430Z"
   },
   {
    "duration": 2,
    "start_time": "2022-05-21T06:49:36.628Z"
   },
   {
    "duration": 41,
    "start_time": "2022-05-21T06:49:36.632Z"
   },
   {
    "duration": 21,
    "start_time": "2022-05-21T06:49:36.675Z"
   },
   {
    "duration": 676,
    "start_time": "2022-05-21T06:49:36.698Z"
   },
   {
    "duration": 10,
    "start_time": "2022-05-21T06:49:37.375Z"
   },
   {
    "duration": 180,
    "start_time": "2022-05-21T07:04:14.202Z"
   },
   {
    "duration": 180,
    "start_time": "2022-05-21T07:04:23.387Z"
   },
   {
    "duration": 22,
    "start_time": "2022-05-21T07:05:16.262Z"
   },
   {
    "duration": 177,
    "start_time": "2022-05-21T07:05:44.878Z"
   },
   {
    "duration": 195,
    "start_time": "2022-05-21T07:06:00.289Z"
   },
   {
    "duration": 33,
    "start_time": "2022-05-21T20:03:13.525Z"
   },
   {
    "duration": 1646,
    "start_time": "2022-05-21T20:05:36.027Z"
   },
   {
    "duration": 371,
    "start_time": "2022-05-21T20:05:37.675Z"
   },
   {
    "duration": 400,
    "start_time": "2022-05-21T20:05:38.047Z"
   },
   {
    "duration": 215,
    "start_time": "2022-05-21T20:05:38.450Z"
   },
   {
    "duration": 43,
    "start_time": "2022-05-21T20:05:38.667Z"
   },
   {
    "duration": 60,
    "start_time": "2022-05-21T20:05:38.712Z"
   },
   {
    "duration": 93,
    "start_time": "2022-05-21T20:05:38.774Z"
   },
   {
    "duration": 5,
    "start_time": "2022-05-21T20:05:38.869Z"
   },
   {
    "duration": 8,
    "start_time": "2022-05-21T20:05:38.876Z"
   },
   {
    "duration": 17,
    "start_time": "2022-05-21T20:05:38.887Z"
   },
   {
    "duration": 69,
    "start_time": "2022-05-21T20:05:38.906Z"
   },
   {
    "duration": 75,
    "start_time": "2022-05-21T20:05:38.977Z"
   },
   {
    "duration": 38,
    "start_time": "2022-05-21T20:05:39.065Z"
   },
   {
    "duration": 36,
    "start_time": "2022-05-21T20:05:39.106Z"
   },
   {
    "duration": 23,
    "start_time": "2022-05-21T20:05:39.144Z"
   },
   {
    "duration": 48,
    "start_time": "2022-05-21T20:05:39.169Z"
   },
   {
    "duration": 5,
    "start_time": "2022-05-21T20:05:39.219Z"
   },
   {
    "duration": 6,
    "start_time": "2022-05-21T20:05:39.226Z"
   },
   {
    "duration": 4451,
    "start_time": "2022-05-21T20:05:39.233Z"
   },
   {
    "duration": 31034,
    "start_time": "2022-05-21T20:05:43.686Z"
   },
   {
    "duration": 9,
    "start_time": "2022-05-21T20:06:14.723Z"
   },
   {
    "duration": 42,
    "start_time": "2022-05-21T20:06:14.734Z"
   },
   {
    "duration": 18,
    "start_time": "2022-05-21T20:06:14.778Z"
   },
   {
    "duration": 42,
    "start_time": "2022-05-21T20:06:14.798Z"
   },
   {
    "duration": 37,
    "start_time": "2022-05-21T20:06:14.842Z"
   },
   {
    "duration": 281,
    "start_time": "2022-05-21T20:06:14.881Z"
   },
   {
    "duration": 221,
    "start_time": "2022-05-21T20:06:15.164Z"
   },
   {
    "duration": 195,
    "start_time": "2022-05-21T20:06:15.388Z"
   },
   {
    "duration": 200,
    "start_time": "2022-05-21T20:06:15.586Z"
   },
   {
    "duration": 3,
    "start_time": "2022-05-21T20:06:15.787Z"
   },
   {
    "duration": 8,
    "start_time": "2022-05-21T20:06:15.791Z"
   },
   {
    "duration": 4,
    "start_time": "2022-05-21T20:06:15.801Z"
   },
   {
    "duration": 742,
    "start_time": "2022-05-21T20:06:15.807Z"
   },
   {
    "duration": 16,
    "start_time": "2022-05-21T20:06:16.550Z"
   },
   {
    "duration": 3,
    "start_time": "2022-05-21T20:14:06.306Z"
   },
   {
    "duration": 317,
    "start_time": "2022-05-21T20:14:06.314Z"
   },
   {
    "duration": 448,
    "start_time": "2022-05-21T20:14:06.634Z"
   },
   {
    "duration": 232,
    "start_time": "2022-05-21T20:14:07.084Z"
   },
   {
    "duration": 36,
    "start_time": "2022-05-21T20:14:07.318Z"
   },
   {
    "duration": 74,
    "start_time": "2022-05-21T20:14:07.356Z"
   },
   {
    "duration": 80,
    "start_time": "2022-05-21T20:14:07.432Z"
   },
   {
    "duration": 4,
    "start_time": "2022-05-21T20:14:07.513Z"
   },
   {
    "duration": 9,
    "start_time": "2022-05-21T20:14:07.519Z"
   },
   {
    "duration": 8,
    "start_time": "2022-05-21T20:14:07.529Z"
   },
   {
    "duration": 60,
    "start_time": "2022-05-21T20:14:07.539Z"
   },
   {
    "duration": 42,
    "start_time": "2022-05-21T20:14:07.602Z"
   },
   {
    "duration": 45,
    "start_time": "2022-05-21T20:14:07.645Z"
   },
   {
    "duration": 26,
    "start_time": "2022-05-21T20:14:07.692Z"
   },
   {
    "duration": 4,
    "start_time": "2022-05-21T20:14:07.722Z"
   },
   {
    "duration": 66,
    "start_time": "2022-05-21T20:14:07.728Z"
   },
   {
    "duration": 4,
    "start_time": "2022-05-21T20:14:07.797Z"
   },
   {
    "duration": 5,
    "start_time": "2022-05-21T20:14:07.803Z"
   },
   {
    "duration": 4661,
    "start_time": "2022-05-21T20:14:07.810Z"
   },
   {
    "duration": 32156,
    "start_time": "2022-05-21T20:14:12.472Z"
   },
   {
    "duration": 6,
    "start_time": "2022-05-21T20:14:44.630Z"
   },
   {
    "duration": 37,
    "start_time": "2022-05-21T20:14:44.638Z"
   },
   {
    "duration": 12,
    "start_time": "2022-05-21T20:14:44.677Z"
   },
   {
    "duration": 28,
    "start_time": "2022-05-21T20:14:44.691Z"
   },
   {
    "duration": 13,
    "start_time": "2022-05-21T20:14:44.721Z"
   },
   {
    "duration": 242,
    "start_time": "2022-05-21T20:14:44.735Z"
   },
   {
    "duration": 209,
    "start_time": "2022-05-21T20:14:44.979Z"
   },
   {
    "duration": 202,
    "start_time": "2022-05-21T20:14:45.190Z"
   },
   {
    "duration": 274,
    "start_time": "2022-05-21T20:14:45.394Z"
   },
   {
    "duration": 2,
    "start_time": "2022-05-21T20:14:45.670Z"
   },
   {
    "duration": 8,
    "start_time": "2022-05-21T20:14:45.674Z"
   },
   {
    "duration": 4,
    "start_time": "2022-05-21T20:14:45.684Z"
   },
   {
    "duration": 766,
    "start_time": "2022-05-21T20:14:45.690Z"
   },
   {
    "duration": 14,
    "start_time": "2022-05-21T20:14:46.458Z"
   },
   {
    "duration": 1072,
    "start_time": "2022-05-21T21:34:13.709Z"
   },
   {
    "duration": 651,
    "start_time": "2022-05-21T21:34:14.782Z"
   },
   {
    "duration": 508,
    "start_time": "2022-05-21T21:34:15.435Z"
   },
   {
    "duration": 356,
    "start_time": "2022-05-21T21:34:15.945Z"
   },
   {
    "duration": 77,
    "start_time": "2022-05-21T21:34:16.303Z"
   },
   {
    "duration": 85,
    "start_time": "2022-05-21T21:34:16.382Z"
   },
   {
    "duration": 75,
    "start_time": "2022-05-21T21:34:16.469Z"
   },
   {
    "duration": 4,
    "start_time": "2022-05-21T21:34:16.546Z"
   },
   {
    "duration": 8,
    "start_time": "2022-05-21T21:34:16.552Z"
   },
   {
    "duration": 6,
    "start_time": "2022-05-21T21:34:16.562Z"
   },
   {
    "duration": 73,
    "start_time": "2022-05-21T21:34:16.569Z"
   },
   {
    "duration": 69,
    "start_time": "2022-05-21T21:34:16.644Z"
   },
   {
    "duration": 31,
    "start_time": "2022-05-21T21:34:16.715Z"
   },
   {
    "duration": 48,
    "start_time": "2022-05-21T21:34:16.748Z"
   },
   {
    "duration": 4,
    "start_time": "2022-05-21T21:34:16.798Z"
   },
   {
    "duration": 40,
    "start_time": "2022-05-21T21:34:16.804Z"
   },
   {
    "duration": 5,
    "start_time": "2022-05-21T21:34:16.845Z"
   },
   {
    "duration": 5,
    "start_time": "2022-05-21T21:34:16.852Z"
   },
   {
    "duration": 4073,
    "start_time": "2022-05-21T21:34:16.859Z"
   },
   {
    "duration": 27523,
    "start_time": "2022-05-21T21:34:20.935Z"
   },
   {
    "duration": 7,
    "start_time": "2022-05-21T21:34:48.459Z"
   },
   {
    "duration": 37,
    "start_time": "2022-05-21T21:34:48.468Z"
   },
   {
    "duration": 13,
    "start_time": "2022-05-21T21:34:48.506Z"
   },
   {
    "duration": 30,
    "start_time": "2022-05-21T21:34:48.521Z"
   },
   {
    "duration": 42,
    "start_time": "2022-05-21T21:34:48.553Z"
   },
   {
    "duration": 267,
    "start_time": "2022-05-21T21:34:48.597Z"
   },
   {
    "duration": 188,
    "start_time": "2022-05-21T21:34:48.865Z"
   },
   {
    "duration": 195,
    "start_time": "2022-05-21T21:34:49.056Z"
   },
   {
    "duration": 183,
    "start_time": "2022-05-21T21:34:49.253Z"
   },
   {
    "duration": 2,
    "start_time": "2022-05-21T21:34:49.437Z"
   },
   {
    "duration": 11,
    "start_time": "2022-05-21T21:34:49.441Z"
   },
   {
    "duration": 3,
    "start_time": "2022-05-21T21:34:49.454Z"
   },
   {
    "duration": 683,
    "start_time": "2022-05-21T21:34:49.459Z"
   },
   {
    "duration": 9,
    "start_time": "2022-05-21T21:34:50.144Z"
   },
   {
    "duration": 182,
    "start_time": "2022-05-21T21:44:00.127Z"
   },
   {
    "duration": 173,
    "start_time": "2022-05-21T21:45:02.726Z"
   },
   {
    "duration": 26,
    "start_time": "2022-05-21T21:53:44.116Z"
   },
   {
    "duration": 1526,
    "start_time": "2022-05-22T09:50:06.875Z"
   },
   {
    "duration": 678,
    "start_time": "2022-05-22T09:50:08.403Z"
   },
   {
    "duration": 495,
    "start_time": "2022-05-22T09:50:09.083Z"
   },
   {
    "duration": 365,
    "start_time": "2022-05-22T09:50:09.580Z"
   },
   {
    "duration": 87,
    "start_time": "2022-05-22T09:50:09.946Z"
   },
   {
    "duration": 91,
    "start_time": "2022-05-22T09:50:10.034Z"
   },
   {
    "duration": 71,
    "start_time": "2022-05-22T09:50:10.127Z"
   },
   {
    "duration": 4,
    "start_time": "2022-05-22T09:50:10.200Z"
   },
   {
    "duration": 17,
    "start_time": "2022-05-22T09:50:10.206Z"
   },
   {
    "duration": 7,
    "start_time": "2022-05-22T09:50:10.227Z"
   },
   {
    "duration": 61,
    "start_time": "2022-05-22T09:50:10.238Z"
   },
   {
    "duration": 58,
    "start_time": "2022-05-22T09:50:10.302Z"
   },
   {
    "duration": 51,
    "start_time": "2022-05-22T09:50:10.362Z"
   },
   {
    "duration": 27,
    "start_time": "2022-05-22T09:50:10.415Z"
   },
   {
    "duration": 2,
    "start_time": "2022-05-22T09:50:10.444Z"
   },
   {
    "duration": 58,
    "start_time": "2022-05-22T09:50:10.447Z"
   },
   {
    "duration": 6,
    "start_time": "2022-05-22T09:50:10.507Z"
   },
   {
    "duration": 9,
    "start_time": "2022-05-22T09:50:10.514Z"
   },
   {
    "duration": 4774,
    "start_time": "2022-05-22T09:50:10.524Z"
   },
   {
    "duration": 31284,
    "start_time": "2022-05-22T09:50:15.301Z"
   },
   {
    "duration": 20,
    "start_time": "2022-05-22T09:50:46.587Z"
   },
   {
    "duration": 27,
    "start_time": "2022-05-22T09:50:46.609Z"
   },
   {
    "duration": 12,
    "start_time": "2022-05-22T09:50:46.637Z"
   },
   {
    "duration": 46,
    "start_time": "2022-05-22T09:50:46.650Z"
   },
   {
    "duration": 16,
    "start_time": "2022-05-22T09:50:46.698Z"
   },
   {
    "duration": 355,
    "start_time": "2022-05-22T09:51:22.361Z"
   },
   {
    "duration": 188,
    "start_time": "2022-05-22T09:51:49.793Z"
   },
   {
    "duration": 203,
    "start_time": "2022-05-22T09:51:52.781Z"
   },
   {
    "duration": 184,
    "start_time": "2022-05-22T09:51:55.556Z"
   },
   {
    "duration": 13,
    "start_time": "2022-05-22T09:55:36.567Z"
   },
   {
    "duration": 34,
    "start_time": "2022-05-22T10:01:06.087Z"
   },
   {
    "duration": 3,
    "start_time": "2022-05-22T10:09:34.717Z"
   },
   {
    "duration": 294,
    "start_time": "2022-05-22T10:09:34.722Z"
   },
   {
    "duration": 203,
    "start_time": "2022-05-22T10:09:35.018Z"
   },
   {
    "duration": 156,
    "start_time": "2022-05-22T10:09:35.222Z"
   },
   {
    "duration": 47,
    "start_time": "2022-05-22T10:09:35.380Z"
   },
   {
    "duration": 68,
    "start_time": "2022-05-22T10:09:35.429Z"
   },
   {
    "duration": 76,
    "start_time": "2022-05-22T10:09:35.498Z"
   },
   {
    "duration": 4,
    "start_time": "2022-05-22T10:09:35.576Z"
   },
   {
    "duration": 13,
    "start_time": "2022-05-22T10:09:35.581Z"
   },
   {
    "duration": 9,
    "start_time": "2022-05-22T10:09:35.596Z"
   },
   {
    "duration": 52,
    "start_time": "2022-05-22T10:09:35.608Z"
   },
   {
    "duration": 52,
    "start_time": "2022-05-22T10:09:35.662Z"
   },
   {
    "duration": 25,
    "start_time": "2022-05-22T10:09:35.716Z"
   },
   {
    "duration": 23,
    "start_time": "2022-05-22T10:09:35.742Z"
   },
   {
    "duration": 3,
    "start_time": "2022-05-22T10:09:35.767Z"
   },
   {
    "duration": 33,
    "start_time": "2022-05-22T10:09:35.794Z"
   },
   {
    "duration": 4,
    "start_time": "2022-05-22T10:09:35.828Z"
   },
   {
    "duration": 5,
    "start_time": "2022-05-22T10:09:35.834Z"
   },
   {
    "duration": 4036,
    "start_time": "2022-05-22T10:09:35.840Z"
   },
   {
    "duration": 27635,
    "start_time": "2022-05-22T10:09:39.877Z"
   },
   {
    "duration": 9,
    "start_time": "2022-05-22T10:10:07.514Z"
   },
   {
    "duration": 44,
    "start_time": "2022-05-22T10:10:07.525Z"
   },
   {
    "duration": 29,
    "start_time": "2022-05-22T10:10:07.572Z"
   },
   {
    "duration": 35,
    "start_time": "2022-05-22T10:10:07.603Z"
   },
   {
    "duration": 13,
    "start_time": "2022-05-22T10:10:07.640Z"
   },
   {
    "duration": 195,
    "start_time": "2022-05-22T10:10:07.655Z"
   },
   {
    "duration": 162,
    "start_time": "2022-05-22T10:10:07.852Z"
   },
   {
    "duration": 170,
    "start_time": "2022-05-22T10:10:08.015Z"
   },
   {
    "duration": 242,
    "start_time": "2022-05-22T10:10:08.188Z"
   },
   {
    "duration": 3,
    "start_time": "2022-05-22T10:10:08.432Z"
   },
   {
    "duration": 15,
    "start_time": "2022-05-22T10:10:08.436Z"
   },
   {
    "duration": 8,
    "start_time": "2022-05-22T10:10:08.453Z"
   },
   {
    "duration": 677,
    "start_time": "2022-05-22T10:10:08.463Z"
   },
   {
    "duration": 10,
    "start_time": "2022-05-22T10:10:09.141Z"
   },
   {
    "duration": 1086,
    "start_time": "2022-05-22T11:50:38.968Z"
   },
   {
    "duration": 638,
    "start_time": "2022-05-22T11:50:40.056Z"
   },
   {
    "duration": 601,
    "start_time": "2022-05-22T11:50:40.702Z"
   },
   {
    "duration": 429,
    "start_time": "2022-05-22T11:50:41.306Z"
   },
   {
    "duration": 85,
    "start_time": "2022-05-22T11:50:41.736Z"
   },
   {
    "duration": 83,
    "start_time": "2022-05-22T11:50:41.823Z"
   },
   {
    "duration": 72,
    "start_time": "2022-05-22T11:50:41.907Z"
   },
   {
    "duration": 24,
    "start_time": "2022-05-22T11:50:41.981Z"
   },
   {
    "duration": 11,
    "start_time": "2022-05-22T11:50:42.009Z"
   },
   {
    "duration": 9,
    "start_time": "2022-05-22T11:50:42.022Z"
   },
   {
    "duration": 52,
    "start_time": "2022-05-22T11:50:42.032Z"
   },
   {
    "duration": 62,
    "start_time": "2022-05-22T11:50:42.086Z"
   },
   {
    "duration": 27,
    "start_time": "2022-05-22T11:50:42.150Z"
   },
   {
    "duration": 51,
    "start_time": "2022-05-22T11:50:42.179Z"
   },
   {
    "duration": 3,
    "start_time": "2022-05-22T11:50:42.232Z"
   },
   {
    "duration": 43,
    "start_time": "2022-05-22T11:50:42.237Z"
   },
   {
    "duration": 20,
    "start_time": "2022-05-22T11:50:42.283Z"
   },
   {
    "duration": 6,
    "start_time": "2022-05-22T11:50:42.304Z"
   },
   {
    "duration": 4217,
    "start_time": "2022-05-22T11:50:42.311Z"
   },
   {
    "duration": 29299,
    "start_time": "2022-05-22T11:50:46.529Z"
   },
   {
    "duration": 8,
    "start_time": "2022-05-22T11:51:15.830Z"
   },
   {
    "duration": 25,
    "start_time": "2022-05-22T11:51:15.840Z"
   },
   {
    "duration": 38,
    "start_time": "2022-05-22T11:51:15.867Z"
   },
   {
    "duration": 29,
    "start_time": "2022-05-22T11:51:15.906Z"
   },
   {
    "duration": 12,
    "start_time": "2022-05-22T11:51:15.936Z"
   },
   {
    "duration": 257,
    "start_time": "2022-05-22T11:51:15.949Z"
   },
   {
    "duration": 171,
    "start_time": "2022-05-22T11:51:16.208Z"
   },
   {
    "duration": 175,
    "start_time": "2022-05-22T11:51:16.381Z"
   },
   {
    "duration": 197,
    "start_time": "2022-05-22T11:51:16.558Z"
   },
   {
    "duration": 2,
    "start_time": "2022-05-22T11:51:16.757Z"
   },
   {
    "duration": 11,
    "start_time": "2022-05-22T11:51:16.760Z"
   },
   {
    "duration": 6,
    "start_time": "2022-05-22T11:51:16.772Z"
   },
   {
    "duration": 728,
    "start_time": "2022-05-22T11:51:16.779Z"
   },
   {
    "duration": 14,
    "start_time": "2022-05-22T11:51:17.512Z"
   }
  ],
  "kernelspec": {
   "display_name": "Python 3 (ipykernel)",
   "language": "python",
   "name": "python3"
  },
  "language_info": {
   "codemirror_mode": {
    "name": "ipython",
    "version": 3
   },
   "file_extension": ".py",
   "mimetype": "text/x-python",
   "name": "python",
   "nbconvert_exporter": "python",
   "pygments_lexer": "ipython3",
   "version": "3.9.7"
  },
  "toc": {
   "base_numbering": 1,
   "nav_menu": {},
   "number_sections": true,
   "sideBar": true,
   "skip_h1_title": true,
   "title_cell": "Table of Contents",
   "title_sidebar": "Contents",
   "toc_cell": false,
   "toc_position": {
    "height": "calc(100% - 180px)",
    "left": "10px",
    "top": "150px",
    "width": "270.398px"
   },
   "toc_section_display": true,
   "toc_window_display": true
  }
 },
 "nbformat": 4,
 "nbformat_minor": 2
}
