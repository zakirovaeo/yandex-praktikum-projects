{
 "cells": [
  {
   "cell_type": "markdown",
   "id": "05745f48",
   "metadata": {},
   "source": [
    "# Определение успешности компютерной игры"
   ]
  },
  {
   "cell_type": "markdown",
   "id": "dfd8464a",
   "metadata": {},
   "source": [
    "Интернет-магазин «Стримчик»продаёт по всему миру компьютерные игры. Из открытых источников доступны исторические данные о продажах игр, оценки пользователей и экспертов, жанры и платформы (например, Xbox или PlayStation). "
   ]
  },
  {
   "cell_type": "markdown",
   "id": "873afe7a",
   "metadata": {},
   "source": [
    "**Цель исследования:** выявить определяющие успешность игры закономерности. Это позволит сделать ставку на потенциально популярный продукт и спланировать рекламные кампании."
   ]
  },
  {
   "cell_type": "markdown",
   "id": "102dd5e1",
   "metadata": {},
   "source": [
    "**Ход исследования:**\n",
    "1. Подготовка данных \n",
    "1. Исследовательский анализ: \n",
    "    1. Сколько игр выпускалось в разные годы\n",
    "    1. Как менялись продажи по платформам со временем \n",
    "    1. Какие платформы лидируют\n",
    "    1. Определение выборосов\n",
    "    1. Как влияют на продажи отзывы пользователей и критиков\n",
    "    1. Общее распределение игр по жанрам \n",
    "1. Составление портрета пользователя по регионам\n",
    "1. Проверка гипотез\n",
    "    1. Средние пользовательские рейтинги платформ Xbox One и PC одинаковые;\n",
    "    1. Средние пользовательские рейтинги жанров Action и Sports разные."
   ]
  },
  {
   "cell_type": "markdown",
   "id": "40c32f6f",
   "metadata": {},
   "source": [
    "## Импорт данных"
   ]
  },
  {
   "cell_type": "code",
   "execution_count": 1,
   "id": "bd4ef771",
   "metadata": {},
   "outputs": [],
   "source": [
    "#Импортируем библиотеки\n",
    "import pandas as pd\n",
    "from IPython.display import display\n",
    "import matplotlib.pyplot as plt\n",
    "from datetime import datetime \n",
    "import math\n",
    "import numpy as np\n",
    "from math import factorial\n",
    "from scipy import stats as st\n",
    "import seaborn as sns"
   ]
  },
  {
   "cell_type": "code",
   "execution_count": 2,
   "id": "47bdaef6",
   "metadata": {},
   "outputs": [],
   "source": [
    "#Читаем данные из файла\n",
    "try:\n",
    "    data = pd.read_csv('games.csv')\n",
    "except:\n",
    "    data = pd.read_csv('datasets/games.csv')\n"
   ]
  },
  {
   "cell_type": "code",
   "execution_count": 3,
   "id": "2678d60b",
   "metadata": {},
   "outputs": [
    {
     "data": {
      "text/html": [
       "<div>\n",
       "<style scoped>\n",
       "    .dataframe tbody tr th:only-of-type {\n",
       "        vertical-align: middle;\n",
       "    }\n",
       "\n",
       "    .dataframe tbody tr th {\n",
       "        vertical-align: top;\n",
       "    }\n",
       "\n",
       "    .dataframe thead th {\n",
       "        text-align: right;\n",
       "    }\n",
       "</style>\n",
       "<table border=\"1\" class=\"dataframe\">\n",
       "  <thead>\n",
       "    <tr style=\"text-align: right;\">\n",
       "      <th></th>\n",
       "      <th>Name</th>\n",
       "      <th>Platform</th>\n",
       "      <th>Year_of_Release</th>\n",
       "      <th>Genre</th>\n",
       "      <th>NA_sales</th>\n",
       "      <th>EU_sales</th>\n",
       "      <th>JP_sales</th>\n",
       "      <th>Other_sales</th>\n",
       "      <th>Critic_Score</th>\n",
       "      <th>User_Score</th>\n",
       "      <th>Rating</th>\n",
       "    </tr>\n",
       "  </thead>\n",
       "  <tbody>\n",
       "    <tr>\n",
       "      <th>0</th>\n",
       "      <td>Wii Sports</td>\n",
       "      <td>Wii</td>\n",
       "      <td>2006.0</td>\n",
       "      <td>Sports</td>\n",
       "      <td>41.36</td>\n",
       "      <td>28.96</td>\n",
       "      <td>3.77</td>\n",
       "      <td>8.45</td>\n",
       "      <td>76.0</td>\n",
       "      <td>8</td>\n",
       "      <td>E</td>\n",
       "    </tr>\n",
       "    <tr>\n",
       "      <th>1</th>\n",
       "      <td>Super Mario Bros.</td>\n",
       "      <td>NES</td>\n",
       "      <td>1985.0</td>\n",
       "      <td>Platform</td>\n",
       "      <td>29.08</td>\n",
       "      <td>3.58</td>\n",
       "      <td>6.81</td>\n",
       "      <td>0.77</td>\n",
       "      <td>NaN</td>\n",
       "      <td>NaN</td>\n",
       "      <td>NaN</td>\n",
       "    </tr>\n",
       "    <tr>\n",
       "      <th>2</th>\n",
       "      <td>Mario Kart Wii</td>\n",
       "      <td>Wii</td>\n",
       "      <td>2008.0</td>\n",
       "      <td>Racing</td>\n",
       "      <td>15.68</td>\n",
       "      <td>12.76</td>\n",
       "      <td>3.79</td>\n",
       "      <td>3.29</td>\n",
       "      <td>82.0</td>\n",
       "      <td>8.3</td>\n",
       "      <td>E</td>\n",
       "    </tr>\n",
       "    <tr>\n",
       "      <th>3</th>\n",
       "      <td>Wii Sports Resort</td>\n",
       "      <td>Wii</td>\n",
       "      <td>2009.0</td>\n",
       "      <td>Sports</td>\n",
       "      <td>15.61</td>\n",
       "      <td>10.93</td>\n",
       "      <td>3.28</td>\n",
       "      <td>2.95</td>\n",
       "      <td>80.0</td>\n",
       "      <td>8</td>\n",
       "      <td>E</td>\n",
       "    </tr>\n",
       "    <tr>\n",
       "      <th>4</th>\n",
       "      <td>Pokemon Red/Pokemon Blue</td>\n",
       "      <td>GB</td>\n",
       "      <td>1996.0</td>\n",
       "      <td>Role-Playing</td>\n",
       "      <td>11.27</td>\n",
       "      <td>8.89</td>\n",
       "      <td>10.22</td>\n",
       "      <td>1.00</td>\n",
       "      <td>NaN</td>\n",
       "      <td>NaN</td>\n",
       "      <td>NaN</td>\n",
       "    </tr>\n",
       "    <tr>\n",
       "      <th>5</th>\n",
       "      <td>Tetris</td>\n",
       "      <td>GB</td>\n",
       "      <td>1989.0</td>\n",
       "      <td>Puzzle</td>\n",
       "      <td>23.20</td>\n",
       "      <td>2.26</td>\n",
       "      <td>4.22</td>\n",
       "      <td>0.58</td>\n",
       "      <td>NaN</td>\n",
       "      <td>NaN</td>\n",
       "      <td>NaN</td>\n",
       "    </tr>\n",
       "    <tr>\n",
       "      <th>6</th>\n",
       "      <td>New Super Mario Bros.</td>\n",
       "      <td>DS</td>\n",
       "      <td>2006.0</td>\n",
       "      <td>Platform</td>\n",
       "      <td>11.28</td>\n",
       "      <td>9.14</td>\n",
       "      <td>6.50</td>\n",
       "      <td>2.88</td>\n",
       "      <td>89.0</td>\n",
       "      <td>8.5</td>\n",
       "      <td>E</td>\n",
       "    </tr>\n",
       "    <tr>\n",
       "      <th>7</th>\n",
       "      <td>Wii Play</td>\n",
       "      <td>Wii</td>\n",
       "      <td>2006.0</td>\n",
       "      <td>Misc</td>\n",
       "      <td>13.96</td>\n",
       "      <td>9.18</td>\n",
       "      <td>2.93</td>\n",
       "      <td>2.84</td>\n",
       "      <td>58.0</td>\n",
       "      <td>6.6</td>\n",
       "      <td>E</td>\n",
       "    </tr>\n",
       "    <tr>\n",
       "      <th>8</th>\n",
       "      <td>New Super Mario Bros. Wii</td>\n",
       "      <td>Wii</td>\n",
       "      <td>2009.0</td>\n",
       "      <td>Platform</td>\n",
       "      <td>14.44</td>\n",
       "      <td>6.94</td>\n",
       "      <td>4.70</td>\n",
       "      <td>2.24</td>\n",
       "      <td>87.0</td>\n",
       "      <td>8.4</td>\n",
       "      <td>E</td>\n",
       "    </tr>\n",
       "    <tr>\n",
       "      <th>9</th>\n",
       "      <td>Duck Hunt</td>\n",
       "      <td>NES</td>\n",
       "      <td>1984.0</td>\n",
       "      <td>Shooter</td>\n",
       "      <td>26.93</td>\n",
       "      <td>0.63</td>\n",
       "      <td>0.28</td>\n",
       "      <td>0.47</td>\n",
       "      <td>NaN</td>\n",
       "      <td>NaN</td>\n",
       "      <td>NaN</td>\n",
       "    </tr>\n",
       "  </tbody>\n",
       "</table>\n",
       "</div>"
      ],
      "text/plain": [
       "                        Name Platform  Year_of_Release         Genre  \\\n",
       "0                 Wii Sports      Wii           2006.0        Sports   \n",
       "1          Super Mario Bros.      NES           1985.0      Platform   \n",
       "2             Mario Kart Wii      Wii           2008.0        Racing   \n",
       "3          Wii Sports Resort      Wii           2009.0        Sports   \n",
       "4   Pokemon Red/Pokemon Blue       GB           1996.0  Role-Playing   \n",
       "5                     Tetris       GB           1989.0        Puzzle   \n",
       "6      New Super Mario Bros.       DS           2006.0      Platform   \n",
       "7                   Wii Play      Wii           2006.0          Misc   \n",
       "8  New Super Mario Bros. Wii      Wii           2009.0      Platform   \n",
       "9                  Duck Hunt      NES           1984.0       Shooter   \n",
       "\n",
       "   NA_sales  EU_sales  JP_sales  Other_sales  Critic_Score User_Score Rating  \n",
       "0     41.36     28.96      3.77         8.45          76.0          8      E  \n",
       "1     29.08      3.58      6.81         0.77           NaN        NaN    NaN  \n",
       "2     15.68     12.76      3.79         3.29          82.0        8.3      E  \n",
       "3     15.61     10.93      3.28         2.95          80.0          8      E  \n",
       "4     11.27      8.89     10.22         1.00           NaN        NaN    NaN  \n",
       "5     23.20      2.26      4.22         0.58           NaN        NaN    NaN  \n",
       "6     11.28      9.14      6.50         2.88          89.0        8.5      E  \n",
       "7     13.96      9.18      2.93         2.84          58.0        6.6      E  \n",
       "8     14.44      6.94      4.70         2.24          87.0        8.4      E  \n",
       "9     26.93      0.63      0.28         0.47           NaN        NaN    NaN  "
      ]
     },
     "metadata": {},
     "output_type": "display_data"
    },
    {
     "name": "stdout",
     "output_type": "stream",
     "text": [
      "<class 'pandas.core.frame.DataFrame'>\n",
      "RangeIndex: 16715 entries, 0 to 16714\n",
      "Data columns (total 11 columns):\n",
      " #   Column           Non-Null Count  Dtype  \n",
      "---  ------           --------------  -----  \n",
      " 0   Name             16713 non-null  object \n",
      " 1   Platform         16715 non-null  object \n",
      " 2   Year_of_Release  16446 non-null  float64\n",
      " 3   Genre            16713 non-null  object \n",
      " 4   NA_sales         16715 non-null  float64\n",
      " 5   EU_sales         16715 non-null  float64\n",
      " 6   JP_sales         16715 non-null  float64\n",
      " 7   Other_sales      16715 non-null  float64\n",
      " 8   Critic_Score     8137 non-null   float64\n",
      " 9   User_Score       10014 non-null  object \n",
      " 10  Rating           9949 non-null   object \n",
      "dtypes: float64(6), object(5)\n",
      "memory usage: 1.4+ MB\n"
     ]
    }
   ],
   "source": [
    "#Выводим содержимое и общую информацию\n",
    "display(data.head(10)) \n",
    "data.info()"
   ]
  },
  {
   "cell_type": "code",
   "execution_count": 4,
   "id": "4db67260",
   "metadata": {},
   "outputs": [
    {
     "name": "stdout",
     "output_type": "stream",
     "text": [
      "Явных дубликатов не обнаружено\n"
     ]
    }
   ],
   "source": [
    "#Проверяем наличие явных дубликатов\n",
    "if data.duplicated().sum() > 0:\n",
    "    print('Найдено дубликатов:', data.duplicated().sum())\n",
    "else:\n",
    "    print('Явных дубликатов не обнаружено')"
   ]
  },
  {
   "cell_type": "markdown",
   "id": "a4fa220b",
   "metadata": {},
   "source": [
    "Обнаружены следующие проблемы: \n",
    "- Некорректное название столбцов\n",
    "- Есть пропуски в столбцах `name`, `Year_of_Release`, `Genre`, `Critic_Score`, `User_Score`, `Rating `\n",
    "- Столбец `Year_of_Release` необходимо привести к типу int\n",
    "- Столбец `User_Score` необходимо привести к типу float64\n",
    "- Явных дубликатов нет"
   ]
  },
  {
   "cell_type": "markdown",
   "id": "59ff85a8",
   "metadata": {},
   "source": [
    "## Подготовка данных "
   ]
  },
  {
   "cell_type": "markdown",
   "id": "7199ade2",
   "metadata": {},
   "source": [
    "### Преобразование названия столбцов"
   ]
  },
  {
   "cell_type": "code",
   "execution_count": 5,
   "id": "d4c08c7c",
   "metadata": {},
   "outputs": [
    {
     "data": {
      "text/plain": [
       "Index(['name', 'platform', 'year_of_release', 'genre', 'na_sales', 'eu_sales',\n",
       "       'jp_sales', 'other_sales', 'critic_score', 'user_score', 'rating'],\n",
       "      dtype='object')"
      ]
     },
     "execution_count": 5,
     "metadata": {},
     "output_type": "execute_result"
    }
   ],
   "source": [
    "#переименовываем столбцы\n",
    "data.columns = data.columns.str.lower()\n",
    "#проверяем резульат\n",
    "data.columns"
   ]
  },
  {
   "cell_type": "markdown",
   "id": "da919610",
   "metadata": {},
   "source": [
    "### Преобразование типов данных"
   ]
  },
  {
   "cell_type": "code",
   "execution_count": 6,
   "id": "329d83f1",
   "metadata": {},
   "outputs": [],
   "source": [
    "#приведем типы для столбцов с датами \n",
    "data['year_of_release'] = data['year_of_release'].astype('Int64')"
   ]
  },
  {
   "cell_type": "markdown",
   "id": "a359c467",
   "metadata": {},
   "source": [
    "В `user_score` приведем к типу `float`. В данном столбце встречается значение `tbd`. Сначала заменим его на NaN, затем обработаем."
   ]
  },
  {
   "cell_type": "code",
   "execution_count": 7,
   "id": "a01dce6b",
   "metadata": {},
   "outputs": [],
   "source": [
    "data['user_score'] = data['user_score'].replace('tbd', np.NaN)\n",
    "data['user_score'] = data['user_score'].astype('float')"
   ]
  },
  {
   "cell_type": "code",
   "execution_count": 8,
   "id": "460f8945",
   "metadata": {},
   "outputs": [
    {
     "name": "stdout",
     "output_type": "stream",
     "text": [
      "<class 'pandas.core.frame.DataFrame'>\n",
      "RangeIndex: 16715 entries, 0 to 16714\n",
      "Data columns (total 11 columns):\n",
      " #   Column           Non-Null Count  Dtype  \n",
      "---  ------           --------------  -----  \n",
      " 0   name             16713 non-null  object \n",
      " 1   platform         16715 non-null  object \n",
      " 2   year_of_release  16446 non-null  Int64  \n",
      " 3   genre            16713 non-null  object \n",
      " 4   na_sales         16715 non-null  float64\n",
      " 5   eu_sales         16715 non-null  float64\n",
      " 6   jp_sales         16715 non-null  float64\n",
      " 7   other_sales      16715 non-null  float64\n",
      " 8   critic_score     8137 non-null   float64\n",
      " 9   user_score       7590 non-null   float64\n",
      " 10  rating           9949 non-null   object \n",
      "dtypes: Int64(1), float64(6), object(4)\n",
      "memory usage: 1.4+ MB\n"
     ]
    },
    {
     "data": {
      "text/html": [
       "<div>\n",
       "<style scoped>\n",
       "    .dataframe tbody tr th:only-of-type {\n",
       "        vertical-align: middle;\n",
       "    }\n",
       "\n",
       "    .dataframe tbody tr th {\n",
       "        vertical-align: top;\n",
       "    }\n",
       "\n",
       "    .dataframe thead th {\n",
       "        text-align: right;\n",
       "    }\n",
       "</style>\n",
       "<table border=\"1\" class=\"dataframe\">\n",
       "  <thead>\n",
       "    <tr style=\"text-align: right;\">\n",
       "      <th></th>\n",
       "      <th>name</th>\n",
       "      <th>platform</th>\n",
       "      <th>year_of_release</th>\n",
       "      <th>genre</th>\n",
       "      <th>na_sales</th>\n",
       "      <th>eu_sales</th>\n",
       "      <th>jp_sales</th>\n",
       "      <th>other_sales</th>\n",
       "      <th>critic_score</th>\n",
       "      <th>user_score</th>\n",
       "      <th>rating</th>\n",
       "    </tr>\n",
       "  </thead>\n",
       "  <tbody>\n",
       "    <tr>\n",
       "      <th>0</th>\n",
       "      <td>Wii Sports</td>\n",
       "      <td>Wii</td>\n",
       "      <td>2006</td>\n",
       "      <td>Sports</td>\n",
       "      <td>41.36</td>\n",
       "      <td>28.96</td>\n",
       "      <td>3.77</td>\n",
       "      <td>8.45</td>\n",
       "      <td>76.0</td>\n",
       "      <td>8.0</td>\n",
       "      <td>E</td>\n",
       "    </tr>\n",
       "    <tr>\n",
       "      <th>1</th>\n",
       "      <td>Super Mario Bros.</td>\n",
       "      <td>NES</td>\n",
       "      <td>1985</td>\n",
       "      <td>Platform</td>\n",
       "      <td>29.08</td>\n",
       "      <td>3.58</td>\n",
       "      <td>6.81</td>\n",
       "      <td>0.77</td>\n",
       "      <td>NaN</td>\n",
       "      <td>NaN</td>\n",
       "      <td>NaN</td>\n",
       "    </tr>\n",
       "    <tr>\n",
       "      <th>2</th>\n",
       "      <td>Mario Kart Wii</td>\n",
       "      <td>Wii</td>\n",
       "      <td>2008</td>\n",
       "      <td>Racing</td>\n",
       "      <td>15.68</td>\n",
       "      <td>12.76</td>\n",
       "      <td>3.79</td>\n",
       "      <td>3.29</td>\n",
       "      <td>82.0</td>\n",
       "      <td>8.3</td>\n",
       "      <td>E</td>\n",
       "    </tr>\n",
       "    <tr>\n",
       "      <th>3</th>\n",
       "      <td>Wii Sports Resort</td>\n",
       "      <td>Wii</td>\n",
       "      <td>2009</td>\n",
       "      <td>Sports</td>\n",
       "      <td>15.61</td>\n",
       "      <td>10.93</td>\n",
       "      <td>3.28</td>\n",
       "      <td>2.95</td>\n",
       "      <td>80.0</td>\n",
       "      <td>8.0</td>\n",
       "      <td>E</td>\n",
       "    </tr>\n",
       "    <tr>\n",
       "      <th>4</th>\n",
       "      <td>Pokemon Red/Pokemon Blue</td>\n",
       "      <td>GB</td>\n",
       "      <td>1996</td>\n",
       "      <td>Role-Playing</td>\n",
       "      <td>11.27</td>\n",
       "      <td>8.89</td>\n",
       "      <td>10.22</td>\n",
       "      <td>1.00</td>\n",
       "      <td>NaN</td>\n",
       "      <td>NaN</td>\n",
       "      <td>NaN</td>\n",
       "    </tr>\n",
       "  </tbody>\n",
       "</table>\n",
       "</div>"
      ],
      "text/plain": [
       "                       name platform  year_of_release         genre  na_sales  \\\n",
       "0                Wii Sports      Wii             2006        Sports     41.36   \n",
       "1         Super Mario Bros.      NES             1985      Platform     29.08   \n",
       "2            Mario Kart Wii      Wii             2008        Racing     15.68   \n",
       "3         Wii Sports Resort      Wii             2009        Sports     15.61   \n",
       "4  Pokemon Red/Pokemon Blue       GB             1996  Role-Playing     11.27   \n",
       "\n",
       "   eu_sales  jp_sales  other_sales  critic_score  user_score rating  \n",
       "0     28.96      3.77         8.45          76.0         8.0      E  \n",
       "1      3.58      6.81         0.77           NaN         NaN    NaN  \n",
       "2     12.76      3.79         3.29          82.0         8.3      E  \n",
       "3     10.93      3.28         2.95          80.0         8.0      E  \n",
       "4      8.89     10.22         1.00           NaN         NaN    NaN  "
      ]
     },
     "execution_count": 8,
     "metadata": {},
     "output_type": "execute_result"
    }
   ],
   "source": [
    "#проверим результат\n",
    "data.info()\n",
    "data.head()"
   ]
  },
  {
   "cell_type": "markdown",
   "id": "c7ef4baa",
   "metadata": {},
   "source": [
    "### Заполнение пропусков"
   ]
  },
  {
   "cell_type": "markdown",
   "id": "6756d663",
   "metadata": {},
   "source": [
    "Пропуски в столбцах `name` и `genre` скорее всего появились по причине технической ошибки. Но мы оставим без изменений, так как таких строк всего 2."
   ]
  },
  {
   "cell_type": "code",
   "execution_count": 9,
   "id": "95e16d3f",
   "metadata": {},
   "outputs": [
    {
     "name": "stdout",
     "output_type": "stream",
     "text": [
      "      name platform  year_of_release genre  na_sales  eu_sales  jp_sales  \\\n",
      "659    NaN      GEN             1993   NaN      1.78      0.53      0.00   \n",
      "14244  NaN      GEN             1993   NaN      0.00      0.00      0.03   \n",
      "\n",
      "       other_sales  critic_score  user_score rating  \n",
      "659           0.08           NaN         NaN    NaN  \n",
      "14244         0.00           NaN         NaN    NaN  \n"
     ]
    }
   ],
   "source": [
    "print(data[(data['genre'].isna() == True) | (data['name'].isna() == True)]  )"
   ]
  },
  {
   "cell_type": "markdown",
   "id": "62694dee",
   "metadata": {},
   "source": [
    "Для столбцов `critic_score` и `user_score` нет какой-либо логичной замены, так как у каких-то игр может не быть данных об оценках критиков и игроков. Оставим эти столбцы как есть."
   ]
  },
  {
   "cell_type": "markdown",
   "id": "381ea70e",
   "metadata": {},
   "source": [
    "Пропуски в столбце `year_of_release` оставим без изменений. Так как заполнение данными может исказить результаты. "
   ]
  },
  {
   "cell_type": "markdown",
   "id": "d311a0dc",
   "metadata": {},
   "source": [
    "Пропуски в столбце `rating` заполним заглушкой. У игры может не быть рейтинга по шкале ESRB, так как эта система используется не во всех регионах."
   ]
  },
  {
   "cell_type": "code",
   "execution_count": 10,
   "id": "dcc2650a",
   "metadata": {},
   "outputs": [],
   "source": [
    "data['rating'] = data['rating'].fillna('no_rating')"
   ]
  },
  {
   "cell_type": "code",
   "execution_count": 11,
   "id": "9e22d34b",
   "metadata": {},
   "outputs": [
    {
     "name": "stdout",
     "output_type": "stream",
     "text": [
      "<class 'pandas.core.frame.DataFrame'>\n",
      "RangeIndex: 16715 entries, 0 to 16714\n",
      "Data columns (total 11 columns):\n",
      " #   Column           Non-Null Count  Dtype  \n",
      "---  ------           --------------  -----  \n",
      " 0   name             16713 non-null  object \n",
      " 1   platform         16715 non-null  object \n",
      " 2   year_of_release  16446 non-null  Int64  \n",
      " 3   genre            16713 non-null  object \n",
      " 4   na_sales         16715 non-null  float64\n",
      " 5   eu_sales         16715 non-null  float64\n",
      " 6   jp_sales         16715 non-null  float64\n",
      " 7   other_sales      16715 non-null  float64\n",
      " 8   critic_score     8137 non-null   float64\n",
      " 9   user_score       7590 non-null   float64\n",
      " 10  rating           16715 non-null  object \n",
      "dtypes: Int64(1), float64(6), object(4)\n",
      "memory usage: 1.4+ MB\n"
     ]
    }
   ],
   "source": [
    "#проверяем результат\n",
    "data.info()"
   ]
  },
  {
   "cell_type": "markdown",
   "id": "fc95661f",
   "metadata": {},
   "source": [
    "### Рассчет суммарных продаж в регионах"
   ]
  },
  {
   "cell_type": "markdown",
   "id": "d3f90130",
   "metadata": {},
   "source": [
    "Добавим столбец `total_sales`  и заполним его суммой значений по всем регионам для каждой строки."
   ]
  },
  {
   "cell_type": "code",
   "execution_count": 12,
   "id": "34122ab6",
   "metadata": {},
   "outputs": [],
   "source": [
    "#добавим столбец total_sales\n",
    "data['total_sales'] = data[['na_sales', 'eu_sales', 'jp_sales', 'other_sales']].sum(axis='columns')"
   ]
  },
  {
   "cell_type": "markdown",
   "id": "604fc856",
   "metadata": {},
   "source": [
    "## Исследовательский анализ"
   ]
  },
  {
   "cell_type": "markdown",
   "id": "ef917314",
   "metadata": {},
   "source": [
    "### Сколько игр выпускалось в разные годы"
   ]
  },
  {
   "cell_type": "code",
   "execution_count": 13,
   "id": "195b831e",
   "metadata": {},
   "outputs": [
    {
     "name": "stdout",
     "output_type": "stream",
     "text": [
      "year_of_release\n",
      "1980       9\n",
      "1981      46\n",
      "1982      36\n",
      "1983      17\n",
      "1984      14\n",
      "1985      14\n",
      "1986      21\n",
      "1987      16\n",
      "1988      15\n",
      "1989      17\n",
      "1990      16\n",
      "1991      41\n",
      "1992      43\n",
      "1993      60\n",
      "1994     121\n",
      "1995     219\n",
      "1996     263\n",
      "1997     289\n",
      "1998     379\n",
      "1999     338\n",
      "2000     350\n",
      "2001     482\n",
      "2002     829\n",
      "2003     775\n",
      "2004     762\n",
      "2005     939\n",
      "2006    1006\n",
      "2007    1197\n",
      "2008    1427\n",
      "2009    1426\n",
      "2010    1255\n",
      "2011    1136\n",
      "2012     653\n",
      "2013     544\n",
      "2014     581\n",
      "2015     606\n",
      "2016     502\n",
      "Name: name, dtype: int64\n"
     ]
    },
    {
     "data": {
      "text/plain": [
       "Text(0, 0.5, 'Количество игр')"
      ]
     },
     "execution_count": 13,
     "metadata": {},
     "output_type": "execute_result"
    },
    {
     "data": {
      "image/png": "[encoded data removed]",
      "text/plain": [
       "<Figure size 432x288 with 1 Axes>"
      ]
     },
     "metadata": {
      "needs_background": "light"
     },
     "output_type": "display_data"
    }
   ],
   "source": [
    "#выведем кол-во выпущенных игр по годам\n",
    "print(data.groupby('year_of_release')['name'].count())\n",
    "\n",
    "#построим гистограмму для наглядности\n",
    "sns.histplot(data = data['year_of_release'],discrete=True )\n",
    "plt.title('Распределение игр по годам')\n",
    "plt.xlabel('Год')\n",
    "plt.ylabel('Количество игр')"
   ]
  },
  {
   "cell_type": "markdown",
   "id": "c8f1989d",
   "metadata": {},
   "source": [
    "Пик выпуска игр приходится на 2006-2011 года. "
   ]
  },
  {
   "cell_type": "markdown",
   "id": "39cea66b",
   "metadata": {},
   "source": [
    "### Как менялись продажи по платформам"
   ]
  },
  {
   "cell_type": "markdown",
   "id": "1e703fd9",
   "metadata": {},
   "source": [
    "Определим платформы с наибольшими суммарными продажами."
   ]
  },
  {
   "cell_type": "code",
   "execution_count": 14,
   "id": "8cc3b38e",
   "metadata": {},
   "outputs": [
    {
     "data": {
      "text/html": [
       "<div>\n",
       "<style scoped>\n",
       "    .dataframe tbody tr th:only-of-type {\n",
       "        vertical-align: middle;\n",
       "    }\n",
       "\n",
       "    .dataframe tbody tr th {\n",
       "        vertical-align: top;\n",
       "    }\n",
       "\n",
       "    .dataframe thead th {\n",
       "        text-align: right;\n",
       "    }\n",
       "</style>\n",
       "<table border=\"1\" class=\"dataframe\">\n",
       "  <thead>\n",
       "    <tr style=\"text-align: right;\">\n",
       "      <th></th>\n",
       "      <th>total_sales</th>\n",
       "    </tr>\n",
       "    <tr>\n",
       "      <th>platform</th>\n",
       "      <th></th>\n",
       "    </tr>\n",
       "  </thead>\n",
       "  <tbody>\n",
       "    <tr>\n",
       "      <th>PS2</th>\n",
       "      <td>1255.77</td>\n",
       "    </tr>\n",
       "    <tr>\n",
       "      <th>X360</th>\n",
       "      <td>971.42</td>\n",
       "    </tr>\n",
       "    <tr>\n",
       "      <th>PS3</th>\n",
       "      <td>939.65</td>\n",
       "    </tr>\n",
       "    <tr>\n",
       "      <th>Wii</th>\n",
       "      <td>907.51</td>\n",
       "    </tr>\n",
       "    <tr>\n",
       "      <th>DS</th>\n",
       "      <td>806.12</td>\n",
       "    </tr>\n",
       "    <tr>\n",
       "      <th>PS</th>\n",
       "      <td>730.86</td>\n",
       "    </tr>\n",
       "    <tr>\n",
       "      <th>GBA</th>\n",
       "      <td>317.85</td>\n",
       "    </tr>\n",
       "    <tr>\n",
       "      <th>PS4</th>\n",
       "      <td>314.14</td>\n",
       "    </tr>\n",
       "    <tr>\n",
       "      <th>PSP</th>\n",
       "      <td>294.05</td>\n",
       "    </tr>\n",
       "    <tr>\n",
       "      <th>PC</th>\n",
       "      <td>259.52</td>\n",
       "    </tr>\n",
       "    <tr>\n",
       "      <th>3DS</th>\n",
       "      <td>259.00</td>\n",
       "    </tr>\n",
       "    <tr>\n",
       "      <th>XB</th>\n",
       "      <td>257.74</td>\n",
       "    </tr>\n",
       "    <tr>\n",
       "      <th>GB</th>\n",
       "      <td>255.46</td>\n",
       "    </tr>\n",
       "    <tr>\n",
       "      <th>NES</th>\n",
       "      <td>251.05</td>\n",
       "    </tr>\n",
       "    <tr>\n",
       "      <th>N64</th>\n",
       "      <td>218.68</td>\n",
       "    </tr>\n",
       "    <tr>\n",
       "      <th>SNES</th>\n",
       "      <td>200.04</td>\n",
       "    </tr>\n",
       "    <tr>\n",
       "      <th>GC</th>\n",
       "      <td>198.93</td>\n",
       "    </tr>\n",
       "    <tr>\n",
       "      <th>XOne</th>\n",
       "      <td>159.32</td>\n",
       "    </tr>\n",
       "    <tr>\n",
       "      <th>2600</th>\n",
       "      <td>96.98</td>\n",
       "    </tr>\n",
       "    <tr>\n",
       "      <th>WiiU</th>\n",
       "      <td>82.19</td>\n",
       "    </tr>\n",
       "    <tr>\n",
       "      <th>PSV</th>\n",
       "      <td>54.07</td>\n",
       "    </tr>\n",
       "    <tr>\n",
       "      <th>SAT</th>\n",
       "      <td>33.59</td>\n",
       "    </tr>\n",
       "    <tr>\n",
       "      <th>GEN</th>\n",
       "      <td>30.77</td>\n",
       "    </tr>\n",
       "    <tr>\n",
       "      <th>DC</th>\n",
       "      <td>15.95</td>\n",
       "    </tr>\n",
       "    <tr>\n",
       "      <th>SCD</th>\n",
       "      <td>1.86</td>\n",
       "    </tr>\n",
       "    <tr>\n",
       "      <th>NG</th>\n",
       "      <td>1.44</td>\n",
       "    </tr>\n",
       "    <tr>\n",
       "      <th>WS</th>\n",
       "      <td>1.42</td>\n",
       "    </tr>\n",
       "    <tr>\n",
       "      <th>TG16</th>\n",
       "      <td>0.16</td>\n",
       "    </tr>\n",
       "    <tr>\n",
       "      <th>3DO</th>\n",
       "      <td>0.10</td>\n",
       "    </tr>\n",
       "    <tr>\n",
       "      <th>GG</th>\n",
       "      <td>0.04</td>\n",
       "    </tr>\n",
       "    <tr>\n",
       "      <th>PCFX</th>\n",
       "      <td>0.03</td>\n",
       "    </tr>\n",
       "  </tbody>\n",
       "</table>\n",
       "</div>"
      ],
      "text/plain": [
       "          total_sales\n",
       "platform             \n",
       "PS2           1255.77\n",
       "X360           971.42\n",
       "PS3            939.65\n",
       "Wii            907.51\n",
       "DS             806.12\n",
       "PS             730.86\n",
       "GBA            317.85\n",
       "PS4            314.14\n",
       "PSP            294.05\n",
       "PC             259.52\n",
       "3DS            259.00\n",
       "XB             257.74\n",
       "GB             255.46\n",
       "NES            251.05\n",
       "N64            218.68\n",
       "SNES           200.04\n",
       "GC             198.93\n",
       "XOne           159.32\n",
       "2600            96.98\n",
       "WiiU            82.19\n",
       "PSV             54.07\n",
       "SAT             33.59\n",
       "GEN             30.77\n",
       "DC              15.95\n",
       "SCD              1.86\n",
       "NG               1.44\n",
       "WS               1.42\n",
       "TG16             0.16\n",
       "3DO              0.10\n",
       "GG               0.04\n",
       "PCFX             0.03"
      ]
     },
     "metadata": {},
     "output_type": "display_data"
    }
   ],
   "source": [
    "#создадим сводную таблицу\n",
    "platforms_sales = data.pivot_table(index ='platform', values ='total_sales', aggfunc='sum')\n",
    "#отсортируем данные по количеству продаж\n",
    "platforms_sales = platforms_sales.sort_values(by='total_sales', ascending=False)\n",
    "#выведем результат\n",
    "display(platforms_sales)"
   ]
  },
  {
   "cell_type": "markdown",
   "id": "4cde9117",
   "metadata": {},
   "source": [
    "Определим список топовых платформ следующим образом: будем сравнивать процентное соотношение продаж. Если отличие менье 50%, то платформа уже не входит в топовые"
   ]
  },
  {
   "cell_type": "code",
   "execution_count": 15,
   "id": "6896b5fa",
   "metadata": {},
   "outputs": [
    {
     "name": "stdout",
     "output_type": "stream",
     "text": [
      "['PS2', 'X360', 'PS3', 'Wii', 'DS', 'PS']\n"
     ]
    }
   ],
   "source": [
    "#объявим пустой массив имен\n",
    "top_platforms_names = []\n",
    "#в цикле сравним продажи и или добавим название платформы в цикл, либо добавим последнее полходящее и выйдем из цикла.\n",
    "for i in range(len(platforms_sales) - 1):\n",
    "    if platforms_sales.values[i + 1]/ platforms_sales.values[i] >= 0.5:\n",
    "        top_platforms_names.append(platforms_sales.index[i])\n",
    "    else: \n",
    "        top_platforms_names.append(platforms_sales.index[i])\n",
    "        break\n",
    "#выведем результат        \n",
    "print(top_platforms_names)        "
   ]
  },
  {
   "cell_type": "markdown",
   "id": "1cd7b5ef",
   "metadata": {},
   "source": [
    "Наиболее популярные платформы:\n",
    "- PS2\t\n",
    "- X360\t\n",
    "- PS3\t\n",
    "- Wii\t\n",
    "- DS\t\n",
    "- PS\t\n",
    "\n",
    "После PS значения становятся меньше более чем в 2 раза."
   ]
  },
  {
   "cell_type": "markdown",
   "id": "c4245505",
   "metadata": {},
   "source": [
    "Построим график продаж по годам для каждой платформы отдельно, чтобы увидеть жизненный цикл."
   ]
  },
  {
   "cell_type": "code",
   "execution_count": 18,
   "id": "460518f1",
   "metadata": {},
   "outputs": [
    {
     "data": {
      "image/png": "[encoded data removed]",
      "text/plain": [
       "<Figure size 432x288 with 1 Axes>"
      ]
     },
     "metadata": {
      "needs_background": "light"
     },
     "output_type": "display_data"
    },
    {
     "data": {
      "image/png": "[encoded data removed]",
      "text/plain": [
       "<Figure size 432x288 with 1 Axes>"
      ]
     },
     "metadata": {
      "needs_background": "light"
     },
     "output_type": "display_data"
    },
    {
     "data": {
      "image/png": "[encoded data removed]",
      "text/plain": [
       "<Figure size 432x288 with 1 Axes>"
      ]
     },
     "metadata": {
      "needs_background": "light"
     },
     "output_type": "display_data"
    },
    {
     "data": {
      "image/png": "[encoded data removed]",
      "text/plain": [
       "<Figure size 432x288 with 1 Axes>"
      ]
     },
     "metadata": {
      "needs_background": "light"
     },
     "output_type": "display_data"
    },
    {
     "data": {
      "image/png": "[encoded data removed]",
      "text/plain": [
       "<Figure size 432x288 with 1 Axes>"
      ]
     },
     "metadata": {
      "needs_background": "light"
     },
     "output_type": "display_data"
    },
    {
     "data": {
      "image/png": "[encoded data removed]",
      "text/plain": [
       "<Figure size 432x288 with 1 Axes>"
      ]
     },
     "metadata": {
      "needs_background": "light"
     },
     "output_type": "display_data"
    }
   ],
   "source": [
    "#напишем функцию, которая принимает список названий платформ и строит график продаж дл] каждой платформы\n",
    "def print_platforms_plots (platforms_names):\n",
    "    for platform_name in platforms_names: \n",
    "        #филтруем данные по выбранной платформе\n",
    "        platform = data[data['platform'] == platform_name]\n",
    "        #создаем сводную таблицу и строим график\n",
    "        platform = platform.pivot_table(index='year_of_release', values='total_sales', aggfunc='sum').plot(grid=True )\n",
    "        plt.title(f'Продажи игр по годам на платформе {platform_name}' )\n",
    "        plt.xlabel('Год релиза')\n",
    "        plt.ylabel('Количество продаж (млн.)')\n",
    "        \n",
    "#Вызываем функцию        \n",
    "print_platforms_plots (top_platforms_names)"
   ]
  },
  {
   "cell_type": "code",
   "execution_count": 19,
   "id": "06cfde8f",
   "metadata": {},
   "outputs": [
    {
     "data": {
      "text/html": [
       "<div>\n",
       "<style scoped>\n",
       "    .dataframe tbody tr th:only-of-type {\n",
       "        vertical-align: middle;\n",
       "    }\n",
       "\n",
       "    .dataframe tbody tr th {\n",
       "        vertical-align: top;\n",
       "    }\n",
       "\n",
       "    .dataframe thead th {\n",
       "        text-align: right;\n",
       "    }\n",
       "</style>\n",
       "<table border=\"1\" class=\"dataframe\">\n",
       "  <thead>\n",
       "    <tr style=\"text-align: right;\">\n",
       "      <th></th>\n",
       "      <th>name</th>\n",
       "      <th>platform</th>\n",
       "      <th>year_of_release</th>\n",
       "      <th>genre</th>\n",
       "      <th>na_sales</th>\n",
       "      <th>eu_sales</th>\n",
       "      <th>jp_sales</th>\n",
       "      <th>other_sales</th>\n",
       "      <th>critic_score</th>\n",
       "      <th>user_score</th>\n",
       "      <th>rating</th>\n",
       "      <th>total_sales</th>\n",
       "    </tr>\n",
       "  </thead>\n",
       "  <tbody>\n",
       "    <tr>\n",
       "      <th>15957</th>\n",
       "      <td>Strongest Tokyo University Shogi DS</td>\n",
       "      <td>DS</td>\n",
       "      <td>1985</td>\n",
       "      <td>Action</td>\n",
       "      <td>0.0</td>\n",
       "      <td>0.0</td>\n",
       "      <td>0.02</td>\n",
       "      <td>0.0</td>\n",
       "      <td>NaN</td>\n",
       "      <td>NaN</td>\n",
       "      <td>no_rating</td>\n",
       "      <td>0.02</td>\n",
       "    </tr>\n",
       "  </tbody>\n",
       "</table>\n",
       "</div>"
      ],
      "text/plain": [
       "                                      name platform  year_of_release   genre  \\\n",
       "15957  Strongest Tokyo University Shogi DS       DS             1985  Action   \n",
       "\n",
       "       na_sales  eu_sales  jp_sales  other_sales  critic_score  user_score  \\\n",
       "15957       0.0       0.0      0.02          0.0           NaN         NaN   \n",
       "\n",
       "          rating  total_sales  \n",
       "15957  no_rating         0.02  "
      ]
     },
     "execution_count": 19,
     "metadata": {},
     "output_type": "execute_result"
    }
   ],
   "source": [
    "#найдем аномальные данные в 1985 г на платформе DS\n",
    "data[(data['platform'] == 'DS') & (data['year_of_release'] == 1985)]"
   ]
  },
  {
   "cell_type": "markdown",
   "id": "4506ca08",
   "metadata": {},
   "source": [
    "Платформа DS была выпущена 2004 году (википедия), значит игры 1985 на ней быть не может. Скорее всего это опечатка. Удалим эту строку. "
   ]
  },
  {
   "cell_type": "code",
   "execution_count": 20,
   "id": "c1e85b42",
   "metadata": {},
   "outputs": [],
   "source": [
    "#удаляем строку по индексу\n",
    "data = data.drop(15957)"
   ]
  },
  {
   "cell_type": "markdown",
   "id": "3d4cc3f2",
   "metadata": {},
   "source": [
    "Теперь рассмотрим все платформы вместе и отобразим их на одном графике. "
   ]
  },
  {
   "cell_type": "code",
   "execution_count": 21,
   "id": "9ac42fee",
   "metadata": {},
   "outputs": [],
   "source": [
    "#отфильтруем датасет с нужными платформами\n",
    "top_platforms = data.query('platform in @top_platforms_names')                              "
   ]
  },
  {
   "cell_type": "code",
   "execution_count": 22,
   "id": "5e901d58",
   "metadata": {},
   "outputs": [
    {
     "data": {
      "text/plain": [
       "Text(0, 0.5, 'Количество продаж (млн.)')"
      ]
     },
     "execution_count": 22,
     "metadata": {},
     "output_type": "execute_result"
    },
    {
     "data": {
      "image/png": "[encoded data removed]",
      "text/plain": [
       "<Figure size 432x288 with 1 Axes>"
      ]
     },
     "metadata": {
      "needs_background": "light"
     },
     "output_type": "display_data"
    }
   ],
   "source": [
    "#сгруппируем данные по платформе и году релиза и построим график\n",
    "top_platforms.groupby(['platform', 'year_of_release'])['total_sales'].sum().unstack('platform').plot(grid=True)\n",
    "plt.title('Продажи игр по годам на платформах с наибольшим количеством продаж' )\n",
    "plt.xlabel('Год релиза')\n",
    "plt.ylabel('Количество продаж (млн.)')"
   ]
  },
  {
   "cell_type": "markdown",
   "id": "04761e3a",
   "metadata": {},
   "source": [
    "- В среднем жизненный цикл платформы составляет 10 лет (от появления, до почти полного прекращения продаж);\n",
    "- Частота появления новой платформы увеличивается со временем от 9 до 1 года. Частота исчезновения сдвигается пропорционально."
   ]
  },
  {
   "cell_type": "markdown",
   "id": "8a48fbd4",
   "metadata": {},
   "source": [
    "За актуальный период возьмем жизненный цикл платформы - **3 года**"
   ]
  },
  {
   "cell_type": "markdown",
   "id": "54f226c4",
   "metadata": {},
   "source": [
    "### Какие платформы лидируют по продажам, растут или падают"
   ]
  },
  {
   "cell_type": "markdown",
   "id": "a79ff8cb",
   "metadata": {},
   "source": [
    "За актуальный период возьмем 3 года."
   ]
  },
  {
   "cell_type": "code",
   "execution_count": 23,
   "id": "cd3979c0",
   "metadata": {},
   "outputs": [],
   "source": [
    "#отфильтруем данные\n",
    "recent_data = data[data['year_of_release'] >= 2014]"
   ]
  },
  {
   "cell_type": "code",
   "execution_count": 24,
   "id": "ff9f6449",
   "metadata": {},
   "outputs": [
    {
     "data": {
      "text/plain": [
       "Text(0, 0.5, 'Количество продаж (млн.)')"
      ]
     },
     "execution_count": 24,
     "metadata": {},
     "output_type": "execute_result"
    },
    {
     "data": {
      "image/png": "[encoded data removed]",
      "text/plain": [
       "<Figure size 864x432 with 1 Axes>"
      ]
     },
     "metadata": {
      "needs_background": "light"
     },
     "output_type": "display_data"
    }
   ],
   "source": [
    "#сгруппируем данные по платформе и году релиза и построим график\n",
    "recent_data.groupby(\n",
    "    ['platform', 'year_of_release'])['total_sales'].sum().unstack('platform').plot(grid=True, figsize=(12, 6))\n",
    "plt.title('Продажи игр по годам на платформах за актуальный период' )\n",
    "plt.xlabel('Год релиза')\n",
    "plt.ylabel('Количество продаж (млн.)')\n"
   ]
  },
  {
   "cell_type": "markdown",
   "id": "5bbc0e04",
   "metadata": {},
   "source": [
    "Платформы, у которых возможен рост продаж:\n",
    "- PS4\n",
    "- XOne\n",
    "\n",
    "У линий соответсвующих этим платформам наблюдается не такой резкий спад как у остальных. Данные результаты соответсвуют действительности, эти платформы платформы были самыми популярными в 2017 году.\n"
   ]
  },
  {
   "cell_type": "markdown",
   "id": "68359a18",
   "metadata": {},
   "source": [
    " ### График «ящик с усами» по глобальным продажам игр в разбивке по платформам"
   ]
  },
  {
   "cell_type": "markdown",
   "id": "f645bd72",
   "metadata": {},
   "source": [
    "Построим боксплоты по глобальным продажам игр в разбивке по платформам с самыми высокими продажами."
   ]
  },
  {
   "cell_type": "code",
   "execution_count": 25,
   "id": "a9ee256f",
   "metadata": {},
   "outputs": [],
   "source": [
    "#отфильтруем данные по перспектинвым платформам\n",
    "new_top_platforms = recent_data.query('platform in [\"PS4\", \"XOne\"]')"
   ]
  },
  {
   "cell_type": "code",
   "execution_count": 26,
   "id": "e77d4f67",
   "metadata": {},
   "outputs": [
    {
     "data": {
      "text/plain": [
       "Text(0, 0.5, 'Количество продаж (млн.)')"
      ]
     },
     "execution_count": 26,
     "metadata": {},
     "output_type": "execute_result"
    },
    {
     "data": {
      "image/png": "[encoded data removed]",
      "text/plain": [
       "<Figure size 432x288 with 1 Axes>"
      ]
     },
     "metadata": {
      "needs_background": "light"
     },
     "output_type": "display_data"
    }
   ],
   "source": [
    "#строим боксплоты\n",
    "sns.boxplot(data = new_top_platforms, y = 'total_sales', x='platform')\n",
    "plt.title('Диаграмма размаха продаж на перспектинвых платформах' )\n",
    "plt.xlabel('Платформа')\n",
    "plt.ylabel('Количество продаж (млн.)')"
   ]
  },
  {
   "cell_type": "markdown",
   "id": "45a93e51",
   "metadata": {},
   "source": [
    "Диаграмма показывает, что для всех платформ есть выбросы в большую сторону. Вероятно, резкое увеличение количества продаж связано с выходами новых игр, инфоповодами."
   ]
  },
  {
   "cell_type": "markdown",
   "id": "a0c1df99",
   "metadata": {},
   "source": [
    "Построим боксплотны в увеличенном масштабе, чтобы были видны квартили."
   ]
  },
  {
   "cell_type": "code",
   "execution_count": 27,
   "id": "7ba180a2",
   "metadata": {},
   "outputs": [
    {
     "data": {
      "text/plain": [
       "Text(0, 0.5, 'Количество продаж (млн.)')"
      ]
     },
     "execution_count": 27,
     "metadata": {},
     "output_type": "execute_result"
    },
    {
     "data": {
      "image/png": "[encoded data removed]",
      "text/plain": [
       "<Figure size 432x288 with 1 Axes>"
      ]
     },
     "metadata": {
      "needs_background": "light"
     },
     "output_type": "display_data"
    }
   ],
   "source": [
    "#строим боксплоты\n",
    "sns.boxplot(data = new_top_platforms, y = 'total_sales', x='platform')\n",
    "plt.ylim(0, 0.85)\n",
    "plt.title('Диаграмма размаха продаж на перспектинвых платформах' )\n",
    "plt.xlabel('Платформа')\n",
    "plt.ylabel('Количество продаж (млн.)')"
   ]
  },
  {
   "cell_type": "markdown",
   "id": "3c8011ec",
   "metadata": {},
   "source": [
    "По графику видно, что у платформы `XOne` медиана немного больше. Проверим это, с помощью метода `describe()`"
   ]
  },
  {
   "cell_type": "code",
   "execution_count": 28,
   "id": "11dea966",
   "metadata": {},
   "outputs": [
    {
     "data": {
      "text/plain": [
       "count    376.000000\n",
       "mean       0.766356\n",
       "std        1.614969\n",
       "min        0.010000\n",
       "25%        0.057500\n",
       "50%        0.185000\n",
       "75%        0.690000\n",
       "max       14.630000\n",
       "Name: total_sales, dtype: float64"
      ]
     },
     "execution_count": 28,
     "metadata": {},
     "output_type": "execute_result"
    }
   ],
   "source": [
    "#получим описательные параметры для PS4\n",
    "new_top_platforms.query('platform == \"PS4\"')['total_sales'].describe()"
   ]
  },
  {
   "cell_type": "code",
   "execution_count": 29,
   "id": "6ad27e94",
   "metadata": {},
   "outputs": [
    {
     "data": {
      "text/plain": [
       "count    228.000000\n",
       "mean       0.615614\n",
       "std        1.046513\n",
       "min        0.010000\n",
       "25%        0.050000\n",
       "50%        0.205000\n",
       "75%        0.632500\n",
       "max        7.390000\n",
       "Name: total_sales, dtype: float64"
      ]
     },
     "execution_count": 29,
     "metadata": {},
     "output_type": "execute_result"
    }
   ],
   "source": [
    "#получим описательные параметры для XOne\n",
    "new_top_platforms.query('platform == \"XOne\"')['total_sales'].describe()"
   ]
  },
  {
   "cell_type": "markdown",
   "id": "bc48373d",
   "metadata": {},
   "source": [
    "Медианные значения по количеству продаж примерно одинаковые. У `XOne` немного больше."
   ]
  },
  {
   "cell_type": "markdown",
   "id": "0e7545ed",
   "metadata": {},
   "source": [
    "### Как влияют на продажи внутри одной популярной платформы отзывы пользователей и критиков"
   ]
  },
  {
   "cell_type": "markdown",
   "id": "5566420e",
   "metadata": {},
   "source": [
    "В качестве популярной платформы возьмем **PS4**"
   ]
  },
  {
   "cell_type": "code",
   "execution_count": 30,
   "id": "ce18da96",
   "metadata": {},
   "outputs": [],
   "source": [
    "#отфильтруем данные по платформе ps4\n",
    "popular_platform = recent_data.query('platform == \"PS4\"') "
   ]
  },
  {
   "cell_type": "markdown",
   "id": "306bd951",
   "metadata": {},
   "source": [
    "Построим диаграмму рассеяния для определения зависимости между продажами и отзывами пользователей/критиков."
   ]
  },
  {
   "cell_type": "code",
   "execution_count": 31,
   "id": "eb6f667c",
   "metadata": {},
   "outputs": [
    {
     "data": {
      "text/plain": [
       "Text(0, 0.5, 'Количество продаж (млн.)')"
      ]
     },
     "execution_count": 31,
     "metadata": {},
     "output_type": "execute_result"
    },
    {
     "data": {
      "image/png": "[encoded data removed]",
      "text/plain": [
       "<Figure size 432x288 with 1 Axes>"
      ]
     },
     "metadata": {
      "needs_background": "light"
     },
     "output_type": "display_data"
    }
   ],
   "source": [
    "#посторим диаграмму рассеивания для оценок пользователей и количества продаж\n",
    "popular_platform.plot(x='user_score', y='total_sales', kind='scatter')\n",
    "plt.xlim(0, 10)\n",
    "plt.ylim(0, 10)\n",
    "plt.title('Диаграмма рассеяния для продаж и оценок пользователей ' )\n",
    "plt.xlabel('Оценки пользователей')\n",
    "plt.ylabel('Количество продаж (млн.)')"
   ]
  },
  {
   "cell_type": "code",
   "execution_count": 32,
   "id": "7896e9c3",
   "metadata": {},
   "outputs": [
    {
     "data": {
      "text/plain": [
       "Text(0, 0.5, 'Количество продаж (млн.)')"
      ]
     },
     "execution_count": 32,
     "metadata": {},
     "output_type": "execute_result"
    },
    {
     "data": {
      "image/png": "[encoded data removed]",
      "text/plain": [
       "<Figure size 432x288 with 1 Axes>"
      ]
     },
     "metadata": {
      "needs_background": "light"
     },
     "output_type": "display_data"
    }
   ],
   "source": [
    "#посторим диаграмму рассеивания для оценок пользователей и количества продаж\n",
    "popular_platform.plot(x='critic_score', y='total_sales', kind='scatter')\n",
    "plt.xlim(0, 100)\n",
    "plt.ylim(0, 10)\n",
    "plt.title('Диаграмма рассеяния для продаж и оценок пользователей ' )\n",
    "plt.xlabel('Оценки критиков')\n",
    "plt.ylabel('Количество продаж (млн.)')"
   ]
  },
  {
   "cell_type": "code",
   "execution_count": 33,
   "id": "1f35a4d1",
   "metadata": {},
   "outputs": [
    {
     "name": "stdout",
     "output_type": "stream",
     "text": [
      "-0.040131589472697356\n",
      "0.40266141068104083\n"
     ]
    }
   ],
   "source": [
    "#рассчитаем коэф-т Пирсона между продажами и оценками пользователей и критиков\n",
    "print(popular_platform['total_sales'].corr(popular_platform['user_score']))\n",
    "print(popular_platform['total_sales'].corr(popular_platform['critic_score']))"
   ]
  },
  {
   "cell_type": "markdown",
   "id": "3b84401d",
   "metadata": {},
   "source": [
    "Диаграммы рассеяния и коэ-фт Пирсона показывают, что зависимость слабая. Для оценок критиков корелляция сильнее."
   ]
  },
  {
   "cell_type": "markdown",
   "id": "dc08ff79",
   "metadata": {},
   "source": [
    "Проделаем такую же работу для **XOne**"
   ]
  },
  {
   "cell_type": "code",
   "execution_count": 34,
   "id": "c39033f6",
   "metadata": {},
   "outputs": [],
   "source": [
    "#отфильтруем данные по платформе ps4\n",
    "popular_platform = recent_data.query('platform == \"XOne\"') "
   ]
  },
  {
   "cell_type": "code",
   "execution_count": 35,
   "id": "dfb5a3d0",
   "metadata": {},
   "outputs": [
    {
     "data": {
      "text/plain": [
       "Text(0, 0.5, 'Количество продаж (млн.)')"
      ]
     },
     "execution_count": 35,
     "metadata": {},
     "output_type": "execute_result"
    },
    {
     "data": {
      "image/png": "[encoded data removed]",
      "text/plain": [
       "<Figure size 432x288 with 1 Axes>"
      ]
     },
     "metadata": {
      "needs_background": "light"
     },
     "output_type": "display_data"
    }
   ],
   "source": [
    "#посторим диаграмму рассеивания для оценок пользователей и количества продаж\n",
    "popular_platform.plot(x='user_score', y='total_sales', kind='scatter')\n",
    "plt.xlim(0, 10)\n",
    "plt.ylim(0, 10)\n",
    "plt.title('Диаграмма рассеяния для продаж и оценок пользователей ' )\n",
    "plt.xlabel('Оценки пользователей')\n",
    "plt.ylabel('Количество продаж (млн.)')"
   ]
  },
  {
   "cell_type": "code",
   "execution_count": 36,
   "id": "17793c41",
   "metadata": {},
   "outputs": [
    {
     "data": {
      "text/plain": [
       "Text(0, 0.5, 'Количество продаж (млн.)')"
      ]
     },
     "execution_count": 36,
     "metadata": {},
     "output_type": "execute_result"
    },
    {
     "data": {
      "image/png": "[encoded data removed]",
      "text/plain": [
       "<Figure size 432x288 with 1 Axes>"
      ]
     },
     "metadata": {
      "needs_background": "light"
     },
     "output_type": "display_data"
    }
   ],
   "source": [
    "#посторим диаграмму рассеивания для оценок пользователей и количества продаж\n",
    "popular_platform.plot(x='critic_score', y='total_sales', kind='scatter')\n",
    "plt.xlim(0, 100)\n",
    "plt.ylim(0, 10)\n",
    "plt.title('Диаграмма рассеяния для продаж и оценок пользователей ' )\n",
    "plt.xlabel('Оценки критиков')\n",
    "plt.ylabel('Количество продаж (млн.)')"
   ]
  },
  {
   "cell_type": "code",
   "execution_count": 37,
   "id": "ba10db04",
   "metadata": {},
   "outputs": [
    {
     "name": "stdout",
     "output_type": "stream",
     "text": [
      "-0.0703839280647581\n",
      "0.42867694370333226\n"
     ]
    }
   ],
   "source": [
    "#рассчитаем коэф-т Пирсона между продажами и оценками пользователей и критиков\n",
    "print(popular_platform['total_sales'].corr(popular_platform['user_score']))\n",
    "print(popular_platform['total_sales'].corr(popular_platform['critic_score']))"
   ]
  },
  {
   "cell_type": "markdown",
   "id": "6434acbd",
   "metadata": {},
   "source": [
    "Результат почти такой же. Диаграммы рассеяния и коэ-фт Пирсона показывают, что зависимость слабая. Для оценок критиков корелляция сильнее."
   ]
  },
  {
   "cell_type": "markdown",
   "id": "e50cee7f",
   "metadata": {},
   "source": [
    "### Общее распределение игр по жанрам"
   ]
  },
  {
   "cell_type": "markdown",
   "id": "e6d0d0af",
   "metadata": {},
   "source": [
    "Определим наиболее и наимее популярные жанры по продажам."
   ]
  },
  {
   "cell_type": "code",
   "execution_count": 38,
   "id": "4c0f7b5f",
   "metadata": {},
   "outputs": [
    {
     "data": {
      "text/plain": [
       "Text(0, 0.5, 'Количество продаж (млн.)')"
      ]
     },
     "execution_count": 38,
     "metadata": {},
     "output_type": "execute_result"
    },
    {
     "data": {
      "image/png": "[encoded data removed]",
      "text/plain": [
       "<Figure size 432x288 with 1 Axes>"
      ]
     },
     "metadata": {
      "needs_background": "light"
     },
     "output_type": "display_data"
    }
   ],
   "source": [
    "#сгруппируем данные по жанру и построим диаграмму\n",
    "recent_data.pivot_table(index='genre', values='total_sales').plot(kind='bar')\n",
    "plt.title('Распределение продаж по жанрам' )\n",
    "plt.xlabel('Жанр')\n",
    "plt.ylabel('Количество продаж (млн.)')"
   ]
  },
  {
   "cell_type": "markdown",
   "id": "4d394541",
   "metadata": {},
   "source": [
    "- Самый популярный жанр: `Shooter`. Он сильно выделяется на фоне остальных\n",
    "- Также популярен жанры `Sports`\n",
    "- Самые непопулряные: `Strategy` и `Adventure`"
   ]
  },
  {
   "cell_type": "markdown",
   "id": "8c9c3e64",
   "metadata": {},
   "source": [
    "## Портрет пользователя каждого региона"
   ]
  },
  {
   "cell_type": "markdown",
   "id": "cc697b26",
   "metadata": {},
   "source": [
    "### Топ-5 платформ в каждом регионе"
   ]
  },
  {
   "cell_type": "code",
   "execution_count": 39,
   "id": "c38ea6b2",
   "metadata": {},
   "outputs": [
    {
     "data": {
      "text/plain": [
       "Text(0, 0.5, 'Доля продаж')"
      ]
     },
     "execution_count": 39,
     "metadata": {},
     "output_type": "execute_result"
    },
    {
     "data": {
      "image/png": "[encoded data removed]",
      "text/plain": [
       "<Figure size 432x288 with 1 Axes>"
      ]
     },
     "metadata": {
      "needs_background": "light"
     },
     "output_type": "display_data"
    }
   ],
   "source": [
    "#созданим сводную таблицу\n",
    "top = recent_data.pivot_table(\n",
    "    index='platform', values='na_sales', aggfunc='sum').sort_values(by='na_sales', ascending=False).head(5)\n",
    "top.columns = ['sales']\n",
    "\n",
    "#построим столбчатую диаграмму для наглядности\n",
    "top.plot(y='sales',kind='bar')\n",
    "plt.title('Топ-5 платформ Северной Америки' )\n",
    "plt.ylabel('Доля продаж')"
   ]
  },
  {
   "cell_type": "code",
   "execution_count": 40,
   "id": "6decb365",
   "metadata": {},
   "outputs": [
    {
     "data": {
      "text/plain": [
       "Text(0, 0.5, 'Доля продаж')"
      ]
     },
     "execution_count": 40,
     "metadata": {},
     "output_type": "execute_result"
    },
    {
     "data": {
      "image/png": "[encoded data removed]",
      "text/plain": [
       "<Figure size 432x288 with 1 Axes>"
      ]
     },
     "metadata": {
      "needs_background": "light"
     },
     "output_type": "display_data"
    }
   ],
   "source": [
    "#созданим сводную таблицу\n",
    "top = recent_data.pivot_table(\n",
    "    index='platform', values='eu_sales', aggfunc='sum').sort_values(by='eu_sales', ascending=False).head(5)\n",
    "top.columns = ['sales']\n",
    "\n",
    "#построим столбчатую диаграмму для наглядности\n",
    "top.plot(y='sales',kind='bar')\n",
    "plt.title('Топ-5 платформ Европы' )\n",
    "plt.ylabel('Доля продаж')"
   ]
  },
  {
   "cell_type": "code",
   "execution_count": 41,
   "id": "77defb7d",
   "metadata": {
    "scrolled": true
   },
   "outputs": [
    {
     "data": {
      "text/plain": [
       "Text(0, 0.5, 'Доля продаж')"
      ]
     },
     "execution_count": 41,
     "metadata": {},
     "output_type": "execute_result"
    },
    {
     "data": {
      "image/png": "[encoded data removed]",
      "text/plain": [
       "<Figure size 432x288 with 1 Axes>"
      ]
     },
     "metadata": {
      "needs_background": "light"
     },
     "output_type": "display_data"
    }
   ],
   "source": [
    "#созданим сводную таблицу\n",
    "top = recent_data.pivot_table(\n",
    "    index='platform', values='jp_sales', aggfunc='sum').sort_values(by='jp_sales', ascending=False).head(5)\n",
    "top.columns = ['sales']\n",
    "\n",
    "#построим столбчатую диаграмму для наглядности\n",
    "top.plot(y='sales',kind='bar')\n",
    "plt.title('Топ-5 платформ Японии' )\n",
    "plt.ylabel('Доля продаж')"
   ]
  },
  {
   "cell_type": "markdown",
   "id": "9074786d",
   "metadata": {},
   "source": [
    "Результаты показали: cамая популярная платформа в Северной Америке и Европе PS4, в Японии -3DS (Nintendo). \n",
    "Это может быть обусловлено следующими факторами: \n",
    "1. Для PS4 выпускается больше популярных игр и они хорошо реламируются.\n",
    "2. В Японии локальный рынок игр и локальные тренды, под них лучше подтстраивается Nintendo. "
   ]
  },
  {
   "cell_type": "markdown",
   "id": "82f712da",
   "metadata": {},
   "source": [
    "### Топ-5 жанров в каждом регионе"
   ]
  },
  {
   "cell_type": "code",
   "execution_count": 42,
   "id": "9afae1cd",
   "metadata": {
    "scrolled": true
   },
   "outputs": [
    {
     "data": {
      "text/plain": [
       "Text(0, 0.5, 'Доля продаж')"
      ]
     },
     "execution_count": 42,
     "metadata": {},
     "output_type": "execute_result"
    },
    {
     "data": {
      "image/png": "[encoded data removed]",
      "text/plain": [
       "<Figure size 432x288 with 1 Axes>"
      ]
     },
     "metadata": {
      "needs_background": "light"
     },
     "output_type": "display_data"
    }
   ],
   "source": [
    "#созданим сводную таблицу\n",
    "top = recent_data.pivot_table(\n",
    "    index='genre', values='na_sales', aggfunc='sum').sort_values(by='na_sales', ascending=False).head(5)\n",
    "top.columns = ['sales']\n",
    "\n",
    "#построим столбчатую диаграмму для наглядности\n",
    "top.plot(y='sales',kind='bar')\n",
    "plt.title('Топ-5 жанров Северной Америки' )\n",
    "plt.ylabel('Доля продаж')"
   ]
  },
  {
   "cell_type": "code",
   "execution_count": 43,
   "id": "cd438b84",
   "metadata": {},
   "outputs": [
    {
     "data": {
      "text/plain": [
       "Text(0, 0.5, 'Доля продаж')"
      ]
     },
     "execution_count": 43,
     "metadata": {},
     "output_type": "execute_result"
    },
    {
     "data": {
      "image/png": "[encoded data removed]",
      "text/plain": [
       "<Figure size 432x288 with 1 Axes>"
      ]
     },
     "metadata": {
      "needs_background": "light"
     },
     "output_type": "display_data"
    }
   ],
   "source": [
    "#созданим сводную таблицу\n",
    "top = recent_data.pivot_table(\n",
    "    index='genre', values='eu_sales', aggfunc='sum').sort_values(by='eu_sales', ascending=False).head(5)\n",
    "top.columns = ['sales']\n",
    "\n",
    "#построим столбчатую диаграмму для наглядности\n",
    "top.plot(y='sales',kind='bar')\n",
    "plt.title('Топ-5 жанров Европы' )\n",
    "plt.ylabel('Доля продаж')"
   ]
  },
  {
   "cell_type": "code",
   "execution_count": 44,
   "id": "a958a303",
   "metadata": {},
   "outputs": [
    {
     "data": {
      "text/plain": [
       "Text(0, 0.5, 'Доля продаж')"
      ]
     },
     "execution_count": 44,
     "metadata": {},
     "output_type": "execute_result"
    },
    {
     "data": {
      "image/png": "[encoded data removed]",
      "text/plain": [
       "<Figure size 432x288 with 1 Axes>"
      ]
     },
     "metadata": {
      "needs_background": "light"
     },
     "output_type": "display_data"
    }
   ],
   "source": [
    "#созданим сводную таблицу\n",
    "top = recent_data.pivot_table(\n",
    "    index='genre', values='jp_sales', aggfunc='sum').sort_values(by='jp_sales', ascending=False).head(5)\n",
    "top.columns = ['sales']\n",
    "\n",
    "#построим столбчатую диаграмму для наглядности\n",
    "top.plot(y='sales',kind='bar')\n",
    "plt.title('Топ-5 жанров Японии' )\n",
    "plt.ylabel('Доля продаж')"
   ]
  },
  {
   "cell_type": "markdown",
   "id": "90c3dfd3",
   "metadata": {},
   "source": [
    "Популярные жанры в США и Европе почти не отличаются. Лидируют `Shooter`, `Action`, `Sports`, `Role-Playing`.  \n",
    "Однако в Японии лидирует `Role-Playing`. Это может объясняться популярностью игр-новелл и других локальных RPG в Японии. "
   ]
  },
  {
   "cell_type": "markdown",
   "id": "30707952",
   "metadata": {},
   "source": [
    "### Влияет ли рейтинг ESRB на продажи в отдельном регионе"
   ]
  },
  {
   "cell_type": "markdown",
   "id": "0fc0d761",
   "metadata": {},
   "source": [
    "Для каждого региона сгруппируем данные по рейтингу и посчитаем среднее количество продаж. "
   ]
  },
  {
   "cell_type": "code",
   "execution_count": 45,
   "id": "3f4fa981",
   "metadata": {},
   "outputs": [
    {
     "data": {
      "text/plain": [
       "Text(0.5, 0, 'Рейтинг')"
      ]
     },
     "execution_count": 45,
     "metadata": {},
     "output_type": "execute_result"
    },
    {
     "data": {
      "image/png": "[encoded data removed]",
      "text/plain": [
       "<Figure size 432x288 with 1 Axes>"
      ]
     },
     "metadata": {
      "needs_background": "light"
     },
     "output_type": "display_data"
    }
   ],
   "source": [
    "#созданим сводную таблицу\n",
    "top = recent_data.pivot_table(index='rating', values='na_sales').sort_values(by='na_sales', ascending=False)\n",
    "top.columns = ['sales']\n",
    "#построим столбчатую диаграмму для наглядности\n",
    "top.plot(y='sales',kind='bar')\n",
    "plt.title('Среднее по прожадам в зависимости от рейтинга игры в Северной Америке')\n",
    "plt.ylabel('Среднее по продажам')\n",
    "plt.xlabel('Рейтинг')"
   ]
  },
  {
   "cell_type": "code",
   "execution_count": 46,
   "id": "9c770cd2",
   "metadata": {},
   "outputs": [
    {
     "data": {
      "text/plain": [
       "Text(0.5, 0, 'Рейтинг')"
      ]
     },
     "execution_count": 46,
     "metadata": {},
     "output_type": "execute_result"
    },
    {
     "data": {
      "image/png": "[encoded data removed]",
      "text/plain": [
       "<Figure size 432x288 with 1 Axes>"
      ]
     },
     "metadata": {
      "needs_background": "light"
     },
     "output_type": "display_data"
    }
   ],
   "source": [
    "#созданим сводную таблицу\n",
    "top = recent_data.pivot_table(index='rating', values='eu_sales').sort_values(by='eu_sales', ascending=False)\n",
    "top.columns = ['sales']\n",
    "#построим столбчатую диаграмму для наглядности\n",
    "top.plot(y='sales',kind='bar')\n",
    "plt.title('Среднее по прожадам в зависимости от рейтинга игры в Европе')\n",
    "plt.ylabel('Среднее по продажам')\n",
    "plt.xlabel('Рейтинг')"
   ]
  },
  {
   "cell_type": "code",
   "execution_count": 47,
   "id": "aef21112",
   "metadata": {},
   "outputs": [
    {
     "data": {
      "text/plain": [
       "Text(0.5, 0, 'Рейтинг')"
      ]
     },
     "execution_count": 47,
     "metadata": {},
     "output_type": "execute_result"
    },
    {
     "data": {
      "image/png": "[encoded data removed]",
      "text/plain": [
       "<Figure size 432x288 with 1 Axes>"
      ]
     },
     "metadata": {
      "needs_background": "light"
     },
     "output_type": "display_data"
    }
   ],
   "source": [
    "#созданим сводную таблицу\n",
    "top = recent_data.pivot_table(index='rating', values='jp_sales').sort_values(by='jp_sales', ascending=False)\n",
    "top.columns = ['sales']\n",
    "#построим столбчатую диаграмму для наглядности\n",
    "top.plot(y='sales',kind='bar')\n",
    "plt.title('Среднее по прожадам в зависимости от рейтинга игры в Японии')\n",
    "plt.ylabel('Среднее по продажам')\n",
    "plt.xlabel('Рейтинг')"
   ]
  },
  {
   "cell_type": "markdown",
   "id": "f36227de",
   "metadata": {},
   "source": [
    "- В Северной Америке и Европе лучше продаются игры с рейтингом М (mature). Это может быть связано с полулярностью шутеров и экшн-игр. \n",
    "- В Японии лидируют игры без рейтинга.  ESRB - это американская система рейтинга. В Японии используюется другая системы, поэтому большинство игр, продаваемых в японии не имеют рейтига ESRB"
   ]
  },
  {
   "cell_type": "markdown",
   "id": "106f3843",
   "metadata": {},
   "source": [
    "## Проверка гипотез"
   ]
  },
  {
   "cell_type": "markdown",
   "id": "85f13968",
   "metadata": {},
   "source": [
    "### Средние пользовательские рейтинги платформ Xbox One и PC одинаковые"
   ]
  },
  {
   "cell_type": "markdown",
   "id": "d51ac7c3",
   "metadata": {},
   "source": [
    "Сформулируем гипотезы:  \n",
    "**H0:** Средние пользовательские рейтинги платформ Xbox One и PC одинаковые  \n",
    "**H1:** Средние пользовательские рейтинги платформ Xbox One и PC отличаются"
   ]
  },
  {
   "cell_type": "code",
   "execution_count": 48,
   "id": "cd4dd322",
   "metadata": {},
   "outputs": [],
   "source": [
    "#Зададим пороговое значение\n",
    "alpha = .05"
   ]
  },
  {
   "cell_type": "code",
   "execution_count": 51,
   "id": "2ac3beb3",
   "metadata": {},
   "outputs": [
    {
     "name": "stdout",
     "output_type": "stream",
     "text": [
      "pvalue: 0.11601398086668827\n",
      "Не отвергаем нулевую гипотезу \n"
     ]
    }
   ],
   "source": [
    "#Выполняем t-тест. В качестве аргументов возьмем пользовательские рейтинги для соответсвующих платформ\n",
    "#Используем метод ttest_ind(), так как выборки незхависмые.\n",
    "results = st.ttest_ind(\n",
    "    recent_data.query('platform == \"XOne\" and user_score.notna()', engine='python')['user_score'], \n",
    "    recent_data.query('platform == \"PC\" and user_score.notna()', engine='python')['user_score'], \n",
    "    equal_var=False)\n",
    "\n",
    "#Выводим pvalue\n",
    "print('pvalue:', results.pvalue)\n",
    "\n",
    "#Проверяем \n",
    "if results.pvalue < alpha:\n",
    "    print(\"Отвергаем нулевую гипотезу\")\n",
    "else:\n",
    "    print(\"Не отвергаем нулевую гипотезу \") "
   ]
  },
  {
   "cell_type": "markdown",
   "id": "e7b04c62",
   "metadata": {},
   "source": [
    "Нулевая гипотеза не опровергнута. Вероятность получить равное значение  > 5%. **У нас нет оснований утверждать, что средние пользовательские рейтинги платформ Xbox One и PC значимо различаются**"
   ]
  },
  {
   "cell_type": "markdown",
   "id": "20cf6f38",
   "metadata": {},
   "source": [
    "### Средние пользовательские рейтинги жанров Action и Sports разные"
   ]
  },
  {
   "cell_type": "markdown",
   "id": "336b91c3",
   "metadata": {},
   "source": [
    "Сформулируем гипотезы:  \n",
    "**H0:** Средние пользовательские рейтинги жанров Action и Sports одинаковые  \n",
    "**H1:** Средние пользовательские рейтинги жанров Action и Sports разные"
   ]
  },
  {
   "cell_type": "code",
   "execution_count": 52,
   "id": "1ddd74c7",
   "metadata": {},
   "outputs": [],
   "source": [
    "#Зададим пороговое значение\n",
    "alpha = .05"
   ]
  },
  {
   "cell_type": "code",
   "execution_count": 54,
   "id": "c50a86e3",
   "metadata": {},
   "outputs": [
    {
     "name": "stdout",
     "output_type": "stream",
     "text": [
      "pvalue: 1.1825550382644557e-14\n",
      "Отвергаем нулевую гипотезу\n"
     ]
    }
   ],
   "source": [
    "#Выполняем t-тест.  В качестве аргументов возьмем пользовательские рейтинги для соответсвующих жанров\n",
    "#Используем метод ttest_ind(), так как выборки незхависмые.\n",
    "results = st.ttest_ind(\n",
    "    recent_data.query('genre == \"Action\" and user_score.notna()', engine='python')['user_score'], \n",
    "    recent_data.query('genre == \"Sports\" and user_score.notna()', engine='python')['user_score'], \n",
    "    equal_var=False)\n",
    "\n",
    "#Выводим pvalue\n",
    "print('pvalue:', results.pvalue)\n",
    "\n",
    "#Проверяем \n",
    "if results.pvalue < alpha:\n",
    "    print(\"Отвергаем нулевую гипотезу\")\n",
    "else:\n",
    "    print(\"Не отвергаем нулевую гипотезу \") "
   ]
  },
  {
   "cell_type": "markdown",
   "id": "80a18dbc",
   "metadata": {},
   "source": [
    "Нулевая гипотеза не подтвердилась. Вероятность получить равное значение почти 0. Гипотеза говорит о том, что  **средние пользовательские рейтинги жанров Action и Sports отличаются**"
   ]
  },
  {
   "cell_type": "markdown",
   "id": "7335beb8",
   "metadata": {},
   "source": [
    "## Вывод"
   ]
  },
  {
   "cell_type": "markdown",
   "id": "13aad1fd",
   "metadata": {},
   "source": [
    "В ходе иссдедования были выявлены следующие критерии, определяющие успешность игры: \n",
    "\n",
    "1. **Регион** - необходимо учитывать в каком регионе планируется продавать игру. В заивисимости региона, могут изменяться предпочтения пользователей по платформе и жанру. Например тренды в Японии отличаются от Северной Америки и Европы.\n",
    "1. **Платформа** - после того, как определили регион распространения игры, необходимо выбрать платформу, популярную в этом регионе. При этом следует сделать ставку на перспективные платформы: на конец 2016г это были `PS4` и `XOne`.\n",
    "1. **Жанр** - жанры `Shooter`, `Action` и `Role-Playing` входят в топ-5 по во всех регионах. Однако для определения самого популряного жанра, необходимо снова обратить внимание на регион. Например в Евроме и Северной Америке популярнее шутреры, в Японии - рпг.\n",
    " \n",
    "Данные критерии являются необходимыми, но могут не являться достаточными. Однако на них стоит ориентироваться в первую очередь."
   ]
  }
 ],
 "metadata": {
  "ExecuteTimeLog": [
   {
    "duration": 1064,
    "start_time": "2022-06-09T10:33:19.313Z"
   },
   {
    "duration": 94,
    "start_time": "2022-06-09T10:33:20.379Z"
   },
   {
    "duration": 5,
    "start_time": "2022-06-09T10:33:20.475Z"
   },
   {
    "duration": 12,
    "start_time": "2022-06-09T10:33:20.482Z"
   },
   {
    "duration": 21,
    "start_time": "2022-06-09T10:33:20.495Z"
   },
   {
    "duration": 33,
    "start_time": "2022-06-09T10:33:20.518Z"
   },
   {
    "duration": 12,
    "start_time": "2022-06-09T10:33:20.553Z"
   },
   {
    "duration": 6,
    "start_time": "2022-06-09T10:33:20.567Z"
   },
   {
    "duration": 28,
    "start_time": "2022-06-09T10:33:20.575Z"
   },
   {
    "duration": 8,
    "start_time": "2022-06-09T10:33:20.605Z"
   },
   {
    "duration": 232,
    "start_time": "2022-06-09T10:33:20.615Z"
   },
   {
    "duration": 22,
    "start_time": "2022-06-09T10:33:20.849Z"
   },
   {
    "duration": 958,
    "start_time": "2022-06-09T10:33:20.872Z"
   },
   {
    "duration": 10,
    "start_time": "2022-06-09T10:33:21.832Z"
   },
   {
    "duration": 290,
    "start_time": "2022-06-09T10:33:21.844Z"
   },
   {
    "duration": 4,
    "start_time": "2022-06-09T10:33:22.136Z"
   },
   {
    "duration": 368,
    "start_time": "2022-06-09T10:33:22.142Z"
   },
   {
    "duration": 144,
    "start_time": "2022-06-09T10:33:22.512Z"
   },
   {
    "duration": 6,
    "start_time": "2022-06-09T10:33:22.657Z"
   },
   {
    "duration": 150,
    "start_time": "2022-06-09T10:33:22.664Z"
   },
   {
    "duration": 232,
    "start_time": "2022-06-09T10:33:22.816Z"
   },
   {
    "duration": 12,
    "start_time": "2022-06-09T10:33:23.050Z"
   },
   {
    "duration": 21,
    "start_time": "2022-06-09T10:33:23.064Z"
   },
   {
    "duration": 149,
    "start_time": "2022-06-09T10:33:23.087Z"
   },
   {
    "duration": 157,
    "start_time": "2022-06-09T10:33:23.239Z"
   },
   {
    "duration": 5,
    "start_time": "2022-06-09T10:33:23.398Z"
   },
   {
    "duration": 202,
    "start_time": "2022-06-09T10:33:23.405Z"
   },
   {
    "duration": 206,
    "start_time": "2022-06-09T10:33:23.611Z"
   },
   {
    "duration": 176,
    "start_time": "2022-06-09T10:33:23.819Z"
   },
   {
    "duration": 186,
    "start_time": "2022-06-09T10:33:23.997Z"
   },
   {
    "duration": 196,
    "start_time": "2022-06-09T10:33:24.185Z"
   },
   {
    "duration": 202,
    "start_time": "2022-06-09T10:33:24.383Z"
   },
   {
    "duration": 191,
    "start_time": "2022-06-09T10:33:24.587Z"
   },
   {
    "duration": 177,
    "start_time": "2022-06-09T10:33:24.780Z"
   },
   {
    "duration": 178,
    "start_time": "2022-06-09T10:33:24.959Z"
   },
   {
    "duration": 164,
    "start_time": "2022-06-09T10:33:25.138Z"
   },
   {
    "duration": 2,
    "start_time": "2022-06-09T10:33:25.304Z"
   },
   {
    "duration": 30,
    "start_time": "2022-06-09T10:33:25.308Z"
   },
   {
    "duration": 12,
    "start_time": "2022-06-09T10:33:25.339Z"
   },
   {
    "duration": 15,
    "start_time": "2022-06-09T10:33:25.354Z"
   },
   {
    "duration": 1287,
    "start_time": "2022-06-09T13:53:50.152Z"
   },
   {
    "duration": 210,
    "start_time": "2022-06-09T13:53:51.441Z"
   },
   {
    "duration": 5,
    "start_time": "2022-06-09T13:53:51.653Z"
   },
   {
    "duration": 5,
    "start_time": "2022-06-09T13:53:51.661Z"
   },
   {
    "duration": 9,
    "start_time": "2022-06-09T13:53:51.667Z"
   },
   {
    "duration": 28,
    "start_time": "2022-06-09T13:53:51.677Z"
   },
   {
    "duration": 11,
    "start_time": "2022-06-09T13:53:51.707Z"
   },
   {
    "duration": 3,
    "start_time": "2022-06-09T13:53:51.720Z"
   },
   {
    "duration": 19,
    "start_time": "2022-06-09T13:53:51.725Z"
   },
   {
    "duration": 4,
    "start_time": "2022-06-09T13:53:51.746Z"
   },
   {
    "duration": 207,
    "start_time": "2022-06-09T13:53:51.752Z"
   },
   {
    "duration": 16,
    "start_time": "2022-06-09T13:53:51.961Z"
   },
   {
    "duration": 835,
    "start_time": "2022-06-09T13:53:51.978Z"
   },
   {
    "duration": 6,
    "start_time": "2022-06-09T13:53:52.815Z"
   },
   {
    "duration": 185,
    "start_time": "2022-06-09T13:53:52.823Z"
   },
   {
    "duration": 4,
    "start_time": "2022-06-09T13:53:53.010Z"
   },
   {
    "duration": 310,
    "start_time": "2022-06-09T13:53:53.015Z"
   },
   {
    "duration": 120,
    "start_time": "2022-06-09T13:53:53.326Z"
   },
   {
    "duration": 7,
    "start_time": "2022-06-09T13:53:53.447Z"
   },
   {
    "duration": 27,
    "start_time": "2022-06-09T13:53:53.455Z"
   },
   {
    "duration": 55,
    "start_time": "2022-06-09T14:22:16.028Z"
   },
   {
    "duration": 29,
    "start_time": "2022-06-09T14:29:23.195Z"
   },
   {
    "duration": 34,
    "start_time": "2022-06-09T14:31:00.834Z"
   },
   {
    "duration": 1314,
    "start_time": "2022-06-09T14:35:06.873Z"
   },
   {
    "duration": 212,
    "start_time": "2022-06-09T14:35:08.189Z"
   },
   {
    "duration": 5,
    "start_time": "2022-06-09T14:35:08.403Z"
   },
   {
    "duration": 20,
    "start_time": "2022-06-09T14:35:08.410Z"
   },
   {
    "duration": 8,
    "start_time": "2022-06-09T14:35:08.432Z"
   },
   {
    "duration": 30,
    "start_time": "2022-06-09T14:35:08.441Z"
   },
   {
    "duration": 14,
    "start_time": "2022-06-09T14:35:08.473Z"
   },
   {
    "duration": 6,
    "start_time": "2022-06-09T14:35:08.488Z"
   },
   {
    "duration": 8,
    "start_time": "2022-06-09T14:35:08.496Z"
   },
   {
    "duration": 15,
    "start_time": "2022-06-09T14:35:08.506Z"
   },
   {
    "duration": 120,
    "start_time": "2022-06-09T14:35:10.925Z"
   },
   {
    "duration": 6,
    "start_time": "2022-06-09T14:35:33.815Z"
   },
   {
    "duration": 6,
    "start_time": "2022-06-09T14:35:36.963Z"
   },
   {
    "duration": 10,
    "start_time": "2022-06-09T14:57:54.950Z"
   },
   {
    "duration": 4,
    "start_time": "2022-06-09T14:58:03.062Z"
   },
   {
    "duration": 103,
    "start_time": "2022-06-09T14:58:03.075Z"
   },
   {
    "duration": 5,
    "start_time": "2022-06-09T14:58:03.180Z"
   },
   {
    "duration": 6,
    "start_time": "2022-06-09T14:58:03.187Z"
   },
   {
    "duration": 7,
    "start_time": "2022-06-09T14:58:03.195Z"
   },
   {
    "duration": 27,
    "start_time": "2022-06-09T14:58:03.204Z"
   },
   {
    "duration": 35,
    "start_time": "2022-06-09T14:58:03.233Z"
   },
   {
    "duration": 5,
    "start_time": "2022-06-09T14:58:03.270Z"
   },
   {
    "duration": 5,
    "start_time": "2022-06-09T14:58:03.277Z"
   },
   {
    "duration": 17,
    "start_time": "2022-06-09T14:58:03.284Z"
   },
   {
    "duration": 5,
    "start_time": "2022-06-09T14:58:03.303Z"
   },
   {
    "duration": 321,
    "start_time": "2022-06-09T14:58:03.310Z"
   },
   {
    "duration": 18,
    "start_time": "2022-06-09T14:58:03.633Z"
   },
   {
    "duration": 10,
    "start_time": "2022-06-09T14:58:06.101Z"
   },
   {
    "duration": 28,
    "start_time": "2022-06-09T14:58:28.293Z"
   },
   {
    "duration": 486,
    "start_time": "2022-06-09T14:59:04.337Z"
   },
   {
    "duration": 5,
    "start_time": "2022-06-09T14:59:43.747Z"
   },
   {
    "duration": 6,
    "start_time": "2022-06-09T15:00:10.411Z"
   },
   {
    "duration": 6,
    "start_time": "2022-06-09T15:00:29.665Z"
   },
   {
    "duration": 5,
    "start_time": "2022-06-09T15:01:04.043Z"
   },
   {
    "duration": 5,
    "start_time": "2022-06-09T15:02:18.102Z"
   },
   {
    "duration": 4,
    "start_time": "2022-06-09T15:03:14.109Z"
   },
   {
    "duration": 8,
    "start_time": "2022-06-09T15:04:13.930Z"
   },
   {
    "duration": 8,
    "start_time": "2022-06-09T15:09:36.812Z"
   },
   {
    "duration": 4,
    "start_time": "2022-06-09T15:11:08.956Z"
   },
   {
    "duration": 280,
    "start_time": "2022-06-09T15:12:19.224Z"
   },
   {
    "duration": 253,
    "start_time": "2022-06-09T15:12:56.266Z"
   },
   {
    "duration": 460,
    "start_time": "2022-06-09T15:15:16.820Z"
   },
   {
    "duration": 11,
    "start_time": "2022-06-09T15:15:36.700Z"
   },
   {
    "duration": 1077,
    "start_time": "2022-06-09T15:16:35.404Z"
   },
   {
    "duration": 9,
    "start_time": "2022-06-09T15:17:14.320Z"
   },
   {
    "duration": 402,
    "start_time": "2022-06-09T15:17:18.782Z"
   },
   {
    "duration": 49,
    "start_time": "2022-06-09T15:18:28.258Z"
   },
   {
    "duration": 1312,
    "start_time": "2022-06-10T09:19:39.058Z"
   },
   {
    "duration": 649,
    "start_time": "2022-06-10T09:19:40.372Z"
   },
   {
    "duration": 34,
    "start_time": "2022-06-10T09:19:41.024Z"
   },
   {
    "duration": 14,
    "start_time": "2022-06-10T09:19:41.061Z"
   },
   {
    "duration": 6,
    "start_time": "2022-06-10T09:19:49.314Z"
   },
   {
    "duration": 101,
    "start_time": "2022-06-10T09:32:06.875Z"
   },
   {
    "duration": 3,
    "start_time": "2022-06-10T09:32:11.617Z"
   },
   {
    "duration": 78,
    "start_time": "2022-06-10T09:32:11.622Z"
   },
   {
    "duration": 26,
    "start_time": "2022-06-10T09:32:11.701Z"
   },
   {
    "duration": 18,
    "start_time": "2022-06-10T09:32:11.729Z"
   },
   {
    "duration": 5,
    "start_time": "2022-06-10T09:32:11.750Z"
   },
   {
    "duration": 15,
    "start_time": "2022-06-10T09:32:11.781Z"
   },
   {
    "duration": 9,
    "start_time": "2022-06-10T09:32:11.798Z"
   },
   {
    "duration": 22,
    "start_time": "2022-06-10T09:32:11.809Z"
   },
   {
    "duration": 27,
    "start_time": "2022-06-10T09:32:11.833Z"
   },
   {
    "duration": 4,
    "start_time": "2022-06-10T09:32:11.861Z"
   },
   {
    "duration": 7,
    "start_time": "2022-06-10T09:32:11.866Z"
   },
   {
    "duration": 33,
    "start_time": "2022-06-10T09:32:11.874Z"
   },
   {
    "duration": 5,
    "start_time": "2022-06-10T09:32:11.909Z"
   },
   {
    "duration": 197,
    "start_time": "2022-06-10T09:32:11.916Z"
   },
   {
    "duration": 15,
    "start_time": "2022-06-10T09:32:12.115Z"
   },
   {
    "duration": 4,
    "start_time": "2022-06-10T09:32:12.131Z"
   },
   {
    "duration": 914,
    "start_time": "2022-06-10T09:32:12.136Z"
   },
   {
    "duration": 15,
    "start_time": "2022-06-10T09:32:16.753Z"
   },
   {
    "duration": 14,
    "start_time": "2022-06-10T09:33:36.694Z"
   },
   {
    "duration": 10,
    "start_time": "2022-06-10T09:33:43.326Z"
   },
   {
    "duration": 11,
    "start_time": "2022-06-10T09:33:48.696Z"
   },
   {
    "duration": 37,
    "start_time": "2022-06-10T09:34:06.344Z"
   },
   {
    "duration": 13,
    "start_time": "2022-06-10T09:34:29.126Z"
   },
   {
    "duration": 9,
    "start_time": "2022-06-10T09:34:35.265Z"
   },
   {
    "duration": 9,
    "start_time": "2022-06-10T09:34:39.290Z"
   },
   {
    "duration": 14,
    "start_time": "2022-06-10T09:35:22.490Z"
   },
   {
    "duration": 14,
    "start_time": "2022-06-10T09:35:53.705Z"
   },
   {
    "duration": 5,
    "start_time": "2022-06-10T09:38:45.867Z"
   },
   {
    "duration": 17,
    "start_time": "2022-06-10T09:39:01.872Z"
   },
   {
    "duration": 11,
    "start_time": "2022-06-10T09:41:05.021Z"
   },
   {
    "duration": 10,
    "start_time": "2022-06-10T09:41:10.093Z"
   },
   {
    "duration": 68,
    "start_time": "2022-06-10T09:41:10.105Z"
   },
   {
    "duration": 38,
    "start_time": "2022-06-10T09:41:10.174Z"
   },
   {
    "duration": 14,
    "start_time": "2022-06-10T09:41:10.213Z"
   },
   {
    "duration": 6,
    "start_time": "2022-06-10T09:41:10.230Z"
   },
   {
    "duration": 15,
    "start_time": "2022-06-10T09:41:10.237Z"
   },
   {
    "duration": 12,
    "start_time": "2022-06-10T09:41:10.253Z"
   },
   {
    "duration": 35,
    "start_time": "2022-06-10T09:41:10.266Z"
   },
   {
    "duration": 23,
    "start_time": "2022-06-10T09:41:10.302Z"
   },
   {
    "duration": 6,
    "start_time": "2022-06-10T09:41:10.327Z"
   },
   {
    "duration": 7,
    "start_time": "2022-06-10T09:41:10.335Z"
   },
   {
    "duration": 16,
    "start_time": "2022-06-10T09:41:10.344Z"
   },
   {
    "duration": 5,
    "start_time": "2022-06-10T09:41:10.361Z"
   },
   {
    "duration": 236,
    "start_time": "2022-06-10T09:41:10.369Z"
   },
   {
    "duration": 17,
    "start_time": "2022-06-10T09:41:10.610Z"
   },
   {
    "duration": 4,
    "start_time": "2022-06-10T09:41:10.628Z"
   },
   {
    "duration": 977,
    "start_time": "2022-06-10T09:41:10.634Z"
   },
   {
    "duration": 20,
    "start_time": "2022-06-10T09:41:11.613Z"
   },
   {
    "duration": 5,
    "start_time": "2022-06-10T09:41:11.636Z"
   },
   {
    "duration": 9,
    "start_time": "2022-06-10T09:41:11.642Z"
   },
   {
    "duration": 233,
    "start_time": "2022-06-10T09:41:13.065Z"
   },
   {
    "duration": 39,
    "start_time": "2022-06-10T09:43:20.194Z"
   },
   {
    "duration": 3,
    "start_time": "2022-06-10T09:43:36.516Z"
   },
   {
    "duration": 74,
    "start_time": "2022-06-10T09:43:36.521Z"
   },
   {
    "duration": 47,
    "start_time": "2022-06-10T09:43:36.600Z"
   },
   {
    "duration": 13,
    "start_time": "2022-06-10T09:43:36.649Z"
   },
   {
    "duration": 5,
    "start_time": "2022-06-10T09:43:36.664Z"
   },
   {
    "duration": 13,
    "start_time": "2022-06-10T09:43:36.670Z"
   },
   {
    "duration": 30,
    "start_time": "2022-06-10T09:43:36.688Z"
   },
   {
    "duration": 22,
    "start_time": "2022-06-10T09:43:36.720Z"
   },
   {
    "duration": 11,
    "start_time": "2022-06-10T09:43:36.744Z"
   },
   {
    "duration": 3,
    "start_time": "2022-06-10T09:43:36.756Z"
   },
   {
    "duration": 4,
    "start_time": "2022-06-10T09:43:36.762Z"
   },
   {
    "duration": 26,
    "start_time": "2022-06-10T09:43:36.767Z"
   },
   {
    "duration": 20,
    "start_time": "2022-06-10T09:43:36.794Z"
   },
   {
    "duration": 215,
    "start_time": "2022-06-10T09:43:36.816Z"
   },
   {
    "duration": 15,
    "start_time": "2022-06-10T09:43:37.032Z"
   },
   {
    "duration": 5,
    "start_time": "2022-06-10T09:43:37.049Z"
   },
   {
    "duration": 1049,
    "start_time": "2022-06-10T09:43:37.056Z"
   },
   {
    "duration": 21,
    "start_time": "2022-06-10T09:43:38.109Z"
   },
   {
    "duration": 6,
    "start_time": "2022-06-10T09:43:38.132Z"
   },
   {
    "duration": 10,
    "start_time": "2022-06-10T09:43:38.140Z"
   },
   {
    "duration": 252,
    "start_time": "2022-06-10T09:43:38.152Z"
   },
   {
    "duration": 7,
    "start_time": "2022-06-10T09:43:38.405Z"
   },
   {
    "duration": 292,
    "start_time": "2022-06-10T09:43:40.246Z"
   },
   {
    "duration": 364,
    "start_time": "2022-06-10T09:44:58.120Z"
   },
   {
    "duration": 160,
    "start_time": "2022-06-10T09:50:43.470Z"
   },
   {
    "duration": 139,
    "start_time": "2022-06-10T09:51:36.422Z"
   },
   {
    "duration": 32,
    "start_time": "2022-06-10T09:52:01.741Z"
   },
   {
    "duration": 40,
    "start_time": "2022-06-10T09:54:32.155Z"
   },
   {
    "duration": 187,
    "start_time": "2022-06-10T09:55:07.821Z"
   },
   {
    "duration": 47,
    "start_time": "2022-06-10T09:55:14.009Z"
   },
   {
    "duration": 39,
    "start_time": "2022-06-10T09:55:23.822Z"
   },
   {
    "duration": 16,
    "start_time": "2022-06-10T09:55:42.704Z"
   },
   {
    "duration": 10,
    "start_time": "2022-06-10T09:55:57.233Z"
   },
   {
    "duration": 3,
    "start_time": "2022-06-10T10:02:04.221Z"
   },
   {
    "duration": 406,
    "start_time": "2022-06-10T10:02:04.225Z"
   },
   {
    "duration": 24,
    "start_time": "2022-06-10T10:02:04.633Z"
   },
   {
    "duration": 12,
    "start_time": "2022-06-10T10:02:04.658Z"
   },
   {
    "duration": 6,
    "start_time": "2022-06-10T10:02:04.673Z"
   },
   {
    "duration": 40,
    "start_time": "2022-06-10T10:02:04.682Z"
   },
   {
    "duration": 10,
    "start_time": "2022-06-10T10:02:04.723Z"
   },
   {
    "duration": 24,
    "start_time": "2022-06-10T10:02:04.734Z"
   },
   {
    "duration": 12,
    "start_time": "2022-06-10T10:02:04.759Z"
   },
   {
    "duration": 2,
    "start_time": "2022-06-10T10:02:04.772Z"
   },
   {
    "duration": 42,
    "start_time": "2022-06-10T10:02:04.777Z"
   },
   {
    "duration": 13,
    "start_time": "2022-06-10T10:02:04.820Z"
   },
   {
    "duration": 4,
    "start_time": "2022-06-10T10:02:04.834Z"
   },
   {
    "duration": 222,
    "start_time": "2022-06-10T10:02:04.840Z"
   },
   {
    "duration": 33,
    "start_time": "2022-06-10T10:02:05.063Z"
   },
   {
    "duration": 10,
    "start_time": "2022-06-10T10:02:05.097Z"
   },
   {
    "duration": 972,
    "start_time": "2022-06-10T10:02:05.109Z"
   },
   {
    "duration": 22,
    "start_time": "2022-06-10T10:02:06.082Z"
   },
   {
    "duration": 22,
    "start_time": "2022-06-10T10:02:06.106Z"
   },
   {
    "duration": 10,
    "start_time": "2022-06-10T10:02:06.130Z"
   },
   {
    "duration": 221,
    "start_time": "2022-06-10T10:02:06.142Z"
   },
   {
    "duration": 4,
    "start_time": "2022-06-10T10:02:06.365Z"
   },
   {
    "duration": 349,
    "start_time": "2022-06-10T10:02:06.371Z"
   },
   {
    "duration": 6,
    "start_time": "2022-06-10T10:02:06.724Z"
   },
   {
    "duration": 134,
    "start_time": "2022-06-10T10:02:06.732Z"
   },
   {
    "duration": 154,
    "start_time": "2022-06-10T10:02:06.867Z"
   },
   {
    "duration": 10,
    "start_time": "2022-06-10T10:02:07.023Z"
   },
   {
    "duration": 11,
    "start_time": "2022-06-10T10:02:07.035Z"
   },
   {
    "duration": 6,
    "start_time": "2022-06-10T10:02:38.500Z"
   },
   {
    "duration": 107,
    "start_time": "2022-06-10T10:02:38.508Z"
   },
   {
    "duration": 34,
    "start_time": "2022-06-10T10:02:38.621Z"
   },
   {
    "duration": 14,
    "start_time": "2022-06-10T10:02:38.657Z"
   },
   {
    "duration": 9,
    "start_time": "2022-06-10T10:02:38.679Z"
   },
   {
    "duration": 45,
    "start_time": "2022-06-10T10:02:38.689Z"
   },
   {
    "duration": 9,
    "start_time": "2022-06-10T10:02:38.736Z"
   },
   {
    "duration": 26,
    "start_time": "2022-06-10T10:02:38.747Z"
   },
   {
    "duration": 15,
    "start_time": "2022-06-10T10:02:38.775Z"
   },
   {
    "duration": 46,
    "start_time": "2022-06-10T10:02:38.791Z"
   },
   {
    "duration": 7,
    "start_time": "2022-06-10T10:02:38.839Z"
   },
   {
    "duration": 15,
    "start_time": "2022-06-10T10:02:38.848Z"
   },
   {
    "duration": 4,
    "start_time": "2022-06-10T10:02:38.866Z"
   },
   {
    "duration": 285,
    "start_time": "2022-06-10T10:02:38.872Z"
   },
   {
    "duration": 17,
    "start_time": "2022-06-10T10:02:39.159Z"
   },
   {
    "duration": 58,
    "start_time": "2022-06-10T10:02:39.178Z"
   },
   {
    "duration": 1168,
    "start_time": "2022-06-10T10:02:39.238Z"
   },
   {
    "duration": 21,
    "start_time": "2022-06-10T10:02:40.408Z"
   },
   {
    "duration": 17,
    "start_time": "2022-06-10T10:02:40.430Z"
   },
   {
    "duration": 15,
    "start_time": "2022-06-10T10:02:40.449Z"
   },
   {
    "duration": 242,
    "start_time": "2022-06-10T10:02:40.465Z"
   },
   {
    "duration": 8,
    "start_time": "2022-06-10T10:02:40.720Z"
   },
   {
    "duration": 374,
    "start_time": "2022-06-10T10:02:40.733Z"
   },
   {
    "duration": 7,
    "start_time": "2022-06-10T10:02:41.116Z"
   },
   {
    "duration": 146,
    "start_time": "2022-06-10T10:02:41.128Z"
   },
   {
    "duration": 177,
    "start_time": "2022-06-10T10:02:41.283Z"
   },
   {
    "duration": 10,
    "start_time": "2022-06-10T10:02:41.462Z"
   },
   {
    "duration": 63,
    "start_time": "2022-06-10T10:02:41.474Z"
   },
   {
    "duration": 7,
    "start_time": "2022-06-10T10:02:41.539Z"
   },
   {
    "duration": 168,
    "start_time": "2022-06-10T10:02:41.547Z"
   },
   {
    "duration": 162,
    "start_time": "2022-06-10T10:02:41.716Z"
   },
   {
    "duration": 6,
    "start_time": "2022-06-10T10:02:41.879Z"
   },
   {
    "duration": 60,
    "start_time": "2022-06-10T10:02:41.887Z"
   },
   {
    "duration": 198,
    "start_time": "2022-06-10T10:02:41.949Z"
   },
   {
    "duration": 189,
    "start_time": "2022-06-10T10:02:42.148Z"
   },
   {
    "duration": 4,
    "start_time": "2022-06-10T10:04:59.538Z"
   },
   {
    "duration": 107,
    "start_time": "2022-06-10T10:04:59.543Z"
   },
   {
    "duration": 32,
    "start_time": "2022-06-10T10:04:59.652Z"
   },
   {
    "duration": 18,
    "start_time": "2022-06-10T10:04:59.686Z"
   },
   {
    "duration": 18,
    "start_time": "2022-06-10T10:04:59.707Z"
   },
   {
    "duration": 8,
    "start_time": "2022-06-10T10:04:59.726Z"
   },
   {
    "duration": 22,
    "start_time": "2022-06-10T10:04:59.735Z"
   },
   {
    "duration": 33,
    "start_time": "2022-06-10T10:04:59.759Z"
   },
   {
    "duration": 38,
    "start_time": "2022-06-10T10:04:59.794Z"
   },
   {
    "duration": 4,
    "start_time": "2022-06-10T10:04:59.833Z"
   },
   {
    "duration": 23,
    "start_time": "2022-06-10T10:04:59.839Z"
   },
   {
    "duration": 4,
    "start_time": "2022-06-10T10:04:59.863Z"
   },
   {
    "duration": 276,
    "start_time": "2022-06-10T10:04:59.869Z"
   },
   {
    "duration": 17,
    "start_time": "2022-06-10T10:05:00.147Z"
   },
   {
    "duration": 32,
    "start_time": "2022-06-10T10:05:00.166Z"
   },
   {
    "duration": 1003,
    "start_time": "2022-06-10T10:05:00.200Z"
   },
   {
    "duration": 17,
    "start_time": "2022-06-10T10:05:01.211Z"
   },
   {
    "duration": 21,
    "start_time": "2022-06-10T10:05:01.230Z"
   },
   {
    "duration": 13,
    "start_time": "2022-06-10T10:05:01.253Z"
   },
   {
    "duration": 363,
    "start_time": "2022-06-10T10:05:01.268Z"
   },
   {
    "duration": 5,
    "start_time": "2022-06-10T10:05:01.632Z"
   },
   {
    "duration": 390,
    "start_time": "2022-06-10T10:05:01.639Z"
   },
   {
    "duration": 8,
    "start_time": "2022-06-10T10:05:02.032Z"
   },
   {
    "duration": 170,
    "start_time": "2022-06-10T10:05:02.042Z"
   },
   {
    "duration": 152,
    "start_time": "2022-06-10T10:05:02.214Z"
   },
   {
    "duration": 16,
    "start_time": "2022-06-10T10:05:02.367Z"
   },
   {
    "duration": 55,
    "start_time": "2022-06-10T10:05:02.384Z"
   },
   {
    "duration": 22,
    "start_time": "2022-06-10T10:05:02.441Z"
   },
   {
    "duration": 200,
    "start_time": "2022-06-10T10:05:02.465Z"
   },
   {
    "duration": 153,
    "start_time": "2022-06-10T10:05:02.667Z"
   },
   {
    "duration": 6,
    "start_time": "2022-06-10T10:05:02.822Z"
   },
   {
    "duration": 12,
    "start_time": "2022-06-10T10:05:02.830Z"
   },
   {
    "duration": 157,
    "start_time": "2022-06-10T10:05:02.843Z"
   },
   {
    "duration": 145,
    "start_time": "2022-06-10T10:05:03.004Z"
   },
   {
    "duration": 6,
    "start_time": "2022-06-10T10:05:06.113Z"
   },
   {
    "duration": 195,
    "start_time": "2022-06-10T10:05:49.861Z"
   },
   {
    "duration": 148,
    "start_time": "2022-06-10T10:07:01.441Z"
   },
   {
    "duration": 158,
    "start_time": "2022-06-10T10:07:10.776Z"
   },
   {
    "duration": 147,
    "start_time": "2022-06-10T10:07:19.975Z"
   },
   {
    "duration": 139,
    "start_time": "2022-06-10T10:11:40.025Z"
   },
   {
    "duration": 150,
    "start_time": "2022-06-10T10:11:44.574Z"
   },
   {
    "duration": 131,
    "start_time": "2022-06-10T10:12:04.937Z"
   },
   {
    "duration": 141,
    "start_time": "2022-06-10T10:13:18.007Z"
   },
   {
    "duration": 153,
    "start_time": "2022-06-10T10:13:25.642Z"
   },
   {
    "duration": 284,
    "start_time": "2022-06-10T10:13:29.245Z"
   },
   {
    "duration": 3,
    "start_time": "2022-06-10T10:18:12.712Z"
   },
   {
    "duration": 12,
    "start_time": "2022-06-10T10:18:14.146Z"
   },
   {
    "duration": 2,
    "start_time": "2022-06-10T10:20:13.721Z"
   },
   {
    "duration": 12,
    "start_time": "2022-06-10T10:20:14.717Z"
   },
   {
    "duration": 3,
    "start_time": "2022-06-10T10:24:05.167Z"
   },
   {
    "duration": 77,
    "start_time": "2022-06-10T10:24:05.171Z"
   },
   {
    "duration": 24,
    "start_time": "2022-06-10T10:24:05.250Z"
   },
   {
    "duration": 13,
    "start_time": "2022-06-10T10:24:05.275Z"
   },
   {
    "duration": 6,
    "start_time": "2022-06-10T10:24:05.290Z"
   },
   {
    "duration": 5,
    "start_time": "2022-06-10T10:24:05.298Z"
   },
   {
    "duration": 9,
    "start_time": "2022-06-10T10:24:05.304Z"
   },
   {
    "duration": 36,
    "start_time": "2022-06-10T10:24:05.315Z"
   },
   {
    "duration": 26,
    "start_time": "2022-06-10T10:24:05.353Z"
   },
   {
    "duration": 4,
    "start_time": "2022-06-10T10:24:05.380Z"
   },
   {
    "duration": 23,
    "start_time": "2022-06-10T10:24:05.386Z"
   },
   {
    "duration": 4,
    "start_time": "2022-06-10T10:24:05.411Z"
   },
   {
    "duration": 196,
    "start_time": "2022-06-10T10:24:05.416Z"
   },
   {
    "duration": 15,
    "start_time": "2022-06-10T10:24:05.613Z"
   },
   {
    "duration": 6,
    "start_time": "2022-06-10T10:24:05.630Z"
   },
   {
    "duration": 814,
    "start_time": "2022-06-10T10:24:05.637Z"
   },
   {
    "duration": 26,
    "start_time": "2022-06-10T10:24:06.453Z"
   },
   {
    "duration": 10,
    "start_time": "2022-06-10T10:24:06.480Z"
   },
   {
    "duration": 16,
    "start_time": "2022-06-10T10:24:06.491Z"
   },
   {
    "duration": 182,
    "start_time": "2022-06-10T10:24:06.508Z"
   },
   {
    "duration": 4,
    "start_time": "2022-06-10T10:24:06.691Z"
   },
   {
    "duration": 286,
    "start_time": "2022-06-10T10:24:06.696Z"
   },
   {
    "duration": 6,
    "start_time": "2022-06-10T10:24:06.983Z"
   },
   {
    "duration": 126,
    "start_time": "2022-06-10T10:24:06.990Z"
   },
   {
    "duration": 124,
    "start_time": "2022-06-10T10:24:07.117Z"
   },
   {
    "duration": 10,
    "start_time": "2022-06-10T10:24:07.243Z"
   },
   {
    "duration": 11,
    "start_time": "2022-06-10T10:24:07.254Z"
   },
   {
    "duration": 14,
    "start_time": "2022-06-10T10:24:07.266Z"
   },
   {
    "duration": 133,
    "start_time": "2022-06-10T10:24:07.283Z"
   },
   {
    "duration": 135,
    "start_time": "2022-06-10T10:24:07.418Z"
   },
   {
    "duration": 5,
    "start_time": "2022-06-10T10:24:07.555Z"
   },
   {
    "duration": 16,
    "start_time": "2022-06-10T10:24:07.562Z"
   },
   {
    "duration": 160,
    "start_time": "2022-06-10T10:24:07.579Z"
   },
   {
    "duration": 153,
    "start_time": "2022-06-10T10:24:07.740Z"
   },
   {
    "duration": 5,
    "start_time": "2022-06-10T10:24:07.894Z"
   },
   {
    "duration": 178,
    "start_time": "2022-06-10T10:24:07.900Z"
   },
   {
    "duration": 139,
    "start_time": "2022-06-10T10:24:08.080Z"
   },
   {
    "duration": 150,
    "start_time": "2022-06-10T10:24:08.221Z"
   },
   {
    "duration": 124,
    "start_time": "2022-06-10T10:24:08.373Z"
   },
   {
    "duration": 154,
    "start_time": "2022-06-10T10:24:08.498Z"
   },
   {
    "duration": 287,
    "start_time": "2022-06-10T10:24:08.654Z"
   },
   {
    "duration": 145,
    "start_time": "2022-06-10T10:24:08.942Z"
   },
   {
    "duration": 150,
    "start_time": "2022-06-10T10:24:09.089Z"
   },
   {
    "duration": 151,
    "start_time": "2022-06-10T10:24:09.240Z"
   },
   {
    "duration": 138,
    "start_time": "2022-06-10T10:24:09.393Z"
   },
   {
    "duration": 3,
    "start_time": "2022-06-10T10:24:09.532Z"
   },
   {
    "duration": 18,
    "start_time": "2022-06-10T10:24:09.537Z"
   },
   {
    "duration": 9,
    "start_time": "2022-06-10T10:24:09.557Z"
   },
   {
    "duration": 18,
    "start_time": "2022-06-10T10:24:09.568Z"
   },
   {
    "duration": 1433,
    "start_time": "2022-06-10T13:15:12.392Z"
   },
   {
    "duration": 95,
    "start_time": "2022-06-10T13:15:13.827Z"
   },
   {
    "duration": 30,
    "start_time": "2022-06-10T13:15:13.923Z"
   },
   {
    "duration": 15,
    "start_time": "2022-06-10T13:15:13.955Z"
   },
   {
    "duration": 8,
    "start_time": "2022-06-10T13:15:13.972Z"
   },
   {
    "duration": 14,
    "start_time": "2022-06-10T13:15:13.982Z"
   },
   {
    "duration": 29,
    "start_time": "2022-06-10T13:15:13.997Z"
   },
   {
    "duration": 22,
    "start_time": "2022-06-10T13:15:14.028Z"
   },
   {
    "duration": 13,
    "start_time": "2022-06-10T13:15:14.052Z"
   },
   {
    "duration": 5,
    "start_time": "2022-06-10T13:15:14.068Z"
   },
   {
    "duration": 15,
    "start_time": "2022-06-10T13:15:14.074Z"
   },
   {
    "duration": 32,
    "start_time": "2022-06-10T13:15:14.091Z"
   },
   {
    "duration": 222,
    "start_time": "2022-06-10T13:15:14.125Z"
   },
   {
    "duration": 17,
    "start_time": "2022-06-10T13:15:14.348Z"
   },
   {
    "duration": 3,
    "start_time": "2022-06-10T13:15:14.367Z"
   },
   {
    "duration": 11,
    "start_time": "2022-06-10T13:15:14.372Z"
   },
   {
    "duration": 8,
    "start_time": "2022-06-10T13:15:14.384Z"
   }
  ],
  "kernelspec": {
   "display_name": "Python 3 (ipykernel)",
   "language": "python",
   "name": "python3"
  },
  "language_info": {
   "codemirror_mode": {
    "name": "ipython",
    "version": 3
   },
   "file_extension": ".py",
   "mimetype": "text/x-python",
   "name": "python",
   "nbconvert_exporter": "python",
   "pygments_lexer": "ipython3",
   "version": "3.9.7"
  },
  "toc": {
   "base_numbering": 1,
   "nav_menu": {},
   "number_sections": true,
   "sideBar": true,
   "skip_h1_title": true,
   "title_cell": "Table of Contents",
   "title_sidebar": "Contents",
   "toc_cell": false,
   "toc_position": {},
   "toc_section_display": true,
   "toc_window_display": true
  }
 },
 "nbformat": 4,
 "nbformat_minor": 5
}
