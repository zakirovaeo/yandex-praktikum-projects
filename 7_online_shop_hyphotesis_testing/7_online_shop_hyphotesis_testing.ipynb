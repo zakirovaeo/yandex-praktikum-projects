{
 "cells": [
  {
   "cell_type": "markdown",
   "metadata": {},
   "source": [
    "# Проверка гипотез интернет магазина"
   ]
  },
  {
   "cell_type": "markdown",
   "metadata": {},
   "source": [
    "Совместно с отделом маркетинга подготовлен список гипотез для увеличения выручки.\n",
    "Необходимо приоритизировать гипотезы, запустить A/B-тест и проанализировать результаты."
   ]
  },
  {
   "cell_type": "markdown",
   "metadata": {},
   "source": [
    "**Цель исследования:** Проверить какие из гипотез для увеличения выручки подтвердились."
   ]
  },
  {
   "cell_type": "markdown",
   "metadata": {},
   "source": [
    "**Ход исследования:**  \n",
    "Часть 1\n",
    "1. Обзор данных: приведение типов, проверка на дубликаты, форматирование;\n",
    "1. Приоретизитизация гипотез по фреймворку ICE;\n",
    "1. Приоретизитизация гипотез по фреймворку RICE;\n",
    "1. Сравнение приоретизации по двум вышеуказанным фреймворкам.\n",
    "\n",
    "Часть 2\n",
    "1. Обзор данных: приведение типов, проверка на дубликаты, форматирование;\n",
    "1. Построение следующих графиков куммулятивных метрик\n",
    "    1. Выручка\n",
    "    1. Средний чек\n",
    "    1. Конверсия\n",
    "1. Определение граничных значений для количества и стоимости заказов\n",
    "1. Опредеоение статистической значимости различий в конверсии и среднем чеке между группами по \"сырым\" и \"очищенным\" данным\n",
    "1. Вывод о результатах теста "
   ]
  },
  {
   "cell_type": "markdown",
   "metadata": {},
   "source": [
    "## Часть 1. Приоритизация гипотез"
   ]
  },
  {
   "cell_type": "markdown",
   "metadata": {},
   "source": [
    "### Подготовка данных "
   ]
  },
  {
   "cell_type": "code",
   "execution_count": 14,
   "metadata": {},
   "outputs": [],
   "source": [
    "#Импортируем библиотеки\n",
    "import pandas as pd\n",
    "import seaborn as sns\n",
    "from datetime import datetime, timedelta\n",
    "from matplotlib import pyplot as plt\n",
    "import numpy as np\n",
    "import scipy.stats as stats"
   ]
  },
  {
   "cell_type": "code",
   "execution_count": 15,
   "metadata": {},
   "outputs": [],
   "source": [
    "#Получаем данные из файла\n",
    "try:\n",
    "    hypothesis = pd.read_csv('datasets/hypothesis.csv')\n",
    "except:\n",
    "    hypothesis = pd.read_csv('hypothesis.csv')"
   ]
  },
  {
   "cell_type": "code",
   "execution_count": 16,
   "metadata": {},
   "outputs": [
    {
     "name": "stdout",
     "output_type": "stream",
     "text": [
      "<class 'pandas.core.frame.DataFrame'>\n",
      "RangeIndex: 9 entries, 0 to 8\n",
      "Data columns (total 5 columns):\n",
      " #   Column      Non-Null Count  Dtype \n",
      "---  ------      --------------  ----- \n",
      " 0   Hypothesis  9 non-null      object\n",
      " 1   Reach       9 non-null      int64 \n",
      " 2   Impact      9 non-null      int64 \n",
      " 3   Confidence  9 non-null      int64 \n",
      " 4   Efforts     9 non-null      int64 \n",
      "dtypes: int64(4), object(1)\n",
      "memory usage: 488.0+ bytes\n"
     ]
    },
    {
     "data": {
      "text/html": [
       "<div>\n",
       "<style scoped>\n",
       "    .dataframe tbody tr th:only-of-type {\n",
       "        vertical-align: middle;\n",
       "    }\n",
       "\n",
       "    .dataframe tbody tr th {\n",
       "        vertical-align: top;\n",
       "    }\n",
       "\n",
       "    .dataframe thead th {\n",
       "        text-align: right;\n",
       "    }\n",
       "</style>\n",
       "<table border=\"1\" class=\"dataframe\">\n",
       "  <thead>\n",
       "    <tr style=\"text-align: right;\">\n",
       "      <th></th>\n",
       "      <th>Hypothesis</th>\n",
       "      <th>Reach</th>\n",
       "      <th>Impact</th>\n",
       "      <th>Confidence</th>\n",
       "      <th>Efforts</th>\n",
       "    </tr>\n",
       "  </thead>\n",
       "  <tbody>\n",
       "    <tr>\n",
       "      <th>0</th>\n",
       "      <td>Добавить два новых канала привлечения трафика, что позволит привлекать на 30% больше пользователей</td>\n",
       "      <td>3</td>\n",
       "      <td>10</td>\n",
       "      <td>8</td>\n",
       "      <td>6</td>\n",
       "    </tr>\n",
       "    <tr>\n",
       "      <th>1</th>\n",
       "      <td>Запустить собственную службу доставки, что сократит срок доставки заказов</td>\n",
       "      <td>2</td>\n",
       "      <td>5</td>\n",
       "      <td>4</td>\n",
       "      <td>10</td>\n",
       "    </tr>\n",
       "    <tr>\n",
       "      <th>2</th>\n",
       "      <td>Добавить блоки рекомендаций товаров на сайт интернет магазина, чтобы повысить конверсию и средний чек заказа</td>\n",
       "      <td>8</td>\n",
       "      <td>3</td>\n",
       "      <td>7</td>\n",
       "      <td>3</td>\n",
       "    </tr>\n",
       "    <tr>\n",
       "      <th>3</th>\n",
       "      <td>Изменить структура категорий, что увеличит конверсию, т.к. пользователи быстрее найдут нужный товар</td>\n",
       "      <td>8</td>\n",
       "      <td>3</td>\n",
       "      <td>3</td>\n",
       "      <td>8</td>\n",
       "    </tr>\n",
       "    <tr>\n",
       "      <th>4</th>\n",
       "      <td>Изменить цвет фона главной страницы, чтобы увеличить вовлеченность пользователей</td>\n",
       "      <td>3</td>\n",
       "      <td>1</td>\n",
       "      <td>1</td>\n",
       "      <td>1</td>\n",
       "    </tr>\n",
       "    <tr>\n",
       "      <th>5</th>\n",
       "      <td>Добавить страницу отзывов клиентов о магазине, что позволит увеличить количество заказов</td>\n",
       "      <td>3</td>\n",
       "      <td>2</td>\n",
       "      <td>2</td>\n",
       "      <td>3</td>\n",
       "    </tr>\n",
       "    <tr>\n",
       "      <th>6</th>\n",
       "      <td>Показать на главной странице баннеры с актуальными акциями и распродажами, чтобы увеличить конверсию</td>\n",
       "      <td>5</td>\n",
       "      <td>3</td>\n",
       "      <td>8</td>\n",
       "      <td>3</td>\n",
       "    </tr>\n",
       "    <tr>\n",
       "      <th>7</th>\n",
       "      <td>Добавить форму подписки на все основные страницы, чтобы собрать базу клиентов для email-рассылок</td>\n",
       "      <td>10</td>\n",
       "      <td>7</td>\n",
       "      <td>8</td>\n",
       "      <td>5</td>\n",
       "    </tr>\n",
       "    <tr>\n",
       "      <th>8</th>\n",
       "      <td>Запустить акцию, дающую скидку на товар в день рождения</td>\n",
       "      <td>1</td>\n",
       "      <td>9</td>\n",
       "      <td>9</td>\n",
       "      <td>5</td>\n",
       "    </tr>\n",
       "  </tbody>\n",
       "</table>\n",
       "</div>"
      ],
      "text/plain": [
       "                                                                                                     Hypothesis  \\\n",
       "0            Добавить два новых канала привлечения трафика, что позволит привлекать на 30% больше пользователей   \n",
       "1                                     Запустить собственную службу доставки, что сократит срок доставки заказов   \n",
       "2  Добавить блоки рекомендаций товаров на сайт интернет магазина, чтобы повысить конверсию и средний чек заказа   \n",
       "3           Изменить структура категорий, что увеличит конверсию, т.к. пользователи быстрее найдут нужный товар   \n",
       "4                              Изменить цвет фона главной страницы, чтобы увеличить вовлеченность пользователей   \n",
       "5                      Добавить страницу отзывов клиентов о магазине, что позволит увеличить количество заказов   \n",
       "6          Показать на главной странице баннеры с актуальными акциями и распродажами, чтобы увеличить конверсию   \n",
       "7              Добавить форму подписки на все основные страницы, чтобы собрать базу клиентов для email-рассылок   \n",
       "8                                                       Запустить акцию, дающую скидку на товар в день рождения   \n",
       "\n",
       "   Reach  Impact  Confidence  Efforts  \n",
       "0      3      10           8        6  \n",
       "1      2       5           4       10  \n",
       "2      8       3           7        3  \n",
       "3      8       3           3        8  \n",
       "4      3       1           1        1  \n",
       "5      3       2           2        3  \n",
       "6      5       3           8        3  \n",
       "7     10       7           8        5  \n",
       "8      1       9           9        5  "
      ]
     },
     "execution_count": 16,
     "metadata": {},
     "output_type": "execute_result"
    }
   ],
   "source": [
    "#проверяем содержимое\n",
    "hypothesis.info()\n",
    "pd.options.display.max_colwidth = 150\n",
    "hypothesis"
   ]
  },
  {
   "cell_type": "code",
   "execution_count": 17,
   "metadata": {},
   "outputs": [
    {
     "name": "stdout",
     "output_type": "stream",
     "text": [
      "Явных дубликатов не обнаружено\n"
     ]
    }
   ],
   "source": [
    "#проверяем на дубликаты \n",
    "if hypothesis.duplicated().sum() > 0:\n",
    "    print('Найдено дубликатов:', hypothesis.duplicated().sum())\n",
    "else:\n",
    "    print('Явных дубликатов не обнаружено')"
   ]
  },
  {
   "cell_type": "markdown",
   "metadata": {},
   "source": [
    "- Пропусков нет\n",
    "- Дубликатов нет\n",
    "- Необходимо отформатировать название столбцов"
   ]
  },
  {
   "cell_type": "code",
   "execution_count": 18,
   "metadata": {},
   "outputs": [
    {
     "data": {
      "text/plain": [
       "Index(['hypothesis', 'reach', 'impact', 'confidence', 'efforts'], dtype='object')"
      ]
     },
     "execution_count": 18,
     "metadata": {},
     "output_type": "execute_result"
    }
   ],
   "source": [
    "#переименовываем столбцы\n",
    "hypothesis.columns = hypothesis.columns.str.lower()\n",
    "hypothesis.columns"
   ]
  },
  {
   "cell_type": "markdown",
   "metadata": {},
   "source": [
    "### Применение фреймворка ICE"
   ]
  },
  {
   "cell_type": "markdown",
   "metadata": {},
   "source": [
    "Определим приоретизацию по фреймворку ICE."
   ]
  },
  {
   "cell_type": "code",
   "execution_count": 19,
   "metadata": {},
   "outputs": [
    {
     "name": "stdout",
     "output_type": "stream",
     "text": [
      "                                                                                                     hypothesis  \\\n",
      "8                                                       Запустить акцию, дающую скидку на товар в день рождения   \n",
      "0            Добавить два новых канала привлечения трафика, что позволит привлекать на 30% больше пользователей   \n",
      "7              Добавить форму подписки на все основные страницы, чтобы собрать базу клиентов для email-рассылок   \n",
      "6          Показать на главной странице баннеры с актуальными акциями и распродажами, чтобы увеличить конверсию   \n",
      "2  Добавить блоки рекомендаций товаров на сайт интернет магазина, чтобы повысить конверсию и средний чек заказа   \n",
      "1                                     Запустить собственную службу доставки, что сократит срок доставки заказов   \n",
      "5                      Добавить страницу отзывов клиентов о магазине, что позволит увеличить количество заказов   \n",
      "3           Изменить структура категорий, что увеличит конверсию, т.к. пользователи быстрее найдут нужный товар   \n",
      "4                              Изменить цвет фона главной страницы, чтобы увеличить вовлеченность пользователей   \n",
      "\n",
      "         ICE  \n",
      "8  16.200000  \n",
      "0  13.333333  \n",
      "7  11.200000  \n",
      "6   8.000000  \n",
      "2   7.000000  \n",
      "1   2.000000  \n",
      "5   1.333333  \n",
      "3   1.125000  \n",
      "4   1.000000  \n"
     ]
    }
   ],
   "source": [
    "hypothesis['ICE'] = hypothesis['confidence'] * hypothesis['impact'] / hypothesis['efforts']\n",
    "print(hypothesis[['hypothesis', 'ICE']].sort_values(by='ICE', ascending=False))"
   ]
  },
  {
   "cell_type": "markdown",
   "metadata": {},
   "source": [
    "### Применение фреймворка RICE"
   ]
  },
  {
   "cell_type": "markdown",
   "metadata": {},
   "source": [
    "Определим приоретизацию по фреймворку RICE."
   ]
  },
  {
   "cell_type": "code",
   "execution_count": 20,
   "metadata": {},
   "outputs": [
    {
     "name": "stdout",
     "output_type": "stream",
     "text": [
      "                                                                                                     hypothesis  \\\n",
      "7              Добавить форму подписки на все основные страницы, чтобы собрать базу клиентов для email-рассылок   \n",
      "2  Добавить блоки рекомендаций товаров на сайт интернет магазина, чтобы повысить конверсию и средний чек заказа   \n",
      "0            Добавить два новых канала привлечения трафика, что позволит привлекать на 30% больше пользователей   \n",
      "6          Показать на главной странице баннеры с актуальными акциями и распродажами, чтобы увеличить конверсию   \n",
      "8                                                       Запустить акцию, дающую скидку на товар в день рождения   \n",
      "3           Изменить структура категорий, что увеличит конверсию, т.к. пользователи быстрее найдут нужный товар   \n",
      "1                                     Запустить собственную службу доставки, что сократит срок доставки заказов   \n",
      "5                      Добавить страницу отзывов клиентов о магазине, что позволит увеличить количество заказов   \n",
      "4                              Изменить цвет фона главной страницы, чтобы увеличить вовлеченность пользователей   \n",
      "\n",
      "    RICE  \n",
      "7  112.0  \n",
      "2   56.0  \n",
      "0   40.0  \n",
      "6   40.0  \n",
      "8   16.2  \n",
      "3    9.0  \n",
      "1    4.0  \n",
      "5    4.0  \n",
      "4    3.0  \n"
     ]
    }
   ],
   "source": [
    "hypothesis['RICE'] = hypothesis['reach'] * hypothesis['confidence'] * hypothesis['impact'] /hypothesis['efforts']\n",
    "print(hypothesis[['hypothesis', 'RICE']].sort_values(by='RICE', ascending=False))"
   ]
  },
  {
   "cell_type": "markdown",
   "metadata": {},
   "source": [
    "### Сравнение приоретизаций"
   ]
  },
  {
   "cell_type": "markdown",
   "metadata": {},
   "source": [
    "Приоретизация по разным фреймворкам отличается. Это связано с тем, что во фреймворке `RICE` задействован параметр  `reach` (охват пользователей). В остальном формулы одинаковые. Таким образом гипотезы, у которых данный параметр больше, будут более приоритетными по сравнению в приоретизацией по `ICE`.  \n",
    "\n",
    "Например у гипотезы \"Добавить форму подписки на все основные страницы\" охват выше, чем у \"Запустить акцию, дающую скидку на товар в день рождения\".  \n",
    "А у \"Добавить блоки рекомендаций товаров на сайт интернет магазина, чтобы повысить конверсию и средний чек заказа\" выше, чем у \"Добавить два новых канала привлечения трафика, что позволит привлекать на 30% больше пользователей\"."
   ]
  },
  {
   "cell_type": "markdown",
   "metadata": {},
   "source": [
    "##  Часть 2. Анализ A/B-теста "
   ]
  },
  {
   "cell_type": "markdown",
   "metadata": {},
   "source": [
    "В данном разделе необходимо выполнить следующие задачи: \n",
    "\n",
    "1. Построить графики кумулятивных выручки, среднего и конверсии по группам, чтобы сравнить у какой группы эти показатели лучше\n",
    "2. Определить граничные значения для среднего чека и количесва заказов на пользователя, чтобы избавиться от выбросов\n",
    "3. Рассчитать статистическую значимсоть различий в среднем чеке и количестве заказов по группам по \"сырым\" и \"очищенным\" данным, чтобы оценить влияние выбросов\n",
    "4. Определить итоги теста"
   ]
  },
  {
   "cell_type": "markdown",
   "metadata": {},
   "source": [
    "### Подготовка данных"
   ]
  },
  {
   "cell_type": "code",
   "execution_count": 24,
   "metadata": {},
   "outputs": [],
   "source": [
    "#Получаем данные из файла\n",
    "try:\n",
    "    visitors = pd.read_csv('visitors.csv')\n",
    "    orders = pd.read_csv('orders.csv')\n",
    "except:\n",
    "    visitors = pd.read_csv('datasets/visitors.csv')\n",
    "    orders = pd.read_csv('datasets/orders.csv')"
   ]
  },
  {
   "cell_type": "code",
   "execution_count": 25,
   "metadata": {},
   "outputs": [
    {
     "name": "stdout",
     "output_type": "stream",
     "text": [
      "<class 'pandas.core.frame.DataFrame'>\n",
      "RangeIndex: 62 entries, 0 to 61\n",
      "Data columns (total 3 columns):\n",
      " #   Column    Non-Null Count  Dtype \n",
      "---  ------    --------------  ----- \n",
      " 0   date      62 non-null     object\n",
      " 1   group     62 non-null     object\n",
      " 2   visitors  62 non-null     int64 \n",
      "dtypes: int64(1), object(2)\n",
      "memory usage: 1.6+ KB\n"
     ]
    },
    {
     "data": {
      "text/html": [
       "<div>\n",
       "<style scoped>\n",
       "    .dataframe tbody tr th:only-of-type {\n",
       "        vertical-align: middle;\n",
       "    }\n",
       "\n",
       "    .dataframe tbody tr th {\n",
       "        vertical-align: top;\n",
       "    }\n",
       "\n",
       "    .dataframe thead th {\n",
       "        text-align: right;\n",
       "    }\n",
       "</style>\n",
       "<table border=\"1\" class=\"dataframe\">\n",
       "  <thead>\n",
       "    <tr style=\"text-align: right;\">\n",
       "      <th></th>\n",
       "      <th>date</th>\n",
       "      <th>group</th>\n",
       "      <th>visitors</th>\n",
       "    </tr>\n",
       "  </thead>\n",
       "  <tbody>\n",
       "    <tr>\n",
       "      <th>0</th>\n",
       "      <td>2019-08-01</td>\n",
       "      <td>A</td>\n",
       "      <td>719</td>\n",
       "    </tr>\n",
       "    <tr>\n",
       "      <th>1</th>\n",
       "      <td>2019-08-02</td>\n",
       "      <td>A</td>\n",
       "      <td>619</td>\n",
       "    </tr>\n",
       "    <tr>\n",
       "      <th>2</th>\n",
       "      <td>2019-08-03</td>\n",
       "      <td>A</td>\n",
       "      <td>507</td>\n",
       "    </tr>\n",
       "    <tr>\n",
       "      <th>3</th>\n",
       "      <td>2019-08-04</td>\n",
       "      <td>A</td>\n",
       "      <td>717</td>\n",
       "    </tr>\n",
       "    <tr>\n",
       "      <th>4</th>\n",
       "      <td>2019-08-05</td>\n",
       "      <td>A</td>\n",
       "      <td>756</td>\n",
       "    </tr>\n",
       "  </tbody>\n",
       "</table>\n",
       "</div>"
      ],
      "text/plain": [
       "         date group  visitors\n",
       "0  2019-08-01     A       719\n",
       "1  2019-08-02     A       619\n",
       "2  2019-08-03     A       507\n",
       "3  2019-08-04     A       717\n",
       "4  2019-08-05     A       756"
      ]
     },
     "execution_count": 25,
     "metadata": {},
     "output_type": "execute_result"
    }
   ],
   "source": [
    "#проверяем содержимое файла visitors\n",
    "visitors.info()\n",
    "visitors.head()"
   ]
  },
  {
   "cell_type": "code",
   "execution_count": 26,
   "metadata": {},
   "outputs": [
    {
     "name": "stdout",
     "output_type": "stream",
     "text": [
      "Явных дубликатов не обнаружено\n"
     ]
    }
   ],
   "source": [
    "#проверяем на дубликаты \n",
    "if visitors.duplicated().sum() > 0:\n",
    "    print('Найдено дубликатов:', visitors.duplicated().sum())\n",
    "else:\n",
    "    print('Явных дубликатов не обнаружено')"
   ]
  },
  {
   "cell_type": "markdown",
   "metadata": {},
   "source": [
    "- Пропусков нет\n",
    "- Дубликатов нет\n",
    "- Необходимо привести столбец `date` к типу datetime "
   ]
  },
  {
   "cell_type": "code",
   "execution_count": 27,
   "metadata": {},
   "outputs": [
    {
     "name": "stdout",
     "output_type": "stream",
     "text": [
      "<class 'pandas.core.frame.DataFrame'>\n",
      "RangeIndex: 62 entries, 0 to 61\n",
      "Data columns (total 3 columns):\n",
      " #   Column    Non-Null Count  Dtype         \n",
      "---  ------    --------------  -----         \n",
      " 0   date      62 non-null     datetime64[ns]\n",
      " 1   group     62 non-null     object        \n",
      " 2   visitors  62 non-null     int64         \n",
      "dtypes: datetime64[ns](1), int64(1), object(1)\n",
      "memory usage: 1.6+ KB\n"
     ]
    }
   ],
   "source": [
    "#приводим типы данных\n",
    "visitors['date'] =  pd.to_datetime(visitors['date'])\n",
    "visitors.info()"
   ]
  },
  {
   "cell_type": "code",
   "execution_count": 28,
   "metadata": {},
   "outputs": [
    {
     "name": "stdout",
     "output_type": "stream",
     "text": [
      "<class 'pandas.core.frame.DataFrame'>\n",
      "RangeIndex: 1197 entries, 0 to 1196\n",
      "Data columns (total 5 columns):\n",
      " #   Column         Non-Null Count  Dtype \n",
      "---  ------         --------------  ----- \n",
      " 0   transactionId  1197 non-null   int64 \n",
      " 1   visitorId      1197 non-null   int64 \n",
      " 2   date           1197 non-null   object\n",
      " 3   revenue        1197 non-null   int64 \n",
      " 4   group          1197 non-null   object\n",
      "dtypes: int64(3), object(2)\n",
      "memory usage: 46.9+ KB\n"
     ]
    },
    {
     "data": {
      "text/html": [
       "<div>\n",
       "<style scoped>\n",
       "    .dataframe tbody tr th:only-of-type {\n",
       "        vertical-align: middle;\n",
       "    }\n",
       "\n",
       "    .dataframe tbody tr th {\n",
       "        vertical-align: top;\n",
       "    }\n",
       "\n",
       "    .dataframe thead th {\n",
       "        text-align: right;\n",
       "    }\n",
       "</style>\n",
       "<table border=\"1\" class=\"dataframe\">\n",
       "  <thead>\n",
       "    <tr style=\"text-align: right;\">\n",
       "      <th></th>\n",
       "      <th>transactionId</th>\n",
       "      <th>visitorId</th>\n",
       "      <th>date</th>\n",
       "      <th>revenue</th>\n",
       "      <th>group</th>\n",
       "    </tr>\n",
       "  </thead>\n",
       "  <tbody>\n",
       "    <tr>\n",
       "      <th>0</th>\n",
       "      <td>3667963787</td>\n",
       "      <td>3312258926</td>\n",
       "      <td>2019-08-15</td>\n",
       "      <td>1650</td>\n",
       "      <td>B</td>\n",
       "    </tr>\n",
       "    <tr>\n",
       "      <th>1</th>\n",
       "      <td>2804400009</td>\n",
       "      <td>3642806036</td>\n",
       "      <td>2019-08-15</td>\n",
       "      <td>730</td>\n",
       "      <td>B</td>\n",
       "    </tr>\n",
       "    <tr>\n",
       "      <th>2</th>\n",
       "      <td>2961555356</td>\n",
       "      <td>4069496402</td>\n",
       "      <td>2019-08-15</td>\n",
       "      <td>400</td>\n",
       "      <td>A</td>\n",
       "    </tr>\n",
       "    <tr>\n",
       "      <th>3</th>\n",
       "      <td>3797467345</td>\n",
       "      <td>1196621759</td>\n",
       "      <td>2019-08-15</td>\n",
       "      <td>9759</td>\n",
       "      <td>B</td>\n",
       "    </tr>\n",
       "    <tr>\n",
       "      <th>4</th>\n",
       "      <td>2282983706</td>\n",
       "      <td>2322279887</td>\n",
       "      <td>2019-08-15</td>\n",
       "      <td>2308</td>\n",
       "      <td>B</td>\n",
       "    </tr>\n",
       "  </tbody>\n",
       "</table>\n",
       "</div>"
      ],
      "text/plain": [
       "   transactionId   visitorId        date  revenue group\n",
       "0     3667963787  3312258926  2019-08-15     1650     B\n",
       "1     2804400009  3642806036  2019-08-15      730     B\n",
       "2     2961555356  4069496402  2019-08-15      400     A\n",
       "3     3797467345  1196621759  2019-08-15     9759     B\n",
       "4     2282983706  2322279887  2019-08-15     2308     B"
      ]
     },
     "execution_count": 28,
     "metadata": {},
     "output_type": "execute_result"
    }
   ],
   "source": [
    "#проверяем содержимое файла orders\n",
    "orders.info()\n",
    "orders.head()"
   ]
  },
  {
   "cell_type": "code",
   "execution_count": 29,
   "metadata": {},
   "outputs": [
    {
     "name": "stdout",
     "output_type": "stream",
     "text": [
      "Явных дубликатов не обнаружено\n"
     ]
    }
   ],
   "source": [
    "#проверяем на дубликаты \n",
    "if orders.duplicated().sum() > 0:\n",
    "    print('Найдено дубликатов:', orders.duplicated().sum())\n",
    "else:\n",
    "    print('Явных дубликатов не обнаружено')"
   ]
  },
  {
   "cell_type": "markdown",
   "metadata": {},
   "source": [
    "- Пропусков нет\n",
    "- Дубликатов нет\n",
    "- Необходимо отформатировать название столбцов\n",
    "- Необходимо привести столбец `date` к типу datetime "
   ]
  },
  {
   "cell_type": "code",
   "execution_count": 30,
   "metadata": {},
   "outputs": [
    {
     "data": {
      "text/plain": [
       "Index(['transaction_id', 'visitor_id', 'date', 'revenue', 'group'], dtype='object')"
      ]
     },
     "execution_count": 30,
     "metadata": {},
     "output_type": "execute_result"
    }
   ],
   "source": [
    "#переименовываем столбцы\n",
    "orders.columns = orders.columns.str.replace('Id', '_id')\n",
    "orders.columns"
   ]
  },
  {
   "cell_type": "code",
   "execution_count": 31,
   "metadata": {},
   "outputs": [
    {
     "name": "stdout",
     "output_type": "stream",
     "text": [
      "<class 'pandas.core.frame.DataFrame'>\n",
      "RangeIndex: 1197 entries, 0 to 1196\n",
      "Data columns (total 5 columns):\n",
      " #   Column          Non-Null Count  Dtype         \n",
      "---  ------          --------------  -----         \n",
      " 0   transaction_id  1197 non-null   int64         \n",
      " 1   visitor_id      1197 non-null   int64         \n",
      " 2   date            1197 non-null   datetime64[ns]\n",
      " 3   revenue         1197 non-null   int64         \n",
      " 4   group           1197 non-null   object        \n",
      "dtypes: datetime64[ns](1), int64(3), object(1)\n",
      "memory usage: 46.9+ KB\n"
     ]
    }
   ],
   "source": [
    "#приводим типы данных\n",
    "orders['date'] =  pd.to_datetime(orders['date'])\n",
    "orders.info()"
   ]
  },
  {
   "cell_type": "markdown",
   "metadata": {},
   "source": [
    "Проверим даты начала и окончания тестирования для каждой группы. "
   ]
  },
  {
   "cell_type": "code",
   "execution_count": 32,
   "metadata": {},
   "outputs": [
    {
     "name": "stdout",
     "output_type": "stream",
     "text": [
      "            date\n",
      "group           \n",
      "A     2019-08-01\n",
      "B     2019-08-01\n",
      "            date\n",
      "group           \n",
      "A     2019-08-31\n",
      "B     2019-08-31\n",
      "            date\n",
      "group           \n",
      "A     2019-08-01\n",
      "B     2019-08-01\n",
      "            date\n",
      "group           \n",
      "A     2019-08-31\n",
      "B     2019-08-31\n"
     ]
    }
   ],
   "source": [
    "print(visitors.groupby('group').agg({'date': 'min'}))\n",
    "print(visitors.groupby('group').agg({'date': 'max'}))\n",
    "print(orders.groupby('group').agg({'date': 'min'}))\n",
    "print(orders.groupby('group').agg({'date': 'max'}))"
   ]
  },
  {
   "cell_type": "markdown",
   "metadata": {},
   "source": [
    "Начальные и конечные даты совпадают."
   ]
  },
  {
   "cell_type": "markdown",
   "metadata": {},
   "source": [
    "Проверим количество пользователей в каждой из групп."
   ]
  },
  {
   "cell_type": "code",
   "execution_count": 33,
   "metadata": {},
   "outputs": [
    {
     "name": "stdout",
     "output_type": "stream",
     "text": [
      "       visitor_id\n",
      "group            \n",
      "A             503\n",
      "B             586\n"
     ]
    }
   ],
   "source": [
    "print(orders.groupby('group').agg({'visitor_id': 'nunique'}))"
   ]
  },
  {
   "cell_type": "markdown",
   "metadata": {},
   "source": [
    "В группе B пользователей больше, чем в группе А на 83. Это различие не критически большое, поэтому можно продолжать анализ теста с такой разницей в группах."
   ]
  },
  {
   "cell_type": "markdown",
   "metadata": {},
   "source": [
    "Проверим есть ли пользователи, которые присутствуют в обеих группах."
   ]
  },
  {
   "cell_type": "code",
   "execution_count": 34,
   "metadata": {},
   "outputs": [
    {
     "data": {
      "text/plain": [
       "group    58\n",
       "dtype: int64"
      ]
     },
     "execution_count": 34,
     "metadata": {},
     "output_type": "execute_result"
    }
   ],
   "source": [
    "# составим сводную таблицу, где каждому пользоваетелю сотвествует в скольких группах он состоит\n",
    "both_groups = orders.pivot_table(index='visitor_id', values='group', aggfunc='nunique')\n",
    "# посчитаем сколько пользователей состоит в обеих группах\n",
    "both_groups.query('group > 1').count()"
   ]
  },
  {
   "cell_type": "markdown",
   "metadata": {},
   "source": [
    "58 пользователей состоят в обеих группах. Исключим этих пользователей."
   ]
  },
  {
   "cell_type": "code",
   "execution_count": 36,
   "metadata": {},
   "outputs": [],
   "source": [
    "ids_to_delete = both_groups.query('group > 1').index\n",
    "orders = orders.drop(orders.query('visitor_id.isin(@ids_to_delete)', engine='python').index)"
   ]
  },
  {
   "cell_type": "markdown",
   "metadata": {},
   "source": [
    "### Кумулятивная выручка"
   ]
  },
  {
   "cell_type": "code",
   "execution_count": 37,
   "metadata": {
    "scrolled": true
   },
   "outputs": [
    {
     "data": {
      "text/plain": [
       "Text(0.5, 1.0, 'Кумулятивная выручка')"
      ]
     },
     "execution_count": 37,
     "metadata": {},
     "output_type": "execute_result"
    },
    {
     "data": {
      "image/png": "[encoded data removed]",
      "text/plain": [
       "<Figure size 1080x720 with 1 Axes>"
      ]
     },
     "metadata": {
      "needs_background": "light"
     },
     "output_type": "display_data"
    }
   ],
   "source": [
    "# создаем массив уникальных пар значений дат и групп теста\n",
    "datesGroups = orders[['date', 'group']].drop_duplicates()\n",
    "\n",
    "# получим агрегированные кумулятивные по дням данные о заказах\n",
    "ordersAggregated = datesGroups.apply(\n",
    "    lambda x: orders[\n",
    "        np.logical_and(\n",
    "            orders['date'] <= x['date'], orders['group'] == x['group']\n",
    "        )\n",
    "    ].agg(\n",
    "        {\n",
    "            'date': 'max',\n",
    "            'group': 'max',\n",
    "            'transaction_id': 'nunique',\n",
    "            'visitor_id': 'nunique',\n",
    "            'revenue': 'sum',\n",
    "        }\n",
    "    ),\n",
    "    axis=1,\n",
    ").sort_values(by=['date', 'group'])\n",
    "\n",
    "# получим агрегированные кумулятивные по дням данные о посетителях\n",
    "visitorsAggregated = datesGroups.apply(\n",
    "    lambda x: visitors[\n",
    "        np.logical_and(\n",
    "            visitors['date'] <= x['date'], visitors['group'] == x['group']\n",
    "        )\n",
    "    ].agg({'date': 'max', 'group': 'max', 'visitors': 'sum'}),\n",
    "    axis=1,\n",
    ").sort_values(by=['date', 'group'])\n",
    "\n",
    "# объединяем кумулятивные данные в одной таблице\n",
    "cumulativeData = ordersAggregated.merge(\n",
    "    visitorsAggregated, left_on=['date', 'group'], right_on=['date', 'group']\n",
    ")\n",
    "#присваиваем столбцам новые названия\n",
    "cumulativeData.columns = [\n",
    "    'date',\n",
    "    'group',\n",
    "    'orders',\n",
    "    'buyers',\n",
    "    'revenue',\n",
    "    'visitors',\n",
    "]\n",
    "\n",
    "# датафрейм с кумулятивным количеством заказов и кумулятивной выручкой по дням в группе А\n",
    "cumulativeRevenueA = cumulativeData[cumulativeData['group']=='A'][['date','revenue', 'orders']]\n",
    "\n",
    "# датафрейм с кумулятивным количеством заказов и кумулятивной выручкой по дням в группе B\n",
    "cumulativeRevenueB = cumulativeData[cumulativeData['group']=='B'][['date','revenue', 'orders']]\n",
    "\n",
    "# задаём размер сетки для графиков\n",
    "plt.figure(figsize=(15, 10))\n",
    "\n",
    "# Строим график выручки группы А\n",
    "plt.plot(cumulativeRevenueA['date'], cumulativeRevenueA['revenue'], label='A')\n",
    "\n",
    "# Строим график выручки группы B\n",
    "plt.plot(cumulativeRevenueB['date'], cumulativeRevenueB['revenue'], label='B')\n",
    "\n",
    "plt.legend()\n",
    "plt.xlabel('Дата')\n",
    "plt.ylabel('Выручка')\n",
    "plt.title('Кумулятивная выручка')"
   ]
  },
  {
   "cell_type": "markdown",
   "metadata": {},
   "source": [
    "Выручка для группы А почти равномерно увеличивается в течение всего теста.   \n",
    "Выручка для группы B нескольких точках резко возрастает. Такой рост может быть обусловлен увеличением числа заказов или появлением заказов с высокой стоимостью."
   ]
  },
  {
   "cell_type": "markdown",
   "metadata": {},
   "source": [
    "### Кумулятивный средний чек"
   ]
  },
  {
   "cell_type": "markdown",
   "metadata": {},
   "source": [
    "Построим графики среднего чека по группам."
   ]
  },
  {
   "cell_type": "code",
   "execution_count": 38,
   "metadata": {},
   "outputs": [
    {
     "data": {
      "text/plain": [
       "Text(0.5, 1.0, 'Кумулятивный средний чек')"
      ]
     },
     "execution_count": 38,
     "metadata": {},
     "output_type": "execute_result"
    },
    {
     "data": {
      "image/png": "[encoded data removed]",
      "text/plain": [
       "<Figure size 1080x720 with 1 Axes>"
      ]
     },
     "metadata": {
      "needs_background": "light"
     },
     "output_type": "display_data"
    }
   ],
   "source": [
    "# построим графики среднего чека по группам — разделим кумулятивную выручку на кумулятивное число заказов\n",
    "plt.figure(figsize=(15, 10))\n",
    "plt.plot(cumulativeRevenueA['date'], cumulativeRevenueA['revenue']/cumulativeRevenueA['orders'], label='A')\n",
    "plt.plot(cumulativeRevenueB['date'], cumulativeRevenueB['revenue']/cumulativeRevenueB['orders'], label='B')\n",
    "plt.legend()\n",
    "plt.xlabel('Дата')\n",
    "plt.ylabel('Средний чек')\n",
    "plt.title('Кумулятивный средний чек')\n"
   ]
  },
  {
   "cell_type": "markdown",
   "metadata": {},
   "source": [
    "Ближе к концу теста значения становятся стабильными. Для группы B средний чек выше, чем для группы А. У группы B есть резкий скачок. Вероятно, причина в появлении заказов с высокой стоимостью."
   ]
  },
  {
   "cell_type": "markdown",
   "metadata": {},
   "source": [
    "### Относительное изменение кумулятивного среднего чека"
   ]
  },
  {
   "cell_type": "markdown",
   "metadata": {},
   "source": [
    "Построим график относительного различия для среднего чека."
   ]
  },
  {
   "cell_type": "code",
   "execution_count": 39,
   "metadata": {},
   "outputs": [
    {
     "data": {
      "text/plain": [
       "<matplotlib.lines.Line2D at 0x7fbbf2a85a60>"
      ]
     },
     "execution_count": 39,
     "metadata": {},
     "output_type": "execute_result"
    },
    {
     "data": {
      "image/png": "[encoded data removed]",
      "text/plain": [
       "<Figure size 1080x720 with 1 Axes>"
      ]
     },
     "metadata": {
      "needs_background": "light"
     },
     "output_type": "display_data"
    }
   ],
   "source": [
    "# собираем данные в одном датафрейме\n",
    "mergedCumulativeRevenue = cumulativeRevenueA.merge(cumulativeRevenueB, left_on='date', right_on='date', how='left', suffixes=['A', 'B'])\n",
    "\n",
    "# cтроим отношение средних чеков\n",
    "plt.figure(figsize=(15, 10))\n",
    "plt.plot(mergedCumulativeRevenue['date'], (mergedCumulativeRevenue['revenueB']/mergedCumulativeRevenue['ordersB'])/(mergedCumulativeRevenue['revenueA']/mergedCumulativeRevenue['ordersA'])-1)\n",
    "plt.xlabel('Дата')\n",
    "plt.title('Относительное изменение кумулятивного среднего чека')\n",
    "\n",
    "# добавляем ось X\n",
    "plt.axhline(y=0, color='black', linestyle='--') "
   ]
  },
  {
   "cell_type": "markdown",
   "metadata": {},
   "source": [
    "В нескольких точках график различия между сегментами резко «скачет». Вероятно, есть выбросы."
   ]
  },
  {
   "cell_type": "markdown",
   "metadata": {},
   "source": [
    "### Кумулятивная конверсия"
   ]
  },
  {
   "cell_type": "markdown",
   "metadata": {},
   "source": [
    "Построим графики конверсии по группам."
   ]
  },
  {
   "cell_type": "code",
   "execution_count": 40,
   "metadata": {},
   "outputs": [
    {
     "data": {
      "text/plain": [
       "Text(0, 0.5, 'Конверсия')"
      ]
     },
     "execution_count": 40,
     "metadata": {},
     "output_type": "execute_result"
    },
    {
     "data": {
      "image/png": "[encoded data removed]",
      "text/plain": [
       "<Figure size 1080x720 with 1 Axes>"
      ]
     },
     "metadata": {
      "needs_background": "light"
     },
     "output_type": "display_data"
    }
   ],
   "source": [
    "# считаем кумулятивную конверсию\n",
    "cumulativeData['conversion'] = cumulativeData['orders']/cumulativeData['visitors']\n",
    "\n",
    "# отделяем данные по группе A\n",
    "cumulativeDataA = cumulativeData[cumulativeData['group']=='A']\n",
    "\n",
    "# отделяем данные по группе B\n",
    "cumulativeDataB = cumulativeData[cumulativeData['group']=='B']\n",
    "\n",
    "# строим графики\n",
    "plt.figure(figsize=(15, 10))\n",
    "plt.plot(cumulativeDataA['date'], cumulativeDataA['conversion'], label='A')\n",
    "plt.plot(cumulativeDataB['date'], cumulativeDataB['conversion'], label='B')\n",
    "plt.legend()\n",
    "plt.title('Кумулятивная конверсия')\n",
    "plt.xlabel('Дата')\n",
    "plt.ylabel('Конверсия')\n"
   ]
  },
  {
   "cell_type": "markdown",
   "metadata": {},
   "source": [
    "В начале теста значения не стабильны и сильно колеблются вокруг одного значения. Ближе к концу теста данные стабилизируются, конверсия у группы B выше."
   ]
  },
  {
   "cell_type": "markdown",
   "metadata": {},
   "source": [
    "### Относительное изменение кумулятивной конверсии"
   ]
  },
  {
   "cell_type": "code",
   "execution_count": 41,
   "metadata": {},
   "outputs": [
    {
     "data": {
      "text/plain": [
       "<matplotlib.lines.Line2D at 0x7fbbf27d1e50>"
      ]
     },
     "execution_count": 41,
     "metadata": {},
     "output_type": "execute_result"
    },
    {
     "data": {
      "image/png": "[encoded data removed]",
      "text/plain": [
       "<Figure size 1080x720 with 1 Axes>"
      ]
     },
     "metadata": {
      "needs_background": "light"
     },
     "output_type": "display_data"
    }
   ],
   "source": [
    "# собираем данные в одном датафрейме\n",
    "mergedCumulativeConversions = cumulativeDataA[['date','conversion']].merge(cumulativeDataB[['date','conversion']], left_on='date', right_on='date', how='left', suffixes=['A', 'B'])\n",
    "\n",
    "# cтроим отношение конверсии\n",
    "plt.figure(figsize=(15, 10))\n",
    "plt.plot(mergedCumulativeConversions['date'], mergedCumulativeConversions['conversionB']/mergedCumulativeConversions['conversionA']-1, label=\"Относительный прирост конверсии группы B относительно группы A\")\n",
    "plt.legend()\n",
    "plt.xlabel('Дата')\n",
    "plt.title('Относительное изменение кумулятивной конверсии')\n",
    "\n",
    "# добавляем ось X  на 0, чтобы видеть перевес относительного прироста\n",
    "plt.axhline(y=0, color='black', linestyle='--')\n",
    "# добавляем ось X  на 0.033. Это значение, вокруг которого колеблются значения в начале теста\n",
    "plt.axhline(y=0.033, color='grey', linestyle='--')"
   ]
  },
  {
   "cell_type": "markdown",
   "metadata": {},
   "source": [
    "В начале теста значения группы B были то меньше, то больше группы А. Но потом стабильно группа  B стала лидировать."
   ]
  },
  {
   "cell_type": "markdown",
   "metadata": {},
   "source": [
    "### Количество заказов"
   ]
  },
  {
   "cell_type": "markdown",
   "metadata": {},
   "source": [
    "Подсчитаем количество заказов по пользователям."
   ]
  },
  {
   "cell_type": "code",
   "execution_count": 42,
   "metadata": {},
   "outputs": [
    {
     "name": "stdout",
     "output_type": "stream",
     "text": [
      "     visitor_id  orders group\n",
      "908  3967698036       3   [A]\n",
      "55    249864742       3   [B]\n",
      "478  2108163459       3   [A]\n",
      "687  2988190573       3   [A]\n",
      "890  3908431265       3   [A]\n",
      "138   611059232       3   [A]\n",
      "632  2742574263       3   [B]\n",
      "157   678354126       2   [A]\n",
      "323  1404560065       2   [B]\n",
      "452  1985475298       2   [B]\n"
     ]
    }
   ],
   "source": [
    "#сгруппируем данные по пользователю и посчитаем количество заказов для каждого пользователя\n",
    "ordersByUsers = (\n",
    "    orders.groupby('visitor_id', as_index=False)\n",
    "    .agg({'transaction_id': 'nunique', 'group': 'unique' })\n",
    ")\n",
    "\n",
    "#переименуем столбцы\n",
    "ordersByUsers.columns = ['visitor_id', 'orders', 'group']\n",
    "#проверим результат\n",
    "print(ordersByUsers.sort_values(by='orders', ascending=False).head(10)) "
   ]
  },
  {
   "cell_type": "markdown",
   "metadata": {},
   "source": [
    "Построим точечный график количества заказов."
   ]
  },
  {
   "cell_type": "code",
   "execution_count": 43,
   "metadata": {},
   "outputs": [
    {
     "data": {
      "text/plain": [
       "Text(0, 0.5, 'Количество заказов на пользователя')"
      ]
     },
     "execution_count": 43,
     "metadata": {},
     "output_type": "execute_result"
    },
    {
     "data": {
      "image/png": "[encoded data removed]",
      "text/plain": [
       "<Figure size 432x288 with 1 Axes>"
      ]
     },
     "metadata": {
      "needs_background": "light"
     },
     "output_type": "display_data"
    }
   ],
   "source": [
    "#задаем значения для оси X\n",
    "x_values = pd.Series(range(0,len(ordersByUsers)))\n",
    "#строим точечный график \n",
    "plt.scatter(x_values, ordersByUsers['orders']) \n",
    "plt.title('Количество заказов на пользователя')\n",
    "plt.ylabel('Количество заказов на пользователя')"
   ]
  },
  {
   "cell_type": "markdown",
   "metadata": {},
   "source": [
    "Более двух заказов на пользователя встречается редко. "
   ]
  },
  {
   "cell_type": "markdown",
   "metadata": {},
   "source": [
    "Посчитаем 95-й и 99-й перцентили количества заказов на пользователя."
   ]
  },
  {
   "cell_type": "code",
   "execution_count": 44,
   "metadata": {},
   "outputs": [
    {
     "name": "stdout",
     "output_type": "stream",
     "text": [
      "[1. 2.]\n"
     ]
    }
   ],
   "source": [
    "print(np.percentile(ordersByUsers['orders'], [95, 99])) "
   ]
  },
  {
   "cell_type": "markdown",
   "metadata": {},
   "source": [
    "Не более 5% пользователей оформляли больше чем 1 заказ. И 1% пользователей заказывали более 2 раз.\n",
    "Выберем 1 заказ на одного пользователя за верхнюю границу числа заказов."
   ]
  },
  {
   "cell_type": "markdown",
   "metadata": {},
   "source": [
    "### Стоимость заказов"
   ]
  },
  {
   "cell_type": "markdown",
   "metadata": {},
   "source": [
    "Подсчитаем стоимость заказов по пользователям."
   ]
  },
  {
   "cell_type": "code",
   "execution_count": 45,
   "metadata": {},
   "outputs": [
    {
     "data": {
      "text/plain": [
       "Text(0, 0.5, 'Стоимость заказов на пользователя')"
      ]
     },
     "execution_count": 45,
     "metadata": {},
     "output_type": "execute_result"
    },
    {
     "data": {
      "image/png": "[encoded data removed]",
      "text/plain": [
       "<Figure size 432x288 with 1 Axes>"
      ]
     },
     "metadata": {
      "needs_background": "light"
     },
     "output_type": "display_data"
    }
   ],
   "source": [
    "#задаем значения для оси X\n",
    "x_values = pd.Series(range(0, len(orders['revenue'])))\n",
    "#строим точечный график \n",
    "plt.scatter(x_values, orders['revenue'])\n",
    "plt.ylim(0, 100000)\n",
    "plt.title('Стоимость заказов на пользователя')\n",
    "plt.ylabel('Стоимость заказов на пользователя')"
   ]
  },
  {
   "cell_type": "markdown",
   "metadata": {},
   "source": [
    "Сумма заказов больше 30 000 встречается редко."
   ]
  },
  {
   "cell_type": "markdown",
   "metadata": {},
   "source": [
    "Посчитаем 95-й и 99-й перцентили стоимости заказов на пользователя."
   ]
  },
  {
   "cell_type": "code",
   "execution_count": 46,
   "metadata": {},
   "outputs": [
    {
     "name": "stdout",
     "output_type": "stream",
     "text": [
      "[26785. 53904.]\n"
     ]
    }
   ],
   "source": [
    "print(np.percentile(orders['revenue'], [95, 99])) "
   ]
  },
  {
   "cell_type": "markdown",
   "metadata": {},
   "source": [
    "Не более 5% пользователей оформляли заказы более чем на 26 785. И 1% пользователей заказывали более чем на 53 904. Выберем 27 000 сумму заказа на одного пользователя за верхнюю границу суммы заказов."
   ]
  },
  {
   "cell_type": "markdown",
   "metadata": {},
   "source": [
    "### Cтатистическая значимость различий в среднем чеке между группами по «сырым» данным"
   ]
  },
  {
   "cell_type": "markdown",
   "metadata": {},
   "source": [
    "Определим гипотезы:   \n",
    "**H0:** Cтатистически значимых различий в среднем чеке между группами нет  \n",
    "**H1:** Есть статистически значимые различия в среднем чеке между группами"
   ]
  },
  {
   "cell_type": "markdown",
   "metadata": {},
   "source": [
    "Посчитаем статистическую значимость различия в среднем чеке между группами.  \n",
    "\n",
    "Рассчитывать p-value будем по критерию Уилкоксона-Манна-Уитни."
   ]
  },
  {
   "cell_type": "code",
   "execution_count": 47,
   "metadata": {},
   "outputs": [
    {
     "name": "stdout",
     "output_type": "stream",
     "text": [
      "p-value: 0.829\n",
      "Относительное изменение стоимости заказов групп B и А: 0.287\n"
     ]
    }
   ],
   "source": [
    "# посчитаем количество посетителей в день в группе А\n",
    "visitorsADaily = visitors[visitors['group'] == 'A'][['date', 'visitors']]\n",
    "visitorsADaily.columns = ['date', 'visitorsPerDateA']\n",
    "\n",
    "# количество пользователей до выбранной даты включительно в группе A\n",
    "visitorsACummulative = visitorsADaily.apply(\n",
    "    lambda x: visitorsADaily[visitorsADaily['date'] <= x['date']].agg(\n",
    "        {'date': 'max', 'visitorsPerDateA': 'sum'}\n",
    "    ),\n",
    "    axis=1,\n",
    ")\n",
    "visitorsACummulative.columns = ['date', 'visitorsCummulativeA']\n",
    "\n",
    "# посчитаем количество посетителей в день в группе А\n",
    "visitorsBDaily = visitors[visitors['group'] == 'B'][['date', 'visitors']]\n",
    "visitorsBDaily.columns = ['date', 'visitorsPerDateB']\n",
    "\n",
    "# количество пользователей до выбранной даты включительно в группе B\n",
    "visitorsBCummulative = visitorsBDaily.apply(\n",
    "    lambda x: visitorsBDaily[visitorsBDaily['date'] <= x['date']].agg(\n",
    "        {'date': 'max', 'visitorsPerDateB': 'sum'}\n",
    "    ),\n",
    "    axis=1,\n",
    ")\n",
    "visitorsBCummulative.columns = ['date', 'visitorsCummulativeB']\n",
    "\n",
    "# количество заказов в день в группе А\n",
    "ordersADaily = (\n",
    "    orders[orders['group'] == 'A'][['date', 'transaction_id', 'visitor_id', 'revenue']]\n",
    "    .groupby('date', as_index=False)\n",
    "    .agg({'transaction_id': pd.Series.nunique, 'revenue': 'sum'})\n",
    ")\n",
    "ordersADaily.columns = ['date', 'ordersPerDateA', 'revenuePerDateA']\n",
    "\n",
    "# суммарное число заказов до выбранной даты включительно в группе A\n",
    "ordersACummulative = ordersADaily.apply(\n",
    "    lambda x: ordersADaily[ordersADaily['date'] <= x['date']].agg(\n",
    "        {'date': 'max', 'ordersPerDateA': 'sum', 'revenuePerDateA': 'sum'}\n",
    "    ),\n",
    "    axis=1,\n",
    ").sort_values(by=['date'])\n",
    "ordersACummulative.columns = [\n",
    "    'date',\n",
    "    'ordersCummulativeA',\n",
    "    'revenueCummulativeA',\n",
    "]\n",
    "\n",
    "# суммарное число заказов до выбранной даты включительно в группе B\n",
    "ordersBDaily = (\n",
    "    orders[orders['group'] == 'B'][['date', 'transaction_id', 'visitor_id', 'revenue']]\n",
    "    .groupby('date', as_index=False)\n",
    "    .agg({'transaction_id': pd.Series.nunique, 'revenue': 'sum'})\n",
    ")\n",
    "ordersBDaily.columns = ['date', 'ordersPerDateB', 'revenuePerDateB']\n",
    "\n",
    "# суммарное число заказов до выбранной даты включительно в группе B\n",
    "ordersBCummulative = ordersBDaily.apply(\n",
    "    lambda x: ordersBDaily[ordersBDaily['date'] <= x['date']].agg(\n",
    "        {'date': 'max', 'ordersPerDateB': 'sum', 'revenuePerDateB': 'sum'}\n",
    "    ),\n",
    "    axis=1,\n",
    ").sort_values(by=['date'])\n",
    "ordersBCummulative.columns = [\n",
    "    'date',\n",
    "    'ordersCummulativeB',\n",
    "    'revenueCummulativeB',\n",
    "]\n",
    "\n",
    "data = (\n",
    "    ordersADaily.merge(\n",
    "        ordersBDaily, left_on='date', right_on='date', how='left'\n",
    "    )\n",
    "    .merge(ordersACummulative, left_on='date', right_on='date', how='left')\n",
    "    .merge(ordersBCummulative, left_on='date', right_on='date', how='left')\n",
    "    .merge(visitorsADaily, left_on='date', right_on='date', how='left')\n",
    "    .merge(visitorsBDaily, left_on='date', right_on='date', how='left')\n",
    "    .merge(visitorsACummulative, left_on='date', right_on='date', how='left')\n",
    "    .merge(visitorsBCummulative, left_on='date', right_on='date', how='left')\n",
    ")\n",
    "\n",
    "# Вычисляем p-value и относительное изменение\n",
    "print('p-value: {0:.3f}'.format(stats.mannwhitneyu(orders[orders['group']=='A']['revenue'], orders[orders['group']=='B']['revenue'])[1]))\n",
    "print('Относительное изменение стоимости заказов групп B и А: {0:.3f}'.format(orders[orders['group']=='B']['revenue'].mean()/orders[orders['group']=='A']['revenue'].mean()-1)) "
   ]
  },
  {
   "cell_type": "markdown",
   "metadata": {},
   "source": [
    "p-value > 0.05. Нулевую гипотезу о том, что статистически значимых различий в среднем чеке между группами нет, **не отвергаем**.  \n",
    "\n",
    "Относительное изменение составляет 29%"
   ]
  },
  {
   "cell_type": "markdown",
   "metadata": {},
   "source": [
    "### Cтатистическая значимость различий в <s>конверсии</s>  среднем количестве заказов между группами по «сырым» данным"
   ]
  },
  {
   "cell_type": "markdown",
   "metadata": {},
   "source": [
    "Определим гипотезы:   \n",
    "**H0:** Cтатистически значимых различий в среднем количестве заказов между группами нет  \n",
    "**H1:** Есть статистически значимые различия в среднем количестве заказов между группами"
   ]
  },
  {
   "cell_type": "markdown",
   "metadata": {},
   "source": [
    "Посчитаем статистическую значимость различия в количестве заказов между группами."
   ]
  },
  {
   "cell_type": "code",
   "execution_count": 48,
   "metadata": {},
   "outputs": [],
   "source": [
    "# разделим датафрейм ordersByUsers по группам\n",
    "ordersByUsersA = ordersByUsers[ordersByUsers['group'] == 'A']\n",
    "ordersByUsersB = ordersByUsers[ordersByUsers['group'] == 'B']"
   ]
  },
  {
   "cell_type": "code",
   "execution_count": 49,
   "metadata": {},
   "outputs": [
    {
     "name": "stdout",
     "output_type": "stream",
     "text": [
      "p-value: 0.01102\n",
      "Относительное изменение количества заказов групп B и А: 0.160\n"
     ]
    }
   ],
   "source": [
    "# поставим каждому пользователю группы А количество заказов, которые он совершил\n",
    "sampleA = pd.concat(\n",
    "    [\n",
    "        ordersByUsersA['orders'],\n",
    "        pd.Series(\n",
    "            0,\n",
    "            index=np.arange(\n",
    "                data['visitorsPerDateA'].sum() - len(ordersByUsersA['orders'])\n",
    "            ),\n",
    "            name='orders',\n",
    "        ),\n",
    "    ],\n",
    "    axis=0,\n",
    ")\n",
    "\n",
    "# поставим каждому пользователю группы B количество заказов, которые он совершил\n",
    "sampleB = pd.concat(\n",
    "    [\n",
    "        ordersByUsersB['orders'],\n",
    "        pd.Series(\n",
    "            0,\n",
    "            index=np.arange(\n",
    "                data['visitorsPerDateB'].sum() - len(ordersByUsersB['orders'])\n",
    "            ),\n",
    "            name='orders',\n",
    "        ),\n",
    "    ],\n",
    "    axis=0,\n",
    ")\n",
    "\n",
    "# Вычисляем p-value и относительное изменение\n",
    "print(\"p-value: {0:.5f}\".format(stats.mannwhitneyu(sampleA, sampleB)[1]))\n",
    "print(\"Относительное изменение количества заказов групп B и А: {0:.3f}\".format(sampleB.mean() / sampleA.mean() - 1))"
   ]
  },
  {
   "cell_type": "markdown",
   "metadata": {},
   "source": [
    "p-value < 0.05. **Отвергаем** нулевую гипотезу о том, что статистически значимых различий в среднем числе заказов между группами нет.  Можно сделать предположения, что различия есть.\n",
    "\n",
    "Относительное изменение составляет 16%"
   ]
  },
  {
   "cell_type": "markdown",
   "metadata": {},
   "source": [
    "### Cтатистическая значимость различий в среднем чеке между группами по «очищенным» данным"
   ]
  },
  {
   "cell_type": "markdown",
   "metadata": {},
   "source": [
    "Отделим пользователей с большим количеством заказов и пользователей с дорогими заказами.  \n",
    "- Дорогими будем считать заказы более 28 000\n",
    "- Более 2-х заказов на пользователя будем считать большим количеством"
   ]
  },
  {
   "cell_type": "code",
   "execution_count": 50,
   "metadata": {},
   "outputs": [
    {
     "name": "stdout",
     "output_type": "stream",
     "text": [
      "568     113298937\n",
      "1099    148427295\n",
      "928     204675465\n",
      "55      249864742\n",
      "684     358944393\n",
      "Name: visitor_id, dtype: int64\n",
      "86\n"
     ]
    }
   ],
   "source": [
    "# отделим пользователей с большим количеством заказов \n",
    "usersWithManyOrders = pd.concat(\n",
    "    [\n",
    "        ordersByUsersA[ordersByUsersA['orders'] > 1]['visitor_id'],\n",
    "        ordersByUsersB[ordersByUsersB['orders'] > 1]['visitor_id'],\n",
    "    ],\n",
    "    axis=0,\n",
    ")\n",
    "\n",
    "# отделим пользователей с дорогими заказами\n",
    "usersWithExpensiveOrders = orders[orders['revenue'] > 27000]['visitor_id']\n",
    "\n",
    "# объединим оба датафрейма и выявим аномальных пользователей\n",
    "abnormalUsers = (\n",
    "    pd.concat([usersWithManyOrders, usersWithExpensiveOrders], axis=0)\n",
    "    .drop_duplicates()\n",
    "    .sort_values()\n",
    ")\n",
    "# проверим результат и выведем количество таких пользователей\n",
    "print(abnormalUsers.head(5))\n",
    "print(abnormalUsers.shape[0]) "
   ]
  },
  {
   "cell_type": "markdown",
   "metadata": {},
   "source": [
    "Найдено 86 аномальных пользователей. Теперь посчитаем статистическую значимость без учета этих пользователей."
   ]
  },
  {
   "cell_type": "code",
   "execution_count": 51,
   "metadata": {},
   "outputs": [
    {
     "name": "stdout",
     "output_type": "stream",
     "text": [
      "p-value: 0.727\n",
      "Относительное изменение стоимости заказов групп B и А: -0.034\n"
     ]
    }
   ],
   "source": [
    "# Вычисляем p-value и относительное изменение\n",
    "print(\n",
    "    'p-value: {0:.3f}'.format(\n",
    "        stats.mannwhitneyu(\n",
    "            orders[\n",
    "                np.logical_and(\n",
    "                    orders['group'] == 'A',\n",
    "                    np.logical_not(orders['visitor_id'].isin(abnormalUsers)),\n",
    "                )\n",
    "            ]['revenue'],\n",
    "            orders[\n",
    "                np.logical_and(\n",
    "                    orders['group'] == 'B',\n",
    "                    np.logical_not(orders['visitor_id'].isin(abnormalUsers)),\n",
    "                )\n",
    "            ]['revenue'],\n",
    "        )[1]\n",
    "    )\n",
    ")\n",
    "\n",
    "print(\n",
    "    \"Относительное изменение стоимости заказов групп B и А: {0:.3f}\".format(\n",
    "        orders[\n",
    "            np.logical_and(\n",
    "                orders['group'] == 'B',\n",
    "                np.logical_not(orders['visitor_id'].isin(abnormalUsers)),\n",
    "            )\n",
    "        ]['revenue'].mean()\n",
    "        / orders[\n",
    "            np.logical_and(\n",
    "                orders['group'] == 'A',\n",
    "                np.logical_not(orders['visitor_id'].isin(abnormalUsers)),\n",
    "            )\n",
    "        ]['revenue'].mean()\n",
    "        - 1\n",
    "    )\n",
    ") "
   ]
  },
  {
   "cell_type": "markdown",
   "metadata": {},
   "source": [
    "p-value > 0.05. Нулевую гипотезу о том, что статистически значимых различий в среднем чеке между группами нет, **не отвергаем**.  \n",
    "\n",
    "Относительное изменение составляет -3%"
   ]
  },
  {
   "cell_type": "markdown",
   "metadata": {},
   "source": [
    "### Cтатистическая значимость различий в <s>конверсии</s> среднем количестве заказов между группами по «очищеным» данным"
   ]
  },
  {
   "cell_type": "code",
   "execution_count": 52,
   "metadata": {},
   "outputs": [
    {
     "name": "stdout",
     "output_type": "stream",
     "text": [
      "p-value: 0.01593\n",
      "Относительное изменение количества заказов групп B и А: 0.174\n"
     ]
    }
   ],
   "source": [
    "# отфильтруем ordersByUsersA от аномальных пользователей\n",
    "sampleAFiltered = pd.concat(\n",
    "    [\n",
    "        ordersByUsersA[\n",
    "            np.logical_not(ordersByUsersA['visitor_id'].isin(abnormalUsers))\n",
    "        ]['orders'],\n",
    "        pd.Series(\n",
    "            0,\n",
    "            index=np.arange(\n",
    "                data['visitorsPerDateA'].sum() - len(ordersByUsersA['orders'])\n",
    "            ),\n",
    "            name='orders',\n",
    "        ),\n",
    "    ],\n",
    "    axis=0,\n",
    ")\n",
    "\n",
    "# отфильтруем ordersByUsersB от аномальных пользователей\n",
    "sampleBFiltered = pd.concat(\n",
    "    [\n",
    "        ordersByUsersB[\n",
    "            np.logical_not(ordersByUsersB['visitor_id'].isin(abnormalUsers))\n",
    "        ]['orders'],\n",
    "        pd.Series(\n",
    "            0,\n",
    "            index=np.arange(\n",
    "                data['visitorsPerDateB'].sum() - len(ordersByUsersB['orders'])\n",
    "            ),\n",
    "            name='orders',\n",
    "        ),\n",
    "    ],\n",
    "    axis=0,\n",
    ") \n",
    "\n",
    "# Вычисляем p-value и относительное изменение\n",
    "print('p-value: {0:.5f}'.format(stats.mannwhitneyu(sampleAFiltered, sampleBFiltered)[1]))\n",
    "print('Относительное изменение количества заказов групп B и А: {0:.3f}'.format(sampleBFiltered.mean()/sampleAFiltered.mean()-1)) "
   ]
  },
  {
   "cell_type": "markdown",
   "metadata": {},
   "source": [
    "p-value < 0.05. **Отвергаем** нулевую гипотезу о том, что статистически значимых различий в среднем чеке между группами нет. Можно предложить, что отличия есть.  \n",
    " \n",
    "\n",
    "Относительное изменение составляет 17%"
   ]
  },
  {
   "cell_type": "markdown",
   "metadata": {},
   "source": [
    "### Выводы о результатах теста"
   ]
  },
  {
   "cell_type": "markdown",
   "metadata": {},
   "source": [
    "- Есть статистически значимое различие по среднему количеству заказов между группами как по сырым данным, так и после фильтрации аномалий;\n",
    "- Нет статистически значимого различия по среднему чеку между группами как по сырым данным, так и после фильтрации аномалий;\n",
    "- График различия конверсии между группами сообщает, что результаты группы B лучше группы A: имеют тенденцию к росту;\n",
    "- График различия среднего чека колеблется. Сделать из этого графика определённые выводы нельзя.\n",
    "\n",
    "Тест можно остановить и зафиксировать победу группы B. По конверсии (количеству заказов) данная группа побеждает."
   ]
  },
  {
   "cell_type": "markdown",
   "metadata": {},
   "source": [
    "## Итоги"
   ]
  },
  {
   "cell_type": "markdown",
   "metadata": {},
   "source": [
    "1. В результате работы были приоретизированы гипотезы по фреймворкам 'ICE' и 'RICE'\n",
    "1. Результаты проведения А/B теста проанализованы. Группу B можно считать победителем. Гипотеза проверяемая данным тестом может привести к увеличению выдержки."
   ]
  }
 ],
 "metadata": {
  "ExecuteTimeLog": [
   {
    "duration": 1265,
    "start_time": "2022-08-02T12:46:07.591Z"
   },
   {
    "duration": 66,
    "start_time": "2022-08-02T12:46:08.858Z"
   },
   {
    "duration": 25,
    "start_time": "2022-08-02T12:46:08.926Z"
   },
   {
    "duration": 5,
    "start_time": "2022-08-02T12:46:41.663Z"
   },
   {
    "duration": 94,
    "start_time": "2022-08-02T12:47:50.919Z"
   },
   {
    "duration": 7,
    "start_time": "2022-08-02T12:47:55.991Z"
   },
   {
    "duration": 10,
    "start_time": "2022-08-02T12:54:25.363Z"
   },
   {
    "duration": 87,
    "start_time": "2022-08-02T12:54:51.113Z"
   },
   {
    "duration": 11,
    "start_time": "2022-08-02T12:56:02.658Z"
   },
   {
    "duration": 12,
    "start_time": "2022-08-02T12:56:08.705Z"
   },
   {
    "duration": 64,
    "start_time": "2022-08-02T12:59:23.308Z"
   },
   {
    "duration": 19,
    "start_time": "2022-08-02T13:01:30.846Z"
   },
   {
    "duration": 10,
    "start_time": "2022-08-02T13:04:19.013Z"
   },
   {
    "duration": 8,
    "start_time": "2022-08-02T13:04:24.651Z"
   },
   {
    "duration": 2,
    "start_time": "2022-08-02T13:08:08.566Z"
   },
   {
    "duration": 3,
    "start_time": "2022-08-02T13:13:33.716Z"
   },
   {
    "duration": 221,
    "start_time": "2022-08-02T13:25:08.955Z"
   },
   {
    "duration": 23,
    "start_time": "2022-08-02T13:25:42.947Z"
   },
   {
    "duration": 7,
    "start_time": "2022-08-02T13:26:37.629Z"
   },
   {
    "duration": 65,
    "start_time": "2022-08-02T13:26:59.621Z"
   },
   {
    "duration": 21,
    "start_time": "2022-08-02T13:27:28.659Z"
   },
   {
    "duration": 7,
    "start_time": "2022-08-02T13:31:19.322Z"
   },
   {
    "duration": 47,
    "start_time": "2022-08-02T13:32:29.358Z"
   },
   {
    "duration": 5,
    "start_time": "2022-08-02T13:33:30.658Z"
   },
   {
    "duration": 105,
    "start_time": "2022-08-02T13:33:53.227Z"
   },
   {
    "duration": 7,
    "start_time": "2022-08-02T13:33:57.678Z"
   },
   {
    "duration": 12,
    "start_time": "2022-08-02T13:37:00.924Z"
   },
   {
    "duration": 13,
    "start_time": "2022-08-02T13:37:47.871Z"
   },
   {
    "duration": 31,
    "start_time": "2022-08-02T13:39:38.436Z"
   },
   {
    "duration": 26,
    "start_time": "2022-08-02T13:40:02.824Z"
   },
   {
    "duration": 519,
    "start_time": "2022-08-02T13:41:18.268Z"
   },
   {
    "duration": 492,
    "start_time": "2022-08-02T13:41:56.028Z"
   },
   {
    "duration": 554,
    "start_time": "2022-08-02T13:54:07.670Z"
   },
   {
    "duration": 183,
    "start_time": "2022-08-02T13:57:57.921Z"
   },
   {
    "duration": 613,
    "start_time": "2022-08-02T13:59:15.756Z"
   },
   {
    "duration": 536,
    "start_time": "2022-08-02T13:59:32.236Z"
   },
   {
    "duration": 208,
    "start_time": "2022-08-02T14:00:04.157Z"
   },
   {
    "duration": 228,
    "start_time": "2022-08-02T14:00:17.490Z"
   },
   {
    "duration": 328,
    "start_time": "2022-08-02T14:00:24.664Z"
   },
   {
    "duration": 77,
    "start_time": "2022-08-02T14:09:43.126Z"
   },
   {
    "duration": 345,
    "start_time": "2022-08-02T14:10:44.166Z"
   },
   {
    "duration": 398,
    "start_time": "2022-08-02T14:11:41.727Z"
   },
   {
    "duration": 64,
    "start_time": "2022-08-02T14:29:29.712Z"
   },
   {
    "duration": 204,
    "start_time": "2022-08-02T14:30:24.455Z"
   },
   {
    "duration": 301,
    "start_time": "2022-08-02T14:30:40.128Z"
   },
   {
    "duration": 56,
    "start_time": "2022-08-03T16:46:26.764Z"
   },
   {
    "duration": 1311,
    "start_time": "2022-08-03T16:46:44.084Z"
   },
   {
    "duration": 63,
    "start_time": "2022-08-03T16:46:45.396Z"
   },
   {
    "duration": 19,
    "start_time": "2022-08-03T16:46:45.461Z"
   },
   {
    "duration": 5,
    "start_time": "2022-08-03T16:46:45.482Z"
   },
   {
    "duration": 20,
    "start_time": "2022-08-03T16:46:45.488Z"
   },
   {
    "duration": 13,
    "start_time": "2022-08-03T16:46:45.509Z"
   },
   {
    "duration": 11,
    "start_time": "2022-08-03T16:46:45.523Z"
   },
   {
    "duration": 153,
    "start_time": "2022-08-03T16:46:45.535Z"
   },
   {
    "duration": 13,
    "start_time": "2022-08-03T16:46:45.689Z"
   },
   {
    "duration": 4,
    "start_time": "2022-08-03T16:46:45.705Z"
   },
   {
    "duration": 10,
    "start_time": "2022-08-03T16:46:45.710Z"
   },
   {
    "duration": 15,
    "start_time": "2022-08-03T16:46:45.722Z"
   },
   {
    "duration": 19,
    "start_time": "2022-08-03T16:46:45.739Z"
   },
   {
    "duration": 11,
    "start_time": "2022-08-03T16:46:45.759Z"
   },
   {
    "duration": 23,
    "start_time": "2022-08-03T16:46:45.771Z"
   },
   {
    "duration": 561,
    "start_time": "2022-08-03T16:46:45.796Z"
   },
   {
    "duration": 225,
    "start_time": "2022-08-03T16:46:46.359Z"
   },
   {
    "duration": 386,
    "start_time": "2022-08-03T16:46:46.585Z"
   },
   {
    "duration": 226,
    "start_time": "2022-08-03T16:46:48.866Z"
   },
   {
    "duration": 240,
    "start_time": "2022-08-03T16:47:03.442Z"
   },
   {
    "duration": 345,
    "start_time": "2022-08-03T17:07:58.705Z"
   },
   {
    "duration": 313,
    "start_time": "2022-08-03T17:09:01.051Z"
   },
   {
    "duration": 102,
    "start_time": "2022-08-03T17:14:37.211Z"
   },
   {
    "duration": 9,
    "start_time": "2022-08-03T17:20:02.469Z"
   },
   {
    "duration": 13,
    "start_time": "2022-08-03T17:20:24.070Z"
   },
   {
    "duration": 14,
    "start_time": "2022-08-03T17:21:22.504Z"
   },
   {
    "duration": 9,
    "start_time": "2022-08-03T17:22:16.005Z"
   },
   {
    "duration": 9,
    "start_time": "2022-08-03T17:24:39.860Z"
   },
   {
    "duration": 100,
    "start_time": "2022-08-03T17:24:42.186Z"
   },
   {
    "duration": 4,
    "start_time": "2022-08-03T17:28:58.772Z"
   },
   {
    "duration": 9,
    "start_time": "2022-08-03T17:34:58.665Z"
   },
   {
    "duration": 171,
    "start_time": "2022-08-03T17:35:15.665Z"
   },
   {
    "duration": 124,
    "start_time": "2022-08-03T17:40:31.246Z"
   },
   {
    "duration": 123,
    "start_time": "2022-08-03T17:41:28.783Z"
   },
   {
    "duration": 129,
    "start_time": "2022-08-03T17:41:48.299Z"
   },
   {
    "duration": 126,
    "start_time": "2022-08-03T17:42:10.561Z"
   },
   {
    "duration": 120,
    "start_time": "2022-08-03T17:42:20.444Z"
   },
   {
    "duration": 4,
    "start_time": "2022-08-03T17:44:07.512Z"
   },
   {
    "duration": 48,
    "start_time": "2022-08-03T17:50:13.868Z"
   },
   {
    "duration": 92,
    "start_time": "2022-08-03T17:53:55.890Z"
   },
   {
    "duration": 96,
    "start_time": "2022-08-03T18:00:02.836Z"
   },
   {
    "duration": 98,
    "start_time": "2022-08-03T18:02:49.183Z"
   },
   {
    "duration": 198,
    "start_time": "2022-08-03T18:03:36.534Z"
   },
   {
    "duration": 202,
    "start_time": "2022-08-03T18:04:13.477Z"
   },
   {
    "duration": 3,
    "start_time": "2022-08-03T18:04:18.827Z"
   },
   {
    "duration": 33,
    "start_time": "2022-08-03T18:04:18.831Z"
   },
   {
    "duration": 14,
    "start_time": "2022-08-03T18:04:18.865Z"
   },
   {
    "duration": 10,
    "start_time": "2022-08-03T18:04:18.881Z"
   },
   {
    "duration": 9,
    "start_time": "2022-08-03T18:04:18.892Z"
   },
   {
    "duration": 11,
    "start_time": "2022-08-03T18:04:18.902Z"
   },
   {
    "duration": 9,
    "start_time": "2022-08-03T18:04:18.915Z"
   },
   {
    "duration": 71,
    "start_time": "2022-08-03T18:04:18.926Z"
   },
   {
    "duration": 13,
    "start_time": "2022-08-03T18:04:18.999Z"
   },
   {
    "duration": 5,
    "start_time": "2022-08-03T18:04:19.014Z"
   },
   {
    "duration": 13,
    "start_time": "2022-08-03T18:04:19.021Z"
   },
   {
    "duration": 15,
    "start_time": "2022-08-03T18:04:19.036Z"
   },
   {
    "duration": 6,
    "start_time": "2022-08-03T18:04:19.053Z"
   },
   {
    "duration": 48,
    "start_time": "2022-08-03T18:04:19.063Z"
   },
   {
    "duration": 12,
    "start_time": "2022-08-03T18:04:19.113Z"
   },
   {
    "duration": 487,
    "start_time": "2022-08-03T18:04:19.126Z"
   },
   {
    "duration": 226,
    "start_time": "2022-08-03T18:04:19.615Z"
   },
   {
    "duration": 307,
    "start_time": "2022-08-03T18:04:19.843Z"
   },
   {
    "duration": 242,
    "start_time": "2022-08-03T18:04:20.152Z"
   },
   {
    "duration": 359,
    "start_time": "2022-08-03T18:04:20.396Z"
   },
   {
    "duration": 8,
    "start_time": "2022-08-03T18:04:20.757Z"
   },
   {
    "duration": 129,
    "start_time": "2022-08-03T18:04:20.767Z"
   },
   {
    "duration": 14,
    "start_time": "2022-08-03T18:04:20.897Z"
   },
   {
    "duration": 129,
    "start_time": "2022-08-03T18:04:20.913Z"
   },
   {
    "duration": 3,
    "start_time": "2022-08-03T18:04:21.044Z"
   },
   {
    "duration": 282,
    "start_time": "2022-08-03T18:04:22.675Z"
   },
   {
    "duration": 195,
    "start_time": "2022-08-03T18:05:45.143Z"
   },
   {
    "duration": 201,
    "start_time": "2022-08-03T18:06:51.336Z"
   },
   {
    "duration": 145,
    "start_time": "2022-08-03T20:02:28.031Z"
   },
   {
    "duration": 252,
    "start_time": "2022-08-03T20:02:51.187Z"
   },
   {
    "duration": 1343,
    "start_time": "2022-08-04T07:24:05.464Z"
   },
   {
    "duration": 61,
    "start_time": "2022-08-04T07:24:06.809Z"
   },
   {
    "duration": 20,
    "start_time": "2022-08-04T07:24:06.872Z"
   },
   {
    "duration": 9,
    "start_time": "2022-08-04T07:24:06.894Z"
   },
   {
    "duration": 14,
    "start_time": "2022-08-04T07:24:06.905Z"
   },
   {
    "duration": 12,
    "start_time": "2022-08-04T07:24:06.920Z"
   },
   {
    "duration": 7,
    "start_time": "2022-08-04T07:24:06.934Z"
   },
   {
    "duration": 167,
    "start_time": "2022-08-04T07:24:06.943Z"
   },
   {
    "duration": 14,
    "start_time": "2022-08-04T07:24:07.112Z"
   },
   {
    "duration": 7,
    "start_time": "2022-08-04T07:24:07.127Z"
   },
   {
    "duration": 14,
    "start_time": "2022-08-04T07:24:07.135Z"
   },
   {
    "duration": 16,
    "start_time": "2022-08-04T07:24:07.150Z"
   },
   {
    "duration": 12,
    "start_time": "2022-08-04T07:24:07.168Z"
   },
   {
    "duration": 5,
    "start_time": "2022-08-04T07:24:07.211Z"
   },
   {
    "duration": 24,
    "start_time": "2022-08-04T07:24:07.218Z"
   },
   {
    "duration": 650,
    "start_time": "2022-08-04T07:24:07.244Z"
   },
   {
    "duration": 250,
    "start_time": "2022-08-04T07:24:07.896Z"
   },
   {
    "duration": 412,
    "start_time": "2022-08-04T07:24:08.148Z"
   },
   {
    "duration": 316,
    "start_time": "2022-08-04T07:24:08.562Z"
   },
   {
    "duration": 383,
    "start_time": "2022-08-04T07:24:08.880Z"
   },
   {
    "duration": 9,
    "start_time": "2022-08-04T07:24:09.265Z"
   },
   {
    "duration": 146,
    "start_time": "2022-08-04T07:24:09.276Z"
   },
   {
    "duration": 5,
    "start_time": "2022-08-04T07:24:09.424Z"
   },
   {
    "duration": 154,
    "start_time": "2022-08-04T07:24:09.430Z"
   },
   {
    "duration": 4,
    "start_time": "2022-08-04T07:24:09.586Z"
   },
   {
    "duration": 247,
    "start_time": "2022-08-04T07:24:09.591Z"
   },
   {
    "duration": 98,
    "start_time": "2022-08-04T07:24:11.715Z"
   },
   {
    "duration": 15,
    "start_time": "2022-08-04T07:29:47.463Z"
   },
   {
    "duration": 9,
    "start_time": "2022-08-04T07:35:01.267Z"
   },
   {
    "duration": 13,
    "start_time": "2022-08-04T07:35:47.546Z"
   },
   {
    "duration": 7,
    "start_time": "2022-08-04T07:36:35.644Z"
   },
   {
    "duration": 17,
    "start_time": "2022-08-04T07:36:40.214Z"
   },
   {
    "duration": 1052,
    "start_time": "2022-08-04T07:42:01.046Z"
   },
   {
    "duration": 42,
    "start_time": "2022-08-04T07:42:25.521Z"
   },
   {
    "duration": 31,
    "start_time": "2022-08-04T07:42:33.939Z"
   },
   {
    "duration": 18,
    "start_time": "2022-08-04T08:10:58.164Z"
   },
   {
    "duration": 164,
    "start_time": "2022-08-04T08:11:50.089Z"
   },
   {
    "duration": 36,
    "start_time": "2022-08-04T08:14:26.311Z"
   },
   {
    "duration": 25,
    "start_time": "2022-08-04T08:14:34.238Z"
   },
   {
    "duration": 13,
    "start_time": "2022-08-04T09:00:03.035Z"
   },
   {
    "duration": 1245,
    "start_time": "2022-08-04T18:35:28.811Z"
   },
   {
    "duration": 73,
    "start_time": "2022-08-04T18:35:30.058Z"
   },
   {
    "duration": 21,
    "start_time": "2022-08-04T18:35:30.132Z"
   },
   {
    "duration": 48,
    "start_time": "2022-08-04T18:35:30.155Z"
   },
   {
    "duration": 35,
    "start_time": "2022-08-04T18:35:30.205Z"
   },
   {
    "duration": 75,
    "start_time": "2022-08-04T18:35:30.241Z"
   },
   {
    "duration": 36,
    "start_time": "2022-08-04T18:35:30.318Z"
   },
   {
    "duration": 616,
    "start_time": "2022-08-04T18:35:30.356Z"
   },
   {
    "duration": 17,
    "start_time": "2022-08-04T18:35:30.973Z"
   },
   {
    "duration": 53,
    "start_time": "2022-08-04T18:35:30.993Z"
   },
   {
    "duration": 65,
    "start_time": "2022-08-04T18:35:31.048Z"
   },
   {
    "duration": 54,
    "start_time": "2022-08-04T18:35:31.115Z"
   },
   {
    "duration": 25,
    "start_time": "2022-08-04T18:35:31.170Z"
   },
   {
    "duration": 36,
    "start_time": "2022-08-04T18:35:31.196Z"
   },
   {
    "duration": 38,
    "start_time": "2022-08-04T18:35:31.234Z"
   },
   {
    "duration": 672,
    "start_time": "2022-08-04T18:35:31.274Z"
   },
   {
    "duration": 301,
    "start_time": "2022-08-04T18:35:31.949Z"
   },
   {
    "duration": 388,
    "start_time": "2022-08-04T18:35:32.252Z"
   },
   {
    "duration": 317,
    "start_time": "2022-08-04T18:35:32.642Z"
   },
   {
    "duration": 394,
    "start_time": "2022-08-04T18:35:32.961Z"
   },
   {
    "duration": 11,
    "start_time": "2022-08-04T18:35:33.356Z"
   },
   {
    "duration": 165,
    "start_time": "2022-08-04T18:35:33.368Z"
   },
   {
    "duration": 6,
    "start_time": "2022-08-04T18:35:33.535Z"
   },
   {
    "duration": 180,
    "start_time": "2022-08-04T18:35:33.543Z"
   },
   {
    "duration": 4,
    "start_time": "2022-08-04T18:35:33.726Z"
   },
   {
    "duration": 259,
    "start_time": "2022-08-04T18:35:33.732Z"
   },
   {
    "duration": 8,
    "start_time": "2022-08-04T18:35:33.993Z"
   },
   {
    "duration": 30,
    "start_time": "2022-08-04T18:35:34.005Z"
   },
   {
    "duration": 10,
    "start_time": "2022-08-04T18:35:34.036Z"
   },
   {
    "duration": 44,
    "start_time": "2022-08-04T18:35:34.048Z"
   },
   {
    "duration": 30,
    "start_time": "2022-08-04T18:35:34.094Z"
   },
   {
    "duration": 27,
    "start_time": "2022-08-04T19:02:41.268Z"
   },
   {
    "duration": 28,
    "start_time": "2022-08-04T19:03:01.328Z"
   },
   {
    "duration": 1263,
    "start_time": "2022-08-05T08:26:17.722Z"
   },
   {
    "duration": 89,
    "start_time": "2022-08-05T08:26:18.987Z"
   },
   {
    "duration": 13,
    "start_time": "2022-08-05T08:26:21.870Z"
   },
   {
    "duration": 24,
    "start_time": "2022-08-05T08:26:42.650Z"
   },
   {
    "duration": 21,
    "start_time": "2022-08-05T08:28:03.273Z"
   },
   {
    "duration": 91,
    "start_time": "2022-08-05T08:43:30.255Z"
   },
   {
    "duration": 3,
    "start_time": "2022-08-05T08:43:35.114Z"
   },
   {
    "duration": 33,
    "start_time": "2022-08-05T08:43:35.119Z"
   },
   {
    "duration": 32,
    "start_time": "2022-08-05T08:43:35.153Z"
   },
   {
    "duration": 7,
    "start_time": "2022-08-05T08:43:35.189Z"
   },
   {
    "duration": 9,
    "start_time": "2022-08-05T08:43:35.198Z"
   },
   {
    "duration": 11,
    "start_time": "2022-08-05T08:43:35.208Z"
   },
   {
    "duration": 8,
    "start_time": "2022-08-05T08:43:35.221Z"
   },
   {
    "duration": 195,
    "start_time": "2022-08-05T08:43:35.230Z"
   },
   {
    "duration": 14,
    "start_time": "2022-08-05T08:43:35.427Z"
   },
   {
    "duration": 8,
    "start_time": "2022-08-05T08:43:35.442Z"
   },
   {
    "duration": 26,
    "start_time": "2022-08-05T08:43:35.451Z"
   },
   {
    "duration": 21,
    "start_time": "2022-08-05T08:43:35.478Z"
   },
   {
    "duration": 5,
    "start_time": "2022-08-05T08:43:35.500Z"
   },
   {
    "duration": 6,
    "start_time": "2022-08-05T08:43:35.506Z"
   },
   {
    "duration": 12,
    "start_time": "2022-08-05T08:43:35.513Z"
   },
   {
    "duration": 6,
    "start_time": "2022-08-05T08:43:37.417Z"
   },
   {
    "duration": 7,
    "start_time": "2022-08-05T08:44:08.912Z"
   },
   {
    "duration": 6,
    "start_time": "2022-08-05T08:44:44.635Z"
   },
   {
    "duration": 7,
    "start_time": "2022-08-05T08:44:53.400Z"
   },
   {
    "duration": 10,
    "start_time": "2022-08-05T08:46:08.932Z"
   },
   {
    "duration": 16,
    "start_time": "2022-08-05T08:46:27.613Z"
   },
   {
    "duration": 81,
    "start_time": "2022-08-05T08:47:21.421Z"
   },
   {
    "duration": 8,
    "start_time": "2022-08-05T08:48:21.419Z"
   },
   {
    "duration": 4,
    "start_time": "2022-08-05T08:54:51.879Z"
   },
   {
    "duration": 15,
    "start_time": "2022-08-05T08:55:30.624Z"
   },
   {
    "duration": 15,
    "start_time": "2022-08-05T08:56:49.946Z"
   },
   {
    "duration": 14,
    "start_time": "2022-08-05T08:57:51.581Z"
   },
   {
    "duration": 1247,
    "start_time": "2022-08-05T09:04:11.083Z"
   },
   {
    "duration": 1334,
    "start_time": "2022-08-05T09:04:30.672Z"
   },
   {
    "duration": 16,
    "start_time": "2022-08-05T09:04:48.734Z"
   },
   {
    "duration": 13,
    "start_time": "2022-08-05T09:05:03.347Z"
   },
   {
    "duration": 14,
    "start_time": "2022-08-05T09:05:39.969Z"
   },
   {
    "duration": 1326,
    "start_time": "2022-08-05T09:05:42.001Z"
   },
   {
    "duration": 13,
    "start_time": "2022-08-05T09:07:01.409Z"
   },
   {
    "duration": 13,
    "start_time": "2022-08-05T09:07:08.381Z"
   },
   {
    "duration": 4,
    "start_time": "2022-08-05T09:07:29.635Z"
   },
   {
    "duration": 10,
    "start_time": "2022-08-05T09:07:34.371Z"
   },
   {
    "duration": 11,
    "start_time": "2022-08-05T09:07:48.949Z"
   },
   {
    "duration": 94,
    "start_time": "2022-08-05T09:08:25.581Z"
   },
   {
    "duration": 12,
    "start_time": "2022-08-05T09:08:57.665Z"
   },
   {
    "duration": 11,
    "start_time": "2022-08-05T09:09:13.690Z"
   },
   {
    "duration": 9,
    "start_time": "2022-08-05T09:11:44.216Z"
   },
   {
    "duration": 12,
    "start_time": "2022-08-05T09:11:57.640Z"
   },
   {
    "duration": 541,
    "start_time": "2022-08-05T09:12:29.354Z"
   },
   {
    "duration": 202,
    "start_time": "2022-08-05T09:14:05.425Z"
   },
   {
    "duration": 3,
    "start_time": "2022-08-05T09:25:58.838Z"
   },
   {
    "duration": 37,
    "start_time": "2022-08-05T09:25:58.842Z"
   },
   {
    "duration": 14,
    "start_time": "2022-08-05T09:25:58.881Z"
   },
   {
    "duration": 11,
    "start_time": "2022-08-05T09:25:58.896Z"
   },
   {
    "duration": 7,
    "start_time": "2022-08-05T09:25:58.909Z"
   },
   {
    "duration": 8,
    "start_time": "2022-08-05T09:25:58.917Z"
   },
   {
    "duration": 11,
    "start_time": "2022-08-05T09:25:58.926Z"
   },
   {
    "duration": 105,
    "start_time": "2022-08-05T09:25:58.938Z"
   },
   {
    "duration": 14,
    "start_time": "2022-08-05T09:25:59.044Z"
   },
   {
    "duration": 5,
    "start_time": "2022-08-05T09:25:59.060Z"
   },
   {
    "duration": 11,
    "start_time": "2022-08-05T09:25:59.067Z"
   },
   {
    "duration": 18,
    "start_time": "2022-08-05T09:25:59.079Z"
   },
   {
    "duration": 5,
    "start_time": "2022-08-05T09:25:59.098Z"
   },
   {
    "duration": 5,
    "start_time": "2022-08-05T09:25:59.104Z"
   },
   {
    "duration": 13,
    "start_time": "2022-08-05T09:25:59.110Z"
   },
   {
    "duration": 43,
    "start_time": "2022-08-05T09:25:59.124Z"
   },
   {
    "duration": 7,
    "start_time": "2022-08-05T09:25:59.169Z"
   },
   {
    "duration": 12,
    "start_time": "2022-08-05T09:25:59.178Z"
   },
   {
    "duration": 9,
    "start_time": "2022-08-05T09:25:59.192Z"
   },
   {
    "duration": 492,
    "start_time": "2022-08-05T09:25:59.203Z"
   },
   {
    "duration": 224,
    "start_time": "2022-08-05T09:25:59.696Z"
   },
   {
    "duration": 377,
    "start_time": "2022-08-05T09:25:59.922Z"
   },
   {
    "duration": 239,
    "start_time": "2022-08-05T09:26:00.301Z"
   },
   {
    "duration": 335,
    "start_time": "2022-08-05T09:26:00.542Z"
   },
   {
    "duration": 9,
    "start_time": "2022-08-05T09:26:00.879Z"
   },
   {
    "duration": 224,
    "start_time": "2022-08-05T09:26:00.889Z"
   },
   {
    "duration": 4,
    "start_time": "2022-08-05T09:26:01.115Z"
   },
   {
    "duration": 129,
    "start_time": "2022-08-05T09:26:01.121Z"
   },
   {
    "duration": 5,
    "start_time": "2022-08-05T09:26:01.256Z"
   },
   {
    "duration": 212,
    "start_time": "2022-08-05T09:26:01.262Z"
   },
   {
    "duration": 12,
    "start_time": "2022-08-05T09:26:01.475Z"
   },
   {
    "duration": 0,
    "start_time": "2022-08-05T09:26:01.488Z"
   },
   {
    "duration": 0,
    "start_time": "2022-08-05T09:26:01.489Z"
   },
   {
    "duration": 0,
    "start_time": "2022-08-05T09:26:01.491Z"
   },
   {
    "duration": 0,
    "start_time": "2022-08-05T09:26:01.492Z"
   },
   {
    "duration": 1029,
    "start_time": "2022-08-05T09:29:48.829Z"
   },
   {
    "duration": 25,
    "start_time": "2022-08-05T09:29:49.860Z"
   },
   {
    "duration": 18,
    "start_time": "2022-08-05T09:29:49.886Z"
   },
   {
    "duration": 4,
    "start_time": "2022-08-05T09:29:49.905Z"
   },
   {
    "duration": 5,
    "start_time": "2022-08-05T09:29:49.911Z"
   },
   {
    "duration": 10,
    "start_time": "2022-08-05T09:29:49.917Z"
   },
   {
    "duration": 8,
    "start_time": "2022-08-05T09:29:49.928Z"
   },
   {
    "duration": 91,
    "start_time": "2022-08-05T09:29:49.937Z"
   },
   {
    "duration": 14,
    "start_time": "2022-08-05T09:29:50.030Z"
   },
   {
    "duration": 8,
    "start_time": "2022-08-05T09:29:50.047Z"
   },
   {
    "duration": 12,
    "start_time": "2022-08-05T09:29:50.056Z"
   },
   {
    "duration": 17,
    "start_time": "2022-08-05T09:29:50.070Z"
   },
   {
    "duration": 5,
    "start_time": "2022-08-05T09:29:50.089Z"
   },
   {
    "duration": 10,
    "start_time": "2022-08-05T09:29:50.096Z"
   },
   {
    "duration": 13,
    "start_time": "2022-08-05T09:29:50.107Z"
   },
   {
    "duration": 34,
    "start_time": "2022-08-05T09:29:50.121Z"
   },
   {
    "duration": 5,
    "start_time": "2022-08-05T09:29:50.157Z"
   },
   {
    "duration": 12,
    "start_time": "2022-08-05T09:29:50.164Z"
   },
   {
    "duration": 7,
    "start_time": "2022-08-05T09:29:50.177Z"
   },
   {
    "duration": 534,
    "start_time": "2022-08-05T09:29:50.185Z"
   },
   {
    "duration": 218,
    "start_time": "2022-08-05T09:29:50.721Z"
   },
   {
    "duration": 324,
    "start_time": "2022-08-05T09:29:50.941Z"
   },
   {
    "duration": 223,
    "start_time": "2022-08-05T09:29:51.267Z"
   },
   {
    "duration": 302,
    "start_time": "2022-08-05T09:29:51.492Z"
   },
   {
    "duration": 8,
    "start_time": "2022-08-05T09:29:51.795Z"
   },
   {
    "duration": 139,
    "start_time": "2022-08-05T09:29:51.805Z"
   },
   {
    "duration": 11,
    "start_time": "2022-08-05T09:29:51.945Z"
   },
   {
    "duration": 121,
    "start_time": "2022-08-05T09:29:51.959Z"
   },
   {
    "duration": 4,
    "start_time": "2022-08-05T09:29:52.081Z"
   },
   {
    "duration": 207,
    "start_time": "2022-08-05T09:29:52.086Z"
   },
   {
    "duration": 93,
    "start_time": "2022-08-05T09:29:52.295Z"
   },
   {
    "duration": 0,
    "start_time": "2022-08-05T09:29:52.389Z"
   },
   {
    "duration": 0,
    "start_time": "2022-08-05T09:29:52.390Z"
   },
   {
    "duration": 0,
    "start_time": "2022-08-05T09:29:52.391Z"
   },
   {
    "duration": 0,
    "start_time": "2022-08-05T09:29:52.392Z"
   },
   {
    "duration": 13,
    "start_time": "2022-08-05T09:30:54.393Z"
   },
   {
    "duration": 12,
    "start_time": "2022-08-05T09:30:58.786Z"
   },
   {
    "duration": 6,
    "start_time": "2022-08-05T09:31:22.512Z"
   },
   {
    "duration": 100,
    "start_time": "2022-08-05T09:33:01.786Z"
   },
   {
    "duration": 3,
    "start_time": "2022-08-05T09:33:10.161Z"
   },
   {
    "duration": 34,
    "start_time": "2022-08-05T09:33:10.165Z"
   },
   {
    "duration": 19,
    "start_time": "2022-08-05T09:33:10.200Z"
   },
   {
    "duration": 5,
    "start_time": "2022-08-05T09:33:10.221Z"
   },
   {
    "duration": 7,
    "start_time": "2022-08-05T09:33:10.229Z"
   },
   {
    "duration": 11,
    "start_time": "2022-08-05T09:33:10.238Z"
   },
   {
    "duration": 9,
    "start_time": "2022-08-05T09:33:10.255Z"
   },
   {
    "duration": 93,
    "start_time": "2022-08-05T09:33:10.266Z"
   },
   {
    "duration": 14,
    "start_time": "2022-08-05T09:33:10.361Z"
   },
   {
    "duration": 8,
    "start_time": "2022-08-05T09:33:10.377Z"
   },
   {
    "duration": 12,
    "start_time": "2022-08-05T09:33:10.387Z"
   },
   {
    "duration": 20,
    "start_time": "2022-08-05T09:33:10.400Z"
   },
   {
    "duration": 4,
    "start_time": "2022-08-05T09:33:10.422Z"
   },
   {
    "duration": 6,
    "start_time": "2022-08-05T09:33:10.429Z"
   },
   {
    "duration": 33,
    "start_time": "2022-08-05T09:33:10.436Z"
   },
   {
    "duration": 17,
    "start_time": "2022-08-05T09:33:10.470Z"
   },
   {
    "duration": 5,
    "start_time": "2022-08-05T09:33:10.489Z"
   },
   {
    "duration": 17,
    "start_time": "2022-08-05T09:33:10.496Z"
   },
   {
    "duration": 10,
    "start_time": "2022-08-05T09:33:10.514Z"
   },
   {
    "duration": 530,
    "start_time": "2022-08-05T09:33:10.525Z"
   },
   {
    "duration": 210,
    "start_time": "2022-08-05T09:33:11.056Z"
   },
   {
    "duration": 294,
    "start_time": "2022-08-05T09:33:11.268Z"
   },
   {
    "duration": 218,
    "start_time": "2022-08-05T09:33:11.563Z"
   },
   {
    "duration": 315,
    "start_time": "2022-08-05T09:33:11.783Z"
   },
   {
    "duration": 9,
    "start_time": "2022-08-05T09:33:12.099Z"
   },
   {
    "duration": 136,
    "start_time": "2022-08-05T09:33:12.109Z"
   },
   {
    "duration": 9,
    "start_time": "2022-08-05T09:33:12.247Z"
   },
   {
    "duration": 121,
    "start_time": "2022-08-05T09:33:12.258Z"
   },
   {
    "duration": 4,
    "start_time": "2022-08-05T09:33:12.380Z"
   },
   {
    "duration": 232,
    "start_time": "2022-08-05T09:33:12.385Z"
   },
   {
    "duration": 127,
    "start_time": "2022-08-05T09:33:12.619Z"
   },
   {
    "duration": 28,
    "start_time": "2022-08-05T09:33:12.747Z"
   },
   {
    "duration": 1281,
    "start_time": "2022-08-05T09:33:12.777Z"
   },
   {
    "duration": 0,
    "start_time": "2022-08-05T09:33:14.060Z"
   },
   {
    "duration": 0,
    "start_time": "2022-08-05T09:33:14.061Z"
   },
   {
    "duration": 56,
    "start_time": "2022-08-05T09:35:23.638Z"
   },
   {
    "duration": 9,
    "start_time": "2022-08-05T09:35:36.564Z"
   },
   {
    "duration": 13,
    "start_time": "2022-08-05T09:35:50.195Z"
   },
   {
    "duration": 3,
    "start_time": "2022-08-05T09:35:58.510Z"
   },
   {
    "duration": 36,
    "start_time": "2022-08-05T09:35:58.515Z"
   },
   {
    "duration": 15,
    "start_time": "2022-08-05T09:35:58.553Z"
   },
   {
    "duration": 6,
    "start_time": "2022-08-05T09:35:58.570Z"
   },
   {
    "duration": 10,
    "start_time": "2022-08-05T09:35:58.577Z"
   },
   {
    "duration": 8,
    "start_time": "2022-08-05T09:35:58.589Z"
   },
   {
    "duration": 10,
    "start_time": "2022-08-05T09:35:58.599Z"
   },
   {
    "duration": 92,
    "start_time": "2022-08-05T09:35:58.610Z"
   },
   {
    "duration": 13,
    "start_time": "2022-08-05T09:35:58.704Z"
   },
   {
    "duration": 8,
    "start_time": "2022-08-05T09:35:58.719Z"
   },
   {
    "duration": 10,
    "start_time": "2022-08-05T09:35:58.729Z"
   },
   {
    "duration": 17,
    "start_time": "2022-08-05T09:35:58.741Z"
   },
   {
    "duration": 4,
    "start_time": "2022-08-05T09:35:58.760Z"
   },
   {
    "duration": 7,
    "start_time": "2022-08-05T09:35:58.765Z"
   },
   {
    "duration": 13,
    "start_time": "2022-08-05T09:35:58.773Z"
   },
   {
    "duration": 14,
    "start_time": "2022-08-05T09:35:58.787Z"
   },
   {
    "duration": 7,
    "start_time": "2022-08-05T09:35:58.803Z"
   },
   {
    "duration": 13,
    "start_time": "2022-08-05T09:35:58.812Z"
   },
   {
    "duration": 29,
    "start_time": "2022-08-05T09:35:58.826Z"
   },
   {
    "duration": 449,
    "start_time": "2022-08-05T09:35:58.857Z"
   },
   {
    "duration": 223,
    "start_time": "2022-08-05T09:35:59.308Z"
   },
   {
    "duration": 322,
    "start_time": "2022-08-05T09:35:59.533Z"
   },
   {
    "duration": 215,
    "start_time": "2022-08-05T09:35:59.857Z"
   },
   {
    "duration": 316,
    "start_time": "2022-08-05T09:36:00.074Z"
   },
   {
    "duration": 67,
    "start_time": "2022-08-05T09:36:00.392Z"
   },
   {
    "duration": 229,
    "start_time": "2022-08-05T09:36:00.460Z"
   },
   {
    "duration": 4,
    "start_time": "2022-08-05T09:36:00.691Z"
   },
   {
    "duration": 142,
    "start_time": "2022-08-05T09:36:00.696Z"
   },
   {
    "duration": 14,
    "start_time": "2022-08-05T09:36:00.841Z"
   },
   {
    "duration": 206,
    "start_time": "2022-08-05T09:36:00.857Z"
   },
   {
    "duration": 8,
    "start_time": "2022-08-05T09:36:01.064Z"
   },
   {
    "duration": 47,
    "start_time": "2022-08-05T09:36:01.074Z"
   },
   {
    "duration": 9,
    "start_time": "2022-08-05T09:36:01.123Z"
   },
   {
    "duration": 18,
    "start_time": "2022-08-05T09:36:01.133Z"
   },
   {
    "duration": 24,
    "start_time": "2022-08-05T09:36:01.152Z"
   },
   {
    "duration": 9,
    "start_time": "2022-08-05T09:39:09.627Z"
   },
   {
    "duration": 18,
    "start_time": "2022-08-05T09:39:28.299Z"
   },
   {
    "duration": 23,
    "start_time": "2022-08-05T09:39:52.265Z"
   },
   {
    "duration": 23,
    "start_time": "2022-08-05T09:40:53.342Z"
   },
   {
    "duration": 1196,
    "start_time": "2022-08-05T12:07:37.567Z"
   },
   {
    "duration": 26,
    "start_time": "2022-08-05T12:07:38.766Z"
   },
   {
    "duration": 19,
    "start_time": "2022-08-05T12:07:38.794Z"
   },
   {
    "duration": 4,
    "start_time": "2022-08-05T12:07:38.815Z"
   },
   {
    "duration": 6,
    "start_time": "2022-08-05T12:07:38.821Z"
   },
   {
    "duration": 10,
    "start_time": "2022-08-05T12:07:38.829Z"
   },
   {
    "duration": 8,
    "start_time": "2022-08-05T12:07:38.841Z"
   },
   {
    "duration": 102,
    "start_time": "2022-08-05T12:07:38.851Z"
   },
   {
    "duration": 15,
    "start_time": "2022-08-05T12:07:38.954Z"
   },
   {
    "duration": 6,
    "start_time": "2022-08-05T12:07:38.973Z"
   },
   {
    "duration": 13,
    "start_time": "2022-08-05T12:07:38.981Z"
   },
   {
    "duration": 19,
    "start_time": "2022-08-05T12:07:38.995Z"
   },
   {
    "duration": 7,
    "start_time": "2022-08-05T12:07:39.016Z"
   },
   {
    "duration": 7,
    "start_time": "2022-08-05T12:07:39.024Z"
   },
   {
    "duration": 16,
    "start_time": "2022-08-05T12:07:39.032Z"
   },
   {
    "duration": 17,
    "start_time": "2022-08-05T12:07:39.050Z"
   },
   {
    "duration": 8,
    "start_time": "2022-08-05T12:07:39.092Z"
   },
   {
    "duration": 15,
    "start_time": "2022-08-05T12:07:39.102Z"
   },
   {
    "duration": 8,
    "start_time": "2022-08-05T12:07:39.119Z"
   },
   {
    "duration": 634,
    "start_time": "2022-08-05T12:07:39.128Z"
   },
   {
    "duration": 257,
    "start_time": "2022-08-05T12:07:39.764Z"
   },
   {
    "duration": 315,
    "start_time": "2022-08-05T12:07:40.023Z"
   },
   {
    "duration": 273,
    "start_time": "2022-08-05T12:07:40.340Z"
   },
   {
    "duration": 330,
    "start_time": "2022-08-05T12:07:40.614Z"
   },
   {
    "duration": 68,
    "start_time": "2022-08-05T12:07:40.945Z"
   },
   {
    "duration": 151,
    "start_time": "2022-08-05T12:07:41.015Z"
   },
   {
    "duration": 4,
    "start_time": "2022-08-05T12:07:41.167Z"
   },
   {
    "duration": 151,
    "start_time": "2022-08-05T12:07:41.174Z"
   },
   {
    "duration": 4,
    "start_time": "2022-08-05T12:07:41.327Z"
   },
   {
    "duration": 244,
    "start_time": "2022-08-05T12:07:41.333Z"
   },
   {
    "duration": 15,
    "start_time": "2022-08-05T12:07:41.578Z"
   },
   {
    "duration": 28,
    "start_time": "2022-08-05T12:07:41.595Z"
   },
   {
    "duration": 9,
    "start_time": "2022-08-05T12:07:41.625Z"
   },
   {
    "duration": 19,
    "start_time": "2022-08-05T12:07:41.635Z"
   },
   {
    "duration": 43,
    "start_time": "2022-08-05T12:07:41.656Z"
   }
  ],
  "kernelspec": {
   "display_name": "Python 3 (ipykernel)",
   "language": "python",
   "name": "python3"
  },
  "language_info": {
   "codemirror_mode": {
    "name": "ipython",
    "version": 3
   },
   "file_extension": ".py",
   "mimetype": "text/x-python",
   "name": "python",
   "nbconvert_exporter": "python",
   "pygments_lexer": "ipython3",
   "version": "3.9.7"
  },
  "toc": {
   "base_numbering": 1,
   "nav_menu": {
    "height": "293px",
    "width": "303px"
   },
   "number_sections": true,
   "sideBar": true,
   "skip_h1_title": true,
   "title_cell": "Table of Contents",
   "title_sidebar": "Contents",
   "toc_cell": false,
   "toc_position": {
    "height": "calc(100% - 180px)",
    "left": "10px",
    "top": "150px",
    "width": "288px"
   },
   "toc_section_display": true,
   "toc_window_display": true
  }
 },
 "nbformat": 4,
 "nbformat_minor": 2
}
